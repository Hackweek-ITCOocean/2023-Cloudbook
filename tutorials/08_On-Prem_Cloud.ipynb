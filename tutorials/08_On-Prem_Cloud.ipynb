{
 "cells": [
  {
   "cell_type": "markdown",
   "metadata": {},
   "source": [
    "# 08. Pairing Cloud and non-Cloud Data\n",
    "\n",
    "## Accessing and harmonizing data located within and outside of the NASA Earthdata Cloud"
   ]
  },
  {
   "cell_type": "markdown",
   "metadata": {},
   "source": [
    "---"
   ]
  },
  {
   "cell_type": "markdown",
   "metadata": {},
   "source": [
    "## Timing\n",
    "\n",
    "- Exercise: 45 min\n"
   ]
  },
  {
   "cell_type": "markdown",
   "metadata": {},
   "source": [
    "---"
   ]
  },
  {
   "cell_type": "markdown",
   "metadata": {},
   "source": [
    "## Summary\n",
    "\n",
    "This tutorial will combine several workflow steps and components from the previous days, demonstrating the process of using the geolocation of data available outside of the Earthdata Cloud to then access coincident variables of cloud-accessible data. This may be a common use case as NASA Earthdata continues to migrate to the cloud, producing a \"hybrid\" data archive across Amazon Web Services (AWS) and original on-premise data storage systems. Additionally, you may also want to combine field measurements with remote sensing data available on the Earthdata Cloud.\n",
    "\n",
    "This specific example explores the pairing of the ICESat-2 [ATL07 Sea Ice Height](https://nsidc.org/data/atl07) data product, currently (as of November 2021) available publicly via direct download at the NSIDC DAAC, along with Sea Surface Temperature (SST) from the GHRSST MODIS L2 dataset ([MODIS_A-JPL-L2P-v2019.0](https://cmr.earthdata.nasa.gov/search/concepts/C1693233348-PODAAC.html)) available from PO.DAAC on the Earthdata Cloud. \n",
    "\n",
    "The use case we're looking at today centers over an area north of Greenland for a single day in June, where a melt pond was observed using the [NASA OpenAltimetry](https://openaltimetry.org/data/icesat2/?start_date=2019-06-22&annoId=180) application. Melt ponds are an important feature of Arctic sea ice dynamics, leading to an decrease in sea ice albedo and other changes in heat balance. Many NASA Earthdata datasets produce variables including sea ice albedo, sea surface temperature, air temperature, and sea ice height, which can be used to better understand these dynamics. This notebook walks through the discovery, subsetting, and accessing of multiple data products coincident over an Arctic Ocean melt pond region, demonstrating how to obtain and harmonize coincident remote sensing data.\n",
    "\n",
    "### Objectives\n",
    "\n",
    "1. Practice skills searching for data in CMR, determining storage location and granule coverage across two datasets over an area of interest"
   ]
  },
  {
   "cell_type": "markdown",
   "metadata": {},
   "source": [
    "---"
   ]
  },
  {
   "cell_type": "markdown",
   "metadata": {},
   "source": [
    "## Import packages"
   ]
  },
  {
   "cell_type": "code",
   "execution_count": 27,
   "metadata": {},
   "outputs": [],
   "source": [
    "import os\n",
    "from pathlib import Path\n",
    "from pprint import pprint\n",
    "\n",
    "import warnings  # Temporary!!!\n",
    "\n",
    "# Access EDS\n",
    "import netrc\n",
    "import requests\n",
    "\n",
    "# Access AWS S3\n",
    "import s3fs\n",
    "\n",
    "# Read and work with datasets\n",
    "import numpy as np\n",
    "import xarray as xr\n",
    "\n",
    "# For plotting\n",
    "import matplotlib.pyplot as plt\n",
    "import cartopy.crs as ccrs\n",
    "from shapely.geometry import box\n",
    "\n",
    "# For resample swath to grid\n",
    "import pyresample"
   ]
  },
  {
   "cell_type": "markdown",
   "metadata": {
    "tags": []
   },
   "source": [
    "## Determine storage location of datasets of interest\n",
    "\n",
    "First, let's see whether our datasets of interest reside in the Earthdata Cloud or whether they reside on premise, or \"on prem\" at a local data center."
   ]
  },
  {
   "cell_type": "markdown",
   "metadata": {},
   "source": [
    "We are building off of the CMR introductory tutorial, beginning with a collection search."
   ]
  },
  {
   "cell_type": "code",
   "execution_count": 2,
   "metadata": {
    "tags": []
   },
   "outputs": [],
   "source": [
    "cmr_search_url = 'https://cmr.earthdata.nasa.gov/search'"
   ]
  },
  {
   "cell_type": "markdown",
   "metadata": {},
   "source": [
    "We want to search by collection to inspect the access and service options that exist:"
   ]
  },
  {
   "cell_type": "code",
   "execution_count": 3,
   "metadata": {},
   "outputs": [],
   "source": [
    "cmr_collection_url = f'{cmr_search_url}/{\"collections\"}'"
   ]
  },
  {
   "cell_type": "markdown",
   "metadata": {},
   "source": [
    "In the CMR introduction tutorial, we explored cloud-hosted collections from different DAAC providers, and identified the CMR concept-id for a given dataset id (also referred to as a short_name). Here we'll start with two datasets that we want to explore over a coincident area and time:"
   ]
  },
  {
   "cell_type": "code",
   "execution_count": 4,
   "metadata": {},
   "outputs": [],
   "source": [
    "modis_name = 'MODIS_A-JPL-L2P-v2019.0'\n",
    "icesat2_name = 'ATL07'"
   ]
  },
  {
   "cell_type": "markdown",
   "metadata": {
    "tags": []
   },
   "source": [
    "Like in the intro tutorial, we're going to first determine what concept-ids are returned for the MODIS dataset. First, retrieve collection results based on the MODIS `short_name`:"
   ]
  },
  {
   "cell_type": "code",
   "execution_count": 5,
   "metadata": {},
   "outputs": [],
   "source": [
    "response = requests.get(cmr_collection_url, \n",
    "                        params={\n",
    "                            'short_name': modis_name,\n",
    "                            },\n",
    "                        headers={\n",
    "                            'Accept': 'application/json'\n",
    "                            }\n",
    "                       )\n",
    "response = response.json()"
   ]
  },
  {
   "cell_type": "markdown",
   "metadata": {},
   "source": [
    "For each collection result, print out the CMR concept-id and version:"
   ]
  },
  {
   "cell_type": "code",
   "execution_count": 6,
   "metadata": {},
   "outputs": [
    {
     "name": "stdout",
     "output_type": "stream",
     "text": [
      "C1940473819-POCLOUD version:2019.0\n",
      "C1693233348-PODAAC version:2019.0\n"
     ]
    }
   ],
   "source": [
    "collections = response['feed']['entry']\n",
    "\n",
    "for collection in collections:\n",
    "    print(f'{collection[\"id\"]} {\"version:\"}{collection[\"version_id\"]}')"
   ]
  },
  {
   "cell_type": "markdown",
   "metadata": {},
   "source": [
    "Two collections are returned, both at version 2019.0. We can see from the suffix of the id that one is associated with \"POCLOUD\" versus \"PODAAC\". That gives us a clue in terms of where the data are hosted, but we can also use the `cloud_hosted` parameter set to True to confirm."
   ]
  },
  {
   "cell_type": "code",
   "execution_count": 7,
   "metadata": {
    "tags": []
   },
   "outputs": [],
   "source": [
    "response = requests.get(cmr_collection_url, \n",
    "                        params={\n",
    "                            'short_name': modis_name,\n",
    "                            'cloud_hosted': 'True',\n",
    "                            },\n",
    "                        headers={\n",
    "                            'Accept': 'application/json'\n",
    "                            }\n",
    "                       )\n",
    "response = response.json()"
   ]
  },
  {
   "cell_type": "code",
   "execution_count": 8,
   "metadata": {},
   "outputs": [
    {
     "name": "stdout",
     "output_type": "stream",
     "text": [
      "C1940473819-POCLOUD version:2019.0\n"
     ]
    }
   ],
   "source": [
    "collections = response['feed']['entry']\n",
    "\n",
    "for collection in collections:\n",
    "    print(f'{collection[\"id\"]} {\"version:\"}{collection[\"version_id\"]}')"
   ]
  },
  {
   "cell_type": "markdown",
   "metadata": {},
   "source": [
    "We will save this concept-id to use later on when we access the data granules."
   ]
  },
  {
   "cell_type": "code",
   "execution_count": 9,
   "metadata": {},
   "outputs": [],
   "source": [
    "modis_concept_id = collections[0][\"id\"]"
   ]
  },
  {
   "cell_type": "markdown",
   "metadata": {},
   "source": [
    "Now we will try our ICESat-2 dataset to see what id's are returned for a given dataset name."
   ]
  },
  {
   "cell_type": "code",
   "execution_count": 10,
   "metadata": {},
   "outputs": [],
   "source": [
    "response = requests.get(cmr_collection_url, \n",
    "                        params={\n",
    "                            'short_name': icesat2_name,\n",
    "                            },\n",
    "                        headers={\n",
    "                            'Accept': 'application/json'\n",
    "                            }\n",
    "                       )\n",
    "response = response.json()"
   ]
  },
  {
   "cell_type": "code",
   "execution_count": 11,
   "metadata": {},
   "outputs": [
    {
     "name": "stdout",
     "output_type": "stream",
     "text": [
      "C1706334166-NSIDC_ECS version:003\n",
      "C2003771980-NSIDC_ECS version:004\n"
     ]
    }
   ],
   "source": [
    "collections = response['feed']['entry']\n",
    "\n",
    "for collection in collections:\n",
    "    print(f'{collection[\"id\"]} {\"version:\"}{collection[\"version_id\"]}')"
   ]
  },
  {
   "cell_type": "markdown",
   "metadata": {},
   "source": [
    "Two separate datasets exist in the CMR, one at version 3 and one at version 4. Let's see if these are `cloud_hosted`:"
   ]
  },
  {
   "cell_type": "code",
   "execution_count": 12,
   "metadata": {
    "tags": []
   },
   "outputs": [],
   "source": [
    "response = requests.get(cmr_collection_url, \n",
    "                        params={\n",
    "                            'short_name': icesat2_name,\n",
    "                            'cloud_hosted': 'False',\n",
    "                            },\n",
    "                        headers={\n",
    "                            'Accept': 'application/json'\n",
    "                            }\n",
    "                       )\n",
    "response = response.json()"
   ]
  },
  {
   "cell_type": "code",
   "execution_count": 13,
   "metadata": {},
   "outputs": [
    {
     "name": "stdout",
     "output_type": "stream",
     "text": [
      "C2003771980-NSIDC_ECS version:004\n",
      "C1706334166-NSIDC_ECS version:003\n"
     ]
    }
   ],
   "source": [
    "collections = response['feed']['entry']\n",
    "\n",
    "for collection in collections:\n",
    "    print(f'{collection[\"id\"]} {\"version:\"}{collection[\"version_id\"]}')"
   ]
  },
  {
   "cell_type": "markdown",
   "metadata": {},
   "source": [
    "When set to `False`, we get our collections back. We have now determined that we have a copy of the MODIS dataset in the cloud, whereas the ICESat-2 dataset (both versions) remains \"on premise\", residing in a local data center. "
   ]
  },
  {
   "cell_type": "markdown",
   "metadata": {},
   "source": [
    "Save the ATL07 concept ID:"
   ]
  },
  {
   "cell_type": "code",
   "execution_count": 13,
   "metadata": {},
   "outputs": [],
   "source": [
    "icesat2_concept_id = collections[0][\"id\"]"
   ]
  },
  {
   "cell_type": "markdown",
   "metadata": {
    "tags": []
   },
   "source": [
    "## Specify time range and area of interest \n",
    "\n",
    "We are going to focus on getting data for an area north of Greenland for a single day in June.\n",
    "\n",
    "These `bounding_box` and `temporal` variables will be used for data search, subset, and access below"
   ]
  },
  {
   "cell_type": "code",
   "execution_count": 14,
   "metadata": {},
   "outputs": [],
   "source": [
    "# Bounding Box spatial parameter in decimal degree 'W,S,E,N' format.\n",
    "bounding_box = '-62.8,81.7,-56.4,83'\n",
    "\n",
    "# Each date in yyyy-MM-ddTHH:mm:ssZ format; date range in start,end format\n",
    "temporal = '2019-06-22T00:00:00Z,2019-06-22T23:59:59Z'"
   ]
  },
  {
   "cell_type": "markdown",
   "metadata": {},
   "source": [
    "Perform a granule search over our time and area of interest. How many granules are returned?"
   ]
  },
  {
   "cell_type": "code",
   "execution_count": 15,
   "metadata": {},
   "outputs": [],
   "source": [
    "granule_url = f'{cmr_search_url}/{\"granules\"}'"
   ]
  },
  {
   "cell_type": "code",
   "execution_count": 16,
   "metadata": {},
   "outputs": [
    {
     "name": "stdout",
     "output_type": "stream",
     "text": [
      "2\n"
     ]
    }
   ],
   "source": [
    "response = requests.get(granule_url, \n",
    "                        params={\n",
    "                            'concept_id': icesat2_concept_id,\n",
    "                            'temporal': temporal,\n",
    "                            'bounding_box': bounding_box,\n",
    "                            'page_size': 200,\n",
    "                            },\n",
    "                        headers={\n",
    "                            'Accept': 'application/json'\n",
    "                            }\n",
    "                       )\n",
    "print(response.headers['CMR-Hits'])"
   ]
  },
  {
   "cell_type": "markdown",
   "metadata": {},
   "source": [
    "Print the file names, size, and links:"
   ]
  },
  {
   "cell_type": "code",
   "execution_count": 17,
   "metadata": {},
   "outputs": [
    {
     "name": "stdout",
     "output_type": "stream",
     "text": [
      "ATL07-01_20190622055317_12980301_003_02.h5 234.2848100662 https://n5eil01u.ecs.nsidc.org/DP7/ATLAS/ATL07.003/2019.06.22/ATL07-01_20190622055317_12980301_003_02.h5\n",
      "ATL07-01_20190622200154_13070301_003_02.h5 227.4169692993 https://n5eil01u.ecs.nsidc.org/DP7/ATLAS/ATL07.003/2019.06.22/ATL07-01_20190622200154_13070301_003_02.h5\n"
     ]
    }
   ],
   "source": [
    "granules = response.json()['feed']['entry']\n",
    "for granule in granules:\n",
    "    print(f'{granule[\"producer_granule_id\"]} {granule[\"granule_size\"]} {granule[\"links\"][0][\"href\"]}')"
   ]
  },
  {
   "cell_type": "markdown",
   "metadata": {},
   "source": [
    "## Download ICESat-2 ATL07 granule\n",
    "\n",
    "[TODO] Describe what services are available, including icepyx (provide references), but just direct download for simplicity. Describe that this is being \"downloaded\" to our cloud environment - what does that mean in terms of cost, etc.\n",
    "\n",
    "We've found 2 granules.  We'll download the first one and write it to a file with the same name as the `producer_granule_id`.\n",
    "\n",
    "We need the url for the granule as well.  This is `href` links we printed out above."
   ]
  },
  {
   "cell_type": "code",
   "execution_count": 18,
   "metadata": {},
   "outputs": [],
   "source": [
    "icesat_id = granules[0][\"producer_granule_id\"]\n",
    "icesat_url = granules[0]['links'][0]['href']"
   ]
  },
  {
   "cell_type": "markdown",
   "metadata": {},
   "source": [
    "To retrieve the granule data, we use the `requests.get()` method, which will utilize the .netrc file on the backend to authenticate the request against Earthdata Login.  "
   ]
  },
  {
   "cell_type": "code",
   "execution_count": 19,
   "metadata": {},
   "outputs": [],
   "source": [
    "r = requests.get(icesat_url)"
   ]
  },
  {
   "cell_type": "markdown",
   "metadata": {},
   "source": [
    "The response returned by requests has the same structure as all the other responses: a header and contents.  The header information has information about the response, including the size of the data we downloaded in bytes. "
   ]
  },
  {
   "cell_type": "code",
   "execution_count": 20,
   "metadata": {},
   "outputs": [
    {
     "name": "stdout",
     "output_type": "stream",
     "text": [
      "Date: Wed, 17 Nov 2021 20:15:33 GMT\n",
      "Server: Apache\n",
      "Vary: User-Agent\n",
      "Content-Disposition: attachment\n",
      "Content-Length: 245665429\n",
      "Keep-Alive: timeout=15, max=100\n",
      "Connection: Keep-Alive\n"
     ]
    }
   ],
   "source": [
    "for k, v in r.headers.items():\n",
    "    print(f'{k}: {v}')"
   ]
  },
  {
   "cell_type": "markdown",
   "metadata": {},
   "source": [
    "The contents needs to be saved to a file.  To keep the directory clean, we will create a `downloads` directory to store the file.  We can use a shell command to do this or use the `makedirs` method from the `os` package. "
   ]
  },
  {
   "cell_type": "code",
   "execution_count": 21,
   "metadata": {},
   "outputs": [],
   "source": [
    "os.makedirs(\"downloads\", exist_ok=True)"
   ]
  },
  {
   "cell_type": "markdown",
   "metadata": {},
   "source": [
    "You should see a `downloads` directory in the file browser."
   ]
  },
  {
   "cell_type": "markdown",
   "metadata": {},
   "source": [
    "To write the data to a file, we use `open` to open a file.  We need to specify that the file is open for writing by using the _write-mode_ `w`.  We also need to specify that we want to write bytes by setting the _binary-mode_ `b`.  This is important because the response contents are bytes.  The default mode for `open` is `text-mode`. So make sure you use `b`.\n",
    "\n",
    "We'll use the `with` statement _context-manager_ to open the file, write the contents of the response, and then close the file.  Once the data in `r.content` is written sucessfully to the file, or if there is an error, the file is closed by the _context-manager_.\n",
    "\n",
    "We also need to prepend the `downloads` path to the filename.  We do this using `Path` from the `pathlib` package in the standard library."
   ]
  },
  {
   "cell_type": "code",
   "execution_count": 22,
   "metadata": {},
   "outputs": [],
   "source": [
    "outfile = Path('downloads', icesat_id)"
   ]
  },
  {
   "cell_type": "code",
   "execution_count": 23,
   "metadata": {},
   "outputs": [],
   "source": [
    "if not outfile.exists():\n",
    "    with open(outfile, 'wb') as f:\n",
    "        f.write(r.content)"
   ]
  },
  {
   "cell_type": "markdown",
   "metadata": {},
   "source": [
    "Check to make sure it is downloaded."
   ]
  },
  {
   "cell_type": "code",
   "execution_count": 24,
   "metadata": {
    "tags": []
   },
   "outputs": [
    {
     "name": "stdout",
     "output_type": "stream",
     "text": [
      "total 2372948\n",
      "-rw-r--r-- 1 jovyan jovyan   21576707 Nov  4 22:48 20190622231000-JPL-L2P_GHRSST-SSTskin-MODIS_A-D-v02.0-fv01.0.nc\n",
      "-rw-r--r-- 1 jovyan jovyan 1914044034 Nov 12 17:03 ATL03_20190622061415_12980304_004_01.h5\n",
      "-rw-r--r-- 1 jovyan jovyan  245665429 Nov 17 20:16 ATL07-01_20190622055317_12980301_003_02.h5\n",
      "-rw-r--r-- 1 jovyan jovyan  248607461 Nov 16 22:01 ATL07-01_20190622055317_12980301_004_01.h5\n"
     ]
    }
   ],
   "source": [
    "ls -l ./downloads"
   ]
  },
  {
   "cell_type": "code",
   "execution_count": 25,
   "metadata": {},
   "outputs": [
    {
     "data": {
      "text/plain": [
       "PosixPath('downloads/ATL07-01_20190622055317_12980301_003_02.h5')"
      ]
     },
     "execution_count": 25,
     "metadata": {},
     "output_type": "execute_result"
    }
   ],
   "source": [
    "outfile"
   ]
  },
  {
   "cell_type": "markdown",
   "metadata": {},
   "source": [
    "`ATL07-01_20190622055317_12980301_004_01.h5` is an HDF5 file.  `xarray` can open this but you need to tell it which group to read the data from.  In this case we read the sea ice segment height data for ground-track 1 left-beam."
   ]
  },
  {
   "cell_type": "code",
   "execution_count": 28,
   "metadata": {},
   "outputs": [
    {
     "data": {
      "text/html": [
       "<div><svg style=\"position: absolute; width: 0; height: 0; overflow: hidden\">\n",
       "<defs>\n",
       "<symbol id=\"icon-database\" viewBox=\"0 0 32 32\">\n",
       "<path d=\"M16 0c-8.837 0-16 2.239-16 5v4c0 2.761 7.163 5 16 5s16-2.239 16-5v-4c0-2.761-7.163-5-16-5z\"></path>\n",
       "<path d=\"M16 17c-8.837 0-16-2.239-16-5v6c0 2.761 7.163 5 16 5s16-2.239 16-5v-6c0 2.761-7.163 5-16 5z\"></path>\n",
       "<path d=\"M16 26c-8.837 0-16-2.239-16-5v6c0 2.761 7.163 5 16 5s16-2.239 16-5v-6c0 2.761-7.163 5-16 5z\"></path>\n",
       "</symbol>\n",
       "<symbol id=\"icon-file-text2\" viewBox=\"0 0 32 32\">\n",
       "<path d=\"M28.681 7.159c-0.694-0.947-1.662-2.053-2.724-3.116s-2.169-2.030-3.116-2.724c-1.612-1.182-2.393-1.319-2.841-1.319h-15.5c-1.378 0-2.5 1.121-2.5 2.5v27c0 1.378 1.122 2.5 2.5 2.5h23c1.378 0 2.5-1.122 2.5-2.5v-19.5c0-0.448-0.137-1.23-1.319-2.841zM24.543 5.457c0.959 0.959 1.712 1.825 2.268 2.543h-4.811v-4.811c0.718 0.556 1.584 1.309 2.543 2.268zM28 29.5c0 0.271-0.229 0.5-0.5 0.5h-23c-0.271 0-0.5-0.229-0.5-0.5v-27c0-0.271 0.229-0.5 0.5-0.5 0 0 15.499-0 15.5 0v7c0 0.552 0.448 1 1 1h7v19.5z\"></path>\n",
       "<path d=\"M23 26h-14c-0.552 0-1-0.448-1-1s0.448-1 1-1h14c0.552 0 1 0.448 1 1s-0.448 1-1 1z\"></path>\n",
       "<path d=\"M23 22h-14c-0.552 0-1-0.448-1-1s0.448-1 1-1h14c0.552 0 1 0.448 1 1s-0.448 1-1 1z\"></path>\n",
       "<path d=\"M23 18h-14c-0.552 0-1-0.448-1-1s0.448-1 1-1h14c0.552 0 1 0.448 1 1s-0.448 1-1 1z\"></path>\n",
       "</symbol>\n",
       "</defs>\n",
       "</svg>\n",
       "<style>/* CSS stylesheet for displaying xarray objects in jupyterlab.\n",
       " *\n",
       " */\n",
       "\n",
       ":root {\n",
       "  --xr-font-color0: var(--jp-content-font-color0, rgba(0, 0, 0, 1));\n",
       "  --xr-font-color2: var(--jp-content-font-color2, rgba(0, 0, 0, 0.54));\n",
       "  --xr-font-color3: var(--jp-content-font-color3, rgba(0, 0, 0, 0.38));\n",
       "  --xr-border-color: var(--jp-border-color2, #e0e0e0);\n",
       "  --xr-disabled-color: var(--jp-layout-color3, #bdbdbd);\n",
       "  --xr-background-color: var(--jp-layout-color0, white);\n",
       "  --xr-background-color-row-even: var(--jp-layout-color1, white);\n",
       "  --xr-background-color-row-odd: var(--jp-layout-color2, #eeeeee);\n",
       "}\n",
       "\n",
       "html[theme=dark],\n",
       "body.vscode-dark {\n",
       "  --xr-font-color0: rgba(255, 255, 255, 1);\n",
       "  --xr-font-color2: rgba(255, 255, 255, 0.54);\n",
       "  --xr-font-color3: rgba(255, 255, 255, 0.38);\n",
       "  --xr-border-color: #1F1F1F;\n",
       "  --xr-disabled-color: #515151;\n",
       "  --xr-background-color: #111111;\n",
       "  --xr-background-color-row-even: #111111;\n",
       "  --xr-background-color-row-odd: #313131;\n",
       "}\n",
       "\n",
       ".xr-wrap {\n",
       "  display: block;\n",
       "  min-width: 300px;\n",
       "  max-width: 700px;\n",
       "}\n",
       "\n",
       ".xr-text-repr-fallback {\n",
       "  /* fallback to plain text repr when CSS is not injected (untrusted notebook) */\n",
       "  display: none;\n",
       "}\n",
       "\n",
       ".xr-header {\n",
       "  padding-top: 6px;\n",
       "  padding-bottom: 6px;\n",
       "  margin-bottom: 4px;\n",
       "  border-bottom: solid 1px var(--xr-border-color);\n",
       "}\n",
       "\n",
       ".xr-header > div,\n",
       ".xr-header > ul {\n",
       "  display: inline;\n",
       "  margin-top: 0;\n",
       "  margin-bottom: 0;\n",
       "}\n",
       "\n",
       ".xr-obj-type,\n",
       ".xr-array-name {\n",
       "  margin-left: 2px;\n",
       "  margin-right: 10px;\n",
       "}\n",
       "\n",
       ".xr-obj-type {\n",
       "  color: var(--xr-font-color2);\n",
       "}\n",
       "\n",
       ".xr-sections {\n",
       "  padding-left: 0 !important;\n",
       "  display: grid;\n",
       "  grid-template-columns: 150px auto auto 1fr 20px 20px;\n",
       "}\n",
       "\n",
       ".xr-section-item {\n",
       "  display: contents;\n",
       "}\n",
       "\n",
       ".xr-section-item input {\n",
       "  display: none;\n",
       "}\n",
       "\n",
       ".xr-section-item input + label {\n",
       "  color: var(--xr-disabled-color);\n",
       "}\n",
       "\n",
       ".xr-section-item input:enabled + label {\n",
       "  cursor: pointer;\n",
       "  color: var(--xr-font-color2);\n",
       "}\n",
       "\n",
       ".xr-section-item input:enabled + label:hover {\n",
       "  color: var(--xr-font-color0);\n",
       "}\n",
       "\n",
       ".xr-section-summary {\n",
       "  grid-column: 1;\n",
       "  color: var(--xr-font-color2);\n",
       "  font-weight: 500;\n",
       "}\n",
       "\n",
       ".xr-section-summary > span {\n",
       "  display: inline-block;\n",
       "  padding-left: 0.5em;\n",
       "}\n",
       "\n",
       ".xr-section-summary-in:disabled + label {\n",
       "  color: var(--xr-font-color2);\n",
       "}\n",
       "\n",
       ".xr-section-summary-in + label:before {\n",
       "  display: inline-block;\n",
       "  content: '►';\n",
       "  font-size: 11px;\n",
       "  width: 15px;\n",
       "  text-align: center;\n",
       "}\n",
       "\n",
       ".xr-section-summary-in:disabled + label:before {\n",
       "  color: var(--xr-disabled-color);\n",
       "}\n",
       "\n",
       ".xr-section-summary-in:checked + label:before {\n",
       "  content: '▼';\n",
       "}\n",
       "\n",
       ".xr-section-summary-in:checked + label > span {\n",
       "  display: none;\n",
       "}\n",
       "\n",
       ".xr-section-summary,\n",
       ".xr-section-inline-details {\n",
       "  padding-top: 4px;\n",
       "  padding-bottom: 4px;\n",
       "}\n",
       "\n",
       ".xr-section-inline-details {\n",
       "  grid-column: 2 / -1;\n",
       "}\n",
       "\n",
       ".xr-section-details {\n",
       "  display: none;\n",
       "  grid-column: 1 / -1;\n",
       "  margin-bottom: 5px;\n",
       "}\n",
       "\n",
       ".xr-section-summary-in:checked ~ .xr-section-details {\n",
       "  display: contents;\n",
       "}\n",
       "\n",
       ".xr-array-wrap {\n",
       "  grid-column: 1 / -1;\n",
       "  display: grid;\n",
       "  grid-template-columns: 20px auto;\n",
       "}\n",
       "\n",
       ".xr-array-wrap > label {\n",
       "  grid-column: 1;\n",
       "  vertical-align: top;\n",
       "}\n",
       "\n",
       ".xr-preview {\n",
       "  color: var(--xr-font-color3);\n",
       "}\n",
       "\n",
       ".xr-array-preview,\n",
       ".xr-array-data {\n",
       "  padding: 0 5px !important;\n",
       "  grid-column: 2;\n",
       "}\n",
       "\n",
       ".xr-array-data,\n",
       ".xr-array-in:checked ~ .xr-array-preview {\n",
       "  display: none;\n",
       "}\n",
       "\n",
       ".xr-array-in:checked ~ .xr-array-data,\n",
       ".xr-array-preview {\n",
       "  display: inline-block;\n",
       "}\n",
       "\n",
       ".xr-dim-list {\n",
       "  display: inline-block !important;\n",
       "  list-style: none;\n",
       "  padding: 0 !important;\n",
       "  margin: 0;\n",
       "}\n",
       "\n",
       ".xr-dim-list li {\n",
       "  display: inline-block;\n",
       "  padding: 0;\n",
       "  margin: 0;\n",
       "}\n",
       "\n",
       ".xr-dim-list:before {\n",
       "  content: '(';\n",
       "}\n",
       "\n",
       ".xr-dim-list:after {\n",
       "  content: ')';\n",
       "}\n",
       "\n",
       ".xr-dim-list li:not(:last-child):after {\n",
       "  content: ',';\n",
       "  padding-right: 5px;\n",
       "}\n",
       "\n",
       ".xr-has-index {\n",
       "  font-weight: bold;\n",
       "}\n",
       "\n",
       ".xr-var-list,\n",
       ".xr-var-item {\n",
       "  display: contents;\n",
       "}\n",
       "\n",
       ".xr-var-item > div,\n",
       ".xr-var-item label,\n",
       ".xr-var-item > .xr-var-name span {\n",
       "  background-color: var(--xr-background-color-row-even);\n",
       "  margin-bottom: 0;\n",
       "}\n",
       "\n",
       ".xr-var-item > .xr-var-name:hover span {\n",
       "  padding-right: 5px;\n",
       "}\n",
       "\n",
       ".xr-var-list > li:nth-child(odd) > div,\n",
       ".xr-var-list > li:nth-child(odd) > label,\n",
       ".xr-var-list > li:nth-child(odd) > .xr-var-name span {\n",
       "  background-color: var(--xr-background-color-row-odd);\n",
       "}\n",
       "\n",
       ".xr-var-name {\n",
       "  grid-column: 1;\n",
       "}\n",
       "\n",
       ".xr-var-dims {\n",
       "  grid-column: 2;\n",
       "}\n",
       "\n",
       ".xr-var-dtype {\n",
       "  grid-column: 3;\n",
       "  text-align: right;\n",
       "  color: var(--xr-font-color2);\n",
       "}\n",
       "\n",
       ".xr-var-preview {\n",
       "  grid-column: 4;\n",
       "}\n",
       "\n",
       ".xr-var-name,\n",
       ".xr-var-dims,\n",
       ".xr-var-dtype,\n",
       ".xr-preview,\n",
       ".xr-attrs dt {\n",
       "  white-space: nowrap;\n",
       "  overflow: hidden;\n",
       "  text-overflow: ellipsis;\n",
       "  padding-right: 10px;\n",
       "}\n",
       "\n",
       ".xr-var-name:hover,\n",
       ".xr-var-dims:hover,\n",
       ".xr-var-dtype:hover,\n",
       ".xr-attrs dt:hover {\n",
       "  overflow: visible;\n",
       "  width: auto;\n",
       "  z-index: 1;\n",
       "}\n",
       "\n",
       ".xr-var-attrs,\n",
       ".xr-var-data {\n",
       "  display: none;\n",
       "  background-color: var(--xr-background-color) !important;\n",
       "  padding-bottom: 5px !important;\n",
       "}\n",
       "\n",
       ".xr-var-attrs-in:checked ~ .xr-var-attrs,\n",
       ".xr-var-data-in:checked ~ .xr-var-data {\n",
       "  display: block;\n",
       "}\n",
       "\n",
       ".xr-var-data > table {\n",
       "  float: right;\n",
       "}\n",
       "\n",
       ".xr-var-name span,\n",
       ".xr-var-data,\n",
       ".xr-attrs {\n",
       "  padding-left: 25px !important;\n",
       "}\n",
       "\n",
       ".xr-attrs,\n",
       ".xr-var-attrs,\n",
       ".xr-var-data {\n",
       "  grid-column: 1 / -1;\n",
       "}\n",
       "\n",
       "dl.xr-attrs {\n",
       "  padding: 0;\n",
       "  margin: 0;\n",
       "  display: grid;\n",
       "  grid-template-columns: 125px auto;\n",
       "}\n",
       "\n",
       ".xr-attrs dt,\n",
       ".xr-attrs dd {\n",
       "  padding: 0;\n",
       "  margin: 0;\n",
       "  float: left;\n",
       "  padding-right: 10px;\n",
       "  width: auto;\n",
       "}\n",
       "\n",
       ".xr-attrs dt {\n",
       "  font-weight: normal;\n",
       "  grid-column: 1;\n",
       "}\n",
       "\n",
       ".xr-attrs dt:hover span {\n",
       "  display: inline-block;\n",
       "  background: var(--xr-background-color);\n",
       "  padding-right: 10px;\n",
       "}\n",
       "\n",
       ".xr-attrs dd {\n",
       "  grid-column: 2;\n",
       "  white-space: pre-wrap;\n",
       "  word-break: break-all;\n",
       "}\n",
       "\n",
       ".xr-icon-database,\n",
       ".xr-icon-file-text2 {\n",
       "  display: inline-block;\n",
       "  vertical-align: middle;\n",
       "  width: 1em;\n",
       "  height: 1.5em !important;\n",
       "  stroke-width: 0;\n",
       "  stroke: currentColor;\n",
       "  fill: currentColor;\n",
       "}\n",
       "</style><pre class='xr-text-repr-fallback'>&lt;xarray.Dataset&gt;\n",
       "Dimensions:                (segment: 235653)\n",
       "Dimensions without coordinates: segment\n",
       "Data variables:\n",
       "    latitude               (segment) float64 82.38 82.38 82.38 ... 72.61 72.61\n",
       "    longitude              (segment) float64 -55.11 -55.11 ... 145.1 145.1\n",
       "    delta_time             (segment) float64 4.642e+07 4.642e+07 ... 4.642e+07\n",
       "    height_segment_height  (segment) float32 nan nan nan ... -0.2221 -0.2359</pre><div class='xr-wrap' hidden><div class='xr-header'><div class='xr-obj-type'>xarray.Dataset</div></div><ul class='xr-sections'><li class='xr-section-item'><input id='section-1821804e-7bae-457f-9b35-53323dacd77f' class='xr-section-summary-in' type='checkbox' disabled ><label for='section-1821804e-7bae-457f-9b35-53323dacd77f' class='xr-section-summary'  title='Expand/collapse section'>Dimensions:</label><div class='xr-section-inline-details'><ul class='xr-dim-list'><li><span>segment</span>: 235653</li></ul></div><div class='xr-section-details'></div></li><li class='xr-section-item'><input id='section-a0642730-fbc7-4914-b6af-f73515c09a94' class='xr-section-summary-in' type='checkbox' disabled ><label for='section-a0642730-fbc7-4914-b6af-f73515c09a94' class='xr-section-summary'  title='Expand/collapse section'>Coordinates: <span>(0)</span></label><div class='xr-section-inline-details'></div><div class='xr-section-details'><ul class='xr-var-list'></ul></div></li><li class='xr-section-item'><input id='section-5c48b797-b75d-4e3c-9429-08d092f22224' class='xr-section-summary-in' type='checkbox'  checked><label for='section-5c48b797-b75d-4e3c-9429-08d092f22224' class='xr-section-summary' >Data variables: <span>(4)</span></label><div class='xr-section-inline-details'></div><div class='xr-section-details'><ul class='xr-var-list'><li class='xr-var-item'><div class='xr-var-name'><span>latitude</span></div><div class='xr-var-dims'>(segment)</div><div class='xr-var-dtype'>float64</div><div class='xr-var-preview xr-preview'>82.38 82.38 82.38 ... 72.61 72.61</div><input id='attrs-4b49a0b1-ad03-466e-968d-421634b612b2' class='xr-var-attrs-in' type='checkbox' ><label for='attrs-4b49a0b1-ad03-466e-968d-421634b612b2' title='Show/Hide attributes'><svg class='icon xr-icon-file-text2'><use xlink:href='#icon-file-text2'></use></svg></label><input id='data-623b22c7-b884-438f-bdba-15ac9f130977' class='xr-var-data-in' type='checkbox'><label for='data-623b22c7-b884-438f-bdba-15ac9f130977' title='Show/Hide data repr'><svg class='icon xr-icon-database'><use xlink:href='#icon-database'></use></svg></label><div class='xr-var-attrs'><dl class='xr-attrs'><dt><span>contentType :</span></dt><dd>referenceInformation</dd><dt><span>coordinates :</span></dt><dd>delta_time longitude</dd><dt><span>description :</span></dt><dd>Latitude, WGS84, North=+, Lat of segment center</dd><dt><span>long_name :</span></dt><dd>Latitude</dd><dt><span>source :</span></dt><dd>ATBD, section 4.4</dd><dt><span>standard_name :</span></dt><dd>latitude</dd><dt><span>units :</span></dt><dd>degrees_north</dd><dt><span>valid_max :</span></dt><dd>90.0</dd><dt><span>valid_min :</span></dt><dd>-90.0</dd></dl></div><div class='xr-var-data'><pre>array([82.38429903, 82.38429903, 82.38429903, ..., 72.60985896,\n",
       "       72.60978751, 72.60972243])</pre></div></li><li class='xr-var-item'><div class='xr-var-name'><span>longitude</span></div><div class='xr-var-dims'>(segment)</div><div class='xr-var-dtype'>float64</div><div class='xr-var-preview xr-preview'>-55.11 -55.11 ... 145.1 145.1</div><input id='attrs-1b0f292d-8bcf-4a4f-b02b-6aa60c8dbf8f' class='xr-var-attrs-in' type='checkbox' ><label for='attrs-1b0f292d-8bcf-4a4f-b02b-6aa60c8dbf8f' title='Show/Hide attributes'><svg class='icon xr-icon-file-text2'><use xlink:href='#icon-file-text2'></use></svg></label><input id='data-52a9d688-dea5-416b-aa3d-53b7279b34e4' class='xr-var-data-in' type='checkbox'><label for='data-52a9d688-dea5-416b-aa3d-53b7279b34e4' title='Show/Hide data repr'><svg class='icon xr-icon-database'><use xlink:href='#icon-database'></use></svg></label><div class='xr-var-attrs'><dl class='xr-attrs'><dt><span>contentType :</span></dt><dd>referenceInformation</dd><dt><span>coordinates :</span></dt><dd>delta_time latitude</dd><dt><span>description :</span></dt><dd>Longitude, WGS84, East=+,Lon of segment center</dd><dt><span>long_name :</span></dt><dd>Longitude</dd><dt><span>source :</span></dt><dd>ATBD, section 4.4</dd><dt><span>standard_name :</span></dt><dd>longitude</dd><dt><span>units :</span></dt><dd>degrees_east</dd><dt><span>valid_max :</span></dt><dd>180.0</dd><dt><span>valid_min :</span></dt><dd>-180.0</dd></dl></div><div class='xr-var-data'><pre>array([-55.10887956, -55.10887956, -55.10887956, ..., 145.05395161,\n",
       "       145.05391848, 145.05388829])</pre></div></li><li class='xr-var-item'><div class='xr-var-name'><span>delta_time</span></div><div class='xr-var-dims'>(segment)</div><div class='xr-var-dtype'>float64</div><div class='xr-var-preview xr-preview'>4.642e+07 4.642e+07 ... 4.642e+07</div><input id='attrs-2976535a-d504-49eb-8c53-36b4efd03a83' class='xr-var-attrs-in' type='checkbox' ><label for='attrs-2976535a-d504-49eb-8c53-36b4efd03a83' title='Show/Hide attributes'><svg class='icon xr-icon-file-text2'><use xlink:href='#icon-file-text2'></use></svg></label><input id='data-b2e8d63b-a8e1-4e5d-accd-89c74f856461' class='xr-var-data-in' type='checkbox'><label for='data-b2e8d63b-a8e1-4e5d-accd-89c74f856461' title='Show/Hide data repr'><svg class='icon xr-icon-database'><use xlink:href='#icon-database'></use></svg></label><div class='xr-var-attrs'><dl class='xr-attrs'><dt><span>CLASS :</span></dt><dd>DIMENSION_SCALE</dd><dt><span>NAME :</span></dt><dd>gt1l/sea_ice_segments/delta_time</dd><dt><span>REFERENCE_LIST :</span></dt><dd>[(&lt;HDF5 object reference&gt;, 0) (&lt;HDF5 object reference&gt;, 0)\n",
       " (&lt;HDF5 object reference&gt;, 0) (&lt;HDF5 object reference&gt;, 0)\n",
       " (&lt;HDF5 object reference&gt;, 0) (&lt;HDF5 object reference&gt;, 0)\n",
       " (&lt;HDF5 object reference&gt;, 0) (&lt;HDF5 object reference&gt;, 0)\n",
       " (&lt;HDF5 object reference&gt;, 0) (&lt;HDF5 object reference&gt;, 0)\n",
       " (&lt;HDF5 object reference&gt;, 0) (&lt;HDF5 object reference&gt;, 0)\n",
       " (&lt;HDF5 object reference&gt;, 0) (&lt;HDF5 object reference&gt;, 0)\n",
       " (&lt;HDF5 object reference&gt;, 0) (&lt;HDF5 object reference&gt;, 0)\n",
       " (&lt;HDF5 object reference&gt;, 0) (&lt;HDF5 object reference&gt;, 0)\n",
       " (&lt;HDF5 object reference&gt;, 0) (&lt;HDF5 object reference&gt;, 0)\n",
       " (&lt;HDF5 object reference&gt;, 0) (&lt;HDF5 object reference&gt;, 0)\n",
       " (&lt;HDF5 object reference&gt;, 0) (&lt;HDF5 object reference&gt;, 0)\n",
       " (&lt;HDF5 object reference&gt;, 0) (&lt;HDF5 object reference&gt;, 0)\n",
       " (&lt;HDF5 object reference&gt;, 0) (&lt;HDF5 object reference&gt;, 0)\n",
       " (&lt;HDF5 object reference&gt;, 0) (&lt;HDF5 object reference&gt;, 0)\n",
       " (&lt;HDF5 object reference&gt;, 0) (&lt;HDF5 object reference&gt;, 0)\n",
       " (&lt;HDF5 object reference&gt;, 0) (&lt;HDF5 object reference&gt;, 0)\n",
       " (&lt;HDF5 object reference&gt;, 0) (&lt;HDF5 object reference&gt;, 0)\n",
       " (&lt;HDF5 object reference&gt;, 0) (&lt;HDF5 object reference&gt;, 0)\n",
       " (&lt;HDF5 object reference&gt;, 0) (&lt;HDF5 object reference&gt;, 0)\n",
       " (&lt;HDF5 object reference&gt;, 0) (&lt;HDF5 object reference&gt;, 0)\n",
       " (&lt;HDF5 object reference&gt;, 0) (&lt;HDF5 object reference&gt;, 0)\n",
       " (&lt;HDF5 object reference&gt;, 0) (&lt;HDF5 object reference&gt;, 0)\n",
       " (&lt;HDF5 object reference&gt;, 0) (&lt;HDF5 object reference&gt;, 0)\n",
       " (&lt;HDF5 object reference&gt;, 0) (&lt;HDF5 object reference&gt;, 0)\n",
       " (&lt;HDF5 object reference&gt;, 0) (&lt;HDF5 object reference&gt;, 0)\n",
       " (&lt;HDF5 object reference&gt;, 0) (&lt;HDF5 object reference&gt;, 0)\n",
       " (&lt;HDF5 object reference&gt;, 0) (&lt;HDF5 object reference&gt;, 0)\n",
       " (&lt;HDF5 object reference&gt;, 0) (&lt;HDF5 object reference&gt;, 0)\n",
       " (&lt;HDF5 object reference&gt;, 0) (&lt;HDF5 object reference&gt;, 0)\n",
       " (&lt;HDF5 object reference&gt;, 0) (&lt;HDF5 object reference&gt;, 0)\n",
       " (&lt;HDF5 object reference&gt;, 0) (&lt;HDF5 object reference&gt;, 0)\n",
       " (&lt;HDF5 object reference&gt;, 0) (&lt;HDF5 object reference&gt;, 0)\n",
       " (&lt;HDF5 object reference&gt;, 0) (&lt;HDF5 object reference&gt;, 0)\n",
       " (&lt;HDF5 object reference&gt;, 0) (&lt;HDF5 object reference&gt;, 0)\n",
       " (&lt;HDF5 object reference&gt;, 0) (&lt;HDF5 object reference&gt;, 0)\n",
       " (&lt;HDF5 object reference&gt;, 0) (&lt;HDF5 object reference&gt;, 0)\n",
       " (&lt;HDF5 object reference&gt;, 0) (&lt;HDF5 object reference&gt;, 0)\n",
       " (&lt;HDF5 object reference&gt;, 0) (&lt;HDF5 object reference&gt;, 0)\n",
       " (&lt;HDF5 object reference&gt;, 0) (&lt;HDF5 object reference&gt;, 0)\n",
       " (&lt;HDF5 object reference&gt;, 0) (&lt;HDF5 object reference&gt;, 0)]</dd><dt><span>contentType :</span></dt><dd>physicalMeasurement</dd><dt><span>coordinates :</span></dt><dd>latitude longitude</dd><dt><span>description :</span></dt><dd>Number of GPS seconds since the ATLAS SDP epoch. The ATLAS Standard Data Products (SDP) epoch offset is defined within /ancillary_data/atlas_sdp_gps_epoch as the number of GPS seconds between the GPS epoch (1980-01-06T00:00:00.000000Z UTC) and the ATLAS SDP epoch. By adding the offset contained within atlas_sdp_gps_epoch to delta time parameters, the time in gps_seconds relative to the GPS epoch can be computed.</dd><dt><span>long_name :</span></dt><dd>Elapsed GPS seconds</dd><dt><span>source :</span></dt><dd>telemetry</dd><dt><span>standard_name :</span></dt><dd>time</dd><dt><span>units :</span></dt><dd>seconds since 2018-01-01</dd></dl></div><div class='xr-var-data'><pre>array([46419293.64244554, 46419293.64244554, 46419293.64244554, ...,\n",
       "       46419681.87646231, 46419681.87759533, 46419681.87862704])</pre></div></li><li class='xr-var-item'><div class='xr-var-name'><span>height_segment_height</span></div><div class='xr-var-dims'>(segment)</div><div class='xr-var-dtype'>float32</div><div class='xr-var-preview xr-preview'>nan nan nan ... -0.2221 -0.2359</div><input id='attrs-a819f220-3059-4b43-976d-77ba42e7a7e4' class='xr-var-attrs-in' type='checkbox' ><label for='attrs-a819f220-3059-4b43-976d-77ba42e7a7e4' title='Show/Hide attributes'><svg class='icon xr-icon-file-text2'><use xlink:href='#icon-file-text2'></use></svg></label><input id='data-98faa60c-d83d-4dcf-90bb-989d8e50872f' class='xr-var-data-in' type='checkbox'><label for='data-98faa60c-d83d-4dcf-90bb-989d8e50872f' title='Show/Hide data repr'><svg class='icon xr-icon-database'><use xlink:href='#icon-database'></use></svg></label><div class='xr-var-attrs'><dl class='xr-attrs'><dt><span>_FillValue :</span></dt><dd>[3.4028235e+38]</dd><dt><span>contentType :</span></dt><dd>referenceInformation</dd><dt><span>coordinates :</span></dt><dd>../delta_time ../latitude ../longitude</dd><dt><span>description :</span></dt><dd>Mean height from along-track segment fit detremined by the sea ice algorithm</dd><dt><span>long_name :</span></dt><dd>height of segment surface</dd><dt><span>source :</span></dt><dd>ATBD, section 4.2.2.4</dd><dt><span>units :</span></dt><dd>meters</dd></dl></div><div class='xr-var-data'><pre>array([        nan,         nan,         nan, ..., -0.25512373,\n",
       "       -0.22209722, -0.2358762 ], dtype=float32)</pre></div></li></ul></div></li><li class='xr-section-item'><input id='section-db14a1a8-be17-4874-b37e-7af9c555f1f7' class='xr-section-summary-in' type='checkbox' disabled ><label for='section-db14a1a8-be17-4874-b37e-7af9c555f1f7' class='xr-section-summary'  title='Expand/collapse section'>Attributes: <span>(0)</span></label><div class='xr-section-inline-details'></div><div class='xr-section-details'><dl class='xr-attrs'></dl></div></li></ul></div></div>"
      ],
      "text/plain": [
       "<xarray.Dataset>\n",
       "Dimensions:                (segment: 235653)\n",
       "Dimensions without coordinates: segment\n",
       "Data variables:\n",
       "    latitude               (segment) float64 82.38 82.38 82.38 ... 72.61 72.61\n",
       "    longitude              (segment) float64 -55.11 -55.11 ... 145.1 145.1\n",
       "    delta_time             (segment) float64 4.642e+07 4.642e+07 ... 4.642e+07\n",
       "    height_segment_height  (segment) float32 nan nan nan ... -0.2221 -0.2359"
      ]
     },
     "execution_count": 28,
     "metadata": {},
     "output_type": "execute_result"
    }
   ],
   "source": [
    "import h5py\n",
    "\n",
    "variable_names = [\n",
    "    '/gt1l/sea_ice_segments/latitude',\n",
    "    '/gt1l/sea_ice_segments/longitude',\n",
    "    '/gt1l/sea_ice_segments/delta_time',\n",
    "    '/gt1l/sea_ice_segments/heights/height_segment_height'\n",
    "    ]\n",
    "with h5py.File(outfile, 'r') as h5:\n",
    "    data_vars = {}\n",
    "    for varname in variable_names:\n",
    "        var = h5[varname]\n",
    "        name = varname.split('/')[-1]\n",
    "        # Convert attributes\n",
    "        attrs = {}\n",
    "        for k, v in var.attrs.items():\n",
    "            if k != 'DIMENSION_LIST':\n",
    "                if isinstance(v, bytes):\n",
    "                    attrs[k] = v.decode('utf-8')\n",
    "                else:\n",
    "                    attrs[k] = v\n",
    "        data = var[:]\n",
    "        if '_FillValue' in attrs:\n",
    "            data = np.where(data < attrs['_FillValue'], data, np.nan)\n",
    "        data_vars[name] = (['segment'], data, attrs)\n",
    "    is2_ds = xr.Dataset(data_vars)\n",
    "    \n",
    "is2_ds"
   ]
  },
  {
   "cell_type": "code",
   "execution_count": 93,
   "metadata": {},
   "outputs": [
    {
     "data": {
      "text/plain": [
       "{}"
      ]
     },
     "execution_count": 93,
     "metadata": {},
     "output_type": "execute_result"
    }
   ],
   "source": [
    "is2_ds['height_segment_height'].encoding"
   ]
  },
  {
   "cell_type": "code",
   "execution_count": 94,
   "metadata": {},
   "outputs": [
    {
     "data": {
      "text/plain": [
       "[<matplotlib.lines.Line2D at 0x7f22f014fc70>]"
      ]
     },
     "execution_count": 94,
     "metadata": {},
     "output_type": "execute_result"
    },
    {
     "data": {
      "image/png": "[encoded data removed]",
      "text/plain": [
       "<Figure size 432x288 with 1 Axes>"
      ]
     },
     "metadata": {
      "needs_background": "light"
     },
     "output_type": "display_data"
    }
   ],
   "source": [
    "is2_ds.height_segment_height.plot()"
   ]
  },
  {
   "cell_type": "code",
   "execution_count": 77,
   "metadata": {
    "jupyter": {
     "source_hidden": true
    },
    "tags": []
   },
   "outputs": [
    {
     "ename": "ValueError",
     "evalue": "Not a location (invalid object ID)",
     "output_type": "error",
     "traceback": [
      "\u001b[0;31m---------------------------------------------------------------------------\u001b[0m",
      "\u001b[0;31mValueError\u001b[0m                                Traceback (most recent call last)",
      "\u001b[0;32m/tmp/ipykernel_163/2072399474.py\u001b[0m in \u001b[0;36m<module>\u001b[0;34m\u001b[0m\n\u001b[0;32m----> 1\u001b[0;31m \u001b[0mh5\u001b[0m\u001b[0;34m[\u001b[0m\u001b[0mvariable_names\u001b[0m\u001b[0;34m[\u001b[0m\u001b[0;34m-\u001b[0m\u001b[0;36m1\u001b[0m\u001b[0;34m]\u001b[0m\u001b[0;34m]\u001b[0m\u001b[0;34m\u001b[0m\u001b[0;34m\u001b[0m\u001b[0m\n\u001b[0m",
      "\u001b[0;32mh5py/_objects.pyx\u001b[0m in \u001b[0;36mh5py._objects.with_phil.wrapper\u001b[0;34m()\u001b[0m\n",
      "\u001b[0;32mh5py/_objects.pyx\u001b[0m in \u001b[0;36mh5py._objects.with_phil.wrapper\u001b[0;34m()\u001b[0m\n",
      "\u001b[0;32m/srv/conda/envs/notebook/lib/python3.9/site-packages/h5py/_hl/group.py\u001b[0m in \u001b[0;36m__getitem__\u001b[0;34m(self, name)\u001b[0m\n\u001b[1;32m    262\u001b[0m                 \u001b[0;32mraise\u001b[0m \u001b[0mValueError\u001b[0m\u001b[0;34m(\u001b[0m\u001b[0;34m\"Invalid HDF5 object reference\"\u001b[0m\u001b[0;34m)\u001b[0m\u001b[0;34m\u001b[0m\u001b[0;34m\u001b[0m\u001b[0m\n\u001b[1;32m    263\u001b[0m         \u001b[0;32melse\u001b[0m\u001b[0;34m:\u001b[0m\u001b[0;34m\u001b[0m\u001b[0;34m\u001b[0m\u001b[0m\n\u001b[0;32m--> 264\u001b[0;31m             \u001b[0moid\u001b[0m \u001b[0;34m=\u001b[0m \u001b[0mh5o\u001b[0m\u001b[0;34m.\u001b[0m\u001b[0mopen\u001b[0m\u001b[0;34m(\u001b[0m\u001b[0mself\u001b[0m\u001b[0;34m.\u001b[0m\u001b[0mid\u001b[0m\u001b[0;34m,\u001b[0m \u001b[0mself\u001b[0m\u001b[0;34m.\u001b[0m\u001b[0m_e\u001b[0m\u001b[0;34m(\u001b[0m\u001b[0mname\u001b[0m\u001b[0;34m)\u001b[0m\u001b[0;34m,\u001b[0m \u001b[0mlapl\u001b[0m\u001b[0;34m=\u001b[0m\u001b[0mself\u001b[0m\u001b[0;34m.\u001b[0m\u001b[0m_lapl\u001b[0m\u001b[0;34m)\u001b[0m\u001b[0;34m\u001b[0m\u001b[0;34m\u001b[0m\u001b[0m\n\u001b[0m\u001b[1;32m    265\u001b[0m \u001b[0;34m\u001b[0m\u001b[0m\n\u001b[1;32m    266\u001b[0m         \u001b[0motype\u001b[0m \u001b[0;34m=\u001b[0m \u001b[0mh5i\u001b[0m\u001b[0;34m.\u001b[0m\u001b[0mget_type\u001b[0m\u001b[0;34m(\u001b[0m\u001b[0moid\u001b[0m\u001b[0;34m)\u001b[0m\u001b[0;34m\u001b[0m\u001b[0;34m\u001b[0m\u001b[0m\n",
      "\u001b[0;32mh5py/_objects.pyx\u001b[0m in \u001b[0;36mh5py._objects.with_phil.wrapper\u001b[0;34m()\u001b[0m\n",
      "\u001b[0;32mh5py/_objects.pyx\u001b[0m in \u001b[0;36mh5py._objects.with_phil.wrapper\u001b[0;34m()\u001b[0m\n",
      "\u001b[0;32mh5py/h5o.pyx\u001b[0m in \u001b[0;36mh5py.h5o.open\u001b[0;34m()\u001b[0m\n",
      "\u001b[0;31mValueError\u001b[0m: Not a location (invalid object ID)"
     ]
    }
   ],
   "source": [
    "h5[variable_names[-1]]"
   ]
  },
  {
   "cell_type": "code",
   "execution_count": 67,
   "metadata": {},
   "outputs": [
    {
     "name": "stdout",
     "output_type": "stream",
     "text": [
      "DIMENSION_LIST: [array([<HDF5 object reference>], dtype=object)]\n",
      "contentType: b'referenceInformation'\n",
      "coordinates: b'delta_time longitude'\n",
      "description: b'Latitude, WGS84, North=+, Lat of segment center'\n",
      "long_name: b'Latitude'\n",
      "source: b'ATBD, section 4.4'\n",
      "standard_name: b'latitude'\n",
      "units: b'degrees_north'\n",
      "valid_max: 90.0\n",
      "valid_min: -90.0\n"
     ]
    }
   ],
   "source": [
    "for k, v in var.attrs.items():\n",
    "    print(f'{k}: {v}')"
   ]
  },
  {
   "cell_type": "code",
   "execution_count": 68,
   "metadata": {
    "collapsed": true,
    "jupyter": {
     "outputs_hidden": true
    },
    "tags": []
   },
   "outputs": [
    {
     "data": {
      "text/plain": [
       "\u001b[0;31mInit signature:\u001b[0m\n",
       "\u001b[0mxr\u001b[0m\u001b[0;34m.\u001b[0m\u001b[0mDataArray\u001b[0m\u001b[0;34m(\u001b[0m\u001b[0;34m\u001b[0m\n",
       "\u001b[0;34m\u001b[0m    \u001b[0mdata\u001b[0m\u001b[0;34m:\u001b[0m \u001b[0;34m'Any'\u001b[0m \u001b[0;34m=\u001b[0m \u001b[0;34m<\u001b[0m\u001b[0mNA\u001b[0m\u001b[0;34m>\u001b[0m\u001b[0;34m,\u001b[0m\u001b[0;34m\u001b[0m\n",
       "\u001b[0;34m\u001b[0m    \u001b[0mcoords\u001b[0m\u001b[0;34m:\u001b[0m \u001b[0;34m'Union[Sequence[Tuple], Mapping[Any, Any], None]'\u001b[0m \u001b[0;34m=\u001b[0m \u001b[0;32mNone\u001b[0m\u001b[0;34m,\u001b[0m\u001b[0;34m\u001b[0m\n",
       "\u001b[0;34m\u001b[0m    \u001b[0mdims\u001b[0m\u001b[0;34m:\u001b[0m \u001b[0;34m'Union[Hashable, Sequence[Hashable], None]'\u001b[0m \u001b[0;34m=\u001b[0m \u001b[0;32mNone\u001b[0m\u001b[0;34m,\u001b[0m\u001b[0;34m\u001b[0m\n",
       "\u001b[0;34m\u001b[0m    \u001b[0mname\u001b[0m\u001b[0;34m:\u001b[0m \u001b[0;34m'Hashable'\u001b[0m \u001b[0;34m=\u001b[0m \u001b[0;32mNone\u001b[0m\u001b[0;34m,\u001b[0m\u001b[0;34m\u001b[0m\n",
       "\u001b[0;34m\u001b[0m    \u001b[0mattrs\u001b[0m\u001b[0;34m:\u001b[0m \u001b[0;34m'Mapping'\u001b[0m \u001b[0;34m=\u001b[0m \u001b[0;32mNone\u001b[0m\u001b[0;34m,\u001b[0m\u001b[0;34m\u001b[0m\n",
       "\u001b[0;34m\u001b[0m    \u001b[0mindexes\u001b[0m\u001b[0;34m:\u001b[0m \u001b[0;34m'Dict[Hashable, pd.Index]'\u001b[0m \u001b[0;34m=\u001b[0m \u001b[0;32mNone\u001b[0m\u001b[0;34m,\u001b[0m\u001b[0;34m\u001b[0m\n",
       "\u001b[0;34m\u001b[0m    \u001b[0mfastpath\u001b[0m\u001b[0;34m:\u001b[0m \u001b[0;34m'bool'\u001b[0m \u001b[0;34m=\u001b[0m \u001b[0;32mFalse\u001b[0m\u001b[0;34m,\u001b[0m\u001b[0;34m\u001b[0m\n",
       "\u001b[0;34m\u001b[0m\u001b[0;34m)\u001b[0m\u001b[0;34m\u001b[0m\u001b[0;34m\u001b[0m\u001b[0m\n",
       "\u001b[0;31mDocstring:\u001b[0m     \n",
       "N-dimensional array with labeled coordinates and dimensions.\n",
       "\n",
       "DataArray provides a wrapper around numpy ndarrays that uses\n",
       "labeled dimensions and coordinates to support metadata aware\n",
       "operations. The API is similar to that for the pandas Series or\n",
       "DataFrame, but DataArray objects can have any number of dimensions,\n",
       "and their contents have fixed data types.\n",
       "\n",
       "Additional features over raw numpy arrays:\n",
       "\n",
       "- Apply operations over dimensions by name: ``x.sum('time')``.\n",
       "- Select or assign values by integer location (like numpy):\n",
       "  ``x[:10]`` or by label (like pandas): ``x.loc['2014-01-01']`` or\n",
       "  ``x.sel(time='2014-01-01')``.\n",
       "- Mathematical operations (e.g., ``x - y``) vectorize across\n",
       "  multiple dimensions (known in numpy as \"broadcasting\") based on\n",
       "  dimension names, regardless of their original order.\n",
       "- Keep track of arbitrary metadata in the form of a Python\n",
       "  dictionary: ``x.attrs``\n",
       "- Convert to a pandas Series: ``x.to_series()``.\n",
       "\n",
       "Getting items from or doing mathematical operations with a\n",
       "DataArray always returns another DataArray.\n",
       "\n",
       "Parameters\n",
       "----------\n",
       "data : array_like\n",
       "    Values for this array. Must be an ``numpy.ndarray``, ndarray\n",
       "    like, or castable to an ``ndarray``. If a self-described xarray\n",
       "    or pandas object, attempts are made to use this array's\n",
       "    metadata to fill in other unspecified arguments. A view of the\n",
       "    array's data is used instead of a copy if possible.\n",
       "coords : sequence or dict of array_like, optional\n",
       "    Coordinates (tick labels) to use for indexing along each\n",
       "    dimension. The following notations are accepted:\n",
       "\n",
       "    - mapping {dimension name: array-like}\n",
       "    - sequence of tuples that are valid arguments for\n",
       "      ``xarray.Variable()``\n",
       "      - (dims, data)\n",
       "      - (dims, data, attrs)\n",
       "      - (dims, data, attrs, encoding)\n",
       "\n",
       "    Additionally, it is possible to define a coord whose name\n",
       "    does not match the dimension name, or a coord based on multiple\n",
       "    dimensions, with one of the following notations:\n",
       "\n",
       "    - mapping {coord name: DataArray}\n",
       "    - mapping {coord name: Variable}\n",
       "    - mapping {coord name: (dimension name, array-like)}\n",
       "    - mapping {coord name: (tuple of dimension names, array-like)}\n",
       "\n",
       "dims : hashable or sequence of hashable, optional\n",
       "    Name(s) of the data dimension(s). Must be either a hashable\n",
       "    (only for 1D data) or a sequence of hashables with length equal\n",
       "    to the number of dimensions. If this argument is omitted,\n",
       "    dimension names are taken from ``coords`` (if possible) and\n",
       "    otherwise default to ``['dim_0', ... 'dim_n']``.\n",
       "name : str or None, optional\n",
       "    Name of this array.\n",
       "attrs : dict_like or None, optional\n",
       "    Attributes to assign to the new instance. By default, an empty\n",
       "    attribute dictionary is initialized.\n",
       "\n",
       "Examples\n",
       "--------\n",
       "Create data:\n",
       "\n",
       ">>> np.random.seed(0)\n",
       ">>> temperature = 15 + 8 * np.random.randn(2, 2, 3)\n",
       ">>> lon = [[-99.83, -99.32], [-99.79, -99.23]]\n",
       ">>> lat = [[42.25, 42.21], [42.63, 42.59]]\n",
       ">>> time = pd.date_range(\"2014-09-06\", periods=3)\n",
       ">>> reference_time = pd.Timestamp(\"2014-09-05\")\n",
       "\n",
       "Initialize a dataarray with multiple dimensions:\n",
       "\n",
       ">>> da = xr.DataArray(\n",
       "...     data=temperature,\n",
       "...     dims=[\"x\", \"y\", \"time\"],\n",
       "...     coords=dict(\n",
       "...         lon=([\"x\", \"y\"], lon),\n",
       "...         lat=([\"x\", \"y\"], lat),\n",
       "...         time=time,\n",
       "...         reference_time=reference_time,\n",
       "...     ),\n",
       "...     attrs=dict(\n",
       "...         description=\"Ambient temperature.\",\n",
       "...         units=\"degC\",\n",
       "...     ),\n",
       "... )\n",
       ">>> da\n",
       "<xarray.DataArray (x: 2, y: 2, time: 3)>\n",
       "array([[[29.11241877, 18.20125767, 22.82990387],\n",
       "        [32.92714559, 29.94046392,  7.18177696]],\n",
       "<BLANKLINE>\n",
       "       [[22.60070734, 13.78914233, 14.17424919],\n",
       "        [18.28478802, 16.15234857, 26.63418806]]])\n",
       "Coordinates:\n",
       "    lon             (x, y) float64 -99.83 -99.32 -99.79 -99.23\n",
       "    lat             (x, y) float64 42.25 42.21 42.63 42.59\n",
       "  * time            (time) datetime64[ns] 2014-09-06 2014-09-07 2014-09-08\n",
       "    reference_time  datetime64[ns] 2014-09-05\n",
       "Dimensions without coordinates: x, y\n",
       "Attributes:\n",
       "    description:  Ambient temperature.\n",
       "    units:        degC\n",
       "\n",
       "Find out where the coldest temperature was:\n",
       "\n",
       ">>> da.isel(da.argmin(...))\n",
       "<xarray.DataArray ()>\n",
       "array(7.18177696)\n",
       "Coordinates:\n",
       "    lon             float64 -99.32\n",
       "    lat             float64 42.21\n",
       "    time            datetime64[ns] 2014-09-08\n",
       "    reference_time  datetime64[ns] 2014-09-05\n",
       "Attributes:\n",
       "    description:  Ambient temperature.\n",
       "    units:        degC\n",
       "\u001b[0;31mFile:\u001b[0m           /srv/conda/envs/notebook/lib/python3.9/site-packages/xarray/core/dataarray.py\n",
       "\u001b[0;31mType:\u001b[0m           type\n",
       "\u001b[0;31mSubclasses:\u001b[0m     \n"
      ]
     },
     "metadata": {},
     "output_type": "display_data"
    }
   ],
   "source": [
    "xr.DataArray?"
   ]
  },
  {
   "cell_type": "code",
   "execution_count": 62,
   "metadata": {},
   "outputs": [
    {
     "ename": "ValueError",
     "evalue": "cannot remove index coordinates with reset_coords: {'delta_time'}",
     "output_type": "error",
     "traceback": [
      "\u001b[0;31m---------------------------------------------------------------------------\u001b[0m",
      "\u001b[0;31mValueError\u001b[0m                                Traceback (most recent call last)",
      "\u001b[0;32m/tmp/ipykernel_163/2227460204.py\u001b[0m in \u001b[0;36m<module>\u001b[0;34m\u001b[0m\n\u001b[1;32m      3\u001b[0m \u001b[0;31m#is2_ds = xr.merge([is2_geo, is2_hgt])\u001b[0m\u001b[0;34m\u001b[0m\u001b[0;34m\u001b[0m\u001b[0m\n\u001b[1;32m      4\u001b[0m \u001b[0;31m#is2_ds\u001b[0m\u001b[0;34m\u001b[0m\u001b[0;34m\u001b[0m\u001b[0m\n\u001b[0;32m----> 5\u001b[0;31m \u001b[0mis2_geo\u001b[0m\u001b[0;34m.\u001b[0m\u001b[0mreset_coords\u001b[0m\u001b[0;34m(\u001b[0m\u001b[0;34m'delta_time'\u001b[0m\u001b[0;34m)\u001b[0m\u001b[0;34m\u001b[0m\u001b[0;34m\u001b[0m\u001b[0m\n\u001b[0m\u001b[1;32m      6\u001b[0m \u001b[0;31m#print(is2_hgt)\u001b[0m\u001b[0;34m\u001b[0m\u001b[0;34m\u001b[0m\u001b[0m\n\u001b[1;32m      7\u001b[0m \u001b[0;31m#print(is2_geo)\u001b[0m\u001b[0;34m\u001b[0m\u001b[0;34m\u001b[0m\u001b[0m\n",
      "\u001b[0;32m/srv/conda/envs/notebook/lib/python3.9/site-packages/xarray/core/dataset.py\u001b[0m in \u001b[0;36mreset_coords\u001b[0;34m(self, names, drop)\u001b[0m\n\u001b[1;32m   1799\u001b[0m             \u001b[0mbad_coords\u001b[0m \u001b[0;34m=\u001b[0m \u001b[0mset\u001b[0m\u001b[0;34m(\u001b[0m\u001b[0mnames\u001b[0m\u001b[0;34m)\u001b[0m \u001b[0;34m&\u001b[0m \u001b[0mset\u001b[0m\u001b[0;34m(\u001b[0m\u001b[0mself\u001b[0m\u001b[0;34m.\u001b[0m\u001b[0mdims\u001b[0m\u001b[0;34m)\u001b[0m\u001b[0;34m\u001b[0m\u001b[0;34m\u001b[0m\u001b[0m\n\u001b[1;32m   1800\u001b[0m             \u001b[0;32mif\u001b[0m \u001b[0mbad_coords\u001b[0m\u001b[0;34m:\u001b[0m\u001b[0;34m\u001b[0m\u001b[0;34m\u001b[0m\u001b[0m\n\u001b[0;32m-> 1801\u001b[0;31m                 raise ValueError(\n\u001b[0m\u001b[1;32m   1802\u001b[0m                     \u001b[0;34mf\"cannot remove index coordinates with reset_coords: {bad_coords}\"\u001b[0m\u001b[0;34m\u001b[0m\u001b[0;34m\u001b[0m\u001b[0m\n\u001b[1;32m   1803\u001b[0m                 )\n",
      "\u001b[0;31mValueError\u001b[0m: cannot remove index coordinates with reset_coords: {'delta_time'}"
     ]
    }
   ],
   "source": [
    "is2_hgt = xr.open_dataset(outfile, group='/gt1l/sea_ice_segments/heights')\n",
    "is2_geo = xr.open_dataset(outfile, group='/gt1l/sea_ice_segments')\n",
    "#is2_ds = xr.merge([is2_geo, is2_hgt])\n",
    "#is2_ds\n",
    "is2_geo.reset_coords('delta_time')\n",
    "#print(is2_hgt)\n",
    "#print(is2_geo)"
   ]
  },
  {
   "cell_type": "code",
   "execution_count": 59,
   "metadata": {},
   "outputs": [
    {
     "data": {
      "text/plain": [
       "235498"
      ]
     },
     "execution_count": 59,
     "metadata": {},
     "output_type": "execute_result"
    }
   ],
   "source": [
    "import numpy as np\n",
    "_, index = np.unique(is2_geo['delta_time'], return_index=True)\n",
    "len(index)"
   ]
  },
  {
   "cell_type": "code",
   "execution_count": 69,
   "metadata": {},
   "outputs": [
    {
     "data": {
      "text/html": [
       "<div><svg style=\"position: absolute; width: 0; height: 0; overflow: hidden\">\n",
       "<defs>\n",
       "<symbol id=\"icon-database\" viewBox=\"0 0 32 32\">\n",
       "<path d=\"M16 0c-8.837 0-16 2.239-16 5v4c0 2.761 7.163 5 16 5s16-2.239 16-5v-4c0-2.761-7.163-5-16-5z\"></path>\n",
       "<path d=\"M16 17c-8.837 0-16-2.239-16-5v6c0 2.761 7.163 5 16 5s16-2.239 16-5v-6c0 2.761-7.163 5-16 5z\"></path>\n",
       "<path d=\"M16 26c-8.837 0-16-2.239-16-5v6c0 2.761 7.163 5 16 5s16-2.239 16-5v-6c0 2.761-7.163 5-16 5z\"></path>\n",
       "</symbol>\n",
       "<symbol id=\"icon-file-text2\" viewBox=\"0 0 32 32\">\n",
       "<path d=\"M28.681 7.159c-0.694-0.947-1.662-2.053-2.724-3.116s-2.169-2.030-3.116-2.724c-1.612-1.182-2.393-1.319-2.841-1.319h-15.5c-1.378 0-2.5 1.121-2.5 2.5v27c0 1.378 1.122 2.5 2.5 2.5h23c1.378 0 2.5-1.122 2.5-2.5v-19.5c0-0.448-0.137-1.23-1.319-2.841zM24.543 5.457c0.959 0.959 1.712 1.825 2.268 2.543h-4.811v-4.811c0.718 0.556 1.584 1.309 2.543 2.268zM28 29.5c0 0.271-0.229 0.5-0.5 0.5h-23c-0.271 0-0.5-0.229-0.5-0.5v-27c0-0.271 0.229-0.5 0.5-0.5 0 0 15.499-0 15.5 0v7c0 0.552 0.448 1 1 1h7v19.5z\"></path>\n",
       "<path d=\"M23 26h-14c-0.552 0-1-0.448-1-1s0.448-1 1-1h14c0.552 0 1 0.448 1 1s-0.448 1-1 1z\"></path>\n",
       "<path d=\"M23 22h-14c-0.552 0-1-0.448-1-1s0.448-1 1-1h14c0.552 0 1 0.448 1 1s-0.448 1-1 1z\"></path>\n",
       "<path d=\"M23 18h-14c-0.552 0-1-0.448-1-1s0.448-1 1-1h14c0.552 0 1 0.448 1 1s-0.448 1-1 1z\"></path>\n",
       "</symbol>\n",
       "</defs>\n",
       "</svg>\n",
       "<style>/* CSS stylesheet for displaying xarray objects in jupyterlab.\n",
       " *\n",
       " */\n",
       "\n",
       ":root {\n",
       "  --xr-font-color0: var(--jp-content-font-color0, rgba(0, 0, 0, 1));\n",
       "  --xr-font-color2: var(--jp-content-font-color2, rgba(0, 0, 0, 0.54));\n",
       "  --xr-font-color3: var(--jp-content-font-color3, rgba(0, 0, 0, 0.38));\n",
       "  --xr-border-color: var(--jp-border-color2, #e0e0e0);\n",
       "  --xr-disabled-color: var(--jp-layout-color3, #bdbdbd);\n",
       "  --xr-background-color: var(--jp-layout-color0, white);\n",
       "  --xr-background-color-row-even: var(--jp-layout-color1, white);\n",
       "  --xr-background-color-row-odd: var(--jp-layout-color2, #eeeeee);\n",
       "}\n",
       "\n",
       "html[theme=dark],\n",
       "body.vscode-dark {\n",
       "  --xr-font-color0: rgba(255, 255, 255, 1);\n",
       "  --xr-font-color2: rgba(255, 255, 255, 0.54);\n",
       "  --xr-font-color3: rgba(255, 255, 255, 0.38);\n",
       "  --xr-border-color: #1F1F1F;\n",
       "  --xr-disabled-color: #515151;\n",
       "  --xr-background-color: #111111;\n",
       "  --xr-background-color-row-even: #111111;\n",
       "  --xr-background-color-row-odd: #313131;\n",
       "}\n",
       "\n",
       ".xr-wrap {\n",
       "  display: block;\n",
       "  min-width: 300px;\n",
       "  max-width: 700px;\n",
       "}\n",
       "\n",
       ".xr-text-repr-fallback {\n",
       "  /* fallback to plain text repr when CSS is not injected (untrusted notebook) */\n",
       "  display: none;\n",
       "}\n",
       "\n",
       ".xr-header {\n",
       "  padding-top: 6px;\n",
       "  padding-bottom: 6px;\n",
       "  margin-bottom: 4px;\n",
       "  border-bottom: solid 1px var(--xr-border-color);\n",
       "}\n",
       "\n",
       ".xr-header > div,\n",
       ".xr-header > ul {\n",
       "  display: inline;\n",
       "  margin-top: 0;\n",
       "  margin-bottom: 0;\n",
       "}\n",
       "\n",
       ".xr-obj-type,\n",
       ".xr-array-name {\n",
       "  margin-left: 2px;\n",
       "  margin-right: 10px;\n",
       "}\n",
       "\n",
       ".xr-obj-type {\n",
       "  color: var(--xr-font-color2);\n",
       "}\n",
       "\n",
       ".xr-sections {\n",
       "  padding-left: 0 !important;\n",
       "  display: grid;\n",
       "  grid-template-columns: 150px auto auto 1fr 20px 20px;\n",
       "}\n",
       "\n",
       ".xr-section-item {\n",
       "  display: contents;\n",
       "}\n",
       "\n",
       ".xr-section-item input {\n",
       "  display: none;\n",
       "}\n",
       "\n",
       ".xr-section-item input + label {\n",
       "  color: var(--xr-disabled-color);\n",
       "}\n",
       "\n",
       ".xr-section-item input:enabled + label {\n",
       "  cursor: pointer;\n",
       "  color: var(--xr-font-color2);\n",
       "}\n",
       "\n",
       ".xr-section-item input:enabled + label:hover {\n",
       "  color: var(--xr-font-color0);\n",
       "}\n",
       "\n",
       ".xr-section-summary {\n",
       "  grid-column: 1;\n",
       "  color: var(--xr-font-color2);\n",
       "  font-weight: 500;\n",
       "}\n",
       "\n",
       ".xr-section-summary > span {\n",
       "  display: inline-block;\n",
       "  padding-left: 0.5em;\n",
       "}\n",
       "\n",
       ".xr-section-summary-in:disabled + label {\n",
       "  color: var(--xr-font-color2);\n",
       "}\n",
       "\n",
       ".xr-section-summary-in + label:before {\n",
       "  display: inline-block;\n",
       "  content: '►';\n",
       "  font-size: 11px;\n",
       "  width: 15px;\n",
       "  text-align: center;\n",
       "}\n",
       "\n",
       ".xr-section-summary-in:disabled + label:before {\n",
       "  color: var(--xr-disabled-color);\n",
       "}\n",
       "\n",
       ".xr-section-summary-in:checked + label:before {\n",
       "  content: '▼';\n",
       "}\n",
       "\n",
       ".xr-section-summary-in:checked + label > span {\n",
       "  display: none;\n",
       "}\n",
       "\n",
       ".xr-section-summary,\n",
       ".xr-section-inline-details {\n",
       "  padding-top: 4px;\n",
       "  padding-bottom: 4px;\n",
       "}\n",
       "\n",
       ".xr-section-inline-details {\n",
       "  grid-column: 2 / -1;\n",
       "}\n",
       "\n",
       ".xr-section-details {\n",
       "  display: none;\n",
       "  grid-column: 1 / -1;\n",
       "  margin-bottom: 5px;\n",
       "}\n",
       "\n",
       ".xr-section-summary-in:checked ~ .xr-section-details {\n",
       "  display: contents;\n",
       "}\n",
       "\n",
       ".xr-array-wrap {\n",
       "  grid-column: 1 / -1;\n",
       "  display: grid;\n",
       "  grid-template-columns: 20px auto;\n",
       "}\n",
       "\n",
       ".xr-array-wrap > label {\n",
       "  grid-column: 1;\n",
       "  vertical-align: top;\n",
       "}\n",
       "\n",
       ".xr-preview {\n",
       "  color: var(--xr-font-color3);\n",
       "}\n",
       "\n",
       ".xr-array-preview,\n",
       ".xr-array-data {\n",
       "  padding: 0 5px !important;\n",
       "  grid-column: 2;\n",
       "}\n",
       "\n",
       ".xr-array-data,\n",
       ".xr-array-in:checked ~ .xr-array-preview {\n",
       "  display: none;\n",
       "}\n",
       "\n",
       ".xr-array-in:checked ~ .xr-array-data,\n",
       ".xr-array-preview {\n",
       "  display: inline-block;\n",
       "}\n",
       "\n",
       ".xr-dim-list {\n",
       "  display: inline-block !important;\n",
       "  list-style: none;\n",
       "  padding: 0 !important;\n",
       "  margin: 0;\n",
       "}\n",
       "\n",
       ".xr-dim-list li {\n",
       "  display: inline-block;\n",
       "  padding: 0;\n",
       "  margin: 0;\n",
       "}\n",
       "\n",
       ".xr-dim-list:before {\n",
       "  content: '(';\n",
       "}\n",
       "\n",
       ".xr-dim-list:after {\n",
       "  content: ')';\n",
       "}\n",
       "\n",
       ".xr-dim-list li:not(:last-child):after {\n",
       "  content: ',';\n",
       "  padding-right: 5px;\n",
       "}\n",
       "\n",
       ".xr-has-index {\n",
       "  font-weight: bold;\n",
       "}\n",
       "\n",
       ".xr-var-list,\n",
       ".xr-var-item {\n",
       "  display: contents;\n",
       "}\n",
       "\n",
       ".xr-var-item > div,\n",
       ".xr-var-item label,\n",
       ".xr-var-item > .xr-var-name span {\n",
       "  background-color: var(--xr-background-color-row-even);\n",
       "  margin-bottom: 0;\n",
       "}\n",
       "\n",
       ".xr-var-item > .xr-var-name:hover span {\n",
       "  padding-right: 5px;\n",
       "}\n",
       "\n",
       ".xr-var-list > li:nth-child(odd) > div,\n",
       ".xr-var-list > li:nth-child(odd) > label,\n",
       ".xr-var-list > li:nth-child(odd) > .xr-var-name span {\n",
       "  background-color: var(--xr-background-color-row-odd);\n",
       "}\n",
       "\n",
       ".xr-var-name {\n",
       "  grid-column: 1;\n",
       "}\n",
       "\n",
       ".xr-var-dims {\n",
       "  grid-column: 2;\n",
       "}\n",
       "\n",
       ".xr-var-dtype {\n",
       "  grid-column: 3;\n",
       "  text-align: right;\n",
       "  color: var(--xr-font-color2);\n",
       "}\n",
       "\n",
       ".xr-var-preview {\n",
       "  grid-column: 4;\n",
       "}\n",
       "\n",
       ".xr-var-name,\n",
       ".xr-var-dims,\n",
       ".xr-var-dtype,\n",
       ".xr-preview,\n",
       ".xr-attrs dt {\n",
       "  white-space: nowrap;\n",
       "  overflow: hidden;\n",
       "  text-overflow: ellipsis;\n",
       "  padding-right: 10px;\n",
       "}\n",
       "\n",
       ".xr-var-name:hover,\n",
       ".xr-var-dims:hover,\n",
       ".xr-var-dtype:hover,\n",
       ".xr-attrs dt:hover {\n",
       "  overflow: visible;\n",
       "  width: auto;\n",
       "  z-index: 1;\n",
       "}\n",
       "\n",
       ".xr-var-attrs,\n",
       ".xr-var-data {\n",
       "  display: none;\n",
       "  background-color: var(--xr-background-color) !important;\n",
       "  padding-bottom: 5px !important;\n",
       "}\n",
       "\n",
       ".xr-var-attrs-in:checked ~ .xr-var-attrs,\n",
       ".xr-var-data-in:checked ~ .xr-var-data {\n",
       "  display: block;\n",
       "}\n",
       "\n",
       ".xr-var-data > table {\n",
       "  float: right;\n",
       "}\n",
       "\n",
       ".xr-var-name span,\n",
       ".xr-var-data,\n",
       ".xr-attrs {\n",
       "  padding-left: 25px !important;\n",
       "}\n",
       "\n",
       ".xr-attrs,\n",
       ".xr-var-attrs,\n",
       ".xr-var-data {\n",
       "  grid-column: 1 / -1;\n",
       "}\n",
       "\n",
       "dl.xr-attrs {\n",
       "  padding: 0;\n",
       "  margin: 0;\n",
       "  display: grid;\n",
       "  grid-template-columns: 125px auto;\n",
       "}\n",
       "\n",
       ".xr-attrs dt,\n",
       ".xr-attrs dd {\n",
       "  padding: 0;\n",
       "  margin: 0;\n",
       "  float: left;\n",
       "  padding-right: 10px;\n",
       "  width: auto;\n",
       "}\n",
       "\n",
       ".xr-attrs dt {\n",
       "  font-weight: normal;\n",
       "  grid-column: 1;\n",
       "}\n",
       "\n",
       ".xr-attrs dt:hover span {\n",
       "  display: inline-block;\n",
       "  background: var(--xr-background-color);\n",
       "  padding-right: 10px;\n",
       "}\n",
       "\n",
       ".xr-attrs dd {\n",
       "  grid-column: 2;\n",
       "  white-space: pre-wrap;\n",
       "  word-break: break-all;\n",
       "}\n",
       "\n",
       ".xr-icon-database,\n",
       ".xr-icon-file-text2 {\n",
       "  display: inline-block;\n",
       "  vertical-align: middle;\n",
       "  width: 1em;\n",
       "  height: 1.5em !important;\n",
       "  stroke-width: 0;\n",
       "  stroke: currentColor;\n",
       "  fill: currentColor;\n",
       "}\n",
       "</style><pre class='xr-text-repr-fallback'>&lt;xarray.Dataset&gt;\n",
       "Dimensions:                           (delta_time: 235584)\n",
       "Dimensions without coordinates: delta_time\n",
       "Data variables: (12/14)\n",
       "    across_track_distance             (delta_time) float32 ...\n",
       "    height_segment_asr_calc           (delta_time) float32 ...\n",
       "    height_segment_confidence         (delta_time) float32 ...\n",
       "    height_segment_fit_quality_flag   (delta_time) float32 ...\n",
       "    height_segment_height             (delta_time) float32 ...\n",
       "    height_segment_htcorr_skew        (delta_time) float32 ...\n",
       "    ...                                ...\n",
       "    height_segment_quality            (delta_time) int8 ...\n",
       "    height_segment_rms                (delta_time) float32 ...\n",
       "    height_segment_ssh_flag           (delta_time) int8 ...\n",
       "    height_segment_surface_error_est  (delta_time) float32 ...\n",
       "    height_segment_type               (delta_time) int8 ...\n",
       "    height_segment_w_gaussian         (delta_time) float32 ...\n",
       "Attributes:\n",
       "    Description:  Contains parameters relating to the calculated surface heig...\n",
       "    data_rate:    Data within this group are stored at the sea_ice_height seg...</pre><div class='xr-wrap' hidden><div class='xr-header'><div class='xr-obj-type'>xarray.Dataset</div></div><ul class='xr-sections'><li class='xr-section-item'><input id='section-7d9b307e-70c5-452c-9310-b674dbe27d91' class='xr-section-summary-in' type='checkbox' disabled ><label for='section-7d9b307e-70c5-452c-9310-b674dbe27d91' class='xr-section-summary'  title='Expand/collapse section'>Dimensions:</label><div class='xr-section-inline-details'><ul class='xr-dim-list'><li><span>delta_time</span>: 235584</li></ul></div><div class='xr-section-details'></div></li><li class='xr-section-item'><input id='section-8bafb7c9-5132-4d0c-b623-d3d390d9d5be' class='xr-section-summary-in' type='checkbox' disabled ><label for='section-8bafb7c9-5132-4d0c-b623-d3d390d9d5be' class='xr-section-summary'  title='Expand/collapse section'>Coordinates: <span>(0)</span></label><div class='xr-section-inline-details'></div><div class='xr-section-details'><ul class='xr-var-list'></ul></div></li><li class='xr-section-item'><input id='section-b9c27105-bb09-4b52-8ae1-0de260213fdd' class='xr-section-summary-in' type='checkbox'  checked><label for='section-b9c27105-bb09-4b52-8ae1-0de260213fdd' class='xr-section-summary' >Data variables: <span>(14)</span></label><div class='xr-section-inline-details'></div><div class='xr-section-details'><ul class='xr-var-list'><li class='xr-var-item'><div class='xr-var-name'><span>across_track_distance</span></div><div class='xr-var-dims'>(delta_time)</div><div class='xr-var-dtype'>float32</div><div class='xr-var-preview xr-preview'>...</div><input id='attrs-bb348dd1-889f-41e7-a346-eccb41576573' class='xr-var-attrs-in' type='checkbox' ><label for='attrs-bb348dd1-889f-41e7-a346-eccb41576573' title='Show/Hide attributes'><svg class='icon xr-icon-file-text2'><use xlink:href='#icon-file-text2'></use></svg></label><input id='data-97e3a91e-e256-4ddb-b607-bede425519ba' class='xr-var-data-in' type='checkbox'><label for='data-97e3a91e-e256-4ddb-b607-bede425519ba' title='Show/Hide data repr'><svg class='icon xr-icon-database'><use xlink:href='#icon-database'></use></svg></label><div class='xr-var-attrs'><dl class='xr-attrs'><dt><span>long_name :</span></dt><dd>Across Track Distance</dd><dt><span>units :</span></dt><dd>meters</dd><dt><span>source :</span></dt><dd>ATBD, section 4.2.4</dd><dt><span>contentType :</span></dt><dd>referenceInformation</dd><dt><span>description :</span></dt><dd>Across track distance of photons averaged over the sea ice height segment.</dd><dt><span>coordinates :</span></dt><dd>../delta_time ../latitude ../longitude</dd></dl></div><div class='xr-var-data'><pre>[235584 values with dtype=float32]</pre></div></li><li class='xr-var-item'><div class='xr-var-name'><span>height_segment_asr_calc</span></div><div class='xr-var-dims'>(delta_time)</div><div class='xr-var-dtype'>float32</div><div class='xr-var-preview xr-preview'>...</div><input id='attrs-5bb09ca8-6395-4d75-aaab-2e1f7d268119' class='xr-var-attrs-in' type='checkbox' ><label for='attrs-5bb09ca8-6395-4d75-aaab-2e1f7d268119' title='Show/Hide attributes'><svg class='icon xr-icon-file-text2'><use xlink:href='#icon-file-text2'></use></svg></label><input id='data-d00e8898-1af9-476e-94cc-fa15245be94b' class='xr-var-data-in' type='checkbox'><label for='data-d00e8898-1af9-476e-94cc-fa15245be94b' title='Show/Hide data repr'><svg class='icon xr-icon-database'><use xlink:href='#icon-database'></use></svg></label><div class='xr-var-attrs'><dl class='xr-attrs'><dt><span>long_name :</span></dt><dd>Calculated Apparent Surface Reflectivity</dd><dt><span>units :</span></dt><dd>1</dd><dt><span>source :</span></dt><dd>Sea Ice ATBD</dd><dt><span>contentType :</span></dt><dd>referenceInformation</dd><dt><span>description :</span></dt><dd>Computed apparent surface reflectance for the sea ice segment.</dd><dt><span>coordinates :</span></dt><dd>../delta_time ../latitude ../longitude</dd></dl></div><div class='xr-var-data'><pre>[235584 values with dtype=float32]</pre></div></li><li class='xr-var-item'><div class='xr-var-name'><span>height_segment_confidence</span></div><div class='xr-var-dims'>(delta_time)</div><div class='xr-var-dtype'>float32</div><div class='xr-var-preview xr-preview'>...</div><input id='attrs-e200f353-0933-4a72-8392-b575e977df0e' class='xr-var-attrs-in' type='checkbox' ><label for='attrs-e200f353-0933-4a72-8392-b575e977df0e' title='Show/Hide attributes'><svg class='icon xr-icon-file-text2'><use xlink:href='#icon-file-text2'></use></svg></label><input id='data-74852a40-885c-499d-a2e7-a38197d6414a' class='xr-var-data-in' type='checkbox'><label for='data-74852a40-885c-499d-a2e7-a38197d6414a' title='Show/Hide data repr'><svg class='icon xr-icon-database'><use xlink:href='#icon-database'></use></svg></label><div class='xr-var-attrs'><dl class='xr-attrs'><dt><span>long_name :</span></dt><dd>Surface height confidence</dd><dt><span>units :</span></dt><dd>1</dd><dt><span>source :</span></dt><dd>ATBD, section 4.2.4.2</dd><dt><span>contentType :</span></dt><dd>referenceInformation</dd><dt><span>description :</span></dt><dd>Confidence level in the surface height estimate based on the number of photons; the background noise rate; and the error analysis</dd><dt><span>coordinates :</span></dt><dd>../delta_time ../latitude ../longitude</dd></dl></div><div class='xr-var-data'><pre>[235584 values with dtype=float32]</pre></div></li><li class='xr-var-item'><div class='xr-var-name'><span>height_segment_fit_quality_flag</span></div><div class='xr-var-dims'>(delta_time)</div><div class='xr-var-dtype'>float32</div><div class='xr-var-preview xr-preview'>...</div><input id='attrs-b8839591-a42f-4873-9de4-372dfce09ba4' class='xr-var-attrs-in' type='checkbox' ><label for='attrs-b8839591-a42f-4873-9de4-372dfce09ba4' title='Show/Hide attributes'><svg class='icon xr-icon-file-text2'><use xlink:href='#icon-file-text2'></use></svg></label><input id='data-c7117238-a2cc-43c2-a2f9-1a4b425c8a3a' class='xr-var-data-in' type='checkbox'><label for='data-c7117238-a2cc-43c2-a2f9-1a4b425c8a3a' title='Show/Hide data repr'><svg class='icon xr-icon-database'><use xlink:href='#icon-database'></use></svg></label><div class='xr-var-attrs'><dl class='xr-attrs'><dt><span>long_name :</span></dt><dd>height Quality Flag</dd><dt><span>units :</span></dt><dd>1</dd><dt><span>source :</span></dt><dd>ATBD, section 4.2.4.2</dd><dt><span>valid_min :</span></dt><dd>-1</dd><dt><span>valid_max :</span></dt><dd>5</dd><dt><span>contentType :</span></dt><dd>referenceInformation</dd><dt><span>description :</span></dt><dd>Flag describing the quality of the results of the along-track fit. (-1=height value is invalid; 1=ngrid_w &lt; wlength/2; 2=ngrid_w &gt;= wlength/2; 3=ngrid_dt &lt; dtlength/2; 4=ngrid_dt &gt;= dtlength/2; 5=ngrid_dt &gt;= (dtlength-2): where 1 is best and 5 is poor). Heights are reported even if this flag indicates the height is invalid.</dd><dt><span>coordinates :</span></dt><dd>../delta_time ../latitude ../longitude</dd><dt><span>flag_meanings :</span></dt><dd>invalid best high med low poor</dd><dt><span>flag_values :</span></dt><dd>[-1  1  2  3  4  5]</dd></dl></div><div class='xr-var-data'><pre>[235584 values with dtype=float32]</pre></div></li><li class='xr-var-item'><div class='xr-var-name'><span>height_segment_height</span></div><div class='xr-var-dims'>(delta_time)</div><div class='xr-var-dtype'>float32</div><div class='xr-var-preview xr-preview'>...</div><input id='attrs-0ec9dd92-e0a7-4c48-82ce-f8e186318201' class='xr-var-attrs-in' type='checkbox' ><label for='attrs-0ec9dd92-e0a7-4c48-82ce-f8e186318201' title='Show/Hide attributes'><svg class='icon xr-icon-file-text2'><use xlink:href='#icon-file-text2'></use></svg></label><input id='data-58e4387c-a6e5-461a-a412-58c5d1b43dbd' class='xr-var-data-in' type='checkbox'><label for='data-58e4387c-a6e5-461a-a412-58c5d1b43dbd' title='Show/Hide data repr'><svg class='icon xr-icon-database'><use xlink:href='#icon-database'></use></svg></label><div class='xr-var-attrs'><dl class='xr-attrs'><dt><span>long_name :</span></dt><dd>height of segment surface</dd><dt><span>units :</span></dt><dd>meters</dd><dt><span>source :</span></dt><dd>ATBD, section 4.2.2.4</dd><dt><span>contentType :</span></dt><dd>referenceInformation</dd><dt><span>description :</span></dt><dd>Mean height from along-track segment fit detremined by the sea ice algorithm. The sea ice height is relative to the tide-free MSS.</dd><dt><span>coordinates :</span></dt><dd>../delta_time ../latitude ../longitude</dd></dl></div><div class='xr-var-data'><pre>[235584 values with dtype=float32]</pre></div></li><li class='xr-var-item'><div class='xr-var-name'><span>height_segment_htcorr_skew</span></div><div class='xr-var-dims'>(delta_time)</div><div class='xr-var-dtype'>float32</div><div class='xr-var-preview xr-preview'>...</div><input id='attrs-dd8402ef-1a31-42e4-8178-edd863146a89' class='xr-var-attrs-in' type='checkbox' ><label for='attrs-dd8402ef-1a31-42e4-8178-edd863146a89' title='Show/Hide attributes'><svg class='icon xr-icon-file-text2'><use xlink:href='#icon-file-text2'></use></svg></label><input id='data-fadc0b15-36ea-464e-9509-49c83c5fc4dd' class='xr-var-data-in' type='checkbox'><label for='data-fadc0b15-36ea-464e-9509-49c83c5fc4dd' title='Show/Hide data repr'><svg class='icon xr-icon-database'><use xlink:href='#icon-database'></use></svg></label><div class='xr-var-attrs'><dl class='xr-attrs'><dt><span>long_name :</span></dt><dd>Height Correction for Skew</dd><dt><span>units :</span></dt><dd>meters</dd><dt><span>source :</span></dt><dd>ATBD, section 4.2.6</dd><dt><span>contentType :</span></dt><dd>referenceInformation</dd><dt><span>description :</span></dt><dd>height corection for skew</dd><dt><span>coordinates :</span></dt><dd>../delta_time ../latitude ../longitude</dd></dl></div><div class='xr-var-data'><pre>[235584 values with dtype=float32]</pre></div></li><li class='xr-var-item'><div class='xr-var-name'><span>height_segment_length_seg</span></div><div class='xr-var-dims'>(delta_time)</div><div class='xr-var-dtype'>float32</div><div class='xr-var-preview xr-preview'>...</div><input id='attrs-86d7f2df-7879-49ab-aaa1-92ed02147f2a' class='xr-var-attrs-in' type='checkbox' ><label for='attrs-86d7f2df-7879-49ab-aaa1-92ed02147f2a' title='Show/Hide attributes'><svg class='icon xr-icon-file-text2'><use xlink:href='#icon-file-text2'></use></svg></label><input id='data-f28a06f8-be9f-4e2b-965e-163a86e97b5c' class='xr-var-data-in' type='checkbox'><label for='data-f28a06f8-be9f-4e2b-965e-163a86e97b5c' title='Show/Hide data repr'><svg class='icon xr-icon-database'><use xlink:href='#icon-database'></use></svg></label><div class='xr-var-attrs'><dl class='xr-attrs'><dt><span>long_name :</span></dt><dd>length of segment</dd><dt><span>units :</span></dt><dd>meters</dd><dt><span>source :</span></dt><dd>ATBD, section 4.2.2.4</dd><dt><span>contentType :</span></dt><dd>referenceInformation</dd><dt><span>description :</span></dt><dd>along-track length of segment containing n_photons_actual</dd><dt><span>coordinates :</span></dt><dd>../delta_time ../latitude ../longitude</dd></dl></div><div class='xr-var-data'><pre>[235584 values with dtype=float32]</pre></div></li><li class='xr-var-item'><div class='xr-var-name'><span>height_segment_n_pulse_seg</span></div><div class='xr-var-dims'>(delta_time)</div><div class='xr-var-dtype'>int32</div><div class='xr-var-preview xr-preview'>...</div><input id='attrs-cdc1ad44-bdb6-4822-b96c-2cfd364f5513' class='xr-var-attrs-in' type='checkbox' ><label for='attrs-cdc1ad44-bdb6-4822-b96c-2cfd364f5513' title='Show/Hide attributes'><svg class='icon xr-icon-file-text2'><use xlink:href='#icon-file-text2'></use></svg></label><input id='data-2c6edf9c-56da-4d23-a0eb-23c867fa177a' class='xr-var-data-in' type='checkbox'><label for='data-2c6edf9c-56da-4d23-a0eb-23c867fa177a' title='Show/Hide data repr'><svg class='icon xr-icon-database'><use xlink:href='#icon-database'></use></svg></label><div class='xr-var-attrs'><dl class='xr-attrs'><dt><span>long_name :</span></dt><dd>number of laser pulses</dd><dt><span>units :</span></dt><dd>1</dd><dt><span>source :</span></dt><dd>ATBD, section 4.2.2.4</dd><dt><span>contentType :</span></dt><dd>referenceInformation</dd><dt><span>description :</span></dt><dd>number of laser pulses</dd><dt><span>coordinates :</span></dt><dd>../delta_time ../latitude ../longitude</dd></dl></div><div class='xr-var-data'><pre>[235584 values with dtype=int32]</pre></div></li><li class='xr-var-item'><div class='xr-var-name'><span>height_segment_quality</span></div><div class='xr-var-dims'>(delta_time)</div><div class='xr-var-dtype'>int8</div><div class='xr-var-preview xr-preview'>...</div><input id='attrs-e1ee77a0-33e6-4393-8a15-704693d5a6ea' class='xr-var-attrs-in' type='checkbox' ><label for='attrs-e1ee77a0-33e6-4393-8a15-704693d5a6ea' title='Show/Hide attributes'><svg class='icon xr-icon-file-text2'><use xlink:href='#icon-file-text2'></use></svg></label><input id='data-147cb98e-1595-4efc-9453-b926175b1779' class='xr-var-data-in' type='checkbox'><label for='data-147cb98e-1595-4efc-9453-b926175b1779' title='Show/Hide data repr'><svg class='icon xr-icon-database'><use xlink:href='#icon-database'></use></svg></label><div class='xr-var-attrs'><dl class='xr-attrs'><dt><span>units :</span></dt><dd>1</dd><dt><span>source :</span></dt><dd>ATBD, section 4.2.4</dd><dt><span>long_name :</span></dt><dd>Height Segment Quality Flag</dd><dt><span>valid_min :</span></dt><dd>0</dd><dt><span>valid_max :</span></dt><dd>1</dd><dt><span>contentType :</span></dt><dd>referenceInformation</dd><dt><span>description :</span></dt><dd>Height segment quality flag, 1 is good quality, 0 is bad depending on fit, wguassian, or layer flag</dd><dt><span>coordinates :</span></dt><dd>../delta_time ../latitude ../longitude</dd><dt><span>flag_meanings :</span></dt><dd>bad_quality good_quality</dd><dt><span>flag_values :</span></dt><dd>[0 1]</dd></dl></div><div class='xr-var-data'><pre>[235584 values with dtype=int8]</pre></div></li><li class='xr-var-item'><div class='xr-var-name'><span>height_segment_rms</span></div><div class='xr-var-dims'>(delta_time)</div><div class='xr-var-dtype'>float32</div><div class='xr-var-preview xr-preview'>...</div><input id='attrs-3741ec8c-36b5-4c33-a131-17be223362e7' class='xr-var-attrs-in' type='checkbox' ><label for='attrs-3741ec8c-36b5-4c33-a131-17be223362e7' title='Show/Hide attributes'><svg class='icon xr-icon-file-text2'><use xlink:href='#icon-file-text2'></use></svg></label><input id='data-f6f6cad7-0f9b-456d-818a-35fbb5bcd0f9' class='xr-var-data-in' type='checkbox'><label for='data-f6f6cad7-0f9b-456d-818a-35fbb5bcd0f9' title='Show/Hide data repr'><svg class='icon xr-icon-database'><use xlink:href='#icon-database'></use></svg></label><div class='xr-var-attrs'><dl class='xr-attrs'><dt><span>long_name :</span></dt><dd>height rms</dd><dt><span>units :</span></dt><dd>meters</dd><dt><span>source :</span></dt><dd>ATBD, section 4.2.2.4</dd><dt><span>contentType :</span></dt><dd>referenceInformation</dd><dt><span>description :</span></dt><dd>RMS difference between sea ice modeled and observed photon height distribution</dd><dt><span>coordinates :</span></dt><dd>../delta_time ../latitude ../longitude</dd></dl></div><div class='xr-var-data'><pre>[235584 values with dtype=float32]</pre></div></li><li class='xr-var-item'><div class='xr-var-name'><span>height_segment_ssh_flag</span></div><div class='xr-var-dims'>(delta_time)</div><div class='xr-var-dtype'>int8</div><div class='xr-var-preview xr-preview'>...</div><input id='attrs-39702b68-124a-48be-bae4-85ec96a2d4ed' class='xr-var-attrs-in' type='checkbox' ><label for='attrs-39702b68-124a-48be-bae4-85ec96a2d4ed' title='Show/Hide attributes'><svg class='icon xr-icon-file-text2'><use xlink:href='#icon-file-text2'></use></svg></label><input id='data-be0cd856-63d3-4c6e-a2eb-2a5966cec046' class='xr-var-data-in' type='checkbox'><label for='data-be0cd856-63d3-4c6e-a2eb-2a5966cec046' title='Show/Hide data repr'><svg class='icon xr-icon-database'><use xlink:href='#icon-database'></use></svg></label><div class='xr-var-attrs'><dl class='xr-attrs'><dt><span>long_name :</span></dt><dd>Sea Surface Flag</dd><dt><span>units :</span></dt><dd>1</dd><dt><span>source :</span></dt><dd>ATBD, section 4.3</dd><dt><span>valid_min :</span></dt><dd>0</dd><dt><span>valid_max :</span></dt><dd>1</dd><dt><span>contentType :</span></dt><dd>referenceInformation</dd><dt><span>description :</span></dt><dd>Identifies the height segments that are candidates for use as sea surface reference in freeboard calculations in ATL10. 0 = sea ice; 1 = sea surface</dd><dt><span>coordinates :</span></dt><dd>../delta_time ../latitude ../longitude</dd><dt><span>flag_meanings :</span></dt><dd>sea_ice sea_surface</dd><dt><span>flag_values :</span></dt><dd>[0 1]</dd></dl></div><div class='xr-var-data'><pre>[235584 values with dtype=int8]</pre></div></li><li class='xr-var-item'><div class='xr-var-name'><span>height_segment_surface_error_est</span></div><div class='xr-var-dims'>(delta_time)</div><div class='xr-var-dtype'>float32</div><div class='xr-var-preview xr-preview'>...</div><input id='attrs-43133247-94d7-4c9d-9b7d-119477e53be3' class='xr-var-attrs-in' type='checkbox' ><label for='attrs-43133247-94d7-4c9d-9b7d-119477e53be3' title='Show/Hide attributes'><svg class='icon xr-icon-file-text2'><use xlink:href='#icon-file-text2'></use></svg></label><input id='data-86d3f5a6-1f3d-4763-907d-c0d8ec01c0e2' class='xr-var-data-in' type='checkbox'><label for='data-86d3f5a6-1f3d-4763-907d-c0d8ec01c0e2' title='Show/Hide data repr'><svg class='icon xr-icon-database'><use xlink:href='#icon-database'></use></svg></label><div class='xr-var-attrs'><dl class='xr-attrs'><dt><span>long_name :</span></dt><dd>h surface error est</dd><dt><span>units :</span></dt><dd>meters</dd><dt><span>source :</span></dt><dd>ATBD, section 4.2.2.4</dd><dt><span>contentType :</span></dt><dd>referenceInformation</dd><dt><span>description :</span></dt><dd>Error estimate of the surface height</dd><dt><span>coordinates :</span></dt><dd>../delta_time ../latitude ../longitude</dd></dl></div><div class='xr-var-data'><pre>[235584 values with dtype=float32]</pre></div></li><li class='xr-var-item'><div class='xr-var-name'><span>height_segment_type</span></div><div class='xr-var-dims'>(delta_time)</div><div class='xr-var-dtype'>int8</div><div class='xr-var-preview xr-preview'>...</div><input id='attrs-ba4d32c8-c2ac-42f4-898c-a0f19b349c0f' class='xr-var-attrs-in' type='checkbox' ><label for='attrs-ba4d32c8-c2ac-42f4-898c-a0f19b349c0f' title='Show/Hide attributes'><svg class='icon xr-icon-file-text2'><use xlink:href='#icon-file-text2'></use></svg></label><input id='data-65cd73aa-43a1-4311-a707-f43f47acbc39' class='xr-var-data-in' type='checkbox'><label for='data-65cd73aa-43a1-4311-a707-f43f47acbc39' title='Show/Hide data repr'><svg class='icon xr-icon-database'><use xlink:href='#icon-database'></use></svg></label><div class='xr-var-attrs'><dl class='xr-attrs'><dt><span>long_name :</span></dt><dd>Segment surface type</dd><dt><span>units :</span></dt><dd>1</dd><dt><span>source :</span></dt><dd>ATBD, section 4.3</dd><dt><span>valid_min :</span></dt><dd>0</dd><dt><span>valid_max :</span></dt><dd>9</dd><dt><span>contentType :</span></dt><dd>referenceInformation</dd><dt><span>description :</span></dt><dd>Value that indicates segment surface type as sea ice or different types of sea surface. 0=cloud covered: rsurf</dd><dt><span>coordinates :</span></dt><dd>../delta_time ../latitude ../longitude</dd><dt><span>flag_meanings :</span></dt><dd>cloud_covered other specular_lead_low_w_bkg specular_lead_low specular_lead_high_w_bkg specular_lead_high dark_lead_smooth_w_bkg dark_lead_smooth dark_lead_rough_w_bkg dark_lead_rough</dd><dt><span>flag_values :</span></dt><dd>[0 1 2 3 4 5 6 7 8 9]</dd></dl></div><div class='xr-var-data'><pre>[235584 values with dtype=int8]</pre></div></li><li class='xr-var-item'><div class='xr-var-name'><span>height_segment_w_gaussian</span></div><div class='xr-var-dims'>(delta_time)</div><div class='xr-var-dtype'>float32</div><div class='xr-var-preview xr-preview'>...</div><input id='attrs-abb25247-bfc2-4985-9630-ccdea7b78c4c' class='xr-var-attrs-in' type='checkbox' ><label for='attrs-abb25247-bfc2-4985-9630-ccdea7b78c4c' title='Show/Hide attributes'><svg class='icon xr-icon-file-text2'><use xlink:href='#icon-file-text2'></use></svg></label><input id='data-9523d27c-e913-4d55-98c4-0fc2733e15f9' class='xr-var-data-in' type='checkbox'><label for='data-9523d27c-e913-4d55-98c4-0fc2733e15f9' title='Show/Hide data repr'><svg class='icon xr-icon-database'><use xlink:href='#icon-database'></use></svg></label><div class='xr-var-attrs'><dl class='xr-attrs'><dt><span>long_name :</span></dt><dd>width of best fit gaussian</dd><dt><span>units :</span></dt><dd>meters</dd><dt><span>source :</span></dt><dd>ATBD, section 4.2.4</dd><dt><span>contentType :</span></dt><dd>referenceInformation</dd><dt><span>description :</span></dt><dd>width of best fit gaussian</dd><dt><span>coordinates :</span></dt><dd>../delta_time ../latitude ../longitude</dd></dl></div><div class='xr-var-data'><pre>[235584 values with dtype=float32]</pre></div></li></ul></div></li><li class='xr-section-item'><input id='section-a1c8e853-f03a-42b6-b7ee-5ad2c12f639b' class='xr-section-summary-in' type='checkbox'  checked><label for='section-a1c8e853-f03a-42b6-b7ee-5ad2c12f639b' class='xr-section-summary' >Attributes: <span>(2)</span></label><div class='xr-section-inline-details'></div><div class='xr-section-details'><dl class='xr-attrs'><dt><span>Description :</span></dt><dd>Contains parameters relating to the calculated surface height for one Ground Track. As ICESat-2 orbits the earth, sequential transmit pulses illuminate six ground tracks on the surface of the earth.</dd><dt><span>data_rate :</span></dt><dd>Data within this group are stored at the sea_ice_height segment rate.</dd></dl></div></li></ul></div></div>"
      ],
      "text/plain": [
       "<xarray.Dataset>\n",
       "Dimensions:                           (delta_time: 235584)\n",
       "Dimensions without coordinates: delta_time\n",
       "Data variables: (12/14)\n",
       "    across_track_distance             (delta_time) float32 ...\n",
       "    height_segment_asr_calc           (delta_time) float32 ...\n",
       "    height_segment_confidence         (delta_time) float32 ...\n",
       "    height_segment_fit_quality_flag   (delta_time) float32 ...\n",
       "    height_segment_height             (delta_time) float32 ...\n",
       "    height_segment_htcorr_skew        (delta_time) float32 ...\n",
       "    ...                                ...\n",
       "    height_segment_quality            (delta_time) int8 ...\n",
       "    height_segment_rms                (delta_time) float32 ...\n",
       "    height_segment_ssh_flag           (delta_time) int8 ...\n",
       "    height_segment_surface_error_est  (delta_time) float32 ...\n",
       "    height_segment_type               (delta_time) int8 ...\n",
       "    height_segment_w_gaussian         (delta_time) float32 ...\n",
       "Attributes:\n",
       "    Description:  Contains parameters relating to the calculated surface heig...\n",
       "    data_rate:    Data within this group are stored at the sea_ice_height seg..."
      ]
     },
     "execution_count": 69,
     "metadata": {},
     "output_type": "execute_result"
    }
   ],
   "source": [
    "is2_hgt"
   ]
  },
  {
   "cell_type": "markdown",
   "metadata": {},
   "source": [
    "## Determine the GHRSST MODIS L2 granules returned from our time and area of interest"
   ]
  },
  {
   "cell_type": "code",
   "execution_count": 28,
   "metadata": {},
   "outputs": [
    {
     "name": "stdout",
     "output_type": "stream",
     "text": [
      "14\n"
     ]
    }
   ],
   "source": [
    "response = requests.get(granule_url, \n",
    "                        params={\n",
    "                            'concept_id': modis_concept_id,\n",
    "                            'temporal': temporal,\n",
    "                            'bounding_box': bounding_box,\n",
    "                            'page_size': 200,\n",
    "                            },\n",
    "                        headers={\n",
    "                            'Accept': 'application/json'\n",
    "                            }\n",
    "                       )\n",
    "print(response.headers['CMR-Hits'])"
   ]
  },
  {
   "cell_type": "code",
   "execution_count": 29,
   "metadata": {},
   "outputs": [
    {
     "name": "stdout",
     "output_type": "stream",
     "text": [
      "0 20190622000501-JPL-L2P_GHRSST-SSTskin-MODIS_A-D-v02.0-fv01.0\n",
      "['68.972 -68.622 89.99 111.998']\n",
      "1 20190622014501-JPL-L2P_GHRSST-SSTskin-MODIS_A-D-v02.0-fv01.0\n",
      "['67.505 -92.071 89.99 87.113']\n",
      "2 20190622032501-JPL-L2P_GHRSST-SSTskin-MODIS_A-D-v02.0-fv01.0\n",
      "['65.037 -117.358 89.988 62.455']\n",
      "3 20190622050001-JPL-L2P_GHRSST-SSTskin-MODIS_A-D-v02.0-fv01.0\n",
      "['65.673 -142.512 89.989 37.796']\n",
      "4 20190622050501-JPL-L2P_GHRSST-SSTskin-MODIS_A-D-v02.0-fv01.0\n",
      "['62.203 -97.787 87.561 30.113']\n",
      "5 20190622064001-JPL-L2P_GHRSST-SSTskin-MODIS_A-D-v02.0-fv01.0\n",
      "['68.031 -166.037 89.987 12.922']\n",
      "6 20190622064501-JPL-L2P_GHRSST-SSTskin-MODIS_A-N-v02.0-fv01.0\n",
      "['59.101 -98.694 83.559 -6.594']\n",
      "7 20190622064501-JPL-L2P_GHRSST-SSTskin-MODIS_A-D-v02.0-fv01.0\n",
      "['59.101 -98.694 83.559 -6.594']\n",
      "8 20190622082001-JPL-L2P_GHRSST-SSTskin-MODIS_A-D-v02.0-fv01.0\n",
      "['68.515 176.605 89.987 180', '68.515 -180 89.987 -19.769']\n",
      "9 20190622100001-JPL-L2P_GHRSST-SSTskin-MODIS_A-D-v02.0-fv01.0\n",
      "['66.272 152.489 89.986 180', '66.272 -180 89.986 -45.947']\n",
      "10 20190622113501-JPL-L2P_GHRSST-SSTskin-MODIS_A-D-v02.0-fv01.0\n",
      "['64.393 128.518 89.987 180', '64.393 -180 89.987 120.43']\n",
      "11 20190622114001-JPL-L2P_GHRSST-SSTskin-MODIS_A-D-v02.0-fv01.0\n",
      "['63.599 130.464 89.481 180', '63.599 -180 89.481 -62.731']\n",
      "12 20190622163001-JPL-L2P_GHRSST-SSTskin-MODIS_A-D-v02.0-fv01.0\n",
      "['60.019 -118.832 84.664 -19.808']\n",
      "13 20190622181001-JPL-L2P_GHRSST-SSTskin-MODIS_A-D-v02.0-fv01.0\n",
      "['63.055 -155.844 88.671 -8.036']\n"
     ]
    }
   ],
   "source": [
    "granules = response.json()['feed']['entry']\n",
    "\n",
    "for i, granule in enumerate(granules):\n",
    "    print(f'{i} {granule[\"title\"]}')\n",
    "    print(granule['boxes'])"
   ]
  },
  {
   "cell_type": "code",
   "execution_count": 30,
   "metadata": {},
   "outputs": [],
   "source": [
    "def bbox_geometry(boxs, t_crs=ccrs.NorthPolarStereo(), coord_order='swne', sep=' '):\n",
    "    '''Generates a shapely.geometry.box object from boxes metadata'''\n",
    "    if coord_order == 'swne':\n",
    "        lat_min, lon_min, lat_max, lon_max = [float(v) for v in boxs.split(sep)]\n",
    "    elif coord_order == 'wsen':\n",
    "        lon_min, lat_min, lon_max, lat_max = [float(v) for v in boxs.split(sep)]\n",
    "    x_min, y_min = t_crs.transform_point(lon_min, lat_min, ccrs.PlateCarree())\n",
    "    x_max, y_max = t_crs.transform_point(lon_max, lat_max, ccrs.PlateCarree())\n",
    "    return box(x_min, y_min, x_max, y_max)"
   ]
  },
  {
   "cell_type": "code",
   "execution_count": 31,
   "metadata": {},
   "outputs": [],
   "source": [
    "bbox_list = []\n",
    "for granule in granules:\n",
    "    for bbox in granule['boxes']:\n",
    "        bbox_list.append(bbox_geometry(bbox))"
   ]
  },
  {
   "cell_type": "code",
   "execution_count": 32,
   "metadata": {},
   "outputs": [
    {
     "data": {
      "text/plain": [
       "<cartopy.mpl.feature_artist.FeatureArtist at 0x7f22fc2d1af0>"
      ]
     },
     "execution_count": 32,
     "metadata": {},
     "output_type": "execute_result"
    },
    {
     "data": {
      "image/png": "[encoded data removed]",
      "text/plain": [
       "<Figure size 504x504 with 1 Axes>"
      ]
     },
     "metadata": {
      "needs_background": "light"
     },
     "output_type": "display_data"
    }
   ],
   "source": [
    "warnings.simplefilter(\"ignore\")\n",
    "\n",
    "map_proj = ccrs.NorthPolarStereo()\n",
    "\n",
    "fig = plt.figure(figsize=(7,7))\n",
    "ax = fig.add_subplot(projection=map_proj)\n",
    "ax.set_extent([-180., 180., 60., 90.], ccrs.PlateCarree())\n",
    "ax.coastlines()\n",
    "ax.gridlines()\n",
    "\n",
    "ax.add_geometries([bbox_geometry(bounding_box, coord_order='wsen', sep=',')], crs=map_proj)\n",
    "ax.add_geometries([bbox_list[0]], crs=map_proj, facecolor='none')"
   ]
  },
  {
   "cell_type": "markdown",
   "metadata": {
    "tags": []
   },
   "source": [
    "## Load data into xarray via S3 direct access"
   ]
  },
  {
   "cell_type": "markdown",
   "metadata": {},
   "source": [
    "Our CMR granule search returned 14 files for our time and area of interest.  However, not all granules will be suitable for analysis.\n",
    "\n",
    "I've identified the image with granule id G1956158784-POCLOUD as a good candidate, this is the 9th granule.  In this image, our area of interest is close to nadir.  This means that the instantaneous field of view over the area of interest cover a smaller area than at the edge of the image.\n",
    "\n",
    "We can use `pprint` to look at the metadata.\n",
    "\n",
    "We are looking for the link for _direct download access via s3_.  This is a url but with a prefix `s3://`.  This happens to be the first href link in the metadata.  "
   ]
  },
  {
   "cell_type": "code",
   "execution_count": 33,
   "metadata": {
    "tags": []
   },
   "outputs": [
    {
     "name": "stdout",
     "output_type": "stream",
     "text": [
      "{'boxes': ['66.272 152.489 89.986 180', '66.272 -180 89.986 -45.947'],\n",
      " 'browse_flag': False,\n",
      " 'collection_concept_id': 'C1940473819-POCLOUD',\n",
      " 'coordinate_system': 'CARTESIAN',\n",
      " 'data_center': 'POCLOUD',\n",
      " 'dataset_id': 'GHRSST Level 2P Global Sea Surface Skin Temperature from the '\n",
      "               'Moderate Resolution Imaging Spectroradiometer (MODIS) on the '\n",
      "               'NASA Aqua satellite (GDS2)',\n",
      " 'day_night_flag': 'UNSPECIFIED',\n",
      " 'granule_size': '19.13440227508545',\n",
      " 'id': 'G1956144560-POCLOUD',\n",
      " 'links': [{'href': 's3://podaac-ops-cumulus-protected/MODIS_A-JPL-L2P-v2019.0/20190622100001-JPL-L2P_GHRSST-SSTskin-MODIS_A-D-v02.0-fv01.0.nc',\n",
      "            'hreflang': 'en-US',\n",
      "            'rel': 'http://esipfed.org/ns/fedsearch/1.1/s3#',\n",
      "            'title': 'This link provides direct download access via S3 to the '\n",
      "                     'granule.'},\n",
      "           {'href': 'https://archive.podaac.earthdata.nasa.gov/podaac-ops-cumulus-protected/MODIS_A-JPL-L2P-v2019.0/20190622100001-JPL-L2P_GHRSST-SSTskin-MODIS_A-D-v02.0-fv01.0.nc',\n",
      "            'hreflang': 'en-US',\n",
      "            'rel': 'http://esipfed.org/ns/fedsearch/1.1/data#',\n",
      "            'title': 'Download '\n",
      "                     '20190622100001-JPL-L2P_GHRSST-SSTskin-MODIS_A-D-v02.0-fv01.0.nc'},\n",
      "           {'href': 'https://archive.podaac.earthdata.nasa.gov/podaac-ops-cumulus-public/MODIS_A-JPL-L2P-v2019.0/20190622100001-JPL-L2P_GHRSST-SSTskin-MODIS_A-D-v02.0-fv01.0.nc.md5',\n",
      "            'hreflang': 'en-US',\n",
      "            'rel': 'http://esipfed.org/ns/fedsearch/1.1/metadata#',\n",
      "            'title': 'Download '\n",
      "                     '20190622100001-JPL-L2P_GHRSST-SSTskin-MODIS_A-D-v02.0-fv01.0.nc.md5'},\n",
      "           {'href': 'https://archive.podaac.earthdata.nasa.gov/podaac-ops-cumulus-public/MODIS_A-JPL-L2P-v2019.0/20190622100001-JPL-L2P_GHRSST-SSTskin-MODIS_A-D-v02.0-fv01.0.cmr.json',\n",
      "            'hreflang': 'en-US',\n",
      "            'rel': 'http://esipfed.org/ns/fedsearch/1.1/metadata#',\n",
      "            'title': 'Download '\n",
      "                     '20190622100001-JPL-L2P_GHRSST-SSTskin-MODIS_A-D-v02.0-fv01.0.cmr.json'},\n",
      "           {'href': 'https://archive.podaac.earthdata.nasa.gov/s3credentials',\n",
      "            'hreflang': 'en-US',\n",
      "            'rel': 'http://esipfed.org/ns/fedsearch/1.1/metadata#',\n",
      "            'title': 'api endpoint to retrieve temporary credentials valid for '\n",
      "                     'same-region direct s3 access'},\n",
      "           {'href': 'https://opendap.earthdata.nasa.gov/providers/POCLOUD/collections/GHRSST%20Level%202P%20Global%20Sea%20Surface%20Skin%20Temperature%20from%20the%20Moderate%20Resolution%20Imaging%20Spectroradiometer%20(MODIS)%20on%20the%20NASA%20Aqua%20satellite%20(GDS2)/granules/20190622100001-JPL-L2P_GHRSST-SSTskin-MODIS_A-D-v02.0-fv01.0',\n",
      "            'hreflang': 'en-US',\n",
      "            'rel': 'http://esipfed.org/ns/fedsearch/1.1/data#',\n",
      "            'title': 'OPeNDAP request URL'},\n",
      "           {'href': 'https://github.com/podaac/data-readers',\n",
      "            'hreflang': 'en-US',\n",
      "            'inherited': True,\n",
      "            'rel': 'http://esipfed.org/ns/fedsearch/1.1/documentation#'},\n",
      "           {'href': 'https://podaac-tools.jpl.nasa.gov/drive/files/OceanTemperature/ghrsst/docs/GDS20r5.pdf',\n",
      "            'hreflang': 'en-US',\n",
      "            'inherited': True,\n",
      "            'rel': 'http://esipfed.org/ns/fedsearch/1.1/documentation#'},\n",
      "           {'href': 'https://ghrsst.jpl.nasa.gov',\n",
      "            'hreflang': 'en-US',\n",
      "            'inherited': True,\n",
      "            'rel': 'http://esipfed.org/ns/fedsearch/1.1/documentation#'},\n",
      "           {'href': 'https://oceancolor.gsfc.nasa.gov/atbd/sst/flag/',\n",
      "            'hreflang': 'en-US',\n",
      "            'inherited': True,\n",
      "            'rel': 'http://esipfed.org/ns/fedsearch/1.1/documentation#'},\n",
      "           {'href': 'https://oceancolor.gsfc.nasa.gov/reprocessing/r2019/sst/',\n",
      "            'hreflang': 'en-US',\n",
      "            'inherited': True,\n",
      "            'rel': 'http://esipfed.org/ns/fedsearch/1.1/documentation#'},\n",
      "           {'href': 'https://oceancolor.gsfc.nasa.gov/atbd/sst4/',\n",
      "            'hreflang': 'en-US',\n",
      "            'inherited': True,\n",
      "            'rel': 'http://esipfed.org/ns/fedsearch/1.1/documentation#'},\n",
      "           {'href': 'https://modis.gsfc.nasa.gov/data/atbd/atbd_mod25.pdf',\n",
      "            'hreflang': 'en-US',\n",
      "            'inherited': True,\n",
      "            'rel': 'http://esipfed.org/ns/fedsearch/1.1/documentation#'},\n",
      "           {'href': 'https://oceancolor.gsfc.nasa.gov/atbd/sst/',\n",
      "            'hreflang': 'en-US',\n",
      "            'inherited': True,\n",
      "            'rel': 'http://esipfed.org/ns/fedsearch/1.1/documentation#'},\n",
      "           {'href': 'http://www.ghrsst.org',\n",
      "            'hreflang': 'en-US',\n",
      "            'inherited': True,\n",
      "            'rel': 'http://esipfed.org/ns/fedsearch/1.1/documentation#'},\n",
      "           {'href': 'https://podaac.jpl.nasa.gov/forum/viewforum.php?f=18&sid=e2d67e5a01815fc6e39fcd2087ed8bc8',\n",
      "            'hreflang': 'en-US',\n",
      "            'inherited': True,\n",
      "            'rel': 'http://esipfed.org/ns/fedsearch/1.1/documentation#'},\n",
      "           {'href': 'https://podaac.jpl.nasa.gov/CitingPODAAC',\n",
      "            'hreflang': 'en-US',\n",
      "            'inherited': True,\n",
      "            'rel': 'http://esipfed.org/ns/fedsearch/1.1/documentation#'},\n",
      "           {'href': 'https://cmr.earthdata.nasa.gov/virtual-directory/collections/C1940473819-POCLOUD',\n",
      "            'hreflang': 'en-US',\n",
      "            'inherited': True,\n",
      "            'length': '75.0MB',\n",
      "            'rel': 'http://esipfed.org/ns/fedsearch/1.1/data#'},\n",
      "           {'href': 'https://github.com/podaac/tutorials/blob/master/notebooks/MODIS_L2P_SST_DataCube.ipynb',\n",
      "            'hreflang': 'en-US',\n",
      "            'inherited': True,\n",
      "            'rel': 'http://esipfed.org/ns/fedsearch/1.1/documentation#'},\n",
      "           {'href': 'https://search.earthdata.nasa.gov/search/granules?p=C1940473819-POCLOUD',\n",
      "            'hreflang': 'en-US',\n",
      "            'inherited': True,\n",
      "            'rel': 'http://esipfed.org/ns/fedsearch/1.1/data#'}],\n",
      " 'online_access_flag': True,\n",
      " 'original_format': 'UMM_JSON',\n",
      " 'time_end': '2019-06-22T10:04:59.000Z',\n",
      " 'time_start': '2019-06-22T10:00:01.000Z',\n",
      " 'title': '20190622100001-JPL-L2P_GHRSST-SSTskin-MODIS_A-D-v02.0-fv01.0',\n",
      " 'updated': '2020-10-23T00:39:33.519Z'}\n"
     ]
    }
   ],
   "source": [
    "pprint(granules[9])"
   ]
  },
  {
   "cell_type": "markdown",
   "metadata": {},
   "source": [
    "For a single granule we can cut and paste the s3 link.  If we have several granules, the s3 links can be extracted with some simple code."
   ]
  },
  {
   "cell_type": "code",
   "execution_count": 34,
   "metadata": {},
   "outputs": [
    {
     "data": {
      "text/plain": [
       "'s3://podaac-ops-cumulus-protected/MODIS_A-JPL-L2P-v2019.0/20190622100001-JPL-L2P_GHRSST-SSTskin-MODIS_A-D-v02.0-fv01.0.nc'"
      ]
     },
     "execution_count": 34,
     "metadata": {},
     "output_type": "execute_result"
    }
   ],
   "source": [
    "granule = granules[9]\n",
    "\n",
    "for link in granule['links']:\n",
    "    if link['href'].startswith('s3://'):\n",
    "        s3_link = link['href']\n",
    "s3_link"
   ]
  },
  {
   "cell_type": "markdown",
   "metadata": {
    "tags": []
   },
   "source": [
    "### Get S3 credentials\n",
    "As with the previous S3 download tutorials we need credentials to access data from s3: access keys and tokens."
   ]
  },
  {
   "cell_type": "code",
   "execution_count": 35,
   "metadata": {},
   "outputs": [],
   "source": [
    "s3_credentials = requests.get('https://archive.podaac.earthdata.nasa.gov/s3credentials').json()"
   ]
  },
  {
   "cell_type": "markdown",
   "metadata": {},
   "source": [
    "Essentially, what we are doing in this step is to \"mount\" the s3 bucket as a file system.  This allows us to treat the S3 bucket in a similar way to a local file system.  We can list data using `ls`, copy data, and write data - assuming we have the permissions to do this."
   ]
  },
  {
   "cell_type": "code",
   "execution_count": 36,
   "metadata": {
    "tags": []
   },
   "outputs": [],
   "source": [
    "s3_fs = s3fs.S3FileSystem(\n",
    "    key=s3_credentials[\"accessKeyId\"],\n",
    "    secret=s3_credentials[\"secretAccessKey\"],\n",
    "    token=s3_credentials[\"sessionToken\"],\n",
    ")"
   ]
  },
  {
   "cell_type": "markdown",
   "metadata": {
    "tags": []
   },
   "source": [
    "### Open a s3 file"
   ]
  },
  {
   "cell_type": "markdown",
   "metadata": {},
   "source": [
    "Now we have the `S3FileSystem` set up, we can access the granule.  `xarray` cannot open a `S3File` directly, so we use the `open` method for the `S3FileSystem` to open the granule using the endpoint url we extracted from the metadata.  We also have to set the `mode='rb'`.  This opens the granule in read-only mode and in byte-mode.  Byte-mode is important.  By default, `open` opens a file as text - in this case it would just be a string of characters - and `xarray` doesn't know what to do with that.\n",
    "\n",
    "We then pass the `S3File` object `f` to `xarray.open_dataset`.  For this dataset, we also have to set `decode_cf=False`.  This switch tells `xarray` not to use information contained in variable attributes to generate human readable coordinate variables.  Normally, this should work for netcdf files but for this particular cloud-hosted dataset, variable attribute data is not in the form expected by `xarray`.  We'll fix this."
   ]
  },
  {
   "cell_type": "code",
   "execution_count": 37,
   "metadata": {},
   "outputs": [],
   "source": [
    "f = s3_fs.open(s3_link, mode='rb')\n",
    "modis = xr.open_dataset(f, decode_cf=False)"
   ]
  },
  {
   "cell_type": "markdown",
   "metadata": {},
   "source": [
    "If you click on the `Show/Hide Attributes` icon (the first document-like icon to the right of coordinate variable metadata) you can see that attributes are one-element arrays containing bytestrings."
   ]
  },
  {
   "cell_type": "code",
   "execution_count": 38,
   "metadata": {},
   "outputs": [
    {
     "data": {
      "text/html": [
       "<div><svg style=\"position: absolute; width: 0; height: 0; overflow: hidden\">\n",
       "<defs>\n",
       "<symbol id=\"icon-database\" viewBox=\"0 0 32 32\">\n",
       "<path d=\"M16 0c-8.837 0-16 2.239-16 5v4c0 2.761 7.163 5 16 5s16-2.239 16-5v-4c0-2.761-7.163-5-16-5z\"></path>\n",
       "<path d=\"M16 17c-8.837 0-16-2.239-16-5v6c0 2.761 7.163 5 16 5s16-2.239 16-5v-6c0 2.761-7.163 5-16 5z\"></path>\n",
       "<path d=\"M16 26c-8.837 0-16-2.239-16-5v6c0 2.761 7.163 5 16 5s16-2.239 16-5v-6c0 2.761-7.163 5-16 5z\"></path>\n",
       "</symbol>\n",
       "<symbol id=\"icon-file-text2\" viewBox=\"0 0 32 32\">\n",
       "<path d=\"M28.681 7.159c-0.694-0.947-1.662-2.053-2.724-3.116s-2.169-2.030-3.116-2.724c-1.612-1.182-2.393-1.319-2.841-1.319h-15.5c-1.378 0-2.5 1.121-2.5 2.5v27c0 1.378 1.122 2.5 2.5 2.5h23c1.378 0 2.5-1.122 2.5-2.5v-19.5c0-0.448-0.137-1.23-1.319-2.841zM24.543 5.457c0.959 0.959 1.712 1.825 2.268 2.543h-4.811v-4.811c0.718 0.556 1.584 1.309 2.543 2.268zM28 29.5c0 0.271-0.229 0.5-0.5 0.5h-23c-0.271 0-0.5-0.229-0.5-0.5v-27c0-0.271 0.229-0.5 0.5-0.5 0 0 15.499-0 15.5 0v7c0 0.552 0.448 1 1 1h7v19.5z\"></path>\n",
       "<path d=\"M23 26h-14c-0.552 0-1-0.448-1-1s0.448-1 1-1h14c0.552 0 1 0.448 1 1s-0.448 1-1 1z\"></path>\n",
       "<path d=\"M23 22h-14c-0.552 0-1-0.448-1-1s0.448-1 1-1h14c0.552 0 1 0.448 1 1s-0.448 1-1 1z\"></path>\n",
       "<path d=\"M23 18h-14c-0.552 0-1-0.448-1-1s0.448-1 1-1h14c0.552 0 1 0.448 1 1s-0.448 1-1 1z\"></path>\n",
       "</symbol>\n",
       "</defs>\n",
       "</svg>\n",
       "<style>/* CSS stylesheet for displaying xarray objects in jupyterlab.\n",
       " *\n",
       " */\n",
       "\n",
       ":root {\n",
       "  --xr-font-color0: var(--jp-content-font-color0, rgba(0, 0, 0, 1));\n",
       "  --xr-font-color2: var(--jp-content-font-color2, rgba(0, 0, 0, 0.54));\n",
       "  --xr-font-color3: var(--jp-content-font-color3, rgba(0, 0, 0, 0.38));\n",
       "  --xr-border-color: var(--jp-border-color2, #e0e0e0);\n",
       "  --xr-disabled-color: var(--jp-layout-color3, #bdbdbd);\n",
       "  --xr-background-color: var(--jp-layout-color0, white);\n",
       "  --xr-background-color-row-even: var(--jp-layout-color1, white);\n",
       "  --xr-background-color-row-odd: var(--jp-layout-color2, #eeeeee);\n",
       "}\n",
       "\n",
       "html[theme=dark],\n",
       "body.vscode-dark {\n",
       "  --xr-font-color0: rgba(255, 255, 255, 1);\n",
       "  --xr-font-color2: rgba(255, 255, 255, 0.54);\n",
       "  --xr-font-color3: rgba(255, 255, 255, 0.38);\n",
       "  --xr-border-color: #1F1F1F;\n",
       "  --xr-disabled-color: #515151;\n",
       "  --xr-background-color: #111111;\n",
       "  --xr-background-color-row-even: #111111;\n",
       "  --xr-background-color-row-odd: #313131;\n",
       "}\n",
       "\n",
       ".xr-wrap {\n",
       "  display: block;\n",
       "  min-width: 300px;\n",
       "  max-width: 700px;\n",
       "}\n",
       "\n",
       ".xr-text-repr-fallback {\n",
       "  /* fallback to plain text repr when CSS is not injected (untrusted notebook) */\n",
       "  display: none;\n",
       "}\n",
       "\n",
       ".xr-header {\n",
       "  padding-top: 6px;\n",
       "  padding-bottom: 6px;\n",
       "  margin-bottom: 4px;\n",
       "  border-bottom: solid 1px var(--xr-border-color);\n",
       "}\n",
       "\n",
       ".xr-header > div,\n",
       ".xr-header > ul {\n",
       "  display: inline;\n",
       "  margin-top: 0;\n",
       "  margin-bottom: 0;\n",
       "}\n",
       "\n",
       ".xr-obj-type,\n",
       ".xr-array-name {\n",
       "  margin-left: 2px;\n",
       "  margin-right: 10px;\n",
       "}\n",
       "\n",
       ".xr-obj-type {\n",
       "  color: var(--xr-font-color2);\n",
       "}\n",
       "\n",
       ".xr-sections {\n",
       "  padding-left: 0 !important;\n",
       "  display: grid;\n",
       "  grid-template-columns: 150px auto auto 1fr 20px 20px;\n",
       "}\n",
       "\n",
       ".xr-section-item {\n",
       "  display: contents;\n",
       "}\n",
       "\n",
       ".xr-section-item input {\n",
       "  display: none;\n",
       "}\n",
       "\n",
       ".xr-section-item input + label {\n",
       "  color: var(--xr-disabled-color);\n",
       "}\n",
       "\n",
       ".xr-section-item input:enabled + label {\n",
       "  cursor: pointer;\n",
       "  color: var(--xr-font-color2);\n",
       "}\n",
       "\n",
       ".xr-section-item input:enabled + label:hover {\n",
       "  color: var(--xr-font-color0);\n",
       "}\n",
       "\n",
       ".xr-section-summary {\n",
       "  grid-column: 1;\n",
       "  color: var(--xr-font-color2);\n",
       "  font-weight: 500;\n",
       "}\n",
       "\n",
       ".xr-section-summary > span {\n",
       "  display: inline-block;\n",
       "  padding-left: 0.5em;\n",
       "}\n",
       "\n",
       ".xr-section-summary-in:disabled + label {\n",
       "  color: var(--xr-font-color2);\n",
       "}\n",
       "\n",
       ".xr-section-summary-in + label:before {\n",
       "  display: inline-block;\n",
       "  content: '►';\n",
       "  font-size: 11px;\n",
       "  width: 15px;\n",
       "  text-align: center;\n",
       "}\n",
       "\n",
       ".xr-section-summary-in:disabled + label:before {\n",
       "  color: var(--xr-disabled-color);\n",
       "}\n",
       "\n",
       ".xr-section-summary-in:checked + label:before {\n",
       "  content: '▼';\n",
       "}\n",
       "\n",
       ".xr-section-summary-in:checked + label > span {\n",
       "  display: none;\n",
       "}\n",
       "\n",
       ".xr-section-summary,\n",
       ".xr-section-inline-details {\n",
       "  padding-top: 4px;\n",
       "  padding-bottom: 4px;\n",
       "}\n",
       "\n",
       ".xr-section-inline-details {\n",
       "  grid-column: 2 / -1;\n",
       "}\n",
       "\n",
       ".xr-section-details {\n",
       "  display: none;\n",
       "  grid-column: 1 / -1;\n",
       "  margin-bottom: 5px;\n",
       "}\n",
       "\n",
       ".xr-section-summary-in:checked ~ .xr-section-details {\n",
       "  display: contents;\n",
       "}\n",
       "\n",
       ".xr-array-wrap {\n",
       "  grid-column: 1 / -1;\n",
       "  display: grid;\n",
       "  grid-template-columns: 20px auto;\n",
       "}\n",
       "\n",
       ".xr-array-wrap > label {\n",
       "  grid-column: 1;\n",
       "  vertical-align: top;\n",
       "}\n",
       "\n",
       ".xr-preview {\n",
       "  color: var(--xr-font-color3);\n",
       "}\n",
       "\n",
       ".xr-array-preview,\n",
       ".xr-array-data {\n",
       "  padding: 0 5px !important;\n",
       "  grid-column: 2;\n",
       "}\n",
       "\n",
       ".xr-array-data,\n",
       ".xr-array-in:checked ~ .xr-array-preview {\n",
       "  display: none;\n",
       "}\n",
       "\n",
       ".xr-array-in:checked ~ .xr-array-data,\n",
       ".xr-array-preview {\n",
       "  display: inline-block;\n",
       "}\n",
       "\n",
       ".xr-dim-list {\n",
       "  display: inline-block !important;\n",
       "  list-style: none;\n",
       "  padding: 0 !important;\n",
       "  margin: 0;\n",
       "}\n",
       "\n",
       ".xr-dim-list li {\n",
       "  display: inline-block;\n",
       "  padding: 0;\n",
       "  margin: 0;\n",
       "}\n",
       "\n",
       ".xr-dim-list:before {\n",
       "  content: '(';\n",
       "}\n",
       "\n",
       ".xr-dim-list:after {\n",
       "  content: ')';\n",
       "}\n",
       "\n",
       ".xr-dim-list li:not(:last-child):after {\n",
       "  content: ',';\n",
       "  padding-right: 5px;\n",
       "}\n",
       "\n",
       ".xr-has-index {\n",
       "  font-weight: bold;\n",
       "}\n",
       "\n",
       ".xr-var-list,\n",
       ".xr-var-item {\n",
       "  display: contents;\n",
       "}\n",
       "\n",
       ".xr-var-item > div,\n",
       ".xr-var-item label,\n",
       ".xr-var-item > .xr-var-name span {\n",
       "  background-color: var(--xr-background-color-row-even);\n",
       "  margin-bottom: 0;\n",
       "}\n",
       "\n",
       ".xr-var-item > .xr-var-name:hover span {\n",
       "  padding-right: 5px;\n",
       "}\n",
       "\n",
       ".xr-var-list > li:nth-child(odd) > div,\n",
       ".xr-var-list > li:nth-child(odd) > label,\n",
       ".xr-var-list > li:nth-child(odd) > .xr-var-name span {\n",
       "  background-color: var(--xr-background-color-row-odd);\n",
       "}\n",
       "\n",
       ".xr-var-name {\n",
       "  grid-column: 1;\n",
       "}\n",
       "\n",
       ".xr-var-dims {\n",
       "  grid-column: 2;\n",
       "}\n",
       "\n",
       ".xr-var-dtype {\n",
       "  grid-column: 3;\n",
       "  text-align: right;\n",
       "  color: var(--xr-font-color2);\n",
       "}\n",
       "\n",
       ".xr-var-preview {\n",
       "  grid-column: 4;\n",
       "}\n",
       "\n",
       ".xr-var-name,\n",
       ".xr-var-dims,\n",
       ".xr-var-dtype,\n",
       ".xr-preview,\n",
       ".xr-attrs dt {\n",
       "  white-space: nowrap;\n",
       "  overflow: hidden;\n",
       "  text-overflow: ellipsis;\n",
       "  padding-right: 10px;\n",
       "}\n",
       "\n",
       ".xr-var-name:hover,\n",
       ".xr-var-dims:hover,\n",
       ".xr-var-dtype:hover,\n",
       ".xr-attrs dt:hover {\n",
       "  overflow: visible;\n",
       "  width: auto;\n",
       "  z-index: 1;\n",
       "}\n",
       "\n",
       ".xr-var-attrs,\n",
       ".xr-var-data {\n",
       "  display: none;\n",
       "  background-color: var(--xr-background-color) !important;\n",
       "  padding-bottom: 5px !important;\n",
       "}\n",
       "\n",
       ".xr-var-attrs-in:checked ~ .xr-var-attrs,\n",
       ".xr-var-data-in:checked ~ .xr-var-data {\n",
       "  display: block;\n",
       "}\n",
       "\n",
       ".xr-var-data > table {\n",
       "  float: right;\n",
       "}\n",
       "\n",
       ".xr-var-name span,\n",
       ".xr-var-data,\n",
       ".xr-attrs {\n",
       "  padding-left: 25px !important;\n",
       "}\n",
       "\n",
       ".xr-attrs,\n",
       ".xr-var-attrs,\n",
       ".xr-var-data {\n",
       "  grid-column: 1 / -1;\n",
       "}\n",
       "\n",
       "dl.xr-attrs {\n",
       "  padding: 0;\n",
       "  margin: 0;\n",
       "  display: grid;\n",
       "  grid-template-columns: 125px auto;\n",
       "}\n",
       "\n",
       ".xr-attrs dt,\n",
       ".xr-attrs dd {\n",
       "  padding: 0;\n",
       "  margin: 0;\n",
       "  float: left;\n",
       "  padding-right: 10px;\n",
       "  width: auto;\n",
       "}\n",
       "\n",
       ".xr-attrs dt {\n",
       "  font-weight: normal;\n",
       "  grid-column: 1;\n",
       "}\n",
       "\n",
       ".xr-attrs dt:hover span {\n",
       "  display: inline-block;\n",
       "  background: var(--xr-background-color);\n",
       "  padding-right: 10px;\n",
       "}\n",
       "\n",
       ".xr-attrs dd {\n",
       "  grid-column: 2;\n",
       "  white-space: pre-wrap;\n",
       "  word-break: break-all;\n",
       "}\n",
       "\n",
       ".xr-icon-database,\n",
       ".xr-icon-file-text2 {\n",
       "  display: inline-block;\n",
       "  vertical-align: middle;\n",
       "  width: 1em;\n",
       "  height: 1.5em !important;\n",
       "  stroke-width: 0;\n",
       "  stroke: currentColor;\n",
       "  fill: currentColor;\n",
       "}\n",
       "</style><pre class='xr-text-repr-fallback'>&lt;xarray.Dataset&gt;\n",
       "Dimensions:                  (nj: 2030, ni: 1354, time: 1)\n",
       "Coordinates:\n",
       "  * time                     (time) int32 1214042401\n",
       "Dimensions without coordinates: nj, ni\n",
       "Data variables:\n",
       "    lat                      (nj, ni) float32 ...\n",
       "    lon                      (nj, ni) float32 ...\n",
       "    sea_surface_temperature  (time, nj, ni) int16 ...\n",
       "    sst_dtime                (time, nj, ni) int16 ...\n",
       "    quality_level            (time, nj, ni) int8 ...\n",
       "    sses_bias                (time, nj, ni) int8 ...\n",
       "    sses_standard_deviation  (time, nj, ni) int8 ...\n",
       "    l2p_flags                (time, nj, ni) int16 ...\n",
       "    chlorophyll_a            (time, nj, ni) float32 ...\n",
       "    K_490                    (time, nj, ni) int16 ...\n",
       "    wind_speed               (time, nj, ni) int8 ...\n",
       "    dt_analysis              (time, nj, ni) int8 ...\n",
       "Attributes: (12/49)\n",
       "    Conventions:                [b&#x27;CF-1.7, ACDD-1.3&#x27;]\n",
       "    title:                      [b&#x27;MODIS Aqua L2P SST&#x27;]\n",
       "    summary:                    [b&#x27;Sea surface temperature retrievals produce...\n",
       "    references:                 [b&#x27;GHRSST Data Processing Specification v2r5&#x27;]\n",
       "    institution:                [b&#x27;NASA/JPL/OBPG/RSMAS&#x27;]\n",
       "    history:                    [b&#x27;MODIS L2P created at JPL PO.DAAC&#x27;]\n",
       "    ...                         ...\n",
       "    publisher_email:            [b&#x27;ghrsst-po@nceo.ac.uk&#x27;]\n",
       "    processing_level:           [b&#x27;L2P&#x27;]\n",
       "    cdm_data_type:              [b&#x27;swath&#x27;]\n",
       "    startDirection:             [b&#x27;Ascending&#x27;]\n",
       "    endDirection:               [b&#x27;Descending&#x27;]\n",
       "    day_night_flag:             [b&#x27;Day&#x27;]</pre><div class='xr-wrap' hidden><div class='xr-header'><div class='xr-obj-type'>xarray.Dataset</div></div><ul class='xr-sections'><li class='xr-section-item'><input id='section-f534e337-0b6a-4094-9fc4-80e8aa3f4c6b' class='xr-section-summary-in' type='checkbox' disabled ><label for='section-f534e337-0b6a-4094-9fc4-80e8aa3f4c6b' class='xr-section-summary'  title='Expand/collapse section'>Dimensions:</label><div class='xr-section-inline-details'><ul class='xr-dim-list'><li><span>nj</span>: 2030</li><li><span>ni</span>: 1354</li><li><span class='xr-has-index'>time</span>: 1</li></ul></div><div class='xr-section-details'></div></li><li class='xr-section-item'><input id='section-8897bf33-4460-404d-a14f-60478e0adb24' class='xr-section-summary-in' type='checkbox'  checked><label for='section-8897bf33-4460-404d-a14f-60478e0adb24' class='xr-section-summary' >Coordinates: <span>(1)</span></label><div class='xr-section-inline-details'></div><div class='xr-section-details'><ul class='xr-var-list'><li class='xr-var-item'><div class='xr-var-name'><span class='xr-has-index'>time</span></div><div class='xr-var-dims'>(time)</div><div class='xr-var-dtype'>int32</div><div class='xr-var-preview xr-preview'>1214042401</div><input id='attrs-10dd51f8-8067-44f1-8718-fbf6661a82a5' class='xr-var-attrs-in' type='checkbox' ><label for='attrs-10dd51f8-8067-44f1-8718-fbf6661a82a5' title='Show/Hide attributes'><svg class='icon xr-icon-file-text2'><use xlink:href='#icon-file-text2'></use></svg></label><input id='data-f83b7d68-06b5-42d9-aac6-374d8d76edc7' class='xr-var-data-in' type='checkbox'><label for='data-f83b7d68-06b5-42d9-aac6-374d8d76edc7' title='Show/Hide data repr'><svg class='icon xr-icon-database'><use xlink:href='#icon-database'></use></svg></label><div class='xr-var-attrs'><dl class='xr-attrs'><dt><span>long_name :</span></dt><dd>[b&#x27;reference time of sst file&#x27;]</dd><dt><span>standard_name :</span></dt><dd>[b&#x27;time&#x27;]</dd><dt><span>units :</span></dt><dd>[b&#x27;seconds since 1981-01-01 00:00:00&#x27;]</dd><dt><span>comment :</span></dt><dd>[b&#x27;time of first sensor observation&#x27;]</dd><dt><span>coverage_content_type :</span></dt><dd>[b&#x27;coordinate&#x27;]</dd></dl></div><div class='xr-var-data'><pre>array([1214042401], dtype=int32)</pre></div></li></ul></div></li><li class='xr-section-item'><input id='section-41baa1b3-49a5-40cc-af08-19ec1f46bc4f' class='xr-section-summary-in' type='checkbox'  checked><label for='section-41baa1b3-49a5-40cc-af08-19ec1f46bc4f' class='xr-section-summary' >Data variables: <span>(12)</span></label><div class='xr-section-inline-details'></div><div class='xr-section-details'><ul class='xr-var-list'><li class='xr-var-item'><div class='xr-var-name'><span>lat</span></div><div class='xr-var-dims'>(nj, ni)</div><div class='xr-var-dtype'>float32</div><div class='xr-var-preview xr-preview'>...</div><input id='attrs-8683ccb3-272e-4479-8815-cc089a8a8c8e' class='xr-var-attrs-in' type='checkbox' ><label for='attrs-8683ccb3-272e-4479-8815-cc089a8a8c8e' title='Show/Hide attributes'><svg class='icon xr-icon-file-text2'><use xlink:href='#icon-file-text2'></use></svg></label><input id='data-5db2cba5-ae6d-4329-a2bb-2c4821acd808' class='xr-var-data-in' type='checkbox'><label for='data-5db2cba5-ae6d-4329-a2bb-2c4821acd808' title='Show/Hide data repr'><svg class='icon xr-icon-database'><use xlink:href='#icon-database'></use></svg></label><div class='xr-var-attrs'><dl class='xr-attrs'><dt><span>long_name :</span></dt><dd>[b&#x27;latitude&#x27;]</dd><dt><span>standard_name :</span></dt><dd>[b&#x27;latitude&#x27;]</dd><dt><span>units :</span></dt><dd>[b&#x27;degrees_north&#x27;]</dd><dt><span>_FillValue :</span></dt><dd>[-999.]</dd><dt><span>valid_min :</span></dt><dd>[-90.]</dd><dt><span>valid_max :</span></dt><dd>[90.]</dd><dt><span>comment :</span></dt><dd>[b&#x27;geographical coordinates, WGS84 projection&#x27;]</dd><dt><span>coverage_content_type :</span></dt><dd>[b&#x27;coordinate&#x27;]</dd></dl></div><div class='xr-var-data'><pre>[2748620 values with dtype=float32]</pre></div></li><li class='xr-var-item'><div class='xr-var-name'><span>lon</span></div><div class='xr-var-dims'>(nj, ni)</div><div class='xr-var-dtype'>float32</div><div class='xr-var-preview xr-preview'>...</div><input id='attrs-e1e79f95-2acf-4c09-bf17-0af7a529d01b' class='xr-var-attrs-in' type='checkbox' ><label for='attrs-e1e79f95-2acf-4c09-bf17-0af7a529d01b' title='Show/Hide attributes'><svg class='icon xr-icon-file-text2'><use xlink:href='#icon-file-text2'></use></svg></label><input id='data-69d0049b-4064-42ac-a44b-c588b9c2de1d' class='xr-var-data-in' type='checkbox'><label for='data-69d0049b-4064-42ac-a44b-c588b9c2de1d' title='Show/Hide data repr'><svg class='icon xr-icon-database'><use xlink:href='#icon-database'></use></svg></label><div class='xr-var-attrs'><dl class='xr-attrs'><dt><span>long_name :</span></dt><dd>[b&#x27;longitude&#x27;]</dd><dt><span>standard_name :</span></dt><dd>[b&#x27;longitude&#x27;]</dd><dt><span>units :</span></dt><dd>[b&#x27;degrees_east&#x27;]</dd><dt><span>_FillValue :</span></dt><dd>[-999.]</dd><dt><span>valid_min :</span></dt><dd>[-180.]</dd><dt><span>valid_max :</span></dt><dd>[180.]</dd><dt><span>comment :</span></dt><dd>[b&#x27;geographical coordinates, WGS84 projection&#x27;]</dd><dt><span>coverage_content_type :</span></dt><dd>[b&#x27;coordinate&#x27;]</dd></dl></div><div class='xr-var-data'><pre>[2748620 values with dtype=float32]</pre></div></li><li class='xr-var-item'><div class='xr-var-name'><span>sea_surface_temperature</span></div><div class='xr-var-dims'>(time, nj, ni)</div><div class='xr-var-dtype'>int16</div><div class='xr-var-preview xr-preview'>...</div><input id='attrs-ad2671a1-cef1-4257-a128-d666869db562' class='xr-var-attrs-in' type='checkbox' ><label for='attrs-ad2671a1-cef1-4257-a128-d666869db562' title='Show/Hide attributes'><svg class='icon xr-icon-file-text2'><use xlink:href='#icon-file-text2'></use></svg></label><input id='data-1d6c2ca3-f0c8-4de6-80eb-751047d2c786' class='xr-var-data-in' type='checkbox'><label for='data-1d6c2ca3-f0c8-4de6-80eb-751047d2c786' title='Show/Hide data repr'><svg class='icon xr-icon-database'><use xlink:href='#icon-database'></use></svg></label><div class='xr-var-attrs'><dl class='xr-attrs'><dt><span>long_name :</span></dt><dd>[b&#x27;sea surface temperature&#x27;]</dd><dt><span>standard_name :</span></dt><dd>[b&#x27;sea_surface_skin_temperature&#x27;]</dd><dt><span>units :</span></dt><dd>[b&#x27;kelvin&#x27;]</dd><dt><span>_FillValue :</span></dt><dd>[-32767]</dd><dt><span>valid_min :</span></dt><dd>[-1000]</dd><dt><span>valid_max :</span></dt><dd>[10000]</dd><dt><span>comment :</span></dt><dd>[b&#x27;sea surface temperature from thermal IR (11 um) channels&#x27;]</dd><dt><span>scale_factor :</span></dt><dd>[0.005]</dd><dt><span>add_offset :</span></dt><dd>[273.15]</dd><dt><span>source :</span></dt><dd>[b&#x27;NASA and University of Miami&#x27;]</dd><dt><span>coordinates :</span></dt><dd>[b&#x27;lon lat&#x27;]</dd><dt><span>coverage_content_type :</span></dt><dd>[b&#x27;physicalMeasurement&#x27;]</dd></dl></div><div class='xr-var-data'><pre>[2748620 values with dtype=int16]</pre></div></li><li class='xr-var-item'><div class='xr-var-name'><span>sst_dtime</span></div><div class='xr-var-dims'>(time, nj, ni)</div><div class='xr-var-dtype'>int16</div><div class='xr-var-preview xr-preview'>...</div><input id='attrs-1c33de3b-dd60-4960-8aaa-65e73dd958a6' class='xr-var-attrs-in' type='checkbox' ><label for='attrs-1c33de3b-dd60-4960-8aaa-65e73dd958a6' title='Show/Hide attributes'><svg class='icon xr-icon-file-text2'><use xlink:href='#icon-file-text2'></use></svg></label><input id='data-4a67c826-506a-4940-bf03-a0f7a1dee299' class='xr-var-data-in' type='checkbox'><label for='data-4a67c826-506a-4940-bf03-a0f7a1dee299' title='Show/Hide data repr'><svg class='icon xr-icon-database'><use xlink:href='#icon-database'></use></svg></label><div class='xr-var-attrs'><dl class='xr-attrs'><dt><span>long_name :</span></dt><dd>[b&#x27;time difference from reference time&#x27;]</dd><dt><span>units :</span></dt><dd>[b&#x27;seconds&#x27;]</dd><dt><span>_FillValue :</span></dt><dd>[-32768]</dd><dt><span>valid_min :</span></dt><dd>[-32767]</dd><dt><span>valid_max :</span></dt><dd>[32767]</dd><dt><span>comment :</span></dt><dd>[b&#x27;time plus sst_dtime gives seconds after 00:00:00 UTC January 1, 1981&#x27;]</dd><dt><span>coordinates :</span></dt><dd>[b&#x27;lon lat&#x27;]</dd><dt><span>coverage_content_type :</span></dt><dd>[b&#x27;referenceInformation&#x27;]</dd></dl></div><div class='xr-var-data'><pre>[2748620 values with dtype=int16]</pre></div></li><li class='xr-var-item'><div class='xr-var-name'><span>quality_level</span></div><div class='xr-var-dims'>(time, nj, ni)</div><div class='xr-var-dtype'>int8</div><div class='xr-var-preview xr-preview'>...</div><input id='attrs-dcc837ea-3264-4e6f-b999-e263fea58829' class='xr-var-attrs-in' type='checkbox' ><label for='attrs-dcc837ea-3264-4e6f-b999-e263fea58829' title='Show/Hide attributes'><svg class='icon xr-icon-file-text2'><use xlink:href='#icon-file-text2'></use></svg></label><input id='data-d4834a13-c259-4d8b-9dfd-0a02d9e7d886' class='xr-var-data-in' type='checkbox'><label for='data-d4834a13-c259-4d8b-9dfd-0a02d9e7d886' title='Show/Hide data repr'><svg class='icon xr-icon-database'><use xlink:href='#icon-database'></use></svg></label><div class='xr-var-attrs'><dl class='xr-attrs'><dt><span>long_name :</span></dt><dd>[b&#x27;quality level of SST pixel&#x27;]</dd><dt><span>_FillValue :</span></dt><dd>[-128]</dd><dt><span>valid_min :</span></dt><dd>[0]</dd><dt><span>valid_max :</span></dt><dd>[5]</dd><dt><span>comment :</span></dt><dd>[b&#x27;thermal IR SST proximity confidence value; signed byte array: WARNING Some applications are unable to properly handle signed byte values. If values are encountered &gt; 127, please subtract 256 from this reported value&#x27;]</dd><dt><span>coordinates :</span></dt><dd>[b&#x27;lon lat&#x27;]</dd><dt><span>flag_values :</span></dt><dd>[0 1 2 3 4 5]</dd><dt><span>flag_meanings :</span></dt><dd>[b&#x27;no_data bad_data worst_quality low_quality acceptable_quality best_quality&#x27;]</dd><dt><span>coverage_content_type :</span></dt><dd>[b&#x27;qualityInformation&#x27;]</dd></dl></div><div class='xr-var-data'><pre>[2748620 values with dtype=int8]</pre></div></li><li class='xr-var-item'><div class='xr-var-name'><span>sses_bias</span></div><div class='xr-var-dims'>(time, nj, ni)</div><div class='xr-var-dtype'>int8</div><div class='xr-var-preview xr-preview'>...</div><input id='attrs-23ff95f2-0ae9-4fe0-a46f-9b24c9785b5b' class='xr-var-attrs-in' type='checkbox' ><label for='attrs-23ff95f2-0ae9-4fe0-a46f-9b24c9785b5b' title='Show/Hide attributes'><svg class='icon xr-icon-file-text2'><use xlink:href='#icon-file-text2'></use></svg></label><input id='data-e171463f-b532-407b-8cd0-218073cdf085' class='xr-var-data-in' type='checkbox'><label for='data-e171463f-b532-407b-8cd0-218073cdf085' title='Show/Hide data repr'><svg class='icon xr-icon-database'><use xlink:href='#icon-database'></use></svg></label><div class='xr-var-attrs'><dl class='xr-attrs'><dt><span>long_name :</span></dt><dd>[b&#x27;SSES bias error based on proximity confidence flags&#x27;]</dd><dt><span>units :</span></dt><dd>[b&#x27;kelvin&#x27;]</dd><dt><span>_FillValue :</span></dt><dd>[-128]</dd><dt><span>valid_min :</span></dt><dd>[-127]</dd><dt><span>valid_max :</span></dt><dd>[127]</dd><dt><span>comment :</span></dt><dd>[b&#x27;thermal IR SST bias error; signed byte array: WARNING Some applications are unable to properly handle signed byte values. If values are encountered &gt; 127, please subtract 256 from this reported value&#x27;]</dd><dt><span>scale_factor :</span></dt><dd>[0.15748031]</dd><dt><span>add_offset :</span></dt><dd>[0.]</dd><dt><span>coordinates :</span></dt><dd>[b&#x27;lon lat&#x27;]</dd><dt><span>coverage_content_type :</span></dt><dd>[b&#x27;auxiliaryInformation&#x27;]</dd></dl></div><div class='xr-var-data'><pre>[2748620 values with dtype=int8]</pre></div></li><li class='xr-var-item'><div class='xr-var-name'><span>sses_standard_deviation</span></div><div class='xr-var-dims'>(time, nj, ni)</div><div class='xr-var-dtype'>int8</div><div class='xr-var-preview xr-preview'>...</div><input id='attrs-f52e554d-e69d-4f7a-b2d9-0838e79c4812' class='xr-var-attrs-in' type='checkbox' ><label for='attrs-f52e554d-e69d-4f7a-b2d9-0838e79c4812' title='Show/Hide attributes'><svg class='icon xr-icon-file-text2'><use xlink:href='#icon-file-text2'></use></svg></label><input id='data-a37ff121-283c-4133-98eb-aec6a84c2279' class='xr-var-data-in' type='checkbox'><label for='data-a37ff121-283c-4133-98eb-aec6a84c2279' title='Show/Hide data repr'><svg class='icon xr-icon-database'><use xlink:href='#icon-database'></use></svg></label><div class='xr-var-attrs'><dl class='xr-attrs'><dt><span>long_name :</span></dt><dd>[b&#x27;SSES standard deviation error based on proximity confidence flags&#x27;]</dd><dt><span>units :</span></dt><dd>[b&#x27;kelvin&#x27;]</dd><dt><span>_FillValue :</span></dt><dd>[-128]</dd><dt><span>valid_min :</span></dt><dd>[-127]</dd><dt><span>valid_max :</span></dt><dd>[127]</dd><dt><span>comment :</span></dt><dd>[b&#x27;thermal IR SST standard deviation error; signed byte array: WARNING Some applications are unable to properly handle signed byte values. If values are encountered &gt; 127, please subtract 256 from this reported value&#x27;]</dd><dt><span>scale_factor :</span></dt><dd>[0.07874016]</dd><dt><span>add_offset :</span></dt><dd>[10.]</dd><dt><span>coordinates :</span></dt><dd>[b&#x27;lon lat&#x27;]</dd><dt><span>coverage_content_type :</span></dt><dd>[b&#x27;auxiliaryInformation&#x27;]</dd></dl></div><div class='xr-var-data'><pre>[2748620 values with dtype=int8]</pre></div></li><li class='xr-var-item'><div class='xr-var-name'><span>l2p_flags</span></div><div class='xr-var-dims'>(time, nj, ni)</div><div class='xr-var-dtype'>int16</div><div class='xr-var-preview xr-preview'>...</div><input id='attrs-d45d19d6-da7e-4ce5-92c4-da2cadbeebbe' class='xr-var-attrs-in' type='checkbox' ><label for='attrs-d45d19d6-da7e-4ce5-92c4-da2cadbeebbe' title='Show/Hide attributes'><svg class='icon xr-icon-file-text2'><use xlink:href='#icon-file-text2'></use></svg></label><input id='data-cdebe3cd-7768-4546-a324-518eeb53758d' class='xr-var-data-in' type='checkbox'><label for='data-cdebe3cd-7768-4546-a324-518eeb53758d' title='Show/Hide data repr'><svg class='icon xr-icon-database'><use xlink:href='#icon-database'></use></svg></label><div class='xr-var-attrs'><dl class='xr-attrs'><dt><span>long_name :</span></dt><dd>[b&#x27;L2P flags&#x27;]</dd><dt><span>valid_min :</span></dt><dd>[0]</dd><dt><span>valid_max :</span></dt><dd>[16]</dd><dt><span>comment :</span></dt><dd>[b&#x27;These flags can be used to further filter data variables&#x27;]</dd><dt><span>coordinates :</span></dt><dd>[b&#x27;lon lat&#x27;]</dd><dt><span>flag_meanings :</span></dt><dd>[b&#x27;microwave land ice lake river&#x27;]</dd><dt><span>flag_masks :</span></dt><dd>[ 1  2  4  8 16]</dd><dt><span>coverage_content_type :</span></dt><dd>[b&#x27;qualityInformation&#x27;]</dd></dl></div><div class='xr-var-data'><pre>[2748620 values with dtype=int16]</pre></div></li><li class='xr-var-item'><div class='xr-var-name'><span>chlorophyll_a</span></div><div class='xr-var-dims'>(time, nj, ni)</div><div class='xr-var-dtype'>float32</div><div class='xr-var-preview xr-preview'>...</div><input id='attrs-860b1596-dff2-48ff-be0c-c2d6a1ba549f' class='xr-var-attrs-in' type='checkbox' ><label for='attrs-860b1596-dff2-48ff-be0c-c2d6a1ba549f' title='Show/Hide attributes'><svg class='icon xr-icon-file-text2'><use xlink:href='#icon-file-text2'></use></svg></label><input id='data-385f1ab1-479d-4910-a0b2-a161b805054c' class='xr-var-data-in' type='checkbox'><label for='data-385f1ab1-479d-4910-a0b2-a161b805054c' title='Show/Hide data repr'><svg class='icon xr-icon-database'><use xlink:href='#icon-database'></use></svg></label><div class='xr-var-attrs'><dl class='xr-attrs'><dt><span>long_name :</span></dt><dd>[b&#x27;Chlorophyll Concentration, OC3 Algorithm&#x27;]</dd><dt><span>units :</span></dt><dd>[b&#x27;mg m^-3&#x27;]</dd><dt><span>_FillValue :</span></dt><dd>[-32767.]</dd><dt><span>valid_min :</span></dt><dd>[0.001]</dd><dt><span>valid_max :</span></dt><dd>[100.]</dd><dt><span>comment :</span></dt><dd>[b&#x27;non L2P core field&#x27;]</dd><dt><span>coordinates :</span></dt><dd>[b&#x27;lon lat&#x27;]</dd><dt><span>coverage_content_type :</span></dt><dd>[b&#x27;auxiliaryInformation&#x27;]</dd></dl></div><div class='xr-var-data'><pre>[2748620 values with dtype=float32]</pre></div></li><li class='xr-var-item'><div class='xr-var-name'><span>K_490</span></div><div class='xr-var-dims'>(time, nj, ni)</div><div class='xr-var-dtype'>int16</div><div class='xr-var-preview xr-preview'>...</div><input id='attrs-48b09d49-cb9d-4973-a7de-e4ca4abe0e94' class='xr-var-attrs-in' type='checkbox' ><label for='attrs-48b09d49-cb9d-4973-a7de-e4ca4abe0e94' title='Show/Hide attributes'><svg class='icon xr-icon-file-text2'><use xlink:href='#icon-file-text2'></use></svg></label><input id='data-72cebf92-7223-4b38-90c5-b0a10f28afc2' class='xr-var-data-in' type='checkbox'><label for='data-72cebf92-7223-4b38-90c5-b0a10f28afc2' title='Show/Hide data repr'><svg class='icon xr-icon-database'><use xlink:href='#icon-database'></use></svg></label><div class='xr-var-attrs'><dl class='xr-attrs'><dt><span>long_name :</span></dt><dd>[b&#x27;Diffuse attenuation coefficient at 490 nm (OBPG)&#x27;]</dd><dt><span>units :</span></dt><dd>[b&#x27;m^-1&#x27;]</dd><dt><span>_FillValue :</span></dt><dd>[-32767]</dd><dt><span>valid_min :</span></dt><dd>[50]</dd><dt><span>valid_max :</span></dt><dd>[30000]</dd><dt><span>comment :</span></dt><dd>[b&#x27;non L2P core field&#x27;]</dd><dt><span>scale_factor :</span></dt><dd>[0.0002]</dd><dt><span>add_offset :</span></dt><dd>[0.]</dd><dt><span>coordinates :</span></dt><dd>[b&#x27;lon lat&#x27;]</dd><dt><span>coverage_content_type :</span></dt><dd>[b&#x27;auxiliaryInformation&#x27;]</dd></dl></div><div class='xr-var-data'><pre>[2748620 values with dtype=int16]</pre></div></li><li class='xr-var-item'><div class='xr-var-name'><span>wind_speed</span></div><div class='xr-var-dims'>(time, nj, ni)</div><div class='xr-var-dtype'>int8</div><div class='xr-var-preview xr-preview'>...</div><input id='attrs-df352ab7-a083-49f8-960a-49afa6e3a211' class='xr-var-attrs-in' type='checkbox' ><label for='attrs-df352ab7-a083-49f8-960a-49afa6e3a211' title='Show/Hide attributes'><svg class='icon xr-icon-file-text2'><use xlink:href='#icon-file-text2'></use></svg></label><input id='data-ce5faeba-6a93-420c-a24b-e419d3b73f88' class='xr-var-data-in' type='checkbox'><label for='data-ce5faeba-6a93-420c-a24b-e419d3b73f88' title='Show/Hide data repr'><svg class='icon xr-icon-database'><use xlink:href='#icon-database'></use></svg></label><div class='xr-var-attrs'><dl class='xr-attrs'><dt><span>long_name :</span></dt><dd>[b&#x27;10m wind speed&#x27;]</dd><dt><span>standard_name :</span></dt><dd>[b&#x27;wind_speed&#x27;]</dd><dt><span>units :</span></dt><dd>[b&#x27;m s-1&#x27;]</dd><dt><span>_FillValue :</span></dt><dd>[-128]</dd><dt><span>valid_min :</span></dt><dd>[-127]</dd><dt><span>valid_max :</span></dt><dd>[127]</dd><dt><span>comment :</span></dt><dd>[b&#x27;Wind at 10 meters above the sea surface&#x27;]</dd><dt><span>scale_factor :</span></dt><dd>[0.2]</dd><dt><span>add_offset :</span></dt><dd>[25.]</dd><dt><span>source :</span></dt><dd>[b&#x27;TBD.  Placeholder.  Currently empty&#x27;]</dd><dt><span>coordinates :</span></dt><dd>[b&#x27;lon lat&#x27;]</dd><dt><span>grid_mapping :</span></dt><dd>[b&#x27;TBD&#x27;]</dd><dt><span>time_offset :</span></dt><dd>[2.]</dd><dt><span>height :</span></dt><dd>[b&#x27;10 m&#x27;]</dd><dt><span>coverage_content_type :</span></dt><dd>[b&#x27;auxiliaryInformation&#x27;]</dd></dl></div><div class='xr-var-data'><pre>[2748620 values with dtype=int8]</pre></div></li><li class='xr-var-item'><div class='xr-var-name'><span>dt_analysis</span></div><div class='xr-var-dims'>(time, nj, ni)</div><div class='xr-var-dtype'>int8</div><div class='xr-var-preview xr-preview'>...</div><input id='attrs-a2da16ee-5b16-4c39-9577-35b264fab7a7' class='xr-var-attrs-in' type='checkbox' ><label for='attrs-a2da16ee-5b16-4c39-9577-35b264fab7a7' title='Show/Hide attributes'><svg class='icon xr-icon-file-text2'><use xlink:href='#icon-file-text2'></use></svg></label><input id='data-03b40cee-37f8-4b48-89bb-7f9b8744516e' class='xr-var-data-in' type='checkbox'><label for='data-03b40cee-37f8-4b48-89bb-7f9b8744516e' title='Show/Hide data repr'><svg class='icon xr-icon-database'><use xlink:href='#icon-database'></use></svg></label><div class='xr-var-attrs'><dl class='xr-attrs'><dt><span>long_name :</span></dt><dd>[b&#x27;deviation from SST reference climatology&#x27;]</dd><dt><span>units :</span></dt><dd>[b&#x27;kelvin&#x27;]</dd><dt><span>_FillValue :</span></dt><dd>[-128]</dd><dt><span>valid_min :</span></dt><dd>[-127]</dd><dt><span>valid_max :</span></dt><dd>[127]</dd><dt><span>comment :</span></dt><dd>[b&#x27;TBD&#x27;]</dd><dt><span>scale_factor :</span></dt><dd>[0.1]</dd><dt><span>add_offset :</span></dt><dd>[0.]</dd><dt><span>source :</span></dt><dd>[b&#x27;TBD. Placeholder.  Currently empty&#x27;]</dd><dt><span>coordinates :</span></dt><dd>[b&#x27;lon lat&#x27;]</dd><dt><span>coverage_content_type :</span></dt><dd>[b&#x27;auxiliaryInformation&#x27;]</dd></dl></div><div class='xr-var-data'><pre>[2748620 values with dtype=int8]</pre></div></li></ul></div></li><li class='xr-section-item'><input id='section-a86e4ec4-5ec1-4783-b6cf-8313e5983000' class='xr-section-summary-in' type='checkbox'  ><label for='section-a86e4ec4-5ec1-4783-b6cf-8313e5983000' class='xr-section-summary' >Attributes: <span>(49)</span></label><div class='xr-section-inline-details'></div><div class='xr-section-details'><dl class='xr-attrs'><dt><span>Conventions :</span></dt><dd>[b&#x27;CF-1.7, ACDD-1.3&#x27;]</dd><dt><span>title :</span></dt><dd>[b&#x27;MODIS Aqua L2P SST&#x27;]</dd><dt><span>summary :</span></dt><dd>[b&#x27;Sea surface temperature retrievals produced at the NASA OBPG for the MODIS Aqua sensor.  These have been reformatted to GHRSST GDS specifications by the JPL PO.DAAC&#x27;]</dd><dt><span>references :</span></dt><dd>[b&#x27;GHRSST Data Processing Specification v2r5&#x27;]</dd><dt><span>institution :</span></dt><dd>[b&#x27;NASA/JPL/OBPG/RSMAS&#x27;]</dd><dt><span>history :</span></dt><dd>[b&#x27;MODIS L2P created at JPL PO.DAAC&#x27;]</dd><dt><span>comment :</span></dt><dd>[b&#x27;L2P Core without DT analysis or other ancillary fields; Day, Start Node:Ascending, End Node:Descending; WARNING Some applications are unable to properly handle signed byte values. If values are encountered &gt; 127, please subtract 256 from this reported value; Refined&#x27;]</dd><dt><span>license :</span></dt><dd>[b&#x27;GHRSST and PO.DAAC protocol allow data use as free and open.&#x27;]</dd><dt><span>id :</span></dt><dd>[b&#x27;MODIS_A-JPL-L2P-v2019.0&#x27;]</dd><dt><span>naming_authority :</span></dt><dd>[b&#x27;org.ghrsst&#x27;]</dd><dt><span>product_version :</span></dt><dd>[b&#x27;2019.0&#x27;]</dd><dt><span>uuid :</span></dt><dd>[b&#x27;f6e1f61d-c4a4-4c17-8354-0c15e12d688b&#x27;]</dd><dt><span>gds_version_id :</span></dt><dd>[b&#x27;2.0&#x27;]</dd><dt><span>netcdf_version_id :</span></dt><dd>[b&#x27;4.1&#x27;]</dd><dt><span>date_created :</span></dt><dd>[b&#x27;20200221T085224Z&#x27;]</dd><dt><span>file_quality_level :</span></dt><dd>[3]</dd><dt><span>spatial_resolution :</span></dt><dd>[b&#x27;1km&#x27;]</dd><dt><span>start_time :</span></dt><dd>[b&#x27;20190622T100001Z&#x27;]</dd><dt><span>time_coverage_start :</span></dt><dd>[b&#x27;20190622T100001Z&#x27;]</dd><dt><span>stop_time :</span></dt><dd>[b&#x27;20190622T100459Z&#x27;]</dd><dt><span>time_coverage_end :</span></dt><dd>[b&#x27;20190622T100459Z&#x27;]</dd><dt><span>northernmost_latitude :</span></dt><dd>[89.9862]</dd><dt><span>southernmost_latitude :</span></dt><dd>[66.2723]</dd><dt><span>easternmost_longitude :</span></dt><dd>[-45.9467]</dd><dt><span>westernmost_longitude :</span></dt><dd>[152.489]</dd><dt><span>source :</span></dt><dd>[b&#x27;MODIS sea surface temperature observations for the OBPG&#x27;]</dd><dt><span>platform :</span></dt><dd>[b&#x27;Aqua&#x27;]</dd><dt><span>sensor :</span></dt><dd>[b&#x27;MODIS&#x27;]</dd><dt><span>metadata_link :</span></dt><dd>[b&#x27;http://podaac.jpl.nasa.gov/ws/metadata/dataset/?format=iso&amp;shortName=MODIS_A-JPL-L2P-v2019.0&#x27;]</dd><dt><span>keywords :</span></dt><dd>[b&#x27;Oceans &gt; Ocean Temperature &gt; Sea Surface Temperature&#x27;]</dd><dt><span>keywords_vocabulary :</span></dt><dd>[b&#x27;NASA Global Change Master Directory (GCMD) Science Keywords&#x27;]</dd><dt><span>standard_name_vocabulary :</span></dt><dd>[b&#x27;NetCDF Climate and Forecast (CF) Metadata Convention&#x27;]</dd><dt><span>geospatial_lat_units :</span></dt><dd>[b&#x27;degrees_north&#x27;]</dd><dt><span>geospatial_lat_resolution :</span></dt><dd>[0.01]</dd><dt><span>geospatial_lon_units :</span></dt><dd>[b&#x27;degrees_east&#x27;]</dd><dt><span>geospatial_lon_resolution :</span></dt><dd>[0.01]</dd><dt><span>acknowledgment :</span></dt><dd>[b&#x27;The MODIS L2P sea surface temperature data are sponsored by NASA&#x27;]</dd><dt><span>creator_name :</span></dt><dd>[b&#x27;Ed Armstrong, JPL PO.DAAC&#x27;]</dd><dt><span>creator_email :</span></dt><dd>[b&#x27;edward.m.armstrong@jpl.nasa.gov&#x27;]</dd><dt><span>creator_url :</span></dt><dd>[b&#x27;http://podaac.jpl.nasa.gov&#x27;]</dd><dt><span>project :</span></dt><dd>[b&#x27;Group for High Resolution Sea Surface Temperature&#x27;]</dd><dt><span>publisher_name :</span></dt><dd>[b&#x27;The GHRSST Project Office&#x27;]</dd><dt><span>publisher_url :</span></dt><dd>[b&#x27;http://www.ghrsst.org&#x27;]</dd><dt><span>publisher_email :</span></dt><dd>[b&#x27;ghrsst-po@nceo.ac.uk&#x27;]</dd><dt><span>processing_level :</span></dt><dd>[b&#x27;L2P&#x27;]</dd><dt><span>cdm_data_type :</span></dt><dd>[b&#x27;swath&#x27;]</dd><dt><span>startDirection :</span></dt><dd>[b&#x27;Ascending&#x27;]</dd><dt><span>endDirection :</span></dt><dd>[b&#x27;Descending&#x27;]</dd><dt><span>day_night_flag :</span></dt><dd>[b&#x27;Day&#x27;]</dd></dl></div></li></ul></div></div>"
      ],
      "text/plain": [
       "<xarray.Dataset>\n",
       "Dimensions:                  (nj: 2030, ni: 1354, time: 1)\n",
       "Coordinates:\n",
       "  * time                     (time) int32 1214042401\n",
       "Dimensions without coordinates: nj, ni\n",
       "Data variables:\n",
       "    lat                      (nj, ni) float32 ...\n",
       "    lon                      (nj, ni) float32 ...\n",
       "    sea_surface_temperature  (time, nj, ni) int16 ...\n",
       "    sst_dtime                (time, nj, ni) int16 ...\n",
       "    quality_level            (time, nj, ni) int8 ...\n",
       "    sses_bias                (time, nj, ni) int8 ...\n",
       "    sses_standard_deviation  (time, nj, ni) int8 ...\n",
       "    l2p_flags                (time, nj, ni) int16 ...\n",
       "    chlorophyll_a            (time, nj, ni) float32 ...\n",
       "    K_490                    (time, nj, ni) int16 ...\n",
       "    wind_speed               (time, nj, ni) int8 ...\n",
       "    dt_analysis              (time, nj, ni) int8 ...\n",
       "Attributes: (12/49)\n",
       "    Conventions:                [b'CF-1.7, ACDD-1.3']\n",
       "    title:                      [b'MODIS Aqua L2P SST']\n",
       "    summary:                    [b'Sea surface temperature retrievals produce...\n",
       "    references:                 [b'GHRSST Data Processing Specification v2r5']\n",
       "    institution:                [b'NASA/JPL/OBPG/RSMAS']\n",
       "    history:                    [b'MODIS L2P created at JPL PO.DAAC']\n",
       "    ...                         ...\n",
       "    publisher_email:            [b'ghrsst-po@nceo.ac.uk']\n",
       "    processing_level:           [b'L2P']\n",
       "    cdm_data_type:              [b'swath']\n",
       "    startDirection:             [b'Ascending']\n",
       "    endDirection:               [b'Descending']\n",
       "    day_night_flag:             [b'Day']"
      ]
     },
     "execution_count": 38,
     "metadata": {},
     "output_type": "execute_result"
    }
   ],
   "source": [
    "modis"
   ]
  },
  {
   "cell_type": "markdown",
   "metadata": {},
   "source": [
    "To fix this, we need to extract array elements as scalars, and convert those scalars from bytestrings to strings.  I use the `decode` method to do this.  The bytestrings are encoded as utf-8, which is a unicode character format.  This is the default encoding for `decode` but I've included it as an argument to be explicit.\n",
    "\n",
    "Not all attributes are bytestrings.  Some are `floats`.  Take a look at `_FillValue`, and `valid_min` and `valid_max`.  To avoid an error, I use the `isinstance` function to check if the value of an attributes is type `bytes` - a bytestring.  If it is, I decode it.  If not, I just extract the scalar and do nothing else.\n",
    "\n",
    "I also fix the global attributes."
   ]
  },
  {
   "cell_type": "code",
   "execution_count": 39,
   "metadata": {},
   "outputs": [],
   "source": [
    "def fix_attributes(da):\n",
    "    '''Decodes bytestring attributes to strings'''\n",
    "    for attr, value in da.attrs.items():\n",
    "        if isinstance(value[0], bytes):\n",
    "            da.attrs[attr] = value[0].decode('utf-8')\n",
    "        else:\n",
    "            da.attrs[attr] = value[0]\n",
    "    return\n",
    "\n",
    "# Fix variable attributes\n",
    "for var in modis.variables:\n",
    "    da = modis[var]\n",
    "    fix_attributes(da)\n",
    "            \n",
    "# Fix global attributes\n",
    "fix_attributes(modis)"
   ]
  },
  {
   "cell_type": "markdown",
   "metadata": {},
   "source": [
    "With this done, we can use the `xarray` function `decode_cf` to convert the attributes. "
   ]
  },
  {
   "cell_type": "code",
   "execution_count": 40,
   "metadata": {},
   "outputs": [],
   "source": [
    "modis = xr.decode_cf(modis)"
   ]
  },
  {
   "cell_type": "code",
   "execution_count": 41,
   "metadata": {},
   "outputs": [
    {
     "data": {
      "text/html": [
       "<div><svg style=\"position: absolute; width: 0; height: 0; overflow: hidden\">\n",
       "<defs>\n",
       "<symbol id=\"icon-database\" viewBox=\"0 0 32 32\">\n",
       "<path d=\"M16 0c-8.837 0-16 2.239-16 5v4c0 2.761 7.163 5 16 5s16-2.239 16-5v-4c0-2.761-7.163-5-16-5z\"></path>\n",
       "<path d=\"M16 17c-8.837 0-16-2.239-16-5v6c0 2.761 7.163 5 16 5s16-2.239 16-5v-6c0 2.761-7.163 5-16 5z\"></path>\n",
       "<path d=\"M16 26c-8.837 0-16-2.239-16-5v6c0 2.761 7.163 5 16 5s16-2.239 16-5v-6c0 2.761-7.163 5-16 5z\"></path>\n",
       "</symbol>\n",
       "<symbol id=\"icon-file-text2\" viewBox=\"0 0 32 32\">\n",
       "<path d=\"M28.681 7.159c-0.694-0.947-1.662-2.053-2.724-3.116s-2.169-2.030-3.116-2.724c-1.612-1.182-2.393-1.319-2.841-1.319h-15.5c-1.378 0-2.5 1.121-2.5 2.5v27c0 1.378 1.122 2.5 2.5 2.5h23c1.378 0 2.5-1.122 2.5-2.5v-19.5c0-0.448-0.137-1.23-1.319-2.841zM24.543 5.457c0.959 0.959 1.712 1.825 2.268 2.543h-4.811v-4.811c0.718 0.556 1.584 1.309 2.543 2.268zM28 29.5c0 0.271-0.229 0.5-0.5 0.5h-23c-0.271 0-0.5-0.229-0.5-0.5v-27c0-0.271 0.229-0.5 0.5-0.5 0 0 15.499-0 15.5 0v7c0 0.552 0.448 1 1 1h7v19.5z\"></path>\n",
       "<path d=\"M23 26h-14c-0.552 0-1-0.448-1-1s0.448-1 1-1h14c0.552 0 1 0.448 1 1s-0.448 1-1 1z\"></path>\n",
       "<path d=\"M23 22h-14c-0.552 0-1-0.448-1-1s0.448-1 1-1h14c0.552 0 1 0.448 1 1s-0.448 1-1 1z\"></path>\n",
       "<path d=\"M23 18h-14c-0.552 0-1-0.448-1-1s0.448-1 1-1h14c0.552 0 1 0.448 1 1s-0.448 1-1 1z\"></path>\n",
       "</symbol>\n",
       "</defs>\n",
       "</svg>\n",
       "<style>/* CSS stylesheet for displaying xarray objects in jupyterlab.\n",
       " *\n",
       " */\n",
       "\n",
       ":root {\n",
       "  --xr-font-color0: var(--jp-content-font-color0, rgba(0, 0, 0, 1));\n",
       "  --xr-font-color2: var(--jp-content-font-color2, rgba(0, 0, 0, 0.54));\n",
       "  --xr-font-color3: var(--jp-content-font-color3, rgba(0, 0, 0, 0.38));\n",
       "  --xr-border-color: var(--jp-border-color2, #e0e0e0);\n",
       "  --xr-disabled-color: var(--jp-layout-color3, #bdbdbd);\n",
       "  --xr-background-color: var(--jp-layout-color0, white);\n",
       "  --xr-background-color-row-even: var(--jp-layout-color1, white);\n",
       "  --xr-background-color-row-odd: var(--jp-layout-color2, #eeeeee);\n",
       "}\n",
       "\n",
       "html[theme=dark],\n",
       "body.vscode-dark {\n",
       "  --xr-font-color0: rgba(255, 255, 255, 1);\n",
       "  --xr-font-color2: rgba(255, 255, 255, 0.54);\n",
       "  --xr-font-color3: rgba(255, 255, 255, 0.38);\n",
       "  --xr-border-color: #1F1F1F;\n",
       "  --xr-disabled-color: #515151;\n",
       "  --xr-background-color: #111111;\n",
       "  --xr-background-color-row-even: #111111;\n",
       "  --xr-background-color-row-odd: #313131;\n",
       "}\n",
       "\n",
       ".xr-wrap {\n",
       "  display: block;\n",
       "  min-width: 300px;\n",
       "  max-width: 700px;\n",
       "}\n",
       "\n",
       ".xr-text-repr-fallback {\n",
       "  /* fallback to plain text repr when CSS is not injected (untrusted notebook) */\n",
       "  display: none;\n",
       "}\n",
       "\n",
       ".xr-header {\n",
       "  padding-top: 6px;\n",
       "  padding-bottom: 6px;\n",
       "  margin-bottom: 4px;\n",
       "  border-bottom: solid 1px var(--xr-border-color);\n",
       "}\n",
       "\n",
       ".xr-header > div,\n",
       ".xr-header > ul {\n",
       "  display: inline;\n",
       "  margin-top: 0;\n",
       "  margin-bottom: 0;\n",
       "}\n",
       "\n",
       ".xr-obj-type,\n",
       ".xr-array-name {\n",
       "  margin-left: 2px;\n",
       "  margin-right: 10px;\n",
       "}\n",
       "\n",
       ".xr-obj-type {\n",
       "  color: var(--xr-font-color2);\n",
       "}\n",
       "\n",
       ".xr-sections {\n",
       "  padding-left: 0 !important;\n",
       "  display: grid;\n",
       "  grid-template-columns: 150px auto auto 1fr 20px 20px;\n",
       "}\n",
       "\n",
       ".xr-section-item {\n",
       "  display: contents;\n",
       "}\n",
       "\n",
       ".xr-section-item input {\n",
       "  display: none;\n",
       "}\n",
       "\n",
       ".xr-section-item input + label {\n",
       "  color: var(--xr-disabled-color);\n",
       "}\n",
       "\n",
       ".xr-section-item input:enabled + label {\n",
       "  cursor: pointer;\n",
       "  color: var(--xr-font-color2);\n",
       "}\n",
       "\n",
       ".xr-section-item input:enabled + label:hover {\n",
       "  color: var(--xr-font-color0);\n",
       "}\n",
       "\n",
       ".xr-section-summary {\n",
       "  grid-column: 1;\n",
       "  color: var(--xr-font-color2);\n",
       "  font-weight: 500;\n",
       "}\n",
       "\n",
       ".xr-section-summary > span {\n",
       "  display: inline-block;\n",
       "  padding-left: 0.5em;\n",
       "}\n",
       "\n",
       ".xr-section-summary-in:disabled + label {\n",
       "  color: var(--xr-font-color2);\n",
       "}\n",
       "\n",
       ".xr-section-summary-in + label:before {\n",
       "  display: inline-block;\n",
       "  content: '►';\n",
       "  font-size: 11px;\n",
       "  width: 15px;\n",
       "  text-align: center;\n",
       "}\n",
       "\n",
       ".xr-section-summary-in:disabled + label:before {\n",
       "  color: var(--xr-disabled-color);\n",
       "}\n",
       "\n",
       ".xr-section-summary-in:checked + label:before {\n",
       "  content: '▼';\n",
       "}\n",
       "\n",
       ".xr-section-summary-in:checked + label > span {\n",
       "  display: none;\n",
       "}\n",
       "\n",
       ".xr-section-summary,\n",
       ".xr-section-inline-details {\n",
       "  padding-top: 4px;\n",
       "  padding-bottom: 4px;\n",
       "}\n",
       "\n",
       ".xr-section-inline-details {\n",
       "  grid-column: 2 / -1;\n",
       "}\n",
       "\n",
       ".xr-section-details {\n",
       "  display: none;\n",
       "  grid-column: 1 / -1;\n",
       "  margin-bottom: 5px;\n",
       "}\n",
       "\n",
       ".xr-section-summary-in:checked ~ .xr-section-details {\n",
       "  display: contents;\n",
       "}\n",
       "\n",
       ".xr-array-wrap {\n",
       "  grid-column: 1 / -1;\n",
       "  display: grid;\n",
       "  grid-template-columns: 20px auto;\n",
       "}\n",
       "\n",
       ".xr-array-wrap > label {\n",
       "  grid-column: 1;\n",
       "  vertical-align: top;\n",
       "}\n",
       "\n",
       ".xr-preview {\n",
       "  color: var(--xr-font-color3);\n",
       "}\n",
       "\n",
       ".xr-array-preview,\n",
       ".xr-array-data {\n",
       "  padding: 0 5px !important;\n",
       "  grid-column: 2;\n",
       "}\n",
       "\n",
       ".xr-array-data,\n",
       ".xr-array-in:checked ~ .xr-array-preview {\n",
       "  display: none;\n",
       "}\n",
       "\n",
       ".xr-array-in:checked ~ .xr-array-data,\n",
       ".xr-array-preview {\n",
       "  display: inline-block;\n",
       "}\n",
       "\n",
       ".xr-dim-list {\n",
       "  display: inline-block !important;\n",
       "  list-style: none;\n",
       "  padding: 0 !important;\n",
       "  margin: 0;\n",
       "}\n",
       "\n",
       ".xr-dim-list li {\n",
       "  display: inline-block;\n",
       "  padding: 0;\n",
       "  margin: 0;\n",
       "}\n",
       "\n",
       ".xr-dim-list:before {\n",
       "  content: '(';\n",
       "}\n",
       "\n",
       ".xr-dim-list:after {\n",
       "  content: ')';\n",
       "}\n",
       "\n",
       ".xr-dim-list li:not(:last-child):after {\n",
       "  content: ',';\n",
       "  padding-right: 5px;\n",
       "}\n",
       "\n",
       ".xr-has-index {\n",
       "  font-weight: bold;\n",
       "}\n",
       "\n",
       ".xr-var-list,\n",
       ".xr-var-item {\n",
       "  display: contents;\n",
       "}\n",
       "\n",
       ".xr-var-item > div,\n",
       ".xr-var-item label,\n",
       ".xr-var-item > .xr-var-name span {\n",
       "  background-color: var(--xr-background-color-row-even);\n",
       "  margin-bottom: 0;\n",
       "}\n",
       "\n",
       ".xr-var-item > .xr-var-name:hover span {\n",
       "  padding-right: 5px;\n",
       "}\n",
       "\n",
       ".xr-var-list > li:nth-child(odd) > div,\n",
       ".xr-var-list > li:nth-child(odd) > label,\n",
       ".xr-var-list > li:nth-child(odd) > .xr-var-name span {\n",
       "  background-color: var(--xr-background-color-row-odd);\n",
       "}\n",
       "\n",
       ".xr-var-name {\n",
       "  grid-column: 1;\n",
       "}\n",
       "\n",
       ".xr-var-dims {\n",
       "  grid-column: 2;\n",
       "}\n",
       "\n",
       ".xr-var-dtype {\n",
       "  grid-column: 3;\n",
       "  text-align: right;\n",
       "  color: var(--xr-font-color2);\n",
       "}\n",
       "\n",
       ".xr-var-preview {\n",
       "  grid-column: 4;\n",
       "}\n",
       "\n",
       ".xr-var-name,\n",
       ".xr-var-dims,\n",
       ".xr-var-dtype,\n",
       ".xr-preview,\n",
       ".xr-attrs dt {\n",
       "  white-space: nowrap;\n",
       "  overflow: hidden;\n",
       "  text-overflow: ellipsis;\n",
       "  padding-right: 10px;\n",
       "}\n",
       "\n",
       ".xr-var-name:hover,\n",
       ".xr-var-dims:hover,\n",
       ".xr-var-dtype:hover,\n",
       ".xr-attrs dt:hover {\n",
       "  overflow: visible;\n",
       "  width: auto;\n",
       "  z-index: 1;\n",
       "}\n",
       "\n",
       ".xr-var-attrs,\n",
       ".xr-var-data {\n",
       "  display: none;\n",
       "  background-color: var(--xr-background-color) !important;\n",
       "  padding-bottom: 5px !important;\n",
       "}\n",
       "\n",
       ".xr-var-attrs-in:checked ~ .xr-var-attrs,\n",
       ".xr-var-data-in:checked ~ .xr-var-data {\n",
       "  display: block;\n",
       "}\n",
       "\n",
       ".xr-var-data > table {\n",
       "  float: right;\n",
       "}\n",
       "\n",
       ".xr-var-name span,\n",
       ".xr-var-data,\n",
       ".xr-attrs {\n",
       "  padding-left: 25px !important;\n",
       "}\n",
       "\n",
       ".xr-attrs,\n",
       ".xr-var-attrs,\n",
       ".xr-var-data {\n",
       "  grid-column: 1 / -1;\n",
       "}\n",
       "\n",
       "dl.xr-attrs {\n",
       "  padding: 0;\n",
       "  margin: 0;\n",
       "  display: grid;\n",
       "  grid-template-columns: 125px auto;\n",
       "}\n",
       "\n",
       ".xr-attrs dt,\n",
       ".xr-attrs dd {\n",
       "  padding: 0;\n",
       "  margin: 0;\n",
       "  float: left;\n",
       "  padding-right: 10px;\n",
       "  width: auto;\n",
       "}\n",
       "\n",
       ".xr-attrs dt {\n",
       "  font-weight: normal;\n",
       "  grid-column: 1;\n",
       "}\n",
       "\n",
       ".xr-attrs dt:hover span {\n",
       "  display: inline-block;\n",
       "  background: var(--xr-background-color);\n",
       "  padding-right: 10px;\n",
       "}\n",
       "\n",
       ".xr-attrs dd {\n",
       "  grid-column: 2;\n",
       "  white-space: pre-wrap;\n",
       "  word-break: break-all;\n",
       "}\n",
       "\n",
       ".xr-icon-database,\n",
       ".xr-icon-file-text2 {\n",
       "  display: inline-block;\n",
       "  vertical-align: middle;\n",
       "  width: 1em;\n",
       "  height: 1.5em !important;\n",
       "  stroke-width: 0;\n",
       "  stroke: currentColor;\n",
       "  fill: currentColor;\n",
       "}\n",
       "</style><pre class='xr-text-repr-fallback'>&lt;xarray.Dataset&gt;\n",
       "Dimensions:                  (nj: 2030, ni: 1354, time: 1)\n",
       "Coordinates:\n",
       "    lat                      (nj, ni) float32 ...\n",
       "    lon                      (nj, ni) float32 ...\n",
       "  * time                     (time) datetime64[ns] 2019-06-22T10:00:01\n",
       "Dimensions without coordinates: nj, ni\n",
       "Data variables:\n",
       "    sea_surface_temperature  (time, nj, ni) float32 ...\n",
       "    sst_dtime                (time, nj, ni) timedelta64[ns] ...\n",
       "    quality_level            (time, nj, ni) float32 ...\n",
       "    sses_bias                (time, nj, ni) float32 ...\n",
       "    sses_standard_deviation  (time, nj, ni) float32 ...\n",
       "    l2p_flags                (time, nj, ni) int16 ...\n",
       "    chlorophyll_a            (time, nj, ni) float32 ...\n",
       "    K_490                    (time, nj, ni) float32 ...\n",
       "    wind_speed               (time, nj, ni) float32 ...\n",
       "    dt_analysis              (time, nj, ni) float32 ...\n",
       "Attributes: (12/49)\n",
       "    Conventions:                CF-1.7, ACDD-1.3\n",
       "    title:                      MODIS Aqua L2P SST\n",
       "    summary:                    Sea surface temperature retrievals produced a...\n",
       "    references:                 GHRSST Data Processing Specification v2r5\n",
       "    institution:                NASA/JPL/OBPG/RSMAS\n",
       "    history:                    MODIS L2P created at JPL PO.DAAC\n",
       "    ...                         ...\n",
       "    publisher_email:            ghrsst-po@nceo.ac.uk\n",
       "    processing_level:           L2P\n",
       "    cdm_data_type:              swath\n",
       "    startDirection:             Ascending\n",
       "    endDirection:               Descending\n",
       "    day_night_flag:             Day</pre><div class='xr-wrap' hidden><div class='xr-header'><div class='xr-obj-type'>xarray.Dataset</div></div><ul class='xr-sections'><li class='xr-section-item'><input id='section-9881b476-243d-4c5e-9634-8462a8721806' class='xr-section-summary-in' type='checkbox' disabled ><label for='section-9881b476-243d-4c5e-9634-8462a8721806' class='xr-section-summary'  title='Expand/collapse section'>Dimensions:</label><div class='xr-section-inline-details'><ul class='xr-dim-list'><li><span>nj</span>: 2030</li><li><span>ni</span>: 1354</li><li><span class='xr-has-index'>time</span>: 1</li></ul></div><div class='xr-section-details'></div></li><li class='xr-section-item'><input id='section-bb3e1610-2337-4914-b921-95e8f170d321' class='xr-section-summary-in' type='checkbox'  checked><label for='section-bb3e1610-2337-4914-b921-95e8f170d321' class='xr-section-summary' >Coordinates: <span>(3)</span></label><div class='xr-section-inline-details'></div><div class='xr-section-details'><ul class='xr-var-list'><li class='xr-var-item'><div class='xr-var-name'><span>lat</span></div><div class='xr-var-dims'>(nj, ni)</div><div class='xr-var-dtype'>float32</div><div class='xr-var-preview xr-preview'>...</div><input id='attrs-9fba2a75-af4b-495c-a13c-9d965e0643e2' class='xr-var-attrs-in' type='checkbox' ><label for='attrs-9fba2a75-af4b-495c-a13c-9d965e0643e2' title='Show/Hide attributes'><svg class='icon xr-icon-file-text2'><use xlink:href='#icon-file-text2'></use></svg></label><input id='data-98fc25ef-12c1-49a5-b7eb-384db738ccc1' class='xr-var-data-in' type='checkbox'><label for='data-98fc25ef-12c1-49a5-b7eb-384db738ccc1' title='Show/Hide data repr'><svg class='icon xr-icon-database'><use xlink:href='#icon-database'></use></svg></label><div class='xr-var-attrs'><dl class='xr-attrs'><dt><span>long_name :</span></dt><dd>latitude</dd><dt><span>standard_name :</span></dt><dd>latitude</dd><dt><span>units :</span></dt><dd>degrees_north</dd><dt><span>valid_min :</span></dt><dd>-90.0</dd><dt><span>valid_max :</span></dt><dd>90.0</dd><dt><span>comment :</span></dt><dd>geographical coordinates, WGS84 projection</dd><dt><span>coverage_content_type :</span></dt><dd>coordinate</dd></dl></div><div class='xr-var-data'><pre>[2748620 values with dtype=float32]</pre></div></li><li class='xr-var-item'><div class='xr-var-name'><span>lon</span></div><div class='xr-var-dims'>(nj, ni)</div><div class='xr-var-dtype'>float32</div><div class='xr-var-preview xr-preview'>...</div><input id='attrs-1d794bd2-a547-4840-81af-ee0c8cb7d97e' class='xr-var-attrs-in' type='checkbox' ><label for='attrs-1d794bd2-a547-4840-81af-ee0c8cb7d97e' title='Show/Hide attributes'><svg class='icon xr-icon-file-text2'><use xlink:href='#icon-file-text2'></use></svg></label><input id='data-07f95eb1-56dc-4ee3-b954-10d880a6fcef' class='xr-var-data-in' type='checkbox'><label for='data-07f95eb1-56dc-4ee3-b954-10d880a6fcef' title='Show/Hide data repr'><svg class='icon xr-icon-database'><use xlink:href='#icon-database'></use></svg></label><div class='xr-var-attrs'><dl class='xr-attrs'><dt><span>long_name :</span></dt><dd>longitude</dd><dt><span>standard_name :</span></dt><dd>longitude</dd><dt><span>units :</span></dt><dd>degrees_east</dd><dt><span>valid_min :</span></dt><dd>-180.0</dd><dt><span>valid_max :</span></dt><dd>180.0</dd><dt><span>comment :</span></dt><dd>geographical coordinates, WGS84 projection</dd><dt><span>coverage_content_type :</span></dt><dd>coordinate</dd></dl></div><div class='xr-var-data'><pre>[2748620 values with dtype=float32]</pre></div></li><li class='xr-var-item'><div class='xr-var-name'><span class='xr-has-index'>time</span></div><div class='xr-var-dims'>(time)</div><div class='xr-var-dtype'>datetime64[ns]</div><div class='xr-var-preview xr-preview'>2019-06-22T10:00:01</div><input id='attrs-d7b8a944-a3e8-43cc-9455-cc104ba4b30e' class='xr-var-attrs-in' type='checkbox' ><label for='attrs-d7b8a944-a3e8-43cc-9455-cc104ba4b30e' title='Show/Hide attributes'><svg class='icon xr-icon-file-text2'><use xlink:href='#icon-file-text2'></use></svg></label><input id='data-3d5ba2d2-85a5-4d2e-9bc3-8b82213f14e6' class='xr-var-data-in' type='checkbox'><label for='data-3d5ba2d2-85a5-4d2e-9bc3-8b82213f14e6' title='Show/Hide data repr'><svg class='icon xr-icon-database'><use xlink:href='#icon-database'></use></svg></label><div class='xr-var-attrs'><dl class='xr-attrs'><dt><span>long_name :</span></dt><dd>reference time of sst file</dd><dt><span>standard_name :</span></dt><dd>time</dd><dt><span>comment :</span></dt><dd>time of first sensor observation</dd><dt><span>coverage_content_type :</span></dt><dd>coordinate</dd></dl></div><div class='xr-var-data'><pre>array([&#x27;2019-06-22T10:00:01.000000000&#x27;], dtype=&#x27;datetime64[ns]&#x27;)</pre></div></li></ul></div></li><li class='xr-section-item'><input id='section-ceb3fe00-85bb-4549-8f84-1600e6af6b94' class='xr-section-summary-in' type='checkbox'  checked><label for='section-ceb3fe00-85bb-4549-8f84-1600e6af6b94' class='xr-section-summary' >Data variables: <span>(10)</span></label><div class='xr-section-inline-details'></div><div class='xr-section-details'><ul class='xr-var-list'><li class='xr-var-item'><div class='xr-var-name'><span>sea_surface_temperature</span></div><div class='xr-var-dims'>(time, nj, ni)</div><div class='xr-var-dtype'>float32</div><div class='xr-var-preview xr-preview'>...</div><input id='attrs-b50fc6aa-ef02-45b4-9589-a8fd01bc6b1f' class='xr-var-attrs-in' type='checkbox' ><label for='attrs-b50fc6aa-ef02-45b4-9589-a8fd01bc6b1f' title='Show/Hide attributes'><svg class='icon xr-icon-file-text2'><use xlink:href='#icon-file-text2'></use></svg></label><input id='data-bcdbd31e-ca74-4cb1-b2fe-bdbf822833d8' class='xr-var-data-in' type='checkbox'><label for='data-bcdbd31e-ca74-4cb1-b2fe-bdbf822833d8' title='Show/Hide data repr'><svg class='icon xr-icon-database'><use xlink:href='#icon-database'></use></svg></label><div class='xr-var-attrs'><dl class='xr-attrs'><dt><span>long_name :</span></dt><dd>sea surface temperature</dd><dt><span>standard_name :</span></dt><dd>sea_surface_skin_temperature</dd><dt><span>units :</span></dt><dd>kelvin</dd><dt><span>valid_min :</span></dt><dd>-1000</dd><dt><span>valid_max :</span></dt><dd>10000</dd><dt><span>comment :</span></dt><dd>sea surface temperature from thermal IR (11 um) channels</dd><dt><span>source :</span></dt><dd>NASA and University of Miami</dd><dt><span>coverage_content_type :</span></dt><dd>physicalMeasurement</dd></dl></div><div class='xr-var-data'><pre>[2748620 values with dtype=float32]</pre></div></li><li class='xr-var-item'><div class='xr-var-name'><span>sst_dtime</span></div><div class='xr-var-dims'>(time, nj, ni)</div><div class='xr-var-dtype'>timedelta64[ns]</div><div class='xr-var-preview xr-preview'>...</div><input id='attrs-33feceba-88b8-4aee-b774-c2ffd993fd41' class='xr-var-attrs-in' type='checkbox' ><label for='attrs-33feceba-88b8-4aee-b774-c2ffd993fd41' title='Show/Hide attributes'><svg class='icon xr-icon-file-text2'><use xlink:href='#icon-file-text2'></use></svg></label><input id='data-623d505e-ed94-4b90-a21a-a610197a5dd3' class='xr-var-data-in' type='checkbox'><label for='data-623d505e-ed94-4b90-a21a-a610197a5dd3' title='Show/Hide data repr'><svg class='icon xr-icon-database'><use xlink:href='#icon-database'></use></svg></label><div class='xr-var-attrs'><dl class='xr-attrs'><dt><span>long_name :</span></dt><dd>time difference from reference time</dd><dt><span>valid_min :</span></dt><dd>-32767</dd><dt><span>valid_max :</span></dt><dd>32767</dd><dt><span>comment :</span></dt><dd>time plus sst_dtime gives seconds after 00:00:00 UTC January 1, 1981</dd><dt><span>coverage_content_type :</span></dt><dd>referenceInformation</dd></dl></div><div class='xr-var-data'><pre>[2748620 values with dtype=timedelta64[ns]]</pre></div></li><li class='xr-var-item'><div class='xr-var-name'><span>quality_level</span></div><div class='xr-var-dims'>(time, nj, ni)</div><div class='xr-var-dtype'>float32</div><div class='xr-var-preview xr-preview'>...</div><input id='attrs-87e92924-0389-4bb0-a4b8-86b63867ab7d' class='xr-var-attrs-in' type='checkbox' ><label for='attrs-87e92924-0389-4bb0-a4b8-86b63867ab7d' title='Show/Hide attributes'><svg class='icon xr-icon-file-text2'><use xlink:href='#icon-file-text2'></use></svg></label><input id='data-91745da6-a36e-4ef1-80d3-f764fe8ba726' class='xr-var-data-in' type='checkbox'><label for='data-91745da6-a36e-4ef1-80d3-f764fe8ba726' title='Show/Hide data repr'><svg class='icon xr-icon-database'><use xlink:href='#icon-database'></use></svg></label><div class='xr-var-attrs'><dl class='xr-attrs'><dt><span>long_name :</span></dt><dd>quality level of SST pixel</dd><dt><span>valid_min :</span></dt><dd>0</dd><dt><span>valid_max :</span></dt><dd>5</dd><dt><span>comment :</span></dt><dd>thermal IR SST proximity confidence value; signed byte array: WARNING Some applications are unable to properly handle signed byte values. If values are encountered &gt; 127, please subtract 256 from this reported value</dd><dt><span>flag_values :</span></dt><dd>0</dd><dt><span>flag_meanings :</span></dt><dd>no_data bad_data worst_quality low_quality acceptable_quality best_quality</dd><dt><span>coverage_content_type :</span></dt><dd>qualityInformation</dd></dl></div><div class='xr-var-data'><pre>[2748620 values with dtype=float32]</pre></div></li><li class='xr-var-item'><div class='xr-var-name'><span>sses_bias</span></div><div class='xr-var-dims'>(time, nj, ni)</div><div class='xr-var-dtype'>float32</div><div class='xr-var-preview xr-preview'>...</div><input id='attrs-a6ba12b8-01a4-4fdc-bdbf-417b788bdae6' class='xr-var-attrs-in' type='checkbox' ><label for='attrs-a6ba12b8-01a4-4fdc-bdbf-417b788bdae6' title='Show/Hide attributes'><svg class='icon xr-icon-file-text2'><use xlink:href='#icon-file-text2'></use></svg></label><input id='data-4165c9a5-2c14-4c52-9496-4c1ae13949bf' class='xr-var-data-in' type='checkbox'><label for='data-4165c9a5-2c14-4c52-9496-4c1ae13949bf' title='Show/Hide data repr'><svg class='icon xr-icon-database'><use xlink:href='#icon-database'></use></svg></label><div class='xr-var-attrs'><dl class='xr-attrs'><dt><span>long_name :</span></dt><dd>SSES bias error based on proximity confidence flags</dd><dt><span>units :</span></dt><dd>kelvin</dd><dt><span>valid_min :</span></dt><dd>-127</dd><dt><span>valid_max :</span></dt><dd>127</dd><dt><span>comment :</span></dt><dd>thermal IR SST bias error; signed byte array: WARNING Some applications are unable to properly handle signed byte values. If values are encountered &gt; 127, please subtract 256 from this reported value</dd><dt><span>coverage_content_type :</span></dt><dd>auxiliaryInformation</dd></dl></div><div class='xr-var-data'><pre>[2748620 values with dtype=float32]</pre></div></li><li class='xr-var-item'><div class='xr-var-name'><span>sses_standard_deviation</span></div><div class='xr-var-dims'>(time, nj, ni)</div><div class='xr-var-dtype'>float32</div><div class='xr-var-preview xr-preview'>...</div><input id='attrs-c90ad4fe-4e77-4c63-942d-db1cae9515b8' class='xr-var-attrs-in' type='checkbox' ><label for='attrs-c90ad4fe-4e77-4c63-942d-db1cae9515b8' title='Show/Hide attributes'><svg class='icon xr-icon-file-text2'><use xlink:href='#icon-file-text2'></use></svg></label><input id='data-26286408-7841-4dad-b7c8-d9e6497b411f' class='xr-var-data-in' type='checkbox'><label for='data-26286408-7841-4dad-b7c8-d9e6497b411f' title='Show/Hide data repr'><svg class='icon xr-icon-database'><use xlink:href='#icon-database'></use></svg></label><div class='xr-var-attrs'><dl class='xr-attrs'><dt><span>long_name :</span></dt><dd>SSES standard deviation error based on proximity confidence flags</dd><dt><span>units :</span></dt><dd>kelvin</dd><dt><span>valid_min :</span></dt><dd>-127</dd><dt><span>valid_max :</span></dt><dd>127</dd><dt><span>comment :</span></dt><dd>thermal IR SST standard deviation error; signed byte array: WARNING Some applications are unable to properly handle signed byte values. If values are encountered &gt; 127, please subtract 256 from this reported value</dd><dt><span>coverage_content_type :</span></dt><dd>auxiliaryInformation</dd></dl></div><div class='xr-var-data'><pre>[2748620 values with dtype=float32]</pre></div></li><li class='xr-var-item'><div class='xr-var-name'><span>l2p_flags</span></div><div class='xr-var-dims'>(time, nj, ni)</div><div class='xr-var-dtype'>int16</div><div class='xr-var-preview xr-preview'>...</div><input id='attrs-d36092d4-3d32-4e6b-9085-eb67ad922123' class='xr-var-attrs-in' type='checkbox' ><label for='attrs-d36092d4-3d32-4e6b-9085-eb67ad922123' title='Show/Hide attributes'><svg class='icon xr-icon-file-text2'><use xlink:href='#icon-file-text2'></use></svg></label><input id='data-edc0d6cf-d0c1-4e04-8515-f27a0385a3b5' class='xr-var-data-in' type='checkbox'><label for='data-edc0d6cf-d0c1-4e04-8515-f27a0385a3b5' title='Show/Hide data repr'><svg class='icon xr-icon-database'><use xlink:href='#icon-database'></use></svg></label><div class='xr-var-attrs'><dl class='xr-attrs'><dt><span>long_name :</span></dt><dd>L2P flags</dd><dt><span>valid_min :</span></dt><dd>0</dd><dt><span>valid_max :</span></dt><dd>16</dd><dt><span>comment :</span></dt><dd>These flags can be used to further filter data variables</dd><dt><span>flag_meanings :</span></dt><dd>microwave land ice lake river</dd><dt><span>flag_masks :</span></dt><dd>1</dd><dt><span>coverage_content_type :</span></dt><dd>qualityInformation</dd></dl></div><div class='xr-var-data'><pre>[2748620 values with dtype=int16]</pre></div></li><li class='xr-var-item'><div class='xr-var-name'><span>chlorophyll_a</span></div><div class='xr-var-dims'>(time, nj, ni)</div><div class='xr-var-dtype'>float32</div><div class='xr-var-preview xr-preview'>...</div><input id='attrs-8ba0af5b-f4b3-4edb-916a-a286bb41a533' class='xr-var-attrs-in' type='checkbox' ><label for='attrs-8ba0af5b-f4b3-4edb-916a-a286bb41a533' title='Show/Hide attributes'><svg class='icon xr-icon-file-text2'><use xlink:href='#icon-file-text2'></use></svg></label><input id='data-5e84a07c-d2f0-4aee-82ca-ff150816531d' class='xr-var-data-in' type='checkbox'><label for='data-5e84a07c-d2f0-4aee-82ca-ff150816531d' title='Show/Hide data repr'><svg class='icon xr-icon-database'><use xlink:href='#icon-database'></use></svg></label><div class='xr-var-attrs'><dl class='xr-attrs'><dt><span>long_name :</span></dt><dd>Chlorophyll Concentration, OC3 Algorithm</dd><dt><span>units :</span></dt><dd>mg m^-3</dd><dt><span>valid_min :</span></dt><dd>0.001</dd><dt><span>valid_max :</span></dt><dd>100.0</dd><dt><span>comment :</span></dt><dd>non L2P core field</dd><dt><span>coverage_content_type :</span></dt><dd>auxiliaryInformation</dd></dl></div><div class='xr-var-data'><pre>[2748620 values with dtype=float32]</pre></div></li><li class='xr-var-item'><div class='xr-var-name'><span>K_490</span></div><div class='xr-var-dims'>(time, nj, ni)</div><div class='xr-var-dtype'>float32</div><div class='xr-var-preview xr-preview'>...</div><input id='attrs-7d61a2bd-f960-43a1-88ff-1c1951fb8fe9' class='xr-var-attrs-in' type='checkbox' ><label for='attrs-7d61a2bd-f960-43a1-88ff-1c1951fb8fe9' title='Show/Hide attributes'><svg class='icon xr-icon-file-text2'><use xlink:href='#icon-file-text2'></use></svg></label><input id='data-d0110ad8-c523-40fe-bf2d-da555e80f73f' class='xr-var-data-in' type='checkbox'><label for='data-d0110ad8-c523-40fe-bf2d-da555e80f73f' title='Show/Hide data repr'><svg class='icon xr-icon-database'><use xlink:href='#icon-database'></use></svg></label><div class='xr-var-attrs'><dl class='xr-attrs'><dt><span>long_name :</span></dt><dd>Diffuse attenuation coefficient at 490 nm (OBPG)</dd><dt><span>units :</span></dt><dd>m^-1</dd><dt><span>valid_min :</span></dt><dd>50</dd><dt><span>valid_max :</span></dt><dd>30000</dd><dt><span>comment :</span></dt><dd>non L2P core field</dd><dt><span>coverage_content_type :</span></dt><dd>auxiliaryInformation</dd></dl></div><div class='xr-var-data'><pre>[2748620 values with dtype=float32]</pre></div></li><li class='xr-var-item'><div class='xr-var-name'><span>wind_speed</span></div><div class='xr-var-dims'>(time, nj, ni)</div><div class='xr-var-dtype'>float32</div><div class='xr-var-preview xr-preview'>...</div><input id='attrs-1b582761-bb82-4a49-8dd3-5aceee086d6c' class='xr-var-attrs-in' type='checkbox' ><label for='attrs-1b582761-bb82-4a49-8dd3-5aceee086d6c' title='Show/Hide attributes'><svg class='icon xr-icon-file-text2'><use xlink:href='#icon-file-text2'></use></svg></label><input id='data-81aeda8e-133f-4efe-87a4-9c216b5893e9' class='xr-var-data-in' type='checkbox'><label for='data-81aeda8e-133f-4efe-87a4-9c216b5893e9' title='Show/Hide data repr'><svg class='icon xr-icon-database'><use xlink:href='#icon-database'></use></svg></label><div class='xr-var-attrs'><dl class='xr-attrs'><dt><span>long_name :</span></dt><dd>10m wind speed</dd><dt><span>standard_name :</span></dt><dd>wind_speed</dd><dt><span>units :</span></dt><dd>m s-1</dd><dt><span>valid_min :</span></dt><dd>-127</dd><dt><span>valid_max :</span></dt><dd>127</dd><dt><span>comment :</span></dt><dd>Wind at 10 meters above the sea surface</dd><dt><span>source :</span></dt><dd>TBD.  Placeholder.  Currently empty</dd><dt><span>grid_mapping :</span></dt><dd>TBD</dd><dt><span>time_offset :</span></dt><dd>2.0</dd><dt><span>height :</span></dt><dd>10 m</dd><dt><span>coverage_content_type :</span></dt><dd>auxiliaryInformation</dd></dl></div><div class='xr-var-data'><pre>[2748620 values with dtype=float32]</pre></div></li><li class='xr-var-item'><div class='xr-var-name'><span>dt_analysis</span></div><div class='xr-var-dims'>(time, nj, ni)</div><div class='xr-var-dtype'>float32</div><div class='xr-var-preview xr-preview'>...</div><input id='attrs-2f2eb997-b28e-4496-ba97-c24bdb5c7356' class='xr-var-attrs-in' type='checkbox' ><label for='attrs-2f2eb997-b28e-4496-ba97-c24bdb5c7356' title='Show/Hide attributes'><svg class='icon xr-icon-file-text2'><use xlink:href='#icon-file-text2'></use></svg></label><input id='data-572d963b-e384-427c-b9b4-d7dabff2009a' class='xr-var-data-in' type='checkbox'><label for='data-572d963b-e384-427c-b9b4-d7dabff2009a' title='Show/Hide data repr'><svg class='icon xr-icon-database'><use xlink:href='#icon-database'></use></svg></label><div class='xr-var-attrs'><dl class='xr-attrs'><dt><span>long_name :</span></dt><dd>deviation from SST reference climatology</dd><dt><span>units :</span></dt><dd>kelvin</dd><dt><span>valid_min :</span></dt><dd>-127</dd><dt><span>valid_max :</span></dt><dd>127</dd><dt><span>comment :</span></dt><dd>TBD</dd><dt><span>source :</span></dt><dd>TBD. Placeholder.  Currently empty</dd><dt><span>coverage_content_type :</span></dt><dd>auxiliaryInformation</dd></dl></div><div class='xr-var-data'><pre>[2748620 values with dtype=float32]</pre></div></li></ul></div></li><li class='xr-section-item'><input id='section-d6e597be-d577-45d2-be80-1e4adc2782e0' class='xr-section-summary-in' type='checkbox'  ><label for='section-d6e597be-d577-45d2-be80-1e4adc2782e0' class='xr-section-summary' >Attributes: <span>(49)</span></label><div class='xr-section-inline-details'></div><div class='xr-section-details'><dl class='xr-attrs'><dt><span>Conventions :</span></dt><dd>CF-1.7, ACDD-1.3</dd><dt><span>title :</span></dt><dd>MODIS Aqua L2P SST</dd><dt><span>summary :</span></dt><dd>Sea surface temperature retrievals produced at the NASA OBPG for the MODIS Aqua sensor.  These have been reformatted to GHRSST GDS specifications by the JPL PO.DAAC</dd><dt><span>references :</span></dt><dd>GHRSST Data Processing Specification v2r5</dd><dt><span>institution :</span></dt><dd>NASA/JPL/OBPG/RSMAS</dd><dt><span>history :</span></dt><dd>MODIS L2P created at JPL PO.DAAC</dd><dt><span>comment :</span></dt><dd>L2P Core without DT analysis or other ancillary fields; Day, Start Node:Ascending, End Node:Descending; WARNING Some applications are unable to properly handle signed byte values. If values are encountered &gt; 127, please subtract 256 from this reported value; Refined</dd><dt><span>license :</span></dt><dd>GHRSST and PO.DAAC protocol allow data use as free and open.</dd><dt><span>id :</span></dt><dd>MODIS_A-JPL-L2P-v2019.0</dd><dt><span>naming_authority :</span></dt><dd>org.ghrsst</dd><dt><span>product_version :</span></dt><dd>2019.0</dd><dt><span>uuid :</span></dt><dd>f6e1f61d-c4a4-4c17-8354-0c15e12d688b</dd><dt><span>gds_version_id :</span></dt><dd>2.0</dd><dt><span>netcdf_version_id :</span></dt><dd>4.1</dd><dt><span>date_created :</span></dt><dd>20200221T085224Z</dd><dt><span>file_quality_level :</span></dt><dd>3</dd><dt><span>spatial_resolution :</span></dt><dd>1km</dd><dt><span>start_time :</span></dt><dd>20190622T100001Z</dd><dt><span>time_coverage_start :</span></dt><dd>20190622T100001Z</dd><dt><span>stop_time :</span></dt><dd>20190622T100459Z</dd><dt><span>time_coverage_end :</span></dt><dd>20190622T100459Z</dd><dt><span>northernmost_latitude :</span></dt><dd>89.9862</dd><dt><span>southernmost_latitude :</span></dt><dd>66.2723</dd><dt><span>easternmost_longitude :</span></dt><dd>-45.9467</dd><dt><span>westernmost_longitude :</span></dt><dd>152.489</dd><dt><span>source :</span></dt><dd>MODIS sea surface temperature observations for the OBPG</dd><dt><span>platform :</span></dt><dd>Aqua</dd><dt><span>sensor :</span></dt><dd>MODIS</dd><dt><span>metadata_link :</span></dt><dd>http://podaac.jpl.nasa.gov/ws/metadata/dataset/?format=iso&amp;shortName=MODIS_A-JPL-L2P-v2019.0</dd><dt><span>keywords :</span></dt><dd>Oceans &gt; Ocean Temperature &gt; Sea Surface Temperature</dd><dt><span>keywords_vocabulary :</span></dt><dd>NASA Global Change Master Directory (GCMD) Science Keywords</dd><dt><span>standard_name_vocabulary :</span></dt><dd>NetCDF Climate and Forecast (CF) Metadata Convention</dd><dt><span>geospatial_lat_units :</span></dt><dd>degrees_north</dd><dt><span>geospatial_lat_resolution :</span></dt><dd>0.01</dd><dt><span>geospatial_lon_units :</span></dt><dd>degrees_east</dd><dt><span>geospatial_lon_resolution :</span></dt><dd>0.01</dd><dt><span>acknowledgment :</span></dt><dd>The MODIS L2P sea surface temperature data are sponsored by NASA</dd><dt><span>creator_name :</span></dt><dd>Ed Armstrong, JPL PO.DAAC</dd><dt><span>creator_email :</span></dt><dd>edward.m.armstrong@jpl.nasa.gov</dd><dt><span>creator_url :</span></dt><dd>http://podaac.jpl.nasa.gov</dd><dt><span>project :</span></dt><dd>Group for High Resolution Sea Surface Temperature</dd><dt><span>publisher_name :</span></dt><dd>The GHRSST Project Office</dd><dt><span>publisher_url :</span></dt><dd>http://www.ghrsst.org</dd><dt><span>publisher_email :</span></dt><dd>ghrsst-po@nceo.ac.uk</dd><dt><span>processing_level :</span></dt><dd>L2P</dd><dt><span>cdm_data_type :</span></dt><dd>swath</dd><dt><span>startDirection :</span></dt><dd>Ascending</dd><dt><span>endDirection :</span></dt><dd>Descending</dd><dt><span>day_night_flag :</span></dt><dd>Day</dd></dl></div></li></ul></div></div>"
      ],
      "text/plain": [
       "<xarray.Dataset>\n",
       "Dimensions:                  (nj: 2030, ni: 1354, time: 1)\n",
       "Coordinates:\n",
       "    lat                      (nj, ni) float32 ...\n",
       "    lon                      (nj, ni) float32 ...\n",
       "  * time                     (time) datetime64[ns] 2019-06-22T10:00:01\n",
       "Dimensions without coordinates: nj, ni\n",
       "Data variables:\n",
       "    sea_surface_temperature  (time, nj, ni) float32 ...\n",
       "    sst_dtime                (time, nj, ni) timedelta64[ns] ...\n",
       "    quality_level            (time, nj, ni) float32 ...\n",
       "    sses_bias                (time, nj, ni) float32 ...\n",
       "    sses_standard_deviation  (time, nj, ni) float32 ...\n",
       "    l2p_flags                (time, nj, ni) int16 ...\n",
       "    chlorophyll_a            (time, nj, ni) float32 ...\n",
       "    K_490                    (time, nj, ni) float32 ...\n",
       "    wind_speed               (time, nj, ni) float32 ...\n",
       "    dt_analysis              (time, nj, ni) float32 ...\n",
       "Attributes: (12/49)\n",
       "    Conventions:                CF-1.7, ACDD-1.3\n",
       "    title:                      MODIS Aqua L2P SST\n",
       "    summary:                    Sea surface temperature retrievals produced a...\n",
       "    references:                 GHRSST Data Processing Specification v2r5\n",
       "    institution:                NASA/JPL/OBPG/RSMAS\n",
       "    history:                    MODIS L2P created at JPL PO.DAAC\n",
       "    ...                         ...\n",
       "    publisher_email:            ghrsst-po@nceo.ac.uk\n",
       "    processing_level:           L2P\n",
       "    cdm_data_type:              swath\n",
       "    startDirection:             Ascending\n",
       "    endDirection:               Descending\n",
       "    day_night_flag:             Day"
      ]
     },
     "execution_count": 41,
     "metadata": {},
     "output_type": "execute_result"
    }
   ],
   "source": [
    "modis"
   ]
  },
  {
   "cell_type": "markdown",
   "metadata": {},
   "source": [
    "Let's make a quick plot to take a look at the `sea_surface_temperature` variable."
   ]
  },
  {
   "cell_type": "code",
   "execution_count": 42,
   "metadata": {},
   "outputs": [
    {
     "data": {
      "text/plain": [
       "<matplotlib.collections.QuadMesh at 0x7f22f13c0f10>"
      ]
     },
     "execution_count": 42,
     "metadata": {},
     "output_type": "execute_result"
    },
    {
     "data": {
      "image/png": "[encoded data removed]",
      "text/plain": [
       "<Figure size 432x288 with 2 Axes>"
      ]
     },
     "metadata": {
      "needs_background": "light"
     },
     "output_type": "display_data"
    }
   ],
   "source": [
    "modis.sea_surface_temperature.plot()"
   ]
  },
  {
   "cell_type": "code",
   "execution_count": 48,
   "metadata": {},
   "outputs": [
    {
     "ename": "KeyError",
     "evalue": "'no index found for coordinate lat'",
     "output_type": "error",
     "traceback": [
      "\u001b[0;31m---------------------------------------------------------------------------\u001b[0m",
      "\u001b[0;31mKeyError\u001b[0m                                  Traceback (most recent call last)",
      "\u001b[0;32m/srv/conda/envs/notebook/lib/python3.9/site-packages/xarray/core/indexing.py\u001b[0m in \u001b[0;36mgroup_indexers_by_index\u001b[0;34m(data_obj, indexers, method, tolerance)\u001b[0m\n\u001b[1;32m     71\u001b[0m         \u001b[0;32mtry\u001b[0m\u001b[0;34m:\u001b[0m\u001b[0;34m\u001b[0m\u001b[0;34m\u001b[0m\u001b[0m\n\u001b[0;32m---> 72\u001b[0;31m             \u001b[0mindex\u001b[0m \u001b[0;34m=\u001b[0m \u001b[0mxindexes\u001b[0m\u001b[0;34m[\u001b[0m\u001b[0mkey\u001b[0m\u001b[0;34m]\u001b[0m\u001b[0;34m\u001b[0m\u001b[0;34m\u001b[0m\u001b[0m\n\u001b[0m\u001b[1;32m     73\u001b[0m             \u001b[0mcoord\u001b[0m \u001b[0;34m=\u001b[0m \u001b[0mdata_obj\u001b[0m\u001b[0;34m.\u001b[0m\u001b[0mcoords\u001b[0m\u001b[0;34m[\u001b[0m\u001b[0mkey\u001b[0m\u001b[0;34m]\u001b[0m\u001b[0;34m\u001b[0m\u001b[0;34m\u001b[0m\u001b[0m\n",
      "\u001b[0;31mKeyError\u001b[0m: 'lat'",
      "\nDuring handling of the above exception, another exception occurred:\n",
      "\u001b[0;31mKeyError\u001b[0m                                  Traceback (most recent call last)",
      "\u001b[0;32m/tmp/ipykernel_163/2616716511.py\u001b[0m in \u001b[0;36m<module>\u001b[0;34m\u001b[0m\n\u001b[0;32m----> 1\u001b[0;31m \u001b[0mmodis\u001b[0m\u001b[0;34m.\u001b[0m\u001b[0msea_surface_temperature\u001b[0m\u001b[0;34m.\u001b[0m\u001b[0msel\u001b[0m\u001b[0;34m(\u001b[0m\u001b[0mlat\u001b[0m\u001b[0;34m=\u001b[0m\u001b[0mis2_ds\u001b[0m\u001b[0;34m.\u001b[0m\u001b[0mlatitude\u001b[0m\u001b[0;34m,\u001b[0m \u001b[0mlon\u001b[0m\u001b[0;34m=\u001b[0m\u001b[0mis2_ds\u001b[0m\u001b[0;34m.\u001b[0m\u001b[0mlongitude\u001b[0m\u001b[0;34m,\u001b[0m \u001b[0mmethod\u001b[0m\u001b[0;34m=\u001b[0m\u001b[0;34m'nearest'\u001b[0m\u001b[0;34m)\u001b[0m\u001b[0;34m\u001b[0m\u001b[0;34m\u001b[0m\u001b[0m\n\u001b[0m",
      "\u001b[0;32m/srv/conda/envs/notebook/lib/python3.9/site-packages/xarray/core/dataarray.py\u001b[0m in \u001b[0;36msel\u001b[0;34m(self, indexers, method, tolerance, drop, **indexers_kwargs)\u001b[0m\n\u001b[1;32m   1330\u001b[0m         \u001b[0mDimensions\u001b[0m \u001b[0mwithout\u001b[0m \u001b[0mcoordinates\u001b[0m\u001b[0;34m:\u001b[0m \u001b[0mpoints\u001b[0m\u001b[0;34m\u001b[0m\u001b[0;34m\u001b[0m\u001b[0m\n\u001b[1;32m   1331\u001b[0m         \"\"\"\n\u001b[0;32m-> 1332\u001b[0;31m         ds = self._to_temp_dataset().sel(\n\u001b[0m\u001b[1;32m   1333\u001b[0m             \u001b[0mindexers\u001b[0m\u001b[0;34m=\u001b[0m\u001b[0mindexers\u001b[0m\u001b[0;34m,\u001b[0m\u001b[0;34m\u001b[0m\u001b[0;34m\u001b[0m\u001b[0m\n\u001b[1;32m   1334\u001b[0m             \u001b[0mdrop\u001b[0m\u001b[0;34m=\u001b[0m\u001b[0mdrop\u001b[0m\u001b[0;34m,\u001b[0m\u001b[0;34m\u001b[0m\u001b[0;34m\u001b[0m\u001b[0m\n",
      "\u001b[0;32m/srv/conda/envs/notebook/lib/python3.9/site-packages/xarray/core/dataset.py\u001b[0m in \u001b[0;36msel\u001b[0;34m(self, indexers, method, tolerance, drop, **indexers_kwargs)\u001b[0m\n\u001b[1;32m   2502\u001b[0m         \"\"\"\n\u001b[1;32m   2503\u001b[0m         \u001b[0mindexers\u001b[0m \u001b[0;34m=\u001b[0m \u001b[0meither_dict_or_kwargs\u001b[0m\u001b[0;34m(\u001b[0m\u001b[0mindexers\u001b[0m\u001b[0;34m,\u001b[0m \u001b[0mindexers_kwargs\u001b[0m\u001b[0;34m,\u001b[0m \u001b[0;34m\"sel\"\u001b[0m\u001b[0;34m)\u001b[0m\u001b[0;34m\u001b[0m\u001b[0;34m\u001b[0m\u001b[0m\n\u001b[0;32m-> 2504\u001b[0;31m         pos_indexers, new_indexes = remap_label_indexers(\n\u001b[0m\u001b[1;32m   2505\u001b[0m             \u001b[0mself\u001b[0m\u001b[0;34m,\u001b[0m \u001b[0mindexers\u001b[0m\u001b[0;34m=\u001b[0m\u001b[0mindexers\u001b[0m\u001b[0;34m,\u001b[0m \u001b[0mmethod\u001b[0m\u001b[0;34m=\u001b[0m\u001b[0mmethod\u001b[0m\u001b[0;34m,\u001b[0m \u001b[0mtolerance\u001b[0m\u001b[0;34m=\u001b[0m\u001b[0mtolerance\u001b[0m\u001b[0;34m\u001b[0m\u001b[0;34m\u001b[0m\u001b[0m\n\u001b[1;32m   2506\u001b[0m         )\n",
      "\u001b[0;32m/srv/conda/envs/notebook/lib/python3.9/site-packages/xarray/core/coordinates.py\u001b[0m in \u001b[0;36mremap_label_indexers\u001b[0;34m(obj, indexers, method, tolerance, **indexers_kwargs)\u001b[0m\n\u001b[1;32m    419\u001b[0m     }\n\u001b[1;32m    420\u001b[0m \u001b[0;34m\u001b[0m\u001b[0m\n\u001b[0;32m--> 421\u001b[0;31m     pos_indexers, new_indexes = indexing.remap_label_indexers(\n\u001b[0m\u001b[1;32m    422\u001b[0m         \u001b[0mobj\u001b[0m\u001b[0;34m,\u001b[0m \u001b[0mv_indexers\u001b[0m\u001b[0;34m,\u001b[0m \u001b[0mmethod\u001b[0m\u001b[0;34m=\u001b[0m\u001b[0mmethod\u001b[0m\u001b[0;34m,\u001b[0m \u001b[0mtolerance\u001b[0m\u001b[0;34m=\u001b[0m\u001b[0mtolerance\u001b[0m\u001b[0;34m\u001b[0m\u001b[0;34m\u001b[0m\u001b[0m\n\u001b[1;32m    423\u001b[0m     )\n",
      "\u001b[0;32m/srv/conda/envs/notebook/lib/python3.9/site-packages/xarray/core/indexing.py\u001b[0m in \u001b[0;36mremap_label_indexers\u001b[0;34m(data_obj, indexers, method, tolerance)\u001b[0m\n\u001b[1;32m    107\u001b[0m     \u001b[0mnew_indexes\u001b[0m \u001b[0;34m=\u001b[0m \u001b[0;34m{\u001b[0m\u001b[0;34m}\u001b[0m\u001b[0;34m\u001b[0m\u001b[0;34m\u001b[0m\u001b[0m\n\u001b[1;32m    108\u001b[0m \u001b[0;34m\u001b[0m\u001b[0m\n\u001b[0;32m--> 109\u001b[0;31m     indexes, grouped_indexers = group_indexers_by_index(\n\u001b[0m\u001b[1;32m    110\u001b[0m         \u001b[0mdata_obj\u001b[0m\u001b[0;34m,\u001b[0m \u001b[0mindexers\u001b[0m\u001b[0;34m,\u001b[0m \u001b[0mmethod\u001b[0m\u001b[0;34m,\u001b[0m \u001b[0mtolerance\u001b[0m\u001b[0;34m\u001b[0m\u001b[0;34m\u001b[0m\u001b[0m\n\u001b[1;32m    111\u001b[0m     )\n",
      "\u001b[0;32m/srv/conda/envs/notebook/lib/python3.9/site-packages/xarray/core/indexing.py\u001b[0m in \u001b[0;36mgroup_indexers_by_index\u001b[0;34m(data_obj, indexers, method, tolerance)\u001b[0m\n\u001b[1;32m     81\u001b[0m         \u001b[0;32mexcept\u001b[0m \u001b[0mKeyError\u001b[0m\u001b[0;34m:\u001b[0m\u001b[0;34m\u001b[0m\u001b[0;34m\u001b[0m\u001b[0m\n\u001b[1;32m     82\u001b[0m             \u001b[0;32mif\u001b[0m \u001b[0mkey\u001b[0m \u001b[0;32min\u001b[0m \u001b[0mdata_obj\u001b[0m\u001b[0;34m.\u001b[0m\u001b[0mcoords\u001b[0m\u001b[0;34m:\u001b[0m\u001b[0;34m\u001b[0m\u001b[0;34m\u001b[0m\u001b[0m\n\u001b[0;32m---> 83\u001b[0;31m                 \u001b[0;32mraise\u001b[0m \u001b[0mKeyError\u001b[0m\u001b[0;34m(\u001b[0m\u001b[0;34mf\"no index found for coordinate {key}\"\u001b[0m\u001b[0;34m)\u001b[0m\u001b[0;34m\u001b[0m\u001b[0;34m\u001b[0m\u001b[0m\n\u001b[0m\u001b[1;32m     84\u001b[0m             \u001b[0;32melif\u001b[0m \u001b[0mkey\u001b[0m \u001b[0;32mnot\u001b[0m \u001b[0;32min\u001b[0m \u001b[0mdata_obj\u001b[0m\u001b[0;34m.\u001b[0m\u001b[0mdims\u001b[0m\u001b[0;34m:\u001b[0m\u001b[0;34m\u001b[0m\u001b[0;34m\u001b[0m\u001b[0m\n\u001b[1;32m     85\u001b[0m                 \u001b[0;32mraise\u001b[0m \u001b[0mKeyError\u001b[0m\u001b[0;34m(\u001b[0m\u001b[0;34mf\"{key} is not a valid dimension or coordinate\"\u001b[0m\u001b[0;34m)\u001b[0m\u001b[0;34m\u001b[0m\u001b[0;34m\u001b[0m\u001b[0m\n",
      "\u001b[0;31mKeyError\u001b[0m: 'no index found for coordinate lat'"
     ]
    }
   ],
   "source": [
    "modis.sea_surface_temperature.sel(lat=is2_ds.latitude, lon=is2_ds.longitude, method='nearest')"
   ]
  },
  {
   "cell_type": "code",
   "execution_count": 43,
   "metadata": {},
   "outputs": [],
   "source": [
    "from pyresample.bilinear import XArrayBilinearResampler"
   ]
  },
  {
   "cell_type": "code",
   "execution_count": 44,
   "metadata": {},
   "outputs": [
    {
     "data": {
      "text/plain": [
       "\u001b[0;31mInit signature:\u001b[0m\n",
       "\u001b[0mXArrayBilinearResampler\u001b[0m\u001b[0;34m(\u001b[0m\u001b[0;34m\u001b[0m\n",
       "\u001b[0;34m\u001b[0m    \u001b[0msource_geo_def\u001b[0m\u001b[0;34m,\u001b[0m\u001b[0;34m\u001b[0m\n",
       "\u001b[0;34m\u001b[0m    \u001b[0mtarget_geo_def\u001b[0m\u001b[0;34m,\u001b[0m\u001b[0;34m\u001b[0m\n",
       "\u001b[0;34m\u001b[0m    \u001b[0mradius_of_influence\u001b[0m\u001b[0;34m,\u001b[0m\u001b[0;34m\u001b[0m\n",
       "\u001b[0;34m\u001b[0m    \u001b[0mneighbours\u001b[0m\u001b[0;34m=\u001b[0m\u001b[0;36m32\u001b[0m\u001b[0;34m,\u001b[0m\u001b[0;34m\u001b[0m\n",
       "\u001b[0;34m\u001b[0m    \u001b[0mepsilon\u001b[0m\u001b[0;34m=\u001b[0m\u001b[0;36m0\u001b[0m\u001b[0;34m,\u001b[0m\u001b[0;34m\u001b[0m\n",
       "\u001b[0;34m\u001b[0m    \u001b[0mreduce_data\u001b[0m\u001b[0;34m=\u001b[0m\u001b[0;32mTrue\u001b[0m\u001b[0;34m,\u001b[0m\u001b[0;34m\u001b[0m\n",
       "\u001b[0;34m\u001b[0m\u001b[0;34m)\u001b[0m\u001b[0;34m\u001b[0m\u001b[0;34m\u001b[0m\u001b[0m\n",
       "\u001b[0;31mDocstring:\u001b[0m      Bilinear interpolation using XArray.\n",
       "\u001b[0;31mInit docstring:\u001b[0m\n",
       "Initialize resampler.\n",
       "\n",
       "Parameters\n",
       "----------\n",
       "source_geo_def : object\n",
       "    Geometry definition of source\n",
       "target_geo_def : object\n",
       "    Geometry definition of target\n",
       "radius_of_influence : float\n",
       "    Cut off distance in meters\n",
       "neighbours : int, optional\n",
       "    The number of neigbours to consider for each grid point\n",
       "epsilon : float, optional\n",
       "    Allowed uncertainty in meters. Increasing uncertainty\n",
       "    reduces execution time\n",
       "reduce_data : bool, optional\n",
       "    Perform initial coarse reduction of source dataset in order\n",
       "    to reduce execution time\n",
       "\u001b[0;31mFile:\u001b[0m           /srv/conda/envs/notebook/lib/python3.9/site-packages/pyresample/bilinear/xarr.py\n",
       "\u001b[0;31mType:\u001b[0m           type\n",
       "\u001b[0;31mSubclasses:\u001b[0m     XArrayResamplerBilinear\n"
      ]
     },
     "metadata": {},
     "output_type": "display_data"
    }
   ],
   "source": [
    "XArrayBilinearResampler?"
   ]
  },
  {
   "cell_type": "code",
   "execution_count": 43,
   "metadata": {},
   "outputs": [],
   "source": [
    "from pyproj import CRS"
   ]
  },
  {
   "cell_type": "code",
   "execution_count": 44,
   "metadata": {},
   "outputs": [],
   "source": [
    "NorthPolarStereo = CRS.from_epsg(3413)\n",
    "WGS84 = CRS.from_epsg(4326)"
   ]
  },
  {
   "cell_type": "code",
   "execution_count": 45,
   "metadata": {},
   "outputs": [],
   "source": [
    "from pyproj import Transformer\n",
    "transformer = Transformer.from_crs(WGS84, NorthPolarStereo, always_xy=True)"
   ]
  },
  {
   "cell_type": "code",
   "execution_count": 48,
   "metadata": {},
   "outputs": [],
   "source": [
    "import numpy as np"
   ]
  },
  {
   "cell_type": "code",
   "execution_count": 51,
   "metadata": {},
   "outputs": [],
   "source": [
    "if not np.nan:\n",
    "    print ('True')"
   ]
  },
  {
   "cell_type": "code",
   "execution_count": 53,
   "metadata": {},
   "outputs": [
    {
     "name": "stdout",
     "output_type": "stream",
     "text": [
      "-1594123.152072008 696143.503994431 -2242877.7668052907 321148.232333051\n"
     ]
    }
   ],
   "source": [
    "xx = []\n",
    "yy = []\n",
    "for lon, lat in zip(ds.lon.values.flatten(), ds.lat.values.flatten()):\n",
    "    x, y = transformer.transform(lon, lat)\n",
    "    xx.append(x)\n",
    "    yy.append(y)\n",
    "xmin = np.array(xx).min()\n",
    "xmax = np.array(xx).max()\n",
    "ymin = np.array(yy).min()\n",
    "ymax = np.array(yy).max()\n",
    "print(xmin, xmax, ymin, ymax)"
   ]
  },
  {
   "cell_type": "code",
   "execution_count": 58,
   "metadata": {},
   "outputs": [
    {
     "data": {
      "text/plain": [
       "[<matplotlib.lines.Line2D at 0x7fc557879fa0>]"
      ]
     },
     "execution_count": 58,
     "metadata": {},
     "output_type": "execute_result"
    },
    {
     "data": {
      "image/png": "[encoded data removed]",
      "text/plain": [
       "<Figure size 504x504 with 1 Axes>"
      ]
     },
     "metadata": {
      "needs_background": "light"
     },
     "output_type": "display_data"
    }
   ],
   "source": [
    "warnings.simplefilter(\"ignore\")\n",
    "\n",
    "#map_proj = ccrs.NorthPolarStereo()\n",
    "map_proj = ccrs.Stereographic(central_latitude=90,\n",
    "                              central_longitude=-45,\n",
    "                              true_scale_latitude=70.)\n",
    "    \n",
    "fig = plt.figure(figsize=(7,7))\n",
    "ax = fig.add_subplot(projection=map_proj)\n",
    "ax.set_extent([-180., 180., 60., 90.], ccrs.PlateCarree())\n",
    "ax.coastlines()\n",
    "ax.gridlines()\n",
    "\n",
    "ax.contourf(ds.lon[::2,::2], ds.lat[::2,::2], \n",
    "           ds.sea_surface_temperature[0,::2,::2], \n",
    "           transform=ccrs.PlateCarree())\n",
    "ax.plot([xmin, xmin, xmax, xmax, xmin],\n",
    "        [ymin, ymax, ymax, ymin, ymin],\n",
    "        transform=map_proj)\n",
    "#ax.add_geometries([bbox_geometry(bounding_box, coord_order='wsen', sep=',')], crs=map_proj)\n",
    "#ax.add_geometries([bbox_list[0]], crs=map_proj, facecolor='none')"
   ]
  },
  {
   "cell_type": "markdown",
   "metadata": {},
   "source": [
    "## Extract coincident SST data based on ICESat-2 transect"
   ]
  },
  {
   "cell_type": "markdown",
   "metadata": {
    "tags": []
   },
   "source": [
    "### First, we need to resample the swath data to a grid\n",
    "**TBD**"
   ]
  },
  {
   "cell_type": "code",
   "execution_count": null,
   "metadata": {},
   "outputs": [],
   "source": [
    "ds.sea_surface_temperature.sel("
   ]
  },
  {
   "cell_type": "code",
   "execution_count": null,
   "metadata": {},
   "outputs": [],
   "source": []
  },
  {
   "cell_type": "markdown",
   "metadata": {},
   "source": [
    "## Ancillary Material: Find suitable granule"
   ]
  },
  {
   "cell_type": "code",
   "execution_count": null,
   "metadata": {},
   "outputs": [],
   "source": [
    "def get_s3_link(granule):\n",
    "    for link in granule['links']:\n",
    "        if link['href'].startswith('s3://'):\n",
    "            return link['href']\n",
    "        else:\n",
    "            raise FileNotFoundError('No s3 link found')\n",
    "            \n",
    "\n",
    "def convert_attributes(da):\n",
    "    for attr, value in da.attrs.items():\n",
    "        if isinstance(value[0], bytes):\n",
    "            da.attrs[attr] = value[0].decode()\n",
    "        else:\n",
    "            da.attrs[attr] = value[0]\n",
    "    return\n",
    "\n",
    "\n",
    "def fix_attributes(ds):\n",
    "    '''Converts string attributes from bytes to str'''\n",
    "    # Fix variable attributes\n",
    "    for var in ds.variables:\n",
    "        da = ds[var]\n",
    "        convert_attributes(da)\n",
    "    # Fix global attributes\n",
    "    convert_attributes(ds)\n",
    "    return\n",
    "\n",
    "\n",
    "def fix_and_decode_cf(ds):\n",
    "    '''Fixes variable attributes and decodes cf'''\n",
    "    fix_attributes(ds)\n",
    "    ds = xr.decode_cf(ds)\n",
    "    return ds\n",
    "\n",
    "\n",
    "def plot_modis_sst(ds, ax, title=None):\n",
    "    map_proj = ccrs.NorthPolarStereo()\n",
    "\n",
    "    ax.set_extent([-180., 180., 60., 90.], ccrs.PlateCarree())\n",
    "    ax.coastlines()\n",
    "    ax.gridlines()\n",
    "\n",
    "    #ax.add_geometries([bbox_geometry(bounding_box, t_crs=map_proj)], crs=map_proj)\n",
    "    ax.scatter([-62.8, -56.4], [81.7, 83.], transform=ccrs.PlateCarree(),\n",
    "              zorder=5)\n",
    "    every =30\n",
    "    ax.scatter(ds.lon[::every,::every], ds.lat[::every,::every], 2,\n",
    "               transform=ccrs.PlateCarree())\n",
    "    if title: ax.set_title(title)\n",
    "\n",
    "    return ax"
   ]
  },
  {
   "cell_type": "code",
   "execution_count": null,
   "metadata": {},
   "outputs": [],
   "source": [
    "def open_and_plot_one_granule(granule, ax):\n",
    "    try:\n",
    "        s3_link = get_s3_link(granule)\n",
    "    except FileNotFoundError as err:\n",
    "        print(f'{err} for {granule[\"id\"]}')\n",
    "        raise\n",
    "        \n",
    "    f = s3_fs.open(s3_link, mode='rb')\n",
    "    ds = xr.open_dataset(f, decode_cf=False)\n",
    "    ds = fix_and_decode_cf(ds)\n",
    "    \n",
    "    ax = plot_modis_sst(ds, ax, granule['id'])\n",
    "    \n",
    "    f.close()\n"
   ]
  },
  {
   "cell_type": "code",
   "execution_count": null,
   "metadata": {},
   "outputs": [],
   "source": [
    "warnings.simplefilter('ignore')\n",
    "\n",
    "nrows = 5\n",
    "ncols = 3\n",
    "\n",
    "fig = plt.figure(figsize=(10, 15))\n",
    "ax = fig.add_subplot(projection=map_proj)\n",
    "\n",
    "open_and_plot_one_granule(granules[9], ax)\n",
    "#for idx, granule in enumerate(granules, start=1):\n",
    "    \n",
    "fig.savefig('modis_l2_ss2_location.png')   \n",
    "    #break"
   ]
  },
  {
   "cell_type": "code",
   "execution_count": null,
   "metadata": {},
   "outputs": [],
   "source": []
  },
  {
   "cell_type": "code",
   "execution_count": null,
   "metadata": {},
   "outputs": [],
   "source": [
    "# modis = xr.open_dataset('downloads/20190622231000-JPL-L2P_GHRSST-SSTskin-MODIS_A-D-v02.0-fv01.0.nc',\n",
    "#                         decode_cf=True)\n",
    "# modis"
   ]
  },
  {
   "cell_type": "markdown",
   "metadata": {},
   "source": [
    "#### Get corners of modis image"
   ]
  },
  {
   "cell_type": "code",
   "execution_count": null,
   "metadata": {},
   "outputs": [],
   "source": [
    "# data_proj = ccrs.NorthPolarStereo()\n",
    "# x = []\n",
    "# for lat, lon in zip(modis.lat.isel(nj=[0,-1], ni=[0,-1]).values.flatten(),\n",
    "#                     modis.lon.isel(nj=[0,-1], ni=[0,-1]).values.flatten()):\n",
    "#     print(lat, lon)"
   ]
  },
  {
   "cell_type": "code",
   "execution_count": null,
   "metadata": {},
   "outputs": [],
   "source": [
    "# modis.sea_surface_temperature.plot()"
   ]
  },
  {
   "cell_type": "markdown",
   "metadata": {},
   "source": [
    "`bounding_box is W,S,E,N"
   ]
  },
  {
   "cell_type": "code",
   "execution_count": null,
   "metadata": {},
   "outputs": [],
   "source": [
    "# def bbox_geometry(boxs, t_crs=ccrs.NorthPolarStereo()):\n",
    "#      '''Generates a shapely.geometry.box object from boxes metadata'''\n",
    "#      lon_min, lat_min, lon_max, lat_max = [float(v) for v in boxs.split(',')]\n",
    "#      x_min, y_min = t_crs.transform_point(lon_min, lat_min, ccrs.PlateCarree())\n",
    "#      x_max, y_max = t_crs.transform_point(lon_max, lat_max, ccrs.PlateCarree())\n",
    "#      return box(x_min, y_min, x_max, y_max)"
   ]
  },
  {
   "cell_type": "code",
   "execution_count": null,
   "metadata": {},
   "outputs": [],
   "source": [
    "# bounding_box"
   ]
  },
  {
   "cell_type": "code",
   "execution_count": null,
   "metadata": {},
   "outputs": [],
   "source": [
    "# map_proj = ccrs.NorthPolarStereo()\n",
    "\n",
    "# fig = plt.figure(figsize=(7,7))\n",
    "# ax = fig.add_subplot(projection=map_proj)\n",
    "# ax.set_extent([-180., 180., 60., 90.], ccrs.PlateCarree())\n",
    "# ax.coastlines()\n",
    "# ax.gridlines()\n",
    "\n",
    "# #ax.add_geometries([bbox_geometry(bounding_box, t_crs=map_proj)], crs=map_proj)\n",
    "# ax.scatter([-62.8, -56.4], [81.7, 83.], transform=ccrs.PlateCarree())\n",
    "\n",
    "# every =30\n",
    "# ax.scatter(modis.lon[::every,::every], modis.lat[::every,::every], 2,\n",
    "#            transform=ccrs.PlateCarree())\n",
    "\n",
    "# fig.savefig(f'{modis_name}_lat_lon_plot.png')"
   ]
  },
  {
   "cell_type": "code",
   "execution_count": null,
   "metadata": {},
   "outputs": [],
   "source": [
    "# plt.imshow?"
   ]
  },
  {
   "cell_type": "markdown",
   "metadata": {
    "tags": []
   },
   "source": [
    "---"
   ]
  },
  {
   "cell_type": "code",
   "execution_count": null,
   "metadata": {},
   "outputs": [],
   "source": []
  }
 ],
 "metadata": {
  "kernelspec": {
   "display_name": "Python 3 (ipykernel)",
   "language": "python",
   "name": "python3"
  },
  "language_info": {
   "codemirror_mode": {
    "name": "ipython",
    "version": 3
   },
   "file_extension": ".py",
   "mimetype": "text/x-python",
   "name": "python",
   "nbconvert_exporter": "python",
   "pygments_lexer": "ipython3",
   "version": "3.9.7"
  }
 },
 "nbformat": 4,
 "nbformat_minor": 4
}
