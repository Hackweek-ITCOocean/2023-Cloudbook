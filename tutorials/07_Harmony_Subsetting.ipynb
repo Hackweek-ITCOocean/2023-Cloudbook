{
 "cells": [
  {
   "cell_type": "markdown",
   "id": "30d1a698-a68c-4da3-9131-9e37cb3eb719",
   "metadata": {},
   "source": [
    "# 07. Data Subsetting and Transformation Services in the Cloud\n",
    "\n",
    "## Using the Harmony-Py library to access customized data from NASA Earthdata "
   ]
  },
  {
   "cell_type": "markdown",
   "id": "6d16a72a-d49f-47ae-a7c7-ec3676d13f16",
   "metadata": {},
   "source": [
    "---"
   ]
  },
  {
   "cell_type": "markdown",
   "id": "0af92b67-ceee-4164-b8dd-b01219f4cd98",
   "metadata": {
    "tags": []
   },
   "source": [
    "### Timing:\n",
    "- Exercise: 40 minutes"
   ]
  },
  {
   "cell_type": "markdown",
   "id": "b89c2939-437e-4f43-9323-33fe034a7a32",
   "metadata": {},
   "source": [
    "---"
   ]
  },
  {
   "cell_type": "markdown",
   "id": "4f8dc4ee-a8c5-439d-a1d5-48234c05add7",
   "metadata": {
    "tags": []
   },
   "source": [
    "## Summary\n",
    "\n",
    "We have already explored direct access to the NASA EOSDIS archive in the cloud via the Amazon Simple Storage Service (S3) by using the Common Metadata Repository (CMR) to search for granule locations. In addition to directly accessing the files archived and distributed by each of the NASA DAACs, many datasets also support services that allow us to customize the data via subsetting, reformatting, reprojection, and other transformations. \n",
    "\n",
    "This tutorial demonstrates how to find, request, and use customized data from a new ecosystem of services operating within the NASA Earthdata Cloud: NASA Harmony.\n",
    "\n",
    "### Benefits\n",
    "\n",
    "But first, why use this option when we've already learned how to access data directly from the NASA Earthdata Cloud? \n",
    "\n",
    "- Consistent access patterns to EOSDIS holdings make cross-data center data access easier\n",
    "- Data reduction services allow us to request only the data we want, in the format and projection we want\n",
    "- Analysis Ready Data and cloud access will help reduce time-to-science\n",
    "- Community Development helps reduce the barriers for re-use of code and sharing of domain knowledge\n",
    "\n",
    "![Data file filtering and subsetting](data/subsetting_diagram.png)\n",
    "\n",
    "See more on the [Earthdata Harmony landing page](https://harmony.earthdata.nasa.gov/), including documentation on the Harmony API itself. \n",
    "\n",
    "\n",
    "### Objectives\n",
    "\n",
    "1. Conceptualize the data transformation service types and offerings provided by NASA Earthdata, including Harmony\n",
    "2. Practice skills learned from the introductory CMR tutorial to discover what access and service options exist for a given data set, as well as variable metadata.\n",
    "2. \n",
    "___"
   ]
  },
  {
   "cell_type": "markdown",
   "id": "d47f95dd-5dab-43e3-9533-9a4437119d87",
   "metadata": {
    "tags": []
   },
   "source": [
    "## Import Packages"
   ]
  },
  {
   "cell_type": "code",
   "execution_count": 1,
   "id": "3d6cf2c7-ea5b-41eb-999c-483240d5e529",
   "metadata": {},
   "outputs": [],
   "source": [
    "from harmony import BBox, Client, Collection, Request, LinkType\n",
    "from harmony.config import Environment\n",
    "import requests\n",
    "from pprint import pprint\n",
    "import datetime as dt\n",
    "import s3fs\n",
    "import xarray as xr"
   ]
  },
  {
   "cell_type": "markdown",
   "id": "80a85c23-ec37-4430-8e8d-2e87b2900589",
   "metadata": {
    "tags": []
   },
   "source": [
    "## Discover service options for a given data set\n",
    "\n",
    "#### _First, what do we mean by a \"service\"?_\n",
    "\n",
    "In the context of NASA Earthdata, we are usually referring to a service as any data transformation or customization process that packages or delivers data in a way that makes it easier to work with compared to how the data are natively archived at NASA EOSDIS. Basic customization options may include:\n",
    "* Subsetting (cropping) the data by:\n",
    "    * Variable\n",
    "    * Spatial boundary,\n",
    "    * Temporal range\n",
    "* Reformatting\n",
    "    * For example: From NetCDF-4 to Cloud Optimized GeoTIFF\n",
    "* Reprojection and/or Resampling\n",
    "    * For example: From Sinusoidal to Polar Stereographic\n",
    "* Mosaicking\n",
    "* Aggregating\n",
    "\n",
    "A few main types or pathways for services that are commonly supported across the NASA DAACs include:\n",
    "* [NASA Global Imagery Browse Service](https://earthdata.nasa.gov/eosdis/science-system-description/eosdis-components/gibs)\n",
    "    * Web services providing imagery, much of which is updated daily, to broaden accessibility of NASA EOSDIS data to the media and public.\n",
    "        * Web Map Tile Service (WMTS)\n",
    "        * Tiled Web Map Service (TWMS)\n",
    "        * Web Map Service (WMS)\n",
    "        * Keyhole Markup Language (KML)\n",
    "        * Geospatial Data Abstraction Library (GDAL)\n",
    "* [OPeNDAP](https://opendap.earthdata.nasa.gov/)\n",
    "    * The Open-source Project for a Network Data Access Protocol is a NASA community standard DAP that provides a simple way to access and work with data over the internet. OPeNDAP's client/server software allows us to subset and reformat data using an internet browser, command line interface, and other applications.\n",
    "* [Harmony](https://harmony.earthdata.nasa.gov/)\n",
    "    * In the most basic sense, Harmony is an Application Programming Interface, or API, allowing us to request customization options described above, which are then processed and returned as file outputs. Harmony helps to reduce pre-processing steps so we can spend less time preparing the data, and more time doing science.  \n",
    "\n",
    "**Note: These service offerings are unique to each NASA EOSDIS dataset.**\n",
    "\n",
    "Why is this?\n",
    "\n",
    "Due to varying [levels of service](https://earthdata.nasa.gov/collaborate/new-missions/level-of-service), cloud migration status, and unique characteristics of the datasets themselves, not all service options are provided for all datasets. Therefore it is important to first explore a given dataset's metadata to discover what service options are provided.\n",
    "\n",
    "Let's utilize the CMR API skills we learned on Day 1 to inspect service metadata:"
   ]
  },
  {
   "cell_type": "code",
   "execution_count": 4,
   "id": "d75da0d2-96eb-4f9b-8661-c0e9ffec99c5",
   "metadata": {},
   "outputs": [],
   "source": [
    "url = 'https://cmr.earthdata.nasa.gov/search'"
   ]
  },
  {
   "cell_type": "markdown",
   "id": "8a90562d-bc45-4083-944b-99af1ba778cb",
   "metadata": {},
   "source": [
    "We want to search by collection to inspect the access and service options that exist:"
   ]
  },
  {
   "cell_type": "code",
   "execution_count": 5,
   "id": "b11040e5-9619-4017-beff-5f69105107c3",
   "metadata": {},
   "outputs": [],
   "source": [
    "collection_url = f'{url}/{\"collections\"}'"
   ]
  },
  {
   "cell_type": "markdown",
   "id": "672bad45-282f-4457-970f-4d4c28f5d72a",
   "metadata": {},
   "source": [
    "In the CMR introduction tutorial, we explored cloud-hosted collections from different DAAC providers, and identified the CMR `concept-id` for a given data set id (also referred to as a `short_name`). \n",
    "\n",
    "Here we are jumping ahead and already know the `concept_id` we are interested in, by browsing cloud-hosted datasets from PO.DAAC in Earthdata Search: https://search.earthdata.nasa.gov/portal/podaac-cloud/search. \n",
    "\n",
    "We are going to focus on `MODIS_A-JPL-L2P-v2019.0`: GHRSST Level 2P Global Sea Surface Skin Temperature from the Moderate Resolution Imaging Spectroradiometer (MODIS) on the NASA Aqua satellite (GDS2). Let's first save this as a variable that we can use later on once we request data from Harmony."
   ]
  },
  {
   "cell_type": "code",
   "execution_count": 6,
   "id": "cde1f5a8-58b2-4b4f-b959-3e78a375cbe3",
   "metadata": {},
   "outputs": [],
   "source": [
    "short_name= 'MODIS_A-JPL-L2P-v2019.0'\n",
    "concept_id = 'C1940473819-POCLOUD'"
   ]
  },
  {
   "cell_type": "markdown",
   "id": "aecc99bc-177a-4af2-bd0b-ce0bf4a82b09",
   "metadata": {},
   "source": [
    "We will view the top-level metadata for this collection to see what additional service and variable metadata exist."
   ]
  },
  {
   "cell_type": "code",
   "execution_count": 21,
   "id": "65ab652b-9bd1-4fb9-98c6-1996888c9b48",
   "metadata": {},
   "outputs": [],
   "source": [
    "response = requests.get(collection_url, \n",
    "                        params={\n",
    "                            'concept_id': concept_id,\n",
    "                            },\n",
    "                        headers={\n",
    "                            'Accept': 'application/json'\n",
    "                            }\n",
    "                       )\n",
    "response = response.json()"
   ]
  },
  {
   "cell_type": "markdown",
   "id": "f32eb2d1-44be-4f93-a0b1-ab0e4e12c8d6",
   "metadata": {},
   "source": [
    "Print the response:"
   ]
  },
  {
   "cell_type": "code",
   "execution_count": 8,
   "id": "82698422-d47d-4f10-99f2-e66a3ab306b6",
   "metadata": {
    "collapsed": true,
    "jupyter": {
     "outputs_hidden": true
    },
    "tags": []
   },
   "outputs": [
    {
     "name": "stdout",
     "output_type": "stream",
     "text": [
      "{'feed': {'entry': [{'archive_center': 'NASA/JPL/PODAAC',\n",
      "                     'associations': {'services': ['S1962070864-POCLOUD',\n",
      "                                                   'S2004184019-POCLOUD'],\n",
      "                                      'tools': ['TL2108419875-POCLOUD',\n",
      "                                                'TL2092786348-POCLOUD'],\n",
      "                                      'variables': ['V1997812737-POCLOUD',\n",
      "                                                    'V1997812697-POCLOUD',\n",
      "                                                    'V2112014688-POCLOUD',\n",
      "                                                    'V1997812756-POCLOUD',\n",
      "                                                    'V1997812688-POCLOUD',\n",
      "                                                    'V1997812670-POCLOUD',\n",
      "                                                    'V1997812724-POCLOUD',\n",
      "                                                    'V2112014684-POCLOUD',\n",
      "                                                    'V1997812701-POCLOUD',\n",
      "                                                    'V1997812681-POCLOUD',\n",
      "                                                    'V2112014686-POCLOUD',\n",
      "                                                    'V1997812663-POCLOUD',\n",
      "                                                    'V1997812676-POCLOUD',\n",
      "                                                    'V1997812744-POCLOUD',\n",
      "                                                    'V1997812714-POCLOUD']},\n",
      "                     'boxes': ['-90 -180 90 180'],\n",
      "                     'browse_flag': True,\n",
      "                     'collection_data_type': 'SCIENCE_QUALITY',\n",
      "                     'coordinate_system': 'CARTESIAN',\n",
      "                     'data_center': 'POCLOUD',\n",
      "                     'dataset_id': 'GHRSST Level 2P Global Sea Surface Skin '\n",
      "                                   'Temperature from the Moderate Resolution '\n",
      "                                   'Imaging Spectroradiometer (MODIS) on the '\n",
      "                                   'NASA Aqua satellite (GDS2)',\n",
      "                     'has_formats': True,\n",
      "                     'has_spatial_subsetting': True,\n",
      "                     'has_temporal_subsetting': True,\n",
      "                     'has_transforms': False,\n",
      "                     'has_variables': True,\n",
      "                     'id': 'C1940473819-POCLOUD',\n",
      "                     'links': [{'href': 'https://podaac.jpl.nasa.gov/Podaac/thumbnails/MODIS_A-JPL-L2P-v2019.0.jpg',\n",
      "                                'hreflang': 'en-US',\n",
      "                                'rel': 'http://esipfed.org/ns/fedsearch/1.1/browse#'},\n",
      "                               {'href': 'https://github.com/podaac/data-readers',\n",
      "                                'hreflang': 'en-US',\n",
      "                                'rel': 'http://esipfed.org/ns/fedsearch/1.1/documentation#'},\n",
      "                               {'href': 'https://podaac-tools.jpl.nasa.gov/drive/files/OceanTemperature/ghrsst/docs/GDS20r5.pdf',\n",
      "                                'hreflang': 'en-US',\n",
      "                                'rel': 'http://esipfed.org/ns/fedsearch/1.1/documentation#'},\n",
      "                               {'href': 'https://ghrsst.jpl.nasa.gov',\n",
      "                                'hreflang': 'en-US',\n",
      "                                'rel': 'http://esipfed.org/ns/fedsearch/1.1/documentation#'},\n",
      "                               {'href': 'https://oceancolor.gsfc.nasa.gov/atbd/sst/flag/',\n",
      "                                'hreflang': 'en-US',\n",
      "                                'rel': 'http://esipfed.org/ns/fedsearch/1.1/documentation#'},\n",
      "                               {'href': 'https://oceancolor.gsfc.nasa.gov/reprocessing/r2019/sst/',\n",
      "                                'hreflang': 'en-US',\n",
      "                                'rel': 'http://esipfed.org/ns/fedsearch/1.1/documentation#'},\n",
      "                               {'href': 'https://oceancolor.gsfc.nasa.gov/atbd/sst4/',\n",
      "                                'hreflang': 'en-US',\n",
      "                                'rel': 'http://esipfed.org/ns/fedsearch/1.1/documentation#'},\n",
      "                               {'href': 'https://modis.gsfc.nasa.gov/data/atbd/atbd_mod25.pdf',\n",
      "                                'hreflang': 'en-US',\n",
      "                                'rel': 'http://esipfed.org/ns/fedsearch/1.1/documentation#'},\n",
      "                               {'href': 'https://oceancolor.gsfc.nasa.gov/atbd/sst/',\n",
      "                                'hreflang': 'en-US',\n",
      "                                'rel': 'http://esipfed.org/ns/fedsearch/1.1/documentation#'},\n",
      "                               {'href': 'http://www.ghrsst.org',\n",
      "                                'hreflang': 'en-US',\n",
      "                                'rel': 'http://esipfed.org/ns/fedsearch/1.1/documentation#'},\n",
      "                               {'href': 'https://podaac.jpl.nasa.gov/forum/viewforum.php?f=18&sid=e2d67e5a01815fc6e39fcd2087ed8bc8',\n",
      "                                'hreflang': 'en-US',\n",
      "                                'rel': 'http://esipfed.org/ns/fedsearch/1.1/documentation#'},\n",
      "                               {'href': 'https://podaac.jpl.nasa.gov/CitingPODAAC',\n",
      "                                'hreflang': 'en-US',\n",
      "                                'rel': 'http://esipfed.org/ns/fedsearch/1.1/documentation#'},\n",
      "                               {'href': 'https://cmr.earthdata.nasa.gov/virtual-directory/collections/C1940473819-POCLOUD',\n",
      "                                'hreflang': 'en-US',\n",
      "                                'length': '75.0MB',\n",
      "                                'rel': 'http://esipfed.org/ns/fedsearch/1.1/data#'},\n",
      "                               {'href': 'https://github.com/podaac/tutorials/blob/master/notebooks/MODIS_L2P_SST_DataCube.ipynb',\n",
      "                                'hreflang': 'en-US',\n",
      "                                'rel': 'http://esipfed.org/ns/fedsearch/1.1/documentation#'},\n",
      "                               {'href': 'https://search.earthdata.nasa.gov/search/granules?p=C1940473819-POCLOUD',\n",
      "                                'hreflang': 'en-US',\n",
      "                                'rel': 'http://esipfed.org/ns/fedsearch/1.1/data#'}],\n",
      "                     'online_access_flag': True,\n",
      "                     'orbit_parameters': {'inclination_angle': '98.1',\n",
      "                                          'number_of_orbits': '1.0',\n",
      "                                          'period': '98.4',\n",
      "                                          'swath_width': '2330.0'},\n",
      "                     'organizations': ['NASA/JPL/PODAAC'],\n",
      "                     'original_format': 'UMM_JSON',\n",
      "                     'platforms': ['Aqua'],\n",
      "                     'processing_level_id': '2',\n",
      "                     'service_features': {'esi': {'has_formats': False,\n",
      "                                                  'has_spatial_subsetting': False,\n",
      "                                                  'has_temporal_subsetting': False,\n",
      "                                                  'has_transforms': False,\n",
      "                                                  'has_variables': False},\n",
      "                                          'harmony': {'has_formats': True,\n",
      "                                                      'has_spatial_subsetting': True,\n",
      "                                                      'has_temporal_subsetting': True,\n",
      "                                                      'has_transforms': False,\n",
      "                                                      'has_variables': True},\n",
      "                                          'opendap': {'has_formats': True,\n",
      "                                                      'has_spatial_subsetting': True,\n",
      "                                                      'has_temporal_subsetting': True,\n",
      "                                                      'has_transforms': False,\n",
      "                                                      'has_variables': True}},\n",
      "                     'short_name': 'MODIS_A-JPL-L2P-v2019.0',\n",
      "                     'summary': 'NASA produces skin sea surface temperature '\n",
      "                                '(SST) products from the Infrared (IR) '\n",
      "                                'channels of the Moderate-resolution Imaging '\n",
      "                                'Spectroradiometer (MODIS) onboard the Aqua '\n",
      "                                'satellite. Aqua was launched by NASA on May '\n",
      "                                '4, 2002, into a sun synchronous, polar orbit '\n",
      "                                'with a daylight ascending node at 1:30 pm, '\n",
      "                                'formation flying in the A-train with other '\n",
      "                                'Earth Observation Satellites (EOS), to study '\n",
      "                                'the global dynamics of the Earth atmosphere, '\n",
      "                                'land and oceans. MODIS captures data in 36 '\n",
      "                                'spectral bands at a variety of spatial '\n",
      "                                'resolutions.  Two SST products can be present '\n",
      "                                'in these files. The first is a skin SST '\n",
      "                                'produced for both day and night (NSST) '\n",
      "                                'observations, derived from the long wave IR '\n",
      "                                '11 and 12 micron wavelength channels, using a '\n",
      "                                'modified nonlinear SST algorithm intended to '\n",
      "                                'provide continuity of SST derived from '\n",
      "                                'heritage and current NASA sensors. At night, '\n",
      "                                'a second SST product is generated using the '\n",
      "                                'mid-infrared 3.95 and 4.05 micron  wavelength '\n",
      "                                'channels which are unique to MODIS; the SST '\n",
      "                                'derived from these measurements is identified '\n",
      "                                'as SST4. The SST4 product has lower '\n",
      "                                'uncertainty, but due to sun glint can only be '\n",
      "                                'used at night. MODIS L2P SST data have a 1 km '\n",
      "                                'spatial resolution at nadir and are stored in '\n",
      "                                '288 five minute granules per day. Full global '\n",
      "                                'coverage is obtained every two days, with '\n",
      "                                'coverage poleward of 32.3 degree being '\n",
      "                                'complete each day.  The production of MODIS '\n",
      "                                'L2P SST files is part of the Group for High '\n",
      "                                'Resolution Sea Surface Temperature (GHRSST) '\n",
      "                                'project and is a joint collaboration between '\n",
      "                                'the NASA Jet Propulsion Laboratory (JPL), the '\n",
      "                                'NASA Ocean Biology Processing Group (OBPG), '\n",
      "                                'and the Rosenstiel School of Marine and '\n",
      "                                'Atmospheric Science (RSMAS). Researchers at '\n",
      "                                'RSMAS are responsible for SST algorithm '\n",
      "                                'development, error statistics and quality '\n",
      "                                'flagging, while the OBPG, as the NASA ground '\n",
      "                                'data system, is responsible for the '\n",
      "                                'production of daily MODIS ocean products. JPL '\n",
      "                                'acquires MODIS ocean granules from the OBPG '\n",
      "                                'and reformats them to the GHRSST L2P netCDF '\n",
      "                                'specification with complete metadata and '\n",
      "                                'ancillary variables, and distributes the data '\n",
      "                                'as the official Physical Oceanography Data '\n",
      "                                'Archive (PO.DAAC) for SST.  The R2019.0 '\n",
      "                                'supersedes the previous R2014.0 datasets '\n",
      "                                'which can be found at '\n",
      "                                'https://doi.org/10.5067/GHMDA-2PJ02',\n",
      "                     'time_start': '2002-07-04T00:00:00.000Z',\n",
      "                     'title': 'GHRSST Level 2P Global Sea Surface Skin '\n",
      "                              'Temperature from the Moderate Resolution '\n",
      "                              'Imaging Spectroradiometer (MODIS) on the NASA '\n",
      "                              'Aqua satellite (GDS2)',\n",
      "                     'updated': '2019-12-02T22:59:24.849Z',\n",
      "                     'version_id': '2019.0'}],\n",
      "          'id': 'https://cmr.earthdata.nasa.gov:443/search/collections.json?concept_id=C1940473819-POCLOUD',\n",
      "          'title': 'ECHO dataset metadata',\n",
      "          'updated': '2021-11-14T23:03:05.533Z'}}\n"
     ]
    }
   ],
   "source": [
    "pprint(response)"
   ]
  },
  {
   "cell_type": "markdown",
   "id": "0853cb7a-7a10-4e7f-a942-50ab63d1dbd5",
   "metadata": {},
   "source": [
    "#### What do each of these service values mean?\n",
    "\n",
    "- Associations\n",
    "     - CMR is a large web of interconnected metadata \"schemas\", including Collections, Granules, Services, Tools, and Variables. In this case, this collection is associated with two unique services, two tools, and several unique variables.\n",
    "- Tags\n",
    "    - There are also tags that describe what service options exist at a high-level. In this case, we see that this dataset supports the ability to reformat, subset by space and time, as well as by variable. This is used in web applications like Earthdata Search to surface those customization options more readily. \n",
    "- Service Features\n",
    "    - In this case, we see three separate \"features\" listed here: esi, Harmony, and OPeNDAP.\n",
    "    \n",
    "We will dig into more details on what Harmony offers for this dataset.\n",
    "\n",
    "First, we need to isolate the services returned for this dataset:"
   ]
  },
  {
   "cell_type": "code",
   "execution_count": 9,
   "id": "b2fbb3ff-255a-4d71-83ca-c648a80f558b",
   "metadata": {},
   "outputs": [
    {
     "name": "stdout",
     "output_type": "stream",
     "text": [
      "['S1962070864-POCLOUD', 'S2004184019-POCLOUD']\n"
     ]
    }
   ],
   "source": [
    "services = response['feed']['entry'][0]['associations']['services']\n",
    "print(services)"
   ]
  },
  {
   "cell_type": "code",
   "execution_count": 10,
   "id": "8702a829-1a48-4287-aa25-a6ae5203c120",
   "metadata": {},
   "outputs": [],
   "source": [
    "service_url = \"https://cmr.earthdata.nasa.gov/search/services\""
   ]
  },
  {
   "cell_type": "markdown",
   "id": "397b8a5a-3287-44ea-8641-3d14cba10f57",
   "metadata": {},
   "source": [
    "Inspect the first service returned. Now we're going to search the services endpoint to view that individual service's metadata, like we did with our dataset above. This time, we're explicitly setting the format of the response to umm-json in the Accept Header in order to see detailed metadata about the service."
   ]
  },
  {
   "cell_type": "code",
   "execution_count": 22,
   "id": "c693321e-8640-4057-b344-7125fb5dee38",
   "metadata": {},
   "outputs": [],
   "source": [
    "service_response = requests.get(service_url, \n",
    "                        params={\n",
    "                            'concept_id': services[0],\n",
    "                            },\n",
    "                        headers={\n",
    "                            'Accept': 'application/vnd.nasa.cmr.umm_results+json'\n",
    "                            }\n",
    "                       )\n",
    "service_response = service_response.json()"
   ]
  },
  {
   "cell_type": "code",
   "execution_count": 23,
   "id": "e781ca9d-788e-41fa-945b-4f3f5e8280ff",
   "metadata": {},
   "outputs": [
    {
     "name": "stdout",
     "output_type": "stream",
     "text": [
      "{'hits': 1,\n",
      " 'items': [{'meta': {'concept-id': 'S1962070864-POCLOUD',\n",
      "                     'concept-type': 'service',\n",
      "                     'deleted': False,\n",
      "                     'format': 'application/vnd.nasa.cmr.umm+json',\n",
      "                     'native-id': 'POCLOUD_podaac_l2_cloud_subsetter',\n",
      "                     'provider-id': 'POCLOUD',\n",
      "                     'revision-date': '2021-11-02T22:57:03.597Z',\n",
      "                     'revision-id': 19,\n",
      "                     'user-id': 'podaaccloud'},\n",
      "            'umm': {'AccessConstraints': 'None',\n",
      "                    'Description': 'Endpoint for subsetting L2 Subsetter via '\n",
      "                                   'Harmony',\n",
      "                    'LongName': 'PODAAC Level 2 Cloud Subsetter',\n",
      "                    'MetadataSpecification': {'Name': 'UMM-S',\n",
      "                                              'URL': 'https://cdn.earthdata.nasa.gov/umm/service/v1.4',\n",
      "                                              'Version': '1.4'},\n",
      "                    'Name': 'PODAAC L2 Cloud Subsetter',\n",
      "                    'OperationMetadata': [{'OperationName': 'SPATIAL_SUBSETTING'},\n",
      "                                          {'OperationName': 'VARIABLE_SUBSETTING'},\n",
      "                                          {'OperationName': 'TEMPORAL_SUBSETTING'}],\n",
      "                    'ServiceKeywords': [{'ServiceCategory': 'EARTH SCIENCE '\n",
      "                                                            'SERVICES',\n",
      "                                         'ServiceTerm': 'SUBSETTING/SUPERSETTING',\n",
      "                                         'ServiceTopic': 'DATA MANAGEMENT/DATA '\n",
      "                                                         'HANDLING'}],\n",
      "                    'ServiceOptions': {'Subset': {'SpatialSubset': {'BoundingBox': {'AllowMultipleValues': False}},\n",
      "                                                  'TemporalSubset': {'AllowMultipleValues': False},\n",
      "                                                  'VariableSubset': {'AllowMultipleValues': True}},\n",
      "                                       'SupportedReformattings': [{'SupportedInputFormat': 'HDF5',\n",
      "                                                                   'SupportedOutputFormats': ['NETCDF-4']},\n",
      "                                                                  {'SupportedInputFormat': 'NETCDF-4',\n",
      "                                                                   'SupportedOutputFormats': ['NETCDF-4']}]},\n",
      "                    'ServiceOrganizations': [{'LongName': 'Physical '\n",
      "                                                          'Oceanography '\n",
      "                                                          'Distributed Active '\n",
      "                                                          'Archive Center, Jet '\n",
      "                                                          'Propulsion '\n",
      "                                                          'Laboratory, NASA',\n",
      "                                              'Roles': ['ORIGINATOR'],\n",
      "                                              'ShortName': 'NASA/JPL/PODAAC'}],\n",
      "                    'Type': 'Harmony',\n",
      "                    'URL': {'Description': 'PROJECT HOME PAGE',\n",
      "                            'URLValue': 'https://harmony.earthdata.nasa.gov'},\n",
      "                    'Version': '1.1.0'}}],\n",
      " 'took': 12}\n"
     ]
    }
   ],
   "source": [
    "pprint(service_response)"
   ]
  },
  {
   "cell_type": "markdown",
   "id": "e42a0eca-8a38-452e-bb1b-cf65d360609d",
   "metadata": {},
   "source": [
    "TODO: Describe these different service options and broader Harmony / backend subsetter context."
   ]
  },
  {
   "cell_type": "markdown",
   "id": "644bd05f-b5bf-4e16-ad5d-5d3aa675fdc0",
   "metadata": {},
   "source": [
    "## Discover variable names"
   ]
  },
  {
   "cell_type": "markdown",
   "id": "8c2c90e0-286a-4942-9efe-1e5075db9897",
   "metadata": {},
   "source": [
    "TODO: Could this be an \"exercise\" to gain more familiarity with CMR? "
   ]
  },
  {
   "cell_type": "code",
   "execution_count": 24,
   "id": "2052dc8d-92c7-401b-b934-1e86231c92c6",
   "metadata": {
    "tags": []
   },
   "outputs": [
    {
     "name": "stdout",
     "output_type": "stream",
     "text": [
      "['V1997812737-POCLOUD', 'V1997812697-POCLOUD', 'V2112014688-POCLOUD', 'V1997812756-POCLOUD', 'V1997812688-POCLOUD', 'V1997812670-POCLOUD', 'V1997812724-POCLOUD', 'V2112014684-POCLOUD', 'V1997812701-POCLOUD', 'V1997812681-POCLOUD', 'V2112014686-POCLOUD', 'V1997812663-POCLOUD', 'V1997812676-POCLOUD', 'V1997812744-POCLOUD', 'V1997812714-POCLOUD']\n"
     ]
    }
   ],
   "source": [
    "variables = response['feed']['entry'][0]['associations']['variables']\n",
    "print(variables)"
   ]
  },
  {
   "cell_type": "code",
   "execution_count": 25,
   "id": "b16209fa-dec0-49f4-9de0-f68305a5664e",
   "metadata": {},
   "outputs": [],
   "source": [
    "var_url = \"https://cmr.earthdata.nasa.gov/search/variables\""
   ]
  },
  {
   "cell_type": "code",
   "execution_count": 26,
   "id": "984fc9b9-eb12-4ade-9725-50dab377163d",
   "metadata": {},
   "outputs": [],
   "source": [
    "var_response = requests.get(f\"{var_url}.{output_format}?concept-id={variables[0]}\")"
   ]
  },
  {
   "cell_type": "code",
   "execution_count": 27,
   "id": "805e8fea-43c6-4615-a27f-5a8b1b1e8b5b",
   "metadata": {},
   "outputs": [
    {
     "name": "stdout",
     "output_type": "stream",
     "text": [
      "{'hits': 1,\n",
      " 'items': [{'associations': {'collections': [{'concept-id': 'C1940473819-POCLOUD'}]},\n",
      "            'meta': {'concept-id': 'V1997812737-POCLOUD',\n",
      "                     'concept-type': 'variable',\n",
      "                     'deleted': False,\n",
      "                     'format': 'application/vnd.nasa.cmr.umm+json',\n",
      "                     'native-id': 'MODIS_A-JPL-L2P-v2019.0-sses_standard_deviation_4um',\n",
      "                     'provider-id': 'POCLOUD',\n",
      "                     'revision-date': '2021-10-19T02:26:51.560Z',\n",
      "                     'revision-id': 6,\n",
      "                     'user-id': 'jmcnelis'},\n",
      "            'umm': {'DataType': 'byte',\n",
      "                    'Definition': 'mid-IR SST standard deviation error; non '\n",
      "                                  'L2P core field; signed byte array:  WARNING '\n",
      "                                  'Some applications are unable to properly '\n",
      "                                  'handle signed byte values. If values are '\n",
      "                                  'encountered > 127, please subtract 256 from '\n",
      "                                  'this reported value',\n",
      "                    'Dimensions': [{'Name': 'time',\n",
      "                                    'Size': 1,\n",
      "                                    'Type': 'TIME_DIMENSION'},\n",
      "                                   {'Name': 'nj',\n",
      "                                    'Size': 2030,\n",
      "                                    'Type': 'ALONG_TRACK_DIMENSION'},\n",
      "                                   {'Name': 'ni',\n",
      "                                    'Size': 1354,\n",
      "                                    'Type': 'CROSS_TRACK_DIMENSION'}],\n",
      "                    'FillValues': [{'Type': 'SCIENCE_FILLVALUE',\n",
      "                                    'Value': -128}],\n",
      "                    'LongName': 'SSES standard deviation error based on '\n",
      "                                'proximity confidence flags',\n",
      "                    'Name': 'sses_standard_deviation_4um',\n",
      "                    'Offset': 10.0,\n",
      "                    'Scale': 0.07874016,\n",
      "                    'Sets': [{'Index': 1,\n",
      "                              'Name': 'sses_standard_deviation_4um',\n",
      "                              'Size': 1,\n",
      "                              'Type': 'General'}],\n",
      "                    'Units': 'kelvin',\n",
      "                    'ValidRanges': [{'Max': 127, 'Min': -127}],\n",
      "                    'VariableType': 'ANCILLARY_VARIABLE'}}],\n",
      " 'took': 9}\n"
     ]
    }
   ],
   "source": [
    "pprint(var_response.json())"
   ]
  },
  {
   "cell_type": "markdown",
   "id": "27648efc-3ea8-4c1e-843c-c12a58f7b766",
   "metadata": {},
   "source": [
    "Let's print out a simple list of all associated variable names."
   ]
  },
  {
   "cell_type": "code",
   "execution_count": 29,
   "id": "8039c2ed-e70d-4c4d-b3c9-8ede15ca0f14",
   "metadata": {},
   "outputs": [],
   "source": [
    "var_list = []\n",
    "for i in range(len(variables)):\n",
    "    response = requests.get(f\"{var_url}.{output_format}?concept-id={variables[i]}\")\n",
    "    response = response.json()\n",
    "    var_list.append(response['items'][0]['umm']['Name'])"
   ]
  },
  {
   "cell_type": "code",
   "execution_count": 30,
   "id": "4a93372a-3acc-4dfb-af7c-3552c1e6984e",
   "metadata": {},
   "outputs": [
    {
     "name": "stdout",
     "output_type": "stream",
     "text": [
      "['sses_standard_deviation_4um',\n",
      " 'l2p_flags',\n",
      " 'time',\n",
      " 'dt_analysis',\n",
      " 'sses_standard_deviation',\n",
      " 'sst_dtime',\n",
      " 'sses_bias_4um',\n",
      " 'lat',\n",
      " 'sea_surface_temperature_4um',\n",
      " 'sses_bias',\n",
      " 'lon',\n",
      " 'sea_surface_temperature',\n",
      " 'quality_level',\n",
      " 'wind_speed',\n",
      " 'quality_level_4um']\n"
     ]
    }
   ],
   "source": [
    "pprint(var_list)"
   ]
  },
  {
   "cell_type": "markdown",
   "id": "15db183e-a4d3-4d34-88cc-5ead071b80d2",
   "metadata": {},
   "source": [
    "## Find all collections that have harmony type??"
   ]
  },
  {
   "cell_type": "markdown",
   "id": "2ec7d84e-1946-4014-b0bb-febb12373ab2",
   "metadata": {},
   "source": [
    "## Harmony-Py set up"
   ]
  },
  {
   "cell_type": "markdown",
   "id": "4697edd0-205f-48ef-b9b8-a31ba2530734",
   "metadata": {},
   "source": [
    "[TODO] Describe Harmony-Py in more detail (connection between the library and the API).\n",
    "\n",
    "Harmony-Py is a Python library for integrating with NASA's Harmony Services.\n",
    "\n",
    "Harmony-Py provides a Python alternative to directly using Harmony's RESTful API. It handles NASA Earthdata Login (EDL) authentication and optionally integrates with the CMR Python Wrapper by accepting collection results as a request parameter. It's convenient for scientists who wish to use Harmony from Jupyter notebooks as well as machine-to-machine communication with larger Python applications.\n",
    "\n",
    "Next steps adopted from the intro tutorial notebook in the Harmony-Py library: https://github.com/nasa/harmony-py/blob/main/examples/intro_tutorial.ipynb"
   ]
  },
  {
   "cell_type": "markdown",
   "id": "07c5f20b-25da-456c-9a13-c86bc67ed4db",
   "metadata": {},
   "source": [
    "### Create Harmony Client object\n",
    "First, we need to create a Harmony Client, which is what we will interact with to submit and inspect a data request to Harmony, as well as to retrieve results.\n",
    "\n",
    "When creating the Client, we need to provide Earthdata Login credentials, which are required to access data from NASA EOSDIS. This basic line below assumes that we have a `.netrc` available. "
   ]
  },
  {
   "cell_type": "code",
   "execution_count": null,
   "id": "aee9843a-1875-4fb4-b241-47389333c010",
   "metadata": {},
   "outputs": [],
   "source": [
    "harmony_client = Client()"
   ]
  },
  {
   "cell_type": "markdown",
   "id": "382d3a8f-9a15-4aa7-98ad-a2f961986973",
   "metadata": {},
   "source": [
    "### Create Harmony Request\n",
    "The following are common request parameters:\n",
    "\n",
    "- `collection`: Required parameter. This is the NASA EOSDIS collection, or data product. There are two options for inputting a collection of interest:\n",
    "    - Provide a concept ID, which is an ID provided in the Common Metadata Repository (CMR) metadata\n",
    "    - Data product short name (e.g. SENTINEL-1_INTERFEROGRAMS).\n",
    "- `spatial`: Bounding box spatial constraints on the data. The Harmony Bbox class accepts spatial coordinates as decimal degrees in w, s, e, n order, where longitude = -180, 180 and latitude = -90, 90.\n",
    "- `temporal`: Date/time constraints on the data. The example below demonstrates temporal start and end ranges using the python datetime library.\n",
    "\n",
    "Other advanced parameters that may be of interest. Note that many reformatting or advanced projection options may not be available for your requested dataset. See the [documentation](https://harmony-py.readthedocs.io/en/latest/) for details on how to construct these parameters.\n",
    "\n",
    "[TODO] Describe area/time use case with this dataset - maybe demonstrating Earthdata Search for browsing??"
   ]
  },
  {
   "cell_type": "markdown",
   "id": "01913267-e9c7-4f4b-a442-d4b0c42cb3e2",
   "metadata": {},
   "source": [
    "We will search over the Gulf of Mexico during the period 1 Aug 2020 to 1 Nov 2020, since we are interested in exploring how SST responds during the latest Atlantic hurricane season."
   ]
  },
  {
   "cell_type": "code",
   "execution_count": null,
   "id": "3bab287d-ef49-44bb-9d14-fbcb72407341",
   "metadata": {},
   "outputs": [],
   "source": [
    "request = Request(\n",
    "    collection=Collection(id=short_name),\n",
    "#    spatial=BBox(60,-45.75,90,-45), # bounding box example that can be used as an alternative to shapefile input\n",
    "    spatial=BBox(-97.77667,21.20806,-83.05197,30.16605), # bounding box example that can be used as an alternative to shapefile input\n",
    "    temporal={\n",
    "        # 'start': dt.datetime(2021, 11, 1),\n",
    "        # 'stop': dt.datetime(2021, 11, 2),\n",
    "        'start': dt.datetime(2021, 8, 1),\n",
    "        'stop': dt.datetime(2021, 8, 2),\n",
    "    },\n",
    "    # variables=variables,\n",
    ")"
   ]
  },
  {
   "cell_type": "markdown",
   "id": "680f12b8-0ac2-4ff2-8f05-f519e9ea16aa",
   "metadata": {},
   "source": [
    "### Check Request validity\n",
    "Before submitting a Harmony Request, we can test your request to see if it's valid and how to fix it if not. In particular, `request.is_valid` will check to ensure that the spatial BBox bounds and temporal ranges are entered correctly."
   ]
  },
  {
   "cell_type": "code",
   "execution_count": null,
   "id": "7cb74a84-9d0a-4a1a-bf49-c8d227134ce1",
   "metadata": {},
   "outputs": [],
   "source": [
    "request.is_valid()"
   ]
  },
  {
   "cell_type": "markdown",
   "id": "8e9f4b81-6bfc-46e3-bb79-0ee5846456a2",
   "metadata": {},
   "source": [
    "### Submit request\n",
    "\n",
    "Now that the request is created, we can now submit it to Harmony using the Harmony Client object. A job id is returned, which is a unique identifier that represents the submitted request."
   ]
  },
  {
   "cell_type": "code",
   "execution_count": null,
   "id": "48e5d0b2-d28c-4fe6-975d-3003b112ca6b",
   "metadata": {},
   "outputs": [],
   "source": [
    "job_id = harmony_client.submit(request)\n",
    "job_id"
   ]
  },
  {
   "cell_type": "markdown",
   "id": "6c0eec72-e25c-485f-b247-f804c40a5d97",
   "metadata": {},
   "source": [
    "### Check request status\n",
    "\n",
    "We can check on the progress of a processing job with status(). This method blocks while communicating with the server but returns quickly."
   ]
  },
  {
   "cell_type": "code",
   "execution_count": null,
   "id": "c8ca8da2-9f33-4fc9-bb63-c717d47e97dd",
   "metadata": {},
   "outputs": [],
   "source": [
    "harmony_client.status(job_id)"
   ]
  },
  {
   "cell_type": "markdown",
   "id": "758a72c3-c204-4b5b-8ef8-68338290d5a1",
   "metadata": {},
   "source": [
    "Depending on the size of the request, it may be helpful to wait until the request has completed processing before the remainder of the code is executed. The wait_for_processing() method will block subsequent lines of code while optionally showing a progress bar."
   ]
  },
  {
   "cell_type": "code",
   "execution_count": null,
   "id": "37bdad26-3c82-4ab4-8c31-abd9027c65e5",
   "metadata": {},
   "outputs": [],
   "source": [
    "harmony_client.wait_for_processing(job_id, show_progress=True)"
   ]
  },
  {
   "cell_type": "markdown",
   "id": "40e3e42c-ddb2-4463-ae67-092802247b98",
   "metadata": {},
   "source": [
    "### View Harmony job response and output URLs\n",
    "Once the data request has finished processing, we can view details on the job that was submitted to Harmony, including the API call to Harmony, and informational messages on the request if available.\n",
    "\n",
    "result_json() calls wait_for_processing() and returns the complete job in JSON format once processing is complete. "
   ]
  },
  {
   "cell_type": "code",
   "execution_count": null,
   "id": "cf7f40e0-815a-452b-a250-439566d8495f",
   "metadata": {},
   "outputs": [],
   "source": [
    "data = harmony_client.result_json(job_id)\n",
    "pprint(data)"
   ]
  },
  {
   "cell_type": "markdown",
   "id": "a7989627-d1f9-4f78-83df-c56a7d8b1c93",
   "metadata": {
    "tags": []
   },
   "source": [
    "### Direct cloud access\n",
    "\n",
    "Note that the remainder of this tutorial will only succeed when running this notebook within the AWS us-west-2 region.\n",
    "\n",
    "Harmony data outputs can be accessed within the cloud using the s3 URLs and AWS credentials provided in the Harmony job response.\n",
    "\n",
    "#### Retrieve list of output URLs.\n",
    "\n",
    "The result_urls() method calls wait_for_processing() and returns a list of the processed data URLs once processing is complete. You may optionally show the progress bar as shown below."
   ]
  },
  {
   "cell_type": "code",
   "execution_count": null,
   "id": "b66d9800-173b-48d3-bb8a-63ff6b22d1e7",
   "metadata": {},
   "outputs": [],
   "source": [
    "results = harmony_client.result_urls(job_id, link_type=LinkType.s3)\n",
    "urls = list(results)\n",
    "pprint(urls)"
   ]
  },
  {
   "cell_type": "markdown",
   "id": "38421c1d-798f-48d4-8465-2c5448585ef9",
   "metadata": {},
   "source": [
    "We can see that the first file returned does not include the `_subsetted` suffix, which indicates that a blank file was returned, as no data values were located within our subsetted region. We'll select the second URL in the list to bring into xarray below."
   ]
  },
  {
   "cell_type": "code",
   "execution_count": null,
   "id": "d7d24d64-1b86-473c-9a42-7ece5d4e58fd",
   "metadata": {},
   "outputs": [],
   "source": [
    "url = urls[1]\n",
    "url"
   ]
  },
  {
   "cell_type": "markdown",
   "id": "324c086f-97fe-42c1-bdc3-7e1142ca802d",
   "metadata": {},
   "source": [
    "#### AWS credential retrieval\n",
    "Using aws_credentials you can retrieve the credentials needed to access the Harmony s3 staging bucket and its contents."
   ]
  },
  {
   "cell_type": "code",
   "execution_count": null,
   "id": "dfe9c7b0-b129-4910-a80d-48c5b8081598",
   "metadata": {
    "tags": []
   },
   "outputs": [],
   "source": [
    "creds = harmony_client.aws_credentials()"
   ]
  },
  {
   "cell_type": "markdown",
   "id": "e3c88630-188d-4277-80c6-493d920cc4f3",
   "metadata": {
    "tags": []
   },
   "source": [
    "### Open staged files with *s3fs* and *xarray*\n",
    "\n",
    "We use the AWS `s3fs` package to create a file system that can then be read by xarray:"
   ]
  },
  {
   "cell_type": "code",
   "execution_count": null,
   "id": "676a86b1-8432-4fc8-a815-c1175a28ff3c",
   "metadata": {},
   "outputs": [],
   "source": [
    "s3_fs = s3fs.S3FileSystem(\n",
    "    key=creds['aws_access_key_id'],\n",
    "    secret=creds['aws_secret_access_key'],\n",
    "    token=creds['aws_session_token'],\n",
    "    client_kwargs={'region_name':'us-west-2'},\n",
    ")"
   ]
  },
  {
   "cell_type": "markdown",
   "id": "c358f537-2433-4c84-b5f2-5cfad05fa021",
   "metadata": {},
   "source": [
    "### **Note, Ideally, we'd show how to bring in all files into a single xarray ds but I'm getting an error:"
   ]
  },
  {
   "cell_type": "code",
   "execution_count": null,
   "id": "1eb8604f-e9bb-4201-b041-6e72380da2d6",
   "metadata": {},
   "outputs": [],
   "source": [
    "# # Iterate through remote_files to create a fileset\n",
    "# fileset = [s3_fs.open(file) for file in urls]\n",
    "# fileset\n",
    "# ds = xr.open_mfdataset(fileset)"
   ]
  },
  {
   "cell_type": "markdown",
   "id": "ae7559a4-3ca0-44ec-acfc-dbc395154a0c",
   "metadata": {},
   "source": [
    "Now that we have our s3 file system set, including our declared credentials, we'll use that to open the url, and read in the file through xarray:"
   ]
  },
  {
   "cell_type": "code",
   "execution_count": null,
   "id": "75b8b7c9-3604-44ee-992e-c13e505e13ca",
   "metadata": {},
   "outputs": [],
   "source": [
    "f = s3_fs.open(url, mode='rb')\n",
    "# ds = xr.open_dataset(f, decode_cf=False)\n",
    "ds = xr.open_dataset(f)\n",
    "ds.sea_surface_temperature.plot()\n",
    "f.close()"
   ]
  },
  {
   "cell_type": "markdown",
   "id": "8f8bfb04-4d58-45df-b6ce-04f4e81ceb88",
   "metadata": {},
   "source": [
    "### Plot the data"
   ]
  },
  {
   "cell_type": "code",
   "execution_count": null,
   "id": "5df42d42-d010-4095-9675-b3bc16e9f731",
   "metadata": {},
   "outputs": [],
   "source": [
    "# # Determine the lat/lon coordinate names\n",
    "# for coord_name, coord in ds.coords.items():\n",
    "#     if 'units' not in coord.attrs:\n",
    "#         continue\n",
    "#     if coord.attrs['units'] == 'degrees_north':\n",
    "#         lat_var = coord_name\n",
    "#     if coord.attrs['units'] == 'degrees_east':\n",
    "#         lon_var = coord_name\n",
    "\n",
    "# print(f'lat_var={lat_var}')\n",
    "# print(f'lon_var={lon_var}')\n",
    "\n",
    "# # if ds[variable].size == 0:\n",
    "# #     print(\"No data in subsetted region. Exiting\")\n",
    "# #     sys.exit(0)\n",
    "    \n",
    "# import matplotlib.pyplot as plt\n",
    "# import math\n",
    "\n",
    "# fig, axes = plt.subplots(ncols=3, nrows=math.ceil((len(ds.data_vars)/3)))\n",
    "# fig.set_size_inches((15,15))\n",
    "\n",
    "# for count, xvar in enumerate(ds.data_vars):\n",
    "#     if  ds[xvar].dtype == \"timedelta64[ns]\":\n",
    "#         continue\n",
    "#         #ds[xvar].astype('timedelta64[D]').plot(ax=axes[int(count/3)][count%3])\n",
    "#     ds[xvar].plot(ax=axes[int(count/3)][count%3])"
   ]
  },
  {
   "cell_type": "markdown",
   "id": "2da9826f-cc59-419d-81a9-e3b12b0aeac8",
   "metadata": {},
   "source": [
    "### Extra code attempting to read in directly from s3 into xarray:"
   ]
  },
  {
   "cell_type": "code",
   "execution_count": null,
   "id": "bbe6b921-04c3-4e24-b142-d477874fd28e",
   "metadata": {
    "tags": []
   },
   "outputs": [],
   "source": [
    "# netcdf_stores = [netcdf_fs.get_mapper(root=u, check=False) for u in urls]\n",
    "# netcdf_stores\n",
    "\n",
    "# xr.open_mfdataset(netcdf_stores)"
   ]
  },
  {
   "cell_type": "markdown",
   "id": "0bc9cfee-edd9-436b-bbf8-0ec588b14b71",
   "metadata": {},
   "source": [
    "## Resources\n",
    "\n",
    "https://github.com/podaac/tutorials/blob/master/notebooks/SWOT-EA-2021/Colocate_satellite_insitu_ocean.ipynb\n",
    "\n"
   ]
  }
 ],
 "metadata": {
  "kernelspec": {
   "display_name": "Python 3 (ipykernel)",
   "language": "python",
   "name": "python3"
  },
  "language_info": {
   "codemirror_mode": {
    "name": "ipython",
    "version": 3
   },
   "file_extension": ".py",
   "mimetype": "text/x-python",
   "name": "python",
   "nbconvert_exporter": "python",
   "pygments_lexer": "ipython3",
   "version": "3.9.7"
  }
 },
 "nbformat": 4,
 "nbformat_minor": 5
}
