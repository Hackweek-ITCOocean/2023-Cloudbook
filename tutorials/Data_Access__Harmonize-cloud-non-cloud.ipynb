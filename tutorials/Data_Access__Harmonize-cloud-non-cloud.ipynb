{
 "cells": [
  {
   "cell_type": "markdown",
   "metadata": {},
   "source": [
    "# Harmonizing data located within and outside of the NASA Earthdata Cloud"
   ]
  },
  {
   "cell_type": "markdown",
   "metadata": {},
   "source": [
    "---"
   ]
  },
  {
   "cell_type": "markdown",
   "metadata": {},
   "source": [
    "## Timing\n",
    "\n",
    "- Exercise: 45 min\n",
    "-\n",
    "-\n"
   ]
  },
  {
   "cell_type": "markdown",
   "metadata": {},
   "source": [
    "---"
   ]
  },
  {
   "cell_type": "markdown",
   "metadata": {},
   "source": [
    "## Summary\n",
    "\n",
    "This tutorial will combine several workflow steps and components from the previous days, demonstrating the process of using the geolocation of data available outside of the Earthdata Cloud to then access coincident variables of cloud-accessible data. This may be a common use case as NASA Earthdata continues to migrate to the cloud, producing a \"hybrid\" data archive across Amazon Web Services (AWS) and original on-premise data storage systems. Additionally, you may also want to combine field measurements with remote sensing data available on the Earthdata Cloud.\n",
    "\n",
    "This specific example explores the harmonization of the ICESat-2 ATL03 data product, currently (as of November 2021) available publicaly via direct download at the NSIDC DAAC, with Sea Surface Temperature variables available from PO.DAAC on the Earthdata Cloud. \n",
    "\n",
    "\n",
    "### Objectives\n",
    "\n",
    "\n"
   ]
  },
  {
   "cell_type": "markdown",
   "metadata": {},
   "source": [
    "---"
   ]
  },
  {
   "cell_type": "markdown",
   "metadata": {},
   "source": [
    "### Import packages"
   ]
  },
  {
   "cell_type": "code",
   "execution_count": 19,
   "metadata": {
    "tags": []
   },
   "outputs": [],
   "source": [
    "# pip install icepyx"
   ]
  },
  {
   "cell_type": "code",
   "execution_count": 39,
   "metadata": {},
   "outputs": [],
   "source": [
    "# import getpass\n",
    "# from requests.auth import HTTPBasicAuth\n",
    "\n",
    "import requests\n",
    "import netrc\n",
    "from pprint import pprint\n",
    "import os\n",
    "from pathlib import Path\n",
    "from xml.etree import ElementTree as ET\n",
    "import time\n",
    "import zipfile\n",
    "import io\n",
    "import shutil\n",
    "import json\n",
    "from urllib import request\n",
    "\n",
    "import xarray as xr\n",
    "# import icepyx as ipx"
   ]
  },
  {
   "cell_type": "markdown",
   "metadata": {
    "tags": []
   },
   "source": [
    "### Determine storage location of datasets of interest\n",
    "\n",
    "First, let's see whether our datasets of interest reside in the Earthdata Cloud or whether they reside on premise, or \"on prem\" at a local data center.\n",
    "\n",
    "Background from CMR API (consider removing):\n",
    "The cloud_hosted parameter can be set to “true” or “false”. When true, the results will be restricted to collections that have a DirectDistributionInformation element or have been tagged with gov.nasa.earthdatacloud.s3.\n",
    "curl “https://cmr.earthdata.nasa.gov/search/collections?cloud_hosted=true”"
   ]
  },
  {
   "cell_type": "markdown",
   "metadata": {
    "tags": []
   },
   "source": [
    "### Declare datasets of interest\n",
    "\n",
    "Identify the dataset ID that is used internally within CMR to designate each dataset"
   ]
  },
  {
   "cell_type": "code",
   "execution_count": 21,
   "metadata": {},
   "outputs": [],
   "source": [
    "# sentinel_name = 'SENTINEL-1A_DP_META_GRD_MEDIUM'\n",
    "# # sentinel_id = 'C1214472336-ASF'\n",
    "\n",
    "modis_name = 'MODIS_T-JPL-L2P-v2019.0'\n",
    "\n",
    "icesat2_name = 'ATL03'\n",
    "# icesat2_id = 'C1997321091-NSIDC_ECS'"
   ]
  },
  {
   "cell_type": "code",
   "execution_count": 22,
   "metadata": {},
   "outputs": [
    {
     "name": "stdout",
     "output_type": "stream",
     "text": [
      "C1940475563-POCLOUD version:2019.0\n",
      "C1693233387-PODAAC version:2019.0\n"
     ]
    }
   ],
   "source": [
    "CMR_OPS = 'https://cmr.earthdata.nasa.gov/search'\n",
    "url = f'{CMR_OPS}/{\"collections\"}'\n",
    "\n",
    "response = requests.get(url, \n",
    "                        params={\n",
    "                            'short_name': modis_name,\n",
    "                            },\n",
    "                        headers={\n",
    "                            'Accept': 'application/json'\n",
    "                            }\n",
    "                       )\n",
    "collections = response.json()['feed']['entry']\n",
    "# collection_id = collections[0]['id']  \n",
    "# print(collection_id)\n",
    "\n",
    "for collection in collections:\n",
    "    print(f'{collection[\"id\"]} {\"version:\"}{collection[\"version_id\"]}')"
   ]
  },
  {
   "cell_type": "markdown",
   "metadata": {},
   "source": [
    "Start with the MODIS dataset, setting the `cloud_hosted` parameter to True:"
   ]
  },
  {
   "cell_type": "code",
   "execution_count": 23,
   "metadata": {
    "tags": []
   },
   "outputs": [
    {
     "name": "stdout",
     "output_type": "stream",
     "text": [
      "[{'archive_center': 'NASA/JPL/PODAAC',\n",
      "  'associations': {'services': ['S1962070864-POCLOUD', 'S2004184019-POCLOUD'],\n",
      "                   'tools': ['TL2108419875-POCLOUD', 'TL2092786348-POCLOUD'],\n",
      "                   'variables': ['V1997811750-POCLOUD',\n",
      "                                 'V1997811794-POCLOUD',\n",
      "                                 'V2112014697-POCLOUD',\n",
      "                                 'V1997811877-POCLOUD',\n",
      "                                 'V1997811902-POCLOUD',\n",
      "                                 'V2028668027-POCLOUD',\n",
      "                                 'V2028632036-POCLOUD',\n",
      "                                 'V1997811775-POCLOUD',\n",
      "                                 'V1997811764-POCLOUD',\n",
      "                                 'V1997811783-POCLOUD',\n",
      "                                 'V2112014702-POCLOUD',\n",
      "                                 'V2028632034-POCLOUD',\n",
      "                                 'V2112014700-POCLOUD',\n",
      "                                 'V1997811759-POCLOUD',\n",
      "                                 'V2028632038-POCLOUD']},\n",
      "  'boxes': ['-90 -180 90 180'],\n",
      "  'browse_flag': True,\n",
      "  'collection_data_type': 'SCIENCE_QUALITY',\n",
      "  'coordinate_system': 'CARTESIAN',\n",
      "  'data_center': 'POCLOUD',\n",
      "  'dataset_id': 'GHRSST Level 2P Global Sea Surface Skin Temperature from the '\n",
      "                'Moderate Resolution Imaging Spectroradiometer (MODIS) on the '\n",
      "                'NASA Terra satellite (GDS2)',\n",
      "  'has_formats': True,\n",
      "  'has_spatial_subsetting': True,\n",
      "  'has_temporal_subsetting': True,\n",
      "  'has_transforms': False,\n",
      "  'has_variables': True,\n",
      "  'id': 'C1940475563-POCLOUD',\n",
      "  'links': [{'href': 'https://podaac-tools.jpl.nasa.gov/drive/files/OceanTemperature/ghrsst/docs/GDS20r5.pdf',\n",
      "             'hreflang': 'en-US',\n",
      "             'rel': 'http://esipfed.org/ns/fedsearch/1.1/documentation#'},\n",
      "            {'href': 'https://oceancolor.gsfc.nasa.gov/atbd/sst4/',\n",
      "             'hreflang': 'en-US',\n",
      "             'rel': 'http://esipfed.org/ns/fedsearch/1.1/documentation#'},\n",
      "            {'href': 'https://oceancolor.gsfc.nasa.gov/reprocessing/r2019/sst/',\n",
      "             'hreflang': 'en-US',\n",
      "             'rel': 'http://esipfed.org/ns/fedsearch/1.1/documentation#'},\n",
      "            {'href': 'https://oceancolor.gsfc.nasa.gov/atbd/sst/flag/',\n",
      "             'hreflang': 'en-US',\n",
      "             'rel': 'http://esipfed.org/ns/fedsearch/1.1/documentation#'},\n",
      "            {'href': 'https://ghrsst.jpl.nasa.gov',\n",
      "             'hreflang': 'en-US',\n",
      "             'rel': 'http://esipfed.org/ns/fedsearch/1.1/documentation#'},\n",
      "            {'href': 'https://modis.gsfc.nasa.gov/data/atbd/atbd_mod25.pdf',\n",
      "             'hreflang': 'en-US',\n",
      "             'rel': 'http://esipfed.org/ns/fedsearch/1.1/documentation#'},\n",
      "            {'href': 'https://podaac.jpl.nasa.gov/Podaac/thumbnails/MODIS_T-JPL-L2P-v2019.0.jpg',\n",
      "             'hreflang': 'en-US',\n",
      "             'rel': 'http://esipfed.org/ns/fedsearch/1.1/browse#'},\n",
      "            {'href': 'https://podaac.jpl.nasa.gov/forum/viewforum.php?f=18&sid=e2d67e5a01815fc6e39fcd2087ed8bc8',\n",
      "             'hreflang': 'en-US',\n",
      "             'rel': 'http://esipfed.org/ns/fedsearch/1.1/documentation#'},\n",
      "            {'href': 'https://oceancolor.gsfc.nasa.gov/atbd/sst/',\n",
      "             'hreflang': 'en-US',\n",
      "             'rel': 'http://esipfed.org/ns/fedsearch/1.1/documentation#'},\n",
      "            {'href': 'https://github.com/podaac/data-readers',\n",
      "             'hreflang': 'en-US',\n",
      "             'rel': 'http://esipfed.org/ns/fedsearch/1.1/documentation#'},\n",
      "            {'href': 'http://www.ghrsst.org',\n",
      "             'hreflang': 'en-US',\n",
      "             'rel': 'http://esipfed.org/ns/fedsearch/1.1/documentation#'},\n",
      "            {'href': 'https://podaac.jpl.nasa.gov/CitingPODAAC',\n",
      "             'hreflang': 'en-US',\n",
      "             'rel': 'http://esipfed.org/ns/fedsearch/1.1/documentation#'},\n",
      "            {'href': ' '\n",
      "                     'https://cmr.earthdata.nasa.gov/virtual-directory/collections/C1940475563-POCLOUD',\n",
      "             'hreflang': 'en-US',\n",
      "             'rel': 'http://esipfed.org/ns/fedsearch/1.1/data#'},\n",
      "            {'href': 'https://github.com/podaac/tutorials/blob/master/notebooks/MODIS_L2P_SST_DataCube.ipynb',\n",
      "             'hreflang': 'en-US',\n",
      "             'rel': 'http://esipfed.org/ns/fedsearch/1.1/documentation#'},\n",
      "            {'href': 'https://search.earthdata.nasa.gov/search/granules?p=C1940475563-POCLOUD',\n",
      "             'hreflang': 'en-US',\n",
      "             'rel': 'http://esipfed.org/ns/fedsearch/1.1/data#'}],\n",
      "  'online_access_flag': True,\n",
      "  'orbit_parameters': {'inclination_angle': '98.2',\n",
      "                       'number_of_orbits': '1.0',\n",
      "                       'period': '98.8',\n",
      "                       'swath_width': '2330.0'},\n",
      "  'organizations': ['NASA/JPL/PODAAC'],\n",
      "  'original_format': 'UMM_JSON',\n",
      "  'platforms': ['Terra'],\n",
      "  'processing_level_id': '2',\n",
      "  'service_features': {'esi': {'has_formats': False,\n",
      "                               'has_spatial_subsetting': False,\n",
      "                               'has_temporal_subsetting': False,\n",
      "                               'has_transforms': False,\n",
      "                               'has_variables': False},\n",
      "                       'harmony': {'has_formats': True,\n",
      "                                   'has_spatial_subsetting': True,\n",
      "                                   'has_temporal_subsetting': True,\n",
      "                                   'has_transforms': False,\n",
      "                                   'has_variables': True},\n",
      "                       'opendap': {'has_formats': True,\n",
      "                                   'has_spatial_subsetting': True,\n",
      "                                   'has_temporal_subsetting': True,\n",
      "                                   'has_transforms': False,\n",
      "                                   'has_variables': True}},\n",
      "  'short_name': 'MODIS_T-JPL-L2P-v2019.0',\n",
      "  'summary': 'NASA produces skin sea surface temperature (SST) products from '\n",
      "             'the Infrared (IR) channels of the Moderate-resolution Imaging '\n",
      "             'Spectroradiometer (MODIS) onboard the Terra satellite. Terra was '\n",
      "             'launched by NASA on December 18, 1999, into a sun synchronous, '\n",
      "             'polar orbit with a daylight descending node at 10:30 am, to '\n",
      "             'study the global dynamics of the Earth atmosphere, land and '\n",
      "             'oceans. The MODIS captures data in 36 spectral bands at a '\n",
      "             'variety of spatial resolutions.  Two SST products can be present '\n",
      "             'in these files. The first is a skin SST produced for both day '\n",
      "             'and night observations, derived from the long wave IR 11 and 12 '\n",
      "             'micron wavelength channels, using a modified nonlinear SST '\n",
      "             'algorithm intended to provide continuity with SST derived from '\n",
      "             'heritage and current NASA sensors. At night, a second SST '\n",
      "             'product is produced using the mid-infrared 3.95 and 4.05 micron '\n",
      "             'channels which are unique to MODIS; the SST derived from these '\n",
      "             'measurements is identified as SST4. The SST4 product has lower '\n",
      "             'uncertainty, but due to sun glint can only be produced at night. '\n",
      "             'MODIS L2P SST data have a 1 km spatial resolution at nadir and '\n",
      "             'are stored in 288 five minute granules per day. Full global '\n",
      "             'coverage is obtained every two days, with coverage poleward of '\n",
      "             '32.3 degree being complete each day. The production of MODIS L2P '\n",
      "             'SST files is part of the Group for High Resolution Sea Surface '\n",
      "             'Temperature (GHRSST) project, and is a joint collaboration '\n",
      "             'between the NASA Jet Propulsion Laboratory (JPL), the NASA Ocean '\n",
      "             'Biology Processing Group (OBPG), and the Rosenstiel School of '\n",
      "             'Marine and Atmospheric Science (RSMAS). Researchers at RSMAS are '\n",
      "             'responsible for SST algorithm development, error statistics and '\n",
      "             'quality flagging, while the OBPG, as the NASA ground data '\n",
      "             'system, is responsible for the production of daily MODIS ocean '\n",
      "             'products. JPL acquires MODIS ocean granules from the OBPG and '\n",
      "             'reformats them to the GHRSST L2P netCDF specification with '\n",
      "             'complete metadata and ancillary variables, and distributes the '\n",
      "             'data as the official Physical Oceanography Data Archive '\n",
      "             '(PO.DAAC) for SST.  The R2019.0 supersedes the previous R2014.0 '\n",
      "             'datasets which can be found at  '\n",
      "             'https://doi.org/10.5067/GHMDT-2PJ02',\n",
      "  'time_start': '2000-02-24T00:00:00.000Z',\n",
      "  'title': 'GHRSST Level 2P Global Sea Surface Skin Temperature from the '\n",
      "           'Moderate Resolution Imaging Spectroradiometer (MODIS) on the NASA '\n",
      "           'Terra satellite (GDS2)',\n",
      "  'updated': '2019-12-31T19:19:57.627Z',\n",
      "  'version_id': '2019.0'}]\n"
     ]
    }
   ],
   "source": [
    "# CMR_OPS = 'https://cmr.earthdata.nasa.gov/search'\n",
    "# url = f'{CMR_OPS}/{\"collections\"}'\n",
    "\n",
    "response = requests.get(url, \n",
    "                        params={\n",
    "                            'concept_id': 'C1940475563-POCLOUD',\n",
    "                            'cloud_hosted': 'True',\n",
    "                            },\n",
    "                        headers={\n",
    "                            'Accept': 'application/json'\n",
    "                            }\n",
    "                       )\n",
    "collections = response.json()['feed']['entry']\n",
    "pprint(collections)"
   ]
  },
  {
   "cell_type": "markdown",
   "metadata": {},
   "source": [
    "Now we will try our ICESat-2 dataset to see what id's are returned for a given dataset name."
   ]
  },
  {
   "cell_type": "code",
   "execution_count": 24,
   "metadata": {},
   "outputs": [
    {
     "name": "stdout",
     "output_type": "stream",
     "text": [
      "C1705401930-NSIDC_ECS version:003\n",
      "C1997321091-NSIDC_ECS version:004\n"
     ]
    }
   ],
   "source": [
    "response = requests.get(url, \n",
    "                        params={\n",
    "                            'short_name': icesat2_name,\n",
    "                            },\n",
    "                        headers={\n",
    "                            'Accept': 'application/json'\n",
    "                            }\n",
    "                       )\n",
    "collections = response.json()['feed']['entry']\n",
    "# pprint(collections)\n",
    "\n",
    "for collection in collections:\n",
    "    print(f'{collection[\"id\"]} {\"version:\"}{collection[\"version_id\"]}')"
   ]
  },
  {
   "cell_type": "markdown",
   "metadata": {},
   "source": [
    "Two separate datasets exist in the CMR. Now let's take each ID, setting the `cloud_hosted` parameter to True, to identify which dataset is cloud-hosted:"
   ]
  },
  {
   "cell_type": "code",
   "execution_count": 25,
   "metadata": {
    "tags": []
   },
   "outputs": [
    {
     "name": "stdout",
     "output_type": "stream",
     "text": [
      "[{'archive_center': 'NASA NSIDC DAAC',\n",
      "  'associations': {'services': ['S1568899363-NSIDC_ECS',\n",
      "                                'S1613689509-NSIDC_ECS',\n",
      "                                'S1977894169-NSIDC_ECS',\n",
      "                                'S2013502342-NSIDC_ECS'],\n",
      "                   'tools': ['TL1950215144-NSIDC_ECS',\n",
      "                             'TL1977971361-NSIDC_ECS',\n",
      "                             'TL1993837300-NSIDC_ECS',\n",
      "                             'TL1952642907-NSIDC_ECS']},\n",
      "  'boxes': ['-90 -180 90 180'],\n",
      "  'browse_flag': False,\n",
      "  'coordinate_system': 'CARTESIAN',\n",
      "  'data_center': 'NSIDC_ECS',\n",
      "  'dataset_id': 'ATLAS/ICESat-2 L2A Global Geolocated Photon Data V004',\n",
      "  'has_formats': True,\n",
      "  'has_spatial_subsetting': True,\n",
      "  'has_temporal_subsetting': True,\n",
      "  'has_transforms': False,\n",
      "  'has_variables': True,\n",
      "  'id': 'C1997321091-NSIDC_ECS',\n",
      "  'links': [{'href': 'https://n5eil01u.ecs.nsidc.org/ATLAS/ATL03.004/',\n",
      "             'hreflang': 'en-US',\n",
      "             'length': '0.0KB',\n",
      "             'rel': 'http://esipfed.org/ns/fedsearch/1.1/data#'},\n",
      "            {'href': 'https://search.earthdata.nasa.gov/search/granules?p=C1997321091-NSIDC_ECS&pg[0][gsk]=-start_date&q=atl03%20v004&tl=1602518008!4!!&m=-9.278314769606354!-105.46875!1!1!0!0%2C2',\n",
      "             'hreflang': 'en-US',\n",
      "             'length': '0.0KB',\n",
      "             'rel': 'http://esipfed.org/ns/fedsearch/1.1/data#'},\n",
      "            {'href': 'http://openaltimetry.org/',\n",
      "             'hreflang': 'en-US',\n",
      "             'length': '0.0KB',\n",
      "             'rel': 'http://esipfed.org/ns/fedsearch/1.1/data#'},\n",
      "            {'href': 'https://nsidc.org/data/data-access-tool/ATL03/versions/4/',\n",
      "             'hreflang': 'en-US',\n",
      "             'length': '0.0KB',\n",
      "             'rel': 'http://esipfed.org/ns/fedsearch/1.1/data#'},\n",
      "            {'href': 'https://doi.org/10.5067/ATLAS/ATL03.004',\n",
      "             'hreflang': 'en-US',\n",
      "             'rel': 'http://esipfed.org/ns/fedsearch/1.1/metadata#'},\n",
      "            {'href': 'https://doi.org/10.5067/ATLAS/ATL03.004',\n",
      "             'hreflang': 'en-US',\n",
      "             'rel': 'http://esipfed.org/ns/fedsearch/1.1/documentation#'}],\n",
      "  'online_access_flag': True,\n",
      "  'orbit_parameters': {'inclination_angle': '92.0',\n",
      "                       'number_of_orbits': '0.071428571',\n",
      "                       'period': '96.8',\n",
      "                       'start_circular_latitude': '0.0',\n",
      "                       'swath_width': '36.0'},\n",
      "  'organizations': ['NASA NSIDC DAAC', 'NASA/GSFC/EOS/ESDIS'],\n",
      "  'original_format': 'ISO19115',\n",
      "  'platforms': ['ICESat-2'],\n",
      "  'processing_level_id': 'Level 2A',\n",
      "  'service_features': {'esi': {'has_formats': True,\n",
      "                               'has_spatial_subsetting': True,\n",
      "                               'has_temporal_subsetting': True,\n",
      "                               'has_transforms': False,\n",
      "                               'has_variables': True},\n",
      "                       'harmony': {'has_formats': False,\n",
      "                                   'has_spatial_subsetting': False,\n",
      "                                   'has_temporal_subsetting': False,\n",
      "                                   'has_transforms': False,\n",
      "                                   'has_variables': False},\n",
      "                       'opendap': {'has_formats': False,\n",
      "                                   'has_spatial_subsetting': False,\n",
      "                                   'has_temporal_subsetting': False,\n",
      "                                   'has_transforms': False,\n",
      "                                   'has_variables': False}},\n",
      "  'short_name': 'ATL03',\n",
      "  'summary': 'This data set (ATL03) contains height above the WGS 84 ellipsoid '\n",
      "             '(ITRF2014 reference frame), latitude, longitude, and time for '\n",
      "             'all photons downlinked by the Advanced Topographic Laser '\n",
      "             'Altimeter System (ATLAS) instrument on board the Ice, Cloud and '\n",
      "             'land Elevation Satellite-2 (ICESat-2) observatory. The ATL03 '\n",
      "             'product was designed to be a single source for all photon data '\n",
      "             'and ancillary information needed by higher-level ATLAS/ICESat-2 '\n",
      "             'products. As such, it also includes spacecraft and instrument '\n",
      "             'parameters and ancillary data not explicitly required for ATL03.',\n",
      "  'time_start': '2018-10-13T00:00:00.000Z',\n",
      "  'title': 'ATLAS/ICESat-2 L2A Global Geolocated Photon Data V004',\n",
      "  'version_id': '004'}]\n"
     ]
    }
   ],
   "source": [
    "CMR_OPS = 'https://cmr.earthdata.nasa.gov/search'\n",
    "url = f'{CMR_OPS}/{\"collections\"}'\n",
    "\n",
    "response = requests.get(url, \n",
    "                        params={\n",
    "                            'concept_id': 'C1997321091-NSIDC_ECS',\n",
    "                            # 'cloud_hosted': 'True',\n",
    "                            },\n",
    "                        headers={\n",
    "                            'Accept': 'application/json'\n",
    "                            }\n",
    "                       )\n",
    "collections = response.json()['feed']['entry']\n",
    "pprint(collections)"
   ]
  },
  {
   "cell_type": "markdown",
   "metadata": {},
   "source": [
    "What happens if we comment out this parameter? Do we see results returned? \n",
    "[TODO: Add instructions on how to comment lines using command slash]\n",
    "\n",
    "Now we have determined that our Sentinel dataset is provided in the cloud, whereas the ICESat-2 dataset remains \"on premise\", residing in a local data center. "
   ]
  },
  {
   "cell_type": "markdown",
   "metadata": {
    "tags": []
   },
   "source": [
    "### Determine size of ATL03 data over area of interest \n",
    "(determine large size; need to keep geographic region small)"
   ]
  },
  {
   "cell_type": "markdown",
   "metadata": {},
   "source": [
    "#### Specify time and area of interest \n",
    "\n",
    "These `bounding_box` and `temporal` variables will be used for data search, subset, and access below\n",
    "\n",
    "(Quick demo of OpenAltimetry or Earthdata Search for exploration of ICESat-2 or both datasets??)"
   ]
  },
  {
   "cell_type": "code",
   "execution_count": 26,
   "metadata": {},
   "outputs": [],
   "source": [
    "# # Bounding Box spatial parameter in decimal degree 'W,S,E,N' format. TODO: Show on a simple map??\n",
    "# bounding_box = '-31.68073,61.21566,-12.15967,83.56771'\n",
    "\n",
    "# # Each date in yyyy-MM-ddTHH:mm:ssZ format; date range in start,end format\n",
    "# temporal = '2021-01-01T00:00:00Z,2021-01-01T23:59:59Z'\n",
    "\n",
    "\n",
    "# Bounding Box spatial parameter in decimal degree 'W,S,E,N' format.\n",
    "bounding_box = '-62.8,81.7,-56.4,83'\n",
    "\n",
    "# Each date in yyyy-MM-ddTHH:mm:ssZ format; date range in start,end format\n",
    "temporal = '2019-06-22T00:00:00Z,2019-06-22T23:59:59Z'"
   ]
  },
  {
   "cell_type": "code",
   "execution_count": 27,
   "metadata": {},
   "outputs": [
    {
     "name": "stdout",
     "output_type": "stream",
     "text": [
      "2\n"
     ]
    }
   ],
   "source": [
    "url = f'{CMR_OPS}/{\"granules\"}'\n",
    "response = requests.get(url, \n",
    "                        params={\n",
    "                            'concept_id': 'C1997321091-NSIDC_ECS',\n",
    "                            'temporal': temporal,\n",
    "                            'bounding_box': bounding_box,\n",
    "                            'page_size': 200,\n",
    "                            },\n",
    "                        headers={\n",
    "                            'Accept': 'application/json'\n",
    "                            }\n",
    "                       )\n",
    "print(response.headers['CMR-Hits'])"
   ]
  },
  {
   "cell_type": "code",
   "execution_count": 28,
   "metadata": {},
   "outputs": [
    {
     "name": "stdout",
     "output_type": "stream",
     "text": [
      "ATL03_20190622061415_12980304_004_01.h5 1825.3746356964 https://n5eil01u.ecs.nsidc.org/DP9/ATLAS/ATL03.004/2019.06.22/ATL03_20190622061415_12980304_004_01.h5\n",
      "ATL03_20190622202251_13070304_004_01.h5 3035.5987443924 https://n5eil01u.ecs.nsidc.org/DP9/ATLAS/ATL03.004/2019.06.22/ATL03_20190622202251_13070304_004_01.h5\n"
     ]
    }
   ],
   "source": [
    "granules = response.json()['feed']['entry']\n",
    "\n",
    "for granule in granules:\n",
    "    print(f'{granule[\"producer_granule_id\"]} {granule[\"granule_size\"]} {granule[\"links\"][0][\"href\"]}')"
   ]
  },
  {
   "cell_type": "markdown",
   "metadata": {},
   "source": [
    "### Download ICESat-2 ATL03 granule\n",
    "We've found 2 granules.  We'll download the first one and write it to a file with the same name as the `producer_granule_id`.\n",
    "\n",
    "We need the url for the granule as well.  This is `href` links we printed out above."
   ]
  },
  {
   "cell_type": "code",
   "execution_count": 29,
   "metadata": {},
   "outputs": [],
   "source": [
    "icesat_id = granules[0][\"producer_granule_id\"]\n",
    "icesat_url = granules[0]['links'][0]['href']"
   ]
  },
  {
   "cell_type": "markdown",
   "metadata": {},
   "source": [
    "You need Earthdata login credentials to download data from NASA DAACs.  These are the credentials you stored in the `.netrc` file you setup in previous tutorials.  \n",
    "\n",
    "We'll use the `netrc` package to retrieve your login and password without exposing them."
   ]
  },
  {
   "cell_type": "code",
   "execution_count": 30,
   "metadata": {},
   "outputs": [],
   "source": [
    "info = netrc.netrc()\n",
    "login, account, password = info.authenticators('urs.earthdata.nasa.gov')"
   ]
  },
  {
   "cell_type": "markdown",
   "metadata": {},
   "source": [
    "To retrieve the granule data, we use the `requests.get()` method, passing Earthdata login credentials as a `tuple` using the `auth` keyword."
   ]
  },
  {
   "cell_type": "code",
   "execution_count": 31,
   "metadata": {},
   "outputs": [],
   "source": [
    "r = requests.get(icesat_url, auth=(login, password))"
   ]
  },
  {
   "cell_type": "markdown",
   "metadata": {},
   "source": [
    "The response returned by requests has the same structure as all the other responses: a header and contents.  The header information has information about the response, including the size of the data we downloaded in bytes. "
   ]
  },
  {
   "cell_type": "code",
   "execution_count": 37,
   "metadata": {},
   "outputs": [
    {
     "name": "stdout",
     "output_type": "stream",
     "text": [
      "Date: Wed, 03 Nov 2021 23:46:05 GMT\n",
      "Server: Apache\n",
      "Vary: User-Agent\n",
      "Content-Disposition: attachment\n",
      "Content-Length: 1914044034\n",
      "Keep-Alive: timeout=15, max=100\n",
      "Connection: Keep-Alive\n"
     ]
    }
   ],
   "source": [
    "for k, v in r.headers.items():\n",
    "    print(f'{k}: {v}')"
   ]
  },
  {
   "cell_type": "markdown",
   "metadata": {},
   "source": [
    "The contents needs to be saved to a file.  To keep the directory clean, we will create a `downloads` directory to store the file.  We can use a shell command to do this or use the `mkdir` method from the `os` package. "
   ]
  },
  {
   "cell_type": "code",
   "execution_count": 38,
   "metadata": {},
   "outputs": [],
   "source": [
    "os.mkdir('downloads')"
   ]
  },
  {
   "cell_type": "markdown",
   "metadata": {},
   "source": [
    "You should see a `downloads` directory in the file browser."
   ]
  },
  {
   "cell_type": "markdown",
   "metadata": {},
   "source": [
    "To write the data to a file, we use `open` to open a file.  We need to specify that the file is open for writing by using the _write-mode_ `w`.  We also need to specify that we want to write bytes by setting the _binary-mode_ `b`.  This is important because the response contents are bytes.  The default mode for `open` is `text-mode`. So make sure you use `b`.\n",
    "\n",
    "We'll use the `with` statement _context-manager_ to open the file, write the contents of the response, and then close the file.  Once the data in `r.content` is written sucessfully to the file, or if there is an error, the file is closed by the _context-manager_.\n",
    "\n",
    "We also need to prepend the `downloads` path to the filename.  We do this using `Path` from the `pathlib` package in the standard library."
   ]
  },
  {
   "cell_type": "code",
   "execution_count": 41,
   "metadata": {},
   "outputs": [],
   "source": [
    "outfile = Path('downloads', icesat_id)\n",
    "with open(outfile, 'wb') as f:\n",
    "    f.write(r.content)"
   ]
  },
  {
   "cell_type": "markdown",
   "metadata": {},
   "source": [
    "Check to make sure it is downloaded."
   ]
  },
  {
   "cell_type": "code",
   "execution_count": 43,
   "metadata": {
    "tags": []
   },
   "outputs": [
    {
     "name": "stdout",
     "output_type": "stream",
     "text": [
      "total 1869184\n",
      "-rw-r--r-- 1 jovyan jovyan 1914044034 Nov  4 00:11 ATL03_20190622061415_12980304_004_01.h5\n"
     ]
    }
   ],
   "source": [
    "ls -l ./downloads"
   ]
  },
  {
   "cell_type": "markdown",
   "metadata": {},
   "source": [
    "`ATL03_20190622061415_12980304_004_01.h5` is an HDF5 file.  `xarray` can open this but you need to tell it which group to read the data from.  In this case we read the height data for ground-track 1 left-beam."
   ]
  },
  {
   "cell_type": "code",
   "execution_count": 35,
   "metadata": {},
   "outputs": [
    {
     "data": {
      "text/html": [
       "<div><svg style=\"position: absolute; width: 0; height: 0; overflow: hidden\">\n",
       "<defs>\n",
       "<symbol id=\"icon-database\" viewBox=\"0 0 32 32\">\n",
       "<path d=\"M16 0c-8.837 0-16 2.239-16 5v4c0 2.761 7.163 5 16 5s16-2.239 16-5v-4c0-2.761-7.163-5-16-5z\"></path>\n",
       "<path d=\"M16 17c-8.837 0-16-2.239-16-5v6c0 2.761 7.163 5 16 5s16-2.239 16-5v-6c0 2.761-7.163 5-16 5z\"></path>\n",
       "<path d=\"M16 26c-8.837 0-16-2.239-16-5v6c0 2.761 7.163 5 16 5s16-2.239 16-5v-6c0 2.761-7.163 5-16 5z\"></path>\n",
       "</symbol>\n",
       "<symbol id=\"icon-file-text2\" viewBox=\"0 0 32 32\">\n",
       "<path d=\"M28.681 7.159c-0.694-0.947-1.662-2.053-2.724-3.116s-2.169-2.030-3.116-2.724c-1.612-1.182-2.393-1.319-2.841-1.319h-15.5c-1.378 0-2.5 1.121-2.5 2.5v27c0 1.378 1.122 2.5 2.5 2.5h23c1.378 0 2.5-1.122 2.5-2.5v-19.5c0-0.448-0.137-1.23-1.319-2.841zM24.543 5.457c0.959 0.959 1.712 1.825 2.268 2.543h-4.811v-4.811c0.718 0.556 1.584 1.309 2.543 2.268zM28 29.5c0 0.271-0.229 0.5-0.5 0.5h-23c-0.271 0-0.5-0.229-0.5-0.5v-27c0-0.271 0.229-0.5 0.5-0.5 0 0 15.499-0 15.5 0v7c0 0.552 0.448 1 1 1h7v19.5z\"></path>\n",
       "<path d=\"M23 26h-14c-0.552 0-1-0.448-1-1s0.448-1 1-1h14c0.552 0 1 0.448 1 1s-0.448 1-1 1z\"></path>\n",
       "<path d=\"M23 22h-14c-0.552 0-1-0.448-1-1s0.448-1 1-1h14c0.552 0 1 0.448 1 1s-0.448 1-1 1z\"></path>\n",
       "<path d=\"M23 18h-14c-0.552 0-1-0.448-1-1s0.448-1 1-1h14c0.552 0 1 0.448 1 1s-0.448 1-1 1z\"></path>\n",
       "</symbol>\n",
       "</defs>\n",
       "</svg>\n",
       "<style>/* CSS stylesheet for displaying xarray objects in jupyterlab.\n",
       " *\n",
       " */\n",
       "\n",
       ":root {\n",
       "  --xr-font-color0: var(--jp-content-font-color0, rgba(0, 0, 0, 1));\n",
       "  --xr-font-color2: var(--jp-content-font-color2, rgba(0, 0, 0, 0.54));\n",
       "  --xr-font-color3: var(--jp-content-font-color3, rgba(0, 0, 0, 0.38));\n",
       "  --xr-border-color: var(--jp-border-color2, #e0e0e0);\n",
       "  --xr-disabled-color: var(--jp-layout-color3, #bdbdbd);\n",
       "  --xr-background-color: var(--jp-layout-color0, white);\n",
       "  --xr-background-color-row-even: var(--jp-layout-color1, white);\n",
       "  --xr-background-color-row-odd: var(--jp-layout-color2, #eeeeee);\n",
       "}\n",
       "\n",
       "html[theme=dark],\n",
       "body.vscode-dark {\n",
       "  --xr-font-color0: rgba(255, 255, 255, 1);\n",
       "  --xr-font-color2: rgba(255, 255, 255, 0.54);\n",
       "  --xr-font-color3: rgba(255, 255, 255, 0.38);\n",
       "  --xr-border-color: #1F1F1F;\n",
       "  --xr-disabled-color: #515151;\n",
       "  --xr-background-color: #111111;\n",
       "  --xr-background-color-row-even: #111111;\n",
       "  --xr-background-color-row-odd: #313131;\n",
       "}\n",
       "\n",
       ".xr-wrap {\n",
       "  display: block;\n",
       "  min-width: 300px;\n",
       "  max-width: 700px;\n",
       "}\n",
       "\n",
       ".xr-text-repr-fallback {\n",
       "  /* fallback to plain text repr when CSS is not injected (untrusted notebook) */\n",
       "  display: none;\n",
       "}\n",
       "\n",
       ".xr-header {\n",
       "  padding-top: 6px;\n",
       "  padding-bottom: 6px;\n",
       "  margin-bottom: 4px;\n",
       "  border-bottom: solid 1px var(--xr-border-color);\n",
       "}\n",
       "\n",
       ".xr-header > div,\n",
       ".xr-header > ul {\n",
       "  display: inline;\n",
       "  margin-top: 0;\n",
       "  margin-bottom: 0;\n",
       "}\n",
       "\n",
       ".xr-obj-type,\n",
       ".xr-array-name {\n",
       "  margin-left: 2px;\n",
       "  margin-right: 10px;\n",
       "}\n",
       "\n",
       ".xr-obj-type {\n",
       "  color: var(--xr-font-color2);\n",
       "}\n",
       "\n",
       ".xr-sections {\n",
       "  padding-left: 0 !important;\n",
       "  display: grid;\n",
       "  grid-template-columns: 150px auto auto 1fr 20px 20px;\n",
       "}\n",
       "\n",
       ".xr-section-item {\n",
       "  display: contents;\n",
       "}\n",
       "\n",
       ".xr-section-item input {\n",
       "  display: none;\n",
       "}\n",
       "\n",
       ".xr-section-item input + label {\n",
       "  color: var(--xr-disabled-color);\n",
       "}\n",
       "\n",
       ".xr-section-item input:enabled + label {\n",
       "  cursor: pointer;\n",
       "  color: var(--xr-font-color2);\n",
       "}\n",
       "\n",
       ".xr-section-item input:enabled + label:hover {\n",
       "  color: var(--xr-font-color0);\n",
       "}\n",
       "\n",
       ".xr-section-summary {\n",
       "  grid-column: 1;\n",
       "  color: var(--xr-font-color2);\n",
       "  font-weight: 500;\n",
       "}\n",
       "\n",
       ".xr-section-summary > span {\n",
       "  display: inline-block;\n",
       "  padding-left: 0.5em;\n",
       "}\n",
       "\n",
       ".xr-section-summary-in:disabled + label {\n",
       "  color: var(--xr-font-color2);\n",
       "}\n",
       "\n",
       ".xr-section-summary-in + label:before {\n",
       "  display: inline-block;\n",
       "  content: '►';\n",
       "  font-size: 11px;\n",
       "  width: 15px;\n",
       "  text-align: center;\n",
       "}\n",
       "\n",
       ".xr-section-summary-in:disabled + label:before {\n",
       "  color: var(--xr-disabled-color);\n",
       "}\n",
       "\n",
       ".xr-section-summary-in:checked + label:before {\n",
       "  content: '▼';\n",
       "}\n",
       "\n",
       ".xr-section-summary-in:checked + label > span {\n",
       "  display: none;\n",
       "}\n",
       "\n",
       ".xr-section-summary,\n",
       ".xr-section-inline-details {\n",
       "  padding-top: 4px;\n",
       "  padding-bottom: 4px;\n",
       "}\n",
       "\n",
       ".xr-section-inline-details {\n",
       "  grid-column: 2 / -1;\n",
       "}\n",
       "\n",
       ".xr-section-details {\n",
       "  display: none;\n",
       "  grid-column: 1 / -1;\n",
       "  margin-bottom: 5px;\n",
       "}\n",
       "\n",
       ".xr-section-summary-in:checked ~ .xr-section-details {\n",
       "  display: contents;\n",
       "}\n",
       "\n",
       ".xr-array-wrap {\n",
       "  grid-column: 1 / -1;\n",
       "  display: grid;\n",
       "  grid-template-columns: 20px auto;\n",
       "}\n",
       "\n",
       ".xr-array-wrap > label {\n",
       "  grid-column: 1;\n",
       "  vertical-align: top;\n",
       "}\n",
       "\n",
       ".xr-preview {\n",
       "  color: var(--xr-font-color3);\n",
       "}\n",
       "\n",
       ".xr-array-preview,\n",
       ".xr-array-data {\n",
       "  padding: 0 5px !important;\n",
       "  grid-column: 2;\n",
       "}\n",
       "\n",
       ".xr-array-data,\n",
       ".xr-array-in:checked ~ .xr-array-preview {\n",
       "  display: none;\n",
       "}\n",
       "\n",
       ".xr-array-in:checked ~ .xr-array-data,\n",
       ".xr-array-preview {\n",
       "  display: inline-block;\n",
       "}\n",
       "\n",
       ".xr-dim-list {\n",
       "  display: inline-block !important;\n",
       "  list-style: none;\n",
       "  padding: 0 !important;\n",
       "  margin: 0;\n",
       "}\n",
       "\n",
       ".xr-dim-list li {\n",
       "  display: inline-block;\n",
       "  padding: 0;\n",
       "  margin: 0;\n",
       "}\n",
       "\n",
       ".xr-dim-list:before {\n",
       "  content: '(';\n",
       "}\n",
       "\n",
       ".xr-dim-list:after {\n",
       "  content: ')';\n",
       "}\n",
       "\n",
       ".xr-dim-list li:not(:last-child):after {\n",
       "  content: ',';\n",
       "  padding-right: 5px;\n",
       "}\n",
       "\n",
       ".xr-has-index {\n",
       "  font-weight: bold;\n",
       "}\n",
       "\n",
       ".xr-var-list,\n",
       ".xr-var-item {\n",
       "  display: contents;\n",
       "}\n",
       "\n",
       ".xr-var-item > div,\n",
       ".xr-var-item label,\n",
       ".xr-var-item > .xr-var-name span {\n",
       "  background-color: var(--xr-background-color-row-even);\n",
       "  margin-bottom: 0;\n",
       "}\n",
       "\n",
       ".xr-var-item > .xr-var-name:hover span {\n",
       "  padding-right: 5px;\n",
       "}\n",
       "\n",
       ".xr-var-list > li:nth-child(odd) > div,\n",
       ".xr-var-list > li:nth-child(odd) > label,\n",
       ".xr-var-list > li:nth-child(odd) > .xr-var-name span {\n",
       "  background-color: var(--xr-background-color-row-odd);\n",
       "}\n",
       "\n",
       ".xr-var-name {\n",
       "  grid-column: 1;\n",
       "}\n",
       "\n",
       ".xr-var-dims {\n",
       "  grid-column: 2;\n",
       "}\n",
       "\n",
       ".xr-var-dtype {\n",
       "  grid-column: 3;\n",
       "  text-align: right;\n",
       "  color: var(--xr-font-color2);\n",
       "}\n",
       "\n",
       ".xr-var-preview {\n",
       "  grid-column: 4;\n",
       "}\n",
       "\n",
       ".xr-var-name,\n",
       ".xr-var-dims,\n",
       ".xr-var-dtype,\n",
       ".xr-preview,\n",
       ".xr-attrs dt {\n",
       "  white-space: nowrap;\n",
       "  overflow: hidden;\n",
       "  text-overflow: ellipsis;\n",
       "  padding-right: 10px;\n",
       "}\n",
       "\n",
       ".xr-var-name:hover,\n",
       ".xr-var-dims:hover,\n",
       ".xr-var-dtype:hover,\n",
       ".xr-attrs dt:hover {\n",
       "  overflow: visible;\n",
       "  width: auto;\n",
       "  z-index: 1;\n",
       "}\n",
       "\n",
       ".xr-var-attrs,\n",
       ".xr-var-data {\n",
       "  display: none;\n",
       "  background-color: var(--xr-background-color) !important;\n",
       "  padding-bottom: 5px !important;\n",
       "}\n",
       "\n",
       ".xr-var-attrs-in:checked ~ .xr-var-attrs,\n",
       ".xr-var-data-in:checked ~ .xr-var-data {\n",
       "  display: block;\n",
       "}\n",
       "\n",
       ".xr-var-data > table {\n",
       "  float: right;\n",
       "}\n",
       "\n",
       ".xr-var-name span,\n",
       ".xr-var-data,\n",
       ".xr-attrs {\n",
       "  padding-left: 25px !important;\n",
       "}\n",
       "\n",
       ".xr-attrs,\n",
       ".xr-var-attrs,\n",
       ".xr-var-data {\n",
       "  grid-column: 1 / -1;\n",
       "}\n",
       "\n",
       "dl.xr-attrs {\n",
       "  padding: 0;\n",
       "  margin: 0;\n",
       "  display: grid;\n",
       "  grid-template-columns: 125px auto;\n",
       "}\n",
       "\n",
       ".xr-attrs dt,\n",
       ".xr-attrs dd {\n",
       "  padding: 0;\n",
       "  margin: 0;\n",
       "  float: left;\n",
       "  padding-right: 10px;\n",
       "  width: auto;\n",
       "}\n",
       "\n",
       ".xr-attrs dt {\n",
       "  font-weight: normal;\n",
       "  grid-column: 1;\n",
       "}\n",
       "\n",
       ".xr-attrs dt:hover span {\n",
       "  display: inline-block;\n",
       "  background: var(--xr-background-color);\n",
       "  padding-right: 10px;\n",
       "}\n",
       "\n",
       ".xr-attrs dd {\n",
       "  grid-column: 2;\n",
       "  white-space: pre-wrap;\n",
       "  word-break: break-all;\n",
       "}\n",
       "\n",
       ".xr-icon-database,\n",
       ".xr-icon-file-text2 {\n",
       "  display: inline-block;\n",
       "  vertical-align: middle;\n",
       "  width: 1em;\n",
       "  height: 1.5em !important;\n",
       "  stroke-width: 0;\n",
       "  stroke: currentColor;\n",
       "  fill: currentColor;\n",
       "}\n",
       "</style><pre class='xr-text-repr-fallback'>&lt;xarray.Dataset&gt;\n",
       "Dimensions:         (delta_time: 19219882, ds_surf_type: 5)\n",
       "Coordinates:\n",
       "  * delta_time      (delta_time) datetime64[ns] 2019-06-22T06:14:14.882866488...\n",
       "    lat_ph          (delta_time) float64 ...\n",
       "    lon_ph          (delta_time) float64 ...\n",
       "Dimensions without coordinates: ds_surf_type\n",
       "Data variables:\n",
       "    dist_ph_across  (delta_time) float32 ...\n",
       "    dist_ph_along   (delta_time) float32 ...\n",
       "    h_ph            (delta_time) float32 ...\n",
       "    pce_mframe_cnt  (delta_time) uint32 ...\n",
       "    ph_id_channel   (delta_time) uint8 ...\n",
       "    ph_id_count     (delta_time) int8 ...\n",
       "    ph_id_pulse     (delta_time) uint8 ...\n",
       "    quality_ph      (delta_time) int8 ...\n",
       "    signal_conf_ph  (delta_time, ds_surf_type) int8 ...\n",
       "Attributes:\n",
       "    Description:  Contains arrays of the parameters for each received photon.\n",
       "    data_rate:    Data are stored at the photon detection rate.</pre><div class='xr-wrap' hidden><div class='xr-header'><div class='xr-obj-type'>xarray.Dataset</div></div><ul class='xr-sections'><li class='xr-section-item'><input id='section-0e7b9f5f-2d17-4cad-833e-9aa33e25485e' class='xr-section-summary-in' type='checkbox' disabled ><label for='section-0e7b9f5f-2d17-4cad-833e-9aa33e25485e' class='xr-section-summary'  title='Expand/collapse section'>Dimensions:</label><div class='xr-section-inline-details'><ul class='xr-dim-list'><li><span class='xr-has-index'>delta_time</span>: 19219882</li><li><span>ds_surf_type</span>: 5</li></ul></div><div class='xr-section-details'></div></li><li class='xr-section-item'><input id='section-f234a4d0-3029-4f25-a4fb-ec87bd298cd1' class='xr-section-summary-in' type='checkbox'  checked><label for='section-f234a4d0-3029-4f25-a4fb-ec87bd298cd1' class='xr-section-summary' >Coordinates: <span>(3)</span></label><div class='xr-section-inline-details'></div><div class='xr-section-details'><ul class='xr-var-list'><li class='xr-var-item'><div class='xr-var-name'><span class='xr-has-index'>delta_time</span></div><div class='xr-var-dims'>(delta_time)</div><div class='xr-var-dtype'>datetime64[ns]</div><div class='xr-var-preview xr-preview'>2019-06-22T06:14:14.882866488 .....</div><input id='attrs-8336a999-c5d8-4a02-99e7-ac86ab0faea4' class='xr-var-attrs-in' type='checkbox' ><label for='attrs-8336a999-c5d8-4a02-99e7-ac86ab0faea4' title='Show/Hide attributes'><svg class='icon xr-icon-file-text2'><use xlink:href='#icon-file-text2'></use></svg></label><input id='data-13e584a8-40f4-45b4-b424-20ac24e5de3d' class='xr-var-data-in' type='checkbox'><label for='data-13e584a8-40f4-45b4-b424-20ac24e5de3d' title='Show/Hide data repr'><svg class='icon xr-icon-database'><use xlink:href='#icon-database'></use></svg></label><div class='xr-var-attrs'><dl class='xr-attrs'><dt><span>long_name :</span></dt><dd>Elapsed GPS seconds</dd><dt><span>standard_name :</span></dt><dd>time</dd><dt><span>source :</span></dt><dd>Operations</dd><dt><span>contentType :</span></dt><dd>referenceInformation</dd><dt><span>description :</span></dt><dd>The transmit time of a given photon, measured in seconds from the ATLAS Standard Data Product Epoch. Note that multiple received photons associated with a single transmit pulse will have the same delta_time. The ATLAS Standard Data Products (SDP) epoch offset is defined within /ancillary_data/atlas_sdp_gps_epoch as the number of GPS seconds between the GPS epoch (1980-01-06T00:00:00.000000Z UTC) and the ATLAS SDP epoch. By adding the offset contained within atlas_sdp_gps_epoch to delta time parameters, the time in gps_seconds relative to the GPS epoch can be computed.</dd></dl></div><div class='xr-var-data'><pre>array([&#x27;2019-06-22T06:14:14.882866488&#x27;, &#x27;2019-06-22T06:14:14.882866488&#x27;,\n",
       "       &#x27;2019-06-22T06:14:14.882866488&#x27;, ..., &#x27;2019-06-22T06:19:24.064273608&#x27;,\n",
       "       &#x27;2019-06-22T06:19:24.064273608&#x27;, &#x27;2019-06-22T06:19:24.064273608&#x27;],\n",
       "      dtype=&#x27;datetime64[ns]&#x27;)</pre></div></li><li class='xr-var-item'><div class='xr-var-name'><span>lat_ph</span></div><div class='xr-var-dims'>(delta_time)</div><div class='xr-var-dtype'>float64</div><div class='xr-var-preview xr-preview'>...</div><input id='attrs-3830b82b-a0d7-45f0-accf-545cb14bc139' class='xr-var-attrs-in' type='checkbox' ><label for='attrs-3830b82b-a0d7-45f0-accf-545cb14bc139' title='Show/Hide attributes'><svg class='icon xr-icon-file-text2'><use xlink:href='#icon-file-text2'></use></svg></label><input id='data-05fd9136-667a-4460-8870-8eee874eb267' class='xr-var-data-in' type='checkbox'><label for='data-05fd9136-667a-4460-8870-8eee874eb267' title='Show/Hide data repr'><svg class='icon xr-icon-database'><use xlink:href='#icon-database'></use></svg></label><div class='xr-var-attrs'><dl class='xr-attrs'><dt><span>long_name :</span></dt><dd>Latitude</dd><dt><span>standard_name :</span></dt><dd>latitude</dd><dt><span>units :</span></dt><dd>degrees_north</dd><dt><span>source :</span></dt><dd>ATL03g ATBD, Section 3.4</dd><dt><span>valid_min :</span></dt><dd>-90.0</dd><dt><span>valid_max :</span></dt><dd>90.0</dd><dt><span>contentType :</span></dt><dd>modelResult</dd><dt><span>description :</span></dt><dd>Latitude of each received photon. Computed from the ECF Cartesian coordinates of the bounce point.</dd></dl></div><div class='xr-var-data'><pre>[19219882 values with dtype=float64]</pre></div></li><li class='xr-var-item'><div class='xr-var-name'><span>lon_ph</span></div><div class='xr-var-dims'>(delta_time)</div><div class='xr-var-dtype'>float64</div><div class='xr-var-preview xr-preview'>...</div><input id='attrs-9cb039e0-3f76-4a68-bc0f-ae7666459911' class='xr-var-attrs-in' type='checkbox' ><label for='attrs-9cb039e0-3f76-4a68-bc0f-ae7666459911' title='Show/Hide attributes'><svg class='icon xr-icon-file-text2'><use xlink:href='#icon-file-text2'></use></svg></label><input id='data-02368bcc-d403-4435-a3dc-438e962021ae' class='xr-var-data-in' type='checkbox'><label for='data-02368bcc-d403-4435-a3dc-438e962021ae' title='Show/Hide data repr'><svg class='icon xr-icon-database'><use xlink:href='#icon-database'></use></svg></label><div class='xr-var-attrs'><dl class='xr-attrs'><dt><span>long_name :</span></dt><dd>Longitude</dd><dt><span>standard_name :</span></dt><dd>longitude</dd><dt><span>units :</span></dt><dd>degrees_east</dd><dt><span>source :</span></dt><dd>ATL03g ATBD, Section 3.4</dd><dt><span>valid_min :</span></dt><dd>-180.0</dd><dt><span>valid_max :</span></dt><dd>180.0</dd><dt><span>contentType :</span></dt><dd>modelResult</dd><dt><span>description :</span></dt><dd>Longitude of each received photon. Computed from the ECF Cartesian coordinates of the bounce point.</dd></dl></div><div class='xr-var-data'><pre>[19219882 values with dtype=float64]</pre></div></li></ul></div></li><li class='xr-section-item'><input id='section-533a8d84-6b1b-4574-8826-524722f01183' class='xr-section-summary-in' type='checkbox'  checked><label for='section-533a8d84-6b1b-4574-8826-524722f01183' class='xr-section-summary' >Data variables: <span>(9)</span></label><div class='xr-section-inline-details'></div><div class='xr-section-details'><ul class='xr-var-list'><li class='xr-var-item'><div class='xr-var-name'><span>dist_ph_across</span></div><div class='xr-var-dims'>(delta_time)</div><div class='xr-var-dtype'>float32</div><div class='xr-var-preview xr-preview'>...</div><input id='attrs-a54d0ee9-30cb-474e-8c0e-3a90aea088fd' class='xr-var-attrs-in' type='checkbox' ><label for='attrs-a54d0ee9-30cb-474e-8c0e-3a90aea088fd' title='Show/Hide attributes'><svg class='icon xr-icon-file-text2'><use xlink:href='#icon-file-text2'></use></svg></label><input id='data-f6c74fac-2dcb-4d7f-968c-c57d3e4070b9' class='xr-var-data-in' type='checkbox'><label for='data-f6c74fac-2dcb-4d7f-968c-c57d3e4070b9' title='Show/Hide data repr'><svg class='icon xr-icon-database'><use xlink:href='#icon-database'></use></svg></label><div class='xr-var-attrs'><dl class='xr-attrs'><dt><span>long_name :</span></dt><dd>Distance off RGT.</dd><dt><span>units :</span></dt><dd>meters</dd><dt><span>source :</span></dt><dd>ATL03 ATBD, Section 3.1</dd><dt><span>contentType :</span></dt><dd>modelResult</dd><dt><span>description :</span></dt><dd>Across-track distance projected to the ellipsoid of the received photon from the reference ground track.  This is based on the Along-Track Segment algorithm described in Section 3.1.</dd></dl></div><div class='xr-var-data'><pre>[19219882 values with dtype=float32]</pre></div></li><li class='xr-var-item'><div class='xr-var-name'><span>dist_ph_along</span></div><div class='xr-var-dims'>(delta_time)</div><div class='xr-var-dtype'>float32</div><div class='xr-var-preview xr-preview'>...</div><input id='attrs-ce95af74-023b-4b52-b686-a2d4d972aee9' class='xr-var-attrs-in' type='checkbox' ><label for='attrs-ce95af74-023b-4b52-b686-a2d4d972aee9' title='Show/Hide attributes'><svg class='icon xr-icon-file-text2'><use xlink:href='#icon-file-text2'></use></svg></label><input id='data-97292dfb-dfa7-4485-8159-4655754f4915' class='xr-var-data-in' type='checkbox'><label for='data-97292dfb-dfa7-4485-8159-4655754f4915' title='Show/Hide data repr'><svg class='icon xr-icon-database'><use xlink:href='#icon-database'></use></svg></label><div class='xr-var-attrs'><dl class='xr-attrs'><dt><span>long_name :</span></dt><dd>Distance from equator crossing.</dd><dt><span>units :</span></dt><dd>meters</dd><dt><span>source :</span></dt><dd>ATL03 ATBD, Section 3.1</dd><dt><span>contentType :</span></dt><dd>modelResult</dd><dt><span>description :</span></dt><dd>Along-track distance in a segment projected to the ellipsoid of the received photon, based on the Along-Track Segment algorithm.  Total along track distance can be found by adding this value to the sum of segment lengths measured from the start of the most recent reference groundtrack.</dd></dl></div><div class='xr-var-data'><pre>[19219882 values with dtype=float32]</pre></div></li><li class='xr-var-item'><div class='xr-var-name'><span>h_ph</span></div><div class='xr-var-dims'>(delta_time)</div><div class='xr-var-dtype'>float32</div><div class='xr-var-preview xr-preview'>...</div><input id='attrs-335cba30-c305-4b42-bdee-5c3ed59d5d90' class='xr-var-attrs-in' type='checkbox' ><label for='attrs-335cba30-c305-4b42-bdee-5c3ed59d5d90' title='Show/Hide attributes'><svg class='icon xr-icon-file-text2'><use xlink:href='#icon-file-text2'></use></svg></label><input id='data-21a82160-1779-46f7-af21-cfe4d008e63d' class='xr-var-data-in' type='checkbox'><label for='data-21a82160-1779-46f7-af21-cfe4d008e63d' title='Show/Hide data repr'><svg class='icon xr-icon-database'><use xlink:href='#icon-database'></use></svg></label><div class='xr-var-attrs'><dl class='xr-attrs'><dt><span>long_name :</span></dt><dd>Photon WGS84 Height</dd><dt><span>standard_name :</span></dt><dd>height</dd><dt><span>units :</span></dt><dd>meters</dd><dt><span>source :</span></dt><dd>ATL03g ATBD, Section 3.4</dd><dt><span>contentType :</span></dt><dd>physicalMeasurement</dd><dt><span>description :</span></dt><dd>Height of each received photon, relative to the WGS-84 ellipsoid including the geophysical corrections noted in Section 6. Please note that neither the geoid, ocean tide nor the dynamic atmosphere (DAC) corrections are applied to the ellipsoidal heights.</dd></dl></div><div class='xr-var-data'><pre>[19219882 values with dtype=float32]</pre></div></li><li class='xr-var-item'><div class='xr-var-name'><span>pce_mframe_cnt</span></div><div class='xr-var-dims'>(delta_time)</div><div class='xr-var-dtype'>uint32</div><div class='xr-var-preview xr-preview'>...</div><input id='attrs-e41b31db-3493-431b-8cb6-2c526da83db8' class='xr-var-attrs-in' type='checkbox' ><label for='attrs-e41b31db-3493-431b-8cb6-2c526da83db8' title='Show/Hide attributes'><svg class='icon xr-icon-file-text2'><use xlink:href='#icon-file-text2'></use></svg></label><input id='data-9d9ecc37-665c-4668-a428-678a27cd45d0' class='xr-var-data-in' type='checkbox'><label for='data-9d9ecc37-665c-4668-a428-678a27cd45d0' title='Show/Hide data repr'><svg class='icon xr-icon-database'><use xlink:href='#icon-database'></use></svg></label><div class='xr-var-attrs'><dl class='xr-attrs'><dt><span>long_name :</span></dt><dd>PCE Major frame counter</dd><dt><span>units :</span></dt><dd>counts</dd><dt><span>source :</span></dt><dd>Retained from prior a_alt_science_ph packet</dd><dt><span>contentType :</span></dt><dd>referenceInformation</dd><dt><span>description :</span></dt><dd>The major frame counter is read from the digital flow controller in a given PCE card.  The counter identifies individual major frames across diag and science packets. Used as part of the photon ID.</dd></dl></div><div class='xr-var-data'><pre>[19219882 values with dtype=uint32]</pre></div></li><li class='xr-var-item'><div class='xr-var-name'><span>ph_id_channel</span></div><div class='xr-var-dims'>(delta_time)</div><div class='xr-var-dtype'>uint8</div><div class='xr-var-preview xr-preview'>...</div><input id='attrs-23113411-5067-448f-a294-82d22e326b01' class='xr-var-attrs-in' type='checkbox' ><label for='attrs-23113411-5067-448f-a294-82d22e326b01' title='Show/Hide attributes'><svg class='icon xr-icon-file-text2'><use xlink:href='#icon-file-text2'></use></svg></label><input id='data-42e7d99f-91c6-4c50-a061-614c13da0b91' class='xr-var-data-in' type='checkbox'><label for='data-42e7d99f-91c6-4c50-a061-614c13da0b91' title='Show/Hide data repr'><svg class='icon xr-icon-database'><use xlink:href='#icon-database'></use></svg></label><div class='xr-var-attrs'><dl class='xr-attrs'><dt><span>long_name :</span></dt><dd>Receive channel id</dd><dt><span>units :</span></dt><dd>1</dd><dt><span>source :</span></dt><dd>Derived as part of Photon ID</dd><dt><span>valid_min :</span></dt><dd>1</dd><dt><span>valid_max :</span></dt><dd>120</dd><dt><span>contentType :</span></dt><dd>referenceInformation</dd><dt><span>description :</span></dt><dd>Channel number assigned for each received photon event. This is part of the photon ID. Values range from 1 to 120 to span all channels and rise/fall edges. Values 1 to 60 are for falling edge; PCE1 (1 to 20), PCE 2 (21 to 40) and PCE3 (41 to 60). Values 61 to 120 are for rising edge; PCE1 (61 to 80), PCE 2 (81 to 100) and PC3 (101 to 120).</dd></dl></div><div class='xr-var-data'><pre>[19219882 values with dtype=uint8]</pre></div></li><li class='xr-var-item'><div class='xr-var-name'><span>ph_id_count</span></div><div class='xr-var-dims'>(delta_time)</div><div class='xr-var-dtype'>int8</div><div class='xr-var-preview xr-preview'>...</div><input id='attrs-cbccb9c1-2ad1-41e2-8c2e-79a2ec397a88' class='xr-var-attrs-in' type='checkbox' ><label for='attrs-cbccb9c1-2ad1-41e2-8c2e-79a2ec397a88' title='Show/Hide attributes'><svg class='icon xr-icon-file-text2'><use xlink:href='#icon-file-text2'></use></svg></label><input id='data-6742d733-b61c-4761-b625-f1e8928f2af9' class='xr-var-data-in' type='checkbox'><label for='data-6742d733-b61c-4761-b625-f1e8928f2af9' title='Show/Hide data repr'><svg class='icon xr-icon-database'><use xlink:href='#icon-database'></use></svg></label><div class='xr-var-attrs'><dl class='xr-attrs'><dt><span>long_name :</span></dt><dd>photon event counter</dd><dt><span>units :</span></dt><dd>counts</dd><dt><span>source :</span></dt><dd>Derived as part of Photon ID</dd><dt><span>contentType :</span></dt><dd>referenceInformation</dd><dt><span>description :</span></dt><dd>The photon event counter is part of photon ID and counts from 1 for each channel until reset by laser pulse counter.</dd></dl></div><div class='xr-var-data'><pre>[19219882 values with dtype=int8]</pre></div></li><li class='xr-var-item'><div class='xr-var-name'><span>ph_id_pulse</span></div><div class='xr-var-dims'>(delta_time)</div><div class='xr-var-dtype'>uint8</div><div class='xr-var-preview xr-preview'>...</div><input id='attrs-ba1cb246-84f7-4b81-a1f7-aff0f7ba98eb' class='xr-var-attrs-in' type='checkbox' ><label for='attrs-ba1cb246-84f7-4b81-a1f7-aff0f7ba98eb' title='Show/Hide attributes'><svg class='icon xr-icon-file-text2'><use xlink:href='#icon-file-text2'></use></svg></label><input id='data-2fda9133-47ad-4538-aafe-ebcde74e7d15' class='xr-var-data-in' type='checkbox'><label for='data-2fda9133-47ad-4538-aafe-ebcde74e7d15' title='Show/Hide data repr'><svg class='icon xr-icon-database'><use xlink:href='#icon-database'></use></svg></label><div class='xr-var-attrs'><dl class='xr-attrs'><dt><span>long_name :</span></dt><dd>laser pulse counter</dd><dt><span>units :</span></dt><dd>counts</dd><dt><span>source :</span></dt><dd>Derived as part of Photon ID</dd><dt><span>contentType :</span></dt><dd>referenceInformation</dd><dt><span>description :</span></dt><dd>The laser pulse counter is part of photon ID and counts from 1 to 200 and is reset for each new major frame.</dd></dl></div><div class='xr-var-data'><pre>[19219882 values with dtype=uint8]</pre></div></li><li class='xr-var-item'><div class='xr-var-name'><span>quality_ph</span></div><div class='xr-var-dims'>(delta_time)</div><div class='xr-var-dtype'>int8</div><div class='xr-var-preview xr-preview'>...</div><input id='attrs-8ec28933-ed54-4a53-8bc7-fdc84965066e' class='xr-var-attrs-in' type='checkbox' ><label for='attrs-8ec28933-ed54-4a53-8bc7-fdc84965066e' title='Show/Hide attributes'><svg class='icon xr-icon-file-text2'><use xlink:href='#icon-file-text2'></use></svg></label><input id='data-f542d6e5-e95e-4b09-a5ef-d6df77ffed4c' class='xr-var-data-in' type='checkbox'><label for='data-f542d6e5-e95e-4b09-a5ef-d6df77ffed4c' title='Show/Hide data repr'><svg class='icon xr-icon-database'><use xlink:href='#icon-database'></use></svg></label><div class='xr-var-attrs'><dl class='xr-attrs'><dt><span>long_name :</span></dt><dd>Photon Quality</dd><dt><span>units :</span></dt><dd>1</dd><dt><span>source :</span></dt><dd>ATL03 ATBD</dd><dt><span>valid_min :</span></dt><dd>0</dd><dt><span>valid_max :</span></dt><dd>3</dd><dt><span>contentType :</span></dt><dd>qualityInformation</dd><dt><span>description :</span></dt><dd>Indicates the quality of the associated photon. 0=nominal, 1=possible_afterpulse, 2=possible_impulse_response_effect, 3=possible_tep. Use this flag in conjunction with signal_conf_ph to identify those photons that are likely noise or likely signal.</dd><dt><span>flag_meanings :</span></dt><dd>nominal possible_afterpulse possible_impulse_response_effect possible_tep</dd><dt><span>flag_values :</span></dt><dd>[0 1 2 3]</dd></dl></div><div class='xr-var-data'><pre>[19219882 values with dtype=int8]</pre></div></li><li class='xr-var-item'><div class='xr-var-name'><span>signal_conf_ph</span></div><div class='xr-var-dims'>(delta_time, ds_surf_type)</div><div class='xr-var-dtype'>int8</div><div class='xr-var-preview xr-preview'>...</div><input id='attrs-488e98b7-32db-4cdb-8a97-9192018d86e1' class='xr-var-attrs-in' type='checkbox' ><label for='attrs-488e98b7-32db-4cdb-8a97-9192018d86e1' title='Show/Hide attributes'><svg class='icon xr-icon-file-text2'><use xlink:href='#icon-file-text2'></use></svg></label><input id='data-ec282add-dbe4-48c7-8a05-491543848c79' class='xr-var-data-in' type='checkbox'><label for='data-ec282add-dbe4-48c7-8a05-491543848c79' title='Show/Hide data repr'><svg class='icon xr-icon-database'><use xlink:href='#icon-database'></use></svg></label><div class='xr-var-attrs'><dl class='xr-attrs'><dt><span>long_name :</span></dt><dd>Photon Signal Confidence</dd><dt><span>units :</span></dt><dd>1</dd><dt><span>source :</span></dt><dd>ATL03 ATBD, Section 5, Conf</dd><dt><span>valid_min :</span></dt><dd>-2</dd><dt><span>valid_max :</span></dt><dd>4</dd><dt><span>contentType :</span></dt><dd>qualityInformation</dd><dt><span>description :</span></dt><dd>Confidence level associated with each photon event selected as signal. 0=noise. 1=added to allow for buffer but algorithm classifies as background; 2=low; 3=med; 4=high).  This parameter is a 5xN array where N is the number of photons in the granule, and the 5 rows indicate signal finding for each surface type (in order: land, ocean, sea ice, land ice and inland water). Events not associated with a specific surface type have a confidence level of -1. Events evaluated as TEP returns have a confidence level of -2.</dd><dt><span>flag_meanings :</span></dt><dd>possible_tep not_considered noise buffer low medium high</dd><dt><span>flag_values :</span></dt><dd>[-2 -1  0  1  2  3  4]</dd></dl></div><div class='xr-var-data'><pre>[96099410 values with dtype=int8]</pre></div></li></ul></div></li><li class='xr-section-item'><input id='section-88717626-8c27-4d65-9397-d4c4023e2a14' class='xr-section-summary-in' type='checkbox'  checked><label for='section-88717626-8c27-4d65-9397-d4c4023e2a14' class='xr-section-summary' >Attributes: <span>(2)</span></label><div class='xr-section-inline-details'></div><div class='xr-section-details'><dl class='xr-attrs'><dt><span>Description :</span></dt><dd>Contains arrays of the parameters for each received photon.</dd><dt><span>data_rate :</span></dt><dd>Data are stored at the photon detection rate.</dd></dl></div></li></ul></div></div>"
      ],
      "text/plain": [
       "<xarray.Dataset>\n",
       "Dimensions:         (delta_time: 19219882, ds_surf_type: 5)\n",
       "Coordinates:\n",
       "  * delta_time      (delta_time) datetime64[ns] 2019-06-22T06:14:14.882866488...\n",
       "    lat_ph          (delta_time) float64 ...\n",
       "    lon_ph          (delta_time) float64 ...\n",
       "Dimensions without coordinates: ds_surf_type\n",
       "Data variables:\n",
       "    dist_ph_across  (delta_time) float32 ...\n",
       "    dist_ph_along   (delta_time) float32 ...\n",
       "    h_ph            (delta_time) float32 ...\n",
       "    pce_mframe_cnt  (delta_time) uint32 ...\n",
       "    ph_id_channel   (delta_time) uint8 ...\n",
       "    ph_id_count     (delta_time) int8 ...\n",
       "    ph_id_pulse     (delta_time) uint8 ...\n",
       "    quality_ph      (delta_time) int8 ...\n",
       "    signal_conf_ph  (delta_time, ds_surf_type) int8 ...\n",
       "Attributes:\n",
       "    Description:  Contains arrays of the parameters for each received photon.\n",
       "    data_rate:    Data are stored at the photon detection rate."
      ]
     },
     "execution_count": 35,
     "metadata": {},
     "output_type": "execute_result"
    }
   ],
   "source": [
    "ds = xr.open_dataset(icesat_id, group='/gt1l/heights')\n",
    "ds"
   ]
  },
  {
   "cell_type": "markdown",
   "metadata": {
    "tags": []
   },
   "source": [
    "### Determine subsetting capabilities of ATL03\n",
    "\n",
    "Consider removing since we see basic service info in the colleciton-level tags (has_spatial_subsetting, etc.)"
   ]
  },
  {
   "cell_type": "code",
   "execution_count": 22,
   "metadata": {
    "jupyter": {
     "source_hidden": true
    },
    "tags": []
   },
   "outputs": [],
   "source": [
    "# # CMR_OPS = 'https://cmr.earthdata.nasa.gov/search'\n",
    "# # url = f'{CMR_OPS}/{\"collections\"}'\n",
    "\n",
    "# response = requests.get(url, \n",
    "#                         params={\n",
    "#                             'concept_id': 'C1997321091-NSIDC_ECS',\n",
    "# #                            'cloud_hosted': 'True',\n",
    "#                             },\n",
    "#                         headers={\n",
    "#                             'Accept': 'application/json'\n",
    "#                             }\n",
    "#                        )\n",
    "# response = response.json()\n",
    "# services = response['feed']['entry'][0]['associations']['services']\n",
    "# output_format = \"umm_json\"\n",
    "# service_url = \"https://cmr.earthdata.nasa.gov/search/services\"\n",
    "# for i in range(len(services)):\n",
    "#     response = requests.get(f\"{service_url}.{output_format}?concept-id={services[i]}\")\n",
    "#     response = response.json()\n",
    "#     if 'ServiceOptions' in response['items'][0]['umm']: pprint(response['items'][0]['umm']['ServiceOptions'])"
   ]
  },
  {
   "cell_type": "markdown",
   "metadata": {
    "tags": []
   },
   "source": [
    "## Direct Download of ATL03 \n",
    "\n",
    "- Describe what services are available, including icepyx (provide references), but just direct download for simplicity\n",
    "\n",
    "- Describe that this is being \"downloaded\" to our cloud environment - what does that mean in terms of cost, etc."
   ]
  },
  {
   "cell_type": "code",
   "execution_count": null,
   "metadata": {},
   "outputs": [],
   "source": []
  },
  {
   "cell_type": "code",
   "execution_count": null,
   "metadata": {},
   "outputs": [],
   "source": []
  },
  {
   "cell_type": "code",
   "execution_count": null,
   "metadata": {},
   "outputs": [],
   "source": []
  },
  {
   "cell_type": "code",
   "execution_count": null,
   "metadata": {},
   "outputs": [],
   "source": []
  },
  {
   "cell_type": "code",
   "execution_count": null,
   "metadata": {},
   "outputs": [],
   "source": []
  },
  {
   "cell_type": "code",
   "execution_count": null,
   "metadata": {},
   "outputs": [],
   "source": []
  },
  {
   "cell_type": "markdown",
   "metadata": {},
   "source": [
    "Icepyx workflow below..."
   ]
  },
  {
   "cell_type": "code",
   "execution_count": 11,
   "metadata": {
    "jupyter": {
     "source_hidden": true
    },
    "tags": []
   },
   "outputs": [],
   "source": [
    "# # # Each date in yyyy-MM-ddTHH:mm:ssZ format; date range in start,end format\n",
    "# # temporal = '2021-01-01T00:00:00Z,2021-01-31T23:59:59Z'\n",
    "\n",
    "# #icepyx params\n",
    "\n",
    "# #convert bounding_box which is a string, to a list of floats\n",
    "\n",
    "# to_list = bounding_box.split(\",\")\n",
    "# icepyx_spatial = [float(x) for x in to_list]\n",
    "# print(icepyx_spatial)\n",
    "\n",
    "# # New date range since icepyx provides dates as YYYY-MM-DD\n",
    "\n",
    "# date_range = ['2019-06-22','2019-06-22']\n",
    "\n",
    "# region_a = ipx.Query(icesat2_name, icepyx_spatial, date_range)"
   ]
  },
  {
   "cell_type": "code",
   "execution_count": 10,
   "metadata": {
    "jupyter": {
     "source_hidden": true
    },
    "tags": []
   },
   "outputs": [],
   "source": [
    "# region_a.visualize_spatial_extent()"
   ]
  },
  {
   "cell_type": "code",
   "execution_count": 12,
   "metadata": {
    "jupyter": {
     "source_hidden": true
    },
    "tags": []
   },
   "outputs": [],
   "source": [
    "# region_a.avail_granules(ids=True)"
   ]
  },
  {
   "cell_type": "code",
   "execution_count": 13,
   "metadata": {
    "jupyter": {
     "source_hidden": true
    },
    "tags": []
   },
   "outputs": [],
   "source": [
    "# region_a.subsetparams()"
   ]
  },
  {
   "cell_type": "code",
   "execution_count": 14,
   "metadata": {
    "jupyter": {
     "source_hidden": true
    },
    "tags": []
   },
   "outputs": [],
   "source": [
    "# earthdata_uid = 'uid'\n",
    "# email = 'email'\n",
    "# region_a.earthdata_login(earthdata_uid, email)"
   ]
  },
  {
   "cell_type": "code",
   "execution_count": 16,
   "metadata": {
    "jupyter": {
     "source_hidden": true
    },
    "tags": []
   },
   "outputs": [],
   "source": [
    "# region_a.order_granules()"
   ]
  },
  {
   "cell_type": "code",
   "execution_count": 17,
   "metadata": {
    "jupyter": {
     "source_hidden": true
    },
    "tags": []
   },
   "outputs": [],
   "source": [
    "# path = './download'\n",
    "# region_a.download_granules(path)"
   ]
  },
  {
   "cell_type": "code",
   "execution_count": null,
   "metadata": {
    "jupyter": {
     "source_hidden": true
    },
    "tags": []
   },
   "outputs": [],
   "source": [
    "# #Set NSIDC data access base URL\n",
    "# base_url = 'https://n5eil02u.ecs.nsidc.org/egi/request'\n",
    "\n",
    "# # bounding box search and subset:\n",
    "# param_dict = {'short_name': 'ATL03', \n",
    "#               'version': '004', \n",
    "#               'temporal': temporal, \n",
    "#               'bounding_box': bounding_box, \n",
    "#               'bbox': bounding_box, \n",
    "#               'coverage': '/gt1r/heights/h_ph,/gt1l/heights/h_ph,/gt2r/heights/h_ph,/gt2l/heights/h_ph,/gt1r/heights/lat_ph,/gt1l/heights/lat_ph,/gt2r/heights/lat_ph,/gt2l/heights/lat_ph,/gt1r/heights/lon_ph,/gt1l/heights/lon_ph,/gt2r/heights/lon_ph,/gt2l/heights/lon_ph',\n",
    "#               'page_size': '10', \n",
    "#               'request_mode': 'async',\n",
    "# #              'token' : _token,\n",
    "#              }\n",
    "\n",
    "# #Remove blank key-value-pairs\n",
    "# param_dict = {k: v for k, v in param_dict.items() if v != ''}\n",
    "\n",
    "# #Convert to string\n",
    "# param_string = '&'.join(\"{!s}={!r}\".format(k,v) for (k,v) in param_dict.items())\n",
    "# param_string = param_string.replace(\"'\",\"\")\n",
    "\n",
    "# API_request = api_request = f'{base_url}?{param_string}'\n",
    "# print(API_request)"
   ]
  },
  {
   "cell_type": "code",
   "execution_count": null,
   "metadata": {
    "jupyter": {
     "source_hidden": true
    },
    "tags": []
   },
   "outputs": [],
   "source": [
    "# #TODO: Need to make code much simpler!!\n",
    "\n",
    "# # Create an output folder if the folder does not already exist.\n",
    "\n",
    "# path = str(os.getcwd() + '/Outputs')\n",
    "# if not os.path.exists(path):\n",
    "#     os.mkdir(path)\n",
    "\n",
    "# # For all requests other than spatial file upload, use get function\n",
    "# session = requests.session()\n",
    "# request = session.get(base_url, params=param_dict)\n",
    "\n",
    "# print('Request HTTP response: ', request.status_code)\n",
    "\n",
    "# # Raise bad request: Loop will stop for bad response code.\n",
    "# request.raise_for_status()\n",
    "# print('Order request URL: ', request.url)\n",
    "# esir_root = ET.fromstring(request.content)\n",
    "# print('Order request response XML content: ', request.content)\n",
    "\n",
    "# #Look up order ID\n",
    "# orderlist = []   \n",
    "# for order in esir_root.findall(\"./order/\"):\n",
    "#     orderlist.append(order.text)\n",
    "# orderID = orderlist[0]\n",
    "# print('order ID: ', orderID)\n",
    "\n",
    "# #Create status URL\n",
    "# statusURL = base_url + '/' + orderID\n",
    "# print('status URL: ', statusURL)\n",
    "\n",
    "# #Find order status\n",
    "# request_response = session.get(statusURL)    \n",
    "# print('HTTP response from order response URL: ', request_response.status_code)\n",
    "\n",
    "# # Raise bad request: Loop will stop for bad response code.\n",
    "# request_response.raise_for_status()\n",
    "# request_root = ET.fromstring(request_response.content)\n",
    "# statuslist = []\n",
    "# for status in request_root.findall(\"./requestStatus/\"):\n",
    "#     statuslist.append(status.text)\n",
    "# status = statuslist[0]\n",
    "# print('Data request is submitting...')\n",
    "# print('Initial request status is ', status)\n",
    "\n",
    "# #Continue loop while request is still processing\n",
    "# while status == 'pending' or status == 'processing': \n",
    "#     print('Status is not complete. Trying again.')\n",
    "#     time.sleep(10)\n",
    "#     loop_response = session.get(statusURL)\n",
    "\n",
    "# # Raise bad request: Loop will stop for bad response code.\n",
    "#     loop_response.raise_for_status()\n",
    "#     loop_root = ET.fromstring(loop_response.content)\n",
    "\n",
    "# #find status\n",
    "#     statuslist = []\n",
    "#     for status in loop_root.findall(\"./requestStatus/\"):\n",
    "#         statuslist.append(status.text)\n",
    "#     status = statuslist[0]\n",
    "#     print('Retry request status is: ', status)\n",
    "#     if status == 'pending' or status == 'processing':\n",
    "#         continue\n",
    "\n",
    "# #Order can either complete, complete_with_errors, or fail:\n",
    "# # Provide complete_with_errors error message:\n",
    "# if status == 'complete_with_errors' or status == 'failed':\n",
    "#     messagelist = []\n",
    "#     for message in loop_root.findall(\"./processInfo/\"):\n",
    "#         messagelist.append(message.text)\n",
    "#     print('error messages:')\n",
    "#     pprint.pprint(messagelist)\n",
    "\n",
    "# # Download zipped order if status is complete or complete_with_errors\n",
    "# if status == 'complete' or status == 'complete_with_errors':\n",
    "#     downloadURL = 'https://n5eil02u.ecs.nsidc.org/esir/' + orderID + '.zip'\n",
    "#     print('Zip download URL: ', downloadURL)\n",
    "#     print('Beginning download of zipped output...')\n",
    "#     zip_response = session.get(downloadURL)\n",
    "#     # Raise bad request: Loop will stop for bad response code.\n",
    "#     zip_response.raise_for_status()\n",
    "#     with zipfile.ZipFile(io.BytesIO(zip_response.content)) as z:\n",
    "#         z.extractall(path)\n",
    "#     print('Data request is complete.')\n",
    "# else: print('Request failed.')"
   ]
  },
  {
   "cell_type": "markdown",
   "metadata": {
    "jupyter": {
     "source_hidden": true
    },
    "tags": []
   },
   "source": [
    "#### Clean up Outputs folder by removing individual granule folders "
   ]
  },
  {
   "cell_type": "code",
   "execution_count": null,
   "metadata": {
    "jupyter": {
     "source_hidden": true
    },
    "tags": []
   },
   "outputs": [],
   "source": [
    "# for root, dirs, files in os.walk(path, topdown=False):\n",
    "#     for file in files:\n",
    "#         try:\n",
    "#             shutil.move(os.path.join(root, file), path)\n",
    "#         except OSError:\n",
    "#             pass\n",
    "#     for name in dirs:\n",
    "#         os.rmdir(os.path.join(root, name))"
   ]
  },
  {
   "cell_type": "markdown",
   "metadata": {
    "jupyter": {
     "source_hidden": true
    },
    "tags": []
   },
   "source": [
    "### Determine size of SAR data"
   ]
  },
  {
   "cell_type": "code",
   "execution_count": null,
   "metadata": {
    "jupyter": {
     "source_hidden": true
    },
    "tags": []
   },
   "outputs": [],
   "source": [
    "# CMR_OPS = 'https://cmr.earthdata.nasa.gov/search'\n",
    "# url = f'{CMR_OPS}/{\"granules\"}'\n",
    "\n",
    "# response = requests.get(url, \n",
    "#                         params={\n",
    "#                             'concept_id': 'C1214472336-ASF',\n",
    "# #                             'concept_id': 'C1997321091-NSIDC_ECS',\n",
    "#                             'bounding_box': bounding_box,\n",
    "#                             'temporal': temporal,\n",
    "#                             },\n",
    "#                         headers={\n",
    "#                             'Accept': 'application/json'\n",
    "#                             }\n",
    "#                        )\n",
    "# granules = response.json()['feed']['entry']\n",
    "# #pprint(granules)\n",
    "\n",
    "# results = json.loads(response.content)\n",
    "# granules = []\n",
    "# granules.extend(results['feed']['entry'])\n",
    "# hits = int(response.headers['CMR-Hits'])\n",
    "# print(f\"Found {hits} files\")\n",
    "# granule_sizes = [float(granule['granule_size']) for granule in granules]\n",
    "# print(f\"The total size of all files is {sum(granule_sizes):.2f} MB\")"
   ]
  },
  {
   "cell_type": "markdown",
   "metadata": {},
   "source": [
    "### Determine variables of interest: SST, ocean color, chemistry..."
   ]
  },
  {
   "cell_type": "code",
   "execution_count": 6,
   "metadata": {},
   "outputs": [
    {
     "name": "stdout",
     "output_type": "stream",
     "text": [
      "'sea_surface_temperature'\n",
      "'l2p_flags'\n",
      "'lat'\n",
      "'wind_speed'\n",
      "'dt_analysis'\n",
      "'quality_level_4um'\n",
      "'sses_bias_4um'\n",
      "'sses_bias'\n",
      "'quality_level'\n",
      "'sses_standard_deviation'\n",
      "'time'\n",
      "'sea_surface_temperature_4um'\n",
      "'lon'\n",
      "'sst_dtime'\n",
      "'sses_standard_deviation_4um'\n"
     ]
    }
   ],
   "source": [
    "# CMR_OPS = 'https://cmr.earthdata.nasa.gov/search'\n",
    "# url = f'{CMR_OPS}/{\"collections\"}'\n",
    "\n",
    "response = requests.get(url, \n",
    "                        params={\n",
    "                            'concept_id': 'C1940475563-POCLOUD',\n",
    "                            'cloud_hosted': 'True',\n",
    "                            },\n",
    "                        headers={\n",
    "                            'Accept': 'application/json'\n",
    "                            }\n",
    "                       )\n",
    "response = response.json()\n",
    "variables = response['feed']['entry'][0]['associations']['variables']\n",
    "output_format = \"umm_json\"\n",
    "var_url = \"https://cmr.earthdata.nasa.gov/search/variables\"\n",
    "for i in range(len(variables)):\n",
    "    response = requests.get(f\"{var_url}.{output_format}?concept-id={variables[i]}\")\n",
    "    response = response.json()\n",
    "    # print(response['items'][0]['umm'])\n",
    "    if 'Name' in response['items'][0]['umm']: pprint(response['items'][0]['umm']['Name'])"
   ]
  },
  {
   "cell_type": "markdown",
   "metadata": {},
   "source": [
    "### Pull those variables into xarray \"in place\""
   ]
  },
  {
   "cell_type": "markdown",
   "metadata": {},
   "source": [
    "#### First, we need to determine the granules returned from our time and area of interest"
   ]
  },
  {
   "cell_type": "code",
   "execution_count": 56,
   "metadata": {},
   "outputs": [
    {
     "name": "stdout",
     "output_type": "stream",
     "text": [
      "200\n",
      "11\n",
      "GHRSST Level 2P Global Sea Surface Skin Temperature from the Moderate Resolution Imaging Spectroradiometer (MODIS) on the NASA Terra satellite (GDS2) G1956337241-POCLOUD https://archive.podaac.earthdata.nasa.gov/podaac-ops-cumulus-protected/MODIS_T-JPL-L2P-v2019.0/20190622061001-JPL-L2P_GHRSST-SSTskin-MODIS_T-D-v02.0-fv01.0.nc\n",
      "GHRSST Level 2P Global Sea Surface Skin Temperature from the Moderate Resolution Imaging Spectroradiometer (MODIS) on the NASA Terra satellite (GDS2) G1956082976-POCLOUD https://archive.podaac.earthdata.nasa.gov/podaac-ops-cumulus-public/MODIS_T-JPL-L2P-v2019.0/20190622093001-JPL-L2P_GHRSST-SSTskin-MODIS_T-D-v02.0-fv01.0.nc.md5\n",
      "GHRSST Level 2P Global Sea Surface Skin Temperature from the Moderate Resolution Imaging Spectroradiometer (MODIS) on the NASA Terra satellite (GDS2) G1956324753-POCLOUD https://archive.podaac.earthdata.nasa.gov/podaac-ops-cumulus-protected/MODIS_T-JPL-L2P-v2019.0/20190622111001-JPL-L2P_GHRSST-SSTskin-MODIS_T-D-v02.0-fv01.0.nc\n",
      "GHRSST Level 2P Global Sea Surface Skin Temperature from the Moderate Resolution Imaging Spectroradiometer (MODIS) on the NASA Terra satellite (GDS2) G1956324914-POCLOUD https://archive.podaac.earthdata.nasa.gov/podaac-ops-cumulus-protected/MODIS_T-JPL-L2P-v2019.0/20190622125000-JPL-L2P_GHRSST-SSTskin-MODIS_T-D-v02.0-fv01.0.nc\n",
      "GHRSST Level 2P Global Sea Surface Skin Temperature from the Moderate Resolution Imaging Spectroradiometer (MODIS) on the NASA Terra satellite (GDS2) G1956081159-POCLOUD https://archive.podaac.earthdata.nasa.gov/podaac-ops-cumulus-protected/MODIS_T-JPL-L2P-v2019.0/20190622142500-JPL-L2P_GHRSST-SSTskin-MODIS_T-D-v02.0-fv01.0.nc\n",
      "GHRSST Level 2P Global Sea Surface Skin Temperature from the Moderate Resolution Imaging Spectroradiometer (MODIS) on the NASA Terra satellite (GDS2) G1956083189-POCLOUD https://archive.podaac.earthdata.nasa.gov/podaac-ops-cumulus-protected/MODIS_T-JPL-L2P-v2019.0/20190622143000-JPL-L2P_GHRSST-SSTskin-MODIS_T-D-v02.0-fv01.0.nc\n",
      "GHRSST Level 2P Global Sea Surface Skin Temperature from the Moderate Resolution Imaging Spectroradiometer (MODIS) on the NASA Terra satellite (GDS2) G1956079422-POCLOUD https://archive.podaac.earthdata.nasa.gov/podaac-ops-cumulus-protected/MODIS_T-JPL-L2P-v2019.0/20190622160501-JPL-L2P_GHRSST-SSTskin-MODIS_T-D-v02.0-fv01.0.nc\n",
      "GHRSST Level 2P Global Sea Surface Skin Temperature from the Moderate Resolution Imaging Spectroradiometer (MODIS) on the NASA Terra satellite (GDS2) G1956050656-POCLOUD https://archive.podaac.earthdata.nasa.gov/podaac-ops-cumulus-public/MODIS_T-JPL-L2P-v2019.0/20190622161000-JPL-L2P_GHRSST-SSTskin-MODIS_T-D-v02.0-fv01.0.nc.md5\n",
      "GHRSST Level 2P Global Sea Surface Skin Temperature from the Moderate Resolution Imaging Spectroradiometer (MODIS) on the NASA Terra satellite (GDS2) G1956072988-POCLOUD https://archive.podaac.earthdata.nasa.gov/podaac-ops-cumulus-protected/MODIS_T-JPL-L2P-v2019.0/20190622174501-JPL-L2P_GHRSST-SSTskin-MODIS_T-D-v02.0-fv01.0.nc\n",
      "GHRSST Level 2P Global Sea Surface Skin Temperature from the Moderate Resolution Imaging Spectroradiometer (MODIS) on the NASA Terra satellite (GDS2) G1956300056-POCLOUD https://archive.podaac.earthdata.nasa.gov/podaac-ops-cumulus-public/MODIS_T-JPL-L2P-v2019.0/20190622192501-JPL-L2P_GHRSST-SSTskin-MODIS_T-D-v02.0-fv01.0.nc.md5\n",
      "GHRSST Level 2P Global Sea Surface Skin Temperature from the Moderate Resolution Imaging Spectroradiometer (MODIS) on the NASA Terra satellite (GDS2) G1956066399-POCLOUD https://archive.podaac.earthdata.nasa.gov/podaac-ops-cumulus-public/MODIS_T-JPL-L2P-v2019.0/20190622210001-JPL-L2P_GHRSST-SSTskin-MODIS_T-D-v02.0-fv01.0.nc.md5\n"
     ]
    }
   ],
   "source": [
    "gran_url = f'{CMR_OPS}/{\"granules\"}'\n",
    "\n",
    "response = requests.get(gran_url, \n",
    "                        params={\n",
    "                            'concept_id': 'C1940475563-POCLOUD',\n",
    "                            'temporal': temporal,\n",
    "                            'bounding_box': bounding_box,\n",
    "                            'page_size': 200,\n",
    "                            },\n",
    "                        headers={\n",
    "                            'Accept': 'application/json'\n",
    "                            }\n",
    "                       )\n",
    "print(response.status_code)\n",
    "\n",
    "granules = response.json()['feed']['entry']\n",
    "print(response.headers['CMR-Hits'])\n",
    "granule\n",
    "for granule in granules:\n",
    "   print(f'{granule[\"dataset_id\"]} {granule[\"id\"]} {granule[\"links\"][0][\"href\"]}')\n",
    "\n",
    "granules = response.json()['feed']['entry']"
   ]
  },
  {
   "cell_type": "code",
   "execution_count": null,
   "metadata": {},
   "outputs": [],
   "source": []
  },
  {
   "cell_type": "markdown",
   "metadata": {},
   "source": [
    "### Use geolocation of ICESat-2 to define the single transect used to pull coincident ocean data out from array"
   ]
  },
  {
   "cell_type": "code",
   "execution_count": null,
   "metadata": {},
   "outputs": [],
   "source": []
  },
  {
   "cell_type": "markdown",
   "metadata": {},
   "source": [
    "### Create a plot of the single transect of gridded data \n",
    "\n",
    "(bonus: time series) - describe what this means to egress out of the cloud versus pulling the original data down (benefit to processing in the cloud)"
   ]
  },
  {
   "cell_type": "code",
   "execution_count": null,
   "metadata": {},
   "outputs": [],
   "source": []
  },
  {
   "cell_type": "markdown",
   "metadata": {},
   "source": [
    "## Exercise"
   ]
  },
  {
   "cell_type": "code",
   "execution_count": null,
   "metadata": {},
   "outputs": [],
   "source": [
    "# maybe an exercise that builds off of previous tutorials? Discover services or storage in CMR?"
   ]
  },
  {
   "cell_type": "markdown",
   "metadata": {},
   "source": [
    "---"
   ]
  },
  {
   "cell_type": "markdown",
   "metadata": {},
   "source": [
    "## Resources (optional)"
   ]
  },
  {
   "cell_type": "markdown",
   "metadata": {},
   "source": [
    "---"
   ]
  },
  {
   "cell_type": "markdown",
   "metadata": {},
   "source": [
    "## Conclusion"
   ]
  },
  {
   "cell_type": "code",
   "execution_count": null,
   "metadata": {},
   "outputs": [],
   "source": []
  }
 ],
 "metadata": {
  "kernelspec": {
   "display_name": "Python 3 (ipykernel)",
   "language": "python",
   "name": "python3"
  },
  "language_info": {
   "codemirror_mode": {
    "name": "ipython",
    "version": 3
   },
   "file_extension": ".py",
   "mimetype": "text/x-python",
   "name": "python",
   "nbconvert_exporter": "python",
   "pygments_lexer": "ipython3",
   "version": "3.9.7"
  }
 },
 "nbformat": 4,
 "nbformat_minor": 4
}
