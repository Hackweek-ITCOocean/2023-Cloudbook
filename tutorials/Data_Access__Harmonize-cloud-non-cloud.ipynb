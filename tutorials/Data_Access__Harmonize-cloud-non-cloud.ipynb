{
 "cells": [
  {
   "cell_type": "markdown",
   "metadata": {},
   "source": [
    "# Harmonizing data located within and outside of the NASA Earthdata Cloud"
   ]
  },
  {
   "cell_type": "markdown",
   "metadata": {},
   "source": [
    "---"
   ]
  },
  {
   "cell_type": "markdown",
   "metadata": {},
   "source": [
    "## Timing\n",
    "\n",
    "- Exercise: 45 min\n"
   ]
  },
  {
   "cell_type": "markdown",
   "metadata": {},
   "source": [
    "---"
   ]
  },
  {
   "cell_type": "markdown",
   "metadata": {},
   "source": [
    "## Summary\n",
    "\n",
    "This tutorial will combine several workflow steps and components from the previous days, demonstrating the process of using the geolocation of data available outside of the Earthdata Cloud to then access coincident variables of cloud-accessible data. This may be a common use case as NASA Earthdata continues to migrate to the cloud, producing a \"hybrid\" data archive across Amazon Web Services (AWS) and original on-premise data storage systems. Additionally, you may also want to combine field measurements with remote sensing data available on the Earthdata Cloud.\n",
    "\n",
    "This specific example explores the harmonization of the ICESat-2 ATL03 data product, currently (as of November 2021) available publicly via direct download at the NSIDC DAAC, with Sea Surface Temperature variables available from PO.DAAC on the Earthdata Cloud. \n",
    "\n",
    "\n",
    "### Objectives\n",
    "\n",
    "[TODO]"
   ]
  },
  {
   "cell_type": "markdown",
   "metadata": {},
   "source": [
    "---"
   ]
  },
  {
   "cell_type": "markdown",
   "metadata": {},
   "source": [
    "### Import packages"
   ]
  },
  {
   "cell_type": "code",
   "execution_count": 1,
   "metadata": {},
   "outputs": [],
   "source": [
    "import requests\n",
    "import netrc\n",
    "from pprint import pprint\n",
    "import os\n",
    "from pathlib import Path\n",
    "import s3fs\n",
    "import xarray as xr\n",
    "import matplotlib.pyplot as plt\n",
    "import cartopy.crs as ccrs"
   ]
  },
  {
   "cell_type": "markdown",
   "metadata": {
    "tags": []
   },
   "source": [
    "### Determine storage location of datasets of interest\n",
    "\n",
    "First, let's see whether our datasets of interest reside in the Earthdata Cloud or whether they reside on premise, or \"on prem\" at a local data center."
   ]
  },
  {
   "cell_type": "markdown",
   "metadata": {},
   "source": [
    "We are building off of the CMR introductory tutorial, beginning with a collection search."
   ]
  },
  {
   "cell_type": "code",
   "execution_count": 2,
   "metadata": {},
   "outputs": [],
   "source": [
    "cmr_search_url = 'https://cmr.earthdata.nasa.gov/search'"
   ]
  },
  {
   "cell_type": "markdown",
   "metadata": {},
   "source": [
    "We want to search by collection to inspect the access and service options that exist:"
   ]
  },
  {
   "cell_type": "code",
   "execution_count": 3,
   "metadata": {},
   "outputs": [],
   "source": [
    "cmr_collection_url = f'{cmr_search_url}/{\"collections\"}'"
   ]
  },
  {
   "cell_type": "markdown",
   "metadata": {},
   "source": [
    "In the CMR introduction tutorial, we explored cloud-hosted collections from different DAAC providers, and identified the CMR concept-id for a given dataset id (also referred to as a short_name). Here we'll start with two datasets that we want to explore over a coincident area and time:"
   ]
  },
  {
   "cell_type": "code",
   "execution_count": 4,
   "metadata": {},
   "outputs": [],
   "source": [
    "modis_name = 'MODIS_A-JPL-L2P-v2019.0'\n",
    "icesat2_name = 'ATL03'"
   ]
  },
  {
   "cell_type": "markdown",
   "metadata": {
    "tags": []
   },
   "source": [
    "Like in the intro tutorial, we're going to first determine what concept-ids are returned for the MODIS dataset. First, retrieve collection results based on the MODIS `short_name`:"
   ]
  },
  {
   "cell_type": "code",
   "execution_count": 5,
   "metadata": {},
   "outputs": [],
   "source": [
    "response = requests.get(cmr_collection_url, \n",
    "                        params={\n",
    "                            'short_name': modis_name,\n",
    "                            },\n",
    "                        headers={\n",
    "                            'Accept': 'application/json'\n",
    "                            }\n",
    "                       )\n",
    "response = response.json()"
   ]
  },
  {
   "cell_type": "markdown",
   "metadata": {},
   "source": [
    "For each collection result, print out the CMR concept-id and version:"
   ]
  },
  {
   "cell_type": "code",
   "execution_count": 6,
   "metadata": {},
   "outputs": [
    {
     "name": "stdout",
     "output_type": "stream",
     "text": [
      "C1940473819-POCLOUD version:2019.0\n",
      "C1693233348-PODAAC version:2019.0\n"
     ]
    }
   ],
   "source": [
    "collections = response['feed']['entry']\n",
    "\n",
    "for collection in collections:\n",
    "    print(f'{collection[\"id\"]} {\"version:\"}{collection[\"version_id\"]}')"
   ]
  },
  {
   "cell_type": "markdown",
   "metadata": {},
   "source": [
    "Two collections are returned, both at version 2019.0. We can see from the suffix of the id that one is associated with \"POCLOUD\" versus \"PODAAC\". That gives us a clue in terms of where the data are hosted, but we can also use the `cloud_hosted` parameter set to True to confirm."
   ]
  },
  {
   "cell_type": "code",
   "execution_count": 7,
   "metadata": {
    "tags": []
   },
   "outputs": [],
   "source": [
    "response = requests.get(cmr_collection_url, \n",
    "                        params={\n",
    "                            'short_name': modis_name,\n",
    "                            'cloud_hosted': 'True',\n",
    "                            },\n",
    "                        headers={\n",
    "                            'Accept': 'application/json'\n",
    "                            }\n",
    "                       )\n",
    "response = response.json()"
   ]
  },
  {
   "cell_type": "code",
   "execution_count": 8,
   "metadata": {},
   "outputs": [
    {
     "name": "stdout",
     "output_type": "stream",
     "text": [
      "C1940473819-POCLOUD version:2019.0\n"
     ]
    }
   ],
   "source": [
    "collections = response['feed']['entry']\n",
    "\n",
    "for collection in collections:\n",
    "    print(f'{collection[\"id\"]} {\"version:\"}{collection[\"version_id\"]}')"
   ]
  },
  {
   "cell_type": "markdown",
   "metadata": {},
   "source": [
    "We will save this concept-id to use later on when we access the data granules."
   ]
  },
  {
   "cell_type": "code",
   "execution_count": 9,
   "metadata": {},
   "outputs": [],
   "source": [
    "modis_concept_id = collections[0][\"id\"]"
   ]
  },
  {
   "cell_type": "markdown",
   "metadata": {},
   "source": [
    "Now we will try our ICESat-2 dataset to see what id's are returned for a given dataset name."
   ]
  },
  {
   "cell_type": "code",
   "execution_count": 10,
   "metadata": {},
   "outputs": [],
   "source": [
    "response = requests.get(cmr_collection_url, \n",
    "                        params={\n",
    "                            'short_name': icesat2_name,\n",
    "                            },\n",
    "                        headers={\n",
    "                            'Accept': 'application/json'\n",
    "                            }\n",
    "                       )\n",
    "response = response.json()"
   ]
  },
  {
   "cell_type": "code",
   "execution_count": 11,
   "metadata": {},
   "outputs": [
    {
     "name": "stdout",
     "output_type": "stream",
     "text": [
      "C1705401930-NSIDC_ECS version:003\n",
      "C1997321091-NSIDC_ECS version:004\n"
     ]
    }
   ],
   "source": [
    "collections = response['feed']['entry']\n",
    "\n",
    "for collection in collections:\n",
    "    print(f'{collection[\"id\"]} {\"version:\"}{collection[\"version_id\"]}')"
   ]
  },
  {
   "cell_type": "markdown",
   "metadata": {},
   "source": [
    "Two separate datasets exist in the CMR, one at version 3 and one at version 4. Let's see if these are `cloud_hosted`:"
   ]
  },
  {
   "cell_type": "code",
   "execution_count": 12,
   "metadata": {
    "tags": []
   },
   "outputs": [],
   "source": [
    "response = requests.get(cmr_collection_url, \n",
    "                        params={\n",
    "                            'short_name': icesat2_name,\n",
    "                            'cloud_hosted': 'False',\n",
    "                            },\n",
    "                        headers={\n",
    "                            'Accept': 'application/json'\n",
    "                            }\n",
    "                       )\n",
    "response = response.json()"
   ]
  },
  {
   "cell_type": "code",
   "execution_count": 13,
   "metadata": {},
   "outputs": [
    {
     "name": "stdout",
     "output_type": "stream",
     "text": [
      "C1997321091-NSIDC_ECS version:004\n",
      "C1705401930-NSIDC_ECS version:003\n"
     ]
    }
   ],
   "source": [
    "collections = response['feed']['entry']\n",
    "\n",
    "for collection in collections:\n",
    "    print(f'{collection[\"id\"]} {\"version:\"}{collection[\"version_id\"]}')"
   ]
  },
  {
   "cell_type": "markdown",
   "metadata": {},
   "source": [
    "When set to `False`, we get our collections back. We have now determined that we have a copy of the MODIS dataset in the cloud, whereas the ICESat-2 dataset (both versions) remains \"on premise\", residing in a local data center. "
   ]
  },
  {
   "cell_type": "markdown",
   "metadata": {},
   "source": [
    "Save the ATL03 concept ID:"
   ]
  },
  {
   "cell_type": "code",
   "execution_count": 14,
   "metadata": {},
   "outputs": [],
   "source": [
    "icesat2_concept_id = collections[0][\"id\"]"
   ]
  },
  {
   "cell_type": "markdown",
   "metadata": {
    "tags": []
   },
   "source": [
    "#### Specify time range and area of interest \n",
    "\n",
    "We are going to focus on getting data for an area north of Greenland for a single day in June.\n",
    "\n",
    "These `bounding_box` and `temporal` variables will be used for data search, subset, and access below"
   ]
  },
  {
   "cell_type": "code",
   "execution_count": 15,
   "metadata": {},
   "outputs": [],
   "source": [
    "# Bounding Box spatial parameter in decimal degree 'W,S,E,N' format.\n",
    "bounding_box = '-62.8,81.7,-56.4,83'\n",
    "\n",
    "# Each date in yyyy-MM-ddTHH:mm:ssZ format; date range in start,end format\n",
    "temporal = '2019-06-22T00:00:00Z,2019-06-22T23:59:59Z'"
   ]
  },
  {
   "cell_type": "markdown",
   "metadata": {},
   "source": [
    "Perform a granule search over our time and area of interest. How many granules are returned?"
   ]
  },
  {
   "cell_type": "code",
   "execution_count": 16,
   "metadata": {},
   "outputs": [],
   "source": [
    "granule_url = f'{cmr_search_url}/{\"granules\"}'"
   ]
  },
  {
   "cell_type": "code",
   "execution_count": 17,
   "metadata": {},
   "outputs": [
    {
     "name": "stdout",
     "output_type": "stream",
     "text": [
      "2\n"
     ]
    }
   ],
   "source": [
    "response = requests.get(granule_url, \n",
    "                        params={\n",
    "                            'concept_id': icesat2_concept_id,\n",
    "                            'temporal': temporal,\n",
    "                            'bounding_box': bounding_box,\n",
    "                            'page_size': 200,\n",
    "                            },\n",
    "                        headers={\n",
    "                            'Accept': 'application/json'\n",
    "                            }\n",
    "                       )\n",
    "print(response.headers['CMR-Hits'])"
   ]
  },
  {
   "cell_type": "markdown",
   "metadata": {},
   "source": [
    "Print the file names, size, and links:"
   ]
  },
  {
   "cell_type": "code",
   "execution_count": 18,
   "metadata": {},
   "outputs": [
    {
     "name": "stdout",
     "output_type": "stream",
     "text": [
      "ATL03_20190622061415_12980304_004_01.h5 1825.3746356964 https://n5eil01u.ecs.nsidc.org/DP9/ATLAS/ATL03.004/2019.06.22/ATL03_20190622061415_12980304_004_01.h5\n",
      "ATL03_20190622202251_13070304_004_01.h5 3035.5987443924 https://n5eil01u.ecs.nsidc.org/DP9/ATLAS/ATL03.004/2019.06.22/ATL03_20190622202251_13070304_004_01.h5\n"
     ]
    }
   ],
   "source": [
    "granules = response.json()['feed']['entry']\n",
    "\n",
    "for granule in granules:\n",
    "    print(f'{granule[\"producer_granule_id\"]} {granule[\"granule_size\"]} {granule[\"links\"][0][\"href\"]}')"
   ]
  },
  {
   "cell_type": "markdown",
   "metadata": {},
   "source": [
    "### Download ICESat-2 ATL03 granule\n",
    "[TODO] Describe what services are available, including icepyx (provide references), but just direct download for simplicity. Describe that this is being \"downloaded\" to our cloud environment - what does that mean in terms of cost, etc.\n",
    "\n",
    "We've found 2 granules.  We'll download the first one and write it to a file with the same name as the `producer_granule_id`.\n",
    "\n",
    "We need the url for the granule as well.  This is `href` links we printed out above."
   ]
  },
  {
   "cell_type": "code",
   "execution_count": 19,
   "metadata": {},
   "outputs": [],
   "source": [
    "icesat_id = granules[0][\"producer_granule_id\"]\n",
    "icesat_url = granules[0]['links'][0]['href']"
   ]
  },
  {
   "cell_type": "markdown",
   "metadata": {},
   "source": [
    "To retrieve the granule data, we use the `requests.get()` method, which will utilize the .netrc file on the backend to authenticate the request against Earthdata Login.  "
   ]
  },
  {
   "cell_type": "code",
   "execution_count": 20,
   "metadata": {},
   "outputs": [],
   "source": [
    "r = requests.get(icesat_url)"
   ]
  },
  {
   "cell_type": "markdown",
   "metadata": {},
   "source": [
    "The response returned by requests has the same structure as all the other responses: a header and contents.  The header information has information about the response, including the size of the data we downloaded in bytes. "
   ]
  },
  {
   "cell_type": "code",
   "execution_count": 21,
   "metadata": {},
   "outputs": [
    {
     "name": "stdout",
     "output_type": "stream",
     "text": [
      "Date: Wed, 10 Nov 2021 23:37:48 GMT\n",
      "Server: Apache\n",
      "Vary: User-Agent\n",
      "Content-Disposition: attachment\n",
      "Content-Length: 1914044034\n",
      "Keep-Alive: timeout=15, max=100\n",
      "Connection: Keep-Alive\n"
     ]
    }
   ],
   "source": [
    "for k, v in r.headers.items():\n",
    "    print(f'{k}: {v}')"
   ]
  },
  {
   "cell_type": "markdown",
   "metadata": {},
   "source": [
    "The contents needs to be saved to a file.  To keep the directory clean, we will create a `downloads` directory to store the file.  We can use a shell command to do this or use the `mkdir` method from the `os` package. "
   ]
  },
  {
   "cell_type": "code",
   "execution_count": 22,
   "metadata": {},
   "outputs": [],
   "source": [
    "os.makedirs('downloads')"
   ]
  },
  {
   "cell_type": "markdown",
   "metadata": {},
   "source": [
    "You should see a `downloads` directory in the file browser."
   ]
  },
  {
   "cell_type": "markdown",
   "metadata": {},
   "source": [
    "To write the data to a file, we use `open` to open a file.  We need to specify that the file is open for writing by using the _write-mode_ `w`.  We also need to specify that we want to write bytes by setting the _binary-mode_ `b`.  This is important because the response contents are bytes.  The default mode for `open` is `text-mode`. So make sure you use `b`.\n",
    "\n",
    "We'll use the `with` statement _context-manager_ to open the file, write the contents of the response, and then close the file.  Once the data in `r.content` is written sucessfully to the file, or if there is an error, the file is closed by the _context-manager_.\n",
    "\n",
    "We also need to prepend the `downloads` path to the filename.  We do this using `Path` from the `pathlib` package in the standard library."
   ]
  },
  {
   "cell_type": "code",
   "execution_count": 23,
   "metadata": {},
   "outputs": [],
   "source": [
    "outfile = Path('downloads', icesat_id)\n",
    "with open(outfile, 'wb') as f:\n",
    "    f.write(r.content)"
   ]
  },
  {
   "cell_type": "markdown",
   "metadata": {},
   "source": [
    "Check to make sure it is downloaded."
   ]
  },
  {
   "cell_type": "code",
   "execution_count": 24,
   "metadata": {
    "tags": []
   },
   "outputs": [
    {
     "name": "stdout",
     "output_type": "stream",
     "text": [
      "total 1869184\n",
      "-rw-r--r-- 1 jovyan jovyan 1914044034 Nov 10 23:40 ATL03_20190622061415_12980304_004_01.h5\n"
     ]
    }
   ],
   "source": [
    "ls -l ./downloads"
   ]
  },
  {
   "cell_type": "markdown",
   "metadata": {},
   "source": [
    "`ATL03_20190622061415_12980304_004_01.h5` is an HDF5 file.  `xarray` can open this but you need to tell it which group to read the data from.  In this case we read the height data for ground-track 1 left-beam."
   ]
  },
  {
   "cell_type": "code",
   "execution_count": 29,
   "metadata": {},
   "outputs": [
    {
     "data": {
      "text/html": [
       "<div><svg style=\"position: absolute; width: 0; height: 0; overflow: hidden\">\n",
       "<defs>\n",
       "<symbol id=\"icon-database\" viewBox=\"0 0 32 32\">\n",
       "<path d=\"M16 0c-8.837 0-16 2.239-16 5v4c0 2.761 7.163 5 16 5s16-2.239 16-5v-4c0-2.761-7.163-5-16-5z\"></path>\n",
       "<path d=\"M16 17c-8.837 0-16-2.239-16-5v6c0 2.761 7.163 5 16 5s16-2.239 16-5v-6c0 2.761-7.163 5-16 5z\"></path>\n",
       "<path d=\"M16 26c-8.837 0-16-2.239-16-5v6c0 2.761 7.163 5 16 5s16-2.239 16-5v-6c0 2.761-7.163 5-16 5z\"></path>\n",
       "</symbol>\n",
       "<symbol id=\"icon-file-text2\" viewBox=\"0 0 32 32\">\n",
       "<path d=\"M28.681 7.159c-0.694-0.947-1.662-2.053-2.724-3.116s-2.169-2.030-3.116-2.724c-1.612-1.182-2.393-1.319-2.841-1.319h-15.5c-1.378 0-2.5 1.121-2.5 2.5v27c0 1.378 1.122 2.5 2.5 2.5h23c1.378 0 2.5-1.122 2.5-2.5v-19.5c0-0.448-0.137-1.23-1.319-2.841zM24.543 5.457c0.959 0.959 1.712 1.825 2.268 2.543h-4.811v-4.811c0.718 0.556 1.584 1.309 2.543 2.268zM28 29.5c0 0.271-0.229 0.5-0.5 0.5h-23c-0.271 0-0.5-0.229-0.5-0.5v-27c0-0.271 0.229-0.5 0.5-0.5 0 0 15.499-0 15.5 0v7c0 0.552 0.448 1 1 1h7v19.5z\"></path>\n",
       "<path d=\"M23 26h-14c-0.552 0-1-0.448-1-1s0.448-1 1-1h14c0.552 0 1 0.448 1 1s-0.448 1-1 1z\"></path>\n",
       "<path d=\"M23 22h-14c-0.552 0-1-0.448-1-1s0.448-1 1-1h14c0.552 0 1 0.448 1 1s-0.448 1-1 1z\"></path>\n",
       "<path d=\"M23 18h-14c-0.552 0-1-0.448-1-1s0.448-1 1-1h14c0.552 0 1 0.448 1 1s-0.448 1-1 1z\"></path>\n",
       "</symbol>\n",
       "</defs>\n",
       "</svg>\n",
       "<style>/* CSS stylesheet for displaying xarray objects in jupyterlab.\n",
       " *\n",
       " */\n",
       "\n",
       ":root {\n",
       "  --xr-font-color0: var(--jp-content-font-color0, rgba(0, 0, 0, 1));\n",
       "  --xr-font-color2: var(--jp-content-font-color2, rgba(0, 0, 0, 0.54));\n",
       "  --xr-font-color3: var(--jp-content-font-color3, rgba(0, 0, 0, 0.38));\n",
       "  --xr-border-color: var(--jp-border-color2, #e0e0e0);\n",
       "  --xr-disabled-color: var(--jp-layout-color3, #bdbdbd);\n",
       "  --xr-background-color: var(--jp-layout-color0, white);\n",
       "  --xr-background-color-row-even: var(--jp-layout-color1, white);\n",
       "  --xr-background-color-row-odd: var(--jp-layout-color2, #eeeeee);\n",
       "}\n",
       "\n",
       "html[theme=dark],\n",
       "body.vscode-dark {\n",
       "  --xr-font-color0: rgba(255, 255, 255, 1);\n",
       "  --xr-font-color2: rgba(255, 255, 255, 0.54);\n",
       "  --xr-font-color3: rgba(255, 255, 255, 0.38);\n",
       "  --xr-border-color: #1F1F1F;\n",
       "  --xr-disabled-color: #515151;\n",
       "  --xr-background-color: #111111;\n",
       "  --xr-background-color-row-even: #111111;\n",
       "  --xr-background-color-row-odd: #313131;\n",
       "}\n",
       "\n",
       ".xr-wrap {\n",
       "  display: block;\n",
       "  min-width: 300px;\n",
       "  max-width: 700px;\n",
       "}\n",
       "\n",
       ".xr-text-repr-fallback {\n",
       "  /* fallback to plain text repr when CSS is not injected (untrusted notebook) */\n",
       "  display: none;\n",
       "}\n",
       "\n",
       ".xr-header {\n",
       "  padding-top: 6px;\n",
       "  padding-bottom: 6px;\n",
       "  margin-bottom: 4px;\n",
       "  border-bottom: solid 1px var(--xr-border-color);\n",
       "}\n",
       "\n",
       ".xr-header > div,\n",
       ".xr-header > ul {\n",
       "  display: inline;\n",
       "  margin-top: 0;\n",
       "  margin-bottom: 0;\n",
       "}\n",
       "\n",
       ".xr-obj-type,\n",
       ".xr-array-name {\n",
       "  margin-left: 2px;\n",
       "  margin-right: 10px;\n",
       "}\n",
       "\n",
       ".xr-obj-type {\n",
       "  color: var(--xr-font-color2);\n",
       "}\n",
       "\n",
       ".xr-sections {\n",
       "  padding-left: 0 !important;\n",
       "  display: grid;\n",
       "  grid-template-columns: 150px auto auto 1fr 20px 20px;\n",
       "}\n",
       "\n",
       ".xr-section-item {\n",
       "  display: contents;\n",
       "}\n",
       "\n",
       ".xr-section-item input {\n",
       "  display: none;\n",
       "}\n",
       "\n",
       ".xr-section-item input + label {\n",
       "  color: var(--xr-disabled-color);\n",
       "}\n",
       "\n",
       ".xr-section-item input:enabled + label {\n",
       "  cursor: pointer;\n",
       "  color: var(--xr-font-color2);\n",
       "}\n",
       "\n",
       ".xr-section-item input:enabled + label:hover {\n",
       "  color: var(--xr-font-color0);\n",
       "}\n",
       "\n",
       ".xr-section-summary {\n",
       "  grid-column: 1;\n",
       "  color: var(--xr-font-color2);\n",
       "  font-weight: 500;\n",
       "}\n",
       "\n",
       ".xr-section-summary > span {\n",
       "  display: inline-block;\n",
       "  padding-left: 0.5em;\n",
       "}\n",
       "\n",
       ".xr-section-summary-in:disabled + label {\n",
       "  color: var(--xr-font-color2);\n",
       "}\n",
       "\n",
       ".xr-section-summary-in + label:before {\n",
       "  display: inline-block;\n",
       "  content: '►';\n",
       "  font-size: 11px;\n",
       "  width: 15px;\n",
       "  text-align: center;\n",
       "}\n",
       "\n",
       ".xr-section-summary-in:disabled + label:before {\n",
       "  color: var(--xr-disabled-color);\n",
       "}\n",
       "\n",
       ".xr-section-summary-in:checked + label:before {\n",
       "  content: '▼';\n",
       "}\n",
       "\n",
       ".xr-section-summary-in:checked + label > span {\n",
       "  display: none;\n",
       "}\n",
       "\n",
       ".xr-section-summary,\n",
       ".xr-section-inline-details {\n",
       "  padding-top: 4px;\n",
       "  padding-bottom: 4px;\n",
       "}\n",
       "\n",
       ".xr-section-inline-details {\n",
       "  grid-column: 2 / -1;\n",
       "}\n",
       "\n",
       ".xr-section-details {\n",
       "  display: none;\n",
       "  grid-column: 1 / -1;\n",
       "  margin-bottom: 5px;\n",
       "}\n",
       "\n",
       ".xr-section-summary-in:checked ~ .xr-section-details {\n",
       "  display: contents;\n",
       "}\n",
       "\n",
       ".xr-array-wrap {\n",
       "  grid-column: 1 / -1;\n",
       "  display: grid;\n",
       "  grid-template-columns: 20px auto;\n",
       "}\n",
       "\n",
       ".xr-array-wrap > label {\n",
       "  grid-column: 1;\n",
       "  vertical-align: top;\n",
       "}\n",
       "\n",
       ".xr-preview {\n",
       "  color: var(--xr-font-color3);\n",
       "}\n",
       "\n",
       ".xr-array-preview,\n",
       ".xr-array-data {\n",
       "  padding: 0 5px !important;\n",
       "  grid-column: 2;\n",
       "}\n",
       "\n",
       ".xr-array-data,\n",
       ".xr-array-in:checked ~ .xr-array-preview {\n",
       "  display: none;\n",
       "}\n",
       "\n",
       ".xr-array-in:checked ~ .xr-array-data,\n",
       ".xr-array-preview {\n",
       "  display: inline-block;\n",
       "}\n",
       "\n",
       ".xr-dim-list {\n",
       "  display: inline-block !important;\n",
       "  list-style: none;\n",
       "  padding: 0 !important;\n",
       "  margin: 0;\n",
       "}\n",
       "\n",
       ".xr-dim-list li {\n",
       "  display: inline-block;\n",
       "  padding: 0;\n",
       "  margin: 0;\n",
       "}\n",
       "\n",
       ".xr-dim-list:before {\n",
       "  content: '(';\n",
       "}\n",
       "\n",
       ".xr-dim-list:after {\n",
       "  content: ')';\n",
       "}\n",
       "\n",
       ".xr-dim-list li:not(:last-child):after {\n",
       "  content: ',';\n",
       "  padding-right: 5px;\n",
       "}\n",
       "\n",
       ".xr-has-index {\n",
       "  font-weight: bold;\n",
       "}\n",
       "\n",
       ".xr-var-list,\n",
       ".xr-var-item {\n",
       "  display: contents;\n",
       "}\n",
       "\n",
       ".xr-var-item > div,\n",
       ".xr-var-item label,\n",
       ".xr-var-item > .xr-var-name span {\n",
       "  background-color: var(--xr-background-color-row-even);\n",
       "  margin-bottom: 0;\n",
       "}\n",
       "\n",
       ".xr-var-item > .xr-var-name:hover span {\n",
       "  padding-right: 5px;\n",
       "}\n",
       "\n",
       ".xr-var-list > li:nth-child(odd) > div,\n",
       ".xr-var-list > li:nth-child(odd) > label,\n",
       ".xr-var-list > li:nth-child(odd) > .xr-var-name span {\n",
       "  background-color: var(--xr-background-color-row-odd);\n",
       "}\n",
       "\n",
       ".xr-var-name {\n",
       "  grid-column: 1;\n",
       "}\n",
       "\n",
       ".xr-var-dims {\n",
       "  grid-column: 2;\n",
       "}\n",
       "\n",
       ".xr-var-dtype {\n",
       "  grid-column: 3;\n",
       "  text-align: right;\n",
       "  color: var(--xr-font-color2);\n",
       "}\n",
       "\n",
       ".xr-var-preview {\n",
       "  grid-column: 4;\n",
       "}\n",
       "\n",
       ".xr-var-name,\n",
       ".xr-var-dims,\n",
       ".xr-var-dtype,\n",
       ".xr-preview,\n",
       ".xr-attrs dt {\n",
       "  white-space: nowrap;\n",
       "  overflow: hidden;\n",
       "  text-overflow: ellipsis;\n",
       "  padding-right: 10px;\n",
       "}\n",
       "\n",
       ".xr-var-name:hover,\n",
       ".xr-var-dims:hover,\n",
       ".xr-var-dtype:hover,\n",
       ".xr-attrs dt:hover {\n",
       "  overflow: visible;\n",
       "  width: auto;\n",
       "  z-index: 1;\n",
       "}\n",
       "\n",
       ".xr-var-attrs,\n",
       ".xr-var-data {\n",
       "  display: none;\n",
       "  background-color: var(--xr-background-color) !important;\n",
       "  padding-bottom: 5px !important;\n",
       "}\n",
       "\n",
       ".xr-var-attrs-in:checked ~ .xr-var-attrs,\n",
       ".xr-var-data-in:checked ~ .xr-var-data {\n",
       "  display: block;\n",
       "}\n",
       "\n",
       ".xr-var-data > table {\n",
       "  float: right;\n",
       "}\n",
       "\n",
       ".xr-var-name span,\n",
       ".xr-var-data,\n",
       ".xr-attrs {\n",
       "  padding-left: 25px !important;\n",
       "}\n",
       "\n",
       ".xr-attrs,\n",
       ".xr-var-attrs,\n",
       ".xr-var-data {\n",
       "  grid-column: 1 / -1;\n",
       "}\n",
       "\n",
       "dl.xr-attrs {\n",
       "  padding: 0;\n",
       "  margin: 0;\n",
       "  display: grid;\n",
       "  grid-template-columns: 125px auto;\n",
       "}\n",
       "\n",
       ".xr-attrs dt,\n",
       ".xr-attrs dd {\n",
       "  padding: 0;\n",
       "  margin: 0;\n",
       "  float: left;\n",
       "  padding-right: 10px;\n",
       "  width: auto;\n",
       "}\n",
       "\n",
       ".xr-attrs dt {\n",
       "  font-weight: normal;\n",
       "  grid-column: 1;\n",
       "}\n",
       "\n",
       ".xr-attrs dt:hover span {\n",
       "  display: inline-block;\n",
       "  background: var(--xr-background-color);\n",
       "  padding-right: 10px;\n",
       "}\n",
       "\n",
       ".xr-attrs dd {\n",
       "  grid-column: 2;\n",
       "  white-space: pre-wrap;\n",
       "  word-break: break-all;\n",
       "}\n",
       "\n",
       ".xr-icon-database,\n",
       ".xr-icon-file-text2 {\n",
       "  display: inline-block;\n",
       "  vertical-align: middle;\n",
       "  width: 1em;\n",
       "  height: 1.5em !important;\n",
       "  stroke-width: 0;\n",
       "  stroke: currentColor;\n",
       "  fill: currentColor;\n",
       "}\n",
       "</style><pre class='xr-text-repr-fallback'>&lt;xarray.Dataset&gt;\n",
       "Dimensions:         (delta_time: 19219882, ds_surf_type: 5)\n",
       "Coordinates:\n",
       "  * delta_time      (delta_time) datetime64[ns] 2019-06-22T06:14:14.882866488...\n",
       "    lat_ph          (delta_time) float64 ...\n",
       "    lon_ph          (delta_time) float64 ...\n",
       "Dimensions without coordinates: ds_surf_type\n",
       "Data variables:\n",
       "    dist_ph_across  (delta_time) float32 ...\n",
       "    dist_ph_along   (delta_time) float32 ...\n",
       "    h_ph            (delta_time) float32 ...\n",
       "    pce_mframe_cnt  (delta_time) uint32 ...\n",
       "    ph_id_channel   (delta_time) uint8 ...\n",
       "    ph_id_count     (delta_time) int8 ...\n",
       "    ph_id_pulse     (delta_time) uint8 ...\n",
       "    quality_ph      (delta_time) int8 ...\n",
       "    signal_conf_ph  (delta_time, ds_surf_type) int8 ...\n",
       "Attributes:\n",
       "    Description:  Contains arrays of the parameters for each received photon.\n",
       "    data_rate:    Data are stored at the photon detection rate.</pre><div class='xr-wrap' hidden><div class='xr-header'><div class='xr-obj-type'>xarray.Dataset</div></div><ul class='xr-sections'><li class='xr-section-item'><input id='section-75fa1b18-9e69-4581-925d-7f1a93e0be58' class='xr-section-summary-in' type='checkbox' disabled ><label for='section-75fa1b18-9e69-4581-925d-7f1a93e0be58' class='xr-section-summary'  title='Expand/collapse section'>Dimensions:</label><div class='xr-section-inline-details'><ul class='xr-dim-list'><li><span class='xr-has-index'>delta_time</span>: 19219882</li><li><span>ds_surf_type</span>: 5</li></ul></div><div class='xr-section-details'></div></li><li class='xr-section-item'><input id='section-7fe0c3f5-d3ac-4c9a-85a3-2498e48dbb16' class='xr-section-summary-in' type='checkbox'  checked><label for='section-7fe0c3f5-d3ac-4c9a-85a3-2498e48dbb16' class='xr-section-summary' >Coordinates: <span>(3)</span></label><div class='xr-section-inline-details'></div><div class='xr-section-details'><ul class='xr-var-list'><li class='xr-var-item'><div class='xr-var-name'><span class='xr-has-index'>delta_time</span></div><div class='xr-var-dims'>(delta_time)</div><div class='xr-var-dtype'>datetime64[ns]</div><div class='xr-var-preview xr-preview'>2019-06-22T06:14:14.882866488 .....</div><input id='attrs-300d4015-1a1c-49df-81e4-7601f9dfa963' class='xr-var-attrs-in' type='checkbox' ><label for='attrs-300d4015-1a1c-49df-81e4-7601f9dfa963' title='Show/Hide attributes'><svg class='icon xr-icon-file-text2'><use xlink:href='#icon-file-text2'></use></svg></label><input id='data-11100261-b469-4cf2-935e-704082e52a57' class='xr-var-data-in' type='checkbox'><label for='data-11100261-b469-4cf2-935e-704082e52a57' title='Show/Hide data repr'><svg class='icon xr-icon-database'><use xlink:href='#icon-database'></use></svg></label><div class='xr-var-attrs'><dl class='xr-attrs'><dt><span>long_name :</span></dt><dd>Elapsed GPS seconds</dd><dt><span>standard_name :</span></dt><dd>time</dd><dt><span>source :</span></dt><dd>Operations</dd><dt><span>contentType :</span></dt><dd>referenceInformation</dd><dt><span>description :</span></dt><dd>The transmit time of a given photon, measured in seconds from the ATLAS Standard Data Product Epoch. Note that multiple received photons associated with a single transmit pulse will have the same delta_time. The ATLAS Standard Data Products (SDP) epoch offset is defined within /ancillary_data/atlas_sdp_gps_epoch as the number of GPS seconds between the GPS epoch (1980-01-06T00:00:00.000000Z UTC) and the ATLAS SDP epoch. By adding the offset contained within atlas_sdp_gps_epoch to delta time parameters, the time in gps_seconds relative to the GPS epoch can be computed.</dd></dl></div><div class='xr-var-data'><pre>array([&#x27;2019-06-22T06:14:14.882866488&#x27;, &#x27;2019-06-22T06:14:14.882866488&#x27;,\n",
       "       &#x27;2019-06-22T06:14:14.882866488&#x27;, ..., &#x27;2019-06-22T06:19:24.064273608&#x27;,\n",
       "       &#x27;2019-06-22T06:19:24.064273608&#x27;, &#x27;2019-06-22T06:19:24.064273608&#x27;],\n",
       "      dtype=&#x27;datetime64[ns]&#x27;)</pre></div></li><li class='xr-var-item'><div class='xr-var-name'><span>lat_ph</span></div><div class='xr-var-dims'>(delta_time)</div><div class='xr-var-dtype'>float64</div><div class='xr-var-preview xr-preview'>...</div><input id='attrs-e0d42125-a6a2-4af7-8526-49bed02b8f34' class='xr-var-attrs-in' type='checkbox' ><label for='attrs-e0d42125-a6a2-4af7-8526-49bed02b8f34' title='Show/Hide attributes'><svg class='icon xr-icon-file-text2'><use xlink:href='#icon-file-text2'></use></svg></label><input id='data-f2c27a82-785c-4fde-a371-3373338cc8d6' class='xr-var-data-in' type='checkbox'><label for='data-f2c27a82-785c-4fde-a371-3373338cc8d6' title='Show/Hide data repr'><svg class='icon xr-icon-database'><use xlink:href='#icon-database'></use></svg></label><div class='xr-var-attrs'><dl class='xr-attrs'><dt><span>long_name :</span></dt><dd>Latitude</dd><dt><span>standard_name :</span></dt><dd>latitude</dd><dt><span>units :</span></dt><dd>degrees_north</dd><dt><span>source :</span></dt><dd>ATL03g ATBD, Section 3.4</dd><dt><span>valid_min :</span></dt><dd>-90.0</dd><dt><span>valid_max :</span></dt><dd>90.0</dd><dt><span>contentType :</span></dt><dd>modelResult</dd><dt><span>description :</span></dt><dd>Latitude of each received photon. Computed from the ECF Cartesian coordinates of the bounce point.</dd></dl></div><div class='xr-var-data'><pre>[19219882 values with dtype=float64]</pre></div></li><li class='xr-var-item'><div class='xr-var-name'><span>lon_ph</span></div><div class='xr-var-dims'>(delta_time)</div><div class='xr-var-dtype'>float64</div><div class='xr-var-preview xr-preview'>...</div><input id='attrs-99e389fe-ba17-48eb-b3c4-e0c0fba2e588' class='xr-var-attrs-in' type='checkbox' ><label for='attrs-99e389fe-ba17-48eb-b3c4-e0c0fba2e588' title='Show/Hide attributes'><svg class='icon xr-icon-file-text2'><use xlink:href='#icon-file-text2'></use></svg></label><input id='data-8c6d305a-523c-497a-a282-3df3483fe8ea' class='xr-var-data-in' type='checkbox'><label for='data-8c6d305a-523c-497a-a282-3df3483fe8ea' title='Show/Hide data repr'><svg class='icon xr-icon-database'><use xlink:href='#icon-database'></use></svg></label><div class='xr-var-attrs'><dl class='xr-attrs'><dt><span>long_name :</span></dt><dd>Longitude</dd><dt><span>standard_name :</span></dt><dd>longitude</dd><dt><span>units :</span></dt><dd>degrees_east</dd><dt><span>source :</span></dt><dd>ATL03g ATBD, Section 3.4</dd><dt><span>valid_min :</span></dt><dd>-180.0</dd><dt><span>valid_max :</span></dt><dd>180.0</dd><dt><span>contentType :</span></dt><dd>modelResult</dd><dt><span>description :</span></dt><dd>Longitude of each received photon. Computed from the ECF Cartesian coordinates of the bounce point.</dd></dl></div><div class='xr-var-data'><pre>[19219882 values with dtype=float64]</pre></div></li></ul></div></li><li class='xr-section-item'><input id='section-0a70cdfb-5fce-4255-bd43-b99983c132b7' class='xr-section-summary-in' type='checkbox'  checked><label for='section-0a70cdfb-5fce-4255-bd43-b99983c132b7' class='xr-section-summary' >Data variables: <span>(9)</span></label><div class='xr-section-inline-details'></div><div class='xr-section-details'><ul class='xr-var-list'><li class='xr-var-item'><div class='xr-var-name'><span>dist_ph_across</span></div><div class='xr-var-dims'>(delta_time)</div><div class='xr-var-dtype'>float32</div><div class='xr-var-preview xr-preview'>...</div><input id='attrs-6c0b6523-f834-4fd6-b7c0-ceb607a32db9' class='xr-var-attrs-in' type='checkbox' ><label for='attrs-6c0b6523-f834-4fd6-b7c0-ceb607a32db9' title='Show/Hide attributes'><svg class='icon xr-icon-file-text2'><use xlink:href='#icon-file-text2'></use></svg></label><input id='data-fca633ac-e6cf-42ad-bead-ee92c7d2111b' class='xr-var-data-in' type='checkbox'><label for='data-fca633ac-e6cf-42ad-bead-ee92c7d2111b' title='Show/Hide data repr'><svg class='icon xr-icon-database'><use xlink:href='#icon-database'></use></svg></label><div class='xr-var-attrs'><dl class='xr-attrs'><dt><span>long_name :</span></dt><dd>Distance off RGT.</dd><dt><span>units :</span></dt><dd>meters</dd><dt><span>source :</span></dt><dd>ATL03 ATBD, Section 3.1</dd><dt><span>contentType :</span></dt><dd>modelResult</dd><dt><span>description :</span></dt><dd>Across-track distance projected to the ellipsoid of the received photon from the reference ground track.  This is based on the Along-Track Segment algorithm described in Section 3.1.</dd></dl></div><div class='xr-var-data'><pre>[19219882 values with dtype=float32]</pre></div></li><li class='xr-var-item'><div class='xr-var-name'><span>dist_ph_along</span></div><div class='xr-var-dims'>(delta_time)</div><div class='xr-var-dtype'>float32</div><div class='xr-var-preview xr-preview'>...</div><input id='attrs-f8c56855-fcf7-4235-a80a-d4e8f8dd678c' class='xr-var-attrs-in' type='checkbox' ><label for='attrs-f8c56855-fcf7-4235-a80a-d4e8f8dd678c' title='Show/Hide attributes'><svg class='icon xr-icon-file-text2'><use xlink:href='#icon-file-text2'></use></svg></label><input id='data-ac5db9aa-4295-451c-afe8-83a264f3f6b2' class='xr-var-data-in' type='checkbox'><label for='data-ac5db9aa-4295-451c-afe8-83a264f3f6b2' title='Show/Hide data repr'><svg class='icon xr-icon-database'><use xlink:href='#icon-database'></use></svg></label><div class='xr-var-attrs'><dl class='xr-attrs'><dt><span>long_name :</span></dt><dd>Distance from equator crossing.</dd><dt><span>units :</span></dt><dd>meters</dd><dt><span>source :</span></dt><dd>ATL03 ATBD, Section 3.1</dd><dt><span>contentType :</span></dt><dd>modelResult</dd><dt><span>description :</span></dt><dd>Along-track distance in a segment projected to the ellipsoid of the received photon, based on the Along-Track Segment algorithm.  Total along track distance can be found by adding this value to the sum of segment lengths measured from the start of the most recent reference groundtrack.</dd></dl></div><div class='xr-var-data'><pre>[19219882 values with dtype=float32]</pre></div></li><li class='xr-var-item'><div class='xr-var-name'><span>h_ph</span></div><div class='xr-var-dims'>(delta_time)</div><div class='xr-var-dtype'>float32</div><div class='xr-var-preview xr-preview'>...</div><input id='attrs-65aa6f38-c8c4-44de-8922-5ec0280fff3d' class='xr-var-attrs-in' type='checkbox' ><label for='attrs-65aa6f38-c8c4-44de-8922-5ec0280fff3d' title='Show/Hide attributes'><svg class='icon xr-icon-file-text2'><use xlink:href='#icon-file-text2'></use></svg></label><input id='data-a8f201fa-0f24-4ae9-9b38-dae80fedd79b' class='xr-var-data-in' type='checkbox'><label for='data-a8f201fa-0f24-4ae9-9b38-dae80fedd79b' title='Show/Hide data repr'><svg class='icon xr-icon-database'><use xlink:href='#icon-database'></use></svg></label><div class='xr-var-attrs'><dl class='xr-attrs'><dt><span>long_name :</span></dt><dd>Photon WGS84 Height</dd><dt><span>standard_name :</span></dt><dd>height</dd><dt><span>units :</span></dt><dd>meters</dd><dt><span>source :</span></dt><dd>ATL03g ATBD, Section 3.4</dd><dt><span>contentType :</span></dt><dd>physicalMeasurement</dd><dt><span>description :</span></dt><dd>Height of each received photon, relative to the WGS-84 ellipsoid including the geophysical corrections noted in Section 6. Please note that neither the geoid, ocean tide nor the dynamic atmosphere (DAC) corrections are applied to the ellipsoidal heights.</dd></dl></div><div class='xr-var-data'><pre>[19219882 values with dtype=float32]</pre></div></li><li class='xr-var-item'><div class='xr-var-name'><span>pce_mframe_cnt</span></div><div class='xr-var-dims'>(delta_time)</div><div class='xr-var-dtype'>uint32</div><div class='xr-var-preview xr-preview'>...</div><input id='attrs-2fe1d4e3-0ca9-44d1-a53e-9dc81959fcab' class='xr-var-attrs-in' type='checkbox' ><label for='attrs-2fe1d4e3-0ca9-44d1-a53e-9dc81959fcab' title='Show/Hide attributes'><svg class='icon xr-icon-file-text2'><use xlink:href='#icon-file-text2'></use></svg></label><input id='data-fb2d6021-df13-49ef-95b7-c264a6b6c539' class='xr-var-data-in' type='checkbox'><label for='data-fb2d6021-df13-49ef-95b7-c264a6b6c539' title='Show/Hide data repr'><svg class='icon xr-icon-database'><use xlink:href='#icon-database'></use></svg></label><div class='xr-var-attrs'><dl class='xr-attrs'><dt><span>long_name :</span></dt><dd>PCE Major frame counter</dd><dt><span>units :</span></dt><dd>counts</dd><dt><span>source :</span></dt><dd>Retained from prior a_alt_science_ph packet</dd><dt><span>contentType :</span></dt><dd>referenceInformation</dd><dt><span>description :</span></dt><dd>The major frame counter is read from the digital flow controller in a given PCE card.  The counter identifies individual major frames across diag and science packets. Used as part of the photon ID.</dd></dl></div><div class='xr-var-data'><pre>[19219882 values with dtype=uint32]</pre></div></li><li class='xr-var-item'><div class='xr-var-name'><span>ph_id_channel</span></div><div class='xr-var-dims'>(delta_time)</div><div class='xr-var-dtype'>uint8</div><div class='xr-var-preview xr-preview'>...</div><input id='attrs-c22bf3a1-569a-45f5-81d0-0439650df302' class='xr-var-attrs-in' type='checkbox' ><label for='attrs-c22bf3a1-569a-45f5-81d0-0439650df302' title='Show/Hide attributes'><svg class='icon xr-icon-file-text2'><use xlink:href='#icon-file-text2'></use></svg></label><input id='data-ee7a381a-20fc-4830-aebd-555ae1835634' class='xr-var-data-in' type='checkbox'><label for='data-ee7a381a-20fc-4830-aebd-555ae1835634' title='Show/Hide data repr'><svg class='icon xr-icon-database'><use xlink:href='#icon-database'></use></svg></label><div class='xr-var-attrs'><dl class='xr-attrs'><dt><span>long_name :</span></dt><dd>Receive channel id</dd><dt><span>units :</span></dt><dd>1</dd><dt><span>source :</span></dt><dd>Derived as part of Photon ID</dd><dt><span>valid_min :</span></dt><dd>1</dd><dt><span>valid_max :</span></dt><dd>120</dd><dt><span>contentType :</span></dt><dd>referenceInformation</dd><dt><span>description :</span></dt><dd>Channel number assigned for each received photon event. This is part of the photon ID. Values range from 1 to 120 to span all channels and rise/fall edges. Values 1 to 60 are for falling edge; PCE1 (1 to 20), PCE 2 (21 to 40) and PCE3 (41 to 60). Values 61 to 120 are for rising edge; PCE1 (61 to 80), PCE 2 (81 to 100) and PC3 (101 to 120).</dd></dl></div><div class='xr-var-data'><pre>[19219882 values with dtype=uint8]</pre></div></li><li class='xr-var-item'><div class='xr-var-name'><span>ph_id_count</span></div><div class='xr-var-dims'>(delta_time)</div><div class='xr-var-dtype'>int8</div><div class='xr-var-preview xr-preview'>...</div><input id='attrs-02a783e5-cdd0-4f93-a757-f4ccd9509bd1' class='xr-var-attrs-in' type='checkbox' ><label for='attrs-02a783e5-cdd0-4f93-a757-f4ccd9509bd1' title='Show/Hide attributes'><svg class='icon xr-icon-file-text2'><use xlink:href='#icon-file-text2'></use></svg></label><input id='data-cc9553f8-c45d-49f5-b840-dc58a639a5bf' class='xr-var-data-in' type='checkbox'><label for='data-cc9553f8-c45d-49f5-b840-dc58a639a5bf' title='Show/Hide data repr'><svg class='icon xr-icon-database'><use xlink:href='#icon-database'></use></svg></label><div class='xr-var-attrs'><dl class='xr-attrs'><dt><span>long_name :</span></dt><dd>photon event counter</dd><dt><span>units :</span></dt><dd>counts</dd><dt><span>source :</span></dt><dd>Derived as part of Photon ID</dd><dt><span>contentType :</span></dt><dd>referenceInformation</dd><dt><span>description :</span></dt><dd>The photon event counter is part of photon ID and counts from 1 for each channel until reset by laser pulse counter.</dd></dl></div><div class='xr-var-data'><pre>[19219882 values with dtype=int8]</pre></div></li><li class='xr-var-item'><div class='xr-var-name'><span>ph_id_pulse</span></div><div class='xr-var-dims'>(delta_time)</div><div class='xr-var-dtype'>uint8</div><div class='xr-var-preview xr-preview'>...</div><input id='attrs-27c624c8-d596-4c7d-b83e-0f63754d321f' class='xr-var-attrs-in' type='checkbox' ><label for='attrs-27c624c8-d596-4c7d-b83e-0f63754d321f' title='Show/Hide attributes'><svg class='icon xr-icon-file-text2'><use xlink:href='#icon-file-text2'></use></svg></label><input id='data-39a9130f-7e07-4c2c-98ff-c72c393ed59c' class='xr-var-data-in' type='checkbox'><label for='data-39a9130f-7e07-4c2c-98ff-c72c393ed59c' title='Show/Hide data repr'><svg class='icon xr-icon-database'><use xlink:href='#icon-database'></use></svg></label><div class='xr-var-attrs'><dl class='xr-attrs'><dt><span>long_name :</span></dt><dd>laser pulse counter</dd><dt><span>units :</span></dt><dd>counts</dd><dt><span>source :</span></dt><dd>Derived as part of Photon ID</dd><dt><span>contentType :</span></dt><dd>referenceInformation</dd><dt><span>description :</span></dt><dd>The laser pulse counter is part of photon ID and counts from 1 to 200 and is reset for each new major frame.</dd></dl></div><div class='xr-var-data'><pre>[19219882 values with dtype=uint8]</pre></div></li><li class='xr-var-item'><div class='xr-var-name'><span>quality_ph</span></div><div class='xr-var-dims'>(delta_time)</div><div class='xr-var-dtype'>int8</div><div class='xr-var-preview xr-preview'>...</div><input id='attrs-b2daa850-7397-40b2-9162-6401ca3c98b0' class='xr-var-attrs-in' type='checkbox' ><label for='attrs-b2daa850-7397-40b2-9162-6401ca3c98b0' title='Show/Hide attributes'><svg class='icon xr-icon-file-text2'><use xlink:href='#icon-file-text2'></use></svg></label><input id='data-fd701b8b-a1ba-4287-90b6-a7d6a1aa7403' class='xr-var-data-in' type='checkbox'><label for='data-fd701b8b-a1ba-4287-90b6-a7d6a1aa7403' title='Show/Hide data repr'><svg class='icon xr-icon-database'><use xlink:href='#icon-database'></use></svg></label><div class='xr-var-attrs'><dl class='xr-attrs'><dt><span>long_name :</span></dt><dd>Photon Quality</dd><dt><span>units :</span></dt><dd>1</dd><dt><span>source :</span></dt><dd>ATL03 ATBD</dd><dt><span>valid_min :</span></dt><dd>0</dd><dt><span>valid_max :</span></dt><dd>3</dd><dt><span>contentType :</span></dt><dd>qualityInformation</dd><dt><span>description :</span></dt><dd>Indicates the quality of the associated photon. 0=nominal, 1=possible_afterpulse, 2=possible_impulse_response_effect, 3=possible_tep. Use this flag in conjunction with signal_conf_ph to identify those photons that are likely noise or likely signal.</dd><dt><span>flag_meanings :</span></dt><dd>nominal possible_afterpulse possible_impulse_response_effect possible_tep</dd><dt><span>flag_values :</span></dt><dd>[0 1 2 3]</dd></dl></div><div class='xr-var-data'><pre>[19219882 values with dtype=int8]</pre></div></li><li class='xr-var-item'><div class='xr-var-name'><span>signal_conf_ph</span></div><div class='xr-var-dims'>(delta_time, ds_surf_type)</div><div class='xr-var-dtype'>int8</div><div class='xr-var-preview xr-preview'>...</div><input id='attrs-0436b723-a40d-4213-ba04-89c7aa43406e' class='xr-var-attrs-in' type='checkbox' ><label for='attrs-0436b723-a40d-4213-ba04-89c7aa43406e' title='Show/Hide attributes'><svg class='icon xr-icon-file-text2'><use xlink:href='#icon-file-text2'></use></svg></label><input id='data-38ae2c89-ad8e-4a0e-878b-404d1c5b6c81' class='xr-var-data-in' type='checkbox'><label for='data-38ae2c89-ad8e-4a0e-878b-404d1c5b6c81' title='Show/Hide data repr'><svg class='icon xr-icon-database'><use xlink:href='#icon-database'></use></svg></label><div class='xr-var-attrs'><dl class='xr-attrs'><dt><span>long_name :</span></dt><dd>Photon Signal Confidence</dd><dt><span>units :</span></dt><dd>1</dd><dt><span>source :</span></dt><dd>ATL03 ATBD, Section 5, Conf</dd><dt><span>valid_min :</span></dt><dd>-2</dd><dt><span>valid_max :</span></dt><dd>4</dd><dt><span>contentType :</span></dt><dd>qualityInformation</dd><dt><span>description :</span></dt><dd>Confidence level associated with each photon event selected as signal. 0=noise. 1=added to allow for buffer but algorithm classifies as background; 2=low; 3=med; 4=high).  This parameter is a 5xN array where N is the number of photons in the granule, and the 5 rows indicate signal finding for each surface type (in order: land, ocean, sea ice, land ice and inland water). Events not associated with a specific surface type have a confidence level of -1. Events evaluated as TEP returns have a confidence level of -2.</dd><dt><span>flag_meanings :</span></dt><dd>possible_tep not_considered noise buffer low medium high</dd><dt><span>flag_values :</span></dt><dd>[-2 -1  0  1  2  3  4]</dd></dl></div><div class='xr-var-data'><pre>[96099410 values with dtype=int8]</pre></div></li></ul></div></li><li class='xr-section-item'><input id='section-f5e67993-0e52-438e-acc2-bb1814a0054b' class='xr-section-summary-in' type='checkbox'  checked><label for='section-f5e67993-0e52-438e-acc2-bb1814a0054b' class='xr-section-summary' >Attributes: <span>(2)</span></label><div class='xr-section-inline-details'></div><div class='xr-section-details'><dl class='xr-attrs'><dt><span>Description :</span></dt><dd>Contains arrays of the parameters for each received photon.</dd><dt><span>data_rate :</span></dt><dd>Data are stored at the photon detection rate.</dd></dl></div></li></ul></div></div>"
      ],
      "text/plain": [
       "<xarray.Dataset>\n",
       "Dimensions:         (delta_time: 19219882, ds_surf_type: 5)\n",
       "Coordinates:\n",
       "  * delta_time      (delta_time) datetime64[ns] 2019-06-22T06:14:14.882866488...\n",
       "    lat_ph          (delta_time) float64 ...\n",
       "    lon_ph          (delta_time) float64 ...\n",
       "Dimensions without coordinates: ds_surf_type\n",
       "Data variables:\n",
       "    dist_ph_across  (delta_time) float32 ...\n",
       "    dist_ph_along   (delta_time) float32 ...\n",
       "    h_ph            (delta_time) float32 ...\n",
       "    pce_mframe_cnt  (delta_time) uint32 ...\n",
       "    ph_id_channel   (delta_time) uint8 ...\n",
       "    ph_id_count     (delta_time) int8 ...\n",
       "    ph_id_pulse     (delta_time) uint8 ...\n",
       "    quality_ph      (delta_time) int8 ...\n",
       "    signal_conf_ph  (delta_time, ds_surf_type) int8 ...\n",
       "Attributes:\n",
       "    Description:  Contains arrays of the parameters for each received photon.\n",
       "    data_rate:    Data are stored at the photon detection rate."
      ]
     },
     "execution_count": 29,
     "metadata": {},
     "output_type": "execute_result"
    }
   ],
   "source": [
    "ds = xr.open_dataset(outfile, group='/gt1l/heights')\n",
    "ds"
   ]
  },
  {
   "cell_type": "markdown",
   "metadata": {},
   "source": [
    "### Determine variables of interest: SST, ocean color, chemistry..."
   ]
  },
  {
   "cell_type": "code",
   "execution_count": 30,
   "metadata": {},
   "outputs": [
    {
     "name": "stdout",
     "output_type": "stream",
     "text": [
      "'sses_standard_deviation_4um'\n",
      "'l2p_flags'\n",
      "'time'\n",
      "'dt_analysis'\n",
      "'sses_standard_deviation'\n",
      "'sst_dtime'\n",
      "'sses_bias_4um'\n",
      "'lat'\n",
      "'sea_surface_temperature_4um'\n",
      "'sses_bias'\n",
      "'lon'\n",
      "'sea_surface_temperature'\n",
      "'quality_level'\n",
      "'wind_speed'\n",
      "'quality_level_4um'\n"
     ]
    }
   ],
   "source": [
    "response = requests.get(cmr_collection_url, \n",
    "                        params={\n",
    "                            'concept_id': modis_concept_id,\n",
    "                            },\n",
    "                        headers={\n",
    "                            'Accept': 'application/json'\n",
    "                            }\n",
    "                       )\n",
    "response = response.json()\n",
    "variables = response['feed']['entry'][0]['associations']['variables']\n",
    "output_format = \"umm_json\"\n",
    "var_url = \"https://cmr.earthdata.nasa.gov/search/variables\"\n",
    "for i in range(len(variables)):\n",
    "    response = requests.get(f\"{var_url}.{output_format}?concept-id={variables[i]}\")\n",
    "    response = response.json()\n",
    "    # print(response['items'][0]['umm'])\n",
    "    if 'Name' in response['items'][0]['umm']: pprint(response['items'][0]['umm']['Name'])"
   ]
  },
  {
   "cell_type": "markdown",
   "metadata": {},
   "source": [
    "### Pull those variables into xarray \"in place\""
   ]
  },
  {
   "cell_type": "markdown",
   "metadata": {},
   "source": [
    "#### First, we need to determine the granules returned from our time and area of interest"
   ]
  },
  {
   "cell_type": "code",
   "execution_count": 31,
   "metadata": {},
   "outputs": [
    {
     "name": "stdout",
     "output_type": "stream",
     "text": [
      "200\n",
      "11\n"
     ]
    }
   ],
   "source": [
    "response = requests.get(granule_url, \n",
    "                        params={\n",
    "                            'concept_id': 'C1940475563-POCLOUD',\n",
    "                            'temporal': temporal,\n",
    "                            'bounding_box': bounding_box,\n",
    "                            'page_size': 200,\n",
    "                            },\n",
    "                        headers={\n",
    "                            'Accept': 'application/json'\n",
    "                            }\n",
    "                       )\n",
    "print(response.status_code)\n",
    "print(response.headers['CMR-Hits'])"
   ]
  },
  {
   "cell_type": "code",
   "execution_count": 32,
   "metadata": {},
   "outputs": [
    {
     "name": "stdout",
     "output_type": "stream",
     "text": [
      "['63.232 157.13 88.897 180', '63.232 -180 88.897 -49.902']\n",
      "https://archive.podaac.earthdata.nasa.gov/podaac-ops-cumulus-protected/MODIS_T-JPL-L2P-v2019.0/20190622061001-JPL-L2P_GHRSST-SSTskin-MODIS_T-D-v02.0-fv01.0.nc\n",
      "['68.267 -74.33 89.998 104.028']\n",
      "https://archive.podaac.earthdata.nasa.gov/podaac-ops-cumulus-public/MODIS_T-JPL-L2P-v2019.0/20190622093001-JPL-L2P_GHRSST-SSTskin-MODIS_T-D-v02.0-fv01.0.nc.md5\n",
      "['68.29 -100.13 89.998 79.455']\n",
      "https://archive.podaac.earthdata.nasa.gov/podaac-ops-cumulus-protected/MODIS_T-JPL-L2P-v2019.0/20190622111001-JPL-L2P_GHRSST-SSTskin-MODIS_T-D-v02.0-fv01.0.nc\n",
      "['65.983 -125.049 89.998 54.765']\n",
      "https://archive.podaac.earthdata.nasa.gov/podaac-ops-cumulus-protected/MODIS_T-JPL-L2P-v2019.0/20190622125000-JPL-L2P_GHRSST-SSTskin-MODIS_T-D-v02.0-fv01.0.nc\n",
      "['64.671 -149.702 89.996 30.029']\n",
      "https://archive.podaac.earthdata.nasa.gov/podaac-ops-cumulus-protected/MODIS_T-JPL-L2P-v2019.0/20190622142500-JPL-L2P_GHRSST-SSTskin-MODIS_T-D-v02.0-fv01.0.nc\n",
      "['63.327 -130.186 89.093 27.231']\n",
      "https://archive.podaac.earthdata.nasa.gov/podaac-ops-cumulus-protected/MODIS_T-JPL-L2P-v2019.0/20190622143000-JPL-L2P_GHRSST-SSTskin-MODIS_T-D-v02.0-fv01.0.nc\n",
      "['67.198 -173.585 89.996 5.195']\n",
      "https://archive.podaac.earthdata.nasa.gov/podaac-ops-cumulus-protected/MODIS_T-JPL-L2P-v2019.0/20190622160501-JPL-L2P_GHRSST-SSTskin-MODIS_T-D-v02.0-fv01.0.nc\n",
      "['60.312 -112.093 85.084 -9.865']\n",
      "https://archive.podaac.earthdata.nasa.gov/podaac-ops-cumulus-public/MODIS_T-JPL-L2P-v2019.0/20190622161000-JPL-L2P_GHRSST-SSTskin-MODIS_T-D-v02.0-fv01.0.nc.md5\n",
      "['69.227 170.467 89.994 180', '69.227 -180 89.994 -27.697']\n",
      "https://archive.podaac.earthdata.nasa.gov/podaac-ops-cumulus-protected/MODIS_T-JPL-L2P-v2019.0/20190622174501-JPL-L2P_GHRSST-SSTskin-MODIS_T-D-v02.0-fv01.0.nc\n",
      "['67.177 144.606 89.998 180', '67.177 -180 89.998 -53.628']\n",
      "https://archive.podaac.earthdata.nasa.gov/podaac-ops-cumulus-public/MODIS_T-JPL-L2P-v2019.0/20190622192501-JPL-L2P_GHRSST-SSTskin-MODIS_T-D-v02.0-fv01.0.nc.md5\n",
      "['63.354 -65.91 89.07 91.026']\n",
      "https://archive.podaac.earthdata.nasa.gov/podaac-ops-cumulus-public/MODIS_T-JPL-L2P-v2019.0/20190622210001-JPL-L2P_GHRSST-SSTskin-MODIS_T-D-v02.0-fv01.0.nc.md5\n"
     ]
    }
   ],
   "source": [
    "modis_granules_meta = response.json()['feed']['entry']\n",
    "for granule_meta in modis_granules_meta:\n",
    "    print(granule_meta['boxes'])\n",
    "    print(granule_meta['links'][0]['href'])"
   ]
  },
  {
   "cell_type": "code",
   "execution_count": 33,
   "metadata": {},
   "outputs": [
    {
     "data": {
      "text/plain": [
       "{'boxes': ['63.232 157.13 88.897 180', '63.232 -180 88.897 -49.902'],\n",
       " 'time_start': '2019-06-22T06:10:01.000Z',\n",
       " 'updated': '2021-08-02T03:36:16.284Z',\n",
       " 'dataset_id': 'GHRSST Level 2P Global Sea Surface Skin Temperature from the Moderate Resolution Imaging Spectroradiometer (MODIS) on the NASA Terra satellite (GDS2)',\n",
       " 'data_center': 'POCLOUD',\n",
       " 'title': '20190622061001-JPL-L2P_GHRSST-SSTskin-MODIS_T-D-v02.0-fv01.0',\n",
       " 'coordinate_system': 'CARTESIAN',\n",
       " 'day_night_flag': 'UNSPECIFIED',\n",
       " 'time_end': '2019-06-22T06:14:59.000Z',\n",
       " 'id': 'G1956337241-POCLOUD',\n",
       " 'original_format': 'UMM_JSON',\n",
       " 'granule_size': '9.34600830078125E-5',\n",
       " 'browse_flag': False,\n",
       " 'collection_concept_id': 'C1940475563-POCLOUD',\n",
       " 'online_access_flag': True,\n",
       " 'links': [{'rel': 'http://esipfed.org/ns/fedsearch/1.1/data#',\n",
       "   'title': 'Download 20190622061001-JPL-L2P_GHRSST-SSTskin-MODIS_T-D-v02.0-fv01.0.nc',\n",
       "   'hreflang': 'en-US',\n",
       "   'href': 'https://archive.podaac.earthdata.nasa.gov/podaac-ops-cumulus-protected/MODIS_T-JPL-L2P-v2019.0/20190622061001-JPL-L2P_GHRSST-SSTskin-MODIS_T-D-v02.0-fv01.0.nc'},\n",
       "  {'rel': 'http://esipfed.org/ns/fedsearch/1.1/metadata#',\n",
       "   'title': 'Download 20190622061001-JPL-L2P_GHRSST-SSTskin-MODIS_T-D-v02.0-fv01.0.nc.md5',\n",
       "   'hreflang': 'en-US',\n",
       "   'href': 'https://archive.podaac.earthdata.nasa.gov/podaac-ops-cumulus-public/MODIS_T-JPL-L2P-v2019.0/20190622061001-JPL-L2P_GHRSST-SSTskin-MODIS_T-D-v02.0-fv01.0.nc.md5'},\n",
       "  {'rel': 'http://esipfed.org/ns/fedsearch/1.1/metadata#',\n",
       "   'title': 'api endpoint to retrieve temporary credentials valid for same-region direct s3 access',\n",
       "   'hreflang': 'en-US',\n",
       "   'href': 'https://archive.podaac.earthdata.nasa.gov/s3credentials'},\n",
       "  {'rel': 'http://esipfed.org/ns/fedsearch/1.1/service#',\n",
       "   'title': 'OPeNDAP request URL',\n",
       "   'hreflang': 'en-US',\n",
       "   'href': 'https://opendap.earthdata.nasa.gov/collections/C1940475563-POCLOUD/granules/20190622061001-JPL-L2P_GHRSST-SSTskin-MODIS_T-D-v02.0-fv01.0'},\n",
       "  {'inherited': True,\n",
       "   'rel': 'http://esipfed.org/ns/fedsearch/1.1/documentation#',\n",
       "   'hreflang': 'en-US',\n",
       "   'href': 'https://podaac-tools.jpl.nasa.gov/drive/files/OceanTemperature/ghrsst/docs/GDS20r5.pdf'},\n",
       "  {'inherited': True,\n",
       "   'rel': 'http://esipfed.org/ns/fedsearch/1.1/documentation#',\n",
       "   'hreflang': 'en-US',\n",
       "   'href': 'https://oceancolor.gsfc.nasa.gov/atbd/sst4/'},\n",
       "  {'inherited': True,\n",
       "   'rel': 'http://esipfed.org/ns/fedsearch/1.1/documentation#',\n",
       "   'hreflang': 'en-US',\n",
       "   'href': 'https://oceancolor.gsfc.nasa.gov/reprocessing/r2019/sst/'},\n",
       "  {'inherited': True,\n",
       "   'rel': 'http://esipfed.org/ns/fedsearch/1.1/documentation#',\n",
       "   'hreflang': 'en-US',\n",
       "   'href': 'https://oceancolor.gsfc.nasa.gov/atbd/sst/flag/'},\n",
       "  {'inherited': True,\n",
       "   'rel': 'http://esipfed.org/ns/fedsearch/1.1/documentation#',\n",
       "   'hreflang': 'en-US',\n",
       "   'href': 'https://ghrsst.jpl.nasa.gov'},\n",
       "  {'inherited': True,\n",
       "   'rel': 'http://esipfed.org/ns/fedsearch/1.1/documentation#',\n",
       "   'hreflang': 'en-US',\n",
       "   'href': 'https://modis.gsfc.nasa.gov/data/atbd/atbd_mod25.pdf'},\n",
       "  {'inherited': True,\n",
       "   'rel': 'http://esipfed.org/ns/fedsearch/1.1/documentation#',\n",
       "   'hreflang': 'en-US',\n",
       "   'href': 'https://podaac.jpl.nasa.gov/forum/viewforum.php?f=18&sid=e2d67e5a01815fc6e39fcd2087ed8bc8'},\n",
       "  {'inherited': True,\n",
       "   'rel': 'http://esipfed.org/ns/fedsearch/1.1/documentation#',\n",
       "   'hreflang': 'en-US',\n",
       "   'href': 'https://oceancolor.gsfc.nasa.gov/atbd/sst/'},\n",
       "  {'inherited': True,\n",
       "   'rel': 'http://esipfed.org/ns/fedsearch/1.1/documentation#',\n",
       "   'hreflang': 'en-US',\n",
       "   'href': 'https://github.com/podaac/data-readers'},\n",
       "  {'inherited': True,\n",
       "   'rel': 'http://esipfed.org/ns/fedsearch/1.1/documentation#',\n",
       "   'hreflang': 'en-US',\n",
       "   'href': 'http://www.ghrsst.org'},\n",
       "  {'inherited': True,\n",
       "   'rel': 'http://esipfed.org/ns/fedsearch/1.1/documentation#',\n",
       "   'hreflang': 'en-US',\n",
       "   'href': 'https://podaac.jpl.nasa.gov/CitingPODAAC'},\n",
       "  {'inherited': True,\n",
       "   'rel': 'http://esipfed.org/ns/fedsearch/1.1/data#',\n",
       "   'hreflang': 'en-US',\n",
       "   'href': ' https://cmr.earthdata.nasa.gov/virtual-directory/collections/C1940475563-POCLOUD'},\n",
       "  {'inherited': True,\n",
       "   'rel': 'http://esipfed.org/ns/fedsearch/1.1/documentation#',\n",
       "   'hreflang': 'en-US',\n",
       "   'href': 'https://github.com/podaac/tutorials/blob/master/notebooks/MODIS_L2P_SST_DataCube.ipynb'},\n",
       "  {'inherited': True,\n",
       "   'rel': 'http://esipfed.org/ns/fedsearch/1.1/data#',\n",
       "   'hreflang': 'en-US',\n",
       "   'href': 'https://search.earthdata.nasa.gov/search/granules?p=C1940475563-POCLOUD'}]}"
      ]
     },
     "execution_count": 33,
     "metadata": {},
     "output_type": "execute_result"
    }
   ],
   "source": [
    "modis_granules_meta[0]"
   ]
  },
  {
   "cell_type": "code",
   "execution_count": 36,
   "metadata": {},
   "outputs": [
    {
     "data": {
      "text/plain": [
       "'s3://podaac-ops-cumulus-protected/MODIS_T-JPL-L2P-v2019.0/20190622061001-JPL-L2P_GHRSST-SSTskin-MODIS_T-D-v02.0-fv01.0.nc'"
      ]
     },
     "execution_count": 36,
     "metadata": {},
     "output_type": "execute_result"
    }
   ],
   "source": [
    "https_link = modis_granules_meta[0]['links'][0]['href']\n",
    "s3_link = https_link.replace('https://archive.podaac.earthdata.nasa.gov/','s3://')\n",
    "s3_link"
   ]
  },
  {
   "cell_type": "markdown",
   "metadata": {},
   "source": [
    "### Get S3 credentials"
   ]
  },
  {
   "cell_type": "code",
   "execution_count": 37,
   "metadata": {},
   "outputs": [],
   "source": [
    "s3_credentials = requests.get('https://archive.podaac.earthdata.nasa.gov/s3credentials').json()"
   ]
  },
  {
   "cell_type": "code",
   "execution_count": 38,
   "metadata": {},
   "outputs": [],
   "source": [
    "s3_fs = s3fs.S3FileSystem(\n",
    "    key=s3_credentials[\"accessKeyId\"],\n",
    "    secret=s3_credentials[\"secretAccessKey\"],\n",
    "    token=s3_credentials[\"sessionToken\"],\n",
    ")"
   ]
  },
  {
   "cell_type": "markdown",
   "metadata": {},
   "source": [
    "### Open a s3 file"
   ]
  },
  {
   "cell_type": "code",
   "execution_count": 43,
   "metadata": {},
   "outputs": [
    {
     "data": {
      "text/html": [
       "<div><svg style=\"position: absolute; width: 0; height: 0; overflow: hidden\">\n",
       "<defs>\n",
       "<symbol id=\"icon-database\" viewBox=\"0 0 32 32\">\n",
       "<path d=\"M16 0c-8.837 0-16 2.239-16 5v4c0 2.761 7.163 5 16 5s16-2.239 16-5v-4c0-2.761-7.163-5-16-5z\"></path>\n",
       "<path d=\"M16 17c-8.837 0-16-2.239-16-5v6c0 2.761 7.163 5 16 5s16-2.239 16-5v-6c0 2.761-7.163 5-16 5z\"></path>\n",
       "<path d=\"M16 26c-8.837 0-16-2.239-16-5v6c0 2.761 7.163 5 16 5s16-2.239 16-5v-6c0 2.761-7.163 5-16 5z\"></path>\n",
       "</symbol>\n",
       "<symbol id=\"icon-file-text2\" viewBox=\"0 0 32 32\">\n",
       "<path d=\"M28.681 7.159c-0.694-0.947-1.662-2.053-2.724-3.116s-2.169-2.030-3.116-2.724c-1.612-1.182-2.393-1.319-2.841-1.319h-15.5c-1.378 0-2.5 1.121-2.5 2.5v27c0 1.378 1.122 2.5 2.5 2.5h23c1.378 0 2.5-1.122 2.5-2.5v-19.5c0-0.448-0.137-1.23-1.319-2.841zM24.543 5.457c0.959 0.959 1.712 1.825 2.268 2.543h-4.811v-4.811c0.718 0.556 1.584 1.309 2.543 2.268zM28 29.5c0 0.271-0.229 0.5-0.5 0.5h-23c-0.271 0-0.5-0.229-0.5-0.5v-27c0-0.271 0.229-0.5 0.5-0.5 0 0 15.499-0 15.5 0v7c0 0.552 0.448 1 1 1h7v19.5z\"></path>\n",
       "<path d=\"M23 26h-14c-0.552 0-1-0.448-1-1s0.448-1 1-1h14c0.552 0 1 0.448 1 1s-0.448 1-1 1z\"></path>\n",
       "<path d=\"M23 22h-14c-0.552 0-1-0.448-1-1s0.448-1 1-1h14c0.552 0 1 0.448 1 1s-0.448 1-1 1z\"></path>\n",
       "<path d=\"M23 18h-14c-0.552 0-1-0.448-1-1s0.448-1 1-1h14c0.552 0 1 0.448 1 1s-0.448 1-1 1z\"></path>\n",
       "</symbol>\n",
       "</defs>\n",
       "</svg>\n",
       "<style>/* CSS stylesheet for displaying xarray objects in jupyterlab.\n",
       " *\n",
       " */\n",
       "\n",
       ":root {\n",
       "  --xr-font-color0: var(--jp-content-font-color0, rgba(0, 0, 0, 1));\n",
       "  --xr-font-color2: var(--jp-content-font-color2, rgba(0, 0, 0, 0.54));\n",
       "  --xr-font-color3: var(--jp-content-font-color3, rgba(0, 0, 0, 0.38));\n",
       "  --xr-border-color: var(--jp-border-color2, #e0e0e0);\n",
       "  --xr-disabled-color: var(--jp-layout-color3, #bdbdbd);\n",
       "  --xr-background-color: var(--jp-layout-color0, white);\n",
       "  --xr-background-color-row-even: var(--jp-layout-color1, white);\n",
       "  --xr-background-color-row-odd: var(--jp-layout-color2, #eeeeee);\n",
       "}\n",
       "\n",
       "html[theme=dark],\n",
       "body.vscode-dark {\n",
       "  --xr-font-color0: rgba(255, 255, 255, 1);\n",
       "  --xr-font-color2: rgba(255, 255, 255, 0.54);\n",
       "  --xr-font-color3: rgba(255, 255, 255, 0.38);\n",
       "  --xr-border-color: #1F1F1F;\n",
       "  --xr-disabled-color: #515151;\n",
       "  --xr-background-color: #111111;\n",
       "  --xr-background-color-row-even: #111111;\n",
       "  --xr-background-color-row-odd: #313131;\n",
       "}\n",
       "\n",
       ".xr-wrap {\n",
       "  display: block;\n",
       "  min-width: 300px;\n",
       "  max-width: 700px;\n",
       "}\n",
       "\n",
       ".xr-text-repr-fallback {\n",
       "  /* fallback to plain text repr when CSS is not injected (untrusted notebook) */\n",
       "  display: none;\n",
       "}\n",
       "\n",
       ".xr-header {\n",
       "  padding-top: 6px;\n",
       "  padding-bottom: 6px;\n",
       "  margin-bottom: 4px;\n",
       "  border-bottom: solid 1px var(--xr-border-color);\n",
       "}\n",
       "\n",
       ".xr-header > div,\n",
       ".xr-header > ul {\n",
       "  display: inline;\n",
       "  margin-top: 0;\n",
       "  margin-bottom: 0;\n",
       "}\n",
       "\n",
       ".xr-obj-type,\n",
       ".xr-array-name {\n",
       "  margin-left: 2px;\n",
       "  margin-right: 10px;\n",
       "}\n",
       "\n",
       ".xr-obj-type {\n",
       "  color: var(--xr-font-color2);\n",
       "}\n",
       "\n",
       ".xr-sections {\n",
       "  padding-left: 0 !important;\n",
       "  display: grid;\n",
       "  grid-template-columns: 150px auto auto 1fr 20px 20px;\n",
       "}\n",
       "\n",
       ".xr-section-item {\n",
       "  display: contents;\n",
       "}\n",
       "\n",
       ".xr-section-item input {\n",
       "  display: none;\n",
       "}\n",
       "\n",
       ".xr-section-item input + label {\n",
       "  color: var(--xr-disabled-color);\n",
       "}\n",
       "\n",
       ".xr-section-item input:enabled + label {\n",
       "  cursor: pointer;\n",
       "  color: var(--xr-font-color2);\n",
       "}\n",
       "\n",
       ".xr-section-item input:enabled + label:hover {\n",
       "  color: var(--xr-font-color0);\n",
       "}\n",
       "\n",
       ".xr-section-summary {\n",
       "  grid-column: 1;\n",
       "  color: var(--xr-font-color2);\n",
       "  font-weight: 500;\n",
       "}\n",
       "\n",
       ".xr-section-summary > span {\n",
       "  display: inline-block;\n",
       "  padding-left: 0.5em;\n",
       "}\n",
       "\n",
       ".xr-section-summary-in:disabled + label {\n",
       "  color: var(--xr-font-color2);\n",
       "}\n",
       "\n",
       ".xr-section-summary-in + label:before {\n",
       "  display: inline-block;\n",
       "  content: '►';\n",
       "  font-size: 11px;\n",
       "  width: 15px;\n",
       "  text-align: center;\n",
       "}\n",
       "\n",
       ".xr-section-summary-in:disabled + label:before {\n",
       "  color: var(--xr-disabled-color);\n",
       "}\n",
       "\n",
       ".xr-section-summary-in:checked + label:before {\n",
       "  content: '▼';\n",
       "}\n",
       "\n",
       ".xr-section-summary-in:checked + label > span {\n",
       "  display: none;\n",
       "}\n",
       "\n",
       ".xr-section-summary,\n",
       ".xr-section-inline-details {\n",
       "  padding-top: 4px;\n",
       "  padding-bottom: 4px;\n",
       "}\n",
       "\n",
       ".xr-section-inline-details {\n",
       "  grid-column: 2 / -1;\n",
       "}\n",
       "\n",
       ".xr-section-details {\n",
       "  display: none;\n",
       "  grid-column: 1 / -1;\n",
       "  margin-bottom: 5px;\n",
       "}\n",
       "\n",
       ".xr-section-summary-in:checked ~ .xr-section-details {\n",
       "  display: contents;\n",
       "}\n",
       "\n",
       ".xr-array-wrap {\n",
       "  grid-column: 1 / -1;\n",
       "  display: grid;\n",
       "  grid-template-columns: 20px auto;\n",
       "}\n",
       "\n",
       ".xr-array-wrap > label {\n",
       "  grid-column: 1;\n",
       "  vertical-align: top;\n",
       "}\n",
       "\n",
       ".xr-preview {\n",
       "  color: var(--xr-font-color3);\n",
       "}\n",
       "\n",
       ".xr-array-preview,\n",
       ".xr-array-data {\n",
       "  padding: 0 5px !important;\n",
       "  grid-column: 2;\n",
       "}\n",
       "\n",
       ".xr-array-data,\n",
       ".xr-array-in:checked ~ .xr-array-preview {\n",
       "  display: none;\n",
       "}\n",
       "\n",
       ".xr-array-in:checked ~ .xr-array-data,\n",
       ".xr-array-preview {\n",
       "  display: inline-block;\n",
       "}\n",
       "\n",
       ".xr-dim-list {\n",
       "  display: inline-block !important;\n",
       "  list-style: none;\n",
       "  padding: 0 !important;\n",
       "  margin: 0;\n",
       "}\n",
       "\n",
       ".xr-dim-list li {\n",
       "  display: inline-block;\n",
       "  padding: 0;\n",
       "  margin: 0;\n",
       "}\n",
       "\n",
       ".xr-dim-list:before {\n",
       "  content: '(';\n",
       "}\n",
       "\n",
       ".xr-dim-list:after {\n",
       "  content: ')';\n",
       "}\n",
       "\n",
       ".xr-dim-list li:not(:last-child):after {\n",
       "  content: ',';\n",
       "  padding-right: 5px;\n",
       "}\n",
       "\n",
       ".xr-has-index {\n",
       "  font-weight: bold;\n",
       "}\n",
       "\n",
       ".xr-var-list,\n",
       ".xr-var-item {\n",
       "  display: contents;\n",
       "}\n",
       "\n",
       ".xr-var-item > div,\n",
       ".xr-var-item label,\n",
       ".xr-var-item > .xr-var-name span {\n",
       "  background-color: var(--xr-background-color-row-even);\n",
       "  margin-bottom: 0;\n",
       "}\n",
       "\n",
       ".xr-var-item > .xr-var-name:hover span {\n",
       "  padding-right: 5px;\n",
       "}\n",
       "\n",
       ".xr-var-list > li:nth-child(odd) > div,\n",
       ".xr-var-list > li:nth-child(odd) > label,\n",
       ".xr-var-list > li:nth-child(odd) > .xr-var-name span {\n",
       "  background-color: var(--xr-background-color-row-odd);\n",
       "}\n",
       "\n",
       ".xr-var-name {\n",
       "  grid-column: 1;\n",
       "}\n",
       "\n",
       ".xr-var-dims {\n",
       "  grid-column: 2;\n",
       "}\n",
       "\n",
       ".xr-var-dtype {\n",
       "  grid-column: 3;\n",
       "  text-align: right;\n",
       "  color: var(--xr-font-color2);\n",
       "}\n",
       "\n",
       ".xr-var-preview {\n",
       "  grid-column: 4;\n",
       "}\n",
       "\n",
       ".xr-var-name,\n",
       ".xr-var-dims,\n",
       ".xr-var-dtype,\n",
       ".xr-preview,\n",
       ".xr-attrs dt {\n",
       "  white-space: nowrap;\n",
       "  overflow: hidden;\n",
       "  text-overflow: ellipsis;\n",
       "  padding-right: 10px;\n",
       "}\n",
       "\n",
       ".xr-var-name:hover,\n",
       ".xr-var-dims:hover,\n",
       ".xr-var-dtype:hover,\n",
       ".xr-attrs dt:hover {\n",
       "  overflow: visible;\n",
       "  width: auto;\n",
       "  z-index: 1;\n",
       "}\n",
       "\n",
       ".xr-var-attrs,\n",
       ".xr-var-data {\n",
       "  display: none;\n",
       "  background-color: var(--xr-background-color) !important;\n",
       "  padding-bottom: 5px !important;\n",
       "}\n",
       "\n",
       ".xr-var-attrs-in:checked ~ .xr-var-attrs,\n",
       ".xr-var-data-in:checked ~ .xr-var-data {\n",
       "  display: block;\n",
       "}\n",
       "\n",
       ".xr-var-data > table {\n",
       "  float: right;\n",
       "}\n",
       "\n",
       ".xr-var-name span,\n",
       ".xr-var-data,\n",
       ".xr-attrs {\n",
       "  padding-left: 25px !important;\n",
       "}\n",
       "\n",
       ".xr-attrs,\n",
       ".xr-var-attrs,\n",
       ".xr-var-data {\n",
       "  grid-column: 1 / -1;\n",
       "}\n",
       "\n",
       "dl.xr-attrs {\n",
       "  padding: 0;\n",
       "  margin: 0;\n",
       "  display: grid;\n",
       "  grid-template-columns: 125px auto;\n",
       "}\n",
       "\n",
       ".xr-attrs dt,\n",
       ".xr-attrs dd {\n",
       "  padding: 0;\n",
       "  margin: 0;\n",
       "  float: left;\n",
       "  padding-right: 10px;\n",
       "  width: auto;\n",
       "}\n",
       "\n",
       ".xr-attrs dt {\n",
       "  font-weight: normal;\n",
       "  grid-column: 1;\n",
       "}\n",
       "\n",
       ".xr-attrs dt:hover span {\n",
       "  display: inline-block;\n",
       "  background: var(--xr-background-color);\n",
       "  padding-right: 10px;\n",
       "}\n",
       "\n",
       ".xr-attrs dd {\n",
       "  grid-column: 2;\n",
       "  white-space: pre-wrap;\n",
       "  word-break: break-all;\n",
       "}\n",
       "\n",
       ".xr-icon-database,\n",
       ".xr-icon-file-text2 {\n",
       "  display: inline-block;\n",
       "  vertical-align: middle;\n",
       "  width: 1em;\n",
       "  height: 1.5em !important;\n",
       "  stroke-width: 0;\n",
       "  stroke: currentColor;\n",
       "  fill: currentColor;\n",
       "}\n",
       "</style><pre class='xr-text-repr-fallback'>&lt;xarray.Dataset&gt;\n",
       "Dimensions:                  (nj: 2030, ni: 1354, time: 1)\n",
       "Coordinates:\n",
       "  * time                     (time) int32 1214028601\n",
       "Dimensions without coordinates: nj, ni\n",
       "Data variables:\n",
       "    lat                      (nj, ni) float32 ...\n",
       "    lon                      (nj, ni) float32 ...\n",
       "    sea_surface_temperature  (time, nj, ni) int16 ...\n",
       "    sst_dtime                (time, nj, ni) int16 ...\n",
       "    quality_level            (time, nj, ni) int8 ...\n",
       "    sses_bias                (time, nj, ni) int8 ...\n",
       "    sses_standard_deviation  (time, nj, ni) int8 ...\n",
       "    l2p_flags                (time, nj, ni) int16 ...\n",
       "    chlorophyll_a            (time, nj, ni) float32 ...\n",
       "    K_490                    (time, nj, ni) int16 ...\n",
       "    wind_speed               (time, nj, ni) int8 ...\n",
       "    dt_analysis              (time, nj, ni) int8 ...\n",
       "Attributes: (12/49)\n",
       "    Conventions:                [b&#x27;CF-1.7, ACDD-1.3&#x27;]\n",
       "    title:                      [b&#x27;MODIS Terra L2P SST&#x27;]\n",
       "    summary:                    [b&#x27;Sea surface temperature retrievals produce...\n",
       "    references:                 [b&#x27;GHRSST Data Processing Specification v2r5&#x27;]\n",
       "    institution:                [b&#x27;NASA/JPL/OBPG/RSMAS&#x27;]\n",
       "    history:                    [b&#x27;MODIS L2P created at JPL PO.DAAC&#x27;]\n",
       "    ...                         ...\n",
       "    publisher_email:            [b&#x27;ghrsst-po@nceo.ac.uk&#x27;]\n",
       "    processing_level:           [b&#x27;L2P&#x27;]\n",
       "    cdm_data_type:              [b&#x27;swath&#x27;]\n",
       "    startDirection:             [b&#x27;Ascending&#x27;]\n",
       "    endDirection:               [b&#x27;Ascending&#x27;]\n",
       "    day_night_flag:             [b&#x27;Day&#x27;]</pre><div class='xr-wrap' hidden><div class='xr-header'><div class='xr-obj-type'>xarray.Dataset</div></div><ul class='xr-sections'><li class='xr-section-item'><input id='section-74c8adcf-9b1e-4f78-9fd5-5a2246dc705c' class='xr-section-summary-in' type='checkbox' disabled ><label for='section-74c8adcf-9b1e-4f78-9fd5-5a2246dc705c' class='xr-section-summary'  title='Expand/collapse section'>Dimensions:</label><div class='xr-section-inline-details'><ul class='xr-dim-list'><li><span>nj</span>: 2030</li><li><span>ni</span>: 1354</li><li><span class='xr-has-index'>time</span>: 1</li></ul></div><div class='xr-section-details'></div></li><li class='xr-section-item'><input id='section-dc4d33ac-0540-4219-8341-dbe384de25d7' class='xr-section-summary-in' type='checkbox'  checked><label for='section-dc4d33ac-0540-4219-8341-dbe384de25d7' class='xr-section-summary' >Coordinates: <span>(1)</span></label><div class='xr-section-inline-details'></div><div class='xr-section-details'><ul class='xr-var-list'><li class='xr-var-item'><div class='xr-var-name'><span class='xr-has-index'>time</span></div><div class='xr-var-dims'>(time)</div><div class='xr-var-dtype'>int32</div><div class='xr-var-preview xr-preview'>1214028601</div><input id='attrs-fd53e0ec-7f4d-4bc0-a005-5b3beb1803c9' class='xr-var-attrs-in' type='checkbox' ><label for='attrs-fd53e0ec-7f4d-4bc0-a005-5b3beb1803c9' title='Show/Hide attributes'><svg class='icon xr-icon-file-text2'><use xlink:href='#icon-file-text2'></use></svg></label><input id='data-152dae18-4795-4d15-b201-f2995f77aaaa' class='xr-var-data-in' type='checkbox'><label for='data-152dae18-4795-4d15-b201-f2995f77aaaa' title='Show/Hide data repr'><svg class='icon xr-icon-database'><use xlink:href='#icon-database'></use></svg></label><div class='xr-var-attrs'><dl class='xr-attrs'><dt><span>long_name :</span></dt><dd>[b&#x27;reference time of sst file&#x27;]</dd><dt><span>standard_name :</span></dt><dd>[b&#x27;time&#x27;]</dd><dt><span>units :</span></dt><dd>[b&#x27;seconds since 1981-01-01 00:00:00&#x27;]</dd><dt><span>comment :</span></dt><dd>[b&#x27;time of first sensor observation&#x27;]</dd><dt><span>coverage_content_type :</span></dt><dd>[b&#x27;coordinate&#x27;]</dd></dl></div><div class='xr-var-data'><pre>array([1214028601], dtype=int32)</pre></div></li></ul></div></li><li class='xr-section-item'><input id='section-5bbb70b8-67bd-4c22-9e44-b033cfabfe4b' class='xr-section-summary-in' type='checkbox'  checked><label for='section-5bbb70b8-67bd-4c22-9e44-b033cfabfe4b' class='xr-section-summary' >Data variables: <span>(12)</span></label><div class='xr-section-inline-details'></div><div class='xr-section-details'><ul class='xr-var-list'><li class='xr-var-item'><div class='xr-var-name'><span>lat</span></div><div class='xr-var-dims'>(nj, ni)</div><div class='xr-var-dtype'>float32</div><div class='xr-var-preview xr-preview'>...</div><input id='attrs-2a4c9f26-809c-4ce5-be63-50eda74825b8' class='xr-var-attrs-in' type='checkbox' ><label for='attrs-2a4c9f26-809c-4ce5-be63-50eda74825b8' title='Show/Hide attributes'><svg class='icon xr-icon-file-text2'><use xlink:href='#icon-file-text2'></use></svg></label><input id='data-9c6d1443-d555-4159-8dc0-4be2a6ace8cf' class='xr-var-data-in' type='checkbox'><label for='data-9c6d1443-d555-4159-8dc0-4be2a6ace8cf' title='Show/Hide data repr'><svg class='icon xr-icon-database'><use xlink:href='#icon-database'></use></svg></label><div class='xr-var-attrs'><dl class='xr-attrs'><dt><span>long_name :</span></dt><dd>[b&#x27;latitude&#x27;]</dd><dt><span>standard_name :</span></dt><dd>[b&#x27;latitude&#x27;]</dd><dt><span>units :</span></dt><dd>[b&#x27;degrees_north&#x27;]</dd><dt><span>_FillValue :</span></dt><dd>[-999.]</dd><dt><span>valid_min :</span></dt><dd>[-90.]</dd><dt><span>valid_max :</span></dt><dd>[90.]</dd><dt><span>comment :</span></dt><dd>[b&#x27;geographical coordinates, WGS84 projection&#x27;]</dd><dt><span>coverage_content_type :</span></dt><dd>[b&#x27;coordinate&#x27;]</dd></dl></div><div class='xr-var-data'><pre>[2748620 values with dtype=float32]</pre></div></li><li class='xr-var-item'><div class='xr-var-name'><span>lon</span></div><div class='xr-var-dims'>(nj, ni)</div><div class='xr-var-dtype'>float32</div><div class='xr-var-preview xr-preview'>...</div><input id='attrs-e12df2df-7eb0-42d1-bd7a-61484e58528f' class='xr-var-attrs-in' type='checkbox' ><label for='attrs-e12df2df-7eb0-42d1-bd7a-61484e58528f' title='Show/Hide attributes'><svg class='icon xr-icon-file-text2'><use xlink:href='#icon-file-text2'></use></svg></label><input id='data-baf0551f-643b-4f0d-8723-345bfebf9770' class='xr-var-data-in' type='checkbox'><label for='data-baf0551f-643b-4f0d-8723-345bfebf9770' title='Show/Hide data repr'><svg class='icon xr-icon-database'><use xlink:href='#icon-database'></use></svg></label><div class='xr-var-attrs'><dl class='xr-attrs'><dt><span>long_name :</span></dt><dd>[b&#x27;longitude&#x27;]</dd><dt><span>standard_name :</span></dt><dd>[b&#x27;longitude&#x27;]</dd><dt><span>units :</span></dt><dd>[b&#x27;degrees_east&#x27;]</dd><dt><span>_FillValue :</span></dt><dd>[-999.]</dd><dt><span>valid_min :</span></dt><dd>[-180.]</dd><dt><span>valid_max :</span></dt><dd>[180.]</dd><dt><span>comment :</span></dt><dd>[b&#x27;geographical coordinates, WGS84 projection&#x27;]</dd><dt><span>coverage_content_type :</span></dt><dd>[b&#x27;coordinate&#x27;]</dd></dl></div><div class='xr-var-data'><pre>[2748620 values with dtype=float32]</pre></div></li><li class='xr-var-item'><div class='xr-var-name'><span>sea_surface_temperature</span></div><div class='xr-var-dims'>(time, nj, ni)</div><div class='xr-var-dtype'>int16</div><div class='xr-var-preview xr-preview'>...</div><input id='attrs-d85662aa-60b0-4e91-a2df-88da3d3dab00' class='xr-var-attrs-in' type='checkbox' ><label for='attrs-d85662aa-60b0-4e91-a2df-88da3d3dab00' title='Show/Hide attributes'><svg class='icon xr-icon-file-text2'><use xlink:href='#icon-file-text2'></use></svg></label><input id='data-09a33123-3776-4fd7-b5a8-783b68e8ef9f' class='xr-var-data-in' type='checkbox'><label for='data-09a33123-3776-4fd7-b5a8-783b68e8ef9f' title='Show/Hide data repr'><svg class='icon xr-icon-database'><use xlink:href='#icon-database'></use></svg></label><div class='xr-var-attrs'><dl class='xr-attrs'><dt><span>long_name :</span></dt><dd>[b&#x27;sea surface temperature&#x27;]</dd><dt><span>standard_name :</span></dt><dd>[b&#x27;sea_surface_skin_temperature&#x27;]</dd><dt><span>units :</span></dt><dd>[b&#x27;kelvin&#x27;]</dd><dt><span>_FillValue :</span></dt><dd>[-32767]</dd><dt><span>valid_min :</span></dt><dd>[-1000]</dd><dt><span>valid_max :</span></dt><dd>[10000]</dd><dt><span>comment :</span></dt><dd>[b&#x27;sea surface temperature from thermal IR (11 um) channels&#x27;]</dd><dt><span>scale_factor :</span></dt><dd>[0.005]</dd><dt><span>add_offset :</span></dt><dd>[273.15]</dd><dt><span>source :</span></dt><dd>[b&#x27;NASA and University of Miami&#x27;]</dd><dt><span>coordinates :</span></dt><dd>[b&#x27;lon lat&#x27;]</dd><dt><span>coverage_content_type :</span></dt><dd>[b&#x27;physicalMeasurement&#x27;]</dd></dl></div><div class='xr-var-data'><pre>[2748620 values with dtype=int16]</pre></div></li><li class='xr-var-item'><div class='xr-var-name'><span>sst_dtime</span></div><div class='xr-var-dims'>(time, nj, ni)</div><div class='xr-var-dtype'>int16</div><div class='xr-var-preview xr-preview'>...</div><input id='attrs-084e6f68-5d5f-48a9-a133-037b9e4ea297' class='xr-var-attrs-in' type='checkbox' ><label for='attrs-084e6f68-5d5f-48a9-a133-037b9e4ea297' title='Show/Hide attributes'><svg class='icon xr-icon-file-text2'><use xlink:href='#icon-file-text2'></use></svg></label><input id='data-ce8615c1-9ee5-435c-8e8f-9dff06f6aab9' class='xr-var-data-in' type='checkbox'><label for='data-ce8615c1-9ee5-435c-8e8f-9dff06f6aab9' title='Show/Hide data repr'><svg class='icon xr-icon-database'><use xlink:href='#icon-database'></use></svg></label><div class='xr-var-attrs'><dl class='xr-attrs'><dt><span>long_name :</span></dt><dd>[b&#x27;time difference from reference time&#x27;]</dd><dt><span>units :</span></dt><dd>[b&#x27;seconds&#x27;]</dd><dt><span>_FillValue :</span></dt><dd>[-32768]</dd><dt><span>valid_min :</span></dt><dd>[-32767]</dd><dt><span>valid_max :</span></dt><dd>[32767]</dd><dt><span>comment :</span></dt><dd>[b&#x27;time plus sst_dtime gives seconds after 00:00:00 UTC January 1, 1981&#x27;]</dd><dt><span>coordinates :</span></dt><dd>[b&#x27;lon lat&#x27;]</dd><dt><span>coverage_content_type :</span></dt><dd>[b&#x27;referenceInformation&#x27;]</dd></dl></div><div class='xr-var-data'><pre>[2748620 values with dtype=int16]</pre></div></li><li class='xr-var-item'><div class='xr-var-name'><span>quality_level</span></div><div class='xr-var-dims'>(time, nj, ni)</div><div class='xr-var-dtype'>int8</div><div class='xr-var-preview xr-preview'>...</div><input id='attrs-9b00abee-6819-468c-a26c-71a709740f76' class='xr-var-attrs-in' type='checkbox' ><label for='attrs-9b00abee-6819-468c-a26c-71a709740f76' title='Show/Hide attributes'><svg class='icon xr-icon-file-text2'><use xlink:href='#icon-file-text2'></use></svg></label><input id='data-cb13b0ec-7c66-4f9a-bcca-a3d351c14a97' class='xr-var-data-in' type='checkbox'><label for='data-cb13b0ec-7c66-4f9a-bcca-a3d351c14a97' title='Show/Hide data repr'><svg class='icon xr-icon-database'><use xlink:href='#icon-database'></use></svg></label><div class='xr-var-attrs'><dl class='xr-attrs'><dt><span>long_name :</span></dt><dd>[b&#x27;quality level of SST pixel&#x27;]</dd><dt><span>_FillValue :</span></dt><dd>[-128]</dd><dt><span>valid_min :</span></dt><dd>[0]</dd><dt><span>valid_max :</span></dt><dd>[5]</dd><dt><span>comment :</span></dt><dd>[b&#x27;thermal IR SST proximity confidence value; signed byte array: WARNING Some applications are unable to properly handle signed byte values. If values are encountered &gt; 127, please subtract 256 from this reported value&#x27;]</dd><dt><span>coordinates :</span></dt><dd>[b&#x27;lon lat&#x27;]</dd><dt><span>flag_values :</span></dt><dd>[0 1 2 3 4 5]</dd><dt><span>flag_meanings :</span></dt><dd>[b&#x27;no_data bad_data worst_quality low_quality acceptable_quality best_quality&#x27;]</dd><dt><span>coverage_content_type :</span></dt><dd>[b&#x27;qualityInformation&#x27;]</dd></dl></div><div class='xr-var-data'><pre>[2748620 values with dtype=int8]</pre></div></li><li class='xr-var-item'><div class='xr-var-name'><span>sses_bias</span></div><div class='xr-var-dims'>(time, nj, ni)</div><div class='xr-var-dtype'>int8</div><div class='xr-var-preview xr-preview'>...</div><input id='attrs-8b98110e-c66d-44e7-9920-866d04fddfa0' class='xr-var-attrs-in' type='checkbox' ><label for='attrs-8b98110e-c66d-44e7-9920-866d04fddfa0' title='Show/Hide attributes'><svg class='icon xr-icon-file-text2'><use xlink:href='#icon-file-text2'></use></svg></label><input id='data-7f448c2c-8353-45e8-b8f2-3867ddab304f' class='xr-var-data-in' type='checkbox'><label for='data-7f448c2c-8353-45e8-b8f2-3867ddab304f' title='Show/Hide data repr'><svg class='icon xr-icon-database'><use xlink:href='#icon-database'></use></svg></label><div class='xr-var-attrs'><dl class='xr-attrs'><dt><span>long_name :</span></dt><dd>[b&#x27;SSES bias error based on proximity confidence flags&#x27;]</dd><dt><span>units :</span></dt><dd>[b&#x27;kelvin&#x27;]</dd><dt><span>_FillValue :</span></dt><dd>[-128]</dd><dt><span>valid_min :</span></dt><dd>[-127]</dd><dt><span>valid_max :</span></dt><dd>[127]</dd><dt><span>comment :</span></dt><dd>[b&#x27;thermal IR SST bias error; signed byte array: WARNING Some applications are unable to properly handle signed byte values. If values are encountered &gt; 127, please subtract 256 from this reported value&#x27;]</dd><dt><span>scale_factor :</span></dt><dd>[0.15748031]</dd><dt><span>add_offset :</span></dt><dd>[0.]</dd><dt><span>coordinates :</span></dt><dd>[b&#x27;lon lat&#x27;]</dd><dt><span>coverage_content_type :</span></dt><dd>[b&#x27;auxiliaryInformation&#x27;]</dd></dl></div><div class='xr-var-data'><pre>[2748620 values with dtype=int8]</pre></div></li><li class='xr-var-item'><div class='xr-var-name'><span>sses_standard_deviation</span></div><div class='xr-var-dims'>(time, nj, ni)</div><div class='xr-var-dtype'>int8</div><div class='xr-var-preview xr-preview'>...</div><input id='attrs-3bb49b27-37ac-4d8f-b755-feec2768c472' class='xr-var-attrs-in' type='checkbox' ><label for='attrs-3bb49b27-37ac-4d8f-b755-feec2768c472' title='Show/Hide attributes'><svg class='icon xr-icon-file-text2'><use xlink:href='#icon-file-text2'></use></svg></label><input id='data-236dd7fc-3dbb-44b2-af89-1d4d4650ffbf' class='xr-var-data-in' type='checkbox'><label for='data-236dd7fc-3dbb-44b2-af89-1d4d4650ffbf' title='Show/Hide data repr'><svg class='icon xr-icon-database'><use xlink:href='#icon-database'></use></svg></label><div class='xr-var-attrs'><dl class='xr-attrs'><dt><span>long_name :</span></dt><dd>[b&#x27;SSES standard deviation error based on proximity confidence flags&#x27;]</dd><dt><span>units :</span></dt><dd>[b&#x27;kelvin&#x27;]</dd><dt><span>_FillValue :</span></dt><dd>[-128]</dd><dt><span>valid_min :</span></dt><dd>[-127]</dd><dt><span>valid_max :</span></dt><dd>[127]</dd><dt><span>comment :</span></dt><dd>[b&#x27;thermal IR SST standard deviation error; signed byte array: WARNING Some applications are unable to properly handle signed byte values. If values are encountered &gt; 127, please subtract 256 from this reported value&#x27;]</dd><dt><span>scale_factor :</span></dt><dd>[0.07874016]</dd><dt><span>add_offset :</span></dt><dd>[10.]</dd><dt><span>coordinates :</span></dt><dd>[b&#x27;lon lat&#x27;]</dd><dt><span>coverage_content_type :</span></dt><dd>[b&#x27;auxiliaryInformation&#x27;]</dd></dl></div><div class='xr-var-data'><pre>[2748620 values with dtype=int8]</pre></div></li><li class='xr-var-item'><div class='xr-var-name'><span>l2p_flags</span></div><div class='xr-var-dims'>(time, nj, ni)</div><div class='xr-var-dtype'>int16</div><div class='xr-var-preview xr-preview'>...</div><input id='attrs-4bf591aa-790d-4fcf-8a4c-b3438db1a536' class='xr-var-attrs-in' type='checkbox' ><label for='attrs-4bf591aa-790d-4fcf-8a4c-b3438db1a536' title='Show/Hide attributes'><svg class='icon xr-icon-file-text2'><use xlink:href='#icon-file-text2'></use></svg></label><input id='data-1fae5093-fb36-42aa-9dd9-4464b865dfd7' class='xr-var-data-in' type='checkbox'><label for='data-1fae5093-fb36-42aa-9dd9-4464b865dfd7' title='Show/Hide data repr'><svg class='icon xr-icon-database'><use xlink:href='#icon-database'></use></svg></label><div class='xr-var-attrs'><dl class='xr-attrs'><dt><span>long_name :</span></dt><dd>[b&#x27;L2P flags&#x27;]</dd><dt><span>valid_min :</span></dt><dd>[0]</dd><dt><span>valid_max :</span></dt><dd>[16]</dd><dt><span>comment :</span></dt><dd>[b&#x27;These flags can be used to further filter data variables&#x27;]</dd><dt><span>coordinates :</span></dt><dd>[b&#x27;lon lat&#x27;]</dd><dt><span>flag_meanings :</span></dt><dd>[b&#x27;microwave land ice lake river&#x27;]</dd><dt><span>flag_masks :</span></dt><dd>[ 1  2  4  8 16]</dd><dt><span>coverage_content_type :</span></dt><dd>[b&#x27;qualityInformation&#x27;]</dd></dl></div><div class='xr-var-data'><pre>[2748620 values with dtype=int16]</pre></div></li><li class='xr-var-item'><div class='xr-var-name'><span>chlorophyll_a</span></div><div class='xr-var-dims'>(time, nj, ni)</div><div class='xr-var-dtype'>float32</div><div class='xr-var-preview xr-preview'>...</div><input id='attrs-e4755121-3aa8-45c0-af12-af69d2825838' class='xr-var-attrs-in' type='checkbox' ><label for='attrs-e4755121-3aa8-45c0-af12-af69d2825838' title='Show/Hide attributes'><svg class='icon xr-icon-file-text2'><use xlink:href='#icon-file-text2'></use></svg></label><input id='data-10b2ede6-e65b-4806-9528-f607eacd21dd' class='xr-var-data-in' type='checkbox'><label for='data-10b2ede6-e65b-4806-9528-f607eacd21dd' title='Show/Hide data repr'><svg class='icon xr-icon-database'><use xlink:href='#icon-database'></use></svg></label><div class='xr-var-attrs'><dl class='xr-attrs'><dt><span>long_name :</span></dt><dd>[b&#x27;Chlorophyll Concentration, OC3 Algorithm&#x27;]</dd><dt><span>units :</span></dt><dd>[b&#x27;mg m^-3&#x27;]</dd><dt><span>_FillValue :</span></dt><dd>[-32767.]</dd><dt><span>valid_min :</span></dt><dd>[0.001]</dd><dt><span>valid_max :</span></dt><dd>[100.]</dd><dt><span>comment :</span></dt><dd>[b&#x27;non L2P core field&#x27;]</dd><dt><span>coordinates :</span></dt><dd>[b&#x27;lon lat&#x27;]</dd><dt><span>coverage_content_type :</span></dt><dd>[b&#x27;auxiliaryInformation&#x27;]</dd></dl></div><div class='xr-var-data'><pre>[2748620 values with dtype=float32]</pre></div></li><li class='xr-var-item'><div class='xr-var-name'><span>K_490</span></div><div class='xr-var-dims'>(time, nj, ni)</div><div class='xr-var-dtype'>int16</div><div class='xr-var-preview xr-preview'>...</div><input id='attrs-ad8b833b-d9bb-4ed6-bf1e-0590e32447f6' class='xr-var-attrs-in' type='checkbox' ><label for='attrs-ad8b833b-d9bb-4ed6-bf1e-0590e32447f6' title='Show/Hide attributes'><svg class='icon xr-icon-file-text2'><use xlink:href='#icon-file-text2'></use></svg></label><input id='data-80560287-910c-4e59-b168-93a56822171b' class='xr-var-data-in' type='checkbox'><label for='data-80560287-910c-4e59-b168-93a56822171b' title='Show/Hide data repr'><svg class='icon xr-icon-database'><use xlink:href='#icon-database'></use></svg></label><div class='xr-var-attrs'><dl class='xr-attrs'><dt><span>long_name :</span></dt><dd>[b&#x27;Diffuse attenuation coefficient at 490 nm (OBPG)&#x27;]</dd><dt><span>units :</span></dt><dd>[b&#x27;m^-1&#x27;]</dd><dt><span>_FillValue :</span></dt><dd>[-32767]</dd><dt><span>valid_min :</span></dt><dd>[50]</dd><dt><span>valid_max :</span></dt><dd>[30000]</dd><dt><span>comment :</span></dt><dd>[b&#x27;non L2P core field&#x27;]</dd><dt><span>scale_factor :</span></dt><dd>[0.0002]</dd><dt><span>add_offset :</span></dt><dd>[0.]</dd><dt><span>coordinates :</span></dt><dd>[b&#x27;lon lat&#x27;]</dd><dt><span>coverage_content_type :</span></dt><dd>[b&#x27;auxiliaryInformation&#x27;]</dd></dl></div><div class='xr-var-data'><pre>[2748620 values with dtype=int16]</pre></div></li><li class='xr-var-item'><div class='xr-var-name'><span>wind_speed</span></div><div class='xr-var-dims'>(time, nj, ni)</div><div class='xr-var-dtype'>int8</div><div class='xr-var-preview xr-preview'>...</div><input id='attrs-be35502d-2ec0-4b95-84b9-36d04e2f19e5' class='xr-var-attrs-in' type='checkbox' ><label for='attrs-be35502d-2ec0-4b95-84b9-36d04e2f19e5' title='Show/Hide attributes'><svg class='icon xr-icon-file-text2'><use xlink:href='#icon-file-text2'></use></svg></label><input id='data-f5773937-37d1-48a6-a5c8-94209936fe37' class='xr-var-data-in' type='checkbox'><label for='data-f5773937-37d1-48a6-a5c8-94209936fe37' title='Show/Hide data repr'><svg class='icon xr-icon-database'><use xlink:href='#icon-database'></use></svg></label><div class='xr-var-attrs'><dl class='xr-attrs'><dt><span>long_name :</span></dt><dd>[b&#x27;10m wind speed&#x27;]</dd><dt><span>standard_name :</span></dt><dd>[b&#x27;wind_speed&#x27;]</dd><dt><span>units :</span></dt><dd>[b&#x27;m s-1&#x27;]</dd><dt><span>_FillValue :</span></dt><dd>[-128]</dd><dt><span>valid_min :</span></dt><dd>[-127]</dd><dt><span>valid_max :</span></dt><dd>[127]</dd><dt><span>comment :</span></dt><dd>[b&#x27;Wind at 10 meters above the sea surface&#x27;]</dd><dt><span>scale_factor :</span></dt><dd>[0.2]</dd><dt><span>add_offset :</span></dt><dd>[25.]</dd><dt><span>source :</span></dt><dd>[b&#x27;TBD.  Placeholder.  Currently empty&#x27;]</dd><dt><span>coordinates :</span></dt><dd>[b&#x27;lon lat&#x27;]</dd><dt><span>grid_mapping :</span></dt><dd>[b&#x27;TBD&#x27;]</dd><dt><span>time_offset :</span></dt><dd>[2.]</dd><dt><span>height :</span></dt><dd>[b&#x27;10 m&#x27;]</dd><dt><span>coverage_content_type :</span></dt><dd>[b&#x27;auxiliaryInformation&#x27;]</dd></dl></div><div class='xr-var-data'><pre>[2748620 values with dtype=int8]</pre></div></li><li class='xr-var-item'><div class='xr-var-name'><span>dt_analysis</span></div><div class='xr-var-dims'>(time, nj, ni)</div><div class='xr-var-dtype'>int8</div><div class='xr-var-preview xr-preview'>...</div><input id='attrs-af36a35a-19a3-4d51-ac27-72aa2470a6a0' class='xr-var-attrs-in' type='checkbox' ><label for='attrs-af36a35a-19a3-4d51-ac27-72aa2470a6a0' title='Show/Hide attributes'><svg class='icon xr-icon-file-text2'><use xlink:href='#icon-file-text2'></use></svg></label><input id='data-82051af3-69f4-44ae-aeff-9e13eec7e672' class='xr-var-data-in' type='checkbox'><label for='data-82051af3-69f4-44ae-aeff-9e13eec7e672' title='Show/Hide data repr'><svg class='icon xr-icon-database'><use xlink:href='#icon-database'></use></svg></label><div class='xr-var-attrs'><dl class='xr-attrs'><dt><span>long_name :</span></dt><dd>[b&#x27;deviation from SST reference climatology&#x27;]</dd><dt><span>units :</span></dt><dd>[b&#x27;kelvin&#x27;]</dd><dt><span>_FillValue :</span></dt><dd>[-128]</dd><dt><span>valid_min :</span></dt><dd>[-127]</dd><dt><span>valid_max :</span></dt><dd>[127]</dd><dt><span>comment :</span></dt><dd>[b&#x27;TBD&#x27;]</dd><dt><span>scale_factor :</span></dt><dd>[0.1]</dd><dt><span>add_offset :</span></dt><dd>[0.]</dd><dt><span>source :</span></dt><dd>[b&#x27;TBD. Placeholder.  Currently empty&#x27;]</dd><dt><span>coordinates :</span></dt><dd>[b&#x27;lon lat&#x27;]</dd><dt><span>coverage_content_type :</span></dt><dd>[b&#x27;auxiliaryInformation&#x27;]</dd></dl></div><div class='xr-var-data'><pre>[2748620 values with dtype=int8]</pre></div></li></ul></div></li><li class='xr-section-item'><input id='section-5b8c4932-4af5-4594-9f7c-59b3fedf0d08' class='xr-section-summary-in' type='checkbox'  ><label for='section-5b8c4932-4af5-4594-9f7c-59b3fedf0d08' class='xr-section-summary' >Attributes: <span>(49)</span></label><div class='xr-section-inline-details'></div><div class='xr-section-details'><dl class='xr-attrs'><dt><span>Conventions :</span></dt><dd>[b&#x27;CF-1.7, ACDD-1.3&#x27;]</dd><dt><span>title :</span></dt><dd>[b&#x27;MODIS Terra L2P SST&#x27;]</dd><dt><span>summary :</span></dt><dd>[b&#x27;Sea surface temperature retrievals produced at the NASA OBPG for the MODIS Aqua sensor.  These have been reformatted to GHRSST GDS specifications by the JPL PO.DAAC&#x27;]</dd><dt><span>references :</span></dt><dd>[b&#x27;GHRSST Data Processing Specification v2r5&#x27;]</dd><dt><span>institution :</span></dt><dd>[b&#x27;NASA/JPL/OBPG/RSMAS&#x27;]</dd><dt><span>history :</span></dt><dd>[b&#x27;MODIS L2P created at JPL PO.DAAC&#x27;]</dd><dt><span>comment :</span></dt><dd>[b&#x27;L2P Core without DT analysis or other ancillary fields; Day, Start Node:Ascending, End Node:Ascending; WARNING Some applications are unable to properly handle signed byte values. If values are encountered &gt; 127, please subtract 256 from this reported value; Refined&#x27;]</dd><dt><span>license :</span></dt><dd>[b&#x27;GHRSST and PO.DAAC protocol allow data use as free and open.&#x27;]</dd><dt><span>id :</span></dt><dd>[b&#x27;MODIS_T-JPL-L2P-v2019.0&#x27;]</dd><dt><span>naming_authority :</span></dt><dd>[b&#x27;org.ghrsst&#x27;]</dd><dt><span>product_version :</span></dt><dd>[b&#x27;2019.0&#x27;]</dd><dt><span>uuid :</span></dt><dd>[b&#x27;f6e1f61d-c4a4-4c17-8354-0c15e12d688b&#x27;]</dd><dt><span>gds_version_id :</span></dt><dd>[b&#x27;2.0&#x27;]</dd><dt><span>netcdf_version_id :</span></dt><dd>[b&#x27;4.1&#x27;]</dd><dt><span>date_created :</span></dt><dd>[b&#x27;20210802T031613Z&#x27;]</dd><dt><span>file_quality_level :</span></dt><dd>[3]</dd><dt><span>spatial_resolution :</span></dt><dd>[b&#x27;1km&#x27;]</dd><dt><span>start_time :</span></dt><dd>[b&#x27;20190622T061001Z&#x27;]</dd><dt><span>time_coverage_start :</span></dt><dd>[b&#x27;20190622T061001Z&#x27;]</dd><dt><span>stop_time :</span></dt><dd>[b&#x27;20190622T061459Z&#x27;]</dd><dt><span>time_coverage_end :</span></dt><dd>[b&#x27;20190622T061459Z&#x27;]</dd><dt><span>northernmost_latitude :</span></dt><dd>[88.8966]</dd><dt><span>southernmost_latitude :</span></dt><dd>[63.2316]</dd><dt><span>easternmost_longitude :</span></dt><dd>[-49.9023]</dd><dt><span>westernmost_longitude :</span></dt><dd>[157.13]</dd><dt><span>source :</span></dt><dd>[b&#x27;MODIS sea surface temperature observations for the OBPG&#x27;]</dd><dt><span>platform :</span></dt><dd>[b&#x27;Terra&#x27;]</dd><dt><span>sensor :</span></dt><dd>[b&#x27;MODIS&#x27;]</dd><dt><span>metadata_link :</span></dt><dd>[b&#x27;http://podaac.jpl.nasa.gov/ws/metadata/dataset/?format=iso&amp;shortName=MODIS_T-JPL-L2P-v2019.0&#x27;]</dd><dt><span>keywords :</span></dt><dd>[b&#x27;Oceans &gt; Ocean Temperature &gt; Sea Surface Temperature&#x27;]</dd><dt><span>keywords_vocabulary :</span></dt><dd>[b&#x27;NASA Global Change Master Directory (GCMD) Science Keywords&#x27;]</dd><dt><span>standard_name_vocabulary :</span></dt><dd>[b&#x27;NetCDF Climate and Forecast (CF) Metadata Convention&#x27;]</dd><dt><span>geospatial_lat_units :</span></dt><dd>[b&#x27;degrees_north&#x27;]</dd><dt><span>geospatial_lat_resolution :</span></dt><dd>[0.01]</dd><dt><span>geospatial_lon_units :</span></dt><dd>[b&#x27;degrees_east&#x27;]</dd><dt><span>geospatial_lon_resolution :</span></dt><dd>[0.01]</dd><dt><span>acknowledgment :</span></dt><dd>[b&#x27;The MODIS L2P sea surface temperature data are sponsored by NASA&#x27;]</dd><dt><span>creator_name :</span></dt><dd>[b&#x27;Ed Armstrong, JPL PO.DAAC&#x27;]</dd><dt><span>creator_email :</span></dt><dd>[b&#x27;edward.m.armstrong@jpl.nasa.gov&#x27;]</dd><dt><span>creator_url :</span></dt><dd>[b&#x27;http://podaac.jpl.nasa.gov&#x27;]</dd><dt><span>project :</span></dt><dd>[b&#x27;Group for High Resolution Sea Surface Temperature&#x27;]</dd><dt><span>publisher_name :</span></dt><dd>[b&#x27;The GHRSST Project Office&#x27;]</dd><dt><span>publisher_url :</span></dt><dd>[b&#x27;http://www.ghrsst.org&#x27;]</dd><dt><span>publisher_email :</span></dt><dd>[b&#x27;ghrsst-po@nceo.ac.uk&#x27;]</dd><dt><span>processing_level :</span></dt><dd>[b&#x27;L2P&#x27;]</dd><dt><span>cdm_data_type :</span></dt><dd>[b&#x27;swath&#x27;]</dd><dt><span>startDirection :</span></dt><dd>[b&#x27;Ascending&#x27;]</dd><dt><span>endDirection :</span></dt><dd>[b&#x27;Ascending&#x27;]</dd><dt><span>day_night_flag :</span></dt><dd>[b&#x27;Day&#x27;]</dd></dl></div></li></ul></div></div>"
      ],
      "text/plain": [
       "<xarray.Dataset>\n",
       "Dimensions:                  (nj: 2030, ni: 1354, time: 1)\n",
       "Coordinates:\n",
       "  * time                     (time) int32 1214028601\n",
       "Dimensions without coordinates: nj, ni\n",
       "Data variables:\n",
       "    lat                      (nj, ni) float32 ...\n",
       "    lon                      (nj, ni) float32 ...\n",
       "    sea_surface_temperature  (time, nj, ni) int16 ...\n",
       "    sst_dtime                (time, nj, ni) int16 ...\n",
       "    quality_level            (time, nj, ni) int8 ...\n",
       "    sses_bias                (time, nj, ni) int8 ...\n",
       "    sses_standard_deviation  (time, nj, ni) int8 ...\n",
       "    l2p_flags                (time, nj, ni) int16 ...\n",
       "    chlorophyll_a            (time, nj, ni) float32 ...\n",
       "    K_490                    (time, nj, ni) int16 ...\n",
       "    wind_speed               (time, nj, ni) int8 ...\n",
       "    dt_analysis              (time, nj, ni) int8 ...\n",
       "Attributes: (12/49)\n",
       "    Conventions:                [b'CF-1.7, ACDD-1.3']\n",
       "    title:                      [b'MODIS Terra L2P SST']\n",
       "    summary:                    [b'Sea surface temperature retrievals produce...\n",
       "    references:                 [b'GHRSST Data Processing Specification v2r5']\n",
       "    institution:                [b'NASA/JPL/OBPG/RSMAS']\n",
       "    history:                    [b'MODIS L2P created at JPL PO.DAAC']\n",
       "    ...                         ...\n",
       "    publisher_email:            [b'ghrsst-po@nceo.ac.uk']\n",
       "    processing_level:           [b'L2P']\n",
       "    cdm_data_type:              [b'swath']\n",
       "    startDirection:             [b'Ascending']\n",
       "    endDirection:               [b'Ascending']\n",
       "    day_night_flag:             [b'Day']"
      ]
     },
     "metadata": {},
     "output_type": "display_data"
    },
    {
     "ename": "AttributeError",
     "evalue": "'numpy.ndarray' object has no attribute 'startswith'",
     "output_type": "error",
     "traceback": [
      "\u001b[0;31m---------------------------------------------------------------------------\u001b[0m",
      "\u001b[0;31mAttributeError\u001b[0m                            Traceback (most recent call last)",
      "\u001b[0;32m/tmp/ipykernel_25/882989831.py\u001b[0m in \u001b[0;36m<module>\u001b[0;34m\u001b[0m\n\u001b[1;32m      3\u001b[0m \u001b[0mf\u001b[0m\u001b[0;34m.\u001b[0m\u001b[0mclose\u001b[0m\u001b[0;34m(\u001b[0m\u001b[0;34m)\u001b[0m\u001b[0;34m\u001b[0m\u001b[0;34m\u001b[0m\u001b[0m\n\u001b[1;32m      4\u001b[0m \u001b[0mdisplay\u001b[0m\u001b[0;34m(\u001b[0m\u001b[0mds\u001b[0m\u001b[0;34m)\u001b[0m\u001b[0;34m\u001b[0m\u001b[0;34m\u001b[0m\u001b[0m\n\u001b[0;32m----> 5\u001b[0;31m \u001b[0mds\u001b[0m\u001b[0;34m.\u001b[0m\u001b[0msea_surface_temperature\u001b[0m\u001b[0;34m.\u001b[0m\u001b[0mplot\u001b[0m\u001b[0;34m(\u001b[0m\u001b[0;34m)\u001b[0m\u001b[0;34m\u001b[0m\u001b[0;34m\u001b[0m\u001b[0m\n\u001b[0m",
      "\u001b[0;32m/srv/conda/envs/notebook/lib/python3.9/site-packages/xarray/plot/plot.py\u001b[0m in \u001b[0;36m__call__\u001b[0;34m(self, **kwargs)\u001b[0m\n\u001b[1;32m    860\u001b[0m \u001b[0;34m\u001b[0m\u001b[0m\n\u001b[1;32m    861\u001b[0m     \u001b[0;32mdef\u001b[0m \u001b[0m__call__\u001b[0m\u001b[0;34m(\u001b[0m\u001b[0mself\u001b[0m\u001b[0;34m,\u001b[0m \u001b[0;34m**\u001b[0m\u001b[0mkwargs\u001b[0m\u001b[0;34m)\u001b[0m\u001b[0;34m:\u001b[0m\u001b[0;34m\u001b[0m\u001b[0;34m\u001b[0m\u001b[0m\n\u001b[0;32m--> 862\u001b[0;31m         \u001b[0;32mreturn\u001b[0m \u001b[0mplot\u001b[0m\u001b[0;34m(\u001b[0m\u001b[0mself\u001b[0m\u001b[0;34m.\u001b[0m\u001b[0m_da\u001b[0m\u001b[0;34m,\u001b[0m \u001b[0;34m**\u001b[0m\u001b[0mkwargs\u001b[0m\u001b[0;34m)\u001b[0m\u001b[0;34m\u001b[0m\u001b[0;34m\u001b[0m\u001b[0m\n\u001b[0m\u001b[1;32m    863\u001b[0m \u001b[0;34m\u001b[0m\u001b[0m\n\u001b[1;32m    864\u001b[0m     \u001b[0;31m# we can't use functools.wraps here since that also modifies the name / qualname\u001b[0m\u001b[0;34m\u001b[0m\u001b[0;34m\u001b[0m\u001b[0m\n",
      "\u001b[0;32m/srv/conda/envs/notebook/lib/python3.9/site-packages/xarray/plot/plot.py\u001b[0m in \u001b[0;36mplot\u001b[0;34m(darray, row, col, col_wrap, ax, hue, rtol, subplot_kws, **kwargs)\u001b[0m\n\u001b[1;32m    328\u001b[0m     \u001b[0mkwargs\u001b[0m\u001b[0;34m[\u001b[0m\u001b[0;34m\"ax\"\u001b[0m\u001b[0;34m]\u001b[0m \u001b[0;34m=\u001b[0m \u001b[0max\u001b[0m\u001b[0;34m\u001b[0m\u001b[0;34m\u001b[0m\u001b[0m\n\u001b[1;32m    329\u001b[0m \u001b[0;34m\u001b[0m\u001b[0m\n\u001b[0;32m--> 330\u001b[0;31m     \u001b[0;32mreturn\u001b[0m \u001b[0mplotfunc\u001b[0m\u001b[0;34m(\u001b[0m\u001b[0mdarray\u001b[0m\u001b[0;34m,\u001b[0m \u001b[0;34m**\u001b[0m\u001b[0mkwargs\u001b[0m\u001b[0;34m)\u001b[0m\u001b[0;34m\u001b[0m\u001b[0;34m\u001b[0m\u001b[0m\n\u001b[0m\u001b[1;32m    331\u001b[0m \u001b[0;34m\u001b[0m\u001b[0m\n\u001b[1;32m    332\u001b[0m \u001b[0;34m\u001b[0m\u001b[0m\n",
      "\u001b[0;32m/srv/conda/envs/notebook/lib/python3.9/site-packages/xarray/plot/plot.py\u001b[0m in \u001b[0;36mnewplotfunc\u001b[0;34m(darray, x, y, figsize, size, aspect, ax, row, col, col_wrap, xincrease, yincrease, add_colorbar, add_labels, vmin, vmax, cmap, center, robust, extend, levels, infer_intervals, colors, subplot_kws, cbar_ax, cbar_kwargs, xscale, yscale, xticks, yticks, xlim, ylim, norm, **kwargs)\u001b[0m\n\u001b[1;32m   1224\u001b[0m         \u001b[0;32mif\u001b[0m \u001b[0madd_colorbar\u001b[0m\u001b[0;34m:\u001b[0m\u001b[0;34m\u001b[0m\u001b[0;34m\u001b[0m\u001b[0m\n\u001b[1;32m   1225\u001b[0m             \u001b[0;32mif\u001b[0m \u001b[0madd_labels\u001b[0m \u001b[0;32mand\u001b[0m \u001b[0;34m\"label\"\u001b[0m \u001b[0;32mnot\u001b[0m \u001b[0;32min\u001b[0m \u001b[0mcbar_kwargs\u001b[0m\u001b[0;34m:\u001b[0m\u001b[0;34m\u001b[0m\u001b[0;34m\u001b[0m\u001b[0m\n\u001b[0;32m-> 1226\u001b[0;31m                 \u001b[0mcbar_kwargs\u001b[0m\u001b[0;34m[\u001b[0m\u001b[0;34m\"label\"\u001b[0m\u001b[0;34m]\u001b[0m \u001b[0;34m=\u001b[0m \u001b[0mlabel_from_attrs\u001b[0m\u001b[0;34m(\u001b[0m\u001b[0mdarray\u001b[0m\u001b[0;34m)\u001b[0m\u001b[0;34m\u001b[0m\u001b[0;34m\u001b[0m\u001b[0m\n\u001b[0m\u001b[1;32m   1227\u001b[0m             \u001b[0mcbar\u001b[0m \u001b[0;34m=\u001b[0m \u001b[0m_add_colorbar\u001b[0m\u001b[0;34m(\u001b[0m\u001b[0mprimitive\u001b[0m\u001b[0;34m,\u001b[0m \u001b[0max\u001b[0m\u001b[0;34m,\u001b[0m \u001b[0mcbar_ax\u001b[0m\u001b[0;34m,\u001b[0m \u001b[0mcbar_kwargs\u001b[0m\u001b[0;34m,\u001b[0m \u001b[0mcmap_params\u001b[0m\u001b[0;34m)\u001b[0m\u001b[0;34m\u001b[0m\u001b[0;34m\u001b[0m\u001b[0m\n\u001b[1;32m   1228\u001b[0m         \u001b[0;32melif\u001b[0m \u001b[0mcbar_ax\u001b[0m \u001b[0;32mis\u001b[0m \u001b[0;32mnot\u001b[0m \u001b[0;32mNone\u001b[0m \u001b[0;32mor\u001b[0m \u001b[0mcbar_kwargs\u001b[0m\u001b[0;34m:\u001b[0m\u001b[0;34m\u001b[0m\u001b[0;34m\u001b[0m\u001b[0m\n",
      "\u001b[0;32m/srv/conda/envs/notebook/lib/python3.9/site-packages/xarray/plot/utils.py\u001b[0m in \u001b[0;36mlabel_from_attrs\u001b[0;34m(da, extra)\u001b[0m\n\u001b[1;32m    499\u001b[0m \u001b[0;34m\u001b[0m\u001b[0m\n\u001b[1;32m    500\u001b[0m     \u001b[0;31m# Treat `name` differently if it's a latex sequence\u001b[0m\u001b[0;34m\u001b[0m\u001b[0;34m\u001b[0m\u001b[0m\n\u001b[0;32m--> 501\u001b[0;31m     \u001b[0;32mif\u001b[0m \u001b[0mname\u001b[0m\u001b[0;34m.\u001b[0m\u001b[0mstartswith\u001b[0m\u001b[0;34m(\u001b[0m\u001b[0;34m\"$\"\u001b[0m\u001b[0;34m)\u001b[0m \u001b[0;32mand\u001b[0m \u001b[0;34m(\u001b[0m\u001b[0mname\u001b[0m\u001b[0;34m.\u001b[0m\u001b[0mcount\u001b[0m\u001b[0;34m(\u001b[0m\u001b[0;34m\"$\"\u001b[0m\u001b[0;34m)\u001b[0m \u001b[0;34m%\u001b[0m \u001b[0;36m2\u001b[0m \u001b[0;34m==\u001b[0m \u001b[0;36m0\u001b[0m\u001b[0;34m)\u001b[0m\u001b[0;34m:\u001b[0m\u001b[0;34m\u001b[0m\u001b[0;34m\u001b[0m\u001b[0m\n\u001b[0m\u001b[1;32m    502\u001b[0m         return \"$\\n$\".join(\n\u001b[1;32m    503\u001b[0m             \u001b[0mtextwrap\u001b[0m\u001b[0;34m.\u001b[0m\u001b[0mwrap\u001b[0m\u001b[0;34m(\u001b[0m\u001b[0mname\u001b[0m \u001b[0;34m+\u001b[0m \u001b[0mextra\u001b[0m \u001b[0;34m+\u001b[0m \u001b[0munits\u001b[0m\u001b[0;34m,\u001b[0m \u001b[0;36m60\u001b[0m\u001b[0;34m,\u001b[0m \u001b[0mbreak_long_words\u001b[0m\u001b[0;34m=\u001b[0m\u001b[0;32mFalse\u001b[0m\u001b[0;34m)\u001b[0m\u001b[0;34m\u001b[0m\u001b[0;34m\u001b[0m\u001b[0m\n",
      "\u001b[0;31mAttributeError\u001b[0m: 'numpy.ndarray' object has no attribute 'startswith'"
     ]
    },
    {
     "data": {
      "image/png": "[encoded data removed]",
      "text/plain": [
       "<Figure size 432x288 with 1 Axes>"
      ]
     },
     "metadata": {
      "needs_background": "light"
     },
     "output_type": "display_data"
    }
   ],
   "source": [
    "f = s3_fs.open(s3_link, mode='rb')\n",
    "ds = xr.open_dataset(f, decode_cf=False)\n",
    "f.close()\n",
    "display(ds)\n",
    "ds.sea_surface_temperature.plot()"
   ]
  },
  {
   "cell_type": "markdown",
   "metadata": {},
   "source": [
    "### Use geolocation of ICESat-2 to define the single transect used to pull coincident ocean data out from array"
   ]
  },
  {
   "cell_type": "code",
   "execution_count": null,
   "metadata": {},
   "outputs": [],
   "source": []
  },
  {
   "cell_type": "markdown",
   "metadata": {},
   "source": [
    "### Create a plot of the single transect of gridded data \n",
    "\n",
    "(bonus: time series) - describe what this means to egress out of the cloud versus pulling the original data down (benefit to processing in the cloud)"
   ]
  },
  {
   "cell_type": "code",
   "execution_count": null,
   "metadata": {},
   "outputs": [],
   "source": []
  },
  {
   "cell_type": "markdown",
   "metadata": {},
   "source": [
    "## Download MODIS GHRSST data from Cloud"
   ]
  },
  {
   "cell_type": "code",
   "execution_count": null,
   "metadata": {},
   "outputs": [],
   "source": [
    "from shapely.geometry import box"
   ]
  },
  {
   "cell_type": "code",
   "execution_count": null,
   "metadata": {},
   "outputs": [],
   "source": [
    "map_proj = ccrs.PlateCarree()"
   ]
  },
  {
   "cell_type": "code",
   "execution_count": null,
   "metadata": {},
   "outputs": [],
   "source": [
    "def bbox_geometry(boxs, t_crs=ccrs.NorthPolarStereo()):\n",
    "    '''Generates a shapely.geometry.box object from boxes metadata'''\n",
    "    lat_min, lon_min, lat_max, lon_max = [float(v) for v in bbox.split()]\n",
    "    x_min, y_min = t_crs.transform_point(lon_min, lat_min, ccrs.PlateCarree())\n",
    "    x_max, y_max = t_crs.transform_point(lon_max, lat_max, ccrs.PlateCarree())\n",
    "    return box(x_min, y_min, x_max, y_max)\n",
    "\n",
    "bbox_features = []\n",
    "for granule in modis_granules_meta:\n",
    "    for bbox in granule['boxes']:\n",
    "        bbox_features.append(bbox_geometry(bbox))"
   ]
  },
  {
   "cell_type": "code",
   "execution_count": null,
   "metadata": {},
   "outputs": [],
   "source": [
    "fig = plt.figure(figsize=(7,7))\n",
    "ax = fig.add_subplot(projection=ccrs.NorthPolarStereo())\n",
    "ax.set_extent([-180.,180.,60.,90.], ccrs.PlateCarree())\n",
    "ax.coastlines()\n",
    "ax.add_geometries([bbox_features[0]], crs=map_proj, alpha=0.3)"
   ]
  },
  {
   "cell_type": "markdown",
   "metadata": {},
   "source": [
    "---"
   ]
  },
  {
   "cell_type": "markdown",
   "metadata": {},
   "source": [
    "## Resources (optional)"
   ]
  },
  {
   "cell_type": "markdown",
   "metadata": {},
   "source": [
    "---"
   ]
  },
  {
   "cell_type": "markdown",
   "metadata": {},
   "source": [
    "## Conclusion"
   ]
  },
  {
   "cell_type": "code",
   "execution_count": null,
   "metadata": {},
   "outputs": [],
   "source": []
  }
 ],
 "metadata": {
  "kernelspec": {
   "display_name": "Python 3 (ipykernel)",
   "language": "python",
   "name": "python3"
  },
  "language_info": {
   "codemirror_mode": {
    "name": "ipython",
    "version": 3
   },
   "file_extension": ".py",
   "mimetype": "text/x-python",
   "name": "python",
   "nbconvert_exporter": "python",
   "pygments_lexer": "ipython3",
   "version": "3.9.7"
  }
 },
 "nbformat": 4,
 "nbformat_minor": 4
}
