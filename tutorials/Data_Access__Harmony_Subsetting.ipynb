{
 "cells": [
  {
   "cell_type": "markdown",
   "id": "30d1a698-a68c-4da3-9131-9e37cb3eb719",
   "metadata": {},
   "source": [
    "# Data Subsetting and Transformation Services in the Cloud\n",
    "\n",
    "## Using NASA Earthdata Harmony"
   ]
  },
  {
   "cell_type": "markdown",
   "id": "6d16a72a-d49f-47ae-a7c7-ec3676d13f16",
   "metadata": {},
   "source": [
    "---"
   ]
  },
  {
   "cell_type": "markdown",
   "id": "0af92b67-ceee-4164-b8dd-b01219f4cd98",
   "metadata": {},
   "source": [
    "## Timing:\n",
    "- Exercise: 45 minutes"
   ]
  },
  {
   "cell_type": "markdown",
   "id": "b89c2939-437e-4f43-9323-33fe034a7a32",
   "metadata": {},
   "source": [
    "---"
   ]
  },
  {
   "cell_type": "markdown",
   "id": "4f8dc4ee-a8c5-439d-a1d5-48234c05add7",
   "metadata": {
    "tags": []
   },
   "source": [
    "## Summary\n",
    "\n",
    "Harmony allows you to seamlessly analyze Earth observation data from different NASA data centers... \n",
    "https://harmony.earthdata.nasa.gov/\n",
    "\n",
    "#### Benefits\n",
    "\n",
    "- Consistent access patterns to EOSDIS holdings make cross-data center data access easier\n",
    "- Data reduction services allow users to request only the data they want, in the format and projection they want\n",
    "- Analysis Ready Data and cloud access will help reduce time-to-science\n",
    "- Community Development helps reduce the barriers for re-use of code and sharing of domain knowledge\n",
    "\n",
    "### Objectives\n",
    "\n",
    ".\n",
    ".\n",
    ".\n",
    "\n",
    "___"
   ]
  },
  {
   "cell_type": "markdown",
   "id": "d47f95dd-5dab-43e3-9533-9a4437119d87",
   "metadata": {
    "tags": []
   },
   "source": [
    "## Import Packages"
   ]
  },
  {
   "cell_type": "code",
   "execution_count": 2,
   "id": "4ae3e21c-55fb-480b-bc77-a296605590d5",
   "metadata": {},
   "outputs": [
    {
     "name": "stdout",
     "output_type": "stream",
     "text": [
      "Collecting harmony-py\n",
      "  Using cached harmony_py-0.3.0-py3-none-any.whl (21 kB)\n",
      "Requirement already satisfied: requests~=2.2 in /srv/conda/envs/notebook/lib/python3.9/site-packages (from harmony-py) (2.26.0)\n",
      "Collecting python-dotenv~=0.1\n",
      "  Using cached python_dotenv-0.19.1-py2.py3-none-any.whl (17 kB)\n",
      "Collecting progressbar2~=3.5\n",
      "  Using cached progressbar2-3.55.0-py2.py3-none-any.whl (26 kB)\n",
      "Collecting sphinxcontrib-napoleon>=0.7\n",
      "  Using cached sphinxcontrib_napoleon-0.7-py2.py3-none-any.whl (17 kB)\n",
      "Collecting curlify~=2.2\n",
      "  Using cached curlify-2.2.1-py3-none-any.whl\n",
      "Collecting python-dateutil~=2.7.5\n",
      "  Using cached python_dateutil-2.7.5-py2.py3-none-any.whl (225 kB)\n",
      "Requirement already satisfied: six in /srv/conda/envs/notebook/lib/python3.9/site-packages (from progressbar2~=3.5->harmony-py) (1.16.0)\n",
      "Collecting python-utils>=2.3.0\n",
      "  Using cached python_utils-2.5.6-py2.py3-none-any.whl (12 kB)\n",
      "Requirement already satisfied: certifi>=2017.4.17 in /srv/conda/envs/notebook/lib/python3.9/site-packages (from requests~=2.2->harmony-py) (2021.10.8)\n",
      "Requirement already satisfied: idna<4,>=2.5 in /srv/conda/envs/notebook/lib/python3.9/site-packages (from requests~=2.2->harmony-py) (3.1)\n",
      "Requirement already satisfied: charset-normalizer~=2.0.0 in /srv/conda/envs/notebook/lib/python3.9/site-packages (from requests~=2.2->harmony-py) (2.0.0)\n",
      "Requirement already satisfied: urllib3<1.27,>=1.21.1 in /srv/conda/envs/notebook/lib/python3.9/site-packages (from requests~=2.2->harmony-py) (1.26.7)\n",
      "Collecting pockets>=0.3\n",
      "  Using cached pockets-0.9.1-py2.py3-none-any.whl (26 kB)\n",
      "Installing collected packages: python-utils, pockets, sphinxcontrib-napoleon, python-dotenv, python-dateutil, progressbar2, curlify, harmony-py\n",
      "  Attempting uninstall: python-dateutil\n",
      "    Found existing installation: python-dateutil 2.8.2\n",
      "    Uninstalling python-dateutil-2.8.2:\n",
      "      Successfully uninstalled python-dateutil-2.8.2\n",
      "Successfully installed curlify-2.2.1 harmony-py-0.3.0 pockets-0.9.1 progressbar2-3.55.0 python-dateutil-2.7.5 python-dotenv-0.19.1 python-utils-2.5.6 sphinxcontrib-napoleon-0.7\n",
      "Note: you may need to restart the kernel to use updated packages.\n"
     ]
    }
   ],
   "source": [
    "pip install -U harmony-py"
   ]
  },
  {
   "cell_type": "code",
   "execution_count": 4,
   "id": "e328c70e-1f2c-4b86-8849-ae3fd5d3faf2",
   "metadata": {},
   "outputs": [
    {
     "name": "stdout",
     "output_type": "stream",
     "text": [
      "Collecting s3fs\n",
      "  Downloading s3fs-2021.10.1-py3-none-any.whl (26 kB)\n",
      "Collecting aiobotocore~=1.4.1\n",
      "  Downloading aiobotocore-1.4.2.tar.gz (52 kB)\n",
      "     |████████████████████████████████| 52 kB 157 kB/s             \n",
      "\u001b[?25h  Preparing metadata (setup.py) ... \u001b[?25ldone\n",
      "\u001b[?25hRequirement already satisfied: fsspec==2021.10.1 in /srv/conda/envs/notebook/lib/python3.9/site-packages (from s3fs) (2021.10.1)\n",
      "Collecting botocore<1.20.107,>=1.20.106\n",
      "  Using cached botocore-1.20.106-py2.py3-none-any.whl (7.7 MB)\n",
      "Requirement already satisfied: aiohttp>=3.3.1 in /srv/conda/envs/notebook/lib/python3.9/site-packages (from aiobotocore~=1.4.1->s3fs) (3.7.4.post0)\n",
      "Collecting wrapt>=1.10.10\n",
      "  Downloading wrapt-1.13.3-cp39-cp39-manylinux_2_5_x86_64.manylinux1_x86_64.manylinux_2_12_x86_64.manylinux2010_x86_64.whl (81 kB)\n",
      "     |████████████████████████████████| 81 kB 1.2 MB/s             \n",
      "\u001b[?25hCollecting aioitertools>=0.5.1\n",
      "  Using cached aioitertools-0.8.0-py3-none-any.whl (21 kB)\n",
      "Requirement already satisfied: attrs>=17.3.0 in /srv/conda/envs/notebook/lib/python3.9/site-packages (from aiohttp>=3.3.1->aiobotocore~=1.4.1->s3fs) (21.2.0)\n",
      "Requirement already satisfied: typing-extensions>=3.6.5 in /srv/conda/envs/notebook/lib/python3.9/site-packages (from aiohttp>=3.3.1->aiobotocore~=1.4.1->s3fs) (3.10.0.2)\n",
      "Requirement already satisfied: async-timeout<4.0,>=3.0 in /srv/conda/envs/notebook/lib/python3.9/site-packages (from aiohttp>=3.3.1->aiobotocore~=1.4.1->s3fs) (3.0.1)\n",
      "Requirement already satisfied: chardet<5.0,>=2.0 in /srv/conda/envs/notebook/lib/python3.9/site-packages (from aiohttp>=3.3.1->aiobotocore~=1.4.1->s3fs) (4.0.0)\n",
      "Requirement already satisfied: multidict<7.0,>=4.5 in /srv/conda/envs/notebook/lib/python3.9/site-packages (from aiohttp>=3.3.1->aiobotocore~=1.4.1->s3fs) (5.2.0)\n",
      "Requirement already satisfied: yarl<2.0,>=1.0 in /srv/conda/envs/notebook/lib/python3.9/site-packages (from aiohttp>=3.3.1->aiobotocore~=1.4.1->s3fs) (1.7.0)\n",
      "Requirement already satisfied: jmespath<1.0.0,>=0.7.1 in /srv/conda/envs/notebook/lib/python3.9/site-packages (from botocore<1.20.107,>=1.20.106->aiobotocore~=1.4.1->s3fs) (0.10.0)\n",
      "Requirement already satisfied: urllib3<1.27,>=1.25.4 in /srv/conda/envs/notebook/lib/python3.9/site-packages (from botocore<1.20.107,>=1.20.106->aiobotocore~=1.4.1->s3fs) (1.26.7)\n",
      "Requirement already satisfied: python-dateutil<3.0.0,>=2.1 in /srv/conda/envs/notebook/lib/python3.9/site-packages (from botocore<1.20.107,>=1.20.106->aiobotocore~=1.4.1->s3fs) (2.7.5)\n",
      "Requirement already satisfied: six>=1.5 in /srv/conda/envs/notebook/lib/python3.9/site-packages (from python-dateutil<3.0.0,>=2.1->botocore<1.20.107,>=1.20.106->aiobotocore~=1.4.1->s3fs) (1.16.0)\n",
      "Requirement already satisfied: idna>=2.0 in /srv/conda/envs/notebook/lib/python3.9/site-packages (from yarl<2.0,>=1.0->aiohttp>=3.3.1->aiobotocore~=1.4.1->s3fs) (3.1)\n",
      "Building wheels for collected packages: aiobotocore\n",
      "  Building wheel for aiobotocore (setup.py) ... \u001b[?25ldone\n",
      "\u001b[?25h  Created wheel for aiobotocore: filename=aiobotocore-1.4.2-py3-none-any.whl size=49925 sha256=5db0972f0c51c4942c0ada221a30f0b9e7de6a8e95ea7aed0e0f9d8a81656623\n",
      "  Stored in directory: /home/jovyan/.cache/pip/wheels/11/ef/0a/9e1a26fd7fc913b587f5061cdf2e404135e055cab9cac4a781\n",
      "Successfully built aiobotocore\n",
      "Installing collected packages: wrapt, botocore, aioitertools, aiobotocore, s3fs\n",
      "  Attempting uninstall: botocore\n",
      "    Found existing installation: botocore 1.22.8\n",
      "    Uninstalling botocore-1.22.8:\n",
      "      Successfully uninstalled botocore-1.22.8\n",
      "\u001b[31mERROR: pip's dependency resolver does not currently take into account all the packages that are installed. This behaviour is the source of the following dependency conflicts.\n",
      "boto3 1.19.8 requires botocore<1.23.0,>=1.22.8, but you have botocore 1.20.106 which is incompatible.\n",
      "awscli 1.21.8 requires botocore==1.22.8, but you have botocore 1.20.106 which is incompatible.\u001b[0m\n",
      "Successfully installed aiobotocore-1.4.2 aioitertools-0.8.0 botocore-1.20.106 s3fs-2021.10.1 wrapt-1.13.3\n",
      "Note: you may need to restart the kernel to use updated packages.\n"
     ]
    }
   ],
   "source": [
    "pip install -U s3fs"
   ]
  },
  {
   "cell_type": "markdown",
   "id": "61356b50-4e83-4e39-8da0-7949104830df",
   "metadata": {},
   "source": [
    "I also ran this on command line following xarray install instructions: http://xarray.pydata.org/en/stable/getting-started-guide/installing.html\n",
    "\n",
    "`conda install -c conda-forge xarray dask netCDF4 bottleneck`"
   ]
  },
  {
   "cell_type": "code",
   "execution_count": 5,
   "id": "3d6cf2c7-ea5b-41eb-999c-483240d5e529",
   "metadata": {},
   "outputs": [],
   "source": [
    "from harmony import BBox, Client, Collection, Request, LinkType\n",
    "from harmony.config import Environment\n",
    "import requests\n",
    "from pprint import pprint\n",
    "import datetime as dt\n",
    "import s3fs\n",
    "import xarray as xr"
   ]
  },
  {
   "cell_type": "markdown",
   "id": "80a85c23-ec37-4430-8e8d-2e87b2900589",
   "metadata": {},
   "source": [
    "## Discovery service options for a given data set"
   ]
  },
  {
   "cell_type": "code",
   "execution_count": 6,
   "id": "65ab652b-9bd1-4fb9-98c6-1996888c9b48",
   "metadata": {},
   "outputs": [
    {
     "name": "stdout",
     "output_type": "stream",
     "text": [
      "'Harmony'\n",
      "{'Subset': {'SpatialSubset': {'BoundingBox': {'AllowMultipleValues': False}},\n",
      "            'TemporalSubset': {'AllowMultipleValues': False},\n",
      "            'VariableSubset': {'AllowMultipleValues': True}},\n",
      " 'SupportedReformattings': [{'SupportedInputFormat': 'HDF5',\n",
      "                             'SupportedOutputFormats': ['NETCDF-4']},\n",
      "                            {'SupportedInputFormat': 'NETCDF-4',\n",
      "                             'SupportedOutputFormats': ['NETCDF-4']}]}\n",
      "'OPeNDAP'\n",
      "{'Subset': {'SpatialSubset': {'BoundingBox': {'AllowMultipleValues': False}},\n",
      "            'TemporalSubset': {'AllowMultipleValues': False},\n",
      "            'VariableSubset': {'AllowMultipleValues': True}},\n",
      " 'SupportedReformattings': [{'SupportedInputFormat': 'NETCDF-4',\n",
      "                             'SupportedOutputFormats': ['ASCII',\n",
      "                                                        'CSV',\n",
      "                                                        'NETCDF-3',\n",
      "                                                        'NETCDF-4']},\n",
      "                            {'SupportedInputFormat': 'HDF5',\n",
      "                             'SupportedOutputFormats': ['ASCII',\n",
      "                                                        'CSV',\n",
      "                                                        'NETCDF-3',\n",
      "                                                        'NETCDF-4']}]}\n"
     ]
    }
   ],
   "source": [
    "CMR_OPS = 'https://cmr.earthdata.nasa.gov/search'\n",
    "url = f'{CMR_OPS}/{\"collections\"}'\n",
    "\n",
    "response = requests.get(url, \n",
    "                        params={\n",
    "                            'concept_id': 'C1940473819-POCLOUD',\n",
    "                            },\n",
    "                        headers={\n",
    "                            'Accept': 'application/json'\n",
    "                            }\n",
    "                       )\n",
    "response = response.json()\n",
    "services = response['feed']['entry'][0]['associations']['services']\n",
    "output_format = \"umm_json\"\n",
    "service_url = \"https://cmr.earthdata.nasa.gov/search/services\"\n",
    "for i in range(len(services)):\n",
    "    response = requests.get(f\"{service_url}.{output_format}?concept-id={services[i]}\")\n",
    "    response = response.json()\n",
    "    pprint(response['items'][0]['umm']['Type'])\n",
    "    pprint(response['items'][0]['umm']['ServiceOptions'])"
   ]
  },
  {
   "cell_type": "markdown",
   "id": "644bd05f-b5bf-4e16-ad5d-5d3aa675fdc0",
   "metadata": {},
   "source": [
    "## Discover variable names"
   ]
  },
  {
   "cell_type": "code",
   "execution_count": 7,
   "id": "7f8cf211-fcab-4533-ba00-e873b3d82f71",
   "metadata": {},
   "outputs": [
    {
     "name": "stdout",
     "output_type": "stream",
     "text": [
      "'sses_standard_deviation_4um'\n",
      "'l2p_flags'\n",
      "'time'\n",
      "'dt_analysis'\n",
      "'sses_standard_deviation'\n",
      "'sst_dtime'\n",
      "'sses_bias_4um'\n",
      "'lat'\n",
      "'sea_surface_temperature_4um'\n",
      "'sses_bias'\n",
      "'lon'\n",
      "'sea_surface_temperature'\n",
      "'quality_level'\n",
      "'wind_speed'\n",
      "'quality_level_4um'\n"
     ]
    }
   ],
   "source": [
    "response = requests.get(url, \n",
    "                        params={\n",
    "                            'concept_id': 'C1940473819-POCLOUD',\n",
    "                            },\n",
    "                        headers={\n",
    "                            'Accept': 'application/json'\n",
    "                            }\n",
    "                       )\n",
    "response = response.json()\n",
    "variables = response['feed']['entry'][0]['associations']['variables']\n",
    "output_format = \"umm_json\"\n",
    "var_url = \"https://cmr.earthdata.nasa.gov/search/variables\"\n",
    "for i in range(len(variables)):\n",
    "    response = requests.get(f\"{var_url}.{output_format}?concept-id={variables[i]}\")\n",
    "    response = response.json()\n",
    "    # pprint(response['items'][0]['umm'])\n",
    "    if 'Name' in response['items'][0]['umm']: pprint(response['items'][0]['umm']['Name'])"
   ]
  },
  {
   "cell_type": "code",
   "execution_count": 8,
   "id": "4a93372a-3acc-4dfb-af7c-3552c1e6984e",
   "metadata": {},
   "outputs": [],
   "source": [
    "variables = ['sea_surface_temperature','lat','lon']"
   ]
  },
  {
   "cell_type": "code",
   "execution_count": null,
   "id": "e7fe20b1-7d23-4d41-907c-62624eeb93f7",
   "metadata": {},
   "outputs": [],
   "source": [
    "# cmr_url = \"https://\"+\"cmr.earthdata.nasa.gov\"+\"/search/granules.umm_json?collection_concept_id=\"+\"C1940473819-POCLOUD\"+\"&sort_key=-start_date&bounding_box=-90,-45.75,90,-45\"\n",
    "\n",
    "# response = requests.get(cmr_url)\n",
    "\n",
    "# gid=response.json()['items'][0]['meta']['concept-id']\n",
    "# print(response.json()['items'][0])\n",
    "# print(gid)"
   ]
  },
  {
   "cell_type": "markdown",
   "id": "2ec7d84e-1946-4014-b0bb-febb12373ab2",
   "metadata": {},
   "source": [
    "## Harmony-Py set up"
   ]
  },
  {
   "cell_type": "code",
   "execution_count": 9,
   "id": "aee9843a-1875-4fb4-b241-47389333c010",
   "metadata": {},
   "outputs": [],
   "source": [
    "harmony_client = Client()"
   ]
  },
  {
   "cell_type": "code",
   "execution_count": 10,
   "id": "3bab287d-ef49-44bb-9d14-fbcb72407341",
   "metadata": {},
   "outputs": [],
   "source": [
    "request = Request(\n",
    "    collection=Collection(id='MODIS_A-JPL-L2P-v2019.0'),\n",
    "    spatial=BBox(60,-45.75,90,-45), # bounding box example that can be used as an alternative to shapefile input\n",
    "    temporal={\n",
    "        'start': dt.datetime(2021, 11, 1),\n",
    "        'stop': dt.datetime(2021, 11, 2),\n",
    "    },\n",
    "    # variables=variables,\n",
    ")"
   ]
  },
  {
   "cell_type": "markdown",
   "id": "680f12b8-0ac2-4ff2-8f05-f519e9ea16aa",
   "metadata": {},
   "source": [
    "### Valid request?"
   ]
  },
  {
   "cell_type": "code",
   "execution_count": 11,
   "id": "b3ae8454-2c7f-414f-b526-17a253aafc66",
   "metadata": {},
   "outputs": [
    {
     "name": "stdout",
     "output_type": "stream",
     "text": [
      "Request valid? True\n"
     ]
    }
   ],
   "source": [
    "print(f\"Request valid? {request.is_valid()}\")\n",
    "for m in request.error_messages():\n",
    "    print(\" * \" + m)"
   ]
  },
  {
   "cell_type": "markdown",
   "id": "8e9f4b81-6bfc-46e3-bb79-0ee5846456a2",
   "metadata": {},
   "source": [
    "### Submit request"
   ]
  },
  {
   "cell_type": "code",
   "execution_count": 12,
   "id": "48e5d0b2-d28c-4fe6-975d-3003b112ca6b",
   "metadata": {},
   "outputs": [
    {
     "data": {
      "text/plain": [
       "'d72de730-caee-4371-9a0b-91446450679d'"
      ]
     },
     "execution_count": 12,
     "metadata": {},
     "output_type": "execute_result"
    }
   ],
   "source": [
    "job_id = harmony_client.submit(request)\n",
    "job_id"
   ]
  },
  {
   "cell_type": "code",
   "execution_count": 13,
   "id": "c8ca8da2-9f33-4fc9-bb63-c717d47e97dd",
   "metadata": {},
   "outputs": [
    {
     "data": {
      "text/plain": [
       "{'status': 'running',\n",
       " 'message': 'There were 2 collections that matched the provided short name MODIS_A-JPL-L2P-v2019.0. See https://cmr.earthdata.nasa.gov/concepts/C1940473819-POCLOUD for details on the selected collection. The version ID for the selected collection is 2019.0. To use a different collection submit a new request specifying the desired CMR concept ID instead of the collection short name.',\n",
       " 'progress': 0,\n",
       " 'created_at': datetime.datetime(2021, 11, 3, 15, 48, 10, 340000, tzinfo=tzlocal()),\n",
       " 'updated_at': datetime.datetime(2021, 11, 3, 15, 48, 10, 340000, tzinfo=tzlocal()),\n",
       " 'request': 'https://harmony.earthdata.nasa.gov/MODIS_A-JPL-L2P-v2019.0/ogc-api-coverages/1.0.0/collections/all/coverage/rangeset?forceAsync=true&subset=lat(-45.75%3A-45)&subset=lon(60%3A90)&subset=time(%222021-11-01T00%3A00%3A00%22%3A%222021-11-02T00%3A00%3A00%22)',\n",
       " 'num_input_granules': 7}"
      ]
     },
     "execution_count": 13,
     "metadata": {},
     "output_type": "execute_result"
    }
   ],
   "source": [
    "harmony_client.status(job_id)"
   ]
  },
  {
   "cell_type": "code",
   "execution_count": 14,
   "id": "37bdad26-3c82-4ab4-8c31-abd9027c65e5",
   "metadata": {},
   "outputs": [
    {
     "name": "stderr",
     "output_type": "stream",
     "text": [
      " [ Processing: 100% ] |###################################################| [|]\n"
     ]
    }
   ],
   "source": [
    "harmony_client.wait_for_processing(job_id, show_progress=True)\n"
   ]
  },
  {
   "cell_type": "code",
   "execution_count": 15,
   "id": "cf7f40e0-815a-452b-a250-439566d8495f",
   "metadata": {},
   "outputs": [
    {
     "name": "stdout",
     "output_type": "stream",
     "text": [
      "{'createdAt': '2021-11-03T15:48:10.340Z',\n",
      " 'jobID': 'd72de730-caee-4371-9a0b-91446450679d',\n",
      " 'links': [{'href': 'https://harmony.earthdata.nasa.gov/stac/d72de730-caee-4371-9a0b-91446450679d/',\n",
      "            'rel': 'stac-catalog-json',\n",
      "            'title': 'STAC catalog',\n",
      "            'type': 'application/json'},\n",
      "           {'bbox': [66.801, -66.443, 113.49, -44.231],\n",
      "            'href': 'https://harmony.earthdata.nasa.gov/service-results/harmony-prod-staging/public/podaac/l2-subsetter/db2b6207-ae86-4041-8e8e-5a7aea102210/20211101083501-JPL-L2P_GHRSST-SSTskin-MODIS_A-D-v02.0-fv01.0.nc4',\n",
      "            'rel': 'data',\n",
      "            'temporal': {'end': '2021-11-01T08:39:58.000Z',\n",
      "                         'start': '2021-11-01T08:35:01.000Z'},\n",
      "            'title': '20211101083501-JPL-L2P_GHRSST-SSTskin-MODIS_A-D-v02.0-fv01.0.nc4',\n",
      "            'type': 'application/x-netcdf4'},\n",
      "           {'bbox': [66.7, -45.7, 90, -45],\n",
      "            'href': 'https://harmony.earthdata.nasa.gov/service-results/harmony-prod-staging/public/podaac/l2-subsetter/db2b6207-ae86-4041-8e8e-5a7aea102210/20211101084001-JPL-L2P_GHRSST-SSTskin-MODIS_A-D-v02.0-fv01.0_subsetted.nc4',\n",
      "            'rel': 'data',\n",
      "            'temporal': {'end': '2021-11-01T08:44:58.000Z',\n",
      "                         'start': '2021-11-01T08:40:01.000Z'},\n",
      "            'title': '20211101084001-JPL-L2P_GHRSST-SSTskin-MODIS_A-D-v02.0-fv01.0_subsetted.nc4',\n",
      "            'type': 'application/x-netcdf4'},\n",
      "           {'bbox': [60, -45.7, 73.9, -45],\n",
      "            'href': 'https://harmony.earthdata.nasa.gov/service-results/harmony-prod-staging/public/podaac/l2-subsetter/db2b6207-ae86-4041-8e8e-5a7aea102210/20211101101501-JPL-L2P_GHRSST-SSTskin-MODIS_A-D-v02.0-fv01.0_subsetted.nc4',\n",
      "            'rel': 'data',\n",
      "            'temporal': {'end': '2021-11-01T10:19:58.000Z',\n",
      "                         'start': '2021-11-01T10:15:01.000Z'},\n",
      "            'title': '20211101101501-JPL-L2P_GHRSST-SSTskin-MODIS_A-D-v02.0-fv01.0_subsetted.nc4',\n",
      "            'type': 'application/x-netcdf4'},\n",
      "           {'bbox': [88.05, -48.131, 120.198, -26.81],\n",
      "            'href': 'https://harmony.earthdata.nasa.gov/service-results/harmony-prod-staging/public/podaac/l2-subsetter/db2b6207-ae86-4041-8e8e-5a7aea102210/20211101180501-JPL-L2P_GHRSST-SSTskin-MODIS_A-N-v02.0-fv01.0.nc4',\n",
      "            'rel': 'data',\n",
      "            'temporal': {'end': '2021-11-01T18:09:58.000Z',\n",
      "                         'start': '2021-11-01T18:05:01.000Z'},\n",
      "            'title': '20211101180501-JPL-L2P_GHRSST-SSTskin-MODIS_A-N-v02.0-fv01.0.nc4',\n",
      "            'type': 'application/x-netcdf4'},\n",
      "           {'bbox': [86.7, -45.7, 90, -45],\n",
      "            'href': 'https://harmony.earthdata.nasa.gov/service-results/harmony-prod-staging/public/podaac/l2-subsetter/db2b6207-ae86-4041-8e8e-5a7aea102210/20211101181001-JPL-L2P_GHRSST-SSTskin-MODIS_A-N-v02.0-fv01.0_subsetted.nc4',\n",
      "            'rel': 'data',\n",
      "            'temporal': {'end': '2021-11-01T18:14:58.000Z',\n",
      "                         'start': '2021-11-01T18:10:01.000Z'},\n",
      "            'title': '20211101181001-JPL-L2P_GHRSST-SSTskin-MODIS_A-N-v02.0-fv01.0_subsetted.nc4',\n",
      "            'type': 'application/x-netcdf4'},\n",
      "           {'bbox': [61.9, -45.7, 90, -45],\n",
      "            'href': 'https://harmony.earthdata.nasa.gov/service-results/harmony-prod-staging/public/podaac/l2-subsetter/db2b6207-ae86-4041-8e8e-5a7aea102210/20211101194501-JPL-L2P_GHRSST-SSTskin-MODIS_A-N-v02.0-fv01.0_subsetted.nc4',\n",
      "            'rel': 'data',\n",
      "            'temporal': {'end': '2021-11-01T19:49:58.000Z',\n",
      "                         'start': '2021-11-01T19:45:01.000Z'},\n",
      "            'title': '20211101194501-JPL-L2P_GHRSST-SSTskin-MODIS_A-N-v02.0-fv01.0_subsetted.nc4',\n",
      "            'type': 'application/x-netcdf4'},\n",
      "           {'bbox': [60, -45.7, 69.2, -45],\n",
      "            'href': 'https://harmony.earthdata.nasa.gov/service-results/harmony-prod-staging/public/podaac/l2-subsetter/db2b6207-ae86-4041-8e8e-5a7aea102210/20211101212501-JPL-L2P_GHRSST-SSTskin-MODIS_A-N-v02.0-fv01.0_subsetted.nc4',\n",
      "            'rel': 'data',\n",
      "            'temporal': {'end': '2021-11-01T21:29:58.000Z',\n",
      "                         'start': '2021-11-01T21:25:01.000Z'},\n",
      "            'title': '20211101212501-JPL-L2P_GHRSST-SSTskin-MODIS_A-N-v02.0-fv01.0_subsetted.nc4',\n",
      "            'type': 'application/x-netcdf4'},\n",
      "           {'href': 'https://harmony.earthdata.nasa.gov/jobs/d72de730-caee-4371-9a0b-91446450679d?linktype=https&page=1&limit=2000',\n",
      "            'rel': 'self',\n",
      "            'title': 'The current page',\n",
      "            'type': 'application/json'}],\n",
      " 'message': 'There were 2 collections that matched the provided short name '\n",
      "            'MODIS_A-JPL-L2P-v2019.0. See '\n",
      "            'https://cmr.earthdata.nasa.gov/concepts/C1940473819-POCLOUD for '\n",
      "            'details on the selected collection. The version ID for the '\n",
      "            'selected collection is 2019.0. To use a different collection '\n",
      "            'submit a new request specifying the desired CMR concept ID '\n",
      "            'instead of the collection short name.',\n",
      " 'numInputGranules': 7,\n",
      " 'progress': 100,\n",
      " 'request': 'https://harmony.earthdata.nasa.gov/MODIS_A-JPL-L2P-v2019.0/ogc-api-coverages/1.0.0/collections/all/coverage/rangeset?forceAsync=true&subset=lat(-45.75%3A-45)&subset=lon(60%3A90)&subset=time(%222021-11-01T00%3A00%3A00%22%3A%222021-11-02T00%3A00%3A00%22)',\n",
      " 'status': 'successful',\n",
      " 'updatedAt': '2021-11-03T15:48:47.906Z',\n",
      " 'username': 'amy.steiker'}\n"
     ]
    }
   ],
   "source": [
    "data = harmony_client.result_json(job_id)\n",
    "pprint(data)"
   ]
  },
  {
   "cell_type": "markdown",
   "id": "a7989627-d1f9-4f78-83df-c56a7d8b1c93",
   "metadata": {},
   "source": [
    "## Direct S3"
   ]
  },
  {
   "cell_type": "code",
   "execution_count": 38,
   "id": "b66d9800-173b-48d3-bb8a-63ff6b22d1e7",
   "metadata": {},
   "outputs": [
    {
     "name": "stdout",
     "output_type": "stream",
     "text": [
      "['s3://harmony-prod-staging/public/podaac/l2-subsetter/db2b6207-ae86-4041-8e8e-5a7aea102210/20211101083501-JPL-L2P_GHRSST-SSTskin-MODIS_A-D-v02.0-fv01.0.nc4',\n",
      " 's3://harmony-prod-staging/public/podaac/l2-subsetter/db2b6207-ae86-4041-8e8e-5a7aea102210/20211101084001-JPL-L2P_GHRSST-SSTskin-MODIS_A-D-v02.0-fv01.0_subsetted.nc4',\n",
      " 's3://harmony-prod-staging/public/podaac/l2-subsetter/db2b6207-ae86-4041-8e8e-5a7aea102210/20211101101501-JPL-L2P_GHRSST-SSTskin-MODIS_A-D-v02.0-fv01.0_subsetted.nc4',\n",
      " 's3://harmony-prod-staging/public/podaac/l2-subsetter/db2b6207-ae86-4041-8e8e-5a7aea102210/20211101180501-JPL-L2P_GHRSST-SSTskin-MODIS_A-N-v02.0-fv01.0.nc4',\n",
      " 's3://harmony-prod-staging/public/podaac/l2-subsetter/db2b6207-ae86-4041-8e8e-5a7aea102210/20211101181001-JPL-L2P_GHRSST-SSTskin-MODIS_A-N-v02.0-fv01.0_subsetted.nc4',\n",
      " 's3://harmony-prod-staging/public/podaac/l2-subsetter/db2b6207-ae86-4041-8e8e-5a7aea102210/20211101194501-JPL-L2P_GHRSST-SSTskin-MODIS_A-N-v02.0-fv01.0_subsetted.nc4',\n",
      " 's3://harmony-prod-staging/public/podaac/l2-subsetter/db2b6207-ae86-4041-8e8e-5a7aea102210/20211101212501-JPL-L2P_GHRSST-SSTskin-MODIS_A-N-v02.0-fv01.0_subsetted.nc4']\n"
     ]
    }
   ],
   "source": [
    "results = harmony_client.result_urls(job_id, link_type=LinkType.s3)\n",
    "urls = list(results)\n",
    "pprint(urls)"
   ]
  },
  {
   "cell_type": "code",
   "execution_count": 17,
   "id": "dfe9c7b0-b129-4910-a80d-48c5b8081598",
   "metadata": {
    "tags": []
   },
   "outputs": [],
   "source": [
    "creds = harmony_client.aws_credentials()"
   ]
  },
  {
   "cell_type": "code",
   "execution_count": 44,
   "id": "18967f26-ca58-44be-ab29-0c9f5daa9231",
   "metadata": {},
   "outputs": [
    {
     "data": {
      "text/plain": [
       "'s3://harmony-prod-staging/public/podaac/l2-subsetter/db2b6207-ae86-4041-8e8e-5a7aea102210/20211101084001-JPL-L2P_GHRSST-SSTskin-MODIS_A-D-v02.0-fv01.0_subsetted.nc4'"
      ]
     },
     "execution_count": 44,
     "metadata": {},
     "output_type": "execute_result"
    }
   ],
   "source": [
    "url = urls[1]\n",
    "url"
   ]
  },
  {
   "cell_type": "markdown",
   "id": "e3c88630-188d-4277-80c6-493d920cc4f3",
   "metadata": {
    "tags": []
   },
   "source": [
    "### Open staged zarr files with *s3fs*\n",
    "\n",
    "We use the AWS `s3fs` package to get metadata about the zarr data store and read in the credentials we pulled from our Harmony job response:"
   ]
  },
  {
   "cell_type": "code",
   "execution_count": 45,
   "id": "d1aa4f8e-91e5-4237-85a4-7aed1b8479f8",
   "metadata": {
    "tags": []
   },
   "outputs": [
    {
     "ename": "OSError",
     "evalue": "[Errno -128] NetCDF: Attempt to use feature that was not turned on when netCDF was built.: b's3://harmony-prod-staging/public/podaac/l2-subsetter/db2b6207-ae86-4041-8e8e-5a7aea102210/20211101084001-JPL-L2P_GHRSST-SSTskin-MODIS_A-D-v02.0-fv01.0_subsetted.nc4'",
     "output_type": "error",
     "traceback": [
      "\u001b[0;31m---------------------------------------------------------------------------\u001b[0m",
      "\u001b[0;31mKeyError\u001b[0m                                  Traceback (most recent call last)",
      "\u001b[0;32m/srv/conda/envs/notebook/lib/python3.9/site-packages/xarray/backends/file_manager.py\u001b[0m in \u001b[0;36m_acquire_with_cache_info\u001b[0;34m(self, needs_lock)\u001b[0m\n\u001b[1;32m    198\u001b[0m             \u001b[0;32mtry\u001b[0m\u001b[0;34m:\u001b[0m\u001b[0;34m\u001b[0m\u001b[0;34m\u001b[0m\u001b[0m\n\u001b[0;32m--> 199\u001b[0;31m                 \u001b[0mfile\u001b[0m \u001b[0;34m=\u001b[0m \u001b[0mself\u001b[0m\u001b[0;34m.\u001b[0m\u001b[0m_cache\u001b[0m\u001b[0;34m[\u001b[0m\u001b[0mself\u001b[0m\u001b[0;34m.\u001b[0m\u001b[0m_key\u001b[0m\u001b[0;34m]\u001b[0m\u001b[0;34m\u001b[0m\u001b[0;34m\u001b[0m\u001b[0m\n\u001b[0m\u001b[1;32m    200\u001b[0m             \u001b[0;32mexcept\u001b[0m \u001b[0mKeyError\u001b[0m\u001b[0;34m:\u001b[0m\u001b[0;34m\u001b[0m\u001b[0;34m\u001b[0m\u001b[0m\n",
      "\u001b[0;32m/srv/conda/envs/notebook/lib/python3.9/site-packages/xarray/backends/lru_cache.py\u001b[0m in \u001b[0;36m__getitem__\u001b[0;34m(self, key)\u001b[0m\n\u001b[1;32m     52\u001b[0m         \u001b[0;32mwith\u001b[0m \u001b[0mself\u001b[0m\u001b[0;34m.\u001b[0m\u001b[0m_lock\u001b[0m\u001b[0;34m:\u001b[0m\u001b[0;34m\u001b[0m\u001b[0;34m\u001b[0m\u001b[0m\n\u001b[0;32m---> 53\u001b[0;31m             \u001b[0mvalue\u001b[0m \u001b[0;34m=\u001b[0m \u001b[0mself\u001b[0m\u001b[0;34m.\u001b[0m\u001b[0m_cache\u001b[0m\u001b[0;34m[\u001b[0m\u001b[0mkey\u001b[0m\u001b[0;34m]\u001b[0m\u001b[0;34m\u001b[0m\u001b[0;34m\u001b[0m\u001b[0m\n\u001b[0m\u001b[1;32m     54\u001b[0m             \u001b[0mself\u001b[0m\u001b[0;34m.\u001b[0m\u001b[0m_cache\u001b[0m\u001b[0;34m.\u001b[0m\u001b[0mmove_to_end\u001b[0m\u001b[0;34m(\u001b[0m\u001b[0mkey\u001b[0m\u001b[0;34m)\u001b[0m\u001b[0;34m\u001b[0m\u001b[0;34m\u001b[0m\u001b[0m\n",
      "\u001b[0;31mKeyError\u001b[0m: [<class 'netCDF4._netCDF4.Dataset'>, ('s3://harmony-prod-staging/public/podaac/l2-subsetter/db2b6207-ae86-4041-8e8e-5a7aea102210/20211101084001-JPL-L2P_GHRSST-SSTskin-MODIS_A-D-v02.0-fv01.0_subsetted.nc4',), 'r', (('clobber', True), ('diskless', False), ('format', 'NETCDF4'), ('persist', False))]",
      "\nDuring handling of the above exception, another exception occurred:\n",
      "\u001b[0;31mOSError\u001b[0m                                   Traceback (most recent call last)",
      "\u001b[0;32m/tmp/ipykernel_38/9042587.py\u001b[0m in \u001b[0;36m<module>\u001b[0;34m\u001b[0m\n\u001b[1;32m      7\u001b[0m \u001b[0;34m\u001b[0m\u001b[0m\n\u001b[1;32m      8\u001b[0m \u001b[0;32mwith\u001b[0m \u001b[0mnetcdf_fs\u001b[0m\u001b[0;34m.\u001b[0m\u001b[0mopen\u001b[0m\u001b[0;34m(\u001b[0m\u001b[0murl\u001b[0m\u001b[0;34m,\u001b[0m \u001b[0;34m'rb'\u001b[0m\u001b[0;34m)\u001b[0m \u001b[0;32mas\u001b[0m \u001b[0mf\u001b[0m\u001b[0;34m:\u001b[0m\u001b[0;34m\u001b[0m\u001b[0;34m\u001b[0m\u001b[0m\n\u001b[0;32m----> 9\u001b[0;31m         \u001b[0mds\u001b[0m\u001b[0;34m=\u001b[0m \u001b[0mxr\u001b[0m\u001b[0;34m.\u001b[0m\u001b[0mopen_dataset\u001b[0m\u001b[0;34m(\u001b[0m\u001b[0murl\u001b[0m\u001b[0;34m)\u001b[0m\u001b[0;34m\u001b[0m\u001b[0;34m\u001b[0m\u001b[0m\n\u001b[0m\u001b[1;32m     10\u001b[0m         \u001b[0mds\u001b[0m\u001b[0;34m\u001b[0m\u001b[0;34m\u001b[0m\u001b[0m\n",
      "\u001b[0;32m/srv/conda/envs/notebook/lib/python3.9/site-packages/xarray/backends/api.py\u001b[0m in \u001b[0;36mopen_dataset\u001b[0;34m(filename_or_obj, engine, chunks, cache, decode_cf, mask_and_scale, decode_times, decode_timedelta, use_cftime, concat_characters, decode_coords, drop_variables, backend_kwargs, *args, **kwargs)\u001b[0m\n\u001b[1;32m    495\u001b[0m \u001b[0;34m\u001b[0m\u001b[0m\n\u001b[1;32m    496\u001b[0m     \u001b[0moverwrite_encoded_chunks\u001b[0m \u001b[0;34m=\u001b[0m \u001b[0mkwargs\u001b[0m\u001b[0;34m.\u001b[0m\u001b[0mpop\u001b[0m\u001b[0;34m(\u001b[0m\u001b[0;34m\"overwrite_encoded_chunks\"\u001b[0m\u001b[0;34m,\u001b[0m \u001b[0;32mNone\u001b[0m\u001b[0;34m)\u001b[0m\u001b[0;34m\u001b[0m\u001b[0;34m\u001b[0m\u001b[0m\n\u001b[0;32m--> 497\u001b[0;31m     backend_ds = backend.open_dataset(\n\u001b[0m\u001b[1;32m    498\u001b[0m         \u001b[0mfilename_or_obj\u001b[0m\u001b[0;34m,\u001b[0m\u001b[0;34m\u001b[0m\u001b[0;34m\u001b[0m\u001b[0m\n\u001b[1;32m    499\u001b[0m         \u001b[0mdrop_variables\u001b[0m\u001b[0;34m=\u001b[0m\u001b[0mdrop_variables\u001b[0m\u001b[0;34m,\u001b[0m\u001b[0;34m\u001b[0m\u001b[0;34m\u001b[0m\u001b[0m\n",
      "\u001b[0;32m/srv/conda/envs/notebook/lib/python3.9/site-packages/xarray/backends/netCDF4_.py\u001b[0m in \u001b[0;36mopen_dataset\u001b[0;34m(self, filename_or_obj, mask_and_scale, decode_times, concat_characters, decode_coords, drop_variables, use_cftime, decode_timedelta, group, mode, format, clobber, diskless, persist, lock, autoclose)\u001b[0m\n\u001b[1;32m    549\u001b[0m \u001b[0;34m\u001b[0m\u001b[0m\n\u001b[1;32m    550\u001b[0m         \u001b[0mfilename_or_obj\u001b[0m \u001b[0;34m=\u001b[0m \u001b[0m_normalize_path\u001b[0m\u001b[0;34m(\u001b[0m\u001b[0mfilename_or_obj\u001b[0m\u001b[0;34m)\u001b[0m\u001b[0;34m\u001b[0m\u001b[0;34m\u001b[0m\u001b[0m\n\u001b[0;32m--> 551\u001b[0;31m         store = NetCDF4DataStore.open(\n\u001b[0m\u001b[1;32m    552\u001b[0m             \u001b[0mfilename_or_obj\u001b[0m\u001b[0;34m,\u001b[0m\u001b[0;34m\u001b[0m\u001b[0;34m\u001b[0m\u001b[0m\n\u001b[1;32m    553\u001b[0m             \u001b[0mmode\u001b[0m\u001b[0;34m=\u001b[0m\u001b[0mmode\u001b[0m\u001b[0;34m,\u001b[0m\u001b[0;34m\u001b[0m\u001b[0;34m\u001b[0m\u001b[0m\n",
      "\u001b[0;32m/srv/conda/envs/notebook/lib/python3.9/site-packages/xarray/backends/netCDF4_.py\u001b[0m in \u001b[0;36mopen\u001b[0;34m(cls, filename, mode, format, group, clobber, diskless, persist, lock, lock_maker, autoclose)\u001b[0m\n\u001b[1;32m    378\u001b[0m             \u001b[0mnetCDF4\u001b[0m\u001b[0;34m.\u001b[0m\u001b[0mDataset\u001b[0m\u001b[0;34m,\u001b[0m \u001b[0mfilename\u001b[0m\u001b[0;34m,\u001b[0m \u001b[0mmode\u001b[0m\u001b[0;34m=\u001b[0m\u001b[0mmode\u001b[0m\u001b[0;34m,\u001b[0m \u001b[0mkwargs\u001b[0m\u001b[0;34m=\u001b[0m\u001b[0mkwargs\u001b[0m\u001b[0;34m\u001b[0m\u001b[0;34m\u001b[0m\u001b[0m\n\u001b[1;32m    379\u001b[0m         )\n\u001b[0;32m--> 380\u001b[0;31m         \u001b[0;32mreturn\u001b[0m \u001b[0mcls\u001b[0m\u001b[0;34m(\u001b[0m\u001b[0mmanager\u001b[0m\u001b[0;34m,\u001b[0m \u001b[0mgroup\u001b[0m\u001b[0;34m=\u001b[0m\u001b[0mgroup\u001b[0m\u001b[0;34m,\u001b[0m \u001b[0mmode\u001b[0m\u001b[0;34m=\u001b[0m\u001b[0mmode\u001b[0m\u001b[0;34m,\u001b[0m \u001b[0mlock\u001b[0m\u001b[0;34m=\u001b[0m\u001b[0mlock\u001b[0m\u001b[0;34m,\u001b[0m \u001b[0mautoclose\u001b[0m\u001b[0;34m=\u001b[0m\u001b[0mautoclose\u001b[0m\u001b[0;34m)\u001b[0m\u001b[0;34m\u001b[0m\u001b[0;34m\u001b[0m\u001b[0m\n\u001b[0m\u001b[1;32m    381\u001b[0m \u001b[0;34m\u001b[0m\u001b[0m\n\u001b[1;32m    382\u001b[0m     \u001b[0;32mdef\u001b[0m \u001b[0m_acquire\u001b[0m\u001b[0;34m(\u001b[0m\u001b[0mself\u001b[0m\u001b[0;34m,\u001b[0m \u001b[0mneeds_lock\u001b[0m\u001b[0;34m=\u001b[0m\u001b[0;32mTrue\u001b[0m\u001b[0;34m)\u001b[0m\u001b[0;34m:\u001b[0m\u001b[0;34m\u001b[0m\u001b[0;34m\u001b[0m\u001b[0m\n",
      "\u001b[0;32m/srv/conda/envs/notebook/lib/python3.9/site-packages/xarray/backends/netCDF4_.py\u001b[0m in \u001b[0;36m__init__\u001b[0;34m(self, manager, group, mode, lock, autoclose)\u001b[0m\n\u001b[1;32m    326\u001b[0m         \u001b[0mself\u001b[0m\u001b[0;34m.\u001b[0m\u001b[0m_group\u001b[0m \u001b[0;34m=\u001b[0m \u001b[0mgroup\u001b[0m\u001b[0;34m\u001b[0m\u001b[0;34m\u001b[0m\u001b[0m\n\u001b[1;32m    327\u001b[0m         \u001b[0mself\u001b[0m\u001b[0;34m.\u001b[0m\u001b[0m_mode\u001b[0m \u001b[0;34m=\u001b[0m \u001b[0mmode\u001b[0m\u001b[0;34m\u001b[0m\u001b[0;34m\u001b[0m\u001b[0m\n\u001b[0;32m--> 328\u001b[0;31m         \u001b[0mself\u001b[0m\u001b[0;34m.\u001b[0m\u001b[0mformat\u001b[0m \u001b[0;34m=\u001b[0m \u001b[0mself\u001b[0m\u001b[0;34m.\u001b[0m\u001b[0mds\u001b[0m\u001b[0;34m.\u001b[0m\u001b[0mdata_model\u001b[0m\u001b[0;34m\u001b[0m\u001b[0;34m\u001b[0m\u001b[0m\n\u001b[0m\u001b[1;32m    329\u001b[0m         \u001b[0mself\u001b[0m\u001b[0;34m.\u001b[0m\u001b[0m_filename\u001b[0m \u001b[0;34m=\u001b[0m \u001b[0mself\u001b[0m\u001b[0;34m.\u001b[0m\u001b[0mds\u001b[0m\u001b[0;34m.\u001b[0m\u001b[0mfilepath\u001b[0m\u001b[0;34m(\u001b[0m\u001b[0;34m)\u001b[0m\u001b[0;34m\u001b[0m\u001b[0;34m\u001b[0m\u001b[0m\n\u001b[1;32m    330\u001b[0m         \u001b[0mself\u001b[0m\u001b[0;34m.\u001b[0m\u001b[0mis_remote\u001b[0m \u001b[0;34m=\u001b[0m \u001b[0mis_remote_uri\u001b[0m\u001b[0;34m(\u001b[0m\u001b[0mself\u001b[0m\u001b[0;34m.\u001b[0m\u001b[0m_filename\u001b[0m\u001b[0;34m)\u001b[0m\u001b[0;34m\u001b[0m\u001b[0;34m\u001b[0m\u001b[0m\n",
      "\u001b[0;32m/srv/conda/envs/notebook/lib/python3.9/site-packages/xarray/backends/netCDF4_.py\u001b[0m in \u001b[0;36mds\u001b[0;34m(self)\u001b[0m\n\u001b[1;32m    387\u001b[0m     \u001b[0;34m@\u001b[0m\u001b[0mproperty\u001b[0m\u001b[0;34m\u001b[0m\u001b[0;34m\u001b[0m\u001b[0m\n\u001b[1;32m    388\u001b[0m     \u001b[0;32mdef\u001b[0m \u001b[0mds\u001b[0m\u001b[0;34m(\u001b[0m\u001b[0mself\u001b[0m\u001b[0;34m)\u001b[0m\u001b[0;34m:\u001b[0m\u001b[0;34m\u001b[0m\u001b[0;34m\u001b[0m\u001b[0m\n\u001b[0;32m--> 389\u001b[0;31m         \u001b[0;32mreturn\u001b[0m \u001b[0mself\u001b[0m\u001b[0;34m.\u001b[0m\u001b[0m_acquire\u001b[0m\u001b[0;34m(\u001b[0m\u001b[0;34m)\u001b[0m\u001b[0;34m\u001b[0m\u001b[0;34m\u001b[0m\u001b[0m\n\u001b[0m\u001b[1;32m    390\u001b[0m \u001b[0;34m\u001b[0m\u001b[0m\n\u001b[1;32m    391\u001b[0m     \u001b[0;32mdef\u001b[0m \u001b[0mopen_store_variable\u001b[0m\u001b[0;34m(\u001b[0m\u001b[0mself\u001b[0m\u001b[0;34m,\u001b[0m \u001b[0mname\u001b[0m\u001b[0;34m,\u001b[0m \u001b[0mvar\u001b[0m\u001b[0;34m)\u001b[0m\u001b[0;34m:\u001b[0m\u001b[0;34m\u001b[0m\u001b[0;34m\u001b[0m\u001b[0m\n",
      "\u001b[0;32m/srv/conda/envs/notebook/lib/python3.9/site-packages/xarray/backends/netCDF4_.py\u001b[0m in \u001b[0;36m_acquire\u001b[0;34m(self, needs_lock)\u001b[0m\n\u001b[1;32m    381\u001b[0m \u001b[0;34m\u001b[0m\u001b[0m\n\u001b[1;32m    382\u001b[0m     \u001b[0;32mdef\u001b[0m \u001b[0m_acquire\u001b[0m\u001b[0;34m(\u001b[0m\u001b[0mself\u001b[0m\u001b[0;34m,\u001b[0m \u001b[0mneeds_lock\u001b[0m\u001b[0;34m=\u001b[0m\u001b[0;32mTrue\u001b[0m\u001b[0;34m)\u001b[0m\u001b[0;34m:\u001b[0m\u001b[0;34m\u001b[0m\u001b[0;34m\u001b[0m\u001b[0m\n\u001b[0;32m--> 383\u001b[0;31m         \u001b[0;32mwith\u001b[0m \u001b[0mself\u001b[0m\u001b[0;34m.\u001b[0m\u001b[0m_manager\u001b[0m\u001b[0;34m.\u001b[0m\u001b[0macquire_context\u001b[0m\u001b[0;34m(\u001b[0m\u001b[0mneeds_lock\u001b[0m\u001b[0;34m)\u001b[0m \u001b[0;32mas\u001b[0m \u001b[0mroot\u001b[0m\u001b[0;34m:\u001b[0m\u001b[0;34m\u001b[0m\u001b[0;34m\u001b[0m\u001b[0m\n\u001b[0m\u001b[1;32m    384\u001b[0m             \u001b[0mds\u001b[0m \u001b[0;34m=\u001b[0m \u001b[0m_nc4_require_group\u001b[0m\u001b[0;34m(\u001b[0m\u001b[0mroot\u001b[0m\u001b[0;34m,\u001b[0m \u001b[0mself\u001b[0m\u001b[0;34m.\u001b[0m\u001b[0m_group\u001b[0m\u001b[0;34m,\u001b[0m \u001b[0mself\u001b[0m\u001b[0;34m.\u001b[0m\u001b[0m_mode\u001b[0m\u001b[0;34m)\u001b[0m\u001b[0;34m\u001b[0m\u001b[0;34m\u001b[0m\u001b[0m\n\u001b[1;32m    385\u001b[0m         \u001b[0;32mreturn\u001b[0m \u001b[0mds\u001b[0m\u001b[0;34m\u001b[0m\u001b[0;34m\u001b[0m\u001b[0m\n",
      "\u001b[0;32m/srv/conda/envs/notebook/lib/python3.9/contextlib.py\u001b[0m in \u001b[0;36m__enter__\u001b[0;34m(self)\u001b[0m\n\u001b[1;32m    117\u001b[0m         \u001b[0;32mdel\u001b[0m \u001b[0mself\u001b[0m\u001b[0;34m.\u001b[0m\u001b[0margs\u001b[0m\u001b[0;34m,\u001b[0m \u001b[0mself\u001b[0m\u001b[0;34m.\u001b[0m\u001b[0mkwds\u001b[0m\u001b[0;34m,\u001b[0m \u001b[0mself\u001b[0m\u001b[0;34m.\u001b[0m\u001b[0mfunc\u001b[0m\u001b[0;34m\u001b[0m\u001b[0;34m\u001b[0m\u001b[0m\n\u001b[1;32m    118\u001b[0m         \u001b[0;32mtry\u001b[0m\u001b[0;34m:\u001b[0m\u001b[0;34m\u001b[0m\u001b[0;34m\u001b[0m\u001b[0m\n\u001b[0;32m--> 119\u001b[0;31m             \u001b[0;32mreturn\u001b[0m \u001b[0mnext\u001b[0m\u001b[0;34m(\u001b[0m\u001b[0mself\u001b[0m\u001b[0;34m.\u001b[0m\u001b[0mgen\u001b[0m\u001b[0;34m)\u001b[0m\u001b[0;34m\u001b[0m\u001b[0;34m\u001b[0m\u001b[0m\n\u001b[0m\u001b[1;32m    120\u001b[0m         \u001b[0;32mexcept\u001b[0m \u001b[0mStopIteration\u001b[0m\u001b[0;34m:\u001b[0m\u001b[0;34m\u001b[0m\u001b[0;34m\u001b[0m\u001b[0m\n\u001b[1;32m    121\u001b[0m             \u001b[0;32mraise\u001b[0m \u001b[0mRuntimeError\u001b[0m\u001b[0;34m(\u001b[0m\u001b[0;34m\"generator didn't yield\"\u001b[0m\u001b[0;34m)\u001b[0m \u001b[0;32mfrom\u001b[0m \u001b[0;32mNone\u001b[0m\u001b[0;34m\u001b[0m\u001b[0;34m\u001b[0m\u001b[0m\n",
      "\u001b[0;32m/srv/conda/envs/notebook/lib/python3.9/site-packages/xarray/backends/file_manager.py\u001b[0m in \u001b[0;36macquire_context\u001b[0;34m(self, needs_lock)\u001b[0m\n\u001b[1;32m    185\u001b[0m     \u001b[0;32mdef\u001b[0m \u001b[0macquire_context\u001b[0m\u001b[0;34m(\u001b[0m\u001b[0mself\u001b[0m\u001b[0;34m,\u001b[0m \u001b[0mneeds_lock\u001b[0m\u001b[0;34m=\u001b[0m\u001b[0;32mTrue\u001b[0m\u001b[0;34m)\u001b[0m\u001b[0;34m:\u001b[0m\u001b[0;34m\u001b[0m\u001b[0;34m\u001b[0m\u001b[0m\n\u001b[1;32m    186\u001b[0m         \u001b[0;34m\"\"\"Context manager for acquiring a file.\"\"\"\u001b[0m\u001b[0;34m\u001b[0m\u001b[0;34m\u001b[0m\u001b[0m\n\u001b[0;32m--> 187\u001b[0;31m         \u001b[0mfile\u001b[0m\u001b[0;34m,\u001b[0m \u001b[0mcached\u001b[0m \u001b[0;34m=\u001b[0m \u001b[0mself\u001b[0m\u001b[0;34m.\u001b[0m\u001b[0m_acquire_with_cache_info\u001b[0m\u001b[0;34m(\u001b[0m\u001b[0mneeds_lock\u001b[0m\u001b[0;34m)\u001b[0m\u001b[0;34m\u001b[0m\u001b[0;34m\u001b[0m\u001b[0m\n\u001b[0m\u001b[1;32m    188\u001b[0m         \u001b[0;32mtry\u001b[0m\u001b[0;34m:\u001b[0m\u001b[0;34m\u001b[0m\u001b[0;34m\u001b[0m\u001b[0m\n\u001b[1;32m    189\u001b[0m             \u001b[0;32myield\u001b[0m \u001b[0mfile\u001b[0m\u001b[0;34m\u001b[0m\u001b[0;34m\u001b[0m\u001b[0m\n",
      "\u001b[0;32m/srv/conda/envs/notebook/lib/python3.9/site-packages/xarray/backends/file_manager.py\u001b[0m in \u001b[0;36m_acquire_with_cache_info\u001b[0;34m(self, needs_lock)\u001b[0m\n\u001b[1;32m    203\u001b[0m                     \u001b[0mkwargs\u001b[0m \u001b[0;34m=\u001b[0m \u001b[0mkwargs\u001b[0m\u001b[0;34m.\u001b[0m\u001b[0mcopy\u001b[0m\u001b[0;34m(\u001b[0m\u001b[0;34m)\u001b[0m\u001b[0;34m\u001b[0m\u001b[0;34m\u001b[0m\u001b[0m\n\u001b[1;32m    204\u001b[0m                     \u001b[0mkwargs\u001b[0m\u001b[0;34m[\u001b[0m\u001b[0;34m\"mode\"\u001b[0m\u001b[0;34m]\u001b[0m \u001b[0;34m=\u001b[0m \u001b[0mself\u001b[0m\u001b[0;34m.\u001b[0m\u001b[0m_mode\u001b[0m\u001b[0;34m\u001b[0m\u001b[0;34m\u001b[0m\u001b[0m\n\u001b[0;32m--> 205\u001b[0;31m                 \u001b[0mfile\u001b[0m \u001b[0;34m=\u001b[0m \u001b[0mself\u001b[0m\u001b[0;34m.\u001b[0m\u001b[0m_opener\u001b[0m\u001b[0;34m(\u001b[0m\u001b[0;34m*\u001b[0m\u001b[0mself\u001b[0m\u001b[0;34m.\u001b[0m\u001b[0m_args\u001b[0m\u001b[0;34m,\u001b[0m \u001b[0;34m**\u001b[0m\u001b[0mkwargs\u001b[0m\u001b[0;34m)\u001b[0m\u001b[0;34m\u001b[0m\u001b[0;34m\u001b[0m\u001b[0m\n\u001b[0m\u001b[1;32m    206\u001b[0m                 \u001b[0;32mif\u001b[0m \u001b[0mself\u001b[0m\u001b[0;34m.\u001b[0m\u001b[0m_mode\u001b[0m \u001b[0;34m==\u001b[0m \u001b[0;34m\"w\"\u001b[0m\u001b[0;34m:\u001b[0m\u001b[0;34m\u001b[0m\u001b[0;34m\u001b[0m\u001b[0m\n\u001b[1;32m    207\u001b[0m                     \u001b[0;31m# ensure file doesn't get overriden when opened again\u001b[0m\u001b[0;34m\u001b[0m\u001b[0;34m\u001b[0m\u001b[0m\n",
      "\u001b[0;32msrc/netCDF4/_netCDF4.pyx\u001b[0m in \u001b[0;36mnetCDF4._netCDF4.Dataset.__init__\u001b[0;34m()\u001b[0m\n",
      "\u001b[0;32msrc/netCDF4/_netCDF4.pyx\u001b[0m in \u001b[0;36mnetCDF4._netCDF4._ensure_nc_success\u001b[0;34m()\u001b[0m\n",
      "\u001b[0;31mOSError\u001b[0m: [Errno -128] NetCDF: Attempt to use feature that was not turned on when netCDF was built.: b's3://harmony-prod-staging/public/podaac/l2-subsetter/db2b6207-ae86-4041-8e8e-5a7aea102210/20211101084001-JPL-L2P_GHRSST-SSTskin-MODIS_A-D-v02.0-fv01.0_subsetted.nc4'"
     ]
    }
   ],
   "source": [
    "netcdf_fs = s3fs.S3FileSystem(\n",
    "    key=creds['aws_access_key_id'],\n",
    "    secret=creds['aws_secret_access_key'],\n",
    "    token=creds['aws_session_token'],\n",
    "    client_kwargs={'region_name':'us-west-2'},\n",
    ")\n",
    "\n",
    "with netcdf_fs.open(url, 'rb') as f:\n",
    "        ds= xr.open_dataset(url)\n",
    "        ds"
   ]
  },
  {
   "cell_type": "markdown",
   "id": "4b3f7b5d-af86-43e4-801e-3347a24361dd",
   "metadata": {},
   "source": [
    "### What happens if we try to read the file in directly? \n",
    "I downloaded the same file using HTTPS and uploaded to 2i2c, putting it in the /tutorials/data directory:\n",
    "\n",
    "```\n",
    "results = harmony_client.result_urls(job_id)\n",
    "urls = list(results)\n",
    "pprint(urls)\n",
    "```\n",
    "\n",
    "Click on the second link (urls[1]) to download, then upload to 2i2c."
   ]
  },
  {
   "cell_type": "code",
   "execution_count": 47,
   "id": "60acda3b-fbdf-4e70-acf3-026568716e95",
   "metadata": {},
   "outputs": [
    {
     "data": {
      "text/html": [
       "<div><svg style=\"position: absolute; width: 0; height: 0; overflow: hidden\">\n",
       "<defs>\n",
       "<symbol id=\"icon-database\" viewBox=\"0 0 32 32\">\n",
       "<path d=\"M16 0c-8.837 0-16 2.239-16 5v4c0 2.761 7.163 5 16 5s16-2.239 16-5v-4c0-2.761-7.163-5-16-5z\"></path>\n",
       "<path d=\"M16 17c-8.837 0-16-2.239-16-5v6c0 2.761 7.163 5 16 5s16-2.239 16-5v-6c0 2.761-7.163 5-16 5z\"></path>\n",
       "<path d=\"M16 26c-8.837 0-16-2.239-16-5v6c0 2.761 7.163 5 16 5s16-2.239 16-5v-6c0 2.761-7.163 5-16 5z\"></path>\n",
       "</symbol>\n",
       "<symbol id=\"icon-file-text2\" viewBox=\"0 0 32 32\">\n",
       "<path d=\"M28.681 7.159c-0.694-0.947-1.662-2.053-2.724-3.116s-2.169-2.030-3.116-2.724c-1.612-1.182-2.393-1.319-2.841-1.319h-15.5c-1.378 0-2.5 1.121-2.5 2.5v27c0 1.378 1.122 2.5 2.5 2.5h23c1.378 0 2.5-1.122 2.5-2.5v-19.5c0-0.448-0.137-1.23-1.319-2.841zM24.543 5.457c0.959 0.959 1.712 1.825 2.268 2.543h-4.811v-4.811c0.718 0.556 1.584 1.309 2.543 2.268zM28 29.5c0 0.271-0.229 0.5-0.5 0.5h-23c-0.271 0-0.5-0.229-0.5-0.5v-27c0-0.271 0.229-0.5 0.5-0.5 0 0 15.499-0 15.5 0v7c0 0.552 0.448 1 1 1h7v19.5z\"></path>\n",
       "<path d=\"M23 26h-14c-0.552 0-1-0.448-1-1s0.448-1 1-1h14c0.552 0 1 0.448 1 1s-0.448 1-1 1z\"></path>\n",
       "<path d=\"M23 22h-14c-0.552 0-1-0.448-1-1s0.448-1 1-1h14c0.552 0 1 0.448 1 1s-0.448 1-1 1z\"></path>\n",
       "<path d=\"M23 18h-14c-0.552 0-1-0.448-1-1s0.448-1 1-1h14c0.552 0 1 0.448 1 1s-0.448 1-1 1z\"></path>\n",
       "</symbol>\n",
       "</defs>\n",
       "</svg>\n",
       "<style>/* CSS stylesheet for displaying xarray objects in jupyterlab.\n",
       " *\n",
       " */\n",
       "\n",
       ":root {\n",
       "  --xr-font-color0: var(--jp-content-font-color0, rgba(0, 0, 0, 1));\n",
       "  --xr-font-color2: var(--jp-content-font-color2, rgba(0, 0, 0, 0.54));\n",
       "  --xr-font-color3: var(--jp-content-font-color3, rgba(0, 0, 0, 0.38));\n",
       "  --xr-border-color: var(--jp-border-color2, #e0e0e0);\n",
       "  --xr-disabled-color: var(--jp-layout-color3, #bdbdbd);\n",
       "  --xr-background-color: var(--jp-layout-color0, white);\n",
       "  --xr-background-color-row-even: var(--jp-layout-color1, white);\n",
       "  --xr-background-color-row-odd: var(--jp-layout-color2, #eeeeee);\n",
       "}\n",
       "\n",
       "html[theme=dark],\n",
       "body.vscode-dark {\n",
       "  --xr-font-color0: rgba(255, 255, 255, 1);\n",
       "  --xr-font-color2: rgba(255, 255, 255, 0.54);\n",
       "  --xr-font-color3: rgba(255, 255, 255, 0.38);\n",
       "  --xr-border-color: #1F1F1F;\n",
       "  --xr-disabled-color: #515151;\n",
       "  --xr-background-color: #111111;\n",
       "  --xr-background-color-row-even: #111111;\n",
       "  --xr-background-color-row-odd: #313131;\n",
       "}\n",
       "\n",
       ".xr-wrap {\n",
       "  display: block;\n",
       "  min-width: 300px;\n",
       "  max-width: 700px;\n",
       "}\n",
       "\n",
       ".xr-text-repr-fallback {\n",
       "  /* fallback to plain text repr when CSS is not injected (untrusted notebook) */\n",
       "  display: none;\n",
       "}\n",
       "\n",
       ".xr-header {\n",
       "  padding-top: 6px;\n",
       "  padding-bottom: 6px;\n",
       "  margin-bottom: 4px;\n",
       "  border-bottom: solid 1px var(--xr-border-color);\n",
       "}\n",
       "\n",
       ".xr-header > div,\n",
       ".xr-header > ul {\n",
       "  display: inline;\n",
       "  margin-top: 0;\n",
       "  margin-bottom: 0;\n",
       "}\n",
       "\n",
       ".xr-obj-type,\n",
       ".xr-array-name {\n",
       "  margin-left: 2px;\n",
       "  margin-right: 10px;\n",
       "}\n",
       "\n",
       ".xr-obj-type {\n",
       "  color: var(--xr-font-color2);\n",
       "}\n",
       "\n",
       ".xr-sections {\n",
       "  padding-left: 0 !important;\n",
       "  display: grid;\n",
       "  grid-template-columns: 150px auto auto 1fr 20px 20px;\n",
       "}\n",
       "\n",
       ".xr-section-item {\n",
       "  display: contents;\n",
       "}\n",
       "\n",
       ".xr-section-item input {\n",
       "  display: none;\n",
       "}\n",
       "\n",
       ".xr-section-item input + label {\n",
       "  color: var(--xr-disabled-color);\n",
       "}\n",
       "\n",
       ".xr-section-item input:enabled + label {\n",
       "  cursor: pointer;\n",
       "  color: var(--xr-font-color2);\n",
       "}\n",
       "\n",
       ".xr-section-item input:enabled + label:hover {\n",
       "  color: var(--xr-font-color0);\n",
       "}\n",
       "\n",
       ".xr-section-summary {\n",
       "  grid-column: 1;\n",
       "  color: var(--xr-font-color2);\n",
       "  font-weight: 500;\n",
       "}\n",
       "\n",
       ".xr-section-summary > span {\n",
       "  display: inline-block;\n",
       "  padding-left: 0.5em;\n",
       "}\n",
       "\n",
       ".xr-section-summary-in:disabled + label {\n",
       "  color: var(--xr-font-color2);\n",
       "}\n",
       "\n",
       ".xr-section-summary-in + label:before {\n",
       "  display: inline-block;\n",
       "  content: '►';\n",
       "  font-size: 11px;\n",
       "  width: 15px;\n",
       "  text-align: center;\n",
       "}\n",
       "\n",
       ".xr-section-summary-in:disabled + label:before {\n",
       "  color: var(--xr-disabled-color);\n",
       "}\n",
       "\n",
       ".xr-section-summary-in:checked + label:before {\n",
       "  content: '▼';\n",
       "}\n",
       "\n",
       ".xr-section-summary-in:checked + label > span {\n",
       "  display: none;\n",
       "}\n",
       "\n",
       ".xr-section-summary,\n",
       ".xr-section-inline-details {\n",
       "  padding-top: 4px;\n",
       "  padding-bottom: 4px;\n",
       "}\n",
       "\n",
       ".xr-section-inline-details {\n",
       "  grid-column: 2 / -1;\n",
       "}\n",
       "\n",
       ".xr-section-details {\n",
       "  display: none;\n",
       "  grid-column: 1 / -1;\n",
       "  margin-bottom: 5px;\n",
       "}\n",
       "\n",
       ".xr-section-summary-in:checked ~ .xr-section-details {\n",
       "  display: contents;\n",
       "}\n",
       "\n",
       ".xr-array-wrap {\n",
       "  grid-column: 1 / -1;\n",
       "  display: grid;\n",
       "  grid-template-columns: 20px auto;\n",
       "}\n",
       "\n",
       ".xr-array-wrap > label {\n",
       "  grid-column: 1;\n",
       "  vertical-align: top;\n",
       "}\n",
       "\n",
       ".xr-preview {\n",
       "  color: var(--xr-font-color3);\n",
       "}\n",
       "\n",
       ".xr-array-preview,\n",
       ".xr-array-data {\n",
       "  padding: 0 5px !important;\n",
       "  grid-column: 2;\n",
       "}\n",
       "\n",
       ".xr-array-data,\n",
       ".xr-array-in:checked ~ .xr-array-preview {\n",
       "  display: none;\n",
       "}\n",
       "\n",
       ".xr-array-in:checked ~ .xr-array-data,\n",
       ".xr-array-preview {\n",
       "  display: inline-block;\n",
       "}\n",
       "\n",
       ".xr-dim-list {\n",
       "  display: inline-block !important;\n",
       "  list-style: none;\n",
       "  padding: 0 !important;\n",
       "  margin: 0;\n",
       "}\n",
       "\n",
       ".xr-dim-list li {\n",
       "  display: inline-block;\n",
       "  padding: 0;\n",
       "  margin: 0;\n",
       "}\n",
       "\n",
       ".xr-dim-list:before {\n",
       "  content: '(';\n",
       "}\n",
       "\n",
       ".xr-dim-list:after {\n",
       "  content: ')';\n",
       "}\n",
       "\n",
       ".xr-dim-list li:not(:last-child):after {\n",
       "  content: ',';\n",
       "  padding-right: 5px;\n",
       "}\n",
       "\n",
       ".xr-has-index {\n",
       "  font-weight: bold;\n",
       "}\n",
       "\n",
       ".xr-var-list,\n",
       ".xr-var-item {\n",
       "  display: contents;\n",
       "}\n",
       "\n",
       ".xr-var-item > div,\n",
       ".xr-var-item label,\n",
       ".xr-var-item > .xr-var-name span {\n",
       "  background-color: var(--xr-background-color-row-even);\n",
       "  margin-bottom: 0;\n",
       "}\n",
       "\n",
       ".xr-var-item > .xr-var-name:hover span {\n",
       "  padding-right: 5px;\n",
       "}\n",
       "\n",
       ".xr-var-list > li:nth-child(odd) > div,\n",
       ".xr-var-list > li:nth-child(odd) > label,\n",
       ".xr-var-list > li:nth-child(odd) > .xr-var-name span {\n",
       "  background-color: var(--xr-background-color-row-odd);\n",
       "}\n",
       "\n",
       ".xr-var-name {\n",
       "  grid-column: 1;\n",
       "}\n",
       "\n",
       ".xr-var-dims {\n",
       "  grid-column: 2;\n",
       "}\n",
       "\n",
       ".xr-var-dtype {\n",
       "  grid-column: 3;\n",
       "  text-align: right;\n",
       "  color: var(--xr-font-color2);\n",
       "}\n",
       "\n",
       ".xr-var-preview {\n",
       "  grid-column: 4;\n",
       "}\n",
       "\n",
       ".xr-var-name,\n",
       ".xr-var-dims,\n",
       ".xr-var-dtype,\n",
       ".xr-preview,\n",
       ".xr-attrs dt {\n",
       "  white-space: nowrap;\n",
       "  overflow: hidden;\n",
       "  text-overflow: ellipsis;\n",
       "  padding-right: 10px;\n",
       "}\n",
       "\n",
       ".xr-var-name:hover,\n",
       ".xr-var-dims:hover,\n",
       ".xr-var-dtype:hover,\n",
       ".xr-attrs dt:hover {\n",
       "  overflow: visible;\n",
       "  width: auto;\n",
       "  z-index: 1;\n",
       "}\n",
       "\n",
       ".xr-var-attrs,\n",
       ".xr-var-data {\n",
       "  display: none;\n",
       "  background-color: var(--xr-background-color) !important;\n",
       "  padding-bottom: 5px !important;\n",
       "}\n",
       "\n",
       ".xr-var-attrs-in:checked ~ .xr-var-attrs,\n",
       ".xr-var-data-in:checked ~ .xr-var-data {\n",
       "  display: block;\n",
       "}\n",
       "\n",
       ".xr-var-data > table {\n",
       "  float: right;\n",
       "}\n",
       "\n",
       ".xr-var-name span,\n",
       ".xr-var-data,\n",
       ".xr-attrs {\n",
       "  padding-left: 25px !important;\n",
       "}\n",
       "\n",
       ".xr-attrs,\n",
       ".xr-var-attrs,\n",
       ".xr-var-data {\n",
       "  grid-column: 1 / -1;\n",
       "}\n",
       "\n",
       "dl.xr-attrs {\n",
       "  padding: 0;\n",
       "  margin: 0;\n",
       "  display: grid;\n",
       "  grid-template-columns: 125px auto;\n",
       "}\n",
       "\n",
       ".xr-attrs dt,\n",
       ".xr-attrs dd {\n",
       "  padding: 0;\n",
       "  margin: 0;\n",
       "  float: left;\n",
       "  padding-right: 10px;\n",
       "  width: auto;\n",
       "}\n",
       "\n",
       ".xr-attrs dt {\n",
       "  font-weight: normal;\n",
       "  grid-column: 1;\n",
       "}\n",
       "\n",
       ".xr-attrs dt:hover span {\n",
       "  display: inline-block;\n",
       "  background: var(--xr-background-color);\n",
       "  padding-right: 10px;\n",
       "}\n",
       "\n",
       ".xr-attrs dd {\n",
       "  grid-column: 2;\n",
       "  white-space: pre-wrap;\n",
       "  word-break: break-all;\n",
       "}\n",
       "\n",
       ".xr-icon-database,\n",
       ".xr-icon-file-text2 {\n",
       "  display: inline-block;\n",
       "  vertical-align: middle;\n",
       "  width: 1em;\n",
       "  height: 1.5em !important;\n",
       "  stroke-width: 0;\n",
       "  stroke: currentColor;\n",
       "  fill: currentColor;\n",
       "}\n",
       "</style><pre class='xr-text-repr-fallback'>&lt;xarray.Dataset&gt;\n",
       "Dimensions:                  (nj: 366, ni: 1154, time: 1)\n",
       "Coordinates:\n",
       "    lat                      (nj, ni, time) float32 ...\n",
       "    lon                      (nj, ni, time) float32 ...\n",
       "  * time                     (time) datetime64[ns] 2021-11-01T08:40:01\n",
       "Dimensions without coordinates: nj, ni\n",
       "Data variables:\n",
       "    sea_surface_temperature  (time, nj, ni) float32 ...\n",
       "    sst_dtime                (time, nj, ni) timedelta64[ns] ...\n",
       "    quality_level            (time, nj, ni) float32 ...\n",
       "    sses_bias                (time, nj, ni) float32 ...\n",
       "    sses_standard_deviation  (time, nj, ni) float32 ...\n",
       "    l2p_flags                (time, nj, ni) int16 ...\n",
       "    chlorophyll_a            (time, nj, ni) float32 ...\n",
       "    K_490                    (time, nj, ni) float32 ...\n",
       "    wind_speed               (time, nj, ni) float32 ...\n",
       "    dt_analysis              (time, nj, ni) float32 ...\n",
       "Attributes: (12/50)\n",
       "    Conventions:                CF-1.7, ACDD-1.3\n",
       "    title:                      MODIS Aqua L2P SST\n",
       "    summary:                    Sea surface temperature retrievals produced a...\n",
       "    references:                 GHRSST Data Processing Specification v2r5\n",
       "    institution:                NASA/JPL/OBPG/RSMAS\n",
       "    history:                    MODIS L2P created at JPL PO.DAAC\\n2021-11-03 ...\n",
       "    ...                         ...\n",
       "    processing_level:           L2P\n",
       "    cdm_data_type:              swath\n",
       "    startDirection:             Ascending\n",
       "    endDirection:               Ascending\n",
       "    day_night_flag:             Day\n",
       "    history_json:               [{&quot;date_time&quot;: &quot;2021-11-03T15:48:26.550501+00...</pre><div class='xr-wrap' hidden><div class='xr-header'><div class='xr-obj-type'>xarray.Dataset</div></div><ul class='xr-sections'><li class='xr-section-item'><input id='section-dd0cfb91-671a-4e16-9dc5-7004e1135ac0' class='xr-section-summary-in' type='checkbox' disabled ><label for='section-dd0cfb91-671a-4e16-9dc5-7004e1135ac0' class='xr-section-summary'  title='Expand/collapse section'>Dimensions:</label><div class='xr-section-inline-details'><ul class='xr-dim-list'><li><span>nj</span>: 366</li><li><span>ni</span>: 1154</li><li><span class='xr-has-index'>time</span>: 1</li></ul></div><div class='xr-section-details'></div></li><li class='xr-section-item'><input id='section-d0c2edeb-0c1f-4ade-b859-ea86cac4d604' class='xr-section-summary-in' type='checkbox'  checked><label for='section-d0c2edeb-0c1f-4ade-b859-ea86cac4d604' class='xr-section-summary' >Coordinates: <span>(3)</span></label><div class='xr-section-inline-details'></div><div class='xr-section-details'><ul class='xr-var-list'><li class='xr-var-item'><div class='xr-var-name'><span>lat</span></div><div class='xr-var-dims'>(nj, ni, time)</div><div class='xr-var-dtype'>float32</div><div class='xr-var-preview xr-preview'>...</div><input id='attrs-c2896b6b-bfed-49f5-9b1b-9c04d1f6510b' class='xr-var-attrs-in' type='checkbox' ><label for='attrs-c2896b6b-bfed-49f5-9b1b-9c04d1f6510b' title='Show/Hide attributes'><svg class='icon xr-icon-file-text2'><use xlink:href='#icon-file-text2'></use></svg></label><input id='data-9ebc169a-32f4-4da2-9ea0-ff0a025c5bba' class='xr-var-data-in' type='checkbox'><label for='data-9ebc169a-32f4-4da2-9ea0-ff0a025c5bba' title='Show/Hide data repr'><svg class='icon xr-icon-database'><use xlink:href='#icon-database'></use></svg></label><div class='xr-var-attrs'><dl class='xr-attrs'><dt><span>long_name :</span></dt><dd>latitude</dd><dt><span>standard_name :</span></dt><dd>latitude</dd><dt><span>units :</span></dt><dd>degrees_north</dd><dt><span>valid_min :</span></dt><dd>-90.0</dd><dt><span>valid_max :</span></dt><dd>90.0</dd><dt><span>comment :</span></dt><dd>geographical coordinates, WGS84 projection</dd><dt><span>coverage_content_type :</span></dt><dd>coordinate</dd></dl></div><div class='xr-var-data'><pre>[422364 values with dtype=float32]</pre></div></li><li class='xr-var-item'><div class='xr-var-name'><span>lon</span></div><div class='xr-var-dims'>(nj, ni, time)</div><div class='xr-var-dtype'>float32</div><div class='xr-var-preview xr-preview'>...</div><input id='attrs-1c470ede-f955-431e-86af-be921f0786e9' class='xr-var-attrs-in' type='checkbox' ><label for='attrs-1c470ede-f955-431e-86af-be921f0786e9' title='Show/Hide attributes'><svg class='icon xr-icon-file-text2'><use xlink:href='#icon-file-text2'></use></svg></label><input id='data-4b883bb7-4b0e-471e-9453-c77fb4f5eb85' class='xr-var-data-in' type='checkbox'><label for='data-4b883bb7-4b0e-471e-9453-c77fb4f5eb85' title='Show/Hide data repr'><svg class='icon xr-icon-database'><use xlink:href='#icon-database'></use></svg></label><div class='xr-var-attrs'><dl class='xr-attrs'><dt><span>long_name :</span></dt><dd>longitude</dd><dt><span>standard_name :</span></dt><dd>longitude</dd><dt><span>units :</span></dt><dd>degrees_east</dd><dt><span>valid_min :</span></dt><dd>-180.0</dd><dt><span>valid_max :</span></dt><dd>180.0</dd><dt><span>comment :</span></dt><dd>geographical coordinates, WGS84 projection</dd><dt><span>coverage_content_type :</span></dt><dd>coordinate</dd></dl></div><div class='xr-var-data'><pre>[422364 values with dtype=float32]</pre></div></li><li class='xr-var-item'><div class='xr-var-name'><span class='xr-has-index'>time</span></div><div class='xr-var-dims'>(time)</div><div class='xr-var-dtype'>datetime64[ns]</div><div class='xr-var-preview xr-preview'>2021-11-01T08:40:01</div><input id='attrs-e104a35b-0e21-4685-b1d2-402281e4da67' class='xr-var-attrs-in' type='checkbox' ><label for='attrs-e104a35b-0e21-4685-b1d2-402281e4da67' title='Show/Hide attributes'><svg class='icon xr-icon-file-text2'><use xlink:href='#icon-file-text2'></use></svg></label><input id='data-7492b931-c56c-4f55-9a58-e776bc74cf12' class='xr-var-data-in' type='checkbox'><label for='data-7492b931-c56c-4f55-9a58-e776bc74cf12' title='Show/Hide data repr'><svg class='icon xr-icon-database'><use xlink:href='#icon-database'></use></svg></label><div class='xr-var-attrs'><dl class='xr-attrs'><dt><span>long_name :</span></dt><dd>reference time of sst file</dd><dt><span>standard_name :</span></dt><dd>time</dd><dt><span>comment :</span></dt><dd>time of first sensor observation</dd><dt><span>coverage_content_type :</span></dt><dd>coordinate</dd></dl></div><div class='xr-var-data'><pre>array([&#x27;2021-11-01T08:40:01.000000000&#x27;], dtype=&#x27;datetime64[ns]&#x27;)</pre></div></li></ul></div></li><li class='xr-section-item'><input id='section-3f91cc72-9848-46a5-a61b-1c154862aca3' class='xr-section-summary-in' type='checkbox'  checked><label for='section-3f91cc72-9848-46a5-a61b-1c154862aca3' class='xr-section-summary' >Data variables: <span>(10)</span></label><div class='xr-section-inline-details'></div><div class='xr-section-details'><ul class='xr-var-list'><li class='xr-var-item'><div class='xr-var-name'><span>sea_surface_temperature</span></div><div class='xr-var-dims'>(time, nj, ni)</div><div class='xr-var-dtype'>float32</div><div class='xr-var-preview xr-preview'>...</div><input id='attrs-4bbef782-5c81-4dca-b537-6aed7e2b9619' class='xr-var-attrs-in' type='checkbox' ><label for='attrs-4bbef782-5c81-4dca-b537-6aed7e2b9619' title='Show/Hide attributes'><svg class='icon xr-icon-file-text2'><use xlink:href='#icon-file-text2'></use></svg></label><input id='data-962a63ed-16f3-419e-8722-c669745b8011' class='xr-var-data-in' type='checkbox'><label for='data-962a63ed-16f3-419e-8722-c669745b8011' title='Show/Hide data repr'><svg class='icon xr-icon-database'><use xlink:href='#icon-database'></use></svg></label><div class='xr-var-attrs'><dl class='xr-attrs'><dt><span>long_name :</span></dt><dd>sea surface temperature</dd><dt><span>standard_name :</span></dt><dd>sea_surface_skin_temperature</dd><dt><span>units :</span></dt><dd>kelvin</dd><dt><span>valid_min :</span></dt><dd>-1000</dd><dt><span>valid_max :</span></dt><dd>10000</dd><dt><span>comment :</span></dt><dd>sea surface temperature from thermal IR (11 um) channels</dd><dt><span>source :</span></dt><dd>NASA and University of Miami</dd><dt><span>coverage_content_type :</span></dt><dd>physicalMeasurement</dd></dl></div><div class='xr-var-data'><pre>[422364 values with dtype=float32]</pre></div></li><li class='xr-var-item'><div class='xr-var-name'><span>sst_dtime</span></div><div class='xr-var-dims'>(time, nj, ni)</div><div class='xr-var-dtype'>timedelta64[ns]</div><div class='xr-var-preview xr-preview'>...</div><input id='attrs-002241e4-2fbf-43a7-ab33-7bce7ede32b7' class='xr-var-attrs-in' type='checkbox' ><label for='attrs-002241e4-2fbf-43a7-ab33-7bce7ede32b7' title='Show/Hide attributes'><svg class='icon xr-icon-file-text2'><use xlink:href='#icon-file-text2'></use></svg></label><input id='data-b8829fc2-2235-414d-bf04-ce7472073e56' class='xr-var-data-in' type='checkbox'><label for='data-b8829fc2-2235-414d-bf04-ce7472073e56' title='Show/Hide data repr'><svg class='icon xr-icon-database'><use xlink:href='#icon-database'></use></svg></label><div class='xr-var-attrs'><dl class='xr-attrs'><dt><span>long_name :</span></dt><dd>time difference from reference time</dd><dt><span>valid_min :</span></dt><dd>-32767</dd><dt><span>valid_max :</span></dt><dd>32767</dd><dt><span>comment :</span></dt><dd>time plus sst_dtime gives seconds after 00:00:00 UTC January 1, 1981</dd><dt><span>coverage_content_type :</span></dt><dd>referenceInformation</dd></dl></div><div class='xr-var-data'><pre>[422364 values with dtype=timedelta64[ns]]</pre></div></li><li class='xr-var-item'><div class='xr-var-name'><span>quality_level</span></div><div class='xr-var-dims'>(time, nj, ni)</div><div class='xr-var-dtype'>float32</div><div class='xr-var-preview xr-preview'>...</div><input id='attrs-55a564cc-505a-4ceb-8191-39ae272a1eb6' class='xr-var-attrs-in' type='checkbox' ><label for='attrs-55a564cc-505a-4ceb-8191-39ae272a1eb6' title='Show/Hide attributes'><svg class='icon xr-icon-file-text2'><use xlink:href='#icon-file-text2'></use></svg></label><input id='data-973a323e-8b0e-4df8-8d61-ef11927c972b' class='xr-var-data-in' type='checkbox'><label for='data-973a323e-8b0e-4df8-8d61-ef11927c972b' title='Show/Hide data repr'><svg class='icon xr-icon-database'><use xlink:href='#icon-database'></use></svg></label><div class='xr-var-attrs'><dl class='xr-attrs'><dt><span>long_name :</span></dt><dd>quality level of SST pixel</dd><dt><span>valid_min :</span></dt><dd>0</dd><dt><span>valid_max :</span></dt><dd>5</dd><dt><span>comment :</span></dt><dd>thermal IR SST proximity confidence value; signed byte array: WARNING Some applications are unable to properly handle signed byte values. If values are encountered &gt; 127, please subtract 256 from this reported value</dd><dt><span>flag_values :</span></dt><dd>[0 1 2 3 4 5]</dd><dt><span>flag_meanings :</span></dt><dd>no_data bad_data worst_quality low_quality acceptable_quality best_quality</dd><dt><span>coverage_content_type :</span></dt><dd>qualityInformation</dd></dl></div><div class='xr-var-data'><pre>[422364 values with dtype=float32]</pre></div></li><li class='xr-var-item'><div class='xr-var-name'><span>sses_bias</span></div><div class='xr-var-dims'>(time, nj, ni)</div><div class='xr-var-dtype'>float32</div><div class='xr-var-preview xr-preview'>...</div><input id='attrs-3936bccf-009d-4c4b-a249-3be0b3227011' class='xr-var-attrs-in' type='checkbox' ><label for='attrs-3936bccf-009d-4c4b-a249-3be0b3227011' title='Show/Hide attributes'><svg class='icon xr-icon-file-text2'><use xlink:href='#icon-file-text2'></use></svg></label><input id='data-8a8b71e8-9e1f-4c9c-b929-7e6ae67fad0b' class='xr-var-data-in' type='checkbox'><label for='data-8a8b71e8-9e1f-4c9c-b929-7e6ae67fad0b' title='Show/Hide data repr'><svg class='icon xr-icon-database'><use xlink:href='#icon-database'></use></svg></label><div class='xr-var-attrs'><dl class='xr-attrs'><dt><span>long_name :</span></dt><dd>SSES bias error based on proximity confidence flags</dd><dt><span>units :</span></dt><dd>kelvin</dd><dt><span>valid_min :</span></dt><dd>-127</dd><dt><span>valid_max :</span></dt><dd>127</dd><dt><span>comment :</span></dt><dd>thermal IR SST bias error; signed byte array: WARNING Some applications are unable to properly handle signed byte values. If values are encountered &gt; 127, please subtract 256 from this reported value</dd><dt><span>coverage_content_type :</span></dt><dd>auxiliaryInformation</dd></dl></div><div class='xr-var-data'><pre>[422364 values with dtype=float32]</pre></div></li><li class='xr-var-item'><div class='xr-var-name'><span>sses_standard_deviation</span></div><div class='xr-var-dims'>(time, nj, ni)</div><div class='xr-var-dtype'>float32</div><div class='xr-var-preview xr-preview'>...</div><input id='attrs-e18dd295-788d-4463-9092-4e689b838d9f' class='xr-var-attrs-in' type='checkbox' ><label for='attrs-e18dd295-788d-4463-9092-4e689b838d9f' title='Show/Hide attributes'><svg class='icon xr-icon-file-text2'><use xlink:href='#icon-file-text2'></use></svg></label><input id='data-0c2a3398-cad1-4710-a00a-81f905c8a49f' class='xr-var-data-in' type='checkbox'><label for='data-0c2a3398-cad1-4710-a00a-81f905c8a49f' title='Show/Hide data repr'><svg class='icon xr-icon-database'><use xlink:href='#icon-database'></use></svg></label><div class='xr-var-attrs'><dl class='xr-attrs'><dt><span>long_name :</span></dt><dd>SSES standard deviation error based on proximity confidence flags</dd><dt><span>units :</span></dt><dd>kelvin</dd><dt><span>valid_min :</span></dt><dd>-127</dd><dt><span>valid_max :</span></dt><dd>127</dd><dt><span>comment :</span></dt><dd>thermal IR SST standard deviation error; signed byte array: WARNING Some applications are unable to properly handle signed byte values. If values are encountered &gt; 127, please subtract 256 from this reported value</dd><dt><span>coverage_content_type :</span></dt><dd>auxiliaryInformation</dd></dl></div><div class='xr-var-data'><pre>[422364 values with dtype=float32]</pre></div></li><li class='xr-var-item'><div class='xr-var-name'><span>l2p_flags</span></div><div class='xr-var-dims'>(time, nj, ni)</div><div class='xr-var-dtype'>int16</div><div class='xr-var-preview xr-preview'>...</div><input id='attrs-549eccbd-4e17-4fb0-8431-a31a66b74764' class='xr-var-attrs-in' type='checkbox' ><label for='attrs-549eccbd-4e17-4fb0-8431-a31a66b74764' title='Show/Hide attributes'><svg class='icon xr-icon-file-text2'><use xlink:href='#icon-file-text2'></use></svg></label><input id='data-059bbb4a-878c-499e-8764-13ce4074bc50' class='xr-var-data-in' type='checkbox'><label for='data-059bbb4a-878c-499e-8764-13ce4074bc50' title='Show/Hide data repr'><svg class='icon xr-icon-database'><use xlink:href='#icon-database'></use></svg></label><div class='xr-var-attrs'><dl class='xr-attrs'><dt><span>long_name :</span></dt><dd>L2P flags</dd><dt><span>valid_min :</span></dt><dd>0</dd><dt><span>valid_max :</span></dt><dd>16</dd><dt><span>comment :</span></dt><dd>These flags can be used to further filter data variables</dd><dt><span>flag_meanings :</span></dt><dd>microwave land ice lake river</dd><dt><span>flag_masks :</span></dt><dd>[ 1  2  4  8 16]</dd><dt><span>coverage_content_type :</span></dt><dd>qualityInformation</dd></dl></div><div class='xr-var-data'><pre>[422364 values with dtype=int16]</pre></div></li><li class='xr-var-item'><div class='xr-var-name'><span>chlorophyll_a</span></div><div class='xr-var-dims'>(time, nj, ni)</div><div class='xr-var-dtype'>float32</div><div class='xr-var-preview xr-preview'>...</div><input id='attrs-42d16925-c070-48de-b491-2d72ac3dbb69' class='xr-var-attrs-in' type='checkbox' ><label for='attrs-42d16925-c070-48de-b491-2d72ac3dbb69' title='Show/Hide attributes'><svg class='icon xr-icon-file-text2'><use xlink:href='#icon-file-text2'></use></svg></label><input id='data-496b2c0b-945a-4cce-b3dc-7cc4c30bf084' class='xr-var-data-in' type='checkbox'><label for='data-496b2c0b-945a-4cce-b3dc-7cc4c30bf084' title='Show/Hide data repr'><svg class='icon xr-icon-database'><use xlink:href='#icon-database'></use></svg></label><div class='xr-var-attrs'><dl class='xr-attrs'><dt><span>long_name :</span></dt><dd>Chlorophyll Concentration, OC3 Algorithm</dd><dt><span>units :</span></dt><dd>mg m^-3</dd><dt><span>valid_min :</span></dt><dd>0.001</dd><dt><span>valid_max :</span></dt><dd>100.0</dd><dt><span>comment :</span></dt><dd>non L2P core field</dd><dt><span>coverage_content_type :</span></dt><dd>auxiliaryInformation</dd></dl></div><div class='xr-var-data'><pre>[422364 values with dtype=float32]</pre></div></li><li class='xr-var-item'><div class='xr-var-name'><span>K_490</span></div><div class='xr-var-dims'>(time, nj, ni)</div><div class='xr-var-dtype'>float32</div><div class='xr-var-preview xr-preview'>...</div><input id='attrs-5fa8f74e-3b5c-43c5-8aa3-e8065b1b5aac' class='xr-var-attrs-in' type='checkbox' ><label for='attrs-5fa8f74e-3b5c-43c5-8aa3-e8065b1b5aac' title='Show/Hide attributes'><svg class='icon xr-icon-file-text2'><use xlink:href='#icon-file-text2'></use></svg></label><input id='data-5be9c191-47e9-4c8d-a7fd-3afdf55bf5d0' class='xr-var-data-in' type='checkbox'><label for='data-5be9c191-47e9-4c8d-a7fd-3afdf55bf5d0' title='Show/Hide data repr'><svg class='icon xr-icon-database'><use xlink:href='#icon-database'></use></svg></label><div class='xr-var-attrs'><dl class='xr-attrs'><dt><span>long_name :</span></dt><dd>Diffuse attenuation coefficient at 490 nm (OBPG)</dd><dt><span>units :</span></dt><dd>m^-1</dd><dt><span>valid_min :</span></dt><dd>50</dd><dt><span>valid_max :</span></dt><dd>30000</dd><dt><span>comment :</span></dt><dd>non L2P core field</dd><dt><span>coverage_content_type :</span></dt><dd>auxiliaryInformation</dd></dl></div><div class='xr-var-data'><pre>[422364 values with dtype=float32]</pre></div></li><li class='xr-var-item'><div class='xr-var-name'><span>wind_speed</span></div><div class='xr-var-dims'>(time, nj, ni)</div><div class='xr-var-dtype'>float32</div><div class='xr-var-preview xr-preview'>...</div><input id='attrs-771e33a1-61c1-4e23-9352-1e28ddc6fbfa' class='xr-var-attrs-in' type='checkbox' ><label for='attrs-771e33a1-61c1-4e23-9352-1e28ddc6fbfa' title='Show/Hide attributes'><svg class='icon xr-icon-file-text2'><use xlink:href='#icon-file-text2'></use></svg></label><input id='data-faba7940-5750-4b8b-ab7d-5814b8ae01fa' class='xr-var-data-in' type='checkbox'><label for='data-faba7940-5750-4b8b-ab7d-5814b8ae01fa' title='Show/Hide data repr'><svg class='icon xr-icon-database'><use xlink:href='#icon-database'></use></svg></label><div class='xr-var-attrs'><dl class='xr-attrs'><dt><span>long_name :</span></dt><dd>10m wind speed</dd><dt><span>standard_name :</span></dt><dd>wind_speed</dd><dt><span>units :</span></dt><dd>m s-1</dd><dt><span>valid_min :</span></dt><dd>-127</dd><dt><span>valid_max :</span></dt><dd>127</dd><dt><span>comment :</span></dt><dd>Wind at 10 meters above the sea surface</dd><dt><span>source :</span></dt><dd>TBD.  Placeholder.  Currently empty</dd><dt><span>grid_mapping :</span></dt><dd>TBD</dd><dt><span>time_offset :</span></dt><dd>2.0</dd><dt><span>height :</span></dt><dd>10 m</dd><dt><span>coverage_content_type :</span></dt><dd>auxiliaryInformation</dd></dl></div><div class='xr-var-data'><pre>[422364 values with dtype=float32]</pre></div></li><li class='xr-var-item'><div class='xr-var-name'><span>dt_analysis</span></div><div class='xr-var-dims'>(time, nj, ni)</div><div class='xr-var-dtype'>float32</div><div class='xr-var-preview xr-preview'>...</div><input id='attrs-da9d6863-2dd1-4884-9af9-5da9b11ee793' class='xr-var-attrs-in' type='checkbox' ><label for='attrs-da9d6863-2dd1-4884-9af9-5da9b11ee793' title='Show/Hide attributes'><svg class='icon xr-icon-file-text2'><use xlink:href='#icon-file-text2'></use></svg></label><input id='data-790913a6-afa9-403e-a490-dba47b518279' class='xr-var-data-in' type='checkbox'><label for='data-790913a6-afa9-403e-a490-dba47b518279' title='Show/Hide data repr'><svg class='icon xr-icon-database'><use xlink:href='#icon-database'></use></svg></label><div class='xr-var-attrs'><dl class='xr-attrs'><dt><span>long_name :</span></dt><dd>deviation from SST reference climatology</dd><dt><span>units :</span></dt><dd>kelvin</dd><dt><span>valid_min :</span></dt><dd>-127</dd><dt><span>valid_max :</span></dt><dd>127</dd><dt><span>comment :</span></dt><dd>TBD</dd><dt><span>source :</span></dt><dd>TBD. Placeholder.  Currently empty</dd><dt><span>coverage_content_type :</span></dt><dd>auxiliaryInformation</dd></dl></div><div class='xr-var-data'><pre>[422364 values with dtype=float32]</pre></div></li></ul></div></li><li class='xr-section-item'><input id='section-ca8001d0-a746-4c5b-b7a5-1ae376c6e1d0' class='xr-section-summary-in' type='checkbox'  ><label for='section-ca8001d0-a746-4c5b-b7a5-1ae376c6e1d0' class='xr-section-summary' >Attributes: <span>(50)</span></label><div class='xr-section-inline-details'></div><div class='xr-section-details'><dl class='xr-attrs'><dt><span>Conventions :</span></dt><dd>CF-1.7, ACDD-1.3</dd><dt><span>title :</span></dt><dd>MODIS Aqua L2P SST</dd><dt><span>summary :</span></dt><dd>Sea surface temperature retrievals produced at the NASA OBPG for the MODIS Aqua sensor.  These have been reformatted to GHRSST GDS specifications by the JPL PO.DAAC</dd><dt><span>references :</span></dt><dd>GHRSST Data Processing Specification v2r5</dd><dt><span>institution :</span></dt><dd>NASA/JPL/OBPG/RSMAS</dd><dt><span>history :</span></dt><dd>MODIS L2P created at JPL PO.DAAC\n",
       "2021-11-03 15:48:26.550461 l2ss-py v1.0.0 (bbox=[[60.0, 90.0], [-45.75, -45.0]] cut=True)</dd><dt><span>comment :</span></dt><dd>L2P Core without DT analysis or other ancillary fields; Day, Start Node:Ascending, End Node:Ascending; WARNING Some applications are unable to properly handle signed byte values. If values are encountered &gt; 127, please subtract 256 from this reported value; Quicklook</dd><dt><span>license :</span></dt><dd>GHRSST and PO.DAAC protocol allow data use as free and open.</dd><dt><span>id :</span></dt><dd>MODIS_A-JPL-L2P-v2019.0</dd><dt><span>naming_authority :</span></dt><dd>org.ghrsst</dd><dt><span>product_version :</span></dt><dd>2019.0</dd><dt><span>uuid :</span></dt><dd>f6e1f61d-c4a4-4c17-8354-0c15e12d688b</dd><dt><span>gds_version_id :</span></dt><dd>2.0</dd><dt><span>netcdf_version_id :</span></dt><dd>4.1</dd><dt><span>date_created :</span></dt><dd>20211101T110613Z</dd><dt><span>file_quality_level :</span></dt><dd>3</dd><dt><span>spatial_resolution :</span></dt><dd>1km</dd><dt><span>start_time :</span></dt><dd>20211101T084001Z</dd><dt><span>time_coverage_start :</span></dt><dd>20211101T084001Z</dd><dt><span>stop_time :</span></dt><dd>20211101T084458Z</dd><dt><span>time_coverage_end :</span></dt><dd>20211101T084458Z</dd><dt><span>northernmost_latitude :</span></dt><dd>-27.3202</dd><dt><span>southernmost_latitude :</span></dt><dd>-48.6134</dd><dt><span>easternmost_longitude :</span></dt><dd>97.5941</dd><dt><span>westernmost_longitude :</span></dt><dd>65.1593</dd><dt><span>source :</span></dt><dd>MODIS sea surface temperature observations for the OBPG</dd><dt><span>platform :</span></dt><dd>Aqua</dd><dt><span>sensor :</span></dt><dd>MODIS</dd><dt><span>metadata_link :</span></dt><dd>http://podaac.jpl.nasa.gov/ws/metadata/dataset/?format=iso&amp;shortName=MODIS_A-JPL-L2P-v2019.0</dd><dt><span>keywords :</span></dt><dd>Oceans &gt; Ocean Temperature &gt; Sea Surface Temperature</dd><dt><span>keywords_vocabulary :</span></dt><dd>NASA Global Change Master Directory (GCMD) Science Keywords</dd><dt><span>standard_name_vocabulary :</span></dt><dd>NetCDF Climate and Forecast (CF) Metadata Convention</dd><dt><span>geospatial_lat_units :</span></dt><dd>degrees_north</dd><dt><span>geospatial_lat_resolution :</span></dt><dd>0.01</dd><dt><span>geospatial_lon_units :</span></dt><dd>degrees_east</dd><dt><span>geospatial_lon_resolution :</span></dt><dd>0.01</dd><dt><span>acknowledgment :</span></dt><dd>The MODIS L2P sea surface temperature data are sponsored by NASA</dd><dt><span>creator_name :</span></dt><dd>Ed Armstrong, JPL PO.DAAC</dd><dt><span>creator_email :</span></dt><dd>edward.m.armstrong@jpl.nasa.gov</dd><dt><span>creator_url :</span></dt><dd>http://podaac.jpl.nasa.gov</dd><dt><span>project :</span></dt><dd>Group for High Resolution Sea Surface Temperature</dd><dt><span>publisher_name :</span></dt><dd>The GHRSST Project Office</dd><dt><span>publisher_url :</span></dt><dd>http://www.ghrsst.org</dd><dt><span>publisher_email :</span></dt><dd>ghrsst-po@nceo.ac.uk</dd><dt><span>processing_level :</span></dt><dd>L2P</dd><dt><span>cdm_data_type :</span></dt><dd>swath</dd><dt><span>startDirection :</span></dt><dd>Ascending</dd><dt><span>endDirection :</span></dt><dd>Ascending</dd><dt><span>day_night_flag :</span></dt><dd>Day</dd><dt><span>history_json :</span></dt><dd>[{&quot;date_time&quot;: &quot;2021-11-03T15:48:26.550501+00:00&quot;, &quot;derived_from&quot;: &quot;https://archive.podaac.earthdata.nasa.gov/podaac-ops-cumulus-protected/MODIS_A-JPL-L2P-v2019.0/20211101084001-JPL-L2P_GHRSST-SSTskin-MODIS_A-D-v02.0-fv01.0.nc&quot;, &quot;program&quot;: &quot;l2ss-py&quot;, &quot;version&quot;: &quot;1.0.0&quot;, &quot;parameters&quot;: &quot;bbox=[[60.0, 90.0], [-45.75, -45.0]] cut=True&quot;, &quot;program_ref&quot;: &quot;https://cmr.earthdata.nasa.gov:443/search/concepts/S1962070864-POCLOUD&quot;, &quot;$schema&quot;: &quot;https://harmony.earthdata.nasa.gov/schemas/history/0.1.0/history-v0.1.0.json&quot;}]</dd></dl></div></li></ul></div></div>"
      ],
      "text/plain": [
       "<xarray.Dataset>\n",
       "Dimensions:                  (nj: 366, ni: 1154, time: 1)\n",
       "Coordinates:\n",
       "    lat                      (nj, ni, time) float32 ...\n",
       "    lon                      (nj, ni, time) float32 ...\n",
       "  * time                     (time) datetime64[ns] 2021-11-01T08:40:01\n",
       "Dimensions without coordinates: nj, ni\n",
       "Data variables:\n",
       "    sea_surface_temperature  (time, nj, ni) float32 ...\n",
       "    sst_dtime                (time, nj, ni) timedelta64[ns] ...\n",
       "    quality_level            (time, nj, ni) float32 ...\n",
       "    sses_bias                (time, nj, ni) float32 ...\n",
       "    sses_standard_deviation  (time, nj, ni) float32 ...\n",
       "    l2p_flags                (time, nj, ni) int16 ...\n",
       "    chlorophyll_a            (time, nj, ni) float32 ...\n",
       "    K_490                    (time, nj, ni) float32 ...\n",
       "    wind_speed               (time, nj, ni) float32 ...\n",
       "    dt_analysis              (time, nj, ni) float32 ...\n",
       "Attributes: (12/50)\n",
       "    Conventions:                CF-1.7, ACDD-1.3\n",
       "    title:                      MODIS Aqua L2P SST\n",
       "    summary:                    Sea surface temperature retrievals produced a...\n",
       "    references:                 GHRSST Data Processing Specification v2r5\n",
       "    institution:                NASA/JPL/OBPG/RSMAS\n",
       "    history:                    MODIS L2P created at JPL PO.DAAC\\n2021-11-03 ...\n",
       "    ...                         ...\n",
       "    processing_level:           L2P\n",
       "    cdm_data_type:              swath\n",
       "    startDirection:             Ascending\n",
       "    endDirection:               Ascending\n",
       "    day_night_flag:             Day\n",
       "    history_json:               [{\"date_time\": \"2021-11-03T15:48:26.550501+00..."
      ]
     },
     "execution_count": 47,
     "metadata": {},
     "output_type": "execute_result"
    }
   ],
   "source": [
    "path = './data/20211101084001-JPL-L2P_GHRSST-SSTskin-MODIS_A-D-v02.0-fv01.0_subsetted.nc4'\n",
    "ds = xr.open_dataset(path)\n",
    "ds"
   ]
  },
  {
   "cell_type": "markdown",
   "id": "2da9826f-cc59-419d-81a9-e3b12b0aeac8",
   "metadata": {},
   "source": [
    "### Extra code attempting to read in directly from s3 into xarray:"
   ]
  },
  {
   "cell_type": "code",
   "execution_count": null,
   "id": "bbe6b921-04c3-4e24-b142-d477874fd28e",
   "metadata": {},
   "outputs": [],
   "source": [
    "# netcdf_stores = [netcdf_fs.get_mapper(root=u, check=False) for u in urls]\n",
    "# netcdf_stores\n",
    "\n",
    "# xr.open_mfdataset(netcdf_stores)"
   ]
  },
  {
   "cell_type": "markdown",
   "id": "985c7a66-bac4-423c-9012-d90637a6f623",
   "metadata": {},
   "source": [
    "### Trying using rioxarray"
   ]
  },
  {
   "cell_type": "code",
   "execution_count": 33,
   "id": "22a7d3d3-9011-4689-9d6b-4dc82f120358",
   "metadata": {
    "tags": []
   },
   "outputs": [],
   "source": [
    "import rioxarray\n",
    "import boto3\n",
    "import rasterio as rio\n",
    "from rasterio.session import AWSSession\n",
    "import os"
   ]
  },
  {
   "cell_type": "code",
   "execution_count": 27,
   "id": "a026e2af-1a26-4902-b3f0-b78e0bb79d97",
   "metadata": {},
   "outputs": [],
   "source": [
    "session = boto3.Session(aws_access_key_id=creds['aws_access_key_id'], \n",
    "                        aws_secret_access_key=creds['aws_secret_access_key'],\n",
    "                        aws_session_token=creds['aws_session_token'],\n",
    "                        region_name='us-west-2')"
   ]
  },
  {
   "cell_type": "code",
   "execution_count": 34,
   "id": "8ca7aa52-a782-4bcc-932e-3c8535972fff",
   "metadata": {},
   "outputs": [
    {
     "data": {
      "text/plain": [
       "<rasterio.env.Env at 0x7f9598b1fa30>"
      ]
     },
     "execution_count": 34,
     "metadata": {},
     "output_type": "execute_result"
    }
   ],
   "source": [
    "rio_env = rio.Env(AWSSession(session),\n",
    "                  GDAL_DISABLE_READDIR_ON_OPEN='EMPTY_DIR',\n",
    "                  GDAL_HTTP_COOKIEFILE=os.path.expanduser('~/cookies.txt'),\n",
    "                  GDAL_HTTP_COOKIEJAR=os.path.expanduser('~/cookies.txt'))\n",
    "rio_env.__enter__()"
   ]
  },
  {
   "cell_type": "code",
   "execution_count": 42,
   "id": "41eff3d5-d86a-48a4-ab7d-7238ba914a43",
   "metadata": {},
   "outputs": [
    {
     "name": "stderr",
     "output_type": "stream",
     "text": [
      "/srv/conda/envs/notebook/lib/python3.9/site-packages/rasterio/__init__.py:220: NotGeoreferencedWarning: Dataset has no geotransform, gcps, or rpcs. The identity matrix be returned.\n",
      "  s = DatasetReader(path, driver=driver, sharing=sharing, **kwargs)\n",
      "/srv/conda/envs/notebook/lib/python3.9/site-packages/rioxarray/_io.py:841: NotGeoreferencedWarning: Dataset has no geotransform, gcps, or rpcs. The identity matrix be returned.\n",
      "  warnings.warn(str(rio_warning.message), type(rio_warning.message))\n",
      "/srv/conda/envs/notebook/lib/python3.9/site-packages/rasterio/__init__.py:220: NotGeoreferencedWarning: Dataset has no geotransform, gcps, or rpcs. The identity matrix be returned.\n",
      "  s = DatasetReader(path, driver=driver, sharing=sharing, **kwargs)\n",
      "/srv/conda/envs/notebook/lib/python3.9/site-packages/rioxarray/_io.py:841: NotGeoreferencedWarning: Dataset has no geotransform, gcps, or rpcs. The identity matrix be returned.\n",
      "  warnings.warn(str(rio_warning.message), type(rio_warning.message))\n",
      "/srv/conda/envs/notebook/lib/python3.9/site-packages/rasterio/__init__.py:220: NotGeoreferencedWarning: Dataset has no geotransform, gcps, or rpcs. The identity matrix be returned.\n",
      "  s = DatasetReader(path, driver=driver, sharing=sharing, **kwargs)\n",
      "/srv/conda/envs/notebook/lib/python3.9/site-packages/rioxarray/_io.py:841: NotGeoreferencedWarning: Dataset has no geotransform, gcps, or rpcs. The identity matrix be returned.\n",
      "  warnings.warn(str(rio_warning.message), type(rio_warning.message))\n",
      "/srv/conda/envs/notebook/lib/python3.9/site-packages/rasterio/__init__.py:220: NotGeoreferencedWarning: Dataset has no geotransform, gcps, or rpcs. The identity matrix be returned.\n",
      "  s = DatasetReader(path, driver=driver, sharing=sharing, **kwargs)\n",
      "/srv/conda/envs/notebook/lib/python3.9/site-packages/rioxarray/_io.py:841: NotGeoreferencedWarning: Dataset has no geotransform, gcps, or rpcs. The identity matrix be returned.\n",
      "  warnings.warn(str(rio_warning.message), type(rio_warning.message))\n",
      "/srv/conda/envs/notebook/lib/python3.9/site-packages/rasterio/__init__.py:220: NotGeoreferencedWarning: Dataset has no geotransform, gcps, or rpcs. The identity matrix be returned.\n",
      "  s = DatasetReader(path, driver=driver, sharing=sharing, **kwargs)\n",
      "/srv/conda/envs/notebook/lib/python3.9/site-packages/rioxarray/_io.py:841: NotGeoreferencedWarning: Dataset has no geotransform, gcps, or rpcs. The identity matrix be returned.\n",
      "  warnings.warn(str(rio_warning.message), type(rio_warning.message))\n",
      "/srv/conda/envs/notebook/lib/python3.9/site-packages/rasterio/__init__.py:220: NotGeoreferencedWarning: Dataset has no geotransform, gcps, or rpcs. The identity matrix be returned.\n",
      "  s = DatasetReader(path, driver=driver, sharing=sharing, **kwargs)\n",
      "/srv/conda/envs/notebook/lib/python3.9/site-packages/rioxarray/_io.py:841: NotGeoreferencedWarning: Dataset has no geotransform, gcps, or rpcs. The identity matrix be returned.\n",
      "  warnings.warn(str(rio_warning.message), type(rio_warning.message))\n",
      "/srv/conda/envs/notebook/lib/python3.9/site-packages/rasterio/__init__.py:220: NotGeoreferencedWarning: Dataset has no geotransform, gcps, or rpcs. The identity matrix be returned.\n",
      "  s = DatasetReader(path, driver=driver, sharing=sharing, **kwargs)\n",
      "/srv/conda/envs/notebook/lib/python3.9/site-packages/rioxarray/_io.py:841: NotGeoreferencedWarning: Dataset has no geotransform, gcps, or rpcs. The identity matrix be returned.\n",
      "  warnings.warn(str(rio_warning.message), type(rio_warning.message))\n",
      "/srv/conda/envs/notebook/lib/python3.9/site-packages/rasterio/__init__.py:220: NotGeoreferencedWarning: Dataset has no geotransform, gcps, or rpcs. The identity matrix be returned.\n",
      "  s = DatasetReader(path, driver=driver, sharing=sharing, **kwargs)\n",
      "/srv/conda/envs/notebook/lib/python3.9/site-packages/rioxarray/_io.py:841: NotGeoreferencedWarning: Dataset has no geotransform, gcps, or rpcs. The identity matrix be returned.\n",
      "  warnings.warn(str(rio_warning.message), type(rio_warning.message))\n",
      "/srv/conda/envs/notebook/lib/python3.9/site-packages/rasterio/__init__.py:220: NotGeoreferencedWarning: Dataset has no geotransform, gcps, or rpcs. The identity matrix be returned.\n",
      "  s = DatasetReader(path, driver=driver, sharing=sharing, **kwargs)\n",
      "/srv/conda/envs/notebook/lib/python3.9/site-packages/rioxarray/_io.py:841: NotGeoreferencedWarning: Dataset has no geotransform, gcps, or rpcs. The identity matrix be returned.\n",
      "  warnings.warn(str(rio_warning.message), type(rio_warning.message))\n",
      "/srv/conda/envs/notebook/lib/python3.9/site-packages/rasterio/__init__.py:220: NotGeoreferencedWarning: Dataset has no geotransform, gcps, or rpcs. The identity matrix be returned.\n",
      "  s = DatasetReader(path, driver=driver, sharing=sharing, **kwargs)\n",
      "/srv/conda/envs/notebook/lib/python3.9/site-packages/rioxarray/_io.py:841: NotGeoreferencedWarning: Dataset has no geotransform, gcps, or rpcs. The identity matrix be returned.\n",
      "  warnings.warn(str(rio_warning.message), type(rio_warning.message))\n",
      "/srv/conda/envs/notebook/lib/python3.9/site-packages/rasterio/__init__.py:220: NotGeoreferencedWarning: Dataset has no geotransform, gcps, or rpcs. The identity matrix be returned.\n",
      "  s = DatasetReader(path, driver=driver, sharing=sharing, **kwargs)\n",
      "/srv/conda/envs/notebook/lib/python3.9/site-packages/rioxarray/_io.py:841: NotGeoreferencedWarning: Dataset has no geotransform, gcps, or rpcs. The identity matrix be returned.\n",
      "  warnings.warn(str(rio_warning.message), type(rio_warning.message))\n",
      "/srv/conda/envs/notebook/lib/python3.9/site-packages/rasterio/__init__.py:220: NotGeoreferencedWarning: Dataset has no geotransform, gcps, or rpcs. The identity matrix be returned.\n",
      "  s = DatasetReader(path, driver=driver, sharing=sharing, **kwargs)\n",
      "/srv/conda/envs/notebook/lib/python3.9/site-packages/rioxarray/_io.py:841: NotGeoreferencedWarning: Dataset has no geotransform, gcps, or rpcs. The identity matrix be returned.\n",
      "  warnings.warn(str(rio_warning.message), type(rio_warning.message))\n"
     ]
    },
    {
     "data": {
      "text/plain": [
       "[<xarray.Dataset>\n",
       " Dimensions:      (y: 1154, x: 1, band: 366)\n",
       " Coordinates:\n",
       "   * y            (y) float64 0.5 1.5 2.5 3.5 ... 1.152e+03 1.152e+03 1.154e+03\n",
       "   * x            (x) float64 0.5\n",
       "   * band         (band) int64 1 2 3 4 5 6 7 8 ... 360 361 362 363 364 365 366\n",
       "     spatial_ref  int64 0\n",
       " Data variables:\n",
       "     lat          (band, y, x) float32 dask.array<chunksize=(1, 1154, 1), meta=np.ndarray>\n",
       "     lon          (band, y, x) float32 dask.array<chunksize=(1, 1154, 1), meta=np.ndarray>\n",
       " Attributes: (12/50)\n",
       "     acknowledgment:             The MODIS L2P sea surface temperature data ar...\n",
       "     cdm_data_type:              swath\n",
       "     comment:                    L2P Core without DT analysis or other ancilla...\n",
       "     Conventions:                CF-1.7, ACDD-1.3\n",
       "     creator_email:              edward.m.armstrong@jpl.nasa.gov\n",
       "     creator_name:               Ed Armstrong, JPL PO.DAAC\n",
       "     ...                         ...\n",
       "     summary:                    Sea surface temperature retrievals produced a...\n",
       "     time_coverage_end:          20211101T084458Z\n",
       "     time_coverage_start:        20211101T084001Z\n",
       "     title:                      MODIS Aqua L2P SST\n",
       "     uuid:                       f6e1f61d-c4a4-4c17-8354-0c15e12d688b\n",
       "     westernmost_longitude:      65.159302,\n",
       " <xarray.Dataset>\n",
       " Dimensions:                  (y: 366, x: 1154, time: 1)\n",
       " Coordinates:\n",
       "   * y                        (y) float64 0.5 1.5 2.5 3.5 ... 363.5 364.5 365.5\n",
       "   * x                        (x) float64 0.5 1.5 2.5 ... 1.152e+03 1.154e+03\n",
       "   * time                     (time) object 2021-11-01 08:40:01\n",
       "     spatial_ref              int64 0\n",
       "     TBD                      int64 0\n",
       " Data variables:\n",
       "     K_490                    (time, y, x) int16 dask.array<chunksize=(1, 366, 1154), meta=np.ndarray>\n",
       "     wind_speed               (time, y, x) int8 dask.array<chunksize=(1, 366, 1154), meta=np.ndarray>\n",
       "     dt_analysis              (time, y, x) int8 dask.array<chunksize=(1, 366, 1154), meta=np.ndarray>\n",
       "     sea_surface_temperature  (time, y, x) int16 dask.array<chunksize=(1, 366, 1154), meta=np.ndarray>\n",
       "     sst_dtime                (time, y, x) float64 dask.array<chunksize=(1, 366, 1154), meta=np.ndarray>\n",
       "     quality_level            (time, y, x) int8 dask.array<chunksize=(1, 366, 1154), meta=np.ndarray>\n",
       "     sses_bias                (time, y, x) int8 dask.array<chunksize=(1, 366, 1154), meta=np.ndarray>\n",
       "     sses_standard_deviation  (time, y, x) int8 dask.array<chunksize=(1, 366, 1154), meta=np.ndarray>\n",
       "     l2p_flags                (time, y, x) int16 dask.array<chunksize=(1, 366, 1154), meta=np.ndarray>\n",
       "     chlorophyll_a            (time, y, x) float32 dask.array<chunksize=(1, 366, 1154), meta=np.ndarray>\n",
       " Attributes: (12/50)\n",
       "     acknowledgment:             The MODIS L2P sea surface temperature data ar...\n",
       "     cdm_data_type:              swath\n",
       "     comment:                    L2P Core without DT analysis or other ancilla...\n",
       "     Conventions:                CF-1.7, ACDD-1.3\n",
       "     creator_email:              edward.m.armstrong@jpl.nasa.gov\n",
       "     creator_name:               Ed Armstrong, JPL PO.DAAC\n",
       "     ...                         ...\n",
       "     summary:                    Sea surface temperature retrievals produced a...\n",
       "     time_coverage_end:          20211101T084458Z\n",
       "     time_coverage_start:        20211101T084001Z\n",
       "     title:                      MODIS Aqua L2P SST\n",
       "     uuid:                       f6e1f61d-c4a4-4c17-8354-0c15e12d688b\n",
       "     westernmost_longitude:      65.159302]"
      ]
     },
     "execution_count": 42,
     "metadata": {},
     "output_type": "execute_result"
    }
   ],
   "source": [
    "da = rioxarray.open_rasterio(urls[1], chunks=True)\n",
    "da"
   ]
  },
  {
   "cell_type": "code",
   "execution_count": null,
   "id": "dceca40b-5b0c-4303-8d6c-15509dbe6660",
   "metadata": {},
   "outputs": [],
   "source": []
  },
  {
   "cell_type": "markdown",
   "id": "6752db35-abdc-4c2f-a0e2-8c51b190373e",
   "metadata": {},
   "source": [
    "### Integrate with PO.DAAC l2ss tutorial to bring in STAC items into xarray directly:"
   ]
  },
  {
   "cell_type": "code",
   "execution_count": null,
   "id": "a5887768-3f6c-4ac6-828d-5f6956bff31f",
   "metadata": {},
   "outputs": [],
   "source": [
    "# # From PO.DAAC l2ss tutorial:\n",
    "\n",
    "# ds = xr.open_dataset('ogc_temp.nc')\n",
    "# ds\n",
    "\n",
    "# # Determine the lat/lon coordinate names\n",
    "# for coord_name, coord in ds.coords.items():\n",
    "#     if 'units' not in coord.attrs:\n",
    "#         continue\n",
    "#     if coord.attrs['units'] == 'degrees_north':\n",
    "#         lat_var = coord_name\n",
    "#     if coord.attrs['units'] == 'degrees_east':\n",
    "#         lon_var = coord_name\n",
    "\n",
    "# print(f'lat_var={lat_var}')\n",
    "# print(f'lon_var={lon_var}')\n",
    "\n",
    "# if ds[variable].size == 0:\n",
    "#     print(\"No data in subsetted region. Exiting\")\n",
    "#     sys.exit(0)\n",
    "    \n",
    "# import matplotlib.pyplot as plt\n",
    "# import math\n",
    "\n",
    "# fig, axes = plt.subplots(ncols=3, nrows=math.ceil((len(ds.data_vars)/3)))\n",
    "# fig.set_size_inches((15,15))\n",
    "\n",
    "# for count, xvar in enumerate(ds.data_vars):\n",
    "#     if  ds[xvar].dtype == \"timedelta64[ns]\":\n",
    "#         continue\n",
    "#         #ds[xvar].astype('timedelta64[D]').plot(ax=axes[int(count/3)][count%3])\n",
    "#     ds[xvar].plot(ax=axes[int(count/3)][count%3])"
   ]
  },
  {
   "cell_type": "code",
   "execution_count": null,
   "id": "a020852f-42eb-468a-b32f-34fff866e3e9",
   "metadata": {},
   "outputs": [],
   "source": [
    "# # Code examples:\n",
    "\n",
    "# # From AGU 2020 tutorial:\n",
    "\n",
    "# smap_zarr_urls = smap_links[5:]\n",
    "# smap_zarr_stores = [zarr_fs.get_mapper(root=u, check=False) for u in smap_zarr_urls]\n",
    "# ds_SMAP = xr.open_mfdataset(smap_zarr_stores, engine=\"zarr\")\n",
    "\n",
    "# print(ds_SMAP)"
   ]
  },
  {
   "cell_type": "markdown",
   "id": "12ee7069-07ed-4bfa-afdc-3422849b442e",
   "metadata": {
    "jupyter": {
     "source_hidden": true
    },
    "tags": []
   },
   "source": [
    "### STAC workflow"
   ]
  },
  {
   "cell_type": "code",
   "execution_count": null,
   "id": "8a287daa-3861-42d7-8151-c2edfa063698",
   "metadata": {
    "jupyter": {
     "source_hidden": true
    },
    "tags": []
   },
   "outputs": [],
   "source": [
    "# stac_catalog_url = harmony_client.stac_catalog_url(job_id)\n",
    "# stac_catalog_url"
   ]
  },
  {
   "cell_type": "markdown",
   "id": "effd5ed1-3e4b-45ae-9eaa-d09571e98159",
   "metadata": {
    "jupyter": {
     "source_hidden": true
    },
    "tags": []
   },
   "source": [
    "### Following Aaron's steps from cmr-stac tutorial:"
   ]
  },
  {
   "cell_type": "code",
   "execution_count": null,
   "id": "ad36fd94-b8bc-48c1-8e65-bcf65e6912f9",
   "metadata": {
    "jupyter": {
     "source_hidden": true
    },
    "tags": []
   },
   "outputs": [],
   "source": [
    "# from pystac_client import Client  "
   ]
  },
  {
   "cell_type": "code",
   "execution_count": null,
   "id": "7cf661f5-9a74-49f0-b313-c2302e80d3db",
   "metadata": {
    "jupyter": {
     "source_hidden": true
    },
    "tags": []
   },
   "outputs": [],
   "source": [
    "# catalog = Client.open(stac_catalog_url)"
   ]
  },
  {
   "cell_type": "code",
   "execution_count": null,
   "id": "17cd5b73-78e9-468f-8cf6-e34081e0e45b",
   "metadata": {
    "jupyter": {
     "source_hidden": true
    },
    "tags": []
   },
   "outputs": [],
   "source": [
    "# links = catalog.get_links()"
   ]
  },
  {
   "cell_type": "code",
   "execution_count": null,
   "id": "89e7b190-5ded-4449-922d-e05b7755c849",
   "metadata": {
    "jupyter": {
     "source_hidden": true
    },
    "tags": []
   },
   "outputs": [],
   "source": [
    "# # links[0].to_dict()\n",
    "# for link in range(len(links)): print(links[link].to_dict())"
   ]
  },
  {
   "cell_type": "code",
   "execution_count": null,
   "id": "7cbf1cd9-5d3a-41e2-ae00-3c9e2d77c1a4",
   "metadata": {
    "jupyter": {
     "source_hidden": true
    },
    "tags": []
   },
   "outputs": [],
   "source": [
    "# item_collection = catalog.get_all_items()"
   ]
  },
  {
   "cell_type": "code",
   "execution_count": null,
   "id": "523eddd8-abcc-4e7a-a451-24cae2b94a7e",
   "metadata": {
    "jupyter": {
     "source_hidden": true
    },
    "tags": []
   },
   "outputs": [],
   "source": [
    "# list(item_collection)"
   ]
  },
  {
   "cell_type": "code",
   "execution_count": null,
   "id": "ef92bc81-7639-4faf-83f4-962f1b5fbdf3",
   "metadata": {
    "jupyter": {
     "source_hidden": true
    },
    "tags": []
   },
   "outputs": [],
   "source": [
    "# links = []\n",
    "\n",
    "# for i in item_collection:\n",
    "#         for a in i.assets:\n",
    "#             links.append(i.assets[a].href)"
   ]
  },
  {
   "cell_type": "code",
   "execution_count": null,
   "id": "81c32a53-ce16-40ac-9e47-7c4b26746bf2",
   "metadata": {
    "jupyter": {
     "source_hidden": true
    },
    "tags": []
   },
   "outputs": [],
   "source": [
    "# # Trying using Harmony example code\n",
    "\n",
    "\n",
    "# print(catalog.title)\n",
    "# s3_links = []\n",
    "# for item in catalog.get_all_items():\n",
    "#     print(item.datetime, [asset.href for asset in item.assets.values()])\n",
    "#     s3_links.append([asset.href for asset in item.assets.values()])"
   ]
  },
  {
   "cell_type": "code",
   "execution_count": null,
   "id": "fe8c774b-0581-4509-8b17-0e65280f0375",
   "metadata": {
    "jupyter": {
     "source_hidden": true
    },
    "tags": []
   },
   "outputs": [],
   "source": [
    "## direct s3 using boto\n",
    "\n",
    "# import boto3\n",
    "\n",
    "# s3 = boto3.client('s3', **creds)\n",
    "# for url in results:\n",
    "#     bucket, obj, fn = s3_components(url)\n",
    "#     with open(fn, 'wb') as f:\n",
    "#         s3.download_fileobj(bucket, obj, f)"
   ]
  },
  {
   "cell_type": "code",
   "execution_count": null,
   "id": "1e2dba76-7585-46f5-804e-0519b46aeed1",
   "metadata": {
    "jupyter": {
     "source_hidden": true
    },
    "tags": []
   },
   "outputs": [],
   "source": [
    "# ds = xr.open_dataset('ogc_temp.nc')\n",
    "# ds\n",
    "\n",
    "# # Determine the lat/lon coordinate names\n",
    "# for coord_name, coord in ds.coords.items():\n",
    "#     if 'units' not in coord.attrs:\n",
    "#         continue\n",
    "#     if coord.attrs['units'] == 'degrees_north':\n",
    "#         lat_var = coord_name\n",
    "#     if coord.attrs['units'] == 'degrees_east':\n",
    "#         lon_var = coord_name\n",
    "\n",
    "# print(f'lat_var={lat_var}')\n",
    "# print(f'lon_var={lon_var}')"
   ]
  }
 ],
 "metadata": {
  "kernelspec": {
   "display_name": "Python 3 (ipykernel)",
   "language": "python",
   "name": "python3"
  },
  "language_info": {
   "codemirror_mode": {
    "name": "ipython",
    "version": 3
   },
   "file_extension": ".py",
   "mimetype": "text/x-python",
   "name": "python",
   "nbconvert_exporter": "python",
   "pygments_lexer": "ipython3",
   "version": "3.9.7"
  }
 },
 "nbformat": 4,
 "nbformat_minor": 5
}
