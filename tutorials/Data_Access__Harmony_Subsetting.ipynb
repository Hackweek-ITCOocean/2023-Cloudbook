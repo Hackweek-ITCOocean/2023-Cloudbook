{
 "cells": [
  {
   "cell_type": "markdown",
   "id": "30d1a698-a68c-4da3-9131-9e37cb3eb719",
   "metadata": {},
   "source": [
    "# Data Subsetting and Transformation Services in the Cloud\n",
    "\n",
    "## Using NASA Earthdata Harmony"
   ]
  },
  {
   "cell_type": "markdown",
   "id": "6d16a72a-d49f-47ae-a7c7-ec3676d13f16",
   "metadata": {},
   "source": [
    "---"
   ]
  },
  {
   "cell_type": "markdown",
   "id": "0af92b67-ceee-4164-b8dd-b01219f4cd98",
   "metadata": {},
   "source": [
    "## Timing:\n",
    "- Exercise: 45 minutes"
   ]
  },
  {
   "cell_type": "markdown",
   "id": "b89c2939-437e-4f43-9323-33fe034a7a32",
   "metadata": {},
   "source": [
    "---"
   ]
  },
  {
   "cell_type": "markdown",
   "id": "4f8dc4ee-a8c5-439d-a1d5-48234c05add7",
   "metadata": {
    "tags": []
   },
   "source": [
    "## Summary\n",
    "\n",
    "Harmony allows you to seamlessly analyze Earth observation data from different NASA data centers... \n",
    "https://harmony.earthdata.nasa.gov/\n",
    "\n",
    "#### Benefits\n",
    "\n",
    "- Consistent access patterns to EOSDIS holdings make cross-data center data access easier\n",
    "- Data reduction services allow users to request only the data they want, in the format and projection they want\n",
    "- Analysis Ready Data and cloud access will help reduce time-to-science\n",
    "- Community Development helps reduce the barriers for re-use of code and sharing of domain knowledge\n",
    "\n",
    "### Objectives\n",
    "\n",
    ".\n",
    ".\n",
    ".\n",
    "\n",
    "___"
   ]
  },
  {
   "cell_type": "markdown",
   "id": "d47f95dd-5dab-43e3-9533-9a4437119d87",
   "metadata": {
    "tags": []
   },
   "source": [
    "## Import Packages"
   ]
  },
  {
   "cell_type": "code",
   "execution_count": 3,
   "id": "4ae3e21c-55fb-480b-bc77-a296605590d5",
   "metadata": {},
   "outputs": [
    {
     "name": "stdout",
     "output_type": "stream",
     "text": [
      "Collecting harmony-py\n",
      "  Downloading harmony_py-0.3.0-py3-none-any.whl (21 kB)\n",
      "Requirement already satisfied: requests~=2.2 in /srv/conda/envs/nsidc/lib/python3.9/site-packages (from harmony-py) (2.26.0)\n",
      "Collecting python-dateutil~=2.7.5\n",
      "  Using cached python_dateutil-2.7.5-py2.py3-none-any.whl (225 kB)\n",
      "Collecting python-dotenv~=0.1\n",
      "  Downloading python_dotenv-0.19.1-py2.py3-none-any.whl (17 kB)\n",
      "Collecting sphinxcontrib-napoleon>=0.7\n",
      "  Using cached sphinxcontrib_napoleon-0.7-py2.py3-none-any.whl (17 kB)\n",
      "Collecting progressbar2~=3.5\n",
      "  Downloading progressbar2-3.55.0-py2.py3-none-any.whl (26 kB)\n",
      "Collecting curlify~=2.2\n",
      "  Downloading curlify-2.2.1.tar.gz (3.0 kB)\n",
      "  Preparing metadata (setup.py) ... \u001b[?25ldone\n",
      "\u001b[?25hCollecting python-utils>=2.3.0\n",
      "  Using cached python_utils-2.5.6-py2.py3-none-any.whl (12 kB)\n",
      "Requirement already satisfied: six in /srv/conda/envs/nsidc/lib/python3.9/site-packages (from progressbar2~=3.5->harmony-py) (1.16.0)\n",
      "Requirement already satisfied: certifi>=2017.4.17 in /srv/conda/envs/nsidc/lib/python3.9/site-packages (from requests~=2.2->harmony-py) (2021.10.8)\n",
      "Requirement already satisfied: urllib3<1.27,>=1.21.1 in /srv/conda/envs/nsidc/lib/python3.9/site-packages (from requests~=2.2->harmony-py) (1.26.7)\n",
      "Requirement already satisfied: charset-normalizer~=2.0.0 in /srv/conda/envs/nsidc/lib/python3.9/site-packages (from requests~=2.2->harmony-py) (2.0.0)\n",
      "Requirement already satisfied: idna<4,>=2.5 in /srv/conda/envs/nsidc/lib/python3.9/site-packages (from requests~=2.2->harmony-py) (3.1)\n",
      "Collecting pockets>=0.3\n",
      "  Using cached pockets-0.9.1-py2.py3-none-any.whl (26 kB)\n",
      "Building wheels for collected packages: curlify\n",
      "  Building wheel for curlify (setup.py) ... \u001b[?25ldone\n",
      "\u001b[?25h  Created wheel for curlify: filename=curlify-2.2.1-py3-none-any.whl size=2672 sha256=958995c3e63f91c070cb6402ecf690d6a3ce421ea704c7eb0193ef63edd73e4e\n",
      "  Stored in directory: /home/jovyan/.cache/pip/wheels/17/6d/bc/95e6610d3594aba71ab78800eb7dcfb1cf317e59122bdcc7bc\n",
      "Successfully built curlify\n",
      "Installing collected packages: python-utils, pockets, sphinxcontrib-napoleon, python-dotenv, python-dateutil, progressbar2, curlify, harmony-py\n",
      "  Attempting uninstall: python-dateutil\n",
      "    Found existing installation: python-dateutil 2.8.2\n",
      "    Uninstalling python-dateutil-2.8.2:\n",
      "      Successfully uninstalled python-dateutil-2.8.2\n",
      "\u001b[31mERROR: pip's dependency resolver does not currently take into account all the packages that are installed. This behaviour is the source of the following dependency conflicts.\n",
      "awscli 1.21.5 requires botocore==1.22.5, but you have botocore 1.20.106 which is incompatible.\u001b[0m\n",
      "Successfully installed curlify-2.2.1 harmony-py-0.3.0 pockets-0.9.1 progressbar2-3.55.0 python-dateutil-2.7.5 python-dotenv-0.19.1 python-utils-2.5.6 sphinxcontrib-napoleon-0.7\n",
      "Note: you may need to restart the kernel to use updated packages.\n"
     ]
    }
   ],
   "source": [
    "pip install -U harmony-py"
   ]
  },
  {
   "cell_type": "code",
   "execution_count": 102,
   "id": "3d6cf2c7-ea5b-41eb-999c-483240d5e529",
   "metadata": {},
   "outputs": [],
   "source": [
    "from harmony import BBox, Client, Collection, Request, LinkType\n",
    "from harmony.config import Environment\n",
    "import requests\n",
    "from pprint import pprint\n",
    "import datetime as dt\n"
   ]
  },
  {
   "cell_type": "markdown",
   "id": "80a85c23-ec37-4430-8e8d-2e87b2900589",
   "metadata": {},
   "source": [
    "## Discovery service options for a given data set"
   ]
  },
  {
   "cell_type": "code",
   "execution_count": 29,
   "id": "65ab652b-9bd1-4fb9-98c6-1996888c9b48",
   "metadata": {},
   "outputs": [
    {
     "name": "stdout",
     "output_type": "stream",
     "text": [
      "'Harmony'\n",
      "{'Subset': {'SpatialSubset': {'BoundingBox': {'AllowMultipleValues': False}},\n",
      "            'TemporalSubset': {'AllowMultipleValues': False},\n",
      "            'VariableSubset': {'AllowMultipleValues': True}},\n",
      " 'SupportedReformattings': [{'SupportedInputFormat': 'HDF5',\n",
      "                             'SupportedOutputFormats': ['NETCDF-4']},\n",
      "                            {'SupportedInputFormat': 'NETCDF-4',\n",
      "                             'SupportedOutputFormats': ['NETCDF-4']}]}\n",
      "'OPeNDAP'\n",
      "{'Subset': {'SpatialSubset': {'BoundingBox': {'AllowMultipleValues': False}},\n",
      "            'TemporalSubset': {'AllowMultipleValues': False},\n",
      "            'VariableSubset': {'AllowMultipleValues': True}},\n",
      " 'SupportedReformattings': [{'SupportedInputFormat': 'NETCDF-4',\n",
      "                             'SupportedOutputFormats': ['ASCII',\n",
      "                                                        'CSV',\n",
      "                                                        'NETCDF-3',\n",
      "                                                        'NETCDF-4']},\n",
      "                            {'SupportedInputFormat': 'HDF5',\n",
      "                             'SupportedOutputFormats': ['ASCII',\n",
      "                                                        'CSV',\n",
      "                                                        'NETCDF-3',\n",
      "                                                        'NETCDF-4']}]}\n"
     ]
    }
   ],
   "source": [
    "CMR_OPS = 'https://cmr.earthdata.nasa.gov/search'\n",
    "url = f'{CMR_OPS}/{\"collections\"}'\n",
    "\n",
    "response = requests.get(url, \n",
    "                        params={\n",
    "                            'concept_id': 'C1940473819-POCLOUD',\n",
    "                            },\n",
    "                        headers={\n",
    "                            'Accept': 'application/json'\n",
    "                            }\n",
    "                       )\n",
    "response = response.json()\n",
    "services = response['feed']['entry'][0]['associations']['services']\n",
    "output_format = \"umm_json\"\n",
    "service_url = \"https://cmr.earthdata.nasa.gov/search/services\"\n",
    "for i in range(len(services)):\n",
    "    response = requests.get(f\"{service_url}.{output_format}?concept-id={services[i]}\")\n",
    "    response = response.json()\n",
    "    pprint(response['items'][0]['umm']['Type'])\n",
    "    pprint(response['items'][0]['umm']['ServiceOptions'])"
   ]
  },
  {
   "cell_type": "markdown",
   "id": "644bd05f-b5bf-4e16-ad5d-5d3aa675fdc0",
   "metadata": {},
   "source": [
    "## Discover variable names"
   ]
  },
  {
   "cell_type": "code",
   "execution_count": 47,
   "id": "7f8cf211-fcab-4533-ba00-e873b3d82f71",
   "metadata": {},
   "outputs": [
    {
     "name": "stdout",
     "output_type": "stream",
     "text": [
      "'sses_standard_deviation_4um'\n",
      "'l2p_flags'\n",
      "'time'\n",
      "'dt_analysis'\n",
      "'sses_standard_deviation'\n",
      "'sst_dtime'\n",
      "'sses_bias_4um'\n",
      "'lat'\n",
      "'sea_surface_temperature_4um'\n",
      "'sses_bias'\n",
      "'lon'\n",
      "'sea_surface_temperature'\n",
      "'quality_level'\n",
      "'wind_speed'\n",
      "'quality_level_4um'\n"
     ]
    }
   ],
   "source": [
    "response = requests.get(url, \n",
    "                        params={\n",
    "                            'concept_id': 'C1940473819-POCLOUD',\n",
    "                            },\n",
    "                        headers={\n",
    "                            'Accept': 'application/json'\n",
    "                            }\n",
    "                       )\n",
    "response = response.json()\n",
    "variables = response['feed']['entry'][0]['associations']['variables']\n",
    "output_format = \"umm_json\"\n",
    "var_url = \"https://cmr.earthdata.nasa.gov/search/variables\"\n",
    "for i in range(len(variables)):\n",
    "    response = requests.get(f\"{var_url}.{output_format}?concept-id={variables[i]}\")\n",
    "    response = response.json()\n",
    "    # pprint(response['items'][0]['umm'])\n",
    "    if 'Name' in response['items'][0]['umm']: pprint(response['items'][0]['umm']['Name'])"
   ]
  },
  {
   "cell_type": "code",
   "execution_count": 35,
   "id": "4a93372a-3acc-4dfb-af7c-3552c1e6984e",
   "metadata": {},
   "outputs": [],
   "source": [
    "variables = ['sea_surface_temperature','lat','lon']"
   ]
  },
  {
   "cell_type": "code",
   "execution_count": 34,
   "id": "e7fe20b1-7d23-4d41-907c-62624eeb93f7",
   "metadata": {},
   "outputs": [],
   "source": [
    "# cmr_url = \"https://\"+\"cmr.earthdata.nasa.gov\"+\"/search/granules.umm_json?collection_concept_id=\"+\"C1940473819-POCLOUD\"+\"&sort_key=-start_date&bounding_box=-90,-45.75,90,-45\"\n",
    "\n",
    "# response = requests.get(cmr_url)\n",
    "\n",
    "# gid=response.json()['items'][0]['meta']['concept-id']\n",
    "# print(response.json()['items'][0])\n",
    "# print(gid)"
   ]
  },
  {
   "cell_type": "markdown",
   "id": "2ec7d84e-1946-4014-b0bb-febb12373ab2",
   "metadata": {},
   "source": [
    "## Harmony-Py set up"
   ]
  },
  {
   "cell_type": "code",
   "execution_count": 6,
   "id": "aee9843a-1875-4fb4-b241-47389333c010",
   "metadata": {},
   "outputs": [],
   "source": [
    "harmony_client = Client()"
   ]
  },
  {
   "cell_type": "code",
   "execution_count": 48,
   "id": "3bab287d-ef49-44bb-9d14-fbcb72407341",
   "metadata": {},
   "outputs": [],
   "source": [
    "request = Request(\n",
    "    collection=Collection(id='MODIS_A-JPL-L2P-v2019.0'),\n",
    "    spatial=BBox(-90,-45.75,90,-45), # bounding box example that can be used as an alternative to shapefile input\n",
    "    temporal={\n",
    "        'start': dt.datetime(2021, 11, 1),\n",
    "        'stop': dt.datetime(2021, 11, 2),\n",
    "    },\n",
    "    # variables=variables,\n",
    ")"
   ]
  },
  {
   "cell_type": "markdown",
   "id": "680f12b8-0ac2-4ff2-8f05-f519e9ea16aa",
   "metadata": {},
   "source": [
    "### Valid request?"
   ]
  },
  {
   "cell_type": "code",
   "execution_count": 49,
   "id": "b3ae8454-2c7f-414f-b526-17a253aafc66",
   "metadata": {},
   "outputs": [
    {
     "name": "stdout",
     "output_type": "stream",
     "text": [
      "Request valid? True\n"
     ]
    }
   ],
   "source": [
    "print(f\"Request valid? {request.is_valid()}\")\n",
    "for m in request.error_messages():\n",
    "    print(\" * \" + m)"
   ]
  },
  {
   "cell_type": "markdown",
   "id": "8e9f4b81-6bfc-46e3-bb79-0ee5846456a2",
   "metadata": {},
   "source": [
    "### Submit request"
   ]
  },
  {
   "cell_type": "code",
   "execution_count": 50,
   "id": "48e5d0b2-d28c-4fe6-975d-3003b112ca6b",
   "metadata": {},
   "outputs": [
    {
     "data": {
      "text/plain": [
       "'31aba3ae-91d2-4c32-89e1-8f90c1cd9e63'"
      ]
     },
     "execution_count": 50,
     "metadata": {},
     "output_type": "execute_result"
    }
   ],
   "source": [
    "job_id = harmony_client.submit(request)\n",
    "job_id"
   ]
  },
  {
   "cell_type": "code",
   "execution_count": 51,
   "id": "c8ca8da2-9f33-4fc9-bb63-c717d47e97dd",
   "metadata": {},
   "outputs": [
    {
     "data": {
      "text/plain": [
       "{'status': 'running',\n",
       " 'message': 'There were 2 collections that matched the provided short name MODIS_A-JPL-L2P-v2019.0. See https://cmr.earthdata.nasa.gov/concepts/C1940473819-POCLOUD for details on the selected collection. The version ID for the selected collection is 2019.0. To use a different collection submit a new request specifying the desired CMR concept ID instead of the collection short name.',\n",
       " 'progress': 0,\n",
       " 'created_at': datetime.datetime(2021, 11, 1, 23, 3, 27, 194000, tzinfo=tzlocal()),\n",
       " 'updated_at': datetime.datetime(2021, 11, 1, 23, 3, 27, 194000, tzinfo=tzlocal()),\n",
       " 'request': 'https://harmony.earthdata.nasa.gov/MODIS_A-JPL-L2P-v2019.0/ogc-api-coverages/1.0.0/collections/all/coverage/rangeset?forceAsync=true&subset=lat(-45.75%3A-45)&subset=lon(-90%3A90)&subset=time(%222021-11-01T00%3A00%3A00%22%3A%222021-11-02T00%3A00%3A00%22)',\n",
       " 'num_input_granules': 19}"
      ]
     },
     "execution_count": 51,
     "metadata": {},
     "output_type": "execute_result"
    }
   ],
   "source": [
    "harmony_client.status(job_id)"
   ]
  },
  {
   "cell_type": "code",
   "execution_count": 52,
   "id": "37bdad26-3c82-4ab4-8c31-abd9027c65e5",
   "metadata": {},
   "outputs": [
    {
     "name": "stderr",
     "output_type": "stream",
     "text": [
      " [ Processing: 100% ] |###################################################| [|]\n"
     ]
    }
   ],
   "source": [
    "harmony_client.wait_for_processing(job_id, show_progress=True)\n"
   ]
  },
  {
   "cell_type": "code",
   "execution_count": 53,
   "id": "cf7f40e0-815a-452b-a250-439566d8495f",
   "metadata": {},
   "outputs": [
    {
     "name": "stdout",
     "output_type": "stream",
     "text": [
      "{'createdAt': '2021-11-01T23:03:27.194Z',\n",
      " 'jobID': '31aba3ae-91d2-4c32-89e1-8f90c1cd9e63',\n",
      " 'links': [{'href': 'https://harmony.earthdata.nasa.gov/stac/31aba3ae-91d2-4c32-89e1-8f90c1cd9e63/',\n",
      "            'rel': 'stac-catalog-json',\n",
      "            'title': 'STAC catalog',\n",
      "            'type': 'application/json'},\n",
      "           {'bbox': [-1.4, -45.7, 30.6, -45],\n",
      "            'href': 'https://harmony.earthdata.nasa.gov/service-results/harmony-prod-staging/public/podaac/l2-subsetter/b76c2b8a-efde-4565-9fb2-aeba1064babf/20211101000000-JPL-L2P_GHRSST-SSTskin-MODIS_A-N-v02.0-fv01.0_subsetted.nc4',\n",
      "            'rel': 'data',\n",
      "            'temporal': {'end': '2021-11-01T00:04:58.000Z',\n",
      "                         'start': '2021-11-01T00:00:00.000Z'},\n",
      "            'title': '20211101000000-JPL-L2P_GHRSST-SSTskin-MODIS_A-N-v02.0-fv01.0_subsetted.nc4',\n",
      "            'type': 'application/x-netcdf4'},\n",
      "           {'bbox': [-26.1, -45.8, 5.8, -45],\n",
      "            'href': 'https://harmony.earthdata.nasa.gov/service-results/harmony-prod-staging/public/podaac/l2-subsetter/b76c2b8a-efde-4565-9fb2-aeba1064babf/20211101014000-JPL-L2P_GHRSST-SSTskin-MODIS_A-N-v02.0-fv01.0_subsetted.nc4',\n",
      "            'rel': 'data',\n",
      "            'temporal': {'end': '2021-11-01T01:44:58.000Z',\n",
      "                         'start': '2021-11-01T01:40:00.000Z'},\n",
      "            'title': '20211101014000-JPL-L2P_GHRSST-SSTskin-MODIS_A-N-v02.0-fv01.0_subsetted.nc4',\n",
      "            'type': 'application/x-netcdf4'},\n",
      "           {'bbox': [-44, -45.8, -18.9, -45],\n",
      "            'href': 'https://harmony.earthdata.nasa.gov/service-results/harmony-prod-staging/public/podaac/l2-subsetter/b76c2b8a-efde-4565-9fb2-aeba1064babf/20211101031500-JPL-L2P_GHRSST-SSTskin-MODIS_A-N-v02.0-fv01.0_subsetted.nc4',\n",
      "            'rel': 'data',\n",
      "            'temporal': {'end': '2021-11-01T03:19:59.000Z',\n",
      "                         'start': '2021-11-01T03:15:00.000Z'},\n",
      "            'title': '20211101031500-JPL-L2P_GHRSST-SSTskin-MODIS_A-N-v02.0-fv01.0_subsetted.nc4',\n",
      "            'type': 'application/x-netcdf4'},\n",
      "           {'bbox': [-50.8, -45.7, -41, -45],\n",
      "            'href': 'https://harmony.earthdata.nasa.gov/service-results/harmony-prod-staging/public/podaac/l2-subsetter/b76c2b8a-efde-4565-9fb2-aeba1064babf/20211101032000-JPL-L2P_GHRSST-SSTskin-MODIS_A-N-v02.0-fv01.0_subsetted.nc4',\n",
      "            'rel': 'data',\n",
      "            'temporal': {'end': '2021-11-01T03:24:59.000Z',\n",
      "                         'start': '2021-11-01T03:20:00.000Z'},\n",
      "            'title': '20211101032000-JPL-L2P_GHRSST-SSTskin-MODIS_A-N-v02.0-fv01.0_subsetted.nc4',\n",
      "            'type': 'application/x-netcdf4'},\n",
      "           {'bbox': [-75.6, -45.8, -43.6, -45],\n",
      "            'href': 'https://harmony.earthdata.nasa.gov/service-results/harmony-prod-staging/public/podaac/l2-subsetter/b76c2b8a-efde-4565-9fb2-aeba1064babf/20211101045500-JPL-L2P_GHRSST-SSTskin-MODIS_A-N-v02.0-fv01.0_subsetted.nc4',\n",
      "            'rel': 'data',\n",
      "            'temporal': {'end': '2021-11-01T04:59:59.000Z',\n",
      "                         'start': '2021-11-01T04:55:00.000Z'},\n",
      "            'title': '20211101045500-JPL-L2P_GHRSST-SSTskin-MODIS_A-N-v02.0-fv01.0_subsetted.nc4',\n",
      "            'type': 'application/x-netcdf4'},\n",
      "           {'bbox': [-90, -45.7, -68.3, -45],\n",
      "            'href': 'https://harmony.earthdata.nasa.gov/service-results/harmony-prod-staging/public/podaac/l2-subsetter/b76c2b8a-efde-4565-9fb2-aeba1064babf/20211101063500-JPL-L2P_GHRSST-SSTskin-MODIS_A-N-v02.0-fv01.0_subsetted.nc4',\n",
      "            'rel': 'data',\n",
      "            'temporal': {'end': '2021-11-01T06:39:59.000Z',\n",
      "                         'start': '2021-11-01T06:35:00.000Z'},\n",
      "            'title': '20211101063500-JPL-L2P_GHRSST-SSTskin-MODIS_A-N-v02.0-fv01.0_subsetted.nc4',\n",
      "            'type': 'application/x-netcdf4'},\n",
      "           {'bbox': [66.801, -66.443, 113.49, -44.231],\n",
      "            'href': 'https://harmony.earthdata.nasa.gov/service-results/harmony-prod-staging/public/podaac/l2-subsetter/b76c2b8a-efde-4565-9fb2-aeba1064babf/20211101083501-JPL-L2P_GHRSST-SSTskin-MODIS_A-D-v02.0-fv01.0.nc4',\n",
      "            'rel': 'data',\n",
      "            'temporal': {'end': '2021-11-01T08:39:58.000Z',\n",
      "                         'start': '2021-11-01T08:35:01.000Z'},\n",
      "            'title': '20211101083501-JPL-L2P_GHRSST-SSTskin-MODIS_A-D-v02.0-fv01.0.nc4',\n",
      "            'type': 'application/x-netcdf4'},\n",
      "           {'bbox': [66.7, -45.7, 90, -45],\n",
      "            'href': 'https://harmony.earthdata.nasa.gov/service-results/harmony-prod-staging/public/podaac/l2-subsetter/b76c2b8a-efde-4565-9fb2-aeba1064babf/20211101084001-JPL-L2P_GHRSST-SSTskin-MODIS_A-D-v02.0-fv01.0_subsetted.nc4',\n",
      "            'rel': 'data',\n",
      "            'temporal': {'end': '2021-11-01T08:44:58.000Z',\n",
      "                         'start': '2021-11-01T08:40:01.000Z'},\n",
      "            'title': '20211101084001-JPL-L2P_GHRSST-SSTskin-MODIS_A-D-v02.0-fv01.0_subsetted.nc4',\n",
      "            'type': 'application/x-netcdf4'},\n",
      "           {'bbox': [42, -45.7, 73.9, -45],\n",
      "            'href': 'https://harmony.earthdata.nasa.gov/service-results/harmony-prod-staging/public/podaac/l2-subsetter/b76c2b8a-efde-4565-9fb2-aeba1064babf/20211101101501-JPL-L2P_GHRSST-SSTskin-MODIS_A-D-v02.0-fv01.0_subsetted.nc4',\n",
      "            'rel': 'data',\n",
      "            'temporal': {'end': '2021-11-01T10:19:58.000Z',\n",
      "                         'start': '2021-11-01T10:15:01.000Z'},\n",
      "            'title': '20211101101501-JPL-L2P_GHRSST-SSTskin-MODIS_A-D-v02.0-fv01.0_subsetted.nc4',\n",
      "            'type': 'application/x-netcdf4'},\n",
      "           {'bbox': [17.2, -45.7, 49.2, -45],\n",
      "            'href': 'https://harmony.earthdata.nasa.gov/service-results/harmony-prod-staging/public/podaac/l2-subsetter/b76c2b8a-efde-4565-9fb2-aeba1064babf/20211101115501-JPL-L2P_GHRSST-SSTskin-MODIS_A-D-v02.0-fv01.0_subsetted.nc4',\n",
      "            'rel': 'data',\n",
      "            'temporal': {'end': '2021-11-01T11:59:58.000Z',\n",
      "                         'start': '2021-11-01T11:55:01.000Z'},\n",
      "            'title': '20211101115501-JPL-L2P_GHRSST-SSTskin-MODIS_A-D-v02.0-fv01.0_subsetted.nc4',\n",
      "            'type': 'application/x-netcdf4'},\n",
      "           {'bbox': [-7.5, -45.8, 24.5, -45],\n",
      "            'href': 'https://harmony.earthdata.nasa.gov/service-results/harmony-prod-staging/public/podaac/l2-subsetter/b76c2b8a-efde-4565-9fb2-aeba1064babf/20211101133501-JPL-L2P_GHRSST-SSTskin-MODIS_A-D-v02.0-fv01.0_subsetted.nc4',\n",
      "            'rel': 'data',\n",
      "            'temporal': {'end': '2021-11-01T13:39:58.000Z',\n",
      "                         'start': '2021-11-01T13:35:01.000Z'},\n",
      "            'title': '20211101133501-JPL-L2P_GHRSST-SSTskin-MODIS_A-D-v02.0-fv01.0_subsetted.nc4',\n",
      "            'type': 'application/x-netcdf4'},\n",
      "           {'bbox': [-32.2, -45.8, -0.2, -45],\n",
      "            'href': 'https://harmony.earthdata.nasa.gov/service-results/harmony-prod-staging/public/podaac/l2-subsetter/b76c2b8a-efde-4565-9fb2-aeba1064babf/20211101151501-JPL-L2P_GHRSST-SSTskin-MODIS_A-D-v02.0-fv01.0_subsetted.nc4',\n",
      "            'rel': 'data',\n",
      "            'temporal': {'end': '2021-11-01T15:19:58.000Z',\n",
      "                         'start': '2021-11-01T15:15:01.000Z'},\n",
      "            'title': '20211101151501-JPL-L2P_GHRSST-SSTskin-MODIS_A-D-v02.0-fv01.0_subsetted.nc4',\n",
      "            'type': 'application/x-netcdf4'},\n",
      "           {'bbox': [-43.9, -45.7, -24.9, -45],\n",
      "            'href': 'https://harmony.earthdata.nasa.gov/service-results/harmony-prod-staging/public/podaac/l2-subsetter/b76c2b8a-efde-4565-9fb2-aeba1064babf/20211101165000-JPL-L2P_GHRSST-SSTskin-MODIS_A-D-v02.0-fv01.0_subsetted.nc4',\n",
      "            'rel': 'data',\n",
      "            'temporal': {'end': '2021-11-01T16:54:58.000Z',\n",
      "                         'start': '2021-11-01T16:50:00.000Z'},\n",
      "            'title': '20211101165000-JPL-L2P_GHRSST-SSTskin-MODIS_A-D-v02.0-fv01.0_subsetted.nc4',\n",
      "            'type': 'application/x-netcdf4'},\n",
      "           {'bbox': [-56.9, -45.7, -39.3, -45],\n",
      "            'href': 'https://harmony.earthdata.nasa.gov/service-results/harmony-prod-staging/public/podaac/l2-subsetter/b76c2b8a-efde-4565-9fb2-aeba1064babf/20211101165501-JPL-L2P_GHRSST-SSTskin-MODIS_A-D-v02.0-fv01.0_subsetted.nc4',\n",
      "            'rel': 'data',\n",
      "            'temporal': {'end': '2021-11-01T16:59:58.000Z',\n",
      "                         'start': '2021-11-01T16:55:01.000Z'},\n",
      "            'title': '20211101165501-JPL-L2P_GHRSST-SSTskin-MODIS_A-D-v02.0-fv01.0_subsetted.nc4',\n",
      "            'type': 'application/x-netcdf4'},\n",
      "           {'bbox': [88.05, -48.131, 120.198, -26.81],\n",
      "            'href': 'https://harmony.earthdata.nasa.gov/service-results/harmony-prod-staging/public/podaac/l2-subsetter/b76c2b8a-efde-4565-9fb2-aeba1064babf/20211101180501-JPL-L2P_GHRSST-SSTskin-MODIS_A-N-v02.0-fv01.0.nc4',\n",
      "            'rel': 'data',\n",
      "            'temporal': {'end': '2021-11-01T18:09:58.000Z',\n",
      "                         'start': '2021-11-01T18:05:01.000Z'},\n",
      "            'title': '20211101180501-JPL-L2P_GHRSST-SSTskin-MODIS_A-N-v02.0-fv01.0.nc4',\n",
      "            'type': 'application/x-netcdf4'},\n",
      "           {'bbox': [86.7, -45.7, 90, -45],\n",
      "            'href': 'https://harmony.earthdata.nasa.gov/service-results/harmony-prod-staging/public/podaac/l2-subsetter/b76c2b8a-efde-4565-9fb2-aeba1064babf/20211101181001-JPL-L2P_GHRSST-SSTskin-MODIS_A-N-v02.0-fv01.0_subsetted.nc4',\n",
      "            'rel': 'data',\n",
      "            'temporal': {'end': '2021-11-01T18:14:58.000Z',\n",
      "                         'start': '2021-11-01T18:10:01.000Z'},\n",
      "            'title': '20211101181001-JPL-L2P_GHRSST-SSTskin-MODIS_A-N-v02.0-fv01.0_subsetted.nc4',\n",
      "            'type': 'application/x-netcdf4'},\n",
      "           {'bbox': [-81.7, -45.8, -49.7, -45],\n",
      "            'href': 'https://harmony.earthdata.nasa.gov/service-results/harmony-prod-staging/public/podaac/l2-subsetter/b76c2b8a-efde-4565-9fb2-aeba1064babf/20211101183000-JPL-L2P_GHRSST-SSTskin-MODIS_A-D-v02.0-fv01.0_subsetted.nc4',\n",
      "            'rel': 'data',\n",
      "            'temporal': {'end': '2021-11-01T18:34:59.000Z',\n",
      "                         'start': '2021-11-01T18:30:00.000Z'},\n",
      "            'title': '20211101183000-JPL-L2P_GHRSST-SSTskin-MODIS_A-D-v02.0-fv01.0_subsetted.nc4',\n",
      "            'type': 'application/x-netcdf4'},\n",
      "           {'bbox': [61.9, -45.7, 90, -45],\n",
      "            'href': 'https://harmony.earthdata.nasa.gov/service-results/harmony-prod-staging/public/podaac/l2-subsetter/b76c2b8a-efde-4565-9fb2-aeba1064babf/20211101194501-JPL-L2P_GHRSST-SSTskin-MODIS_A-N-v02.0-fv01.0_subsetted.nc4',\n",
      "            'rel': 'data',\n",
      "            'temporal': {'end': '2021-11-01T19:49:58.000Z',\n",
      "                         'start': '2021-11-01T19:45:01.000Z'},\n",
      "            'title': '20211101194501-JPL-L2P_GHRSST-SSTskin-MODIS_A-N-v02.0-fv01.0_subsetted.nc4',\n",
      "            'type': 'application/x-netcdf4'},\n",
      "           {'bbox': [-90, -45.7, -74.4, -45],\n",
      "            'href': 'https://harmony.earthdata.nasa.gov/service-results/harmony-prod-staging/public/podaac/l2-subsetter/b76c2b8a-efde-4565-9fb2-aeba1064babf/20211101201000-JPL-L2P_GHRSST-SSTskin-MODIS_A-D-v02.0-fv01.0_subsetted.nc4',\n",
      "            'rel': 'data',\n",
      "            'temporal': {'end': '2021-11-01T20:14:59.000Z',\n",
      "                         'start': '2021-11-01T20:10:00.000Z'},\n",
      "            'title': '20211101201000-JPL-L2P_GHRSST-SSTskin-MODIS_A-D-v02.0-fv01.0_subsetted.nc4',\n",
      "            'type': 'application/x-netcdf4'},\n",
      "           {'href': 'https://harmony.earthdata.nasa.gov/jobs/31aba3ae-91d2-4c32-89e1-8f90c1cd9e63?linktype=https&page=1&limit=2000',\n",
      "            'rel': 'self',\n",
      "            'title': 'The current page',\n",
      "            'type': 'application/json'}],\n",
      " 'message': 'There were 2 collections that matched the provided short name '\n",
      "            'MODIS_A-JPL-L2P-v2019.0. See '\n",
      "            'https://cmr.earthdata.nasa.gov/concepts/C1940473819-POCLOUD for '\n",
      "            'details on the selected collection. The version ID for the '\n",
      "            'selected collection is 2019.0. To use a different collection '\n",
      "            'submit a new request specifying the desired CMR concept ID '\n",
      "            'instead of the collection short name.',\n",
      " 'numInputGranules': 19,\n",
      " 'progress': 100,\n",
      " 'request': 'https://harmony.earthdata.nasa.gov/MODIS_A-JPL-L2P-v2019.0/ogc-api-coverages/1.0.0/collections/all/coverage/rangeset?forceAsync=true&subset=lat(-45.75%3A-45)&subset=lon(-90%3A90)&subset=time(%222021-11-01T00%3A00%3A00%22%3A%222021-11-02T00%3A00%3A00%22)',\n",
      " 'status': 'successful',\n",
      " 'updatedAt': '2021-11-01T23:04:33.775Z',\n",
      " 'username': 'amy.steiker'}\n"
     ]
    }
   ],
   "source": [
    "data = harmony_client.result_json(job_id)\n",
    "pprint(data)"
   ]
  },
  {
   "cell_type": "markdown",
   "id": "a7989627-d1f9-4f78-83df-c56a7d8b1c93",
   "metadata": {},
   "source": [
    "## Direct S3"
   ]
  },
  {
   "cell_type": "code",
   "execution_count": 103,
   "id": "b66d9800-173b-48d3-bb8a-63ff6b22d1e7",
   "metadata": {},
   "outputs": [
    {
     "name": "stdout",
     "output_type": "stream",
     "text": [
      "<generator object Client.result_urls at 0x7ff58929e190>\n"
     ]
    }
   ],
   "source": [
    "results = harmony_client.result_urls(job_id, link_type=LinkType.s3)\n",
    "print(results)\n",
    "creds = harmony_client.aws_credentials()"
   ]
  },
  {
   "cell_type": "code",
   "execution_count": 104,
   "id": "fe8c774b-0581-4509-8b17-0e65280f0375",
   "metadata": {},
   "outputs": [
    {
     "ename": "ModuleNotFoundError",
     "evalue": "No module named 'boto3'",
     "output_type": "error",
     "traceback": [
      "\u001b[0;31m---------------------------------------------------------------------------\u001b[0m",
      "\u001b[0;31mModuleNotFoundError\u001b[0m                       Traceback (most recent call last)",
      "\u001b[0;32m/tmp/ipykernel_214/957367023.py\u001b[0m in \u001b[0;36m<module>\u001b[0;34m\u001b[0m\n\u001b[0;32m----> 1\u001b[0;31m \u001b[0;32mimport\u001b[0m \u001b[0mboto3\u001b[0m\u001b[0;34m\u001b[0m\u001b[0;34m\u001b[0m\u001b[0m\n\u001b[0m\u001b[1;32m      2\u001b[0m \u001b[0;34m\u001b[0m\u001b[0m\n\u001b[1;32m      3\u001b[0m \u001b[0ms3\u001b[0m \u001b[0;34m=\u001b[0m \u001b[0mboto3\u001b[0m\u001b[0;34m.\u001b[0m\u001b[0mclient\u001b[0m\u001b[0;34m(\u001b[0m\u001b[0;34m's3'\u001b[0m\u001b[0;34m,\u001b[0m \u001b[0;34m**\u001b[0m\u001b[0mcreds\u001b[0m\u001b[0;34m)\u001b[0m\u001b[0;34m\u001b[0m\u001b[0;34m\u001b[0m\u001b[0m\n\u001b[1;32m      4\u001b[0m \u001b[0;32mfor\u001b[0m \u001b[0murl\u001b[0m \u001b[0;32min\u001b[0m \u001b[0mresults\u001b[0m\u001b[0;34m:\u001b[0m\u001b[0;34m\u001b[0m\u001b[0;34m\u001b[0m\u001b[0m\n\u001b[1;32m      5\u001b[0m     \u001b[0mbucket\u001b[0m\u001b[0;34m,\u001b[0m \u001b[0mobj\u001b[0m\u001b[0;34m,\u001b[0m \u001b[0mfn\u001b[0m \u001b[0;34m=\u001b[0m \u001b[0ms3_components\u001b[0m\u001b[0;34m(\u001b[0m\u001b[0murl\u001b[0m\u001b[0;34m)\u001b[0m\u001b[0;34m\u001b[0m\u001b[0;34m\u001b[0m\u001b[0m\n",
      "\u001b[0;31mModuleNotFoundError\u001b[0m: No module named 'boto3'"
     ]
    }
   ],
   "source": [
    "import boto3\n",
    "\n",
    "s3 = boto3.client('s3', **creds)\n",
    "for url in results:\n",
    "    bucket, obj, fn = s3_components(url)\n",
    "    with open(fn, 'wb') as f:\n",
    "        s3.download_fileobj(bucket, obj, f)"
   ]
  },
  {
   "cell_type": "code",
   "execution_count": null,
   "id": "ad36fd94-b8bc-48c1-8e65-bcf65e6912f9",
   "metadata": {},
   "outputs": [],
   "source": []
  },
  {
   "cell_type": "code",
   "execution_count": null,
   "id": "1fb8169b-2046-48e2-86e4-ba9cb053dcf3",
   "metadata": {},
   "outputs": [],
   "source": []
  },
  {
   "cell_type": "code",
   "execution_count": 56,
   "id": "8a287daa-3861-42d7-8151-c2edfa063698",
   "metadata": {},
   "outputs": [
    {
     "data": {
      "text/plain": [
       "'https://harmony.earthdata.nasa.gov/stac/31aba3ae-91d2-4c32-89e1-8f90c1cd9e63/?linktype=https'"
      ]
     },
     "execution_count": 56,
     "metadata": {},
     "output_type": "execute_result"
    }
   ],
   "source": [
    "stac_catalog_url = harmony_client.stac_catalog_url(job_id)\n",
    "stac_catalog_url"
   ]
  },
  {
   "cell_type": "code",
   "execution_count": 97,
   "id": "620dbf6b-6fc7-430c-b40f-bf1875df4290",
   "metadata": {},
   "outputs": [
    {
     "ename": "ImportError",
     "evalue": "cannot import name 'STAC_IO' from 'pystac' (/srv/conda/envs/nsidc/lib/python3.9/site-packages/pystac/__init__.py)",
     "output_type": "error",
     "traceback": [
      "\u001b[0;31m---------------------------------------------------------------------------\u001b[0m",
      "\u001b[0;31mImportError\u001b[0m                               Traceback (most recent call last)",
      "\u001b[0;32m/tmp/ipykernel_214/2361228823.py\u001b[0m in \u001b[0;36m<module>\u001b[0;34m\u001b[0m\n\u001b[0;32m----> 1\u001b[0;31m \u001b[0;32mfrom\u001b[0m \u001b[0mpystac\u001b[0m \u001b[0;32mimport\u001b[0m \u001b[0mSTAC_IO\u001b[0m\u001b[0;34m\u001b[0m\u001b[0;34m\u001b[0m\u001b[0m\n\u001b[0m\u001b[1;32m      2\u001b[0m \u001b[0;34m\u001b[0m\u001b[0m\n\u001b[1;32m      3\u001b[0m \u001b[0;32mdef\u001b[0m \u001b[0mrequests_read_method\u001b[0m\u001b[0;34m(\u001b[0m\u001b[0muri\u001b[0m\u001b[0;34m)\u001b[0m\u001b[0;34m:\u001b[0m\u001b[0;34m\u001b[0m\u001b[0;34m\u001b[0m\u001b[0m\n\u001b[1;32m      4\u001b[0m     \u001b[0mparsed\u001b[0m \u001b[0;34m=\u001b[0m \u001b[0murlparse\u001b[0m\u001b[0;34m(\u001b[0m\u001b[0muri\u001b[0m\u001b[0;34m)\u001b[0m\u001b[0;34m\u001b[0m\u001b[0;34m\u001b[0m\u001b[0m\n\u001b[1;32m      5\u001b[0m     \u001b[0;32mif\u001b[0m \u001b[0mparsed\u001b[0m\u001b[0;34m.\u001b[0m\u001b[0mhostname\u001b[0m\u001b[0;34m.\u001b[0m\u001b[0mstartswith\u001b[0m\u001b[0;34m(\u001b[0m\u001b[0;34m'harmony.'\u001b[0m\u001b[0;34m)\u001b[0m\u001b[0;34m:\u001b[0m\u001b[0;34m\u001b[0m\u001b[0;34m\u001b[0m\u001b[0m\n",
      "\u001b[0;31mImportError\u001b[0m: cannot import name 'STAC_IO' from 'pystac' (/srv/conda/envs/nsidc/lib/python3.9/site-packages/pystac/__init__.py)"
     ]
    }
   ],
   "source": [
    "from pystac import STAC_IO\n",
    "\n",
    "def requests_read_method(uri):\n",
    "    parsed = urlparse(uri)\n",
    "    if parsed.hostname.startswith('harmony.'):\n",
    "        return harmony_client.read_text(uri)\n",
    "    else:\n",
    "        return STAC_IO.default_read_text_method(uri)\n",
    "\n",
    "STAC_IO.read_text_method = requests_read_method"
   ]
  },
  {
   "cell_type": "code",
   "execution_count": 100,
   "id": "e8716ebd-cb7a-490a-8e35-9fc8faf29e13",
   "metadata": {
    "tags": []
   },
   "outputs": [
    {
     "name": "stdout",
     "output_type": "stream",
     "text": [
      "Harmony output for 31aba3ae-91d2-4c32-89e1-8f90c1cd9e63\n"
     ]
    },
    {
     "ename": "NotImplementedError",
     "evalue": "ConformanceClasses.ITEM_SEARCH not supported",
     "output_type": "error",
     "traceback": [
      "\u001b[0;31m---------------------------------------------------------------------------\u001b[0m",
      "\u001b[0;31mNotImplementedError\u001b[0m                       Traceback (most recent call last)",
      "\u001b[0;32m/tmp/ipykernel_214/1833644912.py\u001b[0m in \u001b[0;36m<module>\u001b[0;34m\u001b[0m\n\u001b[1;32m      7\u001b[0m \u001b[0mprint\u001b[0m\u001b[0;34m(\u001b[0m\u001b[0mcat\u001b[0m\u001b[0;34m.\u001b[0m\u001b[0mtitle\u001b[0m\u001b[0;34m)\u001b[0m\u001b[0;34m\u001b[0m\u001b[0;34m\u001b[0m\u001b[0m\n\u001b[1;32m      8\u001b[0m \u001b[0ms3_links\u001b[0m \u001b[0;34m=\u001b[0m \u001b[0;34m[\u001b[0m\u001b[0;34m]\u001b[0m\u001b[0;34m\u001b[0m\u001b[0;34m\u001b[0m\u001b[0m\n\u001b[0;32m----> 9\u001b[0;31m \u001b[0;32mfor\u001b[0m \u001b[0mitem\u001b[0m \u001b[0;32min\u001b[0m \u001b[0mcat\u001b[0m\u001b[0;34m.\u001b[0m\u001b[0mget_items\u001b[0m\u001b[0;34m(\u001b[0m\u001b[0;34m)\u001b[0m\u001b[0;34m:\u001b[0m\u001b[0;34m\u001b[0m\u001b[0;34m\u001b[0m\u001b[0m\n\u001b[0m\u001b[1;32m     10\u001b[0m     \u001b[0mprint\u001b[0m\u001b[0;34m(\u001b[0m\u001b[0mitem\u001b[0m\u001b[0;34m.\u001b[0m\u001b[0mdatetime\u001b[0m\u001b[0;34m,\u001b[0m \u001b[0;34m[\u001b[0m\u001b[0masset\u001b[0m\u001b[0;34m.\u001b[0m\u001b[0mhref\u001b[0m \u001b[0;32mfor\u001b[0m \u001b[0masset\u001b[0m \u001b[0;32min\u001b[0m \u001b[0mitem\u001b[0m\u001b[0;34m.\u001b[0m\u001b[0massets\u001b[0m\u001b[0;34m.\u001b[0m\u001b[0mvalues\u001b[0m\u001b[0;34m(\u001b[0m\u001b[0;34m)\u001b[0m\u001b[0;34m]\u001b[0m\u001b[0;34m)\u001b[0m\u001b[0;34m\u001b[0m\u001b[0;34m\u001b[0m\u001b[0m\n\u001b[1;32m     11\u001b[0m     \u001b[0ms3_links\u001b[0m\u001b[0;34m.\u001b[0m\u001b[0mappend\u001b[0m\u001b[0;34m(\u001b[0m\u001b[0;34m[\u001b[0m\u001b[0masset\u001b[0m\u001b[0;34m.\u001b[0m\u001b[0mhref\u001b[0m \u001b[0;32mfor\u001b[0m \u001b[0masset\u001b[0m \u001b[0;32min\u001b[0m \u001b[0mitem\u001b[0m\u001b[0;34m.\u001b[0m\u001b[0massets\u001b[0m\u001b[0;34m.\u001b[0m\u001b[0mvalues\u001b[0m\u001b[0;34m(\u001b[0m\u001b[0;34m)\u001b[0m\u001b[0;34m]\u001b[0m\u001b[0;34m)\u001b[0m\u001b[0;34m\u001b[0m\u001b[0;34m\u001b[0m\u001b[0m\n",
      "\u001b[0;32m/srv/conda/envs/nsidc/lib/python3.9/site-packages/pystac_client/client.py\u001b[0m in \u001b[0;36mget_items\u001b[0;34m(self)\u001b[0m\n\u001b[1;32m    112\u001b[0m             \u001b[0mIterable\u001b[0m\u001b[0;34m[\u001b[0m\u001b[0mItem\u001b[0m\u001b[0;34m]\u001b[0m\u001b[0;34m:\u001b[0m\u001b[0;34m:\u001b[0m \u001b[0mGenerator\u001b[0m \u001b[0mof\u001b[0m \u001b[0mitems\u001b[0m \u001b[0mwhose\u001b[0m \u001b[0mparent\u001b[0m \u001b[0;32mis\u001b[0m \u001b[0mthis\u001b[0m \u001b[0mcatalog\u001b[0m\u001b[0;34m.\u001b[0m\u001b[0;34m\u001b[0m\u001b[0;34m\u001b[0m\u001b[0m\n\u001b[1;32m    113\u001b[0m         \"\"\"\n\u001b[0;32m--> 114\u001b[0;31m         \u001b[0;32mif\u001b[0m \u001b[0mself\u001b[0m\u001b[0;34m.\u001b[0m\u001b[0m_stac_io\u001b[0m\u001b[0;34m.\u001b[0m\u001b[0massert_conforms_to\u001b[0m\u001b[0;34m(\u001b[0m\u001b[0mConformanceClasses\u001b[0m\u001b[0;34m.\u001b[0m\u001b[0mITEM_SEARCH\u001b[0m\u001b[0;34m)\u001b[0m\u001b[0;34m:\u001b[0m\u001b[0;34m\u001b[0m\u001b[0;34m\u001b[0m\u001b[0m\n\u001b[0m\u001b[1;32m    115\u001b[0m             \u001b[0msearch\u001b[0m \u001b[0;34m=\u001b[0m \u001b[0mself\u001b[0m\u001b[0;34m.\u001b[0m\u001b[0msearch\u001b[0m\u001b[0;34m(\u001b[0m\u001b[0;34m)\u001b[0m\u001b[0;34m\u001b[0m\u001b[0;34m\u001b[0m\u001b[0m\n\u001b[1;32m    116\u001b[0m             \u001b[0;32myield\u001b[0m \u001b[0;32mfrom\u001b[0m \u001b[0msearch\u001b[0m\u001b[0;34m.\u001b[0m\u001b[0mget_items\u001b[0m\u001b[0;34m(\u001b[0m\u001b[0;34m)\u001b[0m\u001b[0;34m\u001b[0m\u001b[0;34m\u001b[0m\u001b[0m\n",
      "\u001b[0;32m/srv/conda/envs/nsidc/lib/python3.9/site-packages/pystac_client/stac_api_io.py\u001b[0m in \u001b[0;36massert_conforms_to\u001b[0;34m(self, conformance_class)\u001b[0m\n\u001b[1;32m    223\u001b[0m         \"\"\"\n\u001b[1;32m    224\u001b[0m         \u001b[0;32mif\u001b[0m \u001b[0;32mnot\u001b[0m \u001b[0mself\u001b[0m\u001b[0;34m.\u001b[0m\u001b[0mconforms_to\u001b[0m\u001b[0;34m(\u001b[0m\u001b[0mconformance_class\u001b[0m\u001b[0;34m)\u001b[0m\u001b[0;34m:\u001b[0m\u001b[0;34m\u001b[0m\u001b[0;34m\u001b[0m\u001b[0m\n\u001b[0;32m--> 225\u001b[0;31m             \u001b[0;32mraise\u001b[0m \u001b[0mNotImplementedError\u001b[0m\u001b[0;34m(\u001b[0m\u001b[0;34mf\"{conformance_class} not supported\"\u001b[0m\u001b[0;34m)\u001b[0m\u001b[0;34m\u001b[0m\u001b[0;34m\u001b[0m\u001b[0m\n\u001b[0m\u001b[1;32m    226\u001b[0m         \u001b[0;32melse\u001b[0m\u001b[0;34m:\u001b[0m\u001b[0;34m\u001b[0m\u001b[0;34m\u001b[0m\u001b[0m\n\u001b[1;32m    227\u001b[0m             \u001b[0;32mreturn\u001b[0m \u001b[0;32mTrue\u001b[0m\u001b[0;34m\u001b[0m\u001b[0;34m\u001b[0m\u001b[0m\n",
      "\u001b[0;31mNotImplementedError\u001b[0m: ConformanceClasses.ITEM_SEARCH not supported"
     ]
    }
   ],
   "source": [
    "from pystac_client import Client \n",
    "\n",
    "STAC_URL = 'https://harmony.earthdata.nasa.gov/stac/31aba3ae-91d2-4c32-89e1-8f90c1cd9e63/'\n",
    "\n",
    "cat = Client.open(STAC_URL)\n",
    "\n",
    "print(cat.title)\n",
    "s3_links = []\n",
    "for item in cat.get_items():\n",
    "    print(item.datetime, [asset.href for asset in item.assets.values()])\n",
    "    s3_links.append([asset.href for asset in item.assets.values()])"
   ]
  },
  {
   "cell_type": "code",
   "execution_count": 99,
   "id": "2e2b6069-878f-48f9-a144-6fa74d90395f",
   "metadata": {},
   "outputs": [
    {
     "name": "stdout",
     "output_type": "stream",
     "text": [
      "[]\n"
     ]
    }
   ],
   "source": [
    "print(s3_links)"
   ]
  },
  {
   "cell_type": "code",
   "execution_count": 96,
   "id": "649157ba-748b-4681-addf-020b46612a45",
   "metadata": {},
   "outputs": [
    {
     "data": {
      "text/plain": [
       "<map at 0x7ff5891274f0>"
      ]
     },
     "execution_count": 96,
     "metadata": {},
     "output_type": "execute_result"
    }
   ],
   "source": []
  },
  {
   "cell_type": "code",
   "execution_count": 81,
   "id": "5fa7633c-b0b6-4762-926e-b3d25d1e2cef",
   "metadata": {},
   "outputs": [
    {
     "name": "stdout",
     "output_type": "stream",
     "text": [
      "Harmony output for 31aba3ae-91d2-4c32-89e1-8f90c1cd9e63\n",
      "Harmony output for 31aba3ae-91d2-4c32-89e1-8f90c1cd9e63\n"
     ]
    },
    {
     "data": {
      "text/plain": [
       "<generator object Client.get_all_items at 0x7ff58b176350>"
      ]
     },
     "execution_count": 81,
     "metadata": {},
     "output_type": "execute_result"
    }
   ],
   "source": [
    "# products = [c for c in cat.get_children()]\n",
    "\n",
    "\n",
    "print(cat.title)\n",
    "\n",
    "# search = cat.search()\n",
    "# item_collection = search.get_all_items()\n",
    "# list(item_collection)\n",
    "\n",
    "\n",
    "# for item in cat.get_all_items():\n",
    "#     print(item.datetime, [asset.href for asset in item.assets.values()])\n",
    "#     s3_links.append([asset.href for asset in item.assets.values()])\n",
    "\n",
    "print(cat.title)\n",
    "cat.get_all_items()\n",
    "# s3_links = []\n",
    "# for item in cat.get_all_items():\n",
    "#     print(item.datetime, [asset.href for asset in item.assets.values()])\n",
    "#     s3_links.append([asset.href for asset in item.assets.values()])"
   ]
  },
  {
   "cell_type": "code",
   "execution_count": 57,
   "id": "d29673ab-3826-4fe0-9e69-6e40a87b69d3",
   "metadata": {},
   "outputs": [
    {
     "ename": "Exception",
     "evalue": "Could not read uri https://harmony.earthdata.nasa.gov/stac/31aba3ae-91d2-4c32-89e1-8f90c1cd9e63/?linktype=https",
     "output_type": "error",
     "traceback": [
      "\u001b[0;31m---------------------------------------------------------------------------\u001b[0m",
      "\u001b[0;31mHTTPError\u001b[0m                                 Traceback (most recent call last)",
      "\u001b[0;32m/srv/conda/envs/nsidc/lib/python3.9/site-packages/pystac/stac_io.py\u001b[0m in \u001b[0;36mread_text_from_href\u001b[0;34m(self, href)\u001b[0m\n\u001b[1;32m    295\u001b[0m             \u001b[0;32mtry\u001b[0m\u001b[0;34m:\u001b[0m\u001b[0;34m\u001b[0m\u001b[0;34m\u001b[0m\u001b[0m\n\u001b[0;32m--> 296\u001b[0;31m                 \u001b[0;32mwith\u001b[0m \u001b[0murlopen\u001b[0m\u001b[0;34m(\u001b[0m\u001b[0mhref\u001b[0m\u001b[0;34m)\u001b[0m \u001b[0;32mas\u001b[0m \u001b[0mf\u001b[0m\u001b[0;34m:\u001b[0m\u001b[0;34m\u001b[0m\u001b[0;34m\u001b[0m\u001b[0m\n\u001b[0m\u001b[1;32m    297\u001b[0m                     \u001b[0mhref_contents\u001b[0m \u001b[0;34m=\u001b[0m \u001b[0mf\u001b[0m\u001b[0;34m.\u001b[0m\u001b[0mread\u001b[0m\u001b[0;34m(\u001b[0m\u001b[0;34m)\u001b[0m\u001b[0;34m.\u001b[0m\u001b[0mdecode\u001b[0m\u001b[0;34m(\u001b[0m\u001b[0;34m\"utf-8\"\u001b[0m\u001b[0;34m)\u001b[0m\u001b[0;34m\u001b[0m\u001b[0;34m\u001b[0m\u001b[0m\n",
      "\u001b[0;32m/srv/conda/envs/nsidc/lib/python3.9/urllib/request.py\u001b[0m in \u001b[0;36murlopen\u001b[0;34m(url, data, timeout, cafile, capath, cadefault, context)\u001b[0m\n\u001b[1;32m    213\u001b[0m         \u001b[0mopener\u001b[0m \u001b[0;34m=\u001b[0m \u001b[0m_opener\u001b[0m\u001b[0;34m\u001b[0m\u001b[0;34m\u001b[0m\u001b[0m\n\u001b[0;32m--> 214\u001b[0;31m     \u001b[0;32mreturn\u001b[0m \u001b[0mopener\u001b[0m\u001b[0;34m.\u001b[0m\u001b[0mopen\u001b[0m\u001b[0;34m(\u001b[0m\u001b[0murl\u001b[0m\u001b[0;34m,\u001b[0m \u001b[0mdata\u001b[0m\u001b[0;34m,\u001b[0m \u001b[0mtimeout\u001b[0m\u001b[0;34m)\u001b[0m\u001b[0;34m\u001b[0m\u001b[0;34m\u001b[0m\u001b[0m\n\u001b[0m\u001b[1;32m    215\u001b[0m \u001b[0;34m\u001b[0m\u001b[0m\n",
      "\u001b[0;32m/srv/conda/envs/nsidc/lib/python3.9/urllib/request.py\u001b[0m in \u001b[0;36mopen\u001b[0;34m(self, fullurl, data, timeout)\u001b[0m\n\u001b[1;32m    522\u001b[0m             \u001b[0mmeth\u001b[0m \u001b[0;34m=\u001b[0m \u001b[0mgetattr\u001b[0m\u001b[0;34m(\u001b[0m\u001b[0mprocessor\u001b[0m\u001b[0;34m,\u001b[0m \u001b[0mmeth_name\u001b[0m\u001b[0;34m)\u001b[0m\u001b[0;34m\u001b[0m\u001b[0;34m\u001b[0m\u001b[0m\n\u001b[0;32m--> 523\u001b[0;31m             \u001b[0mresponse\u001b[0m \u001b[0;34m=\u001b[0m \u001b[0mmeth\u001b[0m\u001b[0;34m(\u001b[0m\u001b[0mreq\u001b[0m\u001b[0;34m,\u001b[0m \u001b[0mresponse\u001b[0m\u001b[0;34m)\u001b[0m\u001b[0;34m\u001b[0m\u001b[0;34m\u001b[0m\u001b[0m\n\u001b[0m\u001b[1;32m    524\u001b[0m \u001b[0;34m\u001b[0m\u001b[0m\n",
      "\u001b[0;32m/srv/conda/envs/nsidc/lib/python3.9/urllib/request.py\u001b[0m in \u001b[0;36mhttp_response\u001b[0;34m(self, request, response)\u001b[0m\n\u001b[1;32m    631\u001b[0m         \u001b[0;32mif\u001b[0m \u001b[0;32mnot\u001b[0m \u001b[0;34m(\u001b[0m\u001b[0;36m200\u001b[0m \u001b[0;34m<=\u001b[0m \u001b[0mcode\u001b[0m \u001b[0;34m<\u001b[0m \u001b[0;36m300\u001b[0m\u001b[0;34m)\u001b[0m\u001b[0;34m:\u001b[0m\u001b[0;34m\u001b[0m\u001b[0;34m\u001b[0m\u001b[0m\n\u001b[0;32m--> 632\u001b[0;31m             response = self.parent.error(\n\u001b[0m\u001b[1;32m    633\u001b[0m                 'http', request, response, code, msg, hdrs)\n",
      "\u001b[0;32m/srv/conda/envs/nsidc/lib/python3.9/urllib/request.py\u001b[0m in \u001b[0;36merror\u001b[0;34m(self, proto, *args)\u001b[0m\n\u001b[1;32m    554\u001b[0m         \u001b[0margs\u001b[0m \u001b[0;34m=\u001b[0m \u001b[0;34m(\u001b[0m\u001b[0mdict\u001b[0m\u001b[0;34m,\u001b[0m \u001b[0mproto\u001b[0m\u001b[0;34m,\u001b[0m \u001b[0mmeth_name\u001b[0m\u001b[0;34m)\u001b[0m \u001b[0;34m+\u001b[0m \u001b[0margs\u001b[0m\u001b[0;34m\u001b[0m\u001b[0;34m\u001b[0m\u001b[0m\n\u001b[0;32m--> 555\u001b[0;31m         \u001b[0mresult\u001b[0m \u001b[0;34m=\u001b[0m \u001b[0mself\u001b[0m\u001b[0;34m.\u001b[0m\u001b[0m_call_chain\u001b[0m\u001b[0;34m(\u001b[0m\u001b[0;34m*\u001b[0m\u001b[0margs\u001b[0m\u001b[0;34m)\u001b[0m\u001b[0;34m\u001b[0m\u001b[0;34m\u001b[0m\u001b[0m\n\u001b[0m\u001b[1;32m    556\u001b[0m         \u001b[0;32mif\u001b[0m \u001b[0mresult\u001b[0m\u001b[0;34m:\u001b[0m\u001b[0;34m\u001b[0m\u001b[0;34m\u001b[0m\u001b[0m\n",
      "\u001b[0;32m/srv/conda/envs/nsidc/lib/python3.9/urllib/request.py\u001b[0m in \u001b[0;36m_call_chain\u001b[0;34m(self, chain, kind, meth_name, *args)\u001b[0m\n\u001b[1;32m    493\u001b[0m             \u001b[0mfunc\u001b[0m \u001b[0;34m=\u001b[0m \u001b[0mgetattr\u001b[0m\u001b[0;34m(\u001b[0m\u001b[0mhandler\u001b[0m\u001b[0;34m,\u001b[0m \u001b[0mmeth_name\u001b[0m\u001b[0;34m)\u001b[0m\u001b[0;34m\u001b[0m\u001b[0;34m\u001b[0m\u001b[0m\n\u001b[0;32m--> 494\u001b[0;31m             \u001b[0mresult\u001b[0m \u001b[0;34m=\u001b[0m \u001b[0mfunc\u001b[0m\u001b[0;34m(\u001b[0m\u001b[0;34m*\u001b[0m\u001b[0margs\u001b[0m\u001b[0;34m)\u001b[0m\u001b[0;34m\u001b[0m\u001b[0;34m\u001b[0m\u001b[0m\n\u001b[0m\u001b[1;32m    495\u001b[0m             \u001b[0;32mif\u001b[0m \u001b[0mresult\u001b[0m \u001b[0;32mis\u001b[0m \u001b[0;32mnot\u001b[0m \u001b[0;32mNone\u001b[0m\u001b[0;34m:\u001b[0m\u001b[0;34m\u001b[0m\u001b[0;34m\u001b[0m\u001b[0m\n",
      "\u001b[0;32m/srv/conda/envs/nsidc/lib/python3.9/urllib/request.py\u001b[0m in \u001b[0;36mhttp_error_302\u001b[0;34m(self, req, fp, code, msg, headers)\u001b[0m\n\u001b[1;32m    746\u001b[0m \u001b[0;34m\u001b[0m\u001b[0m\n\u001b[0;32m--> 747\u001b[0;31m         \u001b[0;32mreturn\u001b[0m \u001b[0mself\u001b[0m\u001b[0;34m.\u001b[0m\u001b[0mparent\u001b[0m\u001b[0;34m.\u001b[0m\u001b[0mopen\u001b[0m\u001b[0;34m(\u001b[0m\u001b[0mnew\u001b[0m\u001b[0;34m,\u001b[0m \u001b[0mtimeout\u001b[0m\u001b[0;34m=\u001b[0m\u001b[0mreq\u001b[0m\u001b[0;34m.\u001b[0m\u001b[0mtimeout\u001b[0m\u001b[0;34m)\u001b[0m\u001b[0;34m\u001b[0m\u001b[0;34m\u001b[0m\u001b[0m\n\u001b[0m\u001b[1;32m    748\u001b[0m \u001b[0;34m\u001b[0m\u001b[0m\n",
      "\u001b[0;32m/srv/conda/envs/nsidc/lib/python3.9/urllib/request.py\u001b[0m in \u001b[0;36mopen\u001b[0;34m(self, fullurl, data, timeout)\u001b[0m\n\u001b[1;32m    522\u001b[0m             \u001b[0mmeth\u001b[0m \u001b[0;34m=\u001b[0m \u001b[0mgetattr\u001b[0m\u001b[0;34m(\u001b[0m\u001b[0mprocessor\u001b[0m\u001b[0;34m,\u001b[0m \u001b[0mmeth_name\u001b[0m\u001b[0;34m)\u001b[0m\u001b[0;34m\u001b[0m\u001b[0;34m\u001b[0m\u001b[0m\n\u001b[0;32m--> 523\u001b[0;31m             \u001b[0mresponse\u001b[0m \u001b[0;34m=\u001b[0m \u001b[0mmeth\u001b[0m\u001b[0;34m(\u001b[0m\u001b[0mreq\u001b[0m\u001b[0;34m,\u001b[0m \u001b[0mresponse\u001b[0m\u001b[0;34m)\u001b[0m\u001b[0;34m\u001b[0m\u001b[0;34m\u001b[0m\u001b[0m\n\u001b[0m\u001b[1;32m    524\u001b[0m \u001b[0;34m\u001b[0m\u001b[0m\n",
      "\u001b[0;32m/srv/conda/envs/nsidc/lib/python3.9/urllib/request.py\u001b[0m in \u001b[0;36mhttp_response\u001b[0;34m(self, request, response)\u001b[0m\n\u001b[1;32m    631\u001b[0m         \u001b[0;32mif\u001b[0m \u001b[0;32mnot\u001b[0m \u001b[0;34m(\u001b[0m\u001b[0;36m200\u001b[0m \u001b[0;34m<=\u001b[0m \u001b[0mcode\u001b[0m \u001b[0;34m<\u001b[0m \u001b[0;36m300\u001b[0m\u001b[0;34m)\u001b[0m\u001b[0;34m:\u001b[0m\u001b[0;34m\u001b[0m\u001b[0;34m\u001b[0m\u001b[0m\n\u001b[0;32m--> 632\u001b[0;31m             response = self.parent.error(\n\u001b[0m\u001b[1;32m    633\u001b[0m                 'http', request, response, code, msg, hdrs)\n",
      "\u001b[0;32m/srv/conda/envs/nsidc/lib/python3.9/urllib/request.py\u001b[0m in \u001b[0;36merror\u001b[0;34m(self, proto, *args)\u001b[0m\n\u001b[1;32m    560\u001b[0m             \u001b[0margs\u001b[0m \u001b[0;34m=\u001b[0m \u001b[0;34m(\u001b[0m\u001b[0mdict\u001b[0m\u001b[0;34m,\u001b[0m \u001b[0;34m'default'\u001b[0m\u001b[0;34m,\u001b[0m \u001b[0;34m'http_error_default'\u001b[0m\u001b[0;34m)\u001b[0m \u001b[0;34m+\u001b[0m \u001b[0morig_args\u001b[0m\u001b[0;34m\u001b[0m\u001b[0;34m\u001b[0m\u001b[0m\n\u001b[0;32m--> 561\u001b[0;31m             \u001b[0;32mreturn\u001b[0m \u001b[0mself\u001b[0m\u001b[0;34m.\u001b[0m\u001b[0m_call_chain\u001b[0m\u001b[0;34m(\u001b[0m\u001b[0;34m*\u001b[0m\u001b[0margs\u001b[0m\u001b[0;34m)\u001b[0m\u001b[0;34m\u001b[0m\u001b[0;34m\u001b[0m\u001b[0m\n\u001b[0m\u001b[1;32m    562\u001b[0m \u001b[0;34m\u001b[0m\u001b[0m\n",
      "\u001b[0;32m/srv/conda/envs/nsidc/lib/python3.9/urllib/request.py\u001b[0m in \u001b[0;36m_call_chain\u001b[0;34m(self, chain, kind, meth_name, *args)\u001b[0m\n\u001b[1;32m    493\u001b[0m             \u001b[0mfunc\u001b[0m \u001b[0;34m=\u001b[0m \u001b[0mgetattr\u001b[0m\u001b[0;34m(\u001b[0m\u001b[0mhandler\u001b[0m\u001b[0;34m,\u001b[0m \u001b[0mmeth_name\u001b[0m\u001b[0;34m)\u001b[0m\u001b[0;34m\u001b[0m\u001b[0;34m\u001b[0m\u001b[0m\n\u001b[0;32m--> 494\u001b[0;31m             \u001b[0mresult\u001b[0m \u001b[0;34m=\u001b[0m \u001b[0mfunc\u001b[0m\u001b[0;34m(\u001b[0m\u001b[0;34m*\u001b[0m\u001b[0margs\u001b[0m\u001b[0;34m)\u001b[0m\u001b[0;34m\u001b[0m\u001b[0;34m\u001b[0m\u001b[0m\n\u001b[0m\u001b[1;32m    495\u001b[0m             \u001b[0;32mif\u001b[0m \u001b[0mresult\u001b[0m \u001b[0;32mis\u001b[0m \u001b[0;32mnot\u001b[0m \u001b[0;32mNone\u001b[0m\u001b[0;34m:\u001b[0m\u001b[0;34m\u001b[0m\u001b[0;34m\u001b[0m\u001b[0m\n",
      "\u001b[0;32m/srv/conda/envs/nsidc/lib/python3.9/urllib/request.py\u001b[0m in \u001b[0;36mhttp_error_default\u001b[0;34m(self, req, fp, code, msg, hdrs)\u001b[0m\n\u001b[1;32m    640\u001b[0m     \u001b[0;32mdef\u001b[0m \u001b[0mhttp_error_default\u001b[0m\u001b[0;34m(\u001b[0m\u001b[0mself\u001b[0m\u001b[0;34m,\u001b[0m \u001b[0mreq\u001b[0m\u001b[0;34m,\u001b[0m \u001b[0mfp\u001b[0m\u001b[0;34m,\u001b[0m \u001b[0mcode\u001b[0m\u001b[0;34m,\u001b[0m \u001b[0mmsg\u001b[0m\u001b[0;34m,\u001b[0m \u001b[0mhdrs\u001b[0m\u001b[0;34m)\u001b[0m\u001b[0;34m:\u001b[0m\u001b[0;34m\u001b[0m\u001b[0;34m\u001b[0m\u001b[0m\n\u001b[0;32m--> 641\u001b[0;31m         \u001b[0;32mraise\u001b[0m \u001b[0mHTTPError\u001b[0m\u001b[0;34m(\u001b[0m\u001b[0mreq\u001b[0m\u001b[0;34m.\u001b[0m\u001b[0mfull_url\u001b[0m\u001b[0;34m,\u001b[0m \u001b[0mcode\u001b[0m\u001b[0;34m,\u001b[0m \u001b[0mmsg\u001b[0m\u001b[0;34m,\u001b[0m \u001b[0mhdrs\u001b[0m\u001b[0;34m,\u001b[0m \u001b[0mfp\u001b[0m\u001b[0;34m)\u001b[0m\u001b[0;34m\u001b[0m\u001b[0;34m\u001b[0m\u001b[0m\n\u001b[0m\u001b[1;32m    642\u001b[0m \u001b[0;34m\u001b[0m\u001b[0m\n",
      "\u001b[0;31mHTTPError\u001b[0m: HTTP Error 401: Unauthorized",
      "\nThe above exception was the direct cause of the following exception:\n",
      "\u001b[0;31mException\u001b[0m                                 Traceback (most recent call last)",
      "\u001b[0;32m/tmp/ipykernel_214/3828132374.py\u001b[0m in \u001b[0;36m<module>\u001b[0;34m\u001b[0m\n\u001b[1;32m      1\u001b[0m \u001b[0;32mfrom\u001b[0m \u001b[0mpystac\u001b[0m \u001b[0;32mimport\u001b[0m \u001b[0mCatalog\u001b[0m\u001b[0;34m\u001b[0m\u001b[0;34m\u001b[0m\u001b[0m\n\u001b[1;32m      2\u001b[0m \u001b[0;34m\u001b[0m\u001b[0m\n\u001b[0;32m----> 3\u001b[0;31m \u001b[0mcat\u001b[0m \u001b[0;34m=\u001b[0m \u001b[0mCatalog\u001b[0m\u001b[0;34m.\u001b[0m\u001b[0mfrom_file\u001b[0m\u001b[0;34m(\u001b[0m\u001b[0mstac_catalog_url\u001b[0m\u001b[0;34m)\u001b[0m\u001b[0;34m\u001b[0m\u001b[0;34m\u001b[0m\u001b[0m\n\u001b[0m\u001b[1;32m      4\u001b[0m \u001b[0;34m\u001b[0m\u001b[0m\n\u001b[1;32m      5\u001b[0m \u001b[0mprint\u001b[0m\u001b[0;34m(\u001b[0m\u001b[0mcat\u001b[0m\u001b[0;34m.\u001b[0m\u001b[0mtitle\u001b[0m\u001b[0;34m)\u001b[0m\u001b[0;34m\u001b[0m\u001b[0;34m\u001b[0m\u001b[0m\n",
      "\u001b[0;32m/srv/conda/envs/nsidc/lib/python3.9/site-packages/pystac/catalog.py\u001b[0m in \u001b[0;36mfrom_file\u001b[0;34m(cls, href, stac_io)\u001b[0m\n\u001b[1;32m   1008\u001b[0m             \u001b[0mstac_io\u001b[0m \u001b[0;34m=\u001b[0m \u001b[0mpystac\u001b[0m\u001b[0;34m.\u001b[0m\u001b[0mStacIO\u001b[0m\u001b[0;34m.\u001b[0m\u001b[0mdefault\u001b[0m\u001b[0;34m(\u001b[0m\u001b[0;34m)\u001b[0m\u001b[0;34m\u001b[0m\u001b[0;34m\u001b[0m\u001b[0m\n\u001b[1;32m   1009\u001b[0m \u001b[0;34m\u001b[0m\u001b[0m\n\u001b[0;32m-> 1010\u001b[0;31m         \u001b[0mresult\u001b[0m \u001b[0;34m=\u001b[0m \u001b[0msuper\u001b[0m\u001b[0;34m(\u001b[0m\u001b[0;34m)\u001b[0m\u001b[0;34m.\u001b[0m\u001b[0mfrom_file\u001b[0m\u001b[0;34m(\u001b[0m\u001b[0mhref\u001b[0m\u001b[0;34m,\u001b[0m \u001b[0mstac_io\u001b[0m\u001b[0;34m)\u001b[0m\u001b[0;34m\u001b[0m\u001b[0;34m\u001b[0m\u001b[0m\n\u001b[0m\u001b[1;32m   1011\u001b[0m         \u001b[0;32mif\u001b[0m \u001b[0;32mnot\u001b[0m \u001b[0misinstance\u001b[0m\u001b[0;34m(\u001b[0m\u001b[0mresult\u001b[0m\u001b[0;34m,\u001b[0m \u001b[0mCatalog\u001b[0m\u001b[0;34m)\u001b[0m\u001b[0;34m:\u001b[0m\u001b[0;34m\u001b[0m\u001b[0;34m\u001b[0m\u001b[0m\n\u001b[1;32m   1012\u001b[0m             \u001b[0;32mraise\u001b[0m \u001b[0mpystac\u001b[0m\u001b[0;34m.\u001b[0m\u001b[0mSTACTypeError\u001b[0m\u001b[0;34m(\u001b[0m\u001b[0;34mf\"{result} is not a {Catalog}.\"\u001b[0m\u001b[0;34m)\u001b[0m\u001b[0;34m\u001b[0m\u001b[0;34m\u001b[0m\u001b[0m\n",
      "\u001b[0;32m/srv/conda/envs/nsidc/lib/python3.9/site-packages/pystac/stac_object.py\u001b[0m in \u001b[0;36mfrom_file\u001b[0;34m(cls, href, stac_io)\u001b[0m\n\u001b[1;32m    475\u001b[0m             \u001b[0mhref\u001b[0m \u001b[0;34m=\u001b[0m \u001b[0mmake_absolute_href\u001b[0m\u001b[0;34m(\u001b[0m\u001b[0mhref\u001b[0m\u001b[0;34m)\u001b[0m\u001b[0;34m\u001b[0m\u001b[0;34m\u001b[0m\u001b[0m\n\u001b[1;32m    476\u001b[0m \u001b[0;34m\u001b[0m\u001b[0m\n\u001b[0;32m--> 477\u001b[0;31m         \u001b[0md\u001b[0m \u001b[0;34m=\u001b[0m \u001b[0mstac_io\u001b[0m\u001b[0;34m.\u001b[0m\u001b[0mread_json\u001b[0m\u001b[0;34m(\u001b[0m\u001b[0mhref\u001b[0m\u001b[0;34m)\u001b[0m\u001b[0;34m\u001b[0m\u001b[0;34m\u001b[0m\u001b[0m\n\u001b[0m\u001b[1;32m    478\u001b[0m         \u001b[0mo\u001b[0m \u001b[0;34m=\u001b[0m \u001b[0mcls\u001b[0m\u001b[0;34m.\u001b[0m\u001b[0mfrom_dict\u001b[0m\u001b[0;34m(\u001b[0m\u001b[0md\u001b[0m\u001b[0;34m,\u001b[0m \u001b[0mhref\u001b[0m\u001b[0;34m=\u001b[0m\u001b[0mhref\u001b[0m\u001b[0;34m,\u001b[0m \u001b[0mmigrate\u001b[0m\u001b[0;34m=\u001b[0m\u001b[0;32mTrue\u001b[0m\u001b[0;34m,\u001b[0m \u001b[0mpreserve_dict\u001b[0m\u001b[0;34m=\u001b[0m\u001b[0;32mFalse\u001b[0m\u001b[0;34m)\u001b[0m\u001b[0;34m\u001b[0m\u001b[0;34m\u001b[0m\u001b[0m\n\u001b[1;32m    479\u001b[0m \u001b[0;34m\u001b[0m\u001b[0m\n",
      "\u001b[0;32m/srv/conda/envs/nsidc/lib/python3.9/site-packages/pystac/stac_io.py\u001b[0m in \u001b[0;36mread_json\u001b[0;34m(self, source, *args, **kwargs)\u001b[0m\n\u001b[1;32m    195\u001b[0m             \u001b[0mgiven\u001b[0m \u001b[0msource\u001b[0m\u001b[0;34m.\u001b[0m\u001b[0;34m\u001b[0m\u001b[0;34m\u001b[0m\u001b[0m\n\u001b[1;32m    196\u001b[0m         \"\"\"\n\u001b[0;32m--> 197\u001b[0;31m         \u001b[0mtxt\u001b[0m \u001b[0;34m=\u001b[0m \u001b[0mself\u001b[0m\u001b[0;34m.\u001b[0m\u001b[0mread_text\u001b[0m\u001b[0;34m(\u001b[0m\u001b[0msource\u001b[0m\u001b[0;34m,\u001b[0m \u001b[0;34m*\u001b[0m\u001b[0margs\u001b[0m\u001b[0;34m,\u001b[0m \u001b[0;34m**\u001b[0m\u001b[0mkwargs\u001b[0m\u001b[0;34m)\u001b[0m\u001b[0;34m\u001b[0m\u001b[0;34m\u001b[0m\u001b[0m\n\u001b[0m\u001b[1;32m    198\u001b[0m         \u001b[0;32mreturn\u001b[0m \u001b[0mself\u001b[0m\u001b[0;34m.\u001b[0m\u001b[0mjson_loads\u001b[0m\u001b[0;34m(\u001b[0m\u001b[0mtxt\u001b[0m\u001b[0;34m)\u001b[0m\u001b[0;34m\u001b[0m\u001b[0;34m\u001b[0m\u001b[0m\n\u001b[1;32m    199\u001b[0m \u001b[0;34m\u001b[0m\u001b[0m\n",
      "\u001b[0;32m/srv/conda/envs/nsidc/lib/python3.9/site-packages/pystac/stac_io.py\u001b[0m in \u001b[0;36mread_text\u001b[0;34m(self, source, *_, **__)\u001b[0m\n\u001b[1;32m    277\u001b[0m             \u001b[0;32mif\u001b[0m \u001b[0mhref\u001b[0m \u001b[0;32mis\u001b[0m \u001b[0;32mNone\u001b[0m\u001b[0;34m:\u001b[0m\u001b[0;34m\u001b[0m\u001b[0;34m\u001b[0m\u001b[0m\n\u001b[1;32m    278\u001b[0m                 \u001b[0;32mraise\u001b[0m \u001b[0mIOError\u001b[0m\u001b[0;34m(\u001b[0m\u001b[0;34mf\"Could not get an absolute HREF from link {source}\"\u001b[0m\u001b[0;34m)\u001b[0m\u001b[0;34m\u001b[0m\u001b[0;34m\u001b[0m\u001b[0m\n\u001b[0;32m--> 279\u001b[0;31m         \u001b[0;32mreturn\u001b[0m \u001b[0mself\u001b[0m\u001b[0;34m.\u001b[0m\u001b[0mread_text_from_href\u001b[0m\u001b[0;34m(\u001b[0m\u001b[0mhref\u001b[0m\u001b[0;34m)\u001b[0m\u001b[0;34m\u001b[0m\u001b[0;34m\u001b[0m\u001b[0m\n\u001b[0m\u001b[1;32m    280\u001b[0m \u001b[0;34m\u001b[0m\u001b[0m\n\u001b[1;32m    281\u001b[0m     \u001b[0;32mdef\u001b[0m \u001b[0mread_text_from_href\u001b[0m\u001b[0;34m(\u001b[0m\u001b[0mself\u001b[0m\u001b[0;34m,\u001b[0m \u001b[0mhref\u001b[0m\u001b[0;34m:\u001b[0m \u001b[0mstr\u001b[0m\u001b[0;34m)\u001b[0m \u001b[0;34m->\u001b[0m \u001b[0mstr\u001b[0m\u001b[0;34m:\u001b[0m\u001b[0;34m\u001b[0m\u001b[0;34m\u001b[0m\u001b[0m\n",
      "\u001b[0;32m/srv/conda/envs/nsidc/lib/python3.9/site-packages/pystac/stac_io.py\u001b[0m in \u001b[0;36mread_text_from_href\u001b[0;34m(self, href)\u001b[0m\n\u001b[1;32m    297\u001b[0m                     \u001b[0mhref_contents\u001b[0m \u001b[0;34m=\u001b[0m \u001b[0mf\u001b[0m\u001b[0;34m.\u001b[0m\u001b[0mread\u001b[0m\u001b[0;34m(\u001b[0m\u001b[0;34m)\u001b[0m\u001b[0;34m.\u001b[0m\u001b[0mdecode\u001b[0m\u001b[0;34m(\u001b[0m\u001b[0;34m\"utf-8\"\u001b[0m\u001b[0;34m)\u001b[0m\u001b[0;34m\u001b[0m\u001b[0;34m\u001b[0m\u001b[0m\n\u001b[1;32m    298\u001b[0m             \u001b[0;32mexcept\u001b[0m \u001b[0mHTTPError\u001b[0m \u001b[0;32mas\u001b[0m \u001b[0me\u001b[0m\u001b[0;34m:\u001b[0m\u001b[0;34m\u001b[0m\u001b[0;34m\u001b[0m\u001b[0m\n\u001b[0;32m--> 299\u001b[0;31m                 \u001b[0;32mraise\u001b[0m \u001b[0mException\u001b[0m\u001b[0;34m(\u001b[0m\u001b[0;34m\"Could not read uri {}\"\u001b[0m\u001b[0;34m.\u001b[0m\u001b[0mformat\u001b[0m\u001b[0;34m(\u001b[0m\u001b[0mhref\u001b[0m\u001b[0;34m)\u001b[0m\u001b[0;34m)\u001b[0m \u001b[0;32mfrom\u001b[0m \u001b[0me\u001b[0m\u001b[0;34m\u001b[0m\u001b[0;34m\u001b[0m\u001b[0m\n\u001b[0m\u001b[1;32m    300\u001b[0m         \u001b[0;32melse\u001b[0m\u001b[0;34m:\u001b[0m\u001b[0;34m\u001b[0m\u001b[0;34m\u001b[0m\u001b[0m\n\u001b[1;32m    301\u001b[0m             \u001b[0;32mwith\u001b[0m \u001b[0mopen\u001b[0m\u001b[0;34m(\u001b[0m\u001b[0mhref\u001b[0m\u001b[0;34m,\u001b[0m \u001b[0mencoding\u001b[0m\u001b[0;34m=\u001b[0m\u001b[0;34m\"utf-8\"\u001b[0m\u001b[0;34m)\u001b[0m \u001b[0;32mas\u001b[0m \u001b[0mf\u001b[0m\u001b[0;34m:\u001b[0m\u001b[0;34m\u001b[0m\u001b[0;34m\u001b[0m\u001b[0m\n",
      "\u001b[0;31mException\u001b[0m: Could not read uri https://harmony.earthdata.nasa.gov/stac/31aba3ae-91d2-4c32-89e1-8f90c1cd9e63/?linktype=https"
     ]
    }
   ],
   "source": [
    "from pystac import Catalog\n",
    "\n",
    "cat = Catalog.from_file(stac_catalog_url)\n",
    "\n",
    "print(cat.title)\n",
    "s3_links = []\n",
    "for item in cat.get_all_items():\n",
    "    print(item.datetime, [asset.href for asset in item.assets.values()])\n",
    "    s3_links.append([asset.href for asset in item.assets.values()])"
   ]
  },
  {
   "cell_type": "code",
   "execution_count": null,
   "id": "1e2dba76-7585-46f5-804e-0519b46aeed1",
   "metadata": {},
   "outputs": [],
   "source": [
    "ds = xr.open_dataset('ogc_temp.nc')\n",
    "ds\n",
    "\n",
    "# Determine the lat/lon coordinate names\n",
    "for coord_name, coord in ds.coords.items():\n",
    "    if 'units' not in coord.attrs:\n",
    "        continue\n",
    "    if coord.attrs['units'] == 'degrees_north':\n",
    "        lat_var = coord_name\n",
    "    if coord.attrs['units'] == 'degrees_east':\n",
    "        lon_var = coord_name\n",
    "\n",
    "print(f'lat_var={lat_var}')\n",
    "print(f'lon_var={lon_var}')"
   ]
  }
 ],
 "metadata": {
  "kernelspec": {
   "display_name": "nsidc",
   "language": "python",
   "name": "nsidc"
  },
  "language_info": {
   "codemirror_mode": {
    "name": "ipython",
    "version": 3
   },
   "file_extension": ".py",
   "mimetype": "text/x-python",
   "name": "python",
   "nbconvert_exporter": "python",
   "pygments_lexer": "ipython3",
   "version": "3.9.7"
  }
 },
 "nbformat": 4,
 "nbformat_minor": 5
}
