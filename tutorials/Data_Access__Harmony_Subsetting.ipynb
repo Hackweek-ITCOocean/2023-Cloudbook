{
 "cells": [
  {
   "cell_type": "markdown",
   "id": "30d1a698-a68c-4da3-9131-9e37cb3eb719",
   "metadata": {},
   "source": [
    "# Data Subsetting and Transformation Services in the Cloud\n",
    "\n",
    "## Using NASA Earthdata Harmony"
   ]
  },
  {
   "cell_type": "markdown",
   "id": "6d16a72a-d49f-47ae-a7c7-ec3676d13f16",
   "metadata": {},
   "source": [
    "---"
   ]
  },
  {
   "cell_type": "markdown",
   "id": "0af92b67-ceee-4164-b8dd-b01219f4cd98",
   "metadata": {},
   "source": [
    "## Timing:\n",
    "- Exercise: 45 minutes"
   ]
  },
  {
   "cell_type": "markdown",
   "id": "b89c2939-437e-4f43-9323-33fe034a7a32",
   "metadata": {},
   "source": [
    "---"
   ]
  },
  {
   "cell_type": "markdown",
   "id": "4f8dc4ee-a8c5-439d-a1d5-48234c05add7",
   "metadata": {
    "tags": []
   },
   "source": [
    "## Summary\n",
    "\n",
    "Harmony allows you to seamlessly analyze Earth observation data from different NASA data centers... \n",
    "https://harmony.earthdata.nasa.gov/\n",
    "\n",
    "#### Benefits\n",
    "\n",
    "- Consistent access patterns to EOSDIS holdings make cross-data center data access easier\n",
    "- Data reduction services allow users to request only the data they want, in the format and projection they want\n",
    "- Analysis Ready Data and cloud access will help reduce time-to-science\n",
    "- Community Development helps reduce the barriers for re-use of code and sharing of domain knowledge\n",
    "\n",
    "### Objectives\n",
    "\n",
    ".\n",
    ".\n",
    ".\n",
    "\n",
    "___"
   ]
  },
  {
   "cell_type": "markdown",
   "id": "d47f95dd-5dab-43e3-9533-9a4437119d87",
   "metadata": {
    "tags": []
   },
   "source": [
    "## Import Packages"
   ]
  },
  {
   "cell_type": "code",
   "execution_count": null,
   "id": "4ae3e21c-55fb-480b-bc77-a296605590d5",
   "metadata": {},
   "outputs": [],
   "source": [
    "pip install -U harmony-py xarray h5netcdf"
   ]
  },
  {
   "cell_type": "markdown",
   "id": "61356b50-4e83-4e39-8da0-7949104830df",
   "metadata": {},
   "source": [
    "I also ran this on command line following xarray install instructions: http://xarray.pydata.org/en/stable/getting-started-guide/installing.html\n",
    "\n",
    "`conda install -c conda-forge xarray dask netCDF4 bottleneck`"
   ]
  },
  {
   "cell_type": "code",
   "execution_count": 18,
   "id": "3d6cf2c7-ea5b-41eb-999c-483240d5e529",
   "metadata": {},
   "outputs": [],
   "source": [
    "from harmony import BBox, Client, Collection, Request, LinkType\n",
    "from harmony.config import Environment\n",
    "import requests\n",
    "from pprint import pprint\n",
    "import datetime as dt\n",
    "import s3fs\n",
    "import xarray as xr\n",
    "# import netCDF4\n",
    "# import h5netcdf"
   ]
  },
  {
   "cell_type": "markdown",
   "id": "80a85c23-ec37-4430-8e8d-2e87b2900589",
   "metadata": {},
   "source": [
    "## Discovery service options for a given data set"
   ]
  },
  {
   "cell_type": "code",
   "execution_count": 2,
   "id": "65ab652b-9bd1-4fb9-98c6-1996888c9b48",
   "metadata": {},
   "outputs": [
    {
     "name": "stdout",
     "output_type": "stream",
     "text": [
      "'Harmony'\n",
      "{'Subset': {'SpatialSubset': {'BoundingBox': {'AllowMultipleValues': False}},\n",
      "            'TemporalSubset': {'AllowMultipleValues': False},\n",
      "            'VariableSubset': {'AllowMultipleValues': True}},\n",
      " 'SupportedReformattings': [{'SupportedInputFormat': 'HDF5',\n",
      "                             'SupportedOutputFormats': ['NETCDF-4']},\n",
      "                            {'SupportedInputFormat': 'NETCDF-4',\n",
      "                             'SupportedOutputFormats': ['NETCDF-4']}]}\n",
      "'OPeNDAP'\n",
      "{'Subset': {'SpatialSubset': {'BoundingBox': {'AllowMultipleValues': False}},\n",
      "            'TemporalSubset': {'AllowMultipleValues': False},\n",
      "            'VariableSubset': {'AllowMultipleValues': True}},\n",
      " 'SupportedReformattings': [{'SupportedInputFormat': 'NETCDF-4',\n",
      "                             'SupportedOutputFormats': ['ASCII',\n",
      "                                                        'CSV',\n",
      "                                                        'NETCDF-3',\n",
      "                                                        'NETCDF-4']},\n",
      "                            {'SupportedInputFormat': 'HDF5',\n",
      "                             'SupportedOutputFormats': ['ASCII',\n",
      "                                                        'CSV',\n",
      "                                                        'NETCDF-3',\n",
      "                                                        'NETCDF-4']}]}\n"
     ]
    }
   ],
   "source": [
    "CMR_OPS = 'https://cmr.earthdata.nasa.gov/search'\n",
    "url = f'{CMR_OPS}/{\"collections\"}'\n",
    "\n",
    "response = requests.get(url, \n",
    "                        params={\n",
    "                            'concept_id': 'C1940473819-POCLOUD',\n",
    "                            },\n",
    "                        headers={\n",
    "                            'Accept': 'application/json'\n",
    "                            }\n",
    "                       )\n",
    "response = response.json()\n",
    "services = response['feed']['entry'][0]['associations']['services']\n",
    "output_format = \"umm_json\"\n",
    "service_url = \"https://cmr.earthdata.nasa.gov/search/services\"\n",
    "for i in range(len(services)):\n",
    "    response = requests.get(f\"{service_url}.{output_format}?concept-id={services[i]}\")\n",
    "    response = response.json()\n",
    "    pprint(response['items'][0]['umm']['Type'])\n",
    "    pprint(response['items'][0]['umm']['ServiceOptions'])"
   ]
  },
  {
   "cell_type": "markdown",
   "id": "644bd05f-b5bf-4e16-ad5d-5d3aa675fdc0",
   "metadata": {},
   "source": [
    "## Discover variable names"
   ]
  },
  {
   "cell_type": "code",
   "execution_count": 3,
   "id": "7f8cf211-fcab-4533-ba00-e873b3d82f71",
   "metadata": {},
   "outputs": [
    {
     "name": "stdout",
     "output_type": "stream",
     "text": [
      "'sses_standard_deviation_4um'\n",
      "'l2p_flags'\n",
      "'time'\n",
      "'dt_analysis'\n",
      "'sses_standard_deviation'\n",
      "'sst_dtime'\n",
      "'sses_bias_4um'\n",
      "'lat'\n",
      "'sea_surface_temperature_4um'\n",
      "'sses_bias'\n",
      "'lon'\n",
      "'sea_surface_temperature'\n",
      "'quality_level'\n",
      "'wind_speed'\n",
      "'quality_level_4um'\n"
     ]
    }
   ],
   "source": [
    "response = requests.get(url, \n",
    "                        params={\n",
    "                            'concept_id': 'C1940473819-POCLOUD',\n",
    "                            },\n",
    "                        headers={\n",
    "                            'Accept': 'application/json'\n",
    "                            }\n",
    "                       )\n",
    "response = response.json()\n",
    "variables = response['feed']['entry'][0]['associations']['variables']\n",
    "output_format = \"umm_json\"\n",
    "var_url = \"https://cmr.earthdata.nasa.gov/search/variables\"\n",
    "for i in range(len(variables)):\n",
    "    response = requests.get(f\"{var_url}.{output_format}?concept-id={variables[i]}\")\n",
    "    response = response.json()\n",
    "    # pprint(response['items'][0]['umm'])\n",
    "    if 'Name' in response['items'][0]['umm']: pprint(response['items'][0]['umm']['Name'])"
   ]
  },
  {
   "cell_type": "code",
   "execution_count": 4,
   "id": "4a93372a-3acc-4dfb-af7c-3552c1e6984e",
   "metadata": {},
   "outputs": [],
   "source": [
    "variables = ['sea_surface_temperature','lat','lon']"
   ]
  },
  {
   "cell_type": "code",
   "execution_count": 5,
   "id": "e7fe20b1-7d23-4d41-907c-62624eeb93f7",
   "metadata": {},
   "outputs": [],
   "source": [
    "# cmr_url = \"https://\"+\"cmr.earthdata.nasa.gov\"+\"/search/granules.umm_json?collection_concept_id=\"+\"C1940473819-POCLOUD\"+\"&sort_key=-start_date&bounding_box=-90,-45.75,90,-45\"\n",
    "\n",
    "# response = requests.get(cmr_url)\n",
    "\n",
    "# gid=response.json()['items'][0]['meta']['concept-id']\n",
    "# print(response.json()['items'][0])\n",
    "# print(gid)"
   ]
  },
  {
   "cell_type": "markdown",
   "id": "2ec7d84e-1946-4014-b0bb-febb12373ab2",
   "metadata": {},
   "source": [
    "## Harmony-Py set up"
   ]
  },
  {
   "cell_type": "code",
   "execution_count": 6,
   "id": "aee9843a-1875-4fb4-b241-47389333c010",
   "metadata": {},
   "outputs": [],
   "source": [
    "harmony_client = Client()"
   ]
  },
  {
   "cell_type": "code",
   "execution_count": 7,
   "id": "3bab287d-ef49-44bb-9d14-fbcb72407341",
   "metadata": {},
   "outputs": [],
   "source": [
    "request = Request(\n",
    "    collection=Collection(id='MODIS_A-JPL-L2P-v2019.0'),\n",
    "    spatial=BBox(60,-45.75,90,-45), # bounding box example that can be used as an alternative to shapefile input\n",
    "    temporal={\n",
    "        'start': dt.datetime(2021, 11, 1),\n",
    "        'stop': dt.datetime(2021, 11, 2),\n",
    "    },\n",
    "    # variables=variables,\n",
    ")"
   ]
  },
  {
   "cell_type": "markdown",
   "id": "680f12b8-0ac2-4ff2-8f05-f519e9ea16aa",
   "metadata": {},
   "source": [
    "### Valid request?"
   ]
  },
  {
   "cell_type": "code",
   "execution_count": 8,
   "id": "b3ae8454-2c7f-414f-b526-17a253aafc66",
   "metadata": {},
   "outputs": [
    {
     "name": "stdout",
     "output_type": "stream",
     "text": [
      "Request valid? True\n"
     ]
    }
   ],
   "source": [
    "print(f\"Request valid? {request.is_valid()}\")\n",
    "for m in request.error_messages():\n",
    "    print(\" * \" + m)"
   ]
  },
  {
   "cell_type": "markdown",
   "id": "8e9f4b81-6bfc-46e3-bb79-0ee5846456a2",
   "metadata": {},
   "source": [
    "### Submit request"
   ]
  },
  {
   "cell_type": "code",
   "execution_count": 9,
   "id": "48e5d0b2-d28c-4fe6-975d-3003b112ca6b",
   "metadata": {},
   "outputs": [
    {
     "data": {
      "text/plain": [
       "'7987db9a-74b4-4bc1-9622-bb9877ab517a'"
      ]
     },
     "execution_count": 9,
     "metadata": {},
     "output_type": "execute_result"
    }
   ],
   "source": [
    "job_id = harmony_client.submit(request)\n",
    "job_id"
   ]
  },
  {
   "cell_type": "code",
   "execution_count": 10,
   "id": "c8ca8da2-9f33-4fc9-bb63-c717d47e97dd",
   "metadata": {},
   "outputs": [
    {
     "data": {
      "text/plain": [
       "{'status': 'running',\n",
       " 'message': 'There were 2 collections that matched the provided short name MODIS_A-JPL-L2P-v2019.0. See https://cmr.earthdata.nasa.gov/concepts/C1940473819-POCLOUD for details on the selected collection. The version ID for the selected collection is 2019.0. To use a different collection submit a new request specifying the desired CMR concept ID instead of the collection short name.',\n",
       " 'progress': 0,\n",
       " 'created_at': datetime.datetime(2021, 11, 2, 22, 9, 23, 296000, tzinfo=tzlocal()),\n",
       " 'updated_at': datetime.datetime(2021, 11, 2, 22, 9, 23, 296000, tzinfo=tzlocal()),\n",
       " 'request': 'https://harmony.earthdata.nasa.gov/MODIS_A-JPL-L2P-v2019.0/ogc-api-coverages/1.0.0/collections/all/coverage/rangeset?forceAsync=true&subset=lat(-45.75%3A-45)&subset=lon(60%3A90)&subset=time(%222021-11-01T00%3A00%3A00%22%3A%222021-11-02T00%3A00%3A00%22)',\n",
       " 'num_input_granules': 7}"
      ]
     },
     "execution_count": 10,
     "metadata": {},
     "output_type": "execute_result"
    }
   ],
   "source": [
    "harmony_client.status(job_id)"
   ]
  },
  {
   "cell_type": "code",
   "execution_count": 11,
   "id": "37bdad26-3c82-4ab4-8c31-abd9027c65e5",
   "metadata": {},
   "outputs": [
    {
     "name": "stderr",
     "output_type": "stream",
     "text": [
      " [ Processing: 100% ] |###################################################| [|]\n"
     ]
    }
   ],
   "source": [
    "harmony_client.wait_for_processing(job_id, show_progress=True)\n"
   ]
  },
  {
   "cell_type": "code",
   "execution_count": 12,
   "id": "cf7f40e0-815a-452b-a250-439566d8495f",
   "metadata": {},
   "outputs": [
    {
     "name": "stdout",
     "output_type": "stream",
     "text": [
      "{'createdAt': '2021-11-02T22:09:23.296Z',\n",
      " 'jobID': '7987db9a-74b4-4bc1-9622-bb9877ab517a',\n",
      " 'links': [{'href': 'https://harmony.earthdata.nasa.gov/stac/7987db9a-74b4-4bc1-9622-bb9877ab517a/',\n",
      "            'rel': 'stac-catalog-json',\n",
      "            'title': 'STAC catalog',\n",
      "            'type': 'application/json'},\n",
      "           {'bbox': [66.801, -66.443, 113.49, -44.231],\n",
      "            'href': 'https://harmony.earthdata.nasa.gov/service-results/harmony-prod-staging/public/podaac/l2-subsetter/859875c4-9f0b-4377-a6a6-675efcd2728d/20211101083501-JPL-L2P_GHRSST-SSTskin-MODIS_A-D-v02.0-fv01.0.nc4',\n",
      "            'rel': 'data',\n",
      "            'temporal': {'end': '2021-11-01T08:39:58.000Z',\n",
      "                         'start': '2021-11-01T08:35:01.000Z'},\n",
      "            'title': '20211101083501-JPL-L2P_GHRSST-SSTskin-MODIS_A-D-v02.0-fv01.0.nc4',\n",
      "            'type': 'application/x-netcdf4'},\n",
      "           {'bbox': [66.7, -45.7, 90, -45],\n",
      "            'href': 'https://harmony.earthdata.nasa.gov/service-results/harmony-prod-staging/public/podaac/l2-subsetter/859875c4-9f0b-4377-a6a6-675efcd2728d/20211101084001-JPL-L2P_GHRSST-SSTskin-MODIS_A-D-v02.0-fv01.0_subsetted.nc4',\n",
      "            'rel': 'data',\n",
      "            'temporal': {'end': '2021-11-01T08:44:58.000Z',\n",
      "                         'start': '2021-11-01T08:40:01.000Z'},\n",
      "            'title': '20211101084001-JPL-L2P_GHRSST-SSTskin-MODIS_A-D-v02.0-fv01.0_subsetted.nc4',\n",
      "            'type': 'application/x-netcdf4'},\n",
      "           {'bbox': [60, -45.7, 73.9, -45],\n",
      "            'href': 'https://harmony.earthdata.nasa.gov/service-results/harmony-prod-staging/public/podaac/l2-subsetter/859875c4-9f0b-4377-a6a6-675efcd2728d/20211101101501-JPL-L2P_GHRSST-SSTskin-MODIS_A-D-v02.0-fv01.0_subsetted.nc4',\n",
      "            'rel': 'data',\n",
      "            'temporal': {'end': '2021-11-01T10:19:58.000Z',\n",
      "                         'start': '2021-11-01T10:15:01.000Z'},\n",
      "            'title': '20211101101501-JPL-L2P_GHRSST-SSTskin-MODIS_A-D-v02.0-fv01.0_subsetted.nc4',\n",
      "            'type': 'application/x-netcdf4'},\n",
      "           {'bbox': [88.05, -48.131, 120.198, -26.81],\n",
      "            'href': 'https://harmony.earthdata.nasa.gov/service-results/harmony-prod-staging/public/podaac/l2-subsetter/859875c4-9f0b-4377-a6a6-675efcd2728d/20211101180501-JPL-L2P_GHRSST-SSTskin-MODIS_A-N-v02.0-fv01.0.nc4',\n",
      "            'rel': 'data',\n",
      "            'temporal': {'end': '2021-11-01T18:09:58.000Z',\n",
      "                         'start': '2021-11-01T18:05:01.000Z'},\n",
      "            'title': '20211101180501-JPL-L2P_GHRSST-SSTskin-MODIS_A-N-v02.0-fv01.0.nc4',\n",
      "            'type': 'application/x-netcdf4'},\n",
      "           {'bbox': [86.7, -45.7, 90, -45],\n",
      "            'href': 'https://harmony.earthdata.nasa.gov/service-results/harmony-prod-staging/public/podaac/l2-subsetter/859875c4-9f0b-4377-a6a6-675efcd2728d/20211101181001-JPL-L2P_GHRSST-SSTskin-MODIS_A-N-v02.0-fv01.0_subsetted.nc4',\n",
      "            'rel': 'data',\n",
      "            'temporal': {'end': '2021-11-01T18:14:58.000Z',\n",
      "                         'start': '2021-11-01T18:10:01.000Z'},\n",
      "            'title': '20211101181001-JPL-L2P_GHRSST-SSTskin-MODIS_A-N-v02.0-fv01.0_subsetted.nc4',\n",
      "            'type': 'application/x-netcdf4'},\n",
      "           {'bbox': [61.9, -45.7, 90, -45],\n",
      "            'href': 'https://harmony.earthdata.nasa.gov/service-results/harmony-prod-staging/public/podaac/l2-subsetter/859875c4-9f0b-4377-a6a6-675efcd2728d/20211101194501-JPL-L2P_GHRSST-SSTskin-MODIS_A-N-v02.0-fv01.0_subsetted.nc4',\n",
      "            'rel': 'data',\n",
      "            'temporal': {'end': '2021-11-01T19:49:58.000Z',\n",
      "                         'start': '2021-11-01T19:45:01.000Z'},\n",
      "            'title': '20211101194501-JPL-L2P_GHRSST-SSTskin-MODIS_A-N-v02.0-fv01.0_subsetted.nc4',\n",
      "            'type': 'application/x-netcdf4'},\n",
      "           {'bbox': [60, -45.7, 69.2, -45],\n",
      "            'href': 'https://harmony.earthdata.nasa.gov/service-results/harmony-prod-staging/public/podaac/l2-subsetter/859875c4-9f0b-4377-a6a6-675efcd2728d/20211101212501-JPL-L2P_GHRSST-SSTskin-MODIS_A-N-v02.0-fv01.0_subsetted.nc4',\n",
      "            'rel': 'data',\n",
      "            'temporal': {'end': '2021-11-01T21:29:58.000Z',\n",
      "                         'start': '2021-11-01T21:25:01.000Z'},\n",
      "            'title': '20211101212501-JPL-L2P_GHRSST-SSTskin-MODIS_A-N-v02.0-fv01.0_subsetted.nc4',\n",
      "            'type': 'application/x-netcdf4'},\n",
      "           {'href': 'https://harmony.earthdata.nasa.gov/jobs/7987db9a-74b4-4bc1-9622-bb9877ab517a?linktype=https&page=1&limit=2000',\n",
      "            'rel': 'self',\n",
      "            'title': 'The current page',\n",
      "            'type': 'application/json'}],\n",
      " 'message': 'There were 2 collections that matched the provided short name '\n",
      "            'MODIS_A-JPL-L2P-v2019.0. See '\n",
      "            'https://cmr.earthdata.nasa.gov/concepts/C1940473819-POCLOUD for '\n",
      "            'details on the selected collection. The version ID for the '\n",
      "            'selected collection is 2019.0. To use a different collection '\n",
      "            'submit a new request specifying the desired CMR concept ID '\n",
      "            'instead of the collection short name.',\n",
      " 'numInputGranules': 7,\n",
      " 'progress': 100,\n",
      " 'request': 'https://harmony.earthdata.nasa.gov/MODIS_A-JPL-L2P-v2019.0/ogc-api-coverages/1.0.0/collections/all/coverage/rangeset?forceAsync=true&subset=lat(-45.75%3A-45)&subset=lon(60%3A90)&subset=time(%222021-11-01T00%3A00%3A00%22%3A%222021-11-02T00%3A00%3A00%22)',\n",
      " 'status': 'successful',\n",
      " 'updatedAt': '2021-11-02T22:10:00.988Z',\n",
      " 'username': 'amy.steiker'}\n"
     ]
    }
   ],
   "source": [
    "data = harmony_client.result_json(job_id)\n",
    "pprint(data)"
   ]
  },
  {
   "cell_type": "markdown",
   "id": "a7989627-d1f9-4f78-83df-c56a7d8b1c93",
   "metadata": {},
   "source": [
    "## Direct S3"
   ]
  },
  {
   "cell_type": "code",
   "execution_count": 13,
   "id": "b66d9800-173b-48d3-bb8a-63ff6b22d1e7",
   "metadata": {},
   "outputs": [],
   "source": [
    "results = harmony_client.result_urls(job_id, link_type=LinkType.s3)\n",
    "urls = list(results)"
   ]
  },
  {
   "cell_type": "code",
   "execution_count": 14,
   "id": "dfe9c7b0-b129-4910-a80d-48c5b8081598",
   "metadata": {
    "tags": []
   },
   "outputs": [],
   "source": [
    "creds = harmony_client.aws_credentials()"
   ]
  },
  {
   "cell_type": "markdown",
   "id": "e3c88630-188d-4277-80c6-493d920cc4f3",
   "metadata": {
    "tags": []
   },
   "source": [
    "### Open staged zarr files with *s3fs*\n",
    "\n",
    "We use the AWS `s3fs` package to get metadata about the zarr data store and read in the credentials we pulled from our Harmony job response:"
   ]
  },
  {
   "cell_type": "code",
   "execution_count": 15,
   "id": "cdc38cd3-0663-4e30-9c62-08142eaced01",
   "metadata": {
    "tags": []
   },
   "outputs": [],
   "source": [
    "netcdf_fs = s3fs.S3FileSystem(\n",
    "    key=creds['aws_access_key_id'],\n",
    "    secret=creds['aws_secret_access_key'],\n",
    "    token=creds['aws_session_token'],\n",
    "    client_kwargs={'region_name':'us-west-2'},\n",
    ")"
   ]
  },
  {
   "cell_type": "code",
   "execution_count": 16,
   "id": "bbe6b921-04c3-4e24-b142-d477874fd28e",
   "metadata": {},
   "outputs": [
    {
     "data": {
      "text/plain": [
       "[<fsspec.mapping.FSMap at 0x7f9e8eb83b80>,\n",
       " <fsspec.mapping.FSMap at 0x7f9e8eb835e0>,\n",
       " <fsspec.mapping.FSMap at 0x7f9e8eb83370>,\n",
       " <fsspec.mapping.FSMap at 0x7f9e8eb83b20>,\n",
       " <fsspec.mapping.FSMap at 0x7f9e8eb83a00>,\n",
       " <fsspec.mapping.FSMap at 0x7f9e8eb839a0>,\n",
       " <fsspec.mapping.FSMap at 0x7f9ec057eb20>]"
      ]
     },
     "execution_count": 16,
     "metadata": {},
     "output_type": "execute_result"
    }
   ],
   "source": [
    "netcdf_stores = [netcdf_fs.get_mapper(root=u, check=False) for u in urls]\n",
    "netcdf_stores"
   ]
  },
  {
   "cell_type": "code",
   "execution_count": 17,
   "id": "a7ce3d06-28fd-4771-9cda-313c4f8a41a7",
   "metadata": {},
   "outputs": [
    {
     "ename": "ValueError",
     "evalue": "did not find a match in any of xarray's currently installed IO backends ['netcdf4', 'h5netcdf']. Consider explicitly selecting one of the installed engines via the ``engine`` parameter, or installing additional IO dependencies, see:\nhttp://xarray.pydata.org/en/stable/getting-started-guide/installing.html\nhttp://xarray.pydata.org/en/stable/user-guide/io.html",
     "output_type": "error",
     "traceback": [
      "\u001b[0;31m---------------------------------------------------------------------------\u001b[0m",
      "\u001b[0;31mValueError\u001b[0m                                Traceback (most recent call last)",
      "\u001b[0;32m/tmp/ipykernel_737/4291207136.py\u001b[0m in \u001b[0;36m<module>\u001b[0;34m\u001b[0m\n\u001b[0;32m----> 1\u001b[0;31m \u001b[0mxr\u001b[0m\u001b[0;34m.\u001b[0m\u001b[0mopen_mfdataset\u001b[0m\u001b[0;34m(\u001b[0m\u001b[0mnetcdf_stores\u001b[0m\u001b[0;34m)\u001b[0m\u001b[0;34m\u001b[0m\u001b[0;34m\u001b[0m\u001b[0m\n\u001b[0m",
      "\u001b[0;32m/srv/conda/envs/nsidc/lib/python3.9/site-packages/xarray/backends/api.py\u001b[0m in \u001b[0;36mopen_mfdataset\u001b[0;34m(paths, chunks, concat_dim, compat, preprocess, engine, data_vars, coords, combine, parallel, join, attrs_file, combine_attrs, **kwargs)\u001b[0m\n\u001b[1;32m    906\u001b[0m         \u001b[0mgetattr_\u001b[0m \u001b[0;34m=\u001b[0m \u001b[0mgetattr\u001b[0m\u001b[0;34m\u001b[0m\u001b[0;34m\u001b[0m\u001b[0m\n\u001b[1;32m    907\u001b[0m \u001b[0;34m\u001b[0m\u001b[0m\n\u001b[0;32m--> 908\u001b[0;31m     \u001b[0mdatasets\u001b[0m \u001b[0;34m=\u001b[0m \u001b[0;34m[\u001b[0m\u001b[0mopen_\u001b[0m\u001b[0;34m(\u001b[0m\u001b[0mp\u001b[0m\u001b[0;34m,\u001b[0m \u001b[0;34m**\u001b[0m\u001b[0mopen_kwargs\u001b[0m\u001b[0;34m)\u001b[0m \u001b[0;32mfor\u001b[0m \u001b[0mp\u001b[0m \u001b[0;32min\u001b[0m \u001b[0mpaths\u001b[0m\u001b[0;34m]\u001b[0m\u001b[0;34m\u001b[0m\u001b[0;34m\u001b[0m\u001b[0m\n\u001b[0m\u001b[1;32m    909\u001b[0m     \u001b[0mclosers\u001b[0m \u001b[0;34m=\u001b[0m \u001b[0;34m[\u001b[0m\u001b[0mgetattr_\u001b[0m\u001b[0;34m(\u001b[0m\u001b[0mds\u001b[0m\u001b[0;34m,\u001b[0m \u001b[0;34m\"_close\"\u001b[0m\u001b[0;34m)\u001b[0m \u001b[0;32mfor\u001b[0m \u001b[0mds\u001b[0m \u001b[0;32min\u001b[0m \u001b[0mdatasets\u001b[0m\u001b[0;34m]\u001b[0m\u001b[0;34m\u001b[0m\u001b[0;34m\u001b[0m\u001b[0m\n\u001b[1;32m    910\u001b[0m     \u001b[0;32mif\u001b[0m \u001b[0mpreprocess\u001b[0m \u001b[0;32mis\u001b[0m \u001b[0;32mnot\u001b[0m \u001b[0;32mNone\u001b[0m\u001b[0;34m:\u001b[0m\u001b[0;34m\u001b[0m\u001b[0;34m\u001b[0m\u001b[0m\n",
      "\u001b[0;32m/srv/conda/envs/nsidc/lib/python3.9/site-packages/xarray/backends/api.py\u001b[0m in \u001b[0;36m<listcomp>\u001b[0;34m(.0)\u001b[0m\n\u001b[1;32m    906\u001b[0m         \u001b[0mgetattr_\u001b[0m \u001b[0;34m=\u001b[0m \u001b[0mgetattr\u001b[0m\u001b[0;34m\u001b[0m\u001b[0;34m\u001b[0m\u001b[0m\n\u001b[1;32m    907\u001b[0m \u001b[0;34m\u001b[0m\u001b[0m\n\u001b[0;32m--> 908\u001b[0;31m     \u001b[0mdatasets\u001b[0m \u001b[0;34m=\u001b[0m \u001b[0;34m[\u001b[0m\u001b[0mopen_\u001b[0m\u001b[0;34m(\u001b[0m\u001b[0mp\u001b[0m\u001b[0;34m,\u001b[0m \u001b[0;34m**\u001b[0m\u001b[0mopen_kwargs\u001b[0m\u001b[0;34m)\u001b[0m \u001b[0;32mfor\u001b[0m \u001b[0mp\u001b[0m \u001b[0;32min\u001b[0m \u001b[0mpaths\u001b[0m\u001b[0;34m]\u001b[0m\u001b[0;34m\u001b[0m\u001b[0;34m\u001b[0m\u001b[0m\n\u001b[0m\u001b[1;32m    909\u001b[0m     \u001b[0mclosers\u001b[0m \u001b[0;34m=\u001b[0m \u001b[0;34m[\u001b[0m\u001b[0mgetattr_\u001b[0m\u001b[0;34m(\u001b[0m\u001b[0mds\u001b[0m\u001b[0;34m,\u001b[0m \u001b[0;34m\"_close\"\u001b[0m\u001b[0;34m)\u001b[0m \u001b[0;32mfor\u001b[0m \u001b[0mds\u001b[0m \u001b[0;32min\u001b[0m \u001b[0mdatasets\u001b[0m\u001b[0;34m]\u001b[0m\u001b[0;34m\u001b[0m\u001b[0;34m\u001b[0m\u001b[0m\n\u001b[1;32m    910\u001b[0m     \u001b[0;32mif\u001b[0m \u001b[0mpreprocess\u001b[0m \u001b[0;32mis\u001b[0m \u001b[0;32mnot\u001b[0m \u001b[0;32mNone\u001b[0m\u001b[0;34m:\u001b[0m\u001b[0;34m\u001b[0m\u001b[0;34m\u001b[0m\u001b[0m\n",
      "\u001b[0;32m/srv/conda/envs/nsidc/lib/python3.9/site-packages/xarray/backends/api.py\u001b[0m in \u001b[0;36mopen_dataset\u001b[0;34m(filename_or_obj, engine, chunks, cache, decode_cf, mask_and_scale, decode_times, decode_timedelta, use_cftime, concat_characters, decode_coords, drop_variables, backend_kwargs, *args, **kwargs)\u001b[0m\n\u001b[1;32m    477\u001b[0m \u001b[0;34m\u001b[0m\u001b[0m\n\u001b[1;32m    478\u001b[0m     \u001b[0;32mif\u001b[0m \u001b[0mengine\u001b[0m \u001b[0;32mis\u001b[0m \u001b[0;32mNone\u001b[0m\u001b[0;34m:\u001b[0m\u001b[0;34m\u001b[0m\u001b[0;34m\u001b[0m\u001b[0m\n\u001b[0;32m--> 479\u001b[0;31m         \u001b[0mengine\u001b[0m \u001b[0;34m=\u001b[0m \u001b[0mplugins\u001b[0m\u001b[0;34m.\u001b[0m\u001b[0mguess_engine\u001b[0m\u001b[0;34m(\u001b[0m\u001b[0mfilename_or_obj\u001b[0m\u001b[0;34m)\u001b[0m\u001b[0;34m\u001b[0m\u001b[0;34m\u001b[0m\u001b[0m\n\u001b[0m\u001b[1;32m    480\u001b[0m \u001b[0;34m\u001b[0m\u001b[0m\n\u001b[1;32m    481\u001b[0m     \u001b[0mbackend\u001b[0m \u001b[0;34m=\u001b[0m \u001b[0mplugins\u001b[0m\u001b[0;34m.\u001b[0m\u001b[0mget_backend\u001b[0m\u001b[0;34m(\u001b[0m\u001b[0mengine\u001b[0m\u001b[0;34m)\u001b[0m\u001b[0;34m\u001b[0m\u001b[0;34m\u001b[0m\u001b[0m\n",
      "\u001b[0;32m/srv/conda/envs/nsidc/lib/python3.9/site-packages/xarray/backends/plugins.py\u001b[0m in \u001b[0;36mguess_engine\u001b[0;34m(store_spec)\u001b[0m\n\u001b[1;32m    154\u001b[0m         )\n\u001b[1;32m    155\u001b[0m \u001b[0;34m\u001b[0m\u001b[0m\n\u001b[0;32m--> 156\u001b[0;31m     \u001b[0;32mraise\u001b[0m \u001b[0mValueError\u001b[0m\u001b[0;34m(\u001b[0m\u001b[0merror_msg\u001b[0m\u001b[0;34m)\u001b[0m\u001b[0;34m\u001b[0m\u001b[0;34m\u001b[0m\u001b[0m\n\u001b[0m\u001b[1;32m    157\u001b[0m \u001b[0;34m\u001b[0m\u001b[0m\n\u001b[1;32m    158\u001b[0m \u001b[0;34m\u001b[0m\u001b[0m\n",
      "\u001b[0;31mValueError\u001b[0m: did not find a match in any of xarray's currently installed IO backends ['netcdf4', 'h5netcdf']. Consider explicitly selecting one of the installed engines via the ``engine`` parameter, or installing additional IO dependencies, see:\nhttp://xarray.pydata.org/en/stable/getting-started-guide/installing.html\nhttp://xarray.pydata.org/en/stable/user-guide/io.html"
     ]
    }
   ],
   "source": [
    "xr.open_mfdataset(netcdf_stores)"
   ]
  },
  {
   "cell_type": "markdown",
   "id": "6752db35-abdc-4c2f-a0e2-8c51b190373e",
   "metadata": {},
   "source": [
    "### Integrate with PO.DAAC l2ss tutorial to bring in STAC items into xarray directly:"
   ]
  },
  {
   "cell_type": "code",
   "execution_count": null,
   "id": "a5887768-3f6c-4ac6-828d-5f6956bff31f",
   "metadata": {},
   "outputs": [],
   "source": [
    "# # From PO.DAAC l2ss tutorial:\n",
    "\n",
    "# ds = xr.open_dataset('ogc_temp.nc')\n",
    "# ds\n",
    "\n",
    "# # Determine the lat/lon coordinate names\n",
    "# for coord_name, coord in ds.coords.items():\n",
    "#     if 'units' not in coord.attrs:\n",
    "#         continue\n",
    "#     if coord.attrs['units'] == 'degrees_north':\n",
    "#         lat_var = coord_name\n",
    "#     if coord.attrs['units'] == 'degrees_east':\n",
    "#         lon_var = coord_name\n",
    "\n",
    "# print(f'lat_var={lat_var}')\n",
    "# print(f'lon_var={lon_var}')\n",
    "\n",
    "# if ds[variable].size == 0:\n",
    "#     print(\"No data in subsetted region. Exiting\")\n",
    "#     sys.exit(0)\n",
    "    \n",
    "# import matplotlib.pyplot as plt\n",
    "# import math\n",
    "\n",
    "# fig, axes = plt.subplots(ncols=3, nrows=math.ceil((len(ds.data_vars)/3)))\n",
    "# fig.set_size_inches((15,15))\n",
    "\n",
    "# for count, xvar in enumerate(ds.data_vars):\n",
    "#     if  ds[xvar].dtype == \"timedelta64[ns]\":\n",
    "#         continue\n",
    "#         #ds[xvar].astype('timedelta64[D]').plot(ax=axes[int(count/3)][count%3])\n",
    "#     ds[xvar].plot(ax=axes[int(count/3)][count%3])"
   ]
  },
  {
   "cell_type": "code",
   "execution_count": null,
   "id": "a020852f-42eb-468a-b32f-34fff866e3e9",
   "metadata": {},
   "outputs": [],
   "source": [
    "# # Code examples:\n",
    "\n",
    "# # From AGU 2020 tutorial:\n",
    "\n",
    "# smap_zarr_urls = smap_links[5:]\n",
    "# smap_zarr_stores = [zarr_fs.get_mapper(root=u, check=False) for u in smap_zarr_urls]\n",
    "# ds_SMAP = xr.open_mfdataset(smap_zarr_stores, engine=\"zarr\")\n",
    "\n",
    "# print(ds_SMAP)"
   ]
  },
  {
   "cell_type": "markdown",
   "id": "12ee7069-07ed-4bfa-afdc-3422849b442e",
   "metadata": {
    "jupyter": {
     "source_hidden": true
    },
    "tags": []
   },
   "source": [
    "### STAC workflow"
   ]
  },
  {
   "cell_type": "code",
   "execution_count": null,
   "id": "8a287daa-3861-42d7-8151-c2edfa063698",
   "metadata": {
    "jupyter": {
     "source_hidden": true
    },
    "tags": []
   },
   "outputs": [],
   "source": [
    "# stac_catalog_url = harmony_client.stac_catalog_url(job_id)\n",
    "# stac_catalog_url"
   ]
  },
  {
   "cell_type": "markdown",
   "id": "effd5ed1-3e4b-45ae-9eaa-d09571e98159",
   "metadata": {
    "jupyter": {
     "source_hidden": true
    },
    "tags": []
   },
   "source": [
    "### Following Aaron's steps from cmr-stac tutorial:"
   ]
  },
  {
   "cell_type": "code",
   "execution_count": null,
   "id": "ad36fd94-b8bc-48c1-8e65-bcf65e6912f9",
   "metadata": {
    "jupyter": {
     "source_hidden": true
    },
    "tags": []
   },
   "outputs": [],
   "source": [
    "# from pystac_client import Client  "
   ]
  },
  {
   "cell_type": "code",
   "execution_count": null,
   "id": "7cf661f5-9a74-49f0-b313-c2302e80d3db",
   "metadata": {
    "jupyter": {
     "source_hidden": true
    },
    "tags": []
   },
   "outputs": [],
   "source": [
    "# catalog = Client.open(stac_catalog_url)"
   ]
  },
  {
   "cell_type": "code",
   "execution_count": null,
   "id": "17cd5b73-78e9-468f-8cf6-e34081e0e45b",
   "metadata": {
    "jupyter": {
     "source_hidden": true
    },
    "tags": []
   },
   "outputs": [],
   "source": [
    "# links = catalog.get_links()"
   ]
  },
  {
   "cell_type": "code",
   "execution_count": null,
   "id": "89e7b190-5ded-4449-922d-e05b7755c849",
   "metadata": {
    "jupyter": {
     "source_hidden": true
    },
    "tags": []
   },
   "outputs": [],
   "source": [
    "# # links[0].to_dict()\n",
    "# for link in range(len(links)): print(links[link].to_dict())"
   ]
  },
  {
   "cell_type": "code",
   "execution_count": null,
   "id": "7cbf1cd9-5d3a-41e2-ae00-3c9e2d77c1a4",
   "metadata": {
    "jupyter": {
     "source_hidden": true
    },
    "tags": []
   },
   "outputs": [],
   "source": [
    "# item_collection = catalog.get_all_items()"
   ]
  },
  {
   "cell_type": "code",
   "execution_count": null,
   "id": "523eddd8-abcc-4e7a-a451-24cae2b94a7e",
   "metadata": {
    "jupyter": {
     "source_hidden": true
    },
    "tags": []
   },
   "outputs": [],
   "source": [
    "# list(item_collection)"
   ]
  },
  {
   "cell_type": "code",
   "execution_count": null,
   "id": "ef92bc81-7639-4faf-83f4-962f1b5fbdf3",
   "metadata": {
    "jupyter": {
     "source_hidden": true
    },
    "tags": []
   },
   "outputs": [],
   "source": [
    "# links = []\n",
    "\n",
    "# for i in item_collection:\n",
    "#         for a in i.assets:\n",
    "#             links.append(i.assets[a].href)"
   ]
  },
  {
   "cell_type": "code",
   "execution_count": null,
   "id": "81c32a53-ce16-40ac-9e47-7c4b26746bf2",
   "metadata": {
    "jupyter": {
     "source_hidden": true
    },
    "tags": []
   },
   "outputs": [],
   "source": [
    "# # Trying using Harmony example code\n",
    "\n",
    "\n",
    "# print(catalog.title)\n",
    "# s3_links = []\n",
    "# for item in catalog.get_all_items():\n",
    "#     print(item.datetime, [asset.href for asset in item.assets.values()])\n",
    "#     s3_links.append([asset.href for asset in item.assets.values()])"
   ]
  },
  {
   "cell_type": "code",
   "execution_count": null,
   "id": "fe8c774b-0581-4509-8b17-0e65280f0375",
   "metadata": {
    "jupyter": {
     "source_hidden": true
    },
    "tags": []
   },
   "outputs": [],
   "source": [
    "## direct s3 using boto\n",
    "\n",
    "# import boto3\n",
    "\n",
    "# s3 = boto3.client('s3', **creds)\n",
    "# for url in results:\n",
    "#     bucket, obj, fn = s3_components(url)\n",
    "#     with open(fn, 'wb') as f:\n",
    "#         s3.download_fileobj(bucket, obj, f)"
   ]
  },
  {
   "cell_type": "code",
   "execution_count": null,
   "id": "1e2dba76-7585-46f5-804e-0519b46aeed1",
   "metadata": {
    "jupyter": {
     "source_hidden": true
    },
    "tags": []
   },
   "outputs": [],
   "source": [
    "# ds = xr.open_dataset('ogc_temp.nc')\n",
    "# ds\n",
    "\n",
    "# # Determine the lat/lon coordinate names\n",
    "# for coord_name, coord in ds.coords.items():\n",
    "#     if 'units' not in coord.attrs:\n",
    "#         continue\n",
    "#     if coord.attrs['units'] == 'degrees_north':\n",
    "#         lat_var = coord_name\n",
    "#     if coord.attrs['units'] == 'degrees_east':\n",
    "#         lon_var = coord_name\n",
    "\n",
    "# print(f'lat_var={lat_var}')\n",
    "# print(f'lon_var={lon_var}')"
   ]
  }
 ],
 "metadata": {
  "kernelspec": {
   "display_name": "nsidc",
   "language": "python",
   "name": "nsidc"
  },
  "language_info": {
   "codemirror_mode": {
    "name": "ipython",
    "version": 3
   },
   "file_extension": ".py",
   "mimetype": "text/x-python",
   "name": "python",
   "nbconvert_exporter": "python",
   "pygments_lexer": "ipython3",
   "version": "3.9.7"
  }
 },
 "nbformat": 4,
 "nbformat_minor": 5
}
