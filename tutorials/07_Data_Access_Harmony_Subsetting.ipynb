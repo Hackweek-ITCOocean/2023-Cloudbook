{
 "cells": [
  {
   "cell_type": "markdown",
   "id": "30d1a698-a68c-4da3-9131-9e37cb3eb719",
   "metadata": {},
   "source": [
    "# Data Subsetting and Transformation Services in the Cloud\n",
    "\n",
    "## Using the Harmony-Py library to access customized data from NASA Earthdata "
   ]
  },
  {
   "cell_type": "markdown",
   "id": "6d16a72a-d49f-47ae-a7c7-ec3676d13f16",
   "metadata": {},
   "source": [
    "---"
   ]
  },
  {
   "cell_type": "markdown",
   "id": "0af92b67-ceee-4164-b8dd-b01219f4cd98",
   "metadata": {},
   "source": [
    "## Timing:\n",
    "- Exercise: 45 minutes"
   ]
  },
  {
   "cell_type": "markdown",
   "id": "b89c2939-437e-4f43-9323-33fe034a7a32",
   "metadata": {},
   "source": [
    "---"
   ]
  },
  {
   "cell_type": "markdown",
   "id": "4f8dc4ee-a8c5-439d-a1d5-48234c05add7",
   "metadata": {
    "tags": []
   },
   "source": [
    "## Summary\n",
    "\n",
    "Harmony allows you to seamlessly analyze Earth observation data from different NASA data centers... \n",
    "https://harmony.earthdata.nasa.gov/\n",
    "\n",
    "\n",
    "#### Benefits\n",
    "\n",
    "- Consistent access patterns to EOSDIS holdings make cross-data center data access easier\n",
    "- Data reduction services allow users to request only the data they want, in the format and projection they want\n",
    "- Analysis Ready Data and cloud access will help reduce time-to-science\n",
    "- Community Development helps reduce the barriers for re-use of code and sharing of domain knowledge\n",
    "\n",
    "Harmony-Py is a Python library for integrating with NASA's Harmony Services.\n",
    "\n",
    "Harmony-Py provides a Python alternative to directly using Harmony's RESTful API. It handles NASA Earthdata Login (EDL) authentication and optionally integrates with the CMR Python Wrapper by accepting collection results as a request parameter. It's convenient for scientists who wish to use Harmony from Jupyter notebooks as well as machine-to-machine communication with larger Python applications.\n",
    "\n",
    "### Objectives\n",
    "\n",
    "1. Practice skills learned from intro to CMR tutorial to discover what access and service options exist for a given data set\n",
    "2. \n",
    "___"
   ]
  },
  {
   "cell_type": "markdown",
   "id": "d47f95dd-5dab-43e3-9533-9a4437119d87",
   "metadata": {
    "tags": []
   },
   "source": [
    "## Import Packages"
   ]
  },
  {
   "cell_type": "code",
   "execution_count": 1,
   "id": "3d6cf2c7-ea5b-41eb-999c-483240d5e529",
   "metadata": {},
   "outputs": [],
   "source": [
    "from harmony import BBox, Client, Collection, Request, LinkType\n",
    "from harmony.config import Environment\n",
    "import requests\n",
    "from pprint import pprint\n",
    "import datetime as dt\n",
    "import s3fs\n",
    "import xarray as xr"
   ]
  },
  {
   "cell_type": "markdown",
   "id": "80a85c23-ec37-4430-8e8d-2e87b2900589",
   "metadata": {
    "tags": []
   },
   "source": [
    "## Discover service options for a given data set\n",
    "\n",
    "- First, what do we mean by a \"service\"?\n",
    "[TODO] Describe how we define services and their benefits, and how not all datasets have services on them due to level of support, etc....\n",
    "\n",
    "\n",
    "- Let's see what the collection metadata tells us \n",
    "\n",
    "Building off of CMR introduction tutorial:"
   ]
  },
  {
   "cell_type": "code",
   "execution_count": 2,
   "id": "d75da0d2-96eb-4f9b-8661-c0e9ffec99c5",
   "metadata": {},
   "outputs": [],
   "source": [
    "cmr_search_url = 'https://cmr.earthdata.nasa.gov/search'"
   ]
  },
  {
   "cell_type": "markdown",
   "id": "8a90562d-bc45-4083-944b-99af1ba778cb",
   "metadata": {},
   "source": [
    "We want to search by collection to inspect the access and service options that exist:"
   ]
  },
  {
   "cell_type": "code",
   "execution_count": 3,
   "id": "b11040e5-9619-4017-beff-5f69105107c3",
   "metadata": {},
   "outputs": [],
   "source": [
    "cmr_collection_url = f'{cmr_search_url}/{\"collections\"}'"
   ]
  },
  {
   "cell_type": "markdown",
   "id": "672bad45-282f-4457-970f-4d4c28f5d72a",
   "metadata": {},
   "source": [
    "In the CMR introduction tutorial, we explored cloud-hosted collections from different DAAC providers, and identified the CMR `concept-id` for a given data set id (also referred to as a `short_name`). \n",
    "\n",
    "Here we are jumping ahead and already know the `concept_id` we are interested in, by browsing cloud-hosted datasets from PO.DAAC in Earthdata Search: https://search.earthdata.nasa.gov/portal/podaac-cloud/search. \n",
    "\n",
    "We are going to focus on `MODIS_A-JPL-L2P-v2019.0`: GHRSST Level 2P Global Sea Surface Skin Temperature from the Moderate Resolution Imaging Spectroradiometer (MODIS) on the NASA Aqua satellite (GDS2). Let's first save this as a variable that we can use later on once we request data from Harmony."
   ]
  },
  {
   "cell_type": "code",
   "execution_count": 4,
   "id": "cde1f5a8-58b2-4b4f-b959-3e78a375cbe3",
   "metadata": {},
   "outputs": [],
   "source": [
    "short_name= 'MODIS_A-JPL-L2P-v2019.0'\n",
    "concept_id = 'C1940473819-POCLOUD'"
   ]
  },
  {
   "cell_type": "markdown",
   "id": "aecc99bc-177a-4af2-bd0b-ce0bf4a82b09",
   "metadata": {},
   "source": [
    "We will view the top-level metadata for this collection to see what additional service and variable metadata exist."
   ]
  },
  {
   "cell_type": "code",
   "execution_count": 5,
   "id": "65ab652b-9bd1-4fb9-98c6-1996888c9b48",
   "metadata": {},
   "outputs": [],
   "source": [
    "response = requests.get(cmr_collection_url, \n",
    "                        params={\n",
    "                            'concept_id': concept_id,\n",
    "                            },\n",
    "                        headers={\n",
    "                            'Accept': 'application/json'\n",
    "                            }\n",
    "                       )\n",
    "response = response.json()"
   ]
  },
  {
   "cell_type": "markdown",
   "id": "f32eb2d1-44be-4f93-a0b1-ab0e4e12c8d6",
   "metadata": {},
   "source": [
    "Print the response:"
   ]
  },
  {
   "cell_type": "code",
   "execution_count": 6,
   "id": "82698422-d47d-4f10-99f2-e66a3ab306b6",
   "metadata": {
    "tags": []
   },
   "outputs": [
    {
     "name": "stdout",
     "output_type": "stream",
     "text": [
      "{'feed': {'entry': [{'archive_center': 'NASA/JPL/PODAAC',\n",
      "                     'associations': {'services': ['S1962070864-POCLOUD',\n",
      "                                                   'S2004184019-POCLOUD'],\n",
      "                                      'tools': ['TL2108419875-POCLOUD',\n",
      "                                                'TL2092786348-POCLOUD'],\n",
      "                                      'variables': ['V1997812737-POCLOUD',\n",
      "                                                    'V1997812697-POCLOUD',\n",
      "                                                    'V2112014688-POCLOUD',\n",
      "                                                    'V1997812756-POCLOUD',\n",
      "                                                    'V1997812688-POCLOUD',\n",
      "                                                    'V1997812670-POCLOUD',\n",
      "                                                    'V1997812724-POCLOUD',\n",
      "                                                    'V2112014684-POCLOUD',\n",
      "                                                    'V1997812701-POCLOUD',\n",
      "                                                    'V1997812681-POCLOUD',\n",
      "                                                    'V2112014686-POCLOUD',\n",
      "                                                    'V1997812663-POCLOUD',\n",
      "                                                    'V1997812676-POCLOUD',\n",
      "                                                    'V1997812744-POCLOUD',\n",
      "                                                    'V1997812714-POCLOUD']},\n",
      "                     'boxes': ['-90 -180 90 180'],\n",
      "                     'browse_flag': True,\n",
      "                     'collection_data_type': 'SCIENCE_QUALITY',\n",
      "                     'coordinate_system': 'CARTESIAN',\n",
      "                     'data_center': 'POCLOUD',\n",
      "                     'dataset_id': 'GHRSST Level 2P Global Sea Surface Skin '\n",
      "                                   'Temperature from the Moderate Resolution '\n",
      "                                   'Imaging Spectroradiometer (MODIS) on the '\n",
      "                                   'NASA Aqua satellite (GDS2)',\n",
      "                     'has_formats': True,\n",
      "                     'has_spatial_subsetting': True,\n",
      "                     'has_temporal_subsetting': True,\n",
      "                     'has_transforms': False,\n",
      "                     'has_variables': True,\n",
      "                     'id': 'C1940473819-POCLOUD',\n",
      "                     'links': [{'href': 'https://podaac.jpl.nasa.gov/Podaac/thumbnails/MODIS_A-JPL-L2P-v2019.0.jpg',\n",
      "                                'hreflang': 'en-US',\n",
      "                                'rel': 'http://esipfed.org/ns/fedsearch/1.1/browse#'},\n",
      "                               {'href': 'https://github.com/podaac/data-readers',\n",
      "                                'hreflang': 'en-US',\n",
      "                                'rel': 'http://esipfed.org/ns/fedsearch/1.1/documentation#'},\n",
      "                               {'href': 'https://podaac-tools.jpl.nasa.gov/drive/files/OceanTemperature/ghrsst/docs/GDS20r5.pdf',\n",
      "                                'hreflang': 'en-US',\n",
      "                                'rel': 'http://esipfed.org/ns/fedsearch/1.1/documentation#'},\n",
      "                               {'href': 'https://ghrsst.jpl.nasa.gov',\n",
      "                                'hreflang': 'en-US',\n",
      "                                'rel': 'http://esipfed.org/ns/fedsearch/1.1/documentation#'},\n",
      "                               {'href': 'https://oceancolor.gsfc.nasa.gov/atbd/sst/flag/',\n",
      "                                'hreflang': 'en-US',\n",
      "                                'rel': 'http://esipfed.org/ns/fedsearch/1.1/documentation#'},\n",
      "                               {'href': 'https://oceancolor.gsfc.nasa.gov/reprocessing/r2019/sst/',\n",
      "                                'hreflang': 'en-US',\n",
      "                                'rel': 'http://esipfed.org/ns/fedsearch/1.1/documentation#'},\n",
      "                               {'href': 'https://oceancolor.gsfc.nasa.gov/atbd/sst4/',\n",
      "                                'hreflang': 'en-US',\n",
      "                                'rel': 'http://esipfed.org/ns/fedsearch/1.1/documentation#'},\n",
      "                               {'href': 'https://modis.gsfc.nasa.gov/data/atbd/atbd_mod25.pdf',\n",
      "                                'hreflang': 'en-US',\n",
      "                                'rel': 'http://esipfed.org/ns/fedsearch/1.1/documentation#'},\n",
      "                               {'href': 'https://oceancolor.gsfc.nasa.gov/atbd/sst/',\n",
      "                                'hreflang': 'en-US',\n",
      "                                'rel': 'http://esipfed.org/ns/fedsearch/1.1/documentation#'},\n",
      "                               {'href': 'http://www.ghrsst.org',\n",
      "                                'hreflang': 'en-US',\n",
      "                                'rel': 'http://esipfed.org/ns/fedsearch/1.1/documentation#'},\n",
      "                               {'href': 'https://podaac.jpl.nasa.gov/forum/viewforum.php?f=18&sid=e2d67e5a01815fc6e39fcd2087ed8bc8',\n",
      "                                'hreflang': 'en-US',\n",
      "                                'rel': 'http://esipfed.org/ns/fedsearch/1.1/documentation#'},\n",
      "                               {'href': 'https://podaac.jpl.nasa.gov/CitingPODAAC',\n",
      "                                'hreflang': 'en-US',\n",
      "                                'rel': 'http://esipfed.org/ns/fedsearch/1.1/documentation#'},\n",
      "                               {'href': 'https://cmr.earthdata.nasa.gov/virtual-directory/collections/C1940473819-POCLOUD',\n",
      "                                'hreflang': 'en-US',\n",
      "                                'length': '75.0MB',\n",
      "                                'rel': 'http://esipfed.org/ns/fedsearch/1.1/data#'},\n",
      "                               {'href': 'https://github.com/podaac/tutorials/blob/master/notebooks/MODIS_L2P_SST_DataCube.ipynb',\n",
      "                                'hreflang': 'en-US',\n",
      "                                'rel': 'http://esipfed.org/ns/fedsearch/1.1/documentation#'},\n",
      "                               {'href': 'https://search.earthdata.nasa.gov/search/granules?p=C1940473819-POCLOUD',\n",
      "                                'hreflang': 'en-US',\n",
      "                                'rel': 'http://esipfed.org/ns/fedsearch/1.1/data#'}],\n",
      "                     'online_access_flag': True,\n",
      "                     'orbit_parameters': {'inclination_angle': '98.1',\n",
      "                                          'number_of_orbits': '1.0',\n",
      "                                          'period': '98.4',\n",
      "                                          'swath_width': '2330.0'},\n",
      "                     'organizations': ['NASA/JPL/PODAAC'],\n",
      "                     'original_format': 'UMM_JSON',\n",
      "                     'platforms': ['Aqua'],\n",
      "                     'processing_level_id': '2',\n",
      "                     'service_features': {'esi': {'has_formats': False,\n",
      "                                                  'has_spatial_subsetting': False,\n",
      "                                                  'has_temporal_subsetting': False,\n",
      "                                                  'has_transforms': False,\n",
      "                                                  'has_variables': False},\n",
      "                                          'harmony': {'has_formats': True,\n",
      "                                                      'has_spatial_subsetting': True,\n",
      "                                                      'has_temporal_subsetting': True,\n",
      "                                                      'has_transforms': False,\n",
      "                                                      'has_variables': True},\n",
      "                                          'opendap': {'has_formats': True,\n",
      "                                                      'has_spatial_subsetting': True,\n",
      "                                                      'has_temporal_subsetting': True,\n",
      "                                                      'has_transforms': False,\n",
      "                                                      'has_variables': True}},\n",
      "                     'short_name': 'MODIS_A-JPL-L2P-v2019.0',\n",
      "                     'summary': 'NASA produces skin sea surface temperature '\n",
      "                                '(SST) products from the Infrared (IR) '\n",
      "                                'channels of the Moderate-resolution Imaging '\n",
      "                                'Spectroradiometer (MODIS) onboard the Aqua '\n",
      "                                'satellite. Aqua was launched by NASA on May '\n",
      "                                '4, 2002, into a sun synchronous, polar orbit '\n",
      "                                'with a daylight ascending node at 1:30 pm, '\n",
      "                                'formation flying in the A-train with other '\n",
      "                                'Earth Observation Satellites (EOS), to study '\n",
      "                                'the global dynamics of the Earth atmosphere, '\n",
      "                                'land and oceans. MODIS captures data in 36 '\n",
      "                                'spectral bands at a variety of spatial '\n",
      "                                'resolutions.  Two SST products can be present '\n",
      "                                'in these files. The first is a skin SST '\n",
      "                                'produced for both day and night (NSST) '\n",
      "                                'observations, derived from the long wave IR '\n",
      "                                '11 and 12 micron wavelength channels, using a '\n",
      "                                'modified nonlinear SST algorithm intended to '\n",
      "                                'provide continuity of SST derived from '\n",
      "                                'heritage and current NASA sensors. At night, '\n",
      "                                'a second SST product is generated using the '\n",
      "                                'mid-infrared 3.95 and 4.05 micron  wavelength '\n",
      "                                'channels which are unique to MODIS; the SST '\n",
      "                                'derived from these measurements is identified '\n",
      "                                'as SST4. The SST4 product has lower '\n",
      "                                'uncertainty, but due to sun glint can only be '\n",
      "                                'used at night. MODIS L2P SST data have a 1 km '\n",
      "                                'spatial resolution at nadir and are stored in '\n",
      "                                '288 five minute granules per day. Full global '\n",
      "                                'coverage is obtained every two days, with '\n",
      "                                'coverage poleward of 32.3 degree being '\n",
      "                                'complete each day.  The production of MODIS '\n",
      "                                'L2P SST files is part of the Group for High '\n",
      "                                'Resolution Sea Surface Temperature (GHRSST) '\n",
      "                                'project and is a joint collaboration between '\n",
      "                                'the NASA Jet Propulsion Laboratory (JPL), the '\n",
      "                                'NASA Ocean Biology Processing Group (OBPG), '\n",
      "                                'and the Rosenstiel School of Marine and '\n",
      "                                'Atmospheric Science (RSMAS). Researchers at '\n",
      "                                'RSMAS are responsible for SST algorithm '\n",
      "                                'development, error statistics and quality '\n",
      "                                'flagging, while the OBPG, as the NASA ground '\n",
      "                                'data system, is responsible for the '\n",
      "                                'production of daily MODIS ocean products. JPL '\n",
      "                                'acquires MODIS ocean granules from the OBPG '\n",
      "                                'and reformats them to the GHRSST L2P netCDF '\n",
      "                                'specification with complete metadata and '\n",
      "                                'ancillary variables, and distributes the data '\n",
      "                                'as the official Physical Oceanography Data '\n",
      "                                'Archive (PO.DAAC) for SST.  The R2019.0 '\n",
      "                                'supersedes the previous R2014.0 datasets '\n",
      "                                'which can be found at '\n",
      "                                'https://doi.org/10.5067/GHMDA-2PJ02',\n",
      "                     'time_start': '2002-07-04T00:00:00.000Z',\n",
      "                     'title': 'GHRSST Level 2P Global Sea Surface Skin '\n",
      "                              'Temperature from the Moderate Resolution '\n",
      "                              'Imaging Spectroradiometer (MODIS) on the NASA '\n",
      "                              'Aqua satellite (GDS2)',\n",
      "                     'updated': '2019-12-02T22:59:24.849Z',\n",
      "                     'version_id': '2019.0'}],\n",
      "          'id': 'https://cmr.earthdata.nasa.gov:443/search/collections.json?concept_id=C1940473819-POCLOUD',\n",
      "          'title': 'ECHO dataset metadata',\n",
      "          'updated': '2021-11-04T00:50:26.948Z'}}\n"
     ]
    }
   ],
   "source": [
    "pprint(response)"
   ]
  },
  {
   "cell_type": "markdown",
   "id": "0853cb7a-7a10-4e7f-a942-50ab63d1dbd5",
   "metadata": {},
   "source": [
    "Let's walk through what each of these service values mean:\n",
    "\n",
    "- Associations\n",
    "     - CMR is a large web of interconnected metadata \"schemas\", including Collections, Granules, Services, Tools, and Variables. In this case, this collection is associated with two unique services, two tools, and several unique variables.\n",
    "- Tags\n",
    "    - There are also tags that describe what service options exist at a high-level. In this case, we see that this dataset supports the ability to reformat, subset by space and time, as well as by variable. This is used in web applications like Earthdata Search to surface those customization options more readily. \n",
    "- Service Features\n",
    "    - In this case, we see three separate \"features\" listed here: esi, Harmony, and OPeNDAP.\n",
    "    \n",
    "We will dig into more details on what Harmony offers for this dataset.\n",
    "\n",
    "First, we need to isolate the services returned for this dataset:"
   ]
  },
  {
   "cell_type": "code",
   "execution_count": 7,
   "id": "b2fbb3ff-255a-4d71-83ca-c648a80f558b",
   "metadata": {},
   "outputs": [
    {
     "name": "stdout",
     "output_type": "stream",
     "text": [
      "['S1962070864-POCLOUD', 'S2004184019-POCLOUD']\n"
     ]
    }
   ],
   "source": [
    "services = response['feed']['entry'][0]['associations']['services']\n",
    "print(services)"
   ]
  },
  {
   "cell_type": "code",
   "execution_count": 8,
   "id": "8702a829-1a48-4287-aa25-a6ae5203c120",
   "metadata": {},
   "outputs": [],
   "source": [
    "cmr_service_url = \"https://cmr.earthdata.nasa.gov/search/services\""
   ]
  },
  {
   "cell_type": "markdown",
   "id": "397b8a5a-3287-44ea-8641-3d14cba10f57",
   "metadata": {},
   "source": [
    "Inspect the first service returned. Now we're going to search the services endpoint to view that individual service's metadata, like we did with our dataset above.\n",
    "\n",
    "TODO: Explain why we need the output format in umm_json"
   ]
  },
  {
   "cell_type": "code",
   "execution_count": 9,
   "id": "1753c808-2b1a-4cbd-94d8-28dd607a7f04",
   "metadata": {
    "tags": []
   },
   "outputs": [],
   "source": [
    "output_format = \"umm_json\""
   ]
  },
  {
   "cell_type": "code",
   "execution_count": 10,
   "id": "fc488a4b-45f5-40ce-9cc9-ce5175b262e8",
   "metadata": {},
   "outputs": [],
   "source": [
    "service_response = requests.get(f\"{cmr_service_url}.{output_format}?concept-id={services[0]}\")"
   ]
  },
  {
   "cell_type": "code",
   "execution_count": 11,
   "id": "4db57530-faa5-473a-8b06-e8ef957d33c2",
   "metadata": {},
   "outputs": [
    {
     "name": "stdout",
     "output_type": "stream",
     "text": [
      "{'hits': 1,\n",
      " 'items': [{'meta': {'concept-id': 'S1962070864-POCLOUD',\n",
      "                     'concept-type': 'service',\n",
      "                     'deleted': False,\n",
      "                     'format': 'application/vnd.nasa.cmr.umm+json',\n",
      "                     'native-id': 'POCLOUD_podaac_l2_cloud_subsetter',\n",
      "                     'provider-id': 'POCLOUD',\n",
      "                     'revision-date': '2021-11-02T22:57:03.597Z',\n",
      "                     'revision-id': 19,\n",
      "                     'user-id': 'podaaccloud'},\n",
      "            'umm': {'AccessConstraints': 'None',\n",
      "                    'Description': 'Endpoint for subsetting L2 Subsetter via '\n",
      "                                   'Harmony',\n",
      "                    'LongName': 'PODAAC Level 2 Cloud Subsetter',\n",
      "                    'MetadataSpecification': {'Name': 'UMM-S',\n",
      "                                              'URL': 'https://cdn.earthdata.nasa.gov/umm/service/v1.4',\n",
      "                                              'Version': '1.4'},\n",
      "                    'Name': 'PODAAC L2 Cloud Subsetter',\n",
      "                    'OperationMetadata': [{'OperationName': 'SPATIAL_SUBSETTING'},\n",
      "                                          {'OperationName': 'VARIABLE_SUBSETTING'},\n",
      "                                          {'OperationName': 'TEMPORAL_SUBSETTING'}],\n",
      "                    'ServiceKeywords': [{'ServiceCategory': 'EARTH SCIENCE '\n",
      "                                                            'SERVICES',\n",
      "                                         'ServiceTerm': 'SUBSETTING/SUPERSETTING',\n",
      "                                         'ServiceTopic': 'DATA MANAGEMENT/DATA '\n",
      "                                                         'HANDLING'}],\n",
      "                    'ServiceOptions': {'Subset': {'SpatialSubset': {'BoundingBox': {'AllowMultipleValues': False}},\n",
      "                                                  'TemporalSubset': {'AllowMultipleValues': False},\n",
      "                                                  'VariableSubset': {'AllowMultipleValues': True}},\n",
      "                                       'SupportedReformattings': [{'SupportedInputFormat': 'HDF5',\n",
      "                                                                   'SupportedOutputFormats': ['NETCDF-4']},\n",
      "                                                                  {'SupportedInputFormat': 'NETCDF-4',\n",
      "                                                                   'SupportedOutputFormats': ['NETCDF-4']}]},\n",
      "                    'ServiceOrganizations': [{'LongName': 'Physical '\n",
      "                                                          'Oceanography '\n",
      "                                                          'Distributed Active '\n",
      "                                                          'Archive Center, Jet '\n",
      "                                                          'Propulsion '\n",
      "                                                          'Laboratory, NASA',\n",
      "                                              'Roles': ['ORIGINATOR'],\n",
      "                                              'ShortName': 'NASA/JPL/PODAAC'}],\n",
      "                    'Type': 'Harmony',\n",
      "                    'URL': {'Description': 'PROJECT HOME PAGE',\n",
      "                            'URLValue': 'https://harmony.earthdata.nasa.gov'},\n",
      "                    'Version': '1.1.0'}}],\n",
      " 'took': 14}\n"
     ]
    }
   ],
   "source": [
    "pprint(service_response.json())"
   ]
  },
  {
   "cell_type": "markdown",
   "id": "e42a0eca-8a38-452e-bb1b-cf65d360609d",
   "metadata": {},
   "source": [
    "TODO: Describe these different service options and broader Harmony / backend subsetter context."
   ]
  },
  {
   "cell_type": "markdown",
   "id": "644bd05f-b5bf-4e16-ad5d-5d3aa675fdc0",
   "metadata": {},
   "source": [
    "## Discover variable names"
   ]
  },
  {
   "cell_type": "markdown",
   "id": "8c2c90e0-286a-4942-9efe-1e5075db9897",
   "metadata": {},
   "source": [
    "TODO: Could this be an \"exercise\" to gain more familiarity with CMR? "
   ]
  },
  {
   "cell_type": "code",
   "execution_count": 12,
   "id": "2052dc8d-92c7-401b-b934-1e86231c92c6",
   "metadata": {
    "tags": []
   },
   "outputs": [
    {
     "name": "stdout",
     "output_type": "stream",
     "text": [
      "['V1997812737-POCLOUD', 'V1997812697-POCLOUD', 'V2112014688-POCLOUD', 'V1997812756-POCLOUD', 'V1997812688-POCLOUD', 'V1997812670-POCLOUD', 'V1997812724-POCLOUD', 'V2112014684-POCLOUD', 'V1997812701-POCLOUD', 'V1997812681-POCLOUD', 'V2112014686-POCLOUD', 'V1997812663-POCLOUD', 'V1997812676-POCLOUD', 'V1997812744-POCLOUD', 'V1997812714-POCLOUD']\n"
     ]
    }
   ],
   "source": [
    "variables = response['feed']['entry'][0]['associations']['variables']\n",
    "print(variables)"
   ]
  },
  {
   "cell_type": "code",
   "execution_count": 13,
   "id": "b16209fa-dec0-49f4-9de0-f68305a5664e",
   "metadata": {},
   "outputs": [],
   "source": [
    "cmr_var_url = \"https://cmr.earthdata.nasa.gov/search/variables\""
   ]
  },
  {
   "cell_type": "code",
   "execution_count": 14,
   "id": "984fc9b9-eb12-4ade-9725-50dab377163d",
   "metadata": {},
   "outputs": [],
   "source": [
    "var_response = requests.get(f\"{cmr_var_url}.{output_format}?concept-id={variables[0]}\")"
   ]
  },
  {
   "cell_type": "code",
   "execution_count": 15,
   "id": "805e8fea-43c6-4615-a27f-5a8b1b1e8b5b",
   "metadata": {},
   "outputs": [
    {
     "name": "stdout",
     "output_type": "stream",
     "text": [
      "{'hits': 1,\n",
      " 'items': [{'associations': {'collections': [{'concept-id': 'C1940473819-POCLOUD'}]},\n",
      "            'meta': {'concept-id': 'V1997812737-POCLOUD',\n",
      "                     'concept-type': 'variable',\n",
      "                     'deleted': False,\n",
      "                     'format': 'application/vnd.nasa.cmr.umm+json',\n",
      "                     'native-id': 'MODIS_A-JPL-L2P-v2019.0-sses_standard_deviation_4um',\n",
      "                     'provider-id': 'POCLOUD',\n",
      "                     'revision-date': '2021-10-19T02:26:51.560Z',\n",
      "                     'revision-id': 6,\n",
      "                     'user-id': 'jmcnelis'},\n",
      "            'umm': {'DataType': 'byte',\n",
      "                    'Definition': 'mid-IR SST standard deviation error; non '\n",
      "                                  'L2P core field; signed byte array:  WARNING '\n",
      "                                  'Some applications are unable to properly '\n",
      "                                  'handle signed byte values. If values are '\n",
      "                                  'encountered > 127, please subtract 256 from '\n",
      "                                  'this reported value',\n",
      "                    'Dimensions': [{'Name': 'time',\n",
      "                                    'Size': 1,\n",
      "                                    'Type': 'TIME_DIMENSION'},\n",
      "                                   {'Name': 'nj',\n",
      "                                    'Size': 2030,\n",
      "                                    'Type': 'ALONG_TRACK_DIMENSION'},\n",
      "                                   {'Name': 'ni',\n",
      "                                    'Size': 1354,\n",
      "                                    'Type': 'CROSS_TRACK_DIMENSION'}],\n",
      "                    'FillValues': [{'Type': 'SCIENCE_FILLVALUE',\n",
      "                                    'Value': -128}],\n",
      "                    'LongName': 'SSES standard deviation error based on '\n",
      "                                'proximity confidence flags',\n",
      "                    'Name': 'sses_standard_deviation_4um',\n",
      "                    'Offset': 10.0,\n",
      "                    'Scale': 0.07874016,\n",
      "                    'Sets': [{'Index': 1,\n",
      "                              'Name': 'sses_standard_deviation_4um',\n",
      "                              'Size': 1,\n",
      "                              'Type': 'General'}],\n",
      "                    'Units': 'kelvin',\n",
      "                    'ValidRanges': [{'Max': 127, 'Min': -127}],\n",
      "                    'VariableType': 'ANCILLARY_VARIABLE'}}],\n",
      " 'took': 14}\n"
     ]
    }
   ],
   "source": [
    "pprint(var_response.json())"
   ]
  },
  {
   "cell_type": "markdown",
   "id": "27648efc-3ea8-4c1e-843c-c12a58f7b766",
   "metadata": {},
   "source": [
    "Let's print out a simple list of all associated variable names."
   ]
  },
  {
   "cell_type": "code",
   "execution_count": 16,
   "id": "8039c2ed-e70d-4c4d-b3c9-8ede15ca0f14",
   "metadata": {},
   "outputs": [],
   "source": [
    "var_list = []\n",
    "for i in range(len(variables)):\n",
    "    response = requests.get(f\"{cmr_var_url}.{output_format}?concept-id={variables[i]}\")\n",
    "    response = response.json()\n",
    "    var_list.append(response['items'][0]['umm']['Name'])"
   ]
  },
  {
   "cell_type": "code",
   "execution_count": 17,
   "id": "4a93372a-3acc-4dfb-af7c-3552c1e6984e",
   "metadata": {},
   "outputs": [
    {
     "name": "stdout",
     "output_type": "stream",
     "text": [
      "['sses_standard_deviation_4um',\n",
      " 'l2p_flags',\n",
      " 'time',\n",
      " 'dt_analysis',\n",
      " 'sses_standard_deviation',\n",
      " 'sst_dtime',\n",
      " 'sses_bias_4um',\n",
      " 'lat',\n",
      " 'sea_surface_temperature_4um',\n",
      " 'sses_bias',\n",
      " 'lon',\n",
      " 'sea_surface_temperature',\n",
      " 'quality_level',\n",
      " 'wind_speed',\n",
      " 'quality_level_4um']\n"
     ]
    }
   ],
   "source": [
    "pprint(var_list)"
   ]
  },
  {
   "cell_type": "markdown",
   "id": "2ec7d84e-1946-4014-b0bb-febb12373ab2",
   "metadata": {},
   "source": [
    "## Harmony-Py set up"
   ]
  },
  {
   "cell_type": "markdown",
   "id": "4697edd0-205f-48ef-b9b8-a31ba2530734",
   "metadata": {},
   "source": [
    "[TODO] Describe Harmony-Py in more detail (connection between the library and the API).\n",
    "\n",
    "Next steps adopted from the intro tutorial notebook in the Harmony-Py library: https://github.com/nasa/harmony-py/blob/main/examples/intro_tutorial.ipynb"
   ]
  },
  {
   "cell_type": "markdown",
   "id": "07c5f20b-25da-456c-9a13-c86bc67ed4db",
   "metadata": {},
   "source": [
    "### Create Harmony Client object\n",
    "First, we need to create a Harmony Client, which is what we will interact with to submit and inspect a data request to Harmony, as well as to retrieve results.\n",
    "\n",
    "When creating the Client, we need to provide Earthdata Login credentials, which are required to access data from NASA EOSDIS. This basic line below assumes that we have a `.netrc` available. "
   ]
  },
  {
   "cell_type": "code",
   "execution_count": 18,
   "id": "aee9843a-1875-4fb4-b241-47389333c010",
   "metadata": {},
   "outputs": [],
   "source": [
    "harmony_client = Client()"
   ]
  },
  {
   "cell_type": "markdown",
   "id": "382d3a8f-9a15-4aa7-98ad-a2f961986973",
   "metadata": {},
   "source": [
    "### Create Harmony Request\n",
    "The following are common request parameters:\n",
    "\n",
    "- `collection`: Required parameter. This is the NASA EOSDIS collection, or data product. There are two options for inputting a collection of interest:\n",
    "    - Provide a concept ID, which is an ID provided in the Common Metadata Repository (CMR) metadata\n",
    "    - Data product short name (e.g. SENTINEL-1_INTERFEROGRAMS).\n",
    "- `spatial`: Bounding box spatial constraints on the data. The Harmony Bbox class accepts spatial coordinates as decimal degrees in w, s, e, n order, where longitude = -180, 180 and latitude = -90, 90.\n",
    "- `temporal`: Date/time constraints on the data. The example below demonstrates temporal start and end ranges using the python datetime library.\n",
    "\n",
    "Other advanced parameters that may be of interest. Note that many reformatting or advanced projection options may not be available for your requested dataset. See the [documentation](https://harmony-py.readthedocs.io/en/latest/) for details on how to construct these parameters.\n",
    "\n",
    "[TODO] Describe area/time use case with this dataset - maybe demonstrating Earthdata Search for browsing??"
   ]
  },
  {
   "cell_type": "code",
   "execution_count": 19,
   "id": "3bab287d-ef49-44bb-9d14-fbcb72407341",
   "metadata": {},
   "outputs": [],
   "source": [
    "request = Request(\n",
    "    collection=Collection(id=short_name),\n",
    "    spatial=BBox(60,-45.75,90,-45), # bounding box example that can be used as an alternative to shapefile input\n",
    "    temporal={\n",
    "        'start': dt.datetime(2021, 11, 1),\n",
    "        'stop': dt.datetime(2021, 11, 2),\n",
    "    },\n",
    "    # variables=variables,\n",
    ")"
   ]
  },
  {
   "cell_type": "markdown",
   "id": "680f12b8-0ac2-4ff2-8f05-f519e9ea16aa",
   "metadata": {},
   "source": [
    "### Check Request validity\n",
    "Before submitting a Harmony Request, we can test your request to see if it's valid and how to fix it if not. In particular, `request.is_valid` will check to ensure that the spatial BBox bounds and temporal ranges are entered correctly."
   ]
  },
  {
   "cell_type": "code",
   "execution_count": 20,
   "id": "7cb74a84-9d0a-4a1a-bf49-c8d227134ce1",
   "metadata": {},
   "outputs": [
    {
     "data": {
      "text/plain": [
       "True"
      ]
     },
     "execution_count": 20,
     "metadata": {},
     "output_type": "execute_result"
    }
   ],
   "source": [
    "request.is_valid()"
   ]
  },
  {
   "cell_type": "markdown",
   "id": "8e9f4b81-6bfc-46e3-bb79-0ee5846456a2",
   "metadata": {},
   "source": [
    "### Submit request\n",
    "\n",
    "Now that the request is created, we can now submit it to Harmony using the Harmony Client object. A job id is returned, which is a unique identifier that represents the submitted request."
   ]
  },
  {
   "cell_type": "code",
   "execution_count": 21,
   "id": "48e5d0b2-d28c-4fe6-975d-3003b112ca6b",
   "metadata": {},
   "outputs": [
    {
     "data": {
      "text/plain": [
       "'9e0cb72b-9662-4b2e-9828-bc85a024b93d'"
      ]
     },
     "execution_count": 21,
     "metadata": {},
     "output_type": "execute_result"
    }
   ],
   "source": [
    "job_id = harmony_client.submit(request)\n",
    "job_id"
   ]
  },
  {
   "cell_type": "markdown",
   "id": "6c0eec72-e25c-485f-b247-f804c40a5d97",
   "metadata": {},
   "source": [
    "### Check request status\n",
    "\n",
    "We can check on the progress of a processing job with status(). This method blocks while communicating with the server but returns quickly."
   ]
  },
  {
   "cell_type": "code",
   "execution_count": 22,
   "id": "c8ca8da2-9f33-4fc9-bb63-c717d47e97dd",
   "metadata": {},
   "outputs": [
    {
     "data": {
      "text/plain": [
       "{'status': 'running',\n",
       " 'message': 'There were 2 collections that matched the provided short name MODIS_A-JPL-L2P-v2019.0. See https://cmr.earthdata.nasa.gov/concepts/C1940473819-POCLOUD for details on the selected collection. The version ID for the selected collection is 2019.0. To use a different collection submit a new request specifying the desired CMR concept ID instead of the collection short name.',\n",
       " 'progress': 0,\n",
       " 'created_at': datetime.datetime(2021, 11, 4, 0, 50, 34, 333000, tzinfo=tzlocal()),\n",
       " 'updated_at': datetime.datetime(2021, 11, 4, 0, 50, 34, 333000, tzinfo=tzlocal()),\n",
       " 'request': 'https://harmony.earthdata.nasa.gov/MODIS_A-JPL-L2P-v2019.0/ogc-api-coverages/1.0.0/collections/all/coverage/rangeset?forceAsync=true&subset=lat(-45.75%3A-45)&subset=lon(60%3A90)&subset=time(%222021-11-01T00%3A00%3A00%22%3A%222021-11-02T00%3A00%3A00%22)',\n",
       " 'num_input_granules': 7}"
      ]
     },
     "execution_count": 22,
     "metadata": {},
     "output_type": "execute_result"
    }
   ],
   "source": [
    "harmony_client.status(job_id)"
   ]
  },
  {
   "cell_type": "markdown",
   "id": "758a72c3-c204-4b5b-8ef8-68338290d5a1",
   "metadata": {},
   "source": [
    "Depending on the size of the request, it may be helpful to wait until the request has completed processing before the remainder of the code is executed. The wait_for_processing() method will block subsequent lines of code while optionally showing a progress bar."
   ]
  },
  {
   "cell_type": "code",
   "execution_count": 23,
   "id": "37bdad26-3c82-4ab4-8c31-abd9027c65e5",
   "metadata": {},
   "outputs": [
    {
     "name": "stderr",
     "output_type": "stream",
     "text": [
      " [ Processing: 100% ] |###################################################| [|]\n"
     ]
    }
   ],
   "source": [
    "harmony_client.wait_for_processing(job_id, show_progress=True)"
   ]
  },
  {
   "cell_type": "markdown",
   "id": "40e3e42c-ddb2-4463-ae67-092802247b98",
   "metadata": {},
   "source": [
    "### View Harmony job response and output URLs\n",
    "Once the data request has finished processing, we can view details on the job that was submitted to Harmony, including the API call to Harmony, and informational messages on the request if available.\n",
    "\n",
    "result_json() calls wait_for_processing() and returns the complete job in JSON format once processing is complete. "
   ]
  },
  {
   "cell_type": "code",
   "execution_count": 24,
   "id": "cf7f40e0-815a-452b-a250-439566d8495f",
   "metadata": {},
   "outputs": [
    {
     "name": "stdout",
     "output_type": "stream",
     "text": [
      "{'createdAt': '2021-11-04T00:50:34.333Z',\n",
      " 'jobID': '9e0cb72b-9662-4b2e-9828-bc85a024b93d',\n",
      " 'links': [{'href': 'https://harmony.earthdata.nasa.gov/stac/9e0cb72b-9662-4b2e-9828-bc85a024b93d/',\n",
      "            'rel': 'stac-catalog-json',\n",
      "            'title': 'STAC catalog',\n",
      "            'type': 'application/json'},\n",
      "           {'bbox': [66.801, -66.443, 113.49, -44.231],\n",
      "            'href': 'https://harmony.earthdata.nasa.gov/service-results/harmony-prod-staging/public/podaac/l2-subsetter/28b897a7-7349-4e1b-8141-2a06290c196f/20211101083501-JPL-L2P_GHRSST-SSTskin-MODIS_A-D-v02.0-fv01.0.nc4',\n",
      "            'rel': 'data',\n",
      "            'temporal': {'end': '2021-11-01T08:39:58.000Z',\n",
      "                         'start': '2021-11-01T08:35:01.000Z'},\n",
      "            'title': '20211101083501-JPL-L2P_GHRSST-SSTskin-MODIS_A-D-v02.0-fv01.0.nc4',\n",
      "            'type': 'application/x-netcdf4'},\n",
      "           {'bbox': [66.7, -45.7, 90, -45],\n",
      "            'href': 'https://harmony.earthdata.nasa.gov/service-results/harmony-prod-staging/public/podaac/l2-subsetter/28b897a7-7349-4e1b-8141-2a06290c196f/20211101084001-JPL-L2P_GHRSST-SSTskin-MODIS_A-D-v02.0-fv01.0_subsetted.nc4',\n",
      "            'rel': 'data',\n",
      "            'temporal': {'end': '2021-11-01T08:44:58.000Z',\n",
      "                         'start': '2021-11-01T08:40:01.000Z'},\n",
      "            'title': '20211101084001-JPL-L2P_GHRSST-SSTskin-MODIS_A-D-v02.0-fv01.0_subsetted.nc4',\n",
      "            'type': 'application/x-netcdf4'},\n",
      "           {'bbox': [60, -45.7, 73.9, -45],\n",
      "            'href': 'https://harmony.earthdata.nasa.gov/service-results/harmony-prod-staging/public/podaac/l2-subsetter/28b897a7-7349-4e1b-8141-2a06290c196f/20211101101501-JPL-L2P_GHRSST-SSTskin-MODIS_A-D-v02.0-fv01.0_subsetted.nc4',\n",
      "            'rel': 'data',\n",
      "            'temporal': {'end': '2021-11-01T10:19:58.000Z',\n",
      "                         'start': '2021-11-01T10:15:01.000Z'},\n",
      "            'title': '20211101101501-JPL-L2P_GHRSST-SSTskin-MODIS_A-D-v02.0-fv01.0_subsetted.nc4',\n",
      "            'type': 'application/x-netcdf4'},\n",
      "           {'bbox': [88.05, -48.131, 120.198, -26.81],\n",
      "            'href': 'https://harmony.earthdata.nasa.gov/service-results/harmony-prod-staging/public/podaac/l2-subsetter/28b897a7-7349-4e1b-8141-2a06290c196f/20211101180501-JPL-L2P_GHRSST-SSTskin-MODIS_A-N-v02.0-fv01.0.nc4',\n",
      "            'rel': 'data',\n",
      "            'temporal': {'end': '2021-11-01T18:09:58.000Z',\n",
      "                         'start': '2021-11-01T18:05:01.000Z'},\n",
      "            'title': '20211101180501-JPL-L2P_GHRSST-SSTskin-MODIS_A-N-v02.0-fv01.0.nc4',\n",
      "            'type': 'application/x-netcdf4'},\n",
      "           {'bbox': [86.7, -45.7, 90, -45],\n",
      "            'href': 'https://harmony.earthdata.nasa.gov/service-results/harmony-prod-staging/public/podaac/l2-subsetter/28b897a7-7349-4e1b-8141-2a06290c196f/20211101181001-JPL-L2P_GHRSST-SSTskin-MODIS_A-N-v02.0-fv01.0_subsetted.nc4',\n",
      "            'rel': 'data',\n",
      "            'temporal': {'end': '2021-11-01T18:14:58.000Z',\n",
      "                         'start': '2021-11-01T18:10:01.000Z'},\n",
      "            'title': '20211101181001-JPL-L2P_GHRSST-SSTskin-MODIS_A-N-v02.0-fv01.0_subsetted.nc4',\n",
      "            'type': 'application/x-netcdf4'},\n",
      "           {'bbox': [61.9, -45.7, 90, -45],\n",
      "            'href': 'https://harmony.earthdata.nasa.gov/service-results/harmony-prod-staging/public/podaac/l2-subsetter/28b897a7-7349-4e1b-8141-2a06290c196f/20211101194501-JPL-L2P_GHRSST-SSTskin-MODIS_A-N-v02.0-fv01.0_subsetted.nc4',\n",
      "            'rel': 'data',\n",
      "            'temporal': {'end': '2021-11-01T19:49:58.000Z',\n",
      "                         'start': '2021-11-01T19:45:01.000Z'},\n",
      "            'title': '20211101194501-JPL-L2P_GHRSST-SSTskin-MODIS_A-N-v02.0-fv01.0_subsetted.nc4',\n",
      "            'type': 'application/x-netcdf4'},\n",
      "           {'bbox': [60, -45.7, 69.2, -45],\n",
      "            'href': 'https://harmony.earthdata.nasa.gov/service-results/harmony-prod-staging/public/podaac/l2-subsetter/28b897a7-7349-4e1b-8141-2a06290c196f/20211101212501-JPL-L2P_GHRSST-SSTskin-MODIS_A-N-v02.0-fv01.0_subsetted.nc4',\n",
      "            'rel': 'data',\n",
      "            'temporal': {'end': '2021-11-01T21:29:58.000Z',\n",
      "                         'start': '2021-11-01T21:25:01.000Z'},\n",
      "            'title': '20211101212501-JPL-L2P_GHRSST-SSTskin-MODIS_A-N-v02.0-fv01.0_subsetted.nc4',\n",
      "            'type': 'application/x-netcdf4'},\n",
      "           {'href': 'https://harmony.earthdata.nasa.gov/jobs/9e0cb72b-9662-4b2e-9828-bc85a024b93d?linktype=https&page=1&limit=2000',\n",
      "            'rel': 'self',\n",
      "            'title': 'The current page',\n",
      "            'type': 'application/json'}],\n",
      " 'message': 'There were 2 collections that matched the provided short name '\n",
      "            'MODIS_A-JPL-L2P-v2019.0. See '\n",
      "            'https://cmr.earthdata.nasa.gov/concepts/C1940473819-POCLOUD for '\n",
      "            'details on the selected collection. The version ID for the '\n",
      "            'selected collection is 2019.0. To use a different collection '\n",
      "            'submit a new request specifying the desired CMR concept ID '\n",
      "            'instead of the collection short name.',\n",
      " 'numInputGranules': 7,\n",
      " 'progress': 100,\n",
      " 'request': 'https://harmony.earthdata.nasa.gov/MODIS_A-JPL-L2P-v2019.0/ogc-api-coverages/1.0.0/collections/all/coverage/rangeset?forceAsync=true&subset=lat(-45.75%3A-45)&subset=lon(60%3A90)&subset=time(%222021-11-01T00%3A00%3A00%22%3A%222021-11-02T00%3A00%3A00%22)',\n",
      " 'status': 'successful',\n",
      " 'updatedAt': '2021-11-04T00:51:11.841Z',\n",
      " 'username': 'amy.steiker'}\n"
     ]
    }
   ],
   "source": [
    "data = harmony_client.result_json(job_id)\n",
    "pprint(data)"
   ]
  },
  {
   "cell_type": "markdown",
   "id": "a7989627-d1f9-4f78-83df-c56a7d8b1c93",
   "metadata": {
    "tags": []
   },
   "source": [
    "### Direct cloud access\n",
    "\n",
    "Note that the remainder of this tutorial will only succeed when running this notebook within the AWS us-west-2 region.\n",
    "\n",
    "Harmony data outputs can be accessed within the cloud using the s3 URLs and AWS credentials provided in the Harmony job response.\n",
    "\n",
    "#### Retrieve list of output URLs.\n",
    "\n",
    "The result_urls() method calls wait_for_processing() and returns a list of the processed data URLs once processing is complete. You may optionally show the progress bar as shown below."
   ]
  },
  {
   "cell_type": "code",
   "execution_count": 25,
   "id": "b66d9800-173b-48d3-bb8a-63ff6b22d1e7",
   "metadata": {},
   "outputs": [
    {
     "name": "stdout",
     "output_type": "stream",
     "text": [
      "['s3://harmony-prod-staging/public/podaac/l2-subsetter/28b897a7-7349-4e1b-8141-2a06290c196f/20211101083501-JPL-L2P_GHRSST-SSTskin-MODIS_A-D-v02.0-fv01.0.nc4',\n",
      " 's3://harmony-prod-staging/public/podaac/l2-subsetter/28b897a7-7349-4e1b-8141-2a06290c196f/20211101084001-JPL-L2P_GHRSST-SSTskin-MODIS_A-D-v02.0-fv01.0_subsetted.nc4',\n",
      " 's3://harmony-prod-staging/public/podaac/l2-subsetter/28b897a7-7349-4e1b-8141-2a06290c196f/20211101101501-JPL-L2P_GHRSST-SSTskin-MODIS_A-D-v02.0-fv01.0_subsetted.nc4',\n",
      " 's3://harmony-prod-staging/public/podaac/l2-subsetter/28b897a7-7349-4e1b-8141-2a06290c196f/20211101180501-JPL-L2P_GHRSST-SSTskin-MODIS_A-N-v02.0-fv01.0.nc4',\n",
      " 's3://harmony-prod-staging/public/podaac/l2-subsetter/28b897a7-7349-4e1b-8141-2a06290c196f/20211101181001-JPL-L2P_GHRSST-SSTskin-MODIS_A-N-v02.0-fv01.0_subsetted.nc4',\n",
      " 's3://harmony-prod-staging/public/podaac/l2-subsetter/28b897a7-7349-4e1b-8141-2a06290c196f/20211101194501-JPL-L2P_GHRSST-SSTskin-MODIS_A-N-v02.0-fv01.0_subsetted.nc4',\n",
      " 's3://harmony-prod-staging/public/podaac/l2-subsetter/28b897a7-7349-4e1b-8141-2a06290c196f/20211101212501-JPL-L2P_GHRSST-SSTskin-MODIS_A-N-v02.0-fv01.0_subsetted.nc4']\n"
     ]
    }
   ],
   "source": [
    "results = harmony_client.result_urls(job_id, link_type=LinkType.s3)\n",
    "urls = list(results)\n",
    "pprint(urls)"
   ]
  },
  {
   "cell_type": "markdown",
   "id": "38421c1d-798f-48d4-8465-2c5448585ef9",
   "metadata": {},
   "source": [
    "We can see that the first file returned does not include the `_subsetted` suffix, which indicates that a blank file was returned, as no data values were located within our subsetted region. We'll select the second URL in the list to bring into xarray below."
   ]
  },
  {
   "cell_type": "code",
   "execution_count": 26,
   "id": "d7d24d64-1b86-473c-9a42-7ece5d4e58fd",
   "metadata": {},
   "outputs": [
    {
     "data": {
      "text/plain": [
       "'s3://harmony-prod-staging/public/podaac/l2-subsetter/28b897a7-7349-4e1b-8141-2a06290c196f/20211101084001-JPL-L2P_GHRSST-SSTskin-MODIS_A-D-v02.0-fv01.0_subsetted.nc4'"
      ]
     },
     "execution_count": 26,
     "metadata": {},
     "output_type": "execute_result"
    }
   ],
   "source": [
    "url = urls[1]\n",
    "url"
   ]
  },
  {
   "cell_type": "markdown",
   "id": "324c086f-97fe-42c1-bdc3-7e1142ca802d",
   "metadata": {},
   "source": [
    "#### AWS credential retrieval\n",
    "Using aws_credentials you can retrieve the credentials needed to access the Harmony s3 staging bucket and its contents."
   ]
  },
  {
   "cell_type": "code",
   "execution_count": 27,
   "id": "dfe9c7b0-b129-4910-a80d-48c5b8081598",
   "metadata": {
    "tags": []
   },
   "outputs": [],
   "source": [
    "creds = harmony_client.aws_credentials()"
   ]
  },
  {
   "cell_type": "markdown",
   "id": "e3c88630-188d-4277-80c6-493d920cc4f3",
   "metadata": {
    "tags": []
   },
   "source": [
    "### Open staged files with *s3fs* and *xarray*\n",
    "\n",
    "We use the AWS `s3fs` package to create a file system that can then be read by xarray:"
   ]
  },
  {
   "cell_type": "code",
   "execution_count": 28,
   "id": "676a86b1-8432-4fc8-a815-c1175a28ff3c",
   "metadata": {},
   "outputs": [],
   "source": [
    "netcdf_fs = s3fs.S3FileSystem(\n",
    "    key=creds['aws_access_key_id'],\n",
    "    secret=creds['aws_secret_access_key'],\n",
    "    token=creds['aws_session_token'],\n",
    "    client_kwargs={'region_name':'us-west-2'},\n",
    ")"
   ]
  },
  {
   "cell_type": "markdown",
   "id": "c358f537-2433-4c84-b5f2-5cfad05fa021",
   "metadata": {},
   "source": [
    "### **Note, Ideally, we'd show how to bring in all files into a single xarray ds but I'm getting an error:"
   ]
  },
  {
   "cell_type": "code",
   "execution_count": 29,
   "id": "1eb8604f-e9bb-4201-b041-6e72380da2d6",
   "metadata": {},
   "outputs": [],
   "source": [
    "# # Iterate through remote_files to create a fileset\n",
    "# fileset = [netcdf_fs.open(file) for file in urls]\n",
    "# fileset\n",
    "# ds = xr.open_mfdataset(fileset)"
   ]
  },
  {
   "cell_type": "markdown",
   "id": "ae7559a4-3ca0-44ec-acfc-dbc395154a0c",
   "metadata": {},
   "source": [
    "Now that we have our s3 file system set, including our declared credentials, we'll use that to open the url, and read in the file through xarray:"
   ]
  },
  {
   "cell_type": "code",
   "execution_count": 30,
   "id": "d1aa4f8e-91e5-4237-85a4-7aed1b8479f8",
   "metadata": {
    "tags": []
   },
   "outputs": [
    {
     "data": {
      "text/html": [
       "<div><svg style=\"position: absolute; width: 0; height: 0; overflow: hidden\">\n",
       "<defs>\n",
       "<symbol id=\"icon-database\" viewBox=\"0 0 32 32\">\n",
       "<path d=\"M16 0c-8.837 0-16 2.239-16 5v4c0 2.761 7.163 5 16 5s16-2.239 16-5v-4c0-2.761-7.163-5-16-5z\"></path>\n",
       "<path d=\"M16 17c-8.837 0-16-2.239-16-5v6c0 2.761 7.163 5 16 5s16-2.239 16-5v-6c0 2.761-7.163 5-16 5z\"></path>\n",
       "<path d=\"M16 26c-8.837 0-16-2.239-16-5v6c0 2.761 7.163 5 16 5s16-2.239 16-5v-6c0 2.761-7.163 5-16 5z\"></path>\n",
       "</symbol>\n",
       "<symbol id=\"icon-file-text2\" viewBox=\"0 0 32 32\">\n",
       "<path d=\"M28.681 7.159c-0.694-0.947-1.662-2.053-2.724-3.116s-2.169-2.030-3.116-2.724c-1.612-1.182-2.393-1.319-2.841-1.319h-15.5c-1.378 0-2.5 1.121-2.5 2.5v27c0 1.378 1.122 2.5 2.5 2.5h23c1.378 0 2.5-1.122 2.5-2.5v-19.5c0-0.448-0.137-1.23-1.319-2.841zM24.543 5.457c0.959 0.959 1.712 1.825 2.268 2.543h-4.811v-4.811c0.718 0.556 1.584 1.309 2.543 2.268zM28 29.5c0 0.271-0.229 0.5-0.5 0.5h-23c-0.271 0-0.5-0.229-0.5-0.5v-27c0-0.271 0.229-0.5 0.5-0.5 0 0 15.499-0 15.5 0v7c0 0.552 0.448 1 1 1h7v19.5z\"></path>\n",
       "<path d=\"M23 26h-14c-0.552 0-1-0.448-1-1s0.448-1 1-1h14c0.552 0 1 0.448 1 1s-0.448 1-1 1z\"></path>\n",
       "<path d=\"M23 22h-14c-0.552 0-1-0.448-1-1s0.448-1 1-1h14c0.552 0 1 0.448 1 1s-0.448 1-1 1z\"></path>\n",
       "<path d=\"M23 18h-14c-0.552 0-1-0.448-1-1s0.448-1 1-1h14c0.552 0 1 0.448 1 1s-0.448 1-1 1z\"></path>\n",
       "</symbol>\n",
       "</defs>\n",
       "</svg>\n",
       "<style>/* CSS stylesheet for displaying xarray objects in jupyterlab.\n",
       " *\n",
       " */\n",
       "\n",
       ":root {\n",
       "  --xr-font-color0: var(--jp-content-font-color0, rgba(0, 0, 0, 1));\n",
       "  --xr-font-color2: var(--jp-content-font-color2, rgba(0, 0, 0, 0.54));\n",
       "  --xr-font-color3: var(--jp-content-font-color3, rgba(0, 0, 0, 0.38));\n",
       "  --xr-border-color: var(--jp-border-color2, #e0e0e0);\n",
       "  --xr-disabled-color: var(--jp-layout-color3, #bdbdbd);\n",
       "  --xr-background-color: var(--jp-layout-color0, white);\n",
       "  --xr-background-color-row-even: var(--jp-layout-color1, white);\n",
       "  --xr-background-color-row-odd: var(--jp-layout-color2, #eeeeee);\n",
       "}\n",
       "\n",
       "html[theme=dark],\n",
       "body.vscode-dark {\n",
       "  --xr-font-color0: rgba(255, 255, 255, 1);\n",
       "  --xr-font-color2: rgba(255, 255, 255, 0.54);\n",
       "  --xr-font-color3: rgba(255, 255, 255, 0.38);\n",
       "  --xr-border-color: #1F1F1F;\n",
       "  --xr-disabled-color: #515151;\n",
       "  --xr-background-color: #111111;\n",
       "  --xr-background-color-row-even: #111111;\n",
       "  --xr-background-color-row-odd: #313131;\n",
       "}\n",
       "\n",
       ".xr-wrap {\n",
       "  display: block;\n",
       "  min-width: 300px;\n",
       "  max-width: 700px;\n",
       "}\n",
       "\n",
       ".xr-text-repr-fallback {\n",
       "  /* fallback to plain text repr when CSS is not injected (untrusted notebook) */\n",
       "  display: none;\n",
       "}\n",
       "\n",
       ".xr-header {\n",
       "  padding-top: 6px;\n",
       "  padding-bottom: 6px;\n",
       "  margin-bottom: 4px;\n",
       "  border-bottom: solid 1px var(--xr-border-color);\n",
       "}\n",
       "\n",
       ".xr-header > div,\n",
       ".xr-header > ul {\n",
       "  display: inline;\n",
       "  margin-top: 0;\n",
       "  margin-bottom: 0;\n",
       "}\n",
       "\n",
       ".xr-obj-type,\n",
       ".xr-array-name {\n",
       "  margin-left: 2px;\n",
       "  margin-right: 10px;\n",
       "}\n",
       "\n",
       ".xr-obj-type {\n",
       "  color: var(--xr-font-color2);\n",
       "}\n",
       "\n",
       ".xr-sections {\n",
       "  padding-left: 0 !important;\n",
       "  display: grid;\n",
       "  grid-template-columns: 150px auto auto 1fr 20px 20px;\n",
       "}\n",
       "\n",
       ".xr-section-item {\n",
       "  display: contents;\n",
       "}\n",
       "\n",
       ".xr-section-item input {\n",
       "  display: none;\n",
       "}\n",
       "\n",
       ".xr-section-item input + label {\n",
       "  color: var(--xr-disabled-color);\n",
       "}\n",
       "\n",
       ".xr-section-item input:enabled + label {\n",
       "  cursor: pointer;\n",
       "  color: var(--xr-font-color2);\n",
       "}\n",
       "\n",
       ".xr-section-item input:enabled + label:hover {\n",
       "  color: var(--xr-font-color0);\n",
       "}\n",
       "\n",
       ".xr-section-summary {\n",
       "  grid-column: 1;\n",
       "  color: var(--xr-font-color2);\n",
       "  font-weight: 500;\n",
       "}\n",
       "\n",
       ".xr-section-summary > span {\n",
       "  display: inline-block;\n",
       "  padding-left: 0.5em;\n",
       "}\n",
       "\n",
       ".xr-section-summary-in:disabled + label {\n",
       "  color: var(--xr-font-color2);\n",
       "}\n",
       "\n",
       ".xr-section-summary-in + label:before {\n",
       "  display: inline-block;\n",
       "  content: '►';\n",
       "  font-size: 11px;\n",
       "  width: 15px;\n",
       "  text-align: center;\n",
       "}\n",
       "\n",
       ".xr-section-summary-in:disabled + label:before {\n",
       "  color: var(--xr-disabled-color);\n",
       "}\n",
       "\n",
       ".xr-section-summary-in:checked + label:before {\n",
       "  content: '▼';\n",
       "}\n",
       "\n",
       ".xr-section-summary-in:checked + label > span {\n",
       "  display: none;\n",
       "}\n",
       "\n",
       ".xr-section-summary,\n",
       ".xr-section-inline-details {\n",
       "  padding-top: 4px;\n",
       "  padding-bottom: 4px;\n",
       "}\n",
       "\n",
       ".xr-section-inline-details {\n",
       "  grid-column: 2 / -1;\n",
       "}\n",
       "\n",
       ".xr-section-details {\n",
       "  display: none;\n",
       "  grid-column: 1 / -1;\n",
       "  margin-bottom: 5px;\n",
       "}\n",
       "\n",
       ".xr-section-summary-in:checked ~ .xr-section-details {\n",
       "  display: contents;\n",
       "}\n",
       "\n",
       ".xr-array-wrap {\n",
       "  grid-column: 1 / -1;\n",
       "  display: grid;\n",
       "  grid-template-columns: 20px auto;\n",
       "}\n",
       "\n",
       ".xr-array-wrap > label {\n",
       "  grid-column: 1;\n",
       "  vertical-align: top;\n",
       "}\n",
       "\n",
       ".xr-preview {\n",
       "  color: var(--xr-font-color3);\n",
       "}\n",
       "\n",
       ".xr-array-preview,\n",
       ".xr-array-data {\n",
       "  padding: 0 5px !important;\n",
       "  grid-column: 2;\n",
       "}\n",
       "\n",
       ".xr-array-data,\n",
       ".xr-array-in:checked ~ .xr-array-preview {\n",
       "  display: none;\n",
       "}\n",
       "\n",
       ".xr-array-in:checked ~ .xr-array-data,\n",
       ".xr-array-preview {\n",
       "  display: inline-block;\n",
       "}\n",
       "\n",
       ".xr-dim-list {\n",
       "  display: inline-block !important;\n",
       "  list-style: none;\n",
       "  padding: 0 !important;\n",
       "  margin: 0;\n",
       "}\n",
       "\n",
       ".xr-dim-list li {\n",
       "  display: inline-block;\n",
       "  padding: 0;\n",
       "  margin: 0;\n",
       "}\n",
       "\n",
       ".xr-dim-list:before {\n",
       "  content: '(';\n",
       "}\n",
       "\n",
       ".xr-dim-list:after {\n",
       "  content: ')';\n",
       "}\n",
       "\n",
       ".xr-dim-list li:not(:last-child):after {\n",
       "  content: ',';\n",
       "  padding-right: 5px;\n",
       "}\n",
       "\n",
       ".xr-has-index {\n",
       "  font-weight: bold;\n",
       "}\n",
       "\n",
       ".xr-var-list,\n",
       ".xr-var-item {\n",
       "  display: contents;\n",
       "}\n",
       "\n",
       ".xr-var-item > div,\n",
       ".xr-var-item label,\n",
       ".xr-var-item > .xr-var-name span {\n",
       "  background-color: var(--xr-background-color-row-even);\n",
       "  margin-bottom: 0;\n",
       "}\n",
       "\n",
       ".xr-var-item > .xr-var-name:hover span {\n",
       "  padding-right: 5px;\n",
       "}\n",
       "\n",
       ".xr-var-list > li:nth-child(odd) > div,\n",
       ".xr-var-list > li:nth-child(odd) > label,\n",
       ".xr-var-list > li:nth-child(odd) > .xr-var-name span {\n",
       "  background-color: var(--xr-background-color-row-odd);\n",
       "}\n",
       "\n",
       ".xr-var-name {\n",
       "  grid-column: 1;\n",
       "}\n",
       "\n",
       ".xr-var-dims {\n",
       "  grid-column: 2;\n",
       "}\n",
       "\n",
       ".xr-var-dtype {\n",
       "  grid-column: 3;\n",
       "  text-align: right;\n",
       "  color: var(--xr-font-color2);\n",
       "}\n",
       "\n",
       ".xr-var-preview {\n",
       "  grid-column: 4;\n",
       "}\n",
       "\n",
       ".xr-var-name,\n",
       ".xr-var-dims,\n",
       ".xr-var-dtype,\n",
       ".xr-preview,\n",
       ".xr-attrs dt {\n",
       "  white-space: nowrap;\n",
       "  overflow: hidden;\n",
       "  text-overflow: ellipsis;\n",
       "  padding-right: 10px;\n",
       "}\n",
       "\n",
       ".xr-var-name:hover,\n",
       ".xr-var-dims:hover,\n",
       ".xr-var-dtype:hover,\n",
       ".xr-attrs dt:hover {\n",
       "  overflow: visible;\n",
       "  width: auto;\n",
       "  z-index: 1;\n",
       "}\n",
       "\n",
       ".xr-var-attrs,\n",
       ".xr-var-data {\n",
       "  display: none;\n",
       "  background-color: var(--xr-background-color) !important;\n",
       "  padding-bottom: 5px !important;\n",
       "}\n",
       "\n",
       ".xr-var-attrs-in:checked ~ .xr-var-attrs,\n",
       ".xr-var-data-in:checked ~ .xr-var-data {\n",
       "  display: block;\n",
       "}\n",
       "\n",
       ".xr-var-data > table {\n",
       "  float: right;\n",
       "}\n",
       "\n",
       ".xr-var-name span,\n",
       ".xr-var-data,\n",
       ".xr-attrs {\n",
       "  padding-left: 25px !important;\n",
       "}\n",
       "\n",
       ".xr-attrs,\n",
       ".xr-var-attrs,\n",
       ".xr-var-data {\n",
       "  grid-column: 1 / -1;\n",
       "}\n",
       "\n",
       "dl.xr-attrs {\n",
       "  padding: 0;\n",
       "  margin: 0;\n",
       "  display: grid;\n",
       "  grid-template-columns: 125px auto;\n",
       "}\n",
       "\n",
       ".xr-attrs dt,\n",
       ".xr-attrs dd {\n",
       "  padding: 0;\n",
       "  margin: 0;\n",
       "  float: left;\n",
       "  padding-right: 10px;\n",
       "  width: auto;\n",
       "}\n",
       "\n",
       ".xr-attrs dt {\n",
       "  font-weight: normal;\n",
       "  grid-column: 1;\n",
       "}\n",
       "\n",
       ".xr-attrs dt:hover span {\n",
       "  display: inline-block;\n",
       "  background: var(--xr-background-color);\n",
       "  padding-right: 10px;\n",
       "}\n",
       "\n",
       ".xr-attrs dd {\n",
       "  grid-column: 2;\n",
       "  white-space: pre-wrap;\n",
       "  word-break: break-all;\n",
       "}\n",
       "\n",
       ".xr-icon-database,\n",
       ".xr-icon-file-text2 {\n",
       "  display: inline-block;\n",
       "  vertical-align: middle;\n",
       "  width: 1em;\n",
       "  height: 1.5em !important;\n",
       "  stroke-width: 0;\n",
       "  stroke: currentColor;\n",
       "  fill: currentColor;\n",
       "}\n",
       "</style><pre class='xr-text-repr-fallback'>&lt;xarray.Dataset&gt;\n",
       "Dimensions:                  (nj: 366, ni: 1154, time: 1)\n",
       "Coordinates:\n",
       "    lat                      (nj, ni, time) float32 ...\n",
       "    lon                      (nj, ni, time) float32 ...\n",
       "  * time                     (time) datetime64[ns] 2021-11-01T08:40:01\n",
       "Dimensions without coordinates: nj, ni\n",
       "Data variables:\n",
       "    sea_surface_temperature  (time, nj, ni) float32 ...\n",
       "    sst_dtime                (time, nj, ni) timedelta64[ns] ...\n",
       "    quality_level            (time, nj, ni) float32 ...\n",
       "    sses_bias                (time, nj, ni) float32 ...\n",
       "    sses_standard_deviation  (time, nj, ni) float32 ...\n",
       "    l2p_flags                (time, nj, ni) int16 ...\n",
       "    chlorophyll_a            (time, nj, ni) float32 ...\n",
       "    K_490                    (time, nj, ni) float32 ...\n",
       "    wind_speed               (time, nj, ni) float32 ...\n",
       "    dt_analysis              (time, nj, ni) float32 ...\n",
       "Attributes: (12/50)\n",
       "    Conventions:                CF-1.7, ACDD-1.3\n",
       "    title:                      MODIS Aqua L2P SST\n",
       "    summary:                    Sea surface temperature retrievals produced a...\n",
       "    references:                 GHRSST Data Processing Specification v2r5\n",
       "    institution:                NASA/JPL/OBPG/RSMAS\n",
       "    history:                    MODIS L2P created at JPL PO.DAAC\\n2021-11-04 ...\n",
       "    ...                         ...\n",
       "    processing_level:           L2P\n",
       "    cdm_data_type:              swath\n",
       "    startDirection:             Ascending\n",
       "    endDirection:               Ascending\n",
       "    day_night_flag:             Day\n",
       "    history_json:               [{&quot;date_time&quot;: &quot;2021-11-04T00:50:49.990002+00...</pre><div class='xr-wrap' hidden><div class='xr-header'><div class='xr-obj-type'>xarray.Dataset</div></div><ul class='xr-sections'><li class='xr-section-item'><input id='section-c0961724-2ab2-4231-911d-147ce0eb4d11' class='xr-section-summary-in' type='checkbox' disabled ><label for='section-c0961724-2ab2-4231-911d-147ce0eb4d11' class='xr-section-summary'  title='Expand/collapse section'>Dimensions:</label><div class='xr-section-inline-details'><ul class='xr-dim-list'><li><span>nj</span>: 366</li><li><span>ni</span>: 1154</li><li><span class='xr-has-index'>time</span>: 1</li></ul></div><div class='xr-section-details'></div></li><li class='xr-section-item'><input id='section-6214c4a5-46bd-4c2b-ac3c-fa1bc0083613' class='xr-section-summary-in' type='checkbox'  checked><label for='section-6214c4a5-46bd-4c2b-ac3c-fa1bc0083613' class='xr-section-summary' >Coordinates: <span>(3)</span></label><div class='xr-section-inline-details'></div><div class='xr-section-details'><ul class='xr-var-list'><li class='xr-var-item'><div class='xr-var-name'><span>lat</span></div><div class='xr-var-dims'>(nj, ni, time)</div><div class='xr-var-dtype'>float32</div><div class='xr-var-preview xr-preview'>...</div><input id='attrs-a08d9d03-db8e-4b64-a151-bf2e6ab9a4a4' class='xr-var-attrs-in' type='checkbox' ><label for='attrs-a08d9d03-db8e-4b64-a151-bf2e6ab9a4a4' title='Show/Hide attributes'><svg class='icon xr-icon-file-text2'><use xlink:href='#icon-file-text2'></use></svg></label><input id='data-ef975ba7-bf67-48a3-94f2-330a25477656' class='xr-var-data-in' type='checkbox'><label for='data-ef975ba7-bf67-48a3-94f2-330a25477656' title='Show/Hide data repr'><svg class='icon xr-icon-database'><use xlink:href='#icon-database'></use></svg></label><div class='xr-var-attrs'><dl class='xr-attrs'><dt><span>long_name :</span></dt><dd>latitude</dd><dt><span>standard_name :</span></dt><dd>latitude</dd><dt><span>units :</span></dt><dd>degrees_north</dd><dt><span>valid_min :</span></dt><dd>[-90.]</dd><dt><span>valid_max :</span></dt><dd>[90.]</dd><dt><span>comment :</span></dt><dd>geographical coordinates, WGS84 projection</dd><dt><span>coverage_content_type :</span></dt><dd>coordinate</dd></dl></div><div class='xr-var-data'><pre>[422364 values with dtype=float32]</pre></div></li><li class='xr-var-item'><div class='xr-var-name'><span>lon</span></div><div class='xr-var-dims'>(nj, ni, time)</div><div class='xr-var-dtype'>float32</div><div class='xr-var-preview xr-preview'>...</div><input id='attrs-2b63294d-8edc-4172-9ad0-a7970978ac9a' class='xr-var-attrs-in' type='checkbox' ><label for='attrs-2b63294d-8edc-4172-9ad0-a7970978ac9a' title='Show/Hide attributes'><svg class='icon xr-icon-file-text2'><use xlink:href='#icon-file-text2'></use></svg></label><input id='data-f232b168-cd31-4798-8990-e08671d4a3bc' class='xr-var-data-in' type='checkbox'><label for='data-f232b168-cd31-4798-8990-e08671d4a3bc' title='Show/Hide data repr'><svg class='icon xr-icon-database'><use xlink:href='#icon-database'></use></svg></label><div class='xr-var-attrs'><dl class='xr-attrs'><dt><span>long_name :</span></dt><dd>longitude</dd><dt><span>standard_name :</span></dt><dd>longitude</dd><dt><span>units :</span></dt><dd>degrees_east</dd><dt><span>valid_min :</span></dt><dd>[-180.]</dd><dt><span>valid_max :</span></dt><dd>[180.]</dd><dt><span>comment :</span></dt><dd>geographical coordinates, WGS84 projection</dd><dt><span>coverage_content_type :</span></dt><dd>coordinate</dd></dl></div><div class='xr-var-data'><pre>[422364 values with dtype=float32]</pre></div></li><li class='xr-var-item'><div class='xr-var-name'><span class='xr-has-index'>time</span></div><div class='xr-var-dims'>(time)</div><div class='xr-var-dtype'>datetime64[ns]</div><div class='xr-var-preview xr-preview'>2021-11-01T08:40:01</div><input id='attrs-d8ea660c-e2cf-489c-9a9e-c6321777df05' class='xr-var-attrs-in' type='checkbox' ><label for='attrs-d8ea660c-e2cf-489c-9a9e-c6321777df05' title='Show/Hide attributes'><svg class='icon xr-icon-file-text2'><use xlink:href='#icon-file-text2'></use></svg></label><input id='data-9d78017f-96ae-48d1-90b9-1e0ec8ac939d' class='xr-var-data-in' type='checkbox'><label for='data-9d78017f-96ae-48d1-90b9-1e0ec8ac939d' title='Show/Hide data repr'><svg class='icon xr-icon-database'><use xlink:href='#icon-database'></use></svg></label><div class='xr-var-attrs'><dl class='xr-attrs'><dt><span>long_name :</span></dt><dd>reference time of sst file</dd><dt><span>standard_name :</span></dt><dd>time</dd><dt><span>comment :</span></dt><dd>time of first sensor observation</dd><dt><span>coverage_content_type :</span></dt><dd>coordinate</dd></dl></div><div class='xr-var-data'><pre>array([&#x27;2021-11-01T08:40:01.000000000&#x27;], dtype=&#x27;datetime64[ns]&#x27;)</pre></div></li></ul></div></li><li class='xr-section-item'><input id='section-a889b366-8283-435a-8871-ad74afb1a806' class='xr-section-summary-in' type='checkbox'  checked><label for='section-a889b366-8283-435a-8871-ad74afb1a806' class='xr-section-summary' >Data variables: <span>(10)</span></label><div class='xr-section-inline-details'></div><div class='xr-section-details'><ul class='xr-var-list'><li class='xr-var-item'><div class='xr-var-name'><span>sea_surface_temperature</span></div><div class='xr-var-dims'>(time, nj, ni)</div><div class='xr-var-dtype'>float32</div><div class='xr-var-preview xr-preview'>...</div><input id='attrs-1b334b8f-4e61-4563-a30a-cf75481626cc' class='xr-var-attrs-in' type='checkbox' ><label for='attrs-1b334b8f-4e61-4563-a30a-cf75481626cc' title='Show/Hide attributes'><svg class='icon xr-icon-file-text2'><use xlink:href='#icon-file-text2'></use></svg></label><input id='data-5ac1c29d-b649-46f6-8ec0-a35ec9a780ba' class='xr-var-data-in' type='checkbox'><label for='data-5ac1c29d-b649-46f6-8ec0-a35ec9a780ba' title='Show/Hide data repr'><svg class='icon xr-icon-database'><use xlink:href='#icon-database'></use></svg></label><div class='xr-var-attrs'><dl class='xr-attrs'><dt><span>long_name :</span></dt><dd>sea surface temperature</dd><dt><span>standard_name :</span></dt><dd>sea_surface_skin_temperature</dd><dt><span>units :</span></dt><dd>kelvin</dd><dt><span>valid_min :</span></dt><dd>[-1000]</dd><dt><span>valid_max :</span></dt><dd>[10000]</dd><dt><span>comment :</span></dt><dd>sea surface temperature from thermal IR (11 um) channels</dd><dt><span>source :</span></dt><dd>NASA and University of Miami</dd><dt><span>coverage_content_type :</span></dt><dd>physicalMeasurement</dd></dl></div><div class='xr-var-data'><pre>[422364 values with dtype=float32]</pre></div></li><li class='xr-var-item'><div class='xr-var-name'><span>sst_dtime</span></div><div class='xr-var-dims'>(time, nj, ni)</div><div class='xr-var-dtype'>timedelta64[ns]</div><div class='xr-var-preview xr-preview'>...</div><input id='attrs-7ea21e43-d2b1-4d08-8578-06aa5e7b4744' class='xr-var-attrs-in' type='checkbox' ><label for='attrs-7ea21e43-d2b1-4d08-8578-06aa5e7b4744' title='Show/Hide attributes'><svg class='icon xr-icon-file-text2'><use xlink:href='#icon-file-text2'></use></svg></label><input id='data-912c461c-6361-44a1-8258-52e4976e382a' class='xr-var-data-in' type='checkbox'><label for='data-912c461c-6361-44a1-8258-52e4976e382a' title='Show/Hide data repr'><svg class='icon xr-icon-database'><use xlink:href='#icon-database'></use></svg></label><div class='xr-var-attrs'><dl class='xr-attrs'><dt><span>long_name :</span></dt><dd>time difference from reference time</dd><dt><span>valid_min :</span></dt><dd>[-32767]</dd><dt><span>valid_max :</span></dt><dd>[32767]</dd><dt><span>comment :</span></dt><dd>time plus sst_dtime gives seconds after 00:00:00 UTC January 1, 1981</dd><dt><span>coverage_content_type :</span></dt><dd>referenceInformation</dd></dl></div><div class='xr-var-data'><pre>[422364 values with dtype=timedelta64[ns]]</pre></div></li><li class='xr-var-item'><div class='xr-var-name'><span>quality_level</span></div><div class='xr-var-dims'>(time, nj, ni)</div><div class='xr-var-dtype'>float32</div><div class='xr-var-preview xr-preview'>...</div><input id='attrs-730e3483-11a9-43e3-bc8f-4974bbbd5c91' class='xr-var-attrs-in' type='checkbox' ><label for='attrs-730e3483-11a9-43e3-bc8f-4974bbbd5c91' title='Show/Hide attributes'><svg class='icon xr-icon-file-text2'><use xlink:href='#icon-file-text2'></use></svg></label><input id='data-782042c0-ecfc-4e2f-b825-451d3b41bc13' class='xr-var-data-in' type='checkbox'><label for='data-782042c0-ecfc-4e2f-b825-451d3b41bc13' title='Show/Hide data repr'><svg class='icon xr-icon-database'><use xlink:href='#icon-database'></use></svg></label><div class='xr-var-attrs'><dl class='xr-attrs'><dt><span>long_name :</span></dt><dd>quality level of SST pixel</dd><dt><span>valid_min :</span></dt><dd>[0]</dd><dt><span>valid_max :</span></dt><dd>[5]</dd><dt><span>comment :</span></dt><dd>thermal IR SST proximity confidence value; signed byte array: WARNING Some applications are unable to properly handle signed byte values. If values are encountered &gt; 127, please subtract 256 from this reported value</dd><dt><span>flag_values :</span></dt><dd>[0 1 2 3 4 5]</dd><dt><span>flag_meanings :</span></dt><dd>no_data bad_data worst_quality low_quality acceptable_quality best_quality</dd><dt><span>coverage_content_type :</span></dt><dd>qualityInformation</dd></dl></div><div class='xr-var-data'><pre>[422364 values with dtype=float32]</pre></div></li><li class='xr-var-item'><div class='xr-var-name'><span>sses_bias</span></div><div class='xr-var-dims'>(time, nj, ni)</div><div class='xr-var-dtype'>float32</div><div class='xr-var-preview xr-preview'>...</div><input id='attrs-3d8e5520-a4c1-4916-b063-7832fd58288e' class='xr-var-attrs-in' type='checkbox' ><label for='attrs-3d8e5520-a4c1-4916-b063-7832fd58288e' title='Show/Hide attributes'><svg class='icon xr-icon-file-text2'><use xlink:href='#icon-file-text2'></use></svg></label><input id='data-b6ae7d95-b912-4e18-bd13-5dc3ed906441' class='xr-var-data-in' type='checkbox'><label for='data-b6ae7d95-b912-4e18-bd13-5dc3ed906441' title='Show/Hide data repr'><svg class='icon xr-icon-database'><use xlink:href='#icon-database'></use></svg></label><div class='xr-var-attrs'><dl class='xr-attrs'><dt><span>long_name :</span></dt><dd>SSES bias error based on proximity confidence flags</dd><dt><span>units :</span></dt><dd>kelvin</dd><dt><span>valid_min :</span></dt><dd>[-127]</dd><dt><span>valid_max :</span></dt><dd>[127]</dd><dt><span>comment :</span></dt><dd>thermal IR SST bias error; signed byte array: WARNING Some applications are unable to properly handle signed byte values. If values are encountered &gt; 127, please subtract 256 from this reported value</dd><dt><span>coverage_content_type :</span></dt><dd>auxiliaryInformation</dd></dl></div><div class='xr-var-data'><pre>[422364 values with dtype=float32]</pre></div></li><li class='xr-var-item'><div class='xr-var-name'><span>sses_standard_deviation</span></div><div class='xr-var-dims'>(time, nj, ni)</div><div class='xr-var-dtype'>float32</div><div class='xr-var-preview xr-preview'>...</div><input id='attrs-36fe141e-1e45-4927-9db1-9e441eefadc4' class='xr-var-attrs-in' type='checkbox' ><label for='attrs-36fe141e-1e45-4927-9db1-9e441eefadc4' title='Show/Hide attributes'><svg class='icon xr-icon-file-text2'><use xlink:href='#icon-file-text2'></use></svg></label><input id='data-f216b762-1fee-4364-b36d-efc4a02f3e0f' class='xr-var-data-in' type='checkbox'><label for='data-f216b762-1fee-4364-b36d-efc4a02f3e0f' title='Show/Hide data repr'><svg class='icon xr-icon-database'><use xlink:href='#icon-database'></use></svg></label><div class='xr-var-attrs'><dl class='xr-attrs'><dt><span>long_name :</span></dt><dd>SSES standard deviation error based on proximity confidence flags</dd><dt><span>units :</span></dt><dd>kelvin</dd><dt><span>valid_min :</span></dt><dd>[-127]</dd><dt><span>valid_max :</span></dt><dd>[127]</dd><dt><span>comment :</span></dt><dd>thermal IR SST standard deviation error; signed byte array: WARNING Some applications are unable to properly handle signed byte values. If values are encountered &gt; 127, please subtract 256 from this reported value</dd><dt><span>coverage_content_type :</span></dt><dd>auxiliaryInformation</dd></dl></div><div class='xr-var-data'><pre>[422364 values with dtype=float32]</pre></div></li><li class='xr-var-item'><div class='xr-var-name'><span>l2p_flags</span></div><div class='xr-var-dims'>(time, nj, ni)</div><div class='xr-var-dtype'>int16</div><div class='xr-var-preview xr-preview'>...</div><input id='attrs-b0cc5299-1eec-48f3-af8a-237b61e5eb16' class='xr-var-attrs-in' type='checkbox' ><label for='attrs-b0cc5299-1eec-48f3-af8a-237b61e5eb16' title='Show/Hide attributes'><svg class='icon xr-icon-file-text2'><use xlink:href='#icon-file-text2'></use></svg></label><input id='data-a6d85ea9-307c-4ae3-83da-657d41cbfdd4' class='xr-var-data-in' type='checkbox'><label for='data-a6d85ea9-307c-4ae3-83da-657d41cbfdd4' title='Show/Hide data repr'><svg class='icon xr-icon-database'><use xlink:href='#icon-database'></use></svg></label><div class='xr-var-attrs'><dl class='xr-attrs'><dt><span>long_name :</span></dt><dd>L2P flags</dd><dt><span>valid_min :</span></dt><dd>[0]</dd><dt><span>valid_max :</span></dt><dd>[16]</dd><dt><span>comment :</span></dt><dd>These flags can be used to further filter data variables</dd><dt><span>flag_meanings :</span></dt><dd>microwave land ice lake river</dd><dt><span>flag_masks :</span></dt><dd>[ 1  2  4  8 16]</dd><dt><span>coverage_content_type :</span></dt><dd>qualityInformation</dd></dl></div><div class='xr-var-data'><pre>[422364 values with dtype=int16]</pre></div></li><li class='xr-var-item'><div class='xr-var-name'><span>chlorophyll_a</span></div><div class='xr-var-dims'>(time, nj, ni)</div><div class='xr-var-dtype'>float32</div><div class='xr-var-preview xr-preview'>...</div><input id='attrs-6105a244-b03f-4cc8-a4e1-f9eb7f4dd1bc' class='xr-var-attrs-in' type='checkbox' ><label for='attrs-6105a244-b03f-4cc8-a4e1-f9eb7f4dd1bc' title='Show/Hide attributes'><svg class='icon xr-icon-file-text2'><use xlink:href='#icon-file-text2'></use></svg></label><input id='data-1dcc409b-ba18-4992-bdb2-cd0a194ff4fd' class='xr-var-data-in' type='checkbox'><label for='data-1dcc409b-ba18-4992-bdb2-cd0a194ff4fd' title='Show/Hide data repr'><svg class='icon xr-icon-database'><use xlink:href='#icon-database'></use></svg></label><div class='xr-var-attrs'><dl class='xr-attrs'><dt><span>long_name :</span></dt><dd>Chlorophyll Concentration, OC3 Algorithm</dd><dt><span>units :</span></dt><dd>mg m^-3</dd><dt><span>valid_min :</span></dt><dd>[0.001]</dd><dt><span>valid_max :</span></dt><dd>[100.]</dd><dt><span>comment :</span></dt><dd>non L2P core field</dd><dt><span>coverage_content_type :</span></dt><dd>auxiliaryInformation</dd></dl></div><div class='xr-var-data'><pre>[422364 values with dtype=float32]</pre></div></li><li class='xr-var-item'><div class='xr-var-name'><span>K_490</span></div><div class='xr-var-dims'>(time, nj, ni)</div><div class='xr-var-dtype'>float32</div><div class='xr-var-preview xr-preview'>...</div><input id='attrs-e2795873-47b8-4ad8-8310-3a38bf1a56e9' class='xr-var-attrs-in' type='checkbox' ><label for='attrs-e2795873-47b8-4ad8-8310-3a38bf1a56e9' title='Show/Hide attributes'><svg class='icon xr-icon-file-text2'><use xlink:href='#icon-file-text2'></use></svg></label><input id='data-d427c811-e227-4c62-9c8d-d41981f30d40' class='xr-var-data-in' type='checkbox'><label for='data-d427c811-e227-4c62-9c8d-d41981f30d40' title='Show/Hide data repr'><svg class='icon xr-icon-database'><use xlink:href='#icon-database'></use></svg></label><div class='xr-var-attrs'><dl class='xr-attrs'><dt><span>long_name :</span></dt><dd>Diffuse attenuation coefficient at 490 nm (OBPG)</dd><dt><span>units :</span></dt><dd>m^-1</dd><dt><span>valid_min :</span></dt><dd>[50]</dd><dt><span>valid_max :</span></dt><dd>[30000]</dd><dt><span>comment :</span></dt><dd>non L2P core field</dd><dt><span>coverage_content_type :</span></dt><dd>auxiliaryInformation</dd></dl></div><div class='xr-var-data'><pre>[422364 values with dtype=float32]</pre></div></li><li class='xr-var-item'><div class='xr-var-name'><span>wind_speed</span></div><div class='xr-var-dims'>(time, nj, ni)</div><div class='xr-var-dtype'>float32</div><div class='xr-var-preview xr-preview'>...</div><input id='attrs-c5388f80-a5d2-49be-8f9c-68f7c785bc45' class='xr-var-attrs-in' type='checkbox' ><label for='attrs-c5388f80-a5d2-49be-8f9c-68f7c785bc45' title='Show/Hide attributes'><svg class='icon xr-icon-file-text2'><use xlink:href='#icon-file-text2'></use></svg></label><input id='data-68299ddf-b469-42c9-b85e-b9b1a85f66bd' class='xr-var-data-in' type='checkbox'><label for='data-68299ddf-b469-42c9-b85e-b9b1a85f66bd' title='Show/Hide data repr'><svg class='icon xr-icon-database'><use xlink:href='#icon-database'></use></svg></label><div class='xr-var-attrs'><dl class='xr-attrs'><dt><span>long_name :</span></dt><dd>10m wind speed</dd><dt><span>standard_name :</span></dt><dd>wind_speed</dd><dt><span>units :</span></dt><dd>m s-1</dd><dt><span>valid_min :</span></dt><dd>[-127]</dd><dt><span>valid_max :</span></dt><dd>[127]</dd><dt><span>comment :</span></dt><dd>Wind at 10 meters above the sea surface</dd><dt><span>source :</span></dt><dd>TBD.  Placeholder.  Currently empty</dd><dt><span>grid_mapping :</span></dt><dd>TBD</dd><dt><span>time_offset :</span></dt><dd>[2.]</dd><dt><span>height :</span></dt><dd>10 m</dd><dt><span>coverage_content_type :</span></dt><dd>auxiliaryInformation</dd></dl></div><div class='xr-var-data'><pre>[422364 values with dtype=float32]</pre></div></li><li class='xr-var-item'><div class='xr-var-name'><span>dt_analysis</span></div><div class='xr-var-dims'>(time, nj, ni)</div><div class='xr-var-dtype'>float32</div><div class='xr-var-preview xr-preview'>...</div><input id='attrs-f15d7b2e-e0e6-4f70-8650-eca282b95524' class='xr-var-attrs-in' type='checkbox' ><label for='attrs-f15d7b2e-e0e6-4f70-8650-eca282b95524' title='Show/Hide attributes'><svg class='icon xr-icon-file-text2'><use xlink:href='#icon-file-text2'></use></svg></label><input id='data-36d5f138-022e-40dd-b84c-807fa1e0f191' class='xr-var-data-in' type='checkbox'><label for='data-36d5f138-022e-40dd-b84c-807fa1e0f191' title='Show/Hide data repr'><svg class='icon xr-icon-database'><use xlink:href='#icon-database'></use></svg></label><div class='xr-var-attrs'><dl class='xr-attrs'><dt><span>long_name :</span></dt><dd>deviation from SST reference climatology</dd><dt><span>units :</span></dt><dd>kelvin</dd><dt><span>valid_min :</span></dt><dd>[-127]</dd><dt><span>valid_max :</span></dt><dd>[127]</dd><dt><span>comment :</span></dt><dd>TBD</dd><dt><span>source :</span></dt><dd>TBD. Placeholder.  Currently empty</dd><dt><span>coverage_content_type :</span></dt><dd>auxiliaryInformation</dd></dl></div><div class='xr-var-data'><pre>[422364 values with dtype=float32]</pre></div></li></ul></div></li><li class='xr-section-item'><input id='section-ecbe5182-09ee-490a-9227-86bcc85c2e83' class='xr-section-summary-in' type='checkbox'  ><label for='section-ecbe5182-09ee-490a-9227-86bcc85c2e83' class='xr-section-summary' >Attributes: <span>(50)</span></label><div class='xr-section-inline-details'></div><div class='xr-section-details'><dl class='xr-attrs'><dt><span>Conventions :</span></dt><dd>CF-1.7, ACDD-1.3</dd><dt><span>title :</span></dt><dd>MODIS Aqua L2P SST</dd><dt><span>summary :</span></dt><dd>Sea surface temperature retrievals produced at the NASA OBPG for the MODIS Aqua sensor.  These have been reformatted to GHRSST GDS specifications by the JPL PO.DAAC</dd><dt><span>references :</span></dt><dd>GHRSST Data Processing Specification v2r5</dd><dt><span>institution :</span></dt><dd>NASA/JPL/OBPG/RSMAS</dd><dt><span>history :</span></dt><dd>MODIS L2P created at JPL PO.DAAC\n",
       "2021-11-04 00:50:49.989964 l2ss-py v1.1.0 (bbox=[[60.0, 90.0], [-45.75, -45.0]] cut=True)</dd><dt><span>comment :</span></dt><dd>L2P Core without DT analysis or other ancillary fields; Day, Start Node:Ascending, End Node:Ascending; WARNING Some applications are unable to properly handle signed byte values. If values are encountered &gt; 127, please subtract 256 from this reported value; Quicklook</dd><dt><span>license :</span></dt><dd>GHRSST and PO.DAAC protocol allow data use as free and open.</dd><dt><span>id :</span></dt><dd>MODIS_A-JPL-L2P-v2019.0</dd><dt><span>naming_authority :</span></dt><dd>org.ghrsst</dd><dt><span>product_version :</span></dt><dd>2019.0</dd><dt><span>uuid :</span></dt><dd>f6e1f61d-c4a4-4c17-8354-0c15e12d688b</dd><dt><span>gds_version_id :</span></dt><dd>2.0</dd><dt><span>netcdf_version_id :</span></dt><dd>4.1</dd><dt><span>date_created :</span></dt><dd>20211101T110613Z</dd><dt><span>file_quality_level :</span></dt><dd>[3]</dd><dt><span>spatial_resolution :</span></dt><dd>1km</dd><dt><span>start_time :</span></dt><dd>20211101T084001Z</dd><dt><span>time_coverage_start :</span></dt><dd>20211101T084001Z</dd><dt><span>stop_time :</span></dt><dd>20211101T084458Z</dd><dt><span>time_coverage_end :</span></dt><dd>20211101T084458Z</dd><dt><span>northernmost_latitude :</span></dt><dd>[-27.3202]</dd><dt><span>southernmost_latitude :</span></dt><dd>[-48.6134]</dd><dt><span>easternmost_longitude :</span></dt><dd>[97.5941]</dd><dt><span>westernmost_longitude :</span></dt><dd>[65.1593]</dd><dt><span>source :</span></dt><dd>MODIS sea surface temperature observations for the OBPG</dd><dt><span>platform :</span></dt><dd>Aqua</dd><dt><span>sensor :</span></dt><dd>MODIS</dd><dt><span>metadata_link :</span></dt><dd>http://podaac.jpl.nasa.gov/ws/metadata/dataset/?format=iso&amp;shortName=MODIS_A-JPL-L2P-v2019.0</dd><dt><span>keywords :</span></dt><dd>Oceans &gt; Ocean Temperature &gt; Sea Surface Temperature</dd><dt><span>keywords_vocabulary :</span></dt><dd>NASA Global Change Master Directory (GCMD) Science Keywords</dd><dt><span>standard_name_vocabulary :</span></dt><dd>NetCDF Climate and Forecast (CF) Metadata Convention</dd><dt><span>geospatial_lat_units :</span></dt><dd>degrees_north</dd><dt><span>geospatial_lat_resolution :</span></dt><dd>[0.01]</dd><dt><span>geospatial_lon_units :</span></dt><dd>degrees_east</dd><dt><span>geospatial_lon_resolution :</span></dt><dd>[0.01]</dd><dt><span>acknowledgment :</span></dt><dd>The MODIS L2P sea surface temperature data are sponsored by NASA</dd><dt><span>creator_name :</span></dt><dd>Ed Armstrong, JPL PO.DAAC</dd><dt><span>creator_email :</span></dt><dd>edward.m.armstrong@jpl.nasa.gov</dd><dt><span>creator_url :</span></dt><dd>http://podaac.jpl.nasa.gov</dd><dt><span>project :</span></dt><dd>Group for High Resolution Sea Surface Temperature</dd><dt><span>publisher_name :</span></dt><dd>The GHRSST Project Office</dd><dt><span>publisher_url :</span></dt><dd>http://www.ghrsst.org</dd><dt><span>publisher_email :</span></dt><dd>ghrsst-po@nceo.ac.uk</dd><dt><span>processing_level :</span></dt><dd>L2P</dd><dt><span>cdm_data_type :</span></dt><dd>swath</dd><dt><span>startDirection :</span></dt><dd>Ascending</dd><dt><span>endDirection :</span></dt><dd>Ascending</dd><dt><span>day_night_flag :</span></dt><dd>Day</dd><dt><span>history_json :</span></dt><dd>[{&quot;date_time&quot;: &quot;2021-11-04T00:50:49.990002+00:00&quot;, &quot;derived_from&quot;: &quot;https://archive.podaac.earthdata.nasa.gov/podaac-ops-cumulus-protected/MODIS_A-JPL-L2P-v2019.0/20211101084001-JPL-L2P_GHRSST-SSTskin-MODIS_A-D-v02.0-fv01.0.nc&quot;, &quot;program&quot;: &quot;l2ss-py&quot;, &quot;version&quot;: &quot;1.1.0&quot;, &quot;parameters&quot;: &quot;bbox=[[60.0, 90.0], [-45.75, -45.0]] cut=True&quot;, &quot;program_ref&quot;: &quot;https://cmr.earthdata.nasa.gov:443/search/concepts/S1962070864-POCLOUD&quot;, &quot;$schema&quot;: &quot;https://harmony.earthdata.nasa.gov/schemas/history/0.1.0/history-v0.1.0.json&quot;}]</dd></dl></div></li></ul></div></div>"
      ],
      "text/plain": [
       "<xarray.Dataset>\n",
       "Dimensions:                  (nj: 366, ni: 1154, time: 1)\n",
       "Coordinates:\n",
       "    lat                      (nj, ni, time) float32 ...\n",
       "    lon                      (nj, ni, time) float32 ...\n",
       "  * time                     (time) datetime64[ns] 2021-11-01T08:40:01\n",
       "Dimensions without coordinates: nj, ni\n",
       "Data variables:\n",
       "    sea_surface_temperature  (time, nj, ni) float32 ...\n",
       "    sst_dtime                (time, nj, ni) timedelta64[ns] ...\n",
       "    quality_level            (time, nj, ni) float32 ...\n",
       "    sses_bias                (time, nj, ni) float32 ...\n",
       "    sses_standard_deviation  (time, nj, ni) float32 ...\n",
       "    l2p_flags                (time, nj, ni) int16 ...\n",
       "    chlorophyll_a            (time, nj, ni) float32 ...\n",
       "    K_490                    (time, nj, ni) float32 ...\n",
       "    wind_speed               (time, nj, ni) float32 ...\n",
       "    dt_analysis              (time, nj, ni) float32 ...\n",
       "Attributes: (12/50)\n",
       "    Conventions:                CF-1.7, ACDD-1.3\n",
       "    title:                      MODIS Aqua L2P SST\n",
       "    summary:                    Sea surface temperature retrievals produced a...\n",
       "    references:                 GHRSST Data Processing Specification v2r5\n",
       "    institution:                NASA/JPL/OBPG/RSMAS\n",
       "    history:                    MODIS L2P created at JPL PO.DAAC\\n2021-11-04 ...\n",
       "    ...                         ...\n",
       "    processing_level:           L2P\n",
       "    cdm_data_type:              swath\n",
       "    startDirection:             Ascending\n",
       "    endDirection:               Ascending\n",
       "    day_night_flag:             Day\n",
       "    history_json:               [{\"date_time\": \"2021-11-04T00:50:49.990002+00..."
      ]
     },
     "metadata": {},
     "output_type": "display_data"
    }
   ],
   "source": [
    "with netcdf_fs.open(url) as f:\n",
    "        ds= xr.open_dataset(f)\n",
    "        display(ds)"
   ]
  },
  {
   "cell_type": "markdown",
   "id": "8f8bfb04-4d58-45df-b6ce-04f4e81ceb88",
   "metadata": {},
   "source": [
    "### Plot the data"
   ]
  },
  {
   "cell_type": "code",
   "execution_count": 40,
   "id": "5df42d42-d010-4095-9675-b3bc16e9f731",
   "metadata": {},
   "outputs": [],
   "source": [
    "# # Determine the lat/lon coordinate names\n",
    "# for coord_name, coord in ds.coords.items():\n",
    "#     if 'units' not in coord.attrs:\n",
    "#         continue\n",
    "#     if coord.attrs['units'] == 'degrees_north':\n",
    "#         lat_var = coord_name\n",
    "#     if coord.attrs['units'] == 'degrees_east':\n",
    "#         lon_var = coord_name\n",
    "\n",
    "# print(f'lat_var={lat_var}')\n",
    "# print(f'lon_var={lon_var}')\n",
    "\n",
    "# # if ds[variable].size == 0:\n",
    "# #     print(\"No data in subsetted region. Exiting\")\n",
    "# #     sys.exit(0)\n",
    "    \n",
    "# import matplotlib.pyplot as plt\n",
    "# import math\n",
    "\n",
    "# fig, axes = plt.subplots(ncols=3, nrows=math.ceil((len(ds.data_vars)/3)))\n",
    "# fig.set_size_inches((15,15))\n",
    "\n",
    "# for count, xvar in enumerate(ds.data_vars):\n",
    "#     if  ds[xvar].dtype == \"timedelta64[ns]\":\n",
    "#         continue\n",
    "#         #ds[xvar].astype('timedelta64[D]').plot(ax=axes[int(count/3)][count%3])\n",
    "#     ds[xvar].plot(ax=axes[int(count/3)][count%3])"
   ]
  },
  {
   "cell_type": "markdown",
   "id": "2da9826f-cc59-419d-81a9-e3b12b0aeac8",
   "metadata": {},
   "source": [
    "### Extra code attempting to read in directly from s3 into xarray:"
   ]
  },
  {
   "cell_type": "code",
   "execution_count": null,
   "id": "bbe6b921-04c3-4e24-b142-d477874fd28e",
   "metadata": {
    "tags": []
   },
   "outputs": [],
   "source": [
    "# netcdf_stores = [netcdf_fs.get_mapper(root=u, check=False) for u in urls]\n",
    "# netcdf_stores\n",
    "\n",
    "# xr.open_mfdataset(netcdf_stores)"
   ]
  }
 ],
 "metadata": {
  "kernelspec": {
   "display_name": "Python 3 (ipykernel)",
   "language": "python",
   "name": "python3"
  },
  "language_info": {
   "codemirror_mode": {
    "name": "ipython",
    "version": 3
   },
   "file_extension": ".py",
   "mimetype": "text/x-python",
   "name": "python",
   "nbconvert_exporter": "python",
   "pygments_lexer": "ipython3",
   "version": "3.9.7"
  }
 },
 "nbformat": 4,
 "nbformat_minor": 5
}
