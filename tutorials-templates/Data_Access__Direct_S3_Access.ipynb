{
  "cells": [
    {
      "cell_type": "markdown",
      "metadata": {},
      "source": [
        "# Direct S3 Data Access"
      ]
    },
    {
      "cell_type": "raw",
      "metadata": {},
      "source": [
        "---\n",
        "\n",
        "## Timing\n",
        "\n",
        "- Exercise: 20 minutes  \n",
        "\n",
        "---"
      ]
    },
    {
      "cell_type": "markdown",
      "metadata": {},
      "source": [
        "## Summary  \n",
        "\n",
        "In the previous exercises we searched for and discovered cloud data assets that met certain search criteria (i.e., intersects with our region of interest and for a specified date range). The end goal was to find and save web links to the data assets we want to use in our workflow. The links we found allow us to download data via HTTPS (Hypertext Transfer Protocol Secure). However, NASA allows for direct in-region S3 bucket access for the same assets. In addition to saving the HTTPS links, we also created and saved the S3 links for those same cloud assets and we will use them here. In this exercise we will demonstrate how to perform direction in-region S3 bucket access for Harmonized Landsat Sentinel-2 (HLS) cloud data assets.  \n",
        "\n",
        "### Direct S3 Access  \n",
        "\n",
        "NASA Eartdata Cloud provides two pathways for accessing data from the cloud. The first is via HTTPS. The other is through direct S3 bucket access. Below are some benefits and considerations when choosing to use direct S3 bucket access for NASA cloud assets.  \n",
        "\n",
        "#### Benefits  \n",
        "\n",
        "- Retrieve data is very quickly  \n",
        "- No need to download data! Work with data in a more efficient manner  \n",
        "- Increased capacity to do parallel processing  \n",
        "- You are working completely with the AWS cloud ecosystem and thus have access to the might of all AWS offerings (e.g., infrastructure, S3 API, services, etc.)  \n",
        "\n",
        "#### Considerations  \n",
        "\n",
        "- If you're workflow is in the cloud, choose S3 over HTTPS  \n",
        "- Access only works within AWS us-west-2 region  \n",
        "- Need an AWS S3 “token” to access S3 Bucket  \n",
        "- Token expires after 1 hour  \n",
        "- Token only works at the DAAC that generates it, e.g.,  \n",
        "    - PO.DAAC token generator: <https://archive.podaac.earthdata.nasa.gov/s3credentials>  \n",
        "    - LP DAAC token generator: <https://data.lpdaac.earthdatacloud.nasa.gov/s3credentials>  \n",
        "- S3 on its own does not solve ‘cloud’ problems, but it is one key technology in solving big data problems  \n",
        "- Still have to load things in to memory, parallelize the computation, if working with really large data volumes. There are a lot of tool that allow you to do that, not discussed in this tutorial  \n",
        "\n",
        "## What you will learn from this tutorial   \n",
        "\n",
        "- how to retrieve temporary S3 credentials for in-region direct S3 bucket access  \n",
        "- how to configure our notebook environment for in-region direct S3 bucket access  \n",
        "- how to access a single HLS file via in-region direct S3 bucket access  \n",
        "- how to create an HLS time series data array from cloud assets via in-region direct S3 bucket access  \n",
        "- how to plot results  "
      ]
    },
    {
      "cell_type": "markdown",
      "metadata": {},
      "source": [
        "---\n",
        "\n",
        "## Import Required Packages"
      ]
    },
    {
      "cell_type": "code",
      "metadata": {},
      "source": [
        "#"
      ],
      "execution_count": null,
      "outputs": []
    },
    {
      "cell_type": "markdown",
      "metadata": {},
      "source": [
        "## Configure Local Environment and Get Temporary Credentials  \n",
        "\n",
        "To perform direct S3 data access one needs to acquire temporary S3 credentials. The credentials give users direct access to S3 buckets in NASA Earthdata Cloud. **AWS credentials should not be shared**, so take precautions when using them in notebooks our scripts. **Note,** these temporary credentials are valid for only **1 hour**. For more information regarding the temporary credentials visit <https://data.lpdaac.earthdatacloud.nasa.gov/s3credentialsREADME>. A `netrc` file is required to aquire these credentials. Use the [NASA Earthdata Authentication](NASA_Earthdata_Authentication.ipynb) to create a `netrc` file in your home directory."
      ]
    },
    {
      "cell_type": "code",
      "metadata": {},
      "source": [
        "#"
      ],
      "execution_count": null,
      "outputs": []
    },
    {
      "cell_type": "code",
      "metadata": {},
      "source": [
        "#"
      ],
      "execution_count": null,
      "outputs": []
    },
    {
      "cell_type": "code",
      "metadata": {},
      "source": [
        "#"
      ],
      "execution_count": null,
      "outputs": []
    },
    {
      "cell_type": "markdown",
      "metadata": {},
      "source": [
        "### Insert the credentials into our `boto3` session and configure our `rasterio` environment for data access\n",
        "\n",
        "Create a boto3 Session object using your temporary credentials. This Session is used to pass credentials and configuration to AWS so we can interact wit S3 objects from applicable buckets."
      ]
    },
    {
      "cell_type": "code",
      "metadata": {},
      "source": [
        "#"
      ],
      "execution_count": null,
      "outputs": []
    },
    {
      "cell_type": "markdown",
      "metadata": {},
      "source": [
        "For this exercise, we are going to open up a context manager for the notebook using the `rasterio.env` module to store the required GDAL and AWS configurations we need to access the data in Earthdata Cloud. While the context manager is open (`rio_env.__enter__()`) we will be able to run the open or get  data commands that would typically be executed within a `with` statement, thus allowing us to more freely interact with the data. We’ll close the context (`rio_env.__exit__()`) at the end of the notebook.\n",
        "\n",
        "GDAL environment variables must be configured to access Earthdata Cloud data assets. Geospatial data access Python packages like `rasterio` and `rioxarray` depend on GDAL, leveraging GDAL's \"Virtual File Systems\" to read remote files. GDAL has a lot of environment variables that control it's behavior. Changing these settings can mean the difference being able to access a file or not. They can also have an impact on the performance."
      ]
    },
    {
      "cell_type": "code",
      "metadata": {},
      "source": [
        "#"
      ],
      "execution_count": null,
      "outputs": []
    },
    {
      "cell_type": "markdown",
      "metadata": {},
      "source": [
        "## Read in S3 Links\n",
        "\n",
        "In the [CMR-STAC API](Data_Discovery__CMR-STAC_API.ipynb) tutorial we saved off multiple text file containing links, both HTTPS and S3 links, to Harmonized Landsat Sentinel-2 (HLS) cloud data assets. We will now read in one of those file and show how to access those data assets.\n",
        "\n",
        "### List the available files in the data directory"
      ]
    },
    {
      "cell_type": "code",
      "metadata": {},
      "source": [
        "#"
      ],
      "execution_count": null,
      "outputs": []
    },
    {
      "cell_type": "markdown",
      "metadata": {},
      "source": [
        "We will safe our list of links and a single link as Python objects for use later."
      ]
    },
    {
      "cell_type": "code",
      "metadata": {},
      "source": [
        "#"
      ],
      "execution_count": null,
      "outputs": []
    },
    {
      "cell_type": "code",
      "metadata": {},
      "source": [
        "#"
      ],
      "execution_count": null,
      "outputs": []
    },
    {
      "cell_type": "markdown",
      "metadata": {},
      "source": [
        "## Read in a single HLS file\n",
        "\n",
        "We'll access the HLS S3 object using the [`rioxarray`](https://corteva.github.io/rioxarray/stable/) Python package. The package is an extension of `xarray` and `rasterio`, allowing users to read in and interact with geospatial data using xarray data structures. We will also be leveraging the tight integration between xarray and dask to lazily read in data via the `chunks` parameter. This allows us to connect to the HLS S3 object, reading only metadata, an not load the data into memory until we request it via the `loads()` function. "
      ]
    },
    {
      "cell_type": "code",
      "metadata": {},
      "source": [
        "#"
      ],
      "execution_count": null,
      "outputs": []
    },
    {
      "cell_type": "markdown",
      "metadata": {},
      "source": [
        "When GeoTIFFS/Cloud Optimized GeoTIFFS are read in, a `band` coordinate variable is automatically created (see the print out above). In this exercise we will not use that coordinate variable, so we will remove it using the `squeeze()` function to avoid confusion. "
      ]
    },
    {
      "cell_type": "code",
      "metadata": {},
      "source": [
        "#"
      ],
      "execution_count": null,
      "outputs": []
    },
    {
      "cell_type": "markdown",
      "metadata": {},
      "source": [
        "### Plot the HLS S3 object"
      ]
    },
    {
      "cell_type": "code",
      "metadata": {},
      "source": [
        "#"
      ],
      "execution_count": null,
      "outputs": []
    },
    {
      "cell_type": "markdown",
      "metadata": {},
      "source": [
        "We can print out the data value as a numpy array by typing `.values`"
      ]
    },
    {
      "cell_type": "code",
      "metadata": {},
      "source": [
        "#"
      ],
      "execution_count": null,
      "outputs": []
    },
    {
      "cell_type": "markdown",
      "metadata": {},
      "source": [
        "Up to this point, we have not saved anything but metadata into memory. To save or load the data into memory we can call the `.load()` function. "
      ]
    },
    {
      "cell_type": "code",
      "metadata": {},
      "source": [
        "#"
      ],
      "execution_count": null,
      "outputs": []
    },
    {
      "cell_type": "code",
      "metadata": {},
      "source": [
        "#"
      ],
      "execution_count": null,
      "outputs": []
    },
    {
      "cell_type": "markdown",
      "metadata": {},
      "source": [
        "## Read in HLS as a time series\n",
        "\n",
        "Now we'll read in multiple HLS S3 objects as a time series xarray. Let's print the links list again to see what we're working with."
      ]
    },
    {
      "cell_type": "code",
      "metadata": {},
      "source": [
        "#"
      ],
      "execution_count": null,
      "outputs": []
    },
    {
      "cell_type": "markdown",
      "metadata": {},
      "source": [
        "Currently, the utilities and packages used in Python to read in GeoTIFF/COG file do not recognize associated dates stored in the internal metadata. To account for the dates for each file we must create a time variable and add it as a dimension in our final time series xarray. We'll create a function that extracts the date from the file link and create an xarray variable with a time array of datetime objects. "
      ]
    },
    {
      "cell_type": "code",
      "metadata": {},
      "source": [
        "#"
      ],
      "execution_count": null,
      "outputs": []
    },
    {
      "cell_type": "code",
      "metadata": {},
      "source": [
        "#"
      ],
      "execution_count": null,
      "outputs": []
    },
    {
      "cell_type": "markdown",
      "metadata": {},
      "source": [
        "We'll now specify a chunk size to use that matches the internal tiling of HLS files. This will help improve performance."
      ]
    },
    {
      "cell_type": "code",
      "metadata": {},
      "source": [
        "#"
      ],
      "execution_count": null,
      "outputs": []
    },
    {
      "cell_type": "markdown",
      "metadata": {},
      "source": [
        "Now, we will create our time series."
      ]
    },
    {
      "cell_type": "code",
      "metadata": {},
      "source": [
        "#"
      ],
      "execution_count": null,
      "outputs": []
    },
    {
      "cell_type": "markdown",
      "metadata": {},
      "source": [
        "Since we used the `chunks` parameter while reading the data, the `hls_ts_da` object is not read into memory yet. To do that we'll use the `load()` function.\n",
        "\n",
        "Now, we'll see what we have. Use `hvplot` to plot our time series"
      ]
    },
    {
      "cell_type": "code",
      "metadata": {},
      "source": [
        "#"
      ],
      "execution_count": null,
      "outputs": []
    },
    {
      "cell_type": "code",
      "metadata": {},
      "source": [
        "#"
      ],
      "execution_count": null,
      "outputs": []
    },
    {
      "cell_type": "code",
      "metadata": {},
      "source": [
        "#"
      ],
      "execution_count": null,
      "outputs": []
    },
    {
      "cell_type": "raw",
      "metadata": {},
      "source": [
        "---"
      ]
    },
    {
      "cell_type": "markdown",
      "metadata": {},
      "source": [
        "## Concluding Remarks\n",
        "\n",
        "The above exercise demonstrated how to perform in-region direct S3 bucket access for HLS cloud data assets. HLS cloud data assets are stored as [Cloud Optimized GeoTIFFs](https://www.cogeo.org/), a format that has been the benifactor of data discovery and access advancements within the Python ecosystem. Knowing what the data storage format is (e.g., COG, netcdf4, or zarr store) and/or what data access protocol you're using is critical in determining what Python data access method you will use. For COG data, `rioxarray` package is often prefered due to is ability to bring the geospatial data format into an `xarray` object. For netcdf4 files, the standard `xarray` package incombination with `s3fs` allow users to perform in-region direct access reads into an xarray object. Finally, if you are using OPeNDAP to connect to data, specialized packages like `pydap` have been integrated into `xarray` for streamline access directly to an `xarray` object. "
      ]
    },
    {
      "cell_type": "raw",
      "metadata": {},
      "source": [
        "---\n",
        "\n",
        "## Resourses\n",
        "\n",
        "- [Build time series from multiple GeoTIFF files](https://stackoverflow.com/questions/46899337/convert-raster-time-series-of-multiple-geotiff-images-to-netcdf)\n",
        "- [Hvplot/Holoview Colormap](https://holoviews.org/user_guide/Colormaps.html)\n",
        "- https://git.earthdata.nasa.gov/projects/LPDUR/repos/lpdaac_cloud_data_access/browse\n",
        "- https://git.earthdata.nasa.gov/projects/LPDUR/repos/hls-tutorial/browse\n",
        "\n",
        "---"
      ]
    }
  ],
  "metadata": {
    "kernelspec": {
      "display_name": "Python 3",
      "language": "python",
      "name": "python3"
    }
  },
  "nbformat": 4,
  "nbformat_minor": 4
}